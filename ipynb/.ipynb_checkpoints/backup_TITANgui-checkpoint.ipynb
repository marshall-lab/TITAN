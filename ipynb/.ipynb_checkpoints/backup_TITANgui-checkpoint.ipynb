{
 "cells": [
  {
   "cell_type": "markdown",
   "metadata": {
    "extensions": {
     "jupyter_dashboards": {
      "version": 1,
      "views": {
       "grid_default": {
        "col": 0,
        "height": 4,
        "hidden": true,
        "row": 15,
        "width": 4
       },
       "report_default": {}
      }
     }
    }
   },
   "source": [
    "Import all of the required packages for this notebook"
   ]
  },
  {
   "cell_type": "code",
   "execution_count": 1,
   "metadata": {
    "extensions": {
     "jupyter_dashboards": {
      "version": 1,
      "views": {
       "grid_default": {
        "hidden": true
       },
       "report_default": {
        "hidden": true
       }
      }
     }
    }
   },
   "outputs": [
    {
     "data": {
      "text/html": [
       "<script>requirejs.config({paths: { 'plotly': ['https://cdn.plot.ly/plotly-latest.min']},});if(!window.Plotly) {{require(['plotly'],function(plotly) {window.Plotly=plotly;});}}</script>"
      ],
      "text/vnd.plotly.v1+html": [
       "<script>requirejs.config({paths: { 'plotly': ['https://cdn.plot.ly/plotly-latest.min']},});if(!window.Plotly) {{require(['plotly'],function(plotly) {window.Plotly=plotly;});}}</script>"
      ]
     },
     "metadata": {},
     "output_type": "display_data"
    }
   ],
   "source": [
    "#System and math\n",
    "import sys \n",
    "import os\n",
    "import numpy as np\n",
    "from scipy.stats import binom\n",
    "\n",
    "#Viz\n",
    "import matplotlib.pyplot as plt\n",
    "import networkx as nx\n",
    "import pandas as pd\n",
    "import plotly.plotly as py\n",
    "import plotly.graph_objs as go\n",
    "import plotly.figure_factory as ff\n",
    "\n",
    "#Notebook features\n",
    "from plotly.offline import download_plotlyjs, init_notebook_mode, plot, iplot\n",
    "from ipywidgets import widgets, interact, interactive\n",
    "init_notebook_mode(connected=True)\n",
    "\n",
    "#Get path for TITAN model src\n",
    "sys.path.append(os.path.relpath(\"../src\"))\n",
    "\n",
    "import ABM_core as tc\n",
    "import run_titan as tt\n",
    "import params"
   ]
  },
  {
   "cell_type": "code",
   "execution_count": 2,
   "metadata": {
    "extensions": {
     "jupyter_dashboards": {
      "version": 1,
      "views": {
       "grid_default": {
        "hidden": true
       },
       "report_default": {
        "hidden": true
       }
      }
     }
    },
    "scrolled": false
   },
   "outputs": [],
   "source": [
    "out = widgets.Output(layout={'border': '1px solid black'})\n",
    "out_network = widgets.Output(layout={'border': '1px solid black'})\n",
    "out_distrib = widgets.Output(layout={'border': '1px solid black'})\n",
    "out_df = widgets.Output(layout={'border': '1px solid black'})\n",
    "df = pd.DataFrame()\n",
    "RSLTS = {}"
   ]
  },
  {
   "cell_type": "code",
   "execution_count": 3,
   "metadata": {
    "extensions": {
     "jupyter_dashboards": {
      "version": 1,
      "views": {
       "grid_default": {
        "col": 0,
        "height": 14,
        "hidden": true,
        "row": 40,
        "width": 4
       },
       "report_default": {}
      }
     }
    },
    "scrolled": true
   },
   "outputs": [],
   "source": [
    "def setParams(burnDur, calSA, calSP, calNA, calNP, calMort, calRRDx, calRRArt,calPXmn,calIncar,calARTcov,calTestFq):\n",
    "    params.burnDuration=burnDur\n",
    "    params.cal_SexualActScaling=calSA\n",
    "    params.cal_SexualPartScaling=calSP\n",
    "    params.cal_NeedleActScaling=calNA\n",
    "    params.cal_NeedlePartScaling=calNP\n",
    "    params.cal_Mortality=calMort\n",
    "    params.cal_RR_Dx=calRRDx\n",
    "    params.cal_RR_HAART=calRRArt\n",
    "    params.cal_pXmissionScaling=calPXmn\n",
    "    params.cal_IncarP=calIncar\n",
    "    params.cal_ART_cov=calARTcov\n",
    "    params.cal_TestFreq=calTestFq\n",
    "\n",
    "y=interactive(setParams,\n",
    "              burnDur=widgets.IntSlider(description='Burn',\n",
    "                                       continuous_update=False, \n",
    "                                       min=0, \n",
    "                                       value=params.burnDuration),\n",
    "              calSA=widgets.FloatSlider(description='Sex Acts',\n",
    "                                       continuous_update=False, \n",
    "                                       min=0., \n",
    "                                       max=3.0,\n",
    "                                       value=params.cal_SexualActScaling),\n",
    "              calSP=widgets.FloatSlider(description='Sex Ptns',\n",
    "                                       continuous_update=False, \n",
    "                                       min=0., \n",
    "                                       max=3.0,\n",
    "                                       value=params.cal_SexualPartScaling),\n",
    "              calNA=widgets.FloatSlider(description='Needle Acts',\n",
    "                                       continuous_update=False, \n",
    "                                       min=0., \n",
    "                                       max=3.0,\n",
    "                                       value=params.cal_NeedleActScaling),\n",
    "              calNP=widgets.FloatSlider(description='Needle Ptns',\n",
    "                                       continuous_update=False, \n",
    "                                       min=0., \n",
    "                                       max=3.0,\n",
    "                                       value=params.cal_NeedlePartScaling),\n",
    "              calMort=widgets.FloatSlider(description='Mortality',\n",
    "                                       continuous_update=False, \n",
    "                                       min=0., \n",
    "                                       max=3.0,\n",
    "                                       value=params.cal_Mortality),\n",
    "              calRRDx=widgets.FloatSlider(description='RR Dx',\n",
    "                                       continuous_update=False, \n",
    "                                       min=0., \n",
    "                                       max=3.0,\n",
    "                                       value=params.cal_RR_Dx),\n",
    "              calRRArt=widgets.FloatSlider(description='RR ART',\n",
    "                                       continuous_update=False, \n",
    "                                       min=0., \n",
    "                                       max=3.0,\n",
    "                                       value=params.cal_RR_HAART),\n",
    "              calPXmn=widgets.FloatSlider(description='P Xmission',\n",
    "                                       continuous_update=False, \n",
    "                                       min=0.,\n",
    "                                       max=3.0,\n",
    "                                       value=params.cal_pXmissionScaling),\n",
    "              calIncar=widgets.FloatSlider(description='P Incar',\n",
    "                                       continuous_update=False, \n",
    "                                       min=0., \n",
    "                                       max=3.0,\n",
    "                                       value=params.cal_IncarP),\n",
    "              calARTcov=widgets.FloatSlider(description='ART Cov',\n",
    "                                       continuous_update=False, \n",
    "                                       min=0.,\n",
    "                                       max=3.0,\n",
    "                                       value=params.cal_ART_cov),\n",
    "              calTestFq=widgets.FloatSlider(description='Test Freq',\n",
    "                                       continuous_update=False, \n",
    "                                       min=0.,\n",
    "                                       max=3.0,\n",
    "                                       value=params.cal_TestFreq),\n",
    "             )"
   ]
  },
  {
   "cell_type": "code",
   "execution_count": 4,
   "metadata": {
    "extensions": {
     "jupyter_dashboards": {
      "version": 1,
      "views": {
       "grid_default": {
        "hidden": true
       },
       "report_default": {}
      }
     }
    }
   },
   "outputs": [],
   "source": [
    "nMC = widgets.IntSlider(description='nMC',continuous_update=False, min=1, max=100, value=1)\n",
    "nPop = widgets.IntSlider(description='nPop',continuous_update=False, min=1, max=100000, value=100)\n",
    "tMax = widgets.IntSlider(description='tMax',continuous_update=False, min=0, max=156, value=12)\n",
    "seed = widgets.IntSlider(description='seed',continuous_update=False, min=-1,max=10, value=1)\n",
    "draw = widgets.Checkbox(description='Draw Network',value=True,disabled=False)\n",
    "uniqueseed = widgets.Checkbox(description='Unique Seed',value=False,disabled=False)\n",
    "ui_params = widgets.VBox([nMC, nPop, tMax, seed, draw,uniqueseed])\n",
    "\n",
    "\n",
    "\n",
    "prog = widgets.IntProgress(\n",
    "        value=0,\n",
    "        min=0,\n",
    "        max=tMax.value,\n",
    "        step=1,\n",
    "        description='Progress:',\n",
    "        bar_style='info'\n",
    "        )\n",
    "run = widgets.Button(\n",
    "    description='Run Model',\n",
    "    disabled=False,\n",
    "    button_style='success', # 'success', 'info', 'warning', 'danger' or ''\n",
    "    tooltip='Start model with given params',\n",
    "    icon='play'\n",
    ")\n",
    "reset = widgets.Button(\n",
    "    description='Reset',\n",
    "    disabled=False,\n",
    "    button_style='danger', # 'success', 'info', 'warning', 'danger' or ''\n",
    "    tooltip='Clear outputs',\n",
    "    icon='stop'\n",
    ")\n",
    "\n",
    "\n",
    "widgets.jslink((nMC, 'value'), (prog, 'max'))\n",
    "ui_buttons = widgets.HBox([run, reset])\n",
    "ui = widgets.VBox([ui_params, ui_buttons, prog])\n",
    "\n",
    "tab_nest = widgets.Tab()\n",
    "tab_nest.children = [ui,y]\n",
    "tab_nest.set_title(0, 'Main')\n",
    "tab_nest.set_title(1, 'Advanced Params')"
   ]
  },
  {
   "cell_type": "code",
   "execution_count": 23,
   "metadata": {
    "extensions": {
     "jupyter_dashboards": {
      "version": 1,
      "views": {
       "grid_default": {
        "col": 0,
        "height": 15,
        "hidden": true,
        "row": 14,
        "width": 8
       },
       "report_default": {
        "hidden": false
       }
      }
     }
    }
   },
   "outputs": [],
   "source": [
    "def on_run_clicked(b):\n",
    "    reset_outputs()\n",
    "    #tt.open_inputs()\n",
    "    global SIM\n",
    "    global df\n",
    "    with out:\n",
    "        if nMC.value <= 1:\n",
    "            SIM = makeModel(nMC.value, nPop.value, tMax.value, seed.value)\n",
    "            SIM.run()\n",
    "            RSLTS = SIM.return_results()\n",
    "            print RSLTS\n",
    "            df = df.append(pd.DataFrame(RSLTS))\n",
    "            print df\n",
    "        else:\n",
    "            for i in range(nMC.value+1):\n",
    "                SIM = makeModel(nMC.value, nPop.value, tMax.value, seed.value)\n",
    "                prog.value = i\n",
    "                SIM.run()\n",
    "                RSLTS = SIM.return_results()\n",
    "                df = df.append(pd.DataFrame(RSLTS))\n",
    "        with out_distrib:\n",
    "            if draw.value:\n",
    "                for result_property in sorted(RSLTS):\n",
    "                    #print result_property, rslts[result_property]\n",
    "                    lists = sorted(RSLTS[result_property].items())\n",
    "                    if lists:\n",
    "                        x,y = zip(*lists)\n",
    "                        plt.title(\"%s vs Time\\nTime\"%(result_property))\n",
    "                        plt.xlabel(\"Time\")\n",
    "                        plt.plot(x,y)\n",
    "                        plt.xticks(np.arange(0, tMax.value+1, step=12))\n",
    "                        plt.show()\n",
    "\n",
    "                #draw_Histogram()\n",
    "        with out_network:\n",
    "            if draw.value:\n",
    "                #TMP.networkGraph.visualize_network(coloring='HIV',node_size=25)\n",
    "                #TMP.networkGraph.draw_histogram(t)\n",
    "                drawThePlots(tMax.value)\n",
    "\n",
    "        #df = df.append(pd.DataFrame(RSLTS))\n",
    "        with out_df:\n",
    "            #Create table for dataframe\n",
    "            #table = ff.create_table(df)\n",
    "            #iplot(table)\n",
    "            drawThese = ['Inc_c_Tot']\n",
    "            for col in drawThese:\n",
    "                data = []\n",
    "                data.append(  go.Box( y=(df[col][tMax.value]), name=col, showlegend=False ) )\n",
    "                iplot(data)\n",
    "            #data.append( go.Scatter( x = df.columns, y = df.mean(), mode='lines', name='mean' ) )\n",
    "            \n",
    "            #plt.figure()\n",
    "            #bp = df.boxplot()\n",
    "\n",
    "def on_reset_clicked(b):\n",
    "    global df\n",
    "    df=pd.DataFrame()\n",
    "    reset_outputs()\n",
    "    tmp = seed.value\n",
    "    seed.value=0\n",
    "    seed.value=tmp\n",
    "    prog.value=0\n",
    "\n",
    "def reset_outputs():\n",
    "    outs = [out, out_network, out_distrib, out_df]\n",
    "    for o in outs:\n",
    "        o.clear_output()\n",
    "\n",
    "def makeModel(MC, N, T, S):\n",
    "    SIM = tt.HIVModel(N=nPop.value, tmax=tMax.value, parameter_dict={}, rseed=seed.value, \n",
    "                      runtime_diffseed=uniqueseed.value, model='ASDF', network_type='ASDF')\n",
    "    #TMP.TimeStep = 0\n",
    "    #G = TMP.networkGraph.G\n",
    "    return SIM\n",
    "\n",
    "def drawThePlots(drawMaxT, drawThis='Inc_c_Tot', title='', xTitle='', yTitle=''):\n",
    "    tdf = df\n",
    "    tdf.index.name = 'Time'\n",
    "    tdf = tdf.reset_index()\n",
    "\n",
    "    #drawThis = 'Inc_c_Tot'\n",
    "    data = []\n",
    "    superscat = []\n",
    "    end = drawMaxT\n",
    "    for t in range(end):\n",
    "        data.append(  go.Box(x=t, y=(tdf.loc[tdf['Time']==t][drawThis]), name=t, boxpoints = 'suspectedoutliers',\n",
    "        marker = dict(\n",
    "            color = 'rgb(107,174,214)',\n",
    "            outliercolor = 'rgba(219, 64, 82, 0.6)',\n",
    "            line = dict(\n",
    "                outliercolor = 'rgba(219, 64, 82, 0.6)',\n",
    "                outlierwidth = 2)),\n",
    "        line = dict(\n",
    "            color = 'rgb(107,174,214)'), showlegend=False ) )\n",
    "        superscat.append(tdf.loc[tdf['Time']==t][drawThis].mean())\n",
    "\n",
    "    data.append( go.Scatter(x = range(1,end), y = superscat, name='Mean', mode='lines',showlegend=False) )\n",
    "\n",
    "    iplot(data)\n",
    "\n",
    "\n",
    "run.on_click(on_run_clicked)\n",
    "reset.on_click(on_reset_clicked)\n",
    "#widgets.jslink((tMax, 'value'), (prog, 'max'))\n",
    "init = widgets.interactive_output(makeModel, {'MC': nMC, 'N': nPop, 'T': tMax, 'S': seed})\n",
    "main = widgets.HBox([tab_nest, init])"
   ]
  },
  {
   "cell_type": "code",
   "execution_count": 6,
   "metadata": {
    "extensions": {
     "jupyter_dashboards": {
      "version": 1,
      "views": {
       "grid_default": {
        "col": 0,
        "height": 14,
        "hidden": false,
        "row": 0,
        "width": 8
       },
       "report_default": {}
      }
     }
    },
    "scrolled": false
   },
   "outputs": [
    {
     "data": {
      "application/vnd.jupyter.widget-view+json": {
       "model_id": "9eacedf3cd034380a2ff28ee556d1b9a",
       "version_major": 2,
       "version_minor": 0
      },
      "text/plain": [
       "SEJveChjaGlsZHJlbj0oVGFiKGNoaWxkcmVuPShWQm94KGNoaWxkcmVuPShWQm94KGNoaWxkcmVuPShJbnRTbGlkZXIodmFsdWU9MSwgY29udGludW91c191cGRhdGU9RmFsc2UsIGRlc2NyaXDigKY=\n"
      ]
     },
     "metadata": {},
     "output_type": "display_data"
    }
   ],
   "source": [
    "display(main)"
   ]
  },
  {
   "cell_type": "code",
   "execution_count": 7,
   "metadata": {
    "extensions": {
     "jupyter_dashboards": {
      "version": 1,
      "views": {
       "grid_default": {
        "col": 0,
        "height": 12,
        "hidden": false,
        "row": 14,
        "width": 8
       },
       "report_default": {}
      }
     }
    },
    "scrolled": false
   },
   "outputs": [
    {
     "data": {
      "application/vnd.jupyter.widget-view+json": {
       "model_id": "cf22ce335f3342da81f8fc6573d4112c",
       "version_major": 2,
       "version_minor": 0
      },
      "text/plain": [
       "Output(layout=Layout(border=u'1px solid black'))"
      ]
     },
     "metadata": {},
     "output_type": "display_data"
    }
   ],
   "source": [
    "out"
   ]
  },
  {
   "cell_type": "code",
   "execution_count": 8,
   "metadata": {
    "extensions": {
     "jupyter_dashboards": {
      "version": 1,
      "views": {
       "grid_default": {
        "col": 8,
        "height": 55,
        "hidden": false,
        "row": 0,
        "width": 4
       },
       "report_default": {
        "hidden": true
       }
      }
     }
    },
    "scrolled": false
   },
   "outputs": [
    {
     "data": {
      "application/vnd.jupyter.widget-view+json": {
       "model_id": "51497fd178a949958995a5a0be4c194d",
       "version_major": 2,
       "version_minor": 0
      },
      "text/plain": [
       "Output(layout=Layout(border=u'1px solid black'))"
      ]
     },
     "metadata": {},
     "output_type": "display_data"
    }
   ],
   "source": [
    "out_distrib"
   ]
  },
  {
   "cell_type": "code",
   "execution_count": 24,
   "metadata": {
    "extensions": {
     "jupyter_dashboards": {
      "version": 1,
      "views": {
       "grid_default": {
        "col": 0,
        "height": 14,
        "hidden": false,
        "row": 26,
        "width": 8
       },
       "report_default": {}
      }
     }
    },
    "scrolled": false
   },
   "outputs": [
    {
     "data": {
      "application/vnd.jupyter.widget-view+json": {
       "model_id": "98bf67ac65a94c71a664812ef56b3347",
       "version_major": 2,
       "version_minor": 0
      },
      "text/plain": [
       "T3V0cHV0KGxheW91dD1MYXlvdXQoYm9yZGVyPXUnMXB4IHNvbGlkIGJsYWNrJyksIG91dHB1dHM9KHt1J291dHB1dF90eXBlJzogdSdlcnJvcicsIHUnZXZhbHVlJzogdSJJbnZhbGlkIHByb3DigKY=\n"
      ]
     },
     "metadata": {},
     "output_type": "display_data"
    }
   ],
   "source": [
    "out_network"
   ]
  },
  {
   "cell_type": "code",
   "execution_count": 25,
   "metadata": {
    "scrolled": false
   },
   "outputs": [
    {
     "ename": "ValueError",
     "evalue": "\n    Invalid value of type '__builtin__.int' received for the 'x' property of box\n        Received value: 0\n\n    The 'x' property is an array that may be specified as a tuple,\n    list, numpy array, or pandas Series",
     "output_type": "error",
     "traceback": [
      "\u001b[0;31m---------------------------------------------------------------------------\u001b[0m",
      "\u001b[0;31mValueError\u001b[0m                                Traceback (most recent call last)",
      "\u001b[0;32m<ipython-input-25-15f495b5b614>\u001b[0m in \u001b[0;36m<module>\u001b[0;34m()\u001b[0m\n\u001b[1;32m      2\u001b[0m \u001b[0mdrawList\u001b[0m \u001b[0;34m=\u001b[0m \u001b[0;34m[\u001b[0m\u001b[0;34m'Inc_c_Tot'\u001b[0m\u001b[0;34m]\u001b[0m\u001b[0;34m\u001b[0m\u001b[0m\n\u001b[1;32m      3\u001b[0m \u001b[0;32mfor\u001b[0m \u001b[0md\u001b[0m \u001b[0;32min\u001b[0m \u001b[0mdrawList\u001b[0m\u001b[0;34m:\u001b[0m\u001b[0;34m\u001b[0m\u001b[0m\n\u001b[0;32m----> 4\u001b[0;31m     \u001b[0mdrawThePlots\u001b[0m\u001b[0;34m(\u001b[0m\u001b[0;36m10\u001b[0m\u001b[0;34m,\u001b[0m \u001b[0mdrawThis\u001b[0m\u001b[0;34m=\u001b[0m\u001b[0md\u001b[0m\u001b[0;34m)\u001b[0m\u001b[0;34m\u001b[0m\u001b[0m\n\u001b[0m",
      "\u001b[0;32m<ipython-input-23-ae42cb9bbd96>\u001b[0m in \u001b[0;36mdrawThePlots\u001b[0;34m(drawMaxT, drawThis, title, xTitle, yTitle)\u001b[0m\n\u001b[1;32m     93\u001b[0m                 outlierwidth = 2)),\n\u001b[1;32m     94\u001b[0m         line = dict(\n\u001b[0;32m---> 95\u001b[0;31m             color = 'rgb(107,174,214)'), showlegend=False ) )\n\u001b[0m\u001b[1;32m     96\u001b[0m         \u001b[0msuperscat\u001b[0m\u001b[0;34m.\u001b[0m\u001b[0mappend\u001b[0m\u001b[0;34m(\u001b[0m\u001b[0mtdf\u001b[0m\u001b[0;34m.\u001b[0m\u001b[0mloc\u001b[0m\u001b[0;34m[\u001b[0m\u001b[0mtdf\u001b[0m\u001b[0;34m[\u001b[0m\u001b[0;34m'Time'\u001b[0m\u001b[0;34m]\u001b[0m\u001b[0;34m==\u001b[0m\u001b[0mt\u001b[0m\u001b[0;34m]\u001b[0m\u001b[0;34m[\u001b[0m\u001b[0mdrawThis\u001b[0m\u001b[0;34m]\u001b[0m\u001b[0;34m.\u001b[0m\u001b[0mmean\u001b[0m\u001b[0;34m(\u001b[0m\u001b[0;34m)\u001b[0m\u001b[0;34m)\u001b[0m\u001b[0;34m\u001b[0m\u001b[0m\n\u001b[1;32m     97\u001b[0m \u001b[0;34m\u001b[0m\u001b[0m\n",
      "\u001b[0;32m/Users/MaximilianKing/anaconda/envs/TITAN/lib/python2.7/site-packages/plotly/graph_objs/_box.pyc\u001b[0m in \u001b[0;36m__init__\u001b[0;34m(self, arg, boxmean, boxpoints, customdata, customdatasrc, fillcolor, hoverinfo, hoverinfosrc, hoverlabel, hoveron, ids, idssrc, jitter, legendgroup, line, marker, name, notched, notchwidth, opacity, orientation, pointpos, selected, selectedpoints, showlegend, stream, text, textsrc, uid, unselected, visible, whiskerwidth, x, x0, xaxis, xcalendar, xsrc, y, y0, yaxis, ycalendar, ysrc, **kwargs)\u001b[0m\n\u001b[1;32m   1550\u001b[0m         \u001b[0mself\u001b[0m\u001b[0;34m.\u001b[0m\u001b[0mwhiskerwidth\u001b[0m \u001b[0;34m=\u001b[0m \u001b[0mwhiskerwidth\u001b[0m \u001b[0;32mif\u001b[0m \u001b[0mwhiskerwidth\u001b[0m \u001b[0;32mis\u001b[0m \u001b[0;32mnot\u001b[0m \u001b[0mNone\u001b[0m \u001b[0;32melse\u001b[0m \u001b[0m_v\u001b[0m\u001b[0;34m\u001b[0m\u001b[0m\n\u001b[1;32m   1551\u001b[0m         \u001b[0m_v\u001b[0m \u001b[0;34m=\u001b[0m \u001b[0marg\u001b[0m\u001b[0;34m.\u001b[0m\u001b[0mpop\u001b[0m\u001b[0;34m(\u001b[0m\u001b[0;34m'x'\u001b[0m\u001b[0;34m,\u001b[0m \u001b[0mNone\u001b[0m\u001b[0;34m)\u001b[0m\u001b[0;34m\u001b[0m\u001b[0m\n\u001b[0;32m-> 1552\u001b[0;31m         \u001b[0mself\u001b[0m\u001b[0;34m.\u001b[0m\u001b[0mx\u001b[0m \u001b[0;34m=\u001b[0m \u001b[0mx\u001b[0m \u001b[0;32mif\u001b[0m \u001b[0mx\u001b[0m \u001b[0;32mis\u001b[0m \u001b[0;32mnot\u001b[0m \u001b[0mNone\u001b[0m \u001b[0;32melse\u001b[0m \u001b[0m_v\u001b[0m\u001b[0;34m\u001b[0m\u001b[0m\n\u001b[0m\u001b[1;32m   1553\u001b[0m         \u001b[0m_v\u001b[0m \u001b[0;34m=\u001b[0m \u001b[0marg\u001b[0m\u001b[0;34m.\u001b[0m\u001b[0mpop\u001b[0m\u001b[0;34m(\u001b[0m\u001b[0;34m'x0'\u001b[0m\u001b[0;34m,\u001b[0m \u001b[0mNone\u001b[0m\u001b[0;34m)\u001b[0m\u001b[0;34m\u001b[0m\u001b[0m\n\u001b[1;32m   1554\u001b[0m         \u001b[0mself\u001b[0m\u001b[0;34m.\u001b[0m\u001b[0mx0\u001b[0m \u001b[0;34m=\u001b[0m \u001b[0mx0\u001b[0m \u001b[0;32mif\u001b[0m \u001b[0mx0\u001b[0m \u001b[0;32mis\u001b[0m \u001b[0;32mnot\u001b[0m \u001b[0mNone\u001b[0m \u001b[0;32melse\u001b[0m \u001b[0m_v\u001b[0m\u001b[0;34m\u001b[0m\u001b[0m\n",
      "\u001b[0;32m/Users/MaximilianKing/anaconda/envs/TITAN/lib/python2.7/site-packages/plotly/basedatatypes.pyc\u001b[0m in \u001b[0;36m__setattr__\u001b[0;34m(self, prop, value)\u001b[0m\n\u001b[1;32m   2702\u001b[0m                 prop in self._validators):\n\u001b[1;32m   2703\u001b[0m             \u001b[0;31m# Let known properties and private properties through\u001b[0m\u001b[0;34m\u001b[0m\u001b[0;34m\u001b[0m\u001b[0m\n\u001b[0;32m-> 2704\u001b[0;31m             \u001b[0msuper\u001b[0m\u001b[0;34m(\u001b[0m\u001b[0mBasePlotlyType\u001b[0m\u001b[0;34m,\u001b[0m \u001b[0mself\u001b[0m\u001b[0;34m)\u001b[0m\u001b[0;34m.\u001b[0m\u001b[0m__setattr__\u001b[0m\u001b[0;34m(\u001b[0m\u001b[0mprop\u001b[0m\u001b[0;34m,\u001b[0m \u001b[0mvalue\u001b[0m\u001b[0;34m)\u001b[0m\u001b[0;34m\u001b[0m\u001b[0m\n\u001b[0m\u001b[1;32m   2705\u001b[0m         \u001b[0;32melse\u001b[0m\u001b[0;34m:\u001b[0m\u001b[0;34m\u001b[0m\u001b[0m\n\u001b[1;32m   2706\u001b[0m             \u001b[0;31m# Raise error on unknown public properties\u001b[0m\u001b[0;34m\u001b[0m\u001b[0;34m\u001b[0m\u001b[0m\n",
      "\u001b[0;32m/Users/MaximilianKing/anaconda/envs/TITAN/lib/python2.7/site-packages/plotly/graph_objs/_box.pyc\u001b[0m in \u001b[0;36mx\u001b[0;34m(self, val)\u001b[0m\n\u001b[1;32m    831\u001b[0m     \u001b[0;34m@\u001b[0m\u001b[0mx\u001b[0m\u001b[0;34m.\u001b[0m\u001b[0msetter\u001b[0m\u001b[0;34m\u001b[0m\u001b[0m\n\u001b[1;32m    832\u001b[0m     \u001b[0;32mdef\u001b[0m \u001b[0mx\u001b[0m\u001b[0;34m(\u001b[0m\u001b[0mself\u001b[0m\u001b[0;34m,\u001b[0m \u001b[0mval\u001b[0m\u001b[0;34m)\u001b[0m\u001b[0;34m:\u001b[0m\u001b[0;34m\u001b[0m\u001b[0m\n\u001b[0;32m--> 833\u001b[0;31m         \u001b[0mself\u001b[0m\u001b[0;34m[\u001b[0m\u001b[0;34m'x'\u001b[0m\u001b[0;34m]\u001b[0m \u001b[0;34m=\u001b[0m \u001b[0mval\u001b[0m\u001b[0;34m\u001b[0m\u001b[0m\n\u001b[0m\u001b[1;32m    834\u001b[0m \u001b[0;34m\u001b[0m\u001b[0m\n\u001b[1;32m    835\u001b[0m     \u001b[0;31m# x0\u001b[0m\u001b[0;34m\u001b[0m\u001b[0;34m\u001b[0m\u001b[0m\n",
      "\u001b[0;32m/Users/MaximilianKing/anaconda/envs/TITAN/lib/python2.7/site-packages/plotly/basedatatypes.pyc\u001b[0m in \u001b[0;36m__setitem__\u001b[0;34m(self, prop, value)\u001b[0m\n\u001b[1;32m   2674\u001b[0m             \u001b[0;31m# ### Handle simple property ###\u001b[0m\u001b[0;34m\u001b[0m\u001b[0;34m\u001b[0m\u001b[0m\n\u001b[1;32m   2675\u001b[0m             \u001b[0;32melse\u001b[0m\u001b[0;34m:\u001b[0m\u001b[0;34m\u001b[0m\u001b[0m\n\u001b[0;32m-> 2676\u001b[0;31m                 \u001b[0mself\u001b[0m\u001b[0;34m.\u001b[0m\u001b[0m_set_prop\u001b[0m\u001b[0;34m(\u001b[0m\u001b[0mprop\u001b[0m\u001b[0;34m,\u001b[0m \u001b[0mvalue\u001b[0m\u001b[0;34m)\u001b[0m\u001b[0;34m\u001b[0m\u001b[0m\n\u001b[0m\u001b[1;32m   2677\u001b[0m \u001b[0;34m\u001b[0m\u001b[0m\n\u001b[1;32m   2678\u001b[0m         \u001b[0;31m# Handle non-scalar case\u001b[0m\u001b[0;34m\u001b[0m\u001b[0;34m\u001b[0m\u001b[0m\n",
      "\u001b[0;32m/Users/MaximilianKing/anaconda/envs/TITAN/lib/python2.7/site-packages/plotly/basedatatypes.pyc\u001b[0m in \u001b[0;36m_set_prop\u001b[0;34m(self, prop, val)\u001b[0m\n\u001b[1;32m   2904\u001b[0m         \u001b[0;31m# ------------\u001b[0m\u001b[0;34m\u001b[0m\u001b[0;34m\u001b[0m\u001b[0m\n\u001b[1;32m   2905\u001b[0m         \u001b[0mvalidator\u001b[0m \u001b[0;34m=\u001b[0m \u001b[0mself\u001b[0m\u001b[0;34m.\u001b[0m\u001b[0m_validators\u001b[0m\u001b[0;34m.\u001b[0m\u001b[0mget\u001b[0m\u001b[0;34m(\u001b[0m\u001b[0mprop\u001b[0m\u001b[0;34m)\u001b[0m\u001b[0;34m\u001b[0m\u001b[0m\n\u001b[0;32m-> 2906\u001b[0;31m         \u001b[0mval\u001b[0m \u001b[0;34m=\u001b[0m \u001b[0mvalidator\u001b[0m\u001b[0;34m.\u001b[0m\u001b[0mvalidate_coerce\u001b[0m\u001b[0;34m(\u001b[0m\u001b[0mval\u001b[0m\u001b[0;34m)\u001b[0m\u001b[0;34m\u001b[0m\u001b[0m\n\u001b[0m\u001b[1;32m   2907\u001b[0m \u001b[0;34m\u001b[0m\u001b[0m\n\u001b[1;32m   2908\u001b[0m         \u001b[0;31m# val is None\u001b[0m\u001b[0;34m\u001b[0m\u001b[0;34m\u001b[0m\u001b[0m\n",
      "\u001b[0;32m/Users/MaximilianKing/anaconda/envs/TITAN/lib/python2.7/site-packages/_plotly_utils/basevalidators.pyc\u001b[0m in \u001b[0;36mvalidate_coerce\u001b[0;34m(self, v)\u001b[0m\n\u001b[1;32m    311\u001b[0m             \u001b[0mv\u001b[0m \u001b[0;34m=\u001b[0m \u001b[0mto_scalar_or_list\u001b[0m\u001b[0;34m(\u001b[0m\u001b[0mv\u001b[0m\u001b[0;34m)\u001b[0m\u001b[0;34m\u001b[0m\u001b[0m\n\u001b[1;32m    312\u001b[0m         \u001b[0;32melse\u001b[0m\u001b[0;34m:\u001b[0m\u001b[0;34m\u001b[0m\u001b[0m\n\u001b[0;32m--> 313\u001b[0;31m             \u001b[0mself\u001b[0m\u001b[0;34m.\u001b[0m\u001b[0mraise_invalid_val\u001b[0m\u001b[0;34m(\u001b[0m\u001b[0mv\u001b[0m\u001b[0;34m)\u001b[0m\u001b[0;34m\u001b[0m\u001b[0m\n\u001b[0m\u001b[1;32m    314\u001b[0m         \u001b[0;32mreturn\u001b[0m \u001b[0mv\u001b[0m\u001b[0;34m\u001b[0m\u001b[0m\n\u001b[1;32m    315\u001b[0m \u001b[0;34m\u001b[0m\u001b[0m\n",
      "\u001b[0;32m/Users/MaximilianKing/anaconda/envs/TITAN/lib/python2.7/site-packages/_plotly_utils/basevalidators.pyc\u001b[0m in \u001b[0;36mraise_invalid_val\u001b[0;34m(self, v)\u001b[0m\n\u001b[1;32m    214\u001b[0m             \u001b[0mtyp\u001b[0m\u001b[0;34m=\u001b[0m\u001b[0mtype_str\u001b[0m\u001b[0;34m(\u001b[0m\u001b[0mv\u001b[0m\u001b[0;34m)\u001b[0m\u001b[0;34m,\u001b[0m\u001b[0;34m\u001b[0m\u001b[0m\n\u001b[1;32m    215\u001b[0m             \u001b[0mv\u001b[0m\u001b[0;34m=\u001b[0m\u001b[0mrepr\u001b[0m\u001b[0;34m(\u001b[0m\u001b[0mv\u001b[0m\u001b[0;34m)\u001b[0m\u001b[0;34m,\u001b[0m\u001b[0;34m\u001b[0m\u001b[0m\n\u001b[0;32m--> 216\u001b[0;31m             valid_clr_desc=self.description()))\n\u001b[0m\u001b[1;32m    217\u001b[0m \u001b[0;34m\u001b[0m\u001b[0m\n\u001b[1;32m    218\u001b[0m     \u001b[0;32mdef\u001b[0m \u001b[0mraise_invalid_elements\u001b[0m\u001b[0;34m(\u001b[0m\u001b[0mself\u001b[0m\u001b[0;34m,\u001b[0m \u001b[0minvalid_els\u001b[0m\u001b[0;34m)\u001b[0m\u001b[0;34m:\u001b[0m\u001b[0;34m\u001b[0m\u001b[0m\n",
      "\u001b[0;31mValueError\u001b[0m: \n    Invalid value of type '__builtin__.int' received for the 'x' property of box\n        Received value: 0\n\n    The 'x' property is an array that may be specified as a tuple,\n    list, numpy array, or pandas Series"
     ]
    }
   ],
   "source": [
    "drawList = ['Inc_c_Tot', 'Prv_Test','Prv_HIV','n_Relations','Inc_c_HF','Inc_c_HM','Prv_ART']\n",
    "drawList = ['Inc_c_Tot']\n",
    "for d in drawList:\n",
    "    drawThePlots(tMax.value, drawThis=d)"
   ]
  },
  {
   "cell_type": "code",
   "execution_count": 18,
   "metadata": {
    "scrolled": false
   },
   "outputs": [
    {
     "ename": "ValueError",
     "evalue": "Invalid properties specified for object of type plotly.graph_objs.box.Line: ('outlierwidth', 'outliercolor')\n\n    Valid properties:\n        color\n            Sets the color of line bounding the box(es).\n        width\n            Sets the width (in px) of line bounding the box(es).\n        ",
     "output_type": "error",
     "traceback": [
      "\u001b[0;31m---------------------------------------------------------------------------\u001b[0m",
      "\u001b[0;31mValueError\u001b[0m                                Traceback (most recent call last)",
      "\u001b[0;32m<ipython-input-18-89a3511bef17>\u001b[0m in \u001b[0;36m<module>\u001b[0;34m()\u001b[0m\n\u001b[1;32m      1\u001b[0m \u001b[0;32mfor\u001b[0m \u001b[0md\u001b[0m \u001b[0;32min\u001b[0m \u001b[0mdrawList\u001b[0m\u001b[0;34m:\u001b[0m\u001b[0;34m\u001b[0m\u001b[0m\n\u001b[0;32m----> 2\u001b[0;31m     \u001b[0mdrawThePlots\u001b[0m\u001b[0;34m(\u001b[0m\u001b[0mtMax\u001b[0m\u001b[0;34m.\u001b[0m\u001b[0mvalue\u001b[0m\u001b[0;34m,\u001b[0m \u001b[0mdrawThis\u001b[0m\u001b[0;34m=\u001b[0m\u001b[0md\u001b[0m\u001b[0;34m)\u001b[0m\u001b[0;34m\u001b[0m\u001b[0m\n\u001b[0m",
      "\u001b[0;32m<ipython-input-14-f2dd9933e028>\u001b[0m in \u001b[0;36mdrawThePlots\u001b[0;34m(drawMaxT, drawThis, title, xTitle, yTitle)\u001b[0m\n\u001b[1;32m     96\u001b[0m                        \u001b[0moutliercolor\u001b[0m \u001b[0;34m=\u001b[0m \u001b[0;34m'rgba(219, 64, 82, 0.6)'\u001b[0m\u001b[0;34m,\u001b[0m\u001b[0;34m\u001b[0m\u001b[0m\n\u001b[1;32m     97\u001b[0m                        \u001b[0moutlierwidth\u001b[0m \u001b[0;34m=\u001b[0m \u001b[0;36m2\u001b[0m\u001b[0;34m,\u001b[0m\u001b[0;34m\u001b[0m\u001b[0m\n\u001b[0;32m---> 98\u001b[0;31m                        color = 'rgb(107,174,214)')\n\u001b[0m\u001b[1;32m     99\u001b[0m                   )\n\u001b[1;32m    100\u001b[0m         )\n",
      "\u001b[0;32m/Users/MaximilianKing/anaconda/envs/TITAN/lib/python2.7/site-packages/plotly/graph_objs/_box.pyc\u001b[0m in \u001b[0;36m__init__\u001b[0;34m(self, arg, boxmean, boxpoints, customdata, customdatasrc, fillcolor, hoverinfo, hoverinfosrc, hoverlabel, hoveron, ids, idssrc, jitter, legendgroup, line, marker, name, notched, notchwidth, opacity, orientation, pointpos, selected, selectedpoints, showlegend, stream, text, textsrc, uid, unselected, visible, whiskerwidth, x, x0, xaxis, xcalendar, xsrc, y, y0, yaxis, ycalendar, ysrc, **kwargs)\u001b[0m\n\u001b[1;32m   1514\u001b[0m         \u001b[0mself\u001b[0m\u001b[0;34m.\u001b[0m\u001b[0mlegendgroup\u001b[0m \u001b[0;34m=\u001b[0m \u001b[0mlegendgroup\u001b[0m \u001b[0;32mif\u001b[0m \u001b[0mlegendgroup\u001b[0m \u001b[0;32mis\u001b[0m \u001b[0;32mnot\u001b[0m \u001b[0mNone\u001b[0m \u001b[0;32melse\u001b[0m \u001b[0m_v\u001b[0m\u001b[0;34m\u001b[0m\u001b[0m\n\u001b[1;32m   1515\u001b[0m         \u001b[0m_v\u001b[0m \u001b[0;34m=\u001b[0m \u001b[0marg\u001b[0m\u001b[0;34m.\u001b[0m\u001b[0mpop\u001b[0m\u001b[0;34m(\u001b[0m\u001b[0;34m'line'\u001b[0m\u001b[0;34m,\u001b[0m \u001b[0mNone\u001b[0m\u001b[0;34m)\u001b[0m\u001b[0;34m\u001b[0m\u001b[0m\n\u001b[0;32m-> 1516\u001b[0;31m         \u001b[0mself\u001b[0m\u001b[0;34m.\u001b[0m\u001b[0mline\u001b[0m \u001b[0;34m=\u001b[0m \u001b[0mline\u001b[0m \u001b[0;32mif\u001b[0m \u001b[0mline\u001b[0m \u001b[0;32mis\u001b[0m \u001b[0;32mnot\u001b[0m \u001b[0mNone\u001b[0m \u001b[0;32melse\u001b[0m \u001b[0m_v\u001b[0m\u001b[0;34m\u001b[0m\u001b[0m\n\u001b[0m\u001b[1;32m   1517\u001b[0m         \u001b[0m_v\u001b[0m \u001b[0;34m=\u001b[0m \u001b[0marg\u001b[0m\u001b[0;34m.\u001b[0m\u001b[0mpop\u001b[0m\u001b[0;34m(\u001b[0m\u001b[0;34m'marker'\u001b[0m\u001b[0;34m,\u001b[0m \u001b[0mNone\u001b[0m\u001b[0;34m)\u001b[0m\u001b[0;34m\u001b[0m\u001b[0m\n\u001b[1;32m   1518\u001b[0m         \u001b[0mself\u001b[0m\u001b[0;34m.\u001b[0m\u001b[0mmarker\u001b[0m \u001b[0;34m=\u001b[0m \u001b[0mmarker\u001b[0m \u001b[0;32mif\u001b[0m \u001b[0mmarker\u001b[0m \u001b[0;32mis\u001b[0m \u001b[0;32mnot\u001b[0m \u001b[0mNone\u001b[0m \u001b[0;32melse\u001b[0m \u001b[0m_v\u001b[0m\u001b[0;34m\u001b[0m\u001b[0m\n",
      "\u001b[0;32m/Users/MaximilianKing/anaconda/envs/TITAN/lib/python2.7/site-packages/plotly/basedatatypes.pyc\u001b[0m in \u001b[0;36m__setattr__\u001b[0;34m(self, prop, value)\u001b[0m\n\u001b[1;32m   2702\u001b[0m                 prop in self._validators):\n\u001b[1;32m   2703\u001b[0m             \u001b[0;31m# Let known properties and private properties through\u001b[0m\u001b[0;34m\u001b[0m\u001b[0;34m\u001b[0m\u001b[0m\n\u001b[0;32m-> 2704\u001b[0;31m             \u001b[0msuper\u001b[0m\u001b[0;34m(\u001b[0m\u001b[0mBasePlotlyType\u001b[0m\u001b[0;34m,\u001b[0m \u001b[0mself\u001b[0m\u001b[0;34m)\u001b[0m\u001b[0;34m.\u001b[0m\u001b[0m__setattr__\u001b[0m\u001b[0;34m(\u001b[0m\u001b[0mprop\u001b[0m\u001b[0;34m,\u001b[0m \u001b[0mvalue\u001b[0m\u001b[0;34m)\u001b[0m\u001b[0;34m\u001b[0m\u001b[0m\n\u001b[0m\u001b[1;32m   2705\u001b[0m         \u001b[0;32melse\u001b[0m\u001b[0;34m:\u001b[0m\u001b[0;34m\u001b[0m\u001b[0m\n\u001b[1;32m   2706\u001b[0m             \u001b[0;31m# Raise error on unknown public properties\u001b[0m\u001b[0;34m\u001b[0m\u001b[0;34m\u001b[0m\u001b[0m\n",
      "\u001b[0;32m/Users/MaximilianKing/anaconda/envs/TITAN/lib/python2.7/site-packages/plotly/graph_objs/_box.pyc\u001b[0m in \u001b[0;36mline\u001b[0;34m(self, val)\u001b[0m\n\u001b[1;32m    392\u001b[0m     \u001b[0;34m@\u001b[0m\u001b[0mline\u001b[0m\u001b[0;34m.\u001b[0m\u001b[0msetter\u001b[0m\u001b[0;34m\u001b[0m\u001b[0m\n\u001b[1;32m    393\u001b[0m     \u001b[0;32mdef\u001b[0m \u001b[0mline\u001b[0m\u001b[0;34m(\u001b[0m\u001b[0mself\u001b[0m\u001b[0;34m,\u001b[0m \u001b[0mval\u001b[0m\u001b[0;34m)\u001b[0m\u001b[0;34m:\u001b[0m\u001b[0;34m\u001b[0m\u001b[0m\n\u001b[0;32m--> 394\u001b[0;31m         \u001b[0mself\u001b[0m\u001b[0;34m[\u001b[0m\u001b[0;34m'line'\u001b[0m\u001b[0;34m]\u001b[0m \u001b[0;34m=\u001b[0m \u001b[0mval\u001b[0m\u001b[0;34m\u001b[0m\u001b[0m\n\u001b[0m\u001b[1;32m    395\u001b[0m \u001b[0;34m\u001b[0m\u001b[0m\n\u001b[1;32m    396\u001b[0m     \u001b[0;31m# marker\u001b[0m\u001b[0;34m\u001b[0m\u001b[0;34m\u001b[0m\u001b[0m\n",
      "\u001b[0;32m/Users/MaximilianKing/anaconda/envs/TITAN/lib/python2.7/site-packages/plotly/basedatatypes.pyc\u001b[0m in \u001b[0;36m__setitem__\u001b[0;34m(self, prop, value)\u001b[0m\n\u001b[1;32m   2665\u001b[0m             \u001b[0;31m# ### Handle compound property ###\u001b[0m\u001b[0;34m\u001b[0m\u001b[0;34m\u001b[0m\u001b[0m\n\u001b[1;32m   2666\u001b[0m             \u001b[0;32mif\u001b[0m \u001b[0misinstance\u001b[0m\u001b[0;34m(\u001b[0m\u001b[0mvalidator\u001b[0m\u001b[0;34m,\u001b[0m \u001b[0mCompoundValidator\u001b[0m\u001b[0;34m)\u001b[0m\u001b[0;34m:\u001b[0m\u001b[0;34m\u001b[0m\u001b[0m\n\u001b[0;32m-> 2667\u001b[0;31m                 \u001b[0mself\u001b[0m\u001b[0;34m.\u001b[0m\u001b[0m_set_compound_prop\u001b[0m\u001b[0;34m(\u001b[0m\u001b[0mprop\u001b[0m\u001b[0;34m,\u001b[0m \u001b[0mvalue\u001b[0m\u001b[0;34m)\u001b[0m\u001b[0;34m\u001b[0m\u001b[0m\n\u001b[0m\u001b[1;32m   2668\u001b[0m \u001b[0;34m\u001b[0m\u001b[0m\n\u001b[1;32m   2669\u001b[0m             \u001b[0;31m# ### Handle compound array property ###\u001b[0m\u001b[0;34m\u001b[0m\u001b[0;34m\u001b[0m\u001b[0m\n",
      "\u001b[0;32m/Users/MaximilianKing/anaconda/envs/TITAN/lib/python2.7/site-packages/plotly/basedatatypes.pyc\u001b[0m in \u001b[0;36m_set_compound_prop\u001b[0;34m(self, prop, val)\u001b[0m\n\u001b[1;32m   2963\u001b[0m         \u001b[0mvalidator\u001b[0m \u001b[0;34m=\u001b[0m \u001b[0mself\u001b[0m\u001b[0;34m.\u001b[0m\u001b[0m_validators\u001b[0m\u001b[0;34m.\u001b[0m\u001b[0mget\u001b[0m\u001b[0;34m(\u001b[0m\u001b[0mprop\u001b[0m\u001b[0;34m)\u001b[0m\u001b[0;34m\u001b[0m\u001b[0m\n\u001b[1;32m   2964\u001b[0m         \u001b[0;31m# type: BasePlotlyType\u001b[0m\u001b[0;34m\u001b[0m\u001b[0;34m\u001b[0m\u001b[0m\n\u001b[0;32m-> 2965\u001b[0;31m         \u001b[0mval\u001b[0m \u001b[0;34m=\u001b[0m \u001b[0mvalidator\u001b[0m\u001b[0;34m.\u001b[0m\u001b[0mvalidate_coerce\u001b[0m\u001b[0;34m(\u001b[0m\u001b[0mval\u001b[0m\u001b[0;34m)\u001b[0m\u001b[0;34m\u001b[0m\u001b[0m\n\u001b[0m\u001b[1;32m   2966\u001b[0m \u001b[0;34m\u001b[0m\u001b[0m\n\u001b[1;32m   2967\u001b[0m         \u001b[0;31m# Save deep copies of current and new states\u001b[0m\u001b[0;34m\u001b[0m\u001b[0;34m\u001b[0m\u001b[0m\n",
      "\u001b[0;32m/Users/MaximilianKing/anaconda/envs/TITAN/lib/python2.7/site-packages/_plotly_utils/basevalidators.pyc\u001b[0m in \u001b[0;36mvalidate_coerce\u001b[0;34m(self, v)\u001b[0m\n\u001b[1;32m   1790\u001b[0m \u001b[0;34m\u001b[0m\u001b[0m\n\u001b[1;32m   1791\u001b[0m         \u001b[0;32melif\u001b[0m \u001b[0misinstance\u001b[0m\u001b[0;34m(\u001b[0m\u001b[0mv\u001b[0m\u001b[0;34m,\u001b[0m \u001b[0mdict\u001b[0m\u001b[0;34m)\u001b[0m\u001b[0;34m:\u001b[0m\u001b[0;34m\u001b[0m\u001b[0m\n\u001b[0;32m-> 1792\u001b[0;31m             \u001b[0mv\u001b[0m \u001b[0;34m=\u001b[0m \u001b[0mself\u001b[0m\u001b[0;34m.\u001b[0m\u001b[0mdata_class\u001b[0m\u001b[0;34m(\u001b[0m\u001b[0;34m**\u001b[0m\u001b[0mv\u001b[0m\u001b[0;34m)\u001b[0m\u001b[0;34m\u001b[0m\u001b[0m\n\u001b[0m\u001b[1;32m   1793\u001b[0m \u001b[0;34m\u001b[0m\u001b[0m\n\u001b[1;32m   1794\u001b[0m         \u001b[0;32melif\u001b[0m \u001b[0misinstance\u001b[0m\u001b[0;34m(\u001b[0m\u001b[0mv\u001b[0m\u001b[0;34m,\u001b[0m \u001b[0mself\u001b[0m\u001b[0;34m.\u001b[0m\u001b[0mdata_class\u001b[0m\u001b[0;34m)\u001b[0m\u001b[0;34m:\u001b[0m\u001b[0;34m\u001b[0m\u001b[0m\n",
      "\u001b[0;32m/Users/MaximilianKing/anaconda/envs/TITAN/lib/python2.7/site-packages/plotly/graph_objs/box/_line.pyc\u001b[0m in \u001b[0;36m__init__\u001b[0;34m(self, arg, color, width, **kwargs)\u001b[0m\n\u001b[1;32m    155\u001b[0m         \u001b[0;31m# Process unknown kwargs\u001b[0m\u001b[0;34m\u001b[0m\u001b[0;34m\u001b[0m\u001b[0m\n\u001b[1;32m    156\u001b[0m         \u001b[0;31m# ----------------------\u001b[0m\u001b[0;34m\u001b[0m\u001b[0;34m\u001b[0m\u001b[0m\n\u001b[0;32m--> 157\u001b[0;31m         \u001b[0mself\u001b[0m\u001b[0;34m.\u001b[0m\u001b[0m_process_kwargs\u001b[0m\u001b[0;34m(\u001b[0m\u001b[0;34m**\u001b[0m\u001b[0mdict\u001b[0m\u001b[0;34m(\u001b[0m\u001b[0marg\u001b[0m\u001b[0;34m,\u001b[0m \u001b[0;34m**\u001b[0m\u001b[0mkwargs\u001b[0m\u001b[0;34m)\u001b[0m\u001b[0;34m)\u001b[0m\u001b[0;34m\u001b[0m\u001b[0m\n\u001b[0m",
      "\u001b[0;32m/Users/MaximilianKing/anaconda/envs/TITAN/lib/python2.7/site-packages/plotly/basedatatypes.pyc\u001b[0m in \u001b[0;36m_process_kwargs\u001b[0;34m(self, **kwargs)\u001b[0m\n\u001b[1;32m   2253\u001b[0m         \u001b[0mProcess\u001b[0m \u001b[0many\u001b[0m \u001b[0mextra\u001b[0m \u001b[0mkwargs\u001b[0m \u001b[0mthat\u001b[0m \u001b[0mare\u001b[0m \u001b[0;32mnot\u001b[0m \u001b[0mpredefined\u001b[0m \u001b[0;32mas\u001b[0m \u001b[0mconstructor\u001b[0m \u001b[0mparams\u001b[0m\u001b[0;34m\u001b[0m\u001b[0m\n\u001b[1;32m   2254\u001b[0m         \"\"\"\n\u001b[0;32m-> 2255\u001b[0;31m         \u001b[0mself\u001b[0m\u001b[0;34m.\u001b[0m\u001b[0m_raise_on_invalid_property_error\u001b[0m\u001b[0;34m(\u001b[0m\u001b[0;34m*\u001b[0m\u001b[0mkwargs\u001b[0m\u001b[0;34m.\u001b[0m\u001b[0mkeys\u001b[0m\u001b[0;34m(\u001b[0m\u001b[0;34m)\u001b[0m\u001b[0;34m)\u001b[0m\u001b[0;34m\u001b[0m\u001b[0m\n\u001b[0m\u001b[1;32m   2256\u001b[0m \u001b[0;34m\u001b[0m\u001b[0m\n\u001b[1;32m   2257\u001b[0m     \u001b[0;34m@\u001b[0m\u001b[0mproperty\u001b[0m\u001b[0;34m\u001b[0m\u001b[0m\n",
      "\u001b[0;32m/Users/MaximilianKing/anaconda/envs/TITAN/lib/python2.7/site-packages/plotly/basedatatypes.pyc\u001b[0m in \u001b[0;36m_raise_on_invalid_property_error\u001b[0;34m(self, *args)\u001b[0m\n\u001b[1;32m   2838\u001b[0m                                  \u001b[0mfull_obj_name\u001b[0m\u001b[0;34m=\u001b[0m\u001b[0mfull_obj_name\u001b[0m\u001b[0;34m,\u001b[0m\u001b[0;34m\u001b[0m\u001b[0m\n\u001b[1;32m   2839\u001b[0m                                  \u001b[0minvalid_str\u001b[0m\u001b[0;34m=\u001b[0m\u001b[0minvalid_str\u001b[0m\u001b[0;34m,\u001b[0m\u001b[0;34m\u001b[0m\u001b[0m\n\u001b[0;32m-> 2840\u001b[0;31m                                  prop_descriptions=self._prop_descriptions))\n\u001b[0m\u001b[1;32m   2841\u001b[0m \u001b[0;34m\u001b[0m\u001b[0m\n\u001b[1;32m   2842\u001b[0m     \u001b[0;32mdef\u001b[0m \u001b[0mupdate\u001b[0m\u001b[0;34m(\u001b[0m\u001b[0mself\u001b[0m\u001b[0;34m,\u001b[0m \u001b[0mdict1\u001b[0m\u001b[0;34m=\u001b[0m\u001b[0mNone\u001b[0m\u001b[0;34m,\u001b[0m \u001b[0;34m**\u001b[0m\u001b[0mkwargs\u001b[0m\u001b[0;34m)\u001b[0m\u001b[0;34m:\u001b[0m\u001b[0;34m\u001b[0m\u001b[0m\n",
      "\u001b[0;31mValueError\u001b[0m: Invalid properties specified for object of type plotly.graph_objs.box.Line: ('outlierwidth', 'outliercolor')\n\n    Valid properties:\n        color\n            Sets the color of line bounding the box(es).\n        width\n            Sets the width (in px) of line bounding the box(es).\n        "
     ]
    }
   ],
   "source": [
    "for d in drawList:\n",
    "    drawThePlots(tMax.value, drawThis=d)"
   ]
  },
  {
   "cell_type": "code",
   "execution_count": 17,
   "metadata": {},
   "outputs": [
    {
     "data": {
      "text/html": [
       "<div>\n",
       "<style scoped>\n",
       "    .dataframe tbody tr th:only-of-type {\n",
       "        vertical-align: middle;\n",
       "    }\n",
       "\n",
       "    .dataframe tbody tr th {\n",
       "        vertical-align: top;\n",
       "    }\n",
       "\n",
       "    .dataframe thead th {\n",
       "        text-align: right;\n",
       "    }\n",
       "</style>\n",
       "<table border=\"1\" class=\"dataframe\">\n",
       "  <thead>\n",
       "    <tr style=\"text-align: right;\">\n",
       "      <th></th>\n",
       "      <th>Inc_c_HF</th>\n",
       "      <th>Inc_c_HM</th>\n",
       "      <th>Inc_c_Tot</th>\n",
       "      <th>Inc_t_HF</th>\n",
       "      <th>Inc_t_HM</th>\n",
       "      <th>Prv_AIDS</th>\n",
       "      <th>Prv_ART</th>\n",
       "      <th>Prv_HIV</th>\n",
       "      <th>Prv_PrEP</th>\n",
       "      <th>Prv_Test</th>\n",
       "      <th>n_Relations</th>\n",
       "    </tr>\n",
       "    <tr>\n",
       "      <th>Time</th>\n",
       "      <th></th>\n",
       "      <th></th>\n",
       "      <th></th>\n",
       "      <th></th>\n",
       "      <th></th>\n",
       "      <th></th>\n",
       "      <th></th>\n",
       "      <th></th>\n",
       "      <th></th>\n",
       "      <th></th>\n",
       "      <th></th>\n",
       "    </tr>\n",
       "  </thead>\n",
       "  <tbody>\n",
       "    <tr>\n",
       "      <th>0</th>\n",
       "      <td>0</td>\n",
       "      <td>0</td>\n",
       "      <td>0</td>\n",
       "      <td>0</td>\n",
       "      <td>0</td>\n",
       "      <td>0.666667</td>\n",
       "      <td>0.333333</td>\n",
       "      <td>0.03</td>\n",
       "      <td>NaN</td>\n",
       "      <td>1.00</td>\n",
       "      <td>124</td>\n",
       "    </tr>\n",
       "    <tr>\n",
       "      <th>1</th>\n",
       "      <td>0</td>\n",
       "      <td>0</td>\n",
       "      <td>0</td>\n",
       "      <td>0</td>\n",
       "      <td>0</td>\n",
       "      <td>0.666667</td>\n",
       "      <td>0.333333</td>\n",
       "      <td>0.03</td>\n",
       "      <td>NaN</td>\n",
       "      <td>1.00</td>\n",
       "      <td>127</td>\n",
       "    </tr>\n",
       "    <tr>\n",
       "      <th>2</th>\n",
       "      <td>0</td>\n",
       "      <td>0</td>\n",
       "      <td>0</td>\n",
       "      <td>0</td>\n",
       "      <td>0</td>\n",
       "      <td>0.666667</td>\n",
       "      <td>0.333333</td>\n",
       "      <td>0.03</td>\n",
       "      <td>NaN</td>\n",
       "      <td>1.00</td>\n",
       "      <td>128</td>\n",
       "    </tr>\n",
       "    <tr>\n",
       "      <th>3</th>\n",
       "      <td>0</td>\n",
       "      <td>0</td>\n",
       "      <td>1</td>\n",
       "      <td>0</td>\n",
       "      <td>0</td>\n",
       "      <td>0.500000</td>\n",
       "      <td>0.333333</td>\n",
       "      <td>0.04</td>\n",
       "      <td>NaN</td>\n",
       "      <td>0.75</td>\n",
       "      <td>122</td>\n",
       "    </tr>\n",
       "    <tr>\n",
       "      <th>4</th>\n",
       "      <td>0</td>\n",
       "      <td>0</td>\n",
       "      <td>1</td>\n",
       "      <td>0</td>\n",
       "      <td>0</td>\n",
       "      <td>0.500000</td>\n",
       "      <td>0.333333</td>\n",
       "      <td>0.04</td>\n",
       "      <td>NaN</td>\n",
       "      <td>0.75</td>\n",
       "      <td>118</td>\n",
       "    </tr>\n",
       "  </tbody>\n",
       "</table>\n",
       "</div>"
      ],
      "text/plain": [
       "      Inc_c_HF  Inc_c_HM  Inc_c_Tot  Inc_t_HF  Inc_t_HM  Prv_AIDS   Prv_ART  \\\n",
       "Time                                                                          \n",
       "0            0         0          0         0         0  0.666667  0.333333   \n",
       "1            0         0          0         0         0  0.666667  0.333333   \n",
       "2            0         0          0         0         0  0.666667  0.333333   \n",
       "3            0         0          1         0         0  0.500000  0.333333   \n",
       "4            0         0          1         0         0  0.500000  0.333333   \n",
       "\n",
       "      Prv_HIV  Prv_PrEP  Prv_Test  n_Relations  \n",
       "Time                                            \n",
       "0        0.03       NaN      1.00          124  \n",
       "1        0.03       NaN      1.00          127  \n",
       "2        0.03       NaN      1.00          128  \n",
       "3        0.04       NaN      0.75          122  \n",
       "4        0.04       NaN      0.75          118  "
      ]
     },
     "execution_count": 17,
     "metadata": {},
     "output_type": "execute_result"
    }
   ],
   "source": [
    "df.head()"
   ]
  },
  {
   "cell_type": "markdown",
   "metadata": {
    "extensions": {
     "jupyter_dashboards": {
      "version": 1,
      "views": {
       "grid_default": {
        "col": 0,
        "height": 4,
        "hidden": true,
        "row": 27,
        "width": 12
       },
       "report_default": {}
      }
     }
    }
   },
   "source": [
    "def draw_Histogram():\n",
    "    data = [go.Bar(\n",
    "                y=(nx.degree_histogram(G)),\n",
    "        marker=dict(\n",
    "            color='rgb(49,130,189)'\n",
    "        )\n",
    "        )]\n",
    "    layout = go.Layout(\n",
    "        title='Partner Degree Distribution',\n",
    "        autosize=False,\n",
    "        width=400,\n",
    "        height=300,\n",
    "        margin=go.Margin(\n",
    "        l=50,\n",
    "        r=50,\n",
    "        b=50,\n",
    "        t=50,\n",
    "        pad=4\n",
    "    ),\n",
    "        xaxis=dict(\n",
    "            range=[-1,10],\n",
    "            tickfont=dict(\n",
    "                size=14,\n",
    "                color='rgb(107, 107, 107)'\n",
    "            )\n",
    "        ),\n",
    "        yaxis=dict(\n",
    "            title='Number of Agents (N)',\n",
    "            titlefont=dict(\n",
    "                size=16,\n",
    "                color='rgb(107, 107, 107)'\n",
    "            ),\n",
    "            tickfont=dict(\n",
    "                size=14,\n",
    "                color='rgb(107, 107, 107)'\n",
    "            )\n",
    "        ),\n",
    "        legend=dict(\n",
    "            x=0,\n",
    "            y=1.0,\n",
    "            bgcolor='rgba(255, 255, 255, 0)',\n",
    "            bordercolor='rgba(255, 255, 255, 0)'\n",
    "        ),\n",
    "        barmode='group',\n",
    "        bargap=0.15,\n",
    "        bargroupgap=0.1\n",
    "    )\n",
    "    fig = go.Figure(data=data, layout=layout)\n",
    "    iplot(fig)\n"
   ]
  },
  {
   "cell_type": "markdown",
   "metadata": {
    "extensions": {
     "jupyter_dashboards": {
      "version": 1,
      "views": {
       "grid_default": {
        "col": 0,
        "height": 5,
        "hidden": true,
        "row": 18,
        "width": 4
       },
       "report_default": {}
      }
     }
    }
   },
   "source": [
    "nx.degree_mixing_dict(G)"
   ]
  },
  {
   "cell_type": "markdown",
   "metadata": {
    "extensions": {
     "jupyter_dashboards": {
      "version": 1,
      "views": {
       "grid_default": {
        "hidden": true
       },
       "report_default": {}
      }
     }
    }
   },
   "source": [
    "nx.number_connected_components(G)\n",
    "nx.is_attracting_component(G)"
   ]
  },
  {
   "cell_type": "markdown",
   "metadata": {
    "extensions": {
     "jupyter_dashboards": {
      "version": 1,
      "views": {
       "grid_default": {
        "col": 8,
        "height": 66,
        "hidden": true,
        "row": 16,
        "width": 4
       },
       "report_default": {}
      }
     }
    }
   },
   "source": [
    "for a in nx.connected_components(G):\n",
    "    print len(a)\n",
    "    for p in a:\n",
    "        print p"
   ]
  },
  {
   "cell_type": "markdown",
   "metadata": {
    "extensions": {
     "jupyter_dashboards": {
      "version": 1,
      "views": {
       "grid_default": {
        "hidden": true
       },
       "report_default": {}
      }
     }
    }
   },
   "source": [
    "df = pd.read_csv(\"https://raw.githubusercontent.com/plotly/datasets/master/school_earnings.csv\")\n",
    "\n",
    "table = ff.create_table(df)\n",
    "iplot(table, filename='jupyter-table1')"
   ]
  }
 ],
 "metadata": {
  "extensions": {
   "jupyter_dashboards": {
    "activeView": "grid_default",
    "version": 1,
    "views": {
     "grid_default": {
      "cellMargin": 10,
      "defaultCellHeight": 20,
      "maxColumns": 12,
      "name": "grid",
      "type": "grid"
     },
     "report_default": {
      "name": "report",
      "type": "report"
     }
    }
   }
  },
  "kernelspec": {
   "display_name": "Python 2",
   "language": "python",
   "name": "python2"
  },
  "language_info": {
   "codemirror_mode": {
    "name": "ipython",
    "version": 2
   },
   "file_extension": ".py",
   "mimetype": "text/x-python",
   "name": "python",
   "nbconvert_exporter": "python",
   "pygments_lexer": "ipython2",
   "version": "2.7.14"
  }
 },
 "nbformat": 4,
 "nbformat_minor": 2
}
