{
 "cells": [
  {
   "cell_type": "markdown",
   "metadata": {
    "extensions": {
     "jupyter_dashboards": {
      "version": 1,
      "views": {
       "grid_default": {
        "col": 0,
        "height": 4,
        "hidden": true,
        "row": 15,
        "width": 4
       },
       "report_default": {}
      }
     }
    }
   },
   "source": [
    "Import all of the required packages for this notebook"
   ]
  },
  {
   "cell_type": "code",
   "execution_count": 1,
   "metadata": {
    "extensions": {
     "jupyter_dashboards": {
      "version": 1,
      "views": {
       "grid_default": {
        "hidden": true
       },
       "report_default": {
        "hidden": true
       }
      }
     }
    }
   },
   "outputs": [
    {
     "data": {
      "text/html": [
       "<script>requirejs.config({paths: { 'plotly': ['https://cdn.plot.ly/plotly-latest.min']},});if(!window.Plotly) {{require(['plotly'],function(plotly) {window.Plotly=plotly;});}}</script>"
      ],
      "text/vnd.plotly.v1+html": [
       "<script>requirejs.config({paths: { 'plotly': ['https://cdn.plot.ly/plotly-latest.min']},});if(!window.Plotly) {{require(['plotly'],function(plotly) {window.Plotly=plotly;});}}</script>"
      ]
     },
     "metadata": {},
     "output_type": "display_data"
    }
   ],
   "source": [
    "import sys \n",
    "import os\n",
    "import numpy as np\n",
    "from scipy.stats import binom\n",
    "import matplotlib.pyplot as plt\n",
    "import networkx as nx\n",
    "import pandas as pd\n",
    "import plotly.plotly as py\n",
    "import plotly.graph_objs as go\n",
    "import plotly.figure_factory as ff\n",
    "from plotly.offline import download_plotlyjs, init_notebook_mode, plot, iplot\n",
    "from ipywidgets import widgets, interact, interactive\n",
    "init_notebook_mode(connected=True)\n",
    "\n",
    "#sys.path.append(os.path.abspath(\"/Users/mk100/Documents/Code/TITAN/src\"))\n",
    "sys.path.append(os.path.relpath(\"../src\"))\n",
    "\n",
    "import ABM_core as tc\n",
    "import run_titan as tt\n",
    "import params\n",
    "import numpy as np"
   ]
  },
  {
   "cell_type": "code",
   "execution_count": 2,
   "metadata": {
    "extensions": {
     "jupyter_dashboards": {
      "version": 1,
      "views": {
       "grid_default": {
        "hidden": true
       },
       "report_default": {
        "hidden": true
       }
      }
     }
    },
    "scrolled": false
   },
   "outputs": [],
   "source": [
    "out = widgets.Output(layout={'border': '1px solid black'})\n",
    "out_network = widgets.Output(layout={'border': '1px solid black'})\n",
    "out_distrib = widgets.Output(layout={'border': '1px solid black'})\n",
    "out_df = widgets.Output(layout={'border': '1px solid black'})\n",
    "df = pd.DataFrame()\n",
    "RSLTS = {}"
   ]
  },
  {
   "cell_type": "code",
   "execution_count": 3,
   "metadata": {
    "extensions": {
     "jupyter_dashboards": {
      "version": 1,
      "views": {
       "grid_default": {
        "col": 0,
        "height": 14,
        "hidden": true,
        "row": 40,
        "width": 4
       },
       "report_default": {}
      }
     }
    },
    "scrolled": true
   },
   "outputs": [],
   "source": [
    "def setParams(burnDur, calSA, calSP, calNA, calNP, calMort, calRRDx, calRRArt,calPXmn,calIncar,calARTcov,calTestFq):\n",
    "    params.burnDuration=burnDur\n",
    "    params.cal_SexualActScaling=calSA\n",
    "    params.cal_SexualPartScaling=calSP\n",
    "    params.cal_NeedleActScaling=calNA\n",
    "    params.cal_NeedlePartScaling=calNP\n",
    "    params.cal_Mortality=calMort\n",
    "    params.cal_RR_Dx=calRRDx\n",
    "    params.cal_RR_HAART=calRRArt\n",
    "    params.cal_pXmissionScaling=calPXmn\n",
    "    params.cal_IncarP=calIncar\n",
    "    params.cal_ART_cov=calARTcov\n",
    "    params.cal_TestFreq=calTestFq\n",
    "\n",
    "y=interactive(setParams,\n",
    "              burnDur=widgets.IntSlider(description='Burn',\n",
    "                                       continuous_update=False, \n",
    "                                       min=0, \n",
    "                                       value=params.burnDuration),\n",
    "              calSA=widgets.FloatSlider(description='Sex Acts',\n",
    "                                       continuous_update=False, \n",
    "                                       min=0., \n",
    "                                       max=3.0,\n",
    "                                       value=params.cal_SexualActScaling),\n",
    "              calSP=widgets.FloatSlider(description='Sex Ptns',\n",
    "                                       continuous_update=False, \n",
    "                                       min=0., \n",
    "                                       max=3.0,\n",
    "                                       value=params.cal_SexualPartScaling),\n",
    "              calNA=widgets.FloatSlider(description='Needle Acts',\n",
    "                                       continuous_update=False, \n",
    "                                       min=0., \n",
    "                                       max=3.0,\n",
    "                                       value=params.cal_NeedleActScaling),\n",
    "              calNP=widgets.FloatSlider(description='Needle Ptns',\n",
    "                                       continuous_update=False, \n",
    "                                       min=0., \n",
    "                                       max=3.0,\n",
    "                                       value=params.cal_NeedlePartScaling),\n",
    "              calMort=widgets.FloatSlider(description='Mortality',\n",
    "                                       continuous_update=False, \n",
    "                                       min=0., \n",
    "                                       max=3.0,\n",
    "                                       value=params.cal_Mortality),\n",
    "              calRRDx=widgets.FloatSlider(description='RR Dx',\n",
    "                                       continuous_update=False, \n",
    "                                       min=0., \n",
    "                                       max=3.0,\n",
    "                                       value=params.cal_RR_Dx),\n",
    "              calRRArt=widgets.FloatSlider(description='RR ART',\n",
    "                                       continuous_update=False, \n",
    "                                       min=0., \n",
    "                                       max=3.0,\n",
    "                                       value=params.cal_RR_HAART),\n",
    "              calPXmn=widgets.FloatSlider(description='P Xmission',\n",
    "                                       continuous_update=False, \n",
    "                                       min=0.,\n",
    "                                       max=3.0,\n",
    "                                       value=params.cal_pXmissionScaling),\n",
    "              calIncar=widgets.FloatSlider(description='P Incar',\n",
    "                                       continuous_update=False, \n",
    "                                       min=0., \n",
    "                                       max=3.0,\n",
    "                                       value=params.cal_IncarP),\n",
    "              calARTcov=widgets.FloatSlider(description='ART Cov',\n",
    "                                       continuous_update=False, \n",
    "                                       min=0.,\n",
    "                                       max=3.0,\n",
    "                                       value=params.cal_ART_cov),\n",
    "              calTestFq=widgets.FloatSlider(description='Test Freq',\n",
    "                                       continuous_update=False, \n",
    "                                       min=0.,\n",
    "                                       max=3.0,\n",
    "                                       value=params.cal_TestFreq),\n",
    "             )"
   ]
  },
  {
   "cell_type": "code",
   "execution_count": 4,
   "metadata": {
    "extensions": {
     "jupyter_dashboards": {
      "version": 1,
      "views": {
       "grid_default": {
        "hidden": true
       },
       "report_default": {}
      }
     }
    }
   },
   "outputs": [],
   "source": [
    "nMC = widgets.IntSlider(description='nMC',continuous_update=False, min=1, max=100, value=1)\n",
    "nPop = widgets.IntSlider(description='nPop',continuous_update=False, min=1, max=100000, value=100)\n",
    "tMax = widgets.IntSlider(description='tMax',continuous_update=False, min=0, max=156, value=12)\n",
    "seed = widgets.IntSlider(description='seed',continuous_update=False, min=-1,max=10, value=1)\n",
    "draw = widgets.Checkbox(description='Draw Network',value=True,disabled=False)\n",
    "uniqueseed = widgets.Checkbox(description='Unique Seed',value=False,disabled=False)\n",
    "ui_params = widgets.VBox([nMC, nPop, tMax, seed, draw,uniqueseed])\n",
    "\n",
    "\n",
    "\n",
    "prog = widgets.IntProgress(\n",
    "        value=0,\n",
    "        min=0,\n",
    "        max=tMax.value,\n",
    "        step=1,\n",
    "        description='Progress:',\n",
    "        bar_style='info'\n",
    "        )\n",
    "run = widgets.Button(\n",
    "    description='Run Model',\n",
    "    disabled=False,\n",
    "    button_style='success', # 'success', 'info', 'warning', 'danger' or ''\n",
    "    tooltip='Start model with given params',\n",
    "    icon='play'\n",
    ")\n",
    "reset = widgets.Button(\n",
    "    description='Reset',\n",
    "    disabled=False,\n",
    "    button_style='danger', # 'success', 'info', 'warning', 'danger' or ''\n",
    "    tooltip='Clear outputs',\n",
    "    icon='stop'\n",
    ")\n",
    "\n",
    "\n",
    "widgets.jslink((nMC, 'value'), (prog, 'max'))\n",
    "ui_buttons = widgets.HBox([run, reset])\n",
    "ui = widgets.VBox([ui_params, ui_buttons, prog])\n",
    "\n",
    "tab_nest = widgets.Tab()\n",
    "tab_nest.children = [ui,y]\n",
    "tab_nest.set_title(0, 'Main')\n",
    "tab_nest.set_title(1, 'Advanced Params')"
   ]
  },
  {
   "cell_type": "code",
   "execution_count": 5,
   "metadata": {
    "extensions": {
     "jupyter_dashboards": {
      "version": 1,
      "views": {
       "grid_default": {
        "col": 0,
        "height": 15,
        "hidden": true,
        "row": 14,
        "width": 8
       },
       "report_default": {
        "hidden": false
       }
      }
     }
    }
   },
   "outputs": [],
   "source": [
    "def on_run_clicked(b):\n",
    "    reset_outputs()\n",
    "    #tt.open_inputs()\n",
    "    global SIM\n",
    "    global df\n",
    "    with out:\n",
    "        if nMC.value <= 1:\n",
    "            SIM = makeModel(nMC.value, nPop.value, tMax.value, seed.value)\n",
    "            SIM.run()\n",
    "            #SIM = tt.simulation(nMC.value, 1, tMax.value, nPop.value, \"\", {}, seed.value)\n",
    "            RSLTS = SIM.return_results()\n",
    "            print RSLTS\n",
    "            df = df.append(pd.DataFrame(RSLTS))\n",
    "        else:\n",
    "            for i in range(nMC.value+1):\n",
    "                SIM = makeModel(nMC.value, nPop.value, tMax.value, seed.value)\n",
    "                prog.value = i\n",
    "                SIM.run()\n",
    "                RSLTS = SIM.return_results()\n",
    "                df = df.append(pd.DataFrame(RSLTS))\n",
    "            #SIM = tt.simulation(nMC.value, 1, tMax.value, nPop.value, \"\", {}, seed.value)\n",
    "            #RSLTS = SIM.return_results()\n",
    "            #print RSLTS\n",
    "            #df.append(pd.DataFrame(RSLTS))\n",
    "            #RSLTS = tt.simulation(nMC.value, 1, tMax.value, nPop.value, \"\", {}, seed.value, uniqueSeed=uniqueseed.value)\n",
    "            #print RSLTS\n",
    "        #df = df.append(pd.DataFrame(RSLTS))\n",
    "        with out_distrib:\n",
    "            if draw.value:\n",
    "                for result_property in sorted(RSLTS):\n",
    "                    #print result_property, rslts[result_property]\n",
    "                    lists = sorted(RSLTS[result_property].items())\n",
    "                    if lists:\n",
    "                        x,y = zip(*lists)\n",
    "                        plt.title(\"%s vs Time\\nTime\"%(result_property))\n",
    "                        plt.xlabel(\"Time\")\n",
    "                        plt.plot(x,y)\n",
    "                        plt.xticks(np.arange(0, tMax.value+1, step=12))\n",
    "                        plt.show()\n",
    "\n",
    "                #draw_Histogram()\n",
    "        with out_network:\n",
    "            if draw.value:\n",
    "                #TMP.networkGraph.visualize_network(coloring='HIV',node_size=25)\n",
    "                #TMP.networkGraph.draw_histogram(t)\n",
    "                drawThePlots(tMax.value)\n",
    "\n",
    "        #df = df.append(pd.DataFrame(RSLTS))\n",
    "        with out_df:\n",
    "            #Create table for dataframe\n",
    "            #table = ff.create_table(df)\n",
    "            #iplot(table)\n",
    "            drawThese = ['Inc_c_Tot']\n",
    "            for col in drawThese:\n",
    "                data = []\n",
    "                data.append(  go.Box( y=(df[col][tMax.value]), name=col, showlegend=False ) )\n",
    "                iplot(data)\n",
    "            #data.append( go.Scatter( x = df.columns, y = df.mean(), mode='lines', name='mean' ) )\n",
    "            \n",
    "            #plt.figure()\n",
    "            #bp = df.boxplot()\n",
    "\n",
    "def on_reset_clicked(b):\n",
    "    global df\n",
    "    df=pd.DataFrame()\n",
    "    reset_outputs()\n",
    "    tmp = seed.value\n",
    "    seed.value=0\n",
    "    seed.value=tmp\n",
    "    prog.value=0\n",
    "\n",
    "def reset_outputs():\n",
    "    outs = [out, out_network, out_distrib, out_df]\n",
    "    for o in outs:\n",
    "        o.clear_output()\n",
    "\n",
    "def makeModel(MC, N, T, S):\n",
    "    #global SIM\n",
    "    #global G\n",
    "    #TMP = tc.HIVModel(N, T, {}, S)\n",
    "#     if sysprint.value:\n",
    "#         tt.enablePrint()\n",
    "#     else:\n",
    "#         tt.blockPrint()\n",
    "    SIM = tt.HIVModel(N=nPop.value, tmax=tMax.value, parameter_dict={}, rseed=seed.value, \n",
    "                      runtime_diffseed=uniqueseed.value, model='ASDF', network_type='ASDF')\n",
    "    #TMP.TimeStep = 0\n",
    "    #G = TMP.networkGraph.G\n",
    "    return SIM\n",
    "\n",
    "def drawThePlots(drawMaxT, drawThis='Inc_c_Tot'):\n",
    "    tdf = df\n",
    "    tdf.index.name = 'Time'\n",
    "    tdf = tdf.reset_index()\n",
    "\n",
    "    #drawThis = 'Inc_c_Tot'\n",
    "    data = []\n",
    "    superscat = []\n",
    "    end = drawMaxT\n",
    "    for t in range(end):\n",
    "        data.append(  go.Box(x=t, y=(tdf.loc[tdf['Time']==t][drawThis]), name=t, boxpoints = 'suspectedoutliers',\n",
    "        marker = dict(\n",
    "            color = 'rgb(107,174,214)',\n",
    "            outliercolor = 'rgba(219, 64, 82, 0.6)',\n",
    "            line = dict(\n",
    "                outliercolor = 'rgba(219, 64, 82, 0.6)',\n",
    "                outlierwidth = 2)),\n",
    "        line = dict(\n",
    "            color = 'rgb(107,174,214)'), showlegend=False ) )\n",
    "        superscat.append(tdf.loc[tdf['Time']==t][drawThis].mean())\n",
    "\n",
    "    data.append( go.Scatter(x = range(1,end), y = superscat, name='Mean', mode='lines',showlegend=False) )\n",
    "\n",
    "    iplot(data)\n",
    "\n",
    "\n",
    "run.on_click(on_run_clicked)\n",
    "reset.on_click(on_reset_clicked)\n",
    "#widgets.jslink((tMax, 'value'), (prog, 'max'))\n",
    "init = widgets.interactive_output(makeModel, {'MC': nMC, 'N': nPop, 'T': tMax, 'S': seed})\n",
    "main = widgets.HBox([tab_nest, init])"
   ]
  },
  {
   "cell_type": "code",
   "execution_count": 6,
   "metadata": {
    "extensions": {
     "jupyter_dashboards": {
      "version": 1,
      "views": {
       "grid_default": {
        "col": 0,
        "height": 14,
        "hidden": false,
        "row": 0,
        "width": 8
       },
       "report_default": {}
      }
     }
    },
    "scrolled": false
   },
   "outputs": [
    {
     "data": {
      "application/vnd.jupyter.widget-view+json": {
       "model_id": "317025975e0c48b9b61b01db07c00cf7",
       "version_major": 2,
       "version_minor": 0
      },
      "text/html": [
       "<p>Failed to display Jupyter Widget of type <code>HBox</code>.</p>\n",
       "<p>\n",
       "  If you're reading this message in Jupyter Notebook or JupyterLab, it may mean\n",
       "  that the widgets JavaScript is still loading. If this message persists, it\n",
       "  likely means that the widgets JavaScript library is either not installed or\n",
       "  not enabled. See the <a href=\"https://ipywidgets.readthedocs.io/en/stable/user_install.html\">Jupyter\n",
       "  Widgets Documentation</a> for setup instructions.\n",
       "</p>\n",
       "<p>\n",
       "  If you're reading this message in another notebook frontend (for example, a static\n",
       "  rendering on GitHub or <a href=\"https://nbviewer.jupyter.org/\">NBViewer</a>),\n",
       "  it may mean that your frontend doesn't currently support widgets.\n",
       "</p>\n"
      ],
      "text/plain": [
       "HBox(children=(Tab(children=(VBox(children=(VBox(children=(IntSlider(value=1, continuous_update=False, description=u'nMC', min=1), IntSlider(value=100, continuous_update=False, description=u'nPop', max=100000, min=1), IntSlider(value=12, continuous_update=False, description=u'tMax', max=156), IntSlider(value=1, continuous_update=False, description=u'seed', max=10, min=-1), Checkbox(value=True, description=u'Draw Network'), Checkbox(value=False, description=u'Unique Seed'))), HBox(children=(Button(button_style=u'success', description=u'Run Model', icon=u'play', style=ButtonStyle(), tooltip=u'Start model with given params'), Button(button_style=u'danger', description=u'Reset', icon=u'stop', style=ButtonStyle(), tooltip=u'Clear outputs'))), IntProgress(value=0, bar_style=u'info', description=u'Progress:', max=12))), interactive(children=(IntSlider(value=36, continuous_update=False, description=u'Burn'), FloatSlider(value=3.0, continuous_update=False, description=u'Sex Acts', max=3.0), FloatSlider(value=1.0, continuous_update=False, description=u'Sex Ptns', max=3.0), FloatSlider(value=0.6, continuous_update=False, description=u'Needle Acts', max=3.0), FloatSlider(value=1.0, continuous_update=False, description=u'Needle Ptns', max=3.0), FloatSlider(value=0.5, continuous_update=False, description=u'Mortality', max=3.0), FloatSlider(value=0.53, continuous_update=False, description=u'RR Dx', max=3.0), FloatSlider(value=1.0, continuous_update=False, description=u'RR ART', max=3.0), FloatSlider(value=1.0, continuous_update=False, description=u'P Xmission', max=3.0), FloatSlider(value=1.0, continuous_update=False, description=u'P Incar', max=3.0), FloatSlider(value=1.0, continuous_update=False, description=u'ART Cov', max=3.0), FloatSlider(value=1.0, continuous_update=False, description=u'Test Freq', max=3.0), Output()), _dom_classes=('widget-interact',))), _titles={u'1': 'Advanced Params', u'0': 'Main'}), Output()))"
      ]
     },
     "metadata": {},
     "output_type": "display_data"
    }
   ],
   "source": [
    "display(main)"
   ]
  },
  {
   "cell_type": "code",
   "execution_count": 7,
   "metadata": {
    "extensions": {
     "jupyter_dashboards": {
      "version": 1,
      "views": {
       "grid_default": {
        "col": 0,
        "height": 12,
        "hidden": false,
        "row": 14,
        "width": 8
       },
       "report_default": {}
      }
     }
    },
    "scrolled": false
   },
   "outputs": [
    {
     "data": {
      "application/vnd.jupyter.widget-view+json": {
       "model_id": "5082878442ad45ff8dbf0a102cdd0442",
       "version_major": 2,
       "version_minor": 0
      },
      "text/html": [
       "<p>Failed to display Jupyter Widget of type <code>Output</code>.</p>\n",
       "<p>\n",
       "  If you're reading this message in Jupyter Notebook or JupyterLab, it may mean\n",
       "  that the widgets JavaScript is still loading. If this message persists, it\n",
       "  likely means that the widgets JavaScript library is either not installed or\n",
       "  not enabled. See the <a href=\"https://ipywidgets.readthedocs.io/en/stable/user_install.html\">Jupyter\n",
       "  Widgets Documentation</a> for setup instructions.\n",
       "</p>\n",
       "<p>\n",
       "  If you're reading this message in another notebook frontend (for example, a static\n",
       "  rendering on GitHub or <a href=\"https://nbviewer.jupyter.org/\">NBViewer</a>),\n",
       "  it may mean that your frontend doesn't currently support widgets.\n",
       "</p>\n"
      ],
      "text/plain": [
       "Output(layout=Layout(border=u'1px solid black'))"
      ]
     },
     "metadata": {},
     "output_type": "display_data"
    }
   ],
   "source": [
    "out"
   ]
  },
  {
   "cell_type": "code",
   "execution_count": 8,
   "metadata": {
    "extensions": {
     "jupyter_dashboards": {
      "version": 1,
      "views": {
       "grid_default": {
        "col": 8,
        "height": 55,
        "hidden": false,
        "row": 0,
        "width": 4
       },
       "report_default": {
        "hidden": true
       }
      }
     }
    },
    "scrolled": true
   },
   "outputs": [
    {
     "data": {
      "application/vnd.jupyter.widget-view+json": {
       "model_id": "df139822146e456fa4414d913eb645c8",
       "version_major": 2,
       "version_minor": 0
      },
      "text/html": [
       "<p>Failed to display Jupyter Widget of type <code>Output</code>.</p>\n",
       "<p>\n",
       "  If you're reading this message in Jupyter Notebook or JupyterLab, it may mean\n",
       "  that the widgets JavaScript is still loading. If this message persists, it\n",
       "  likely means that the widgets JavaScript library is either not installed or\n",
       "  not enabled. See the <a href=\"https://ipywidgets.readthedocs.io/en/stable/user_install.html\">Jupyter\n",
       "  Widgets Documentation</a> for setup instructions.\n",
       "</p>\n",
       "<p>\n",
       "  If you're reading this message in another notebook frontend (for example, a static\n",
       "  rendering on GitHub or <a href=\"https://nbviewer.jupyter.org/\">NBViewer</a>),\n",
       "  it may mean that your frontend doesn't currently support widgets.\n",
       "</p>\n"
      ],
      "text/plain": [
       "Output(layout=Layout(border=u'1px solid black'))"
      ]
     },
     "metadata": {},
     "output_type": "display_data"
    }
   ],
   "source": [
    "out_distrib"
   ]
  },
  {
   "cell_type": "code",
   "execution_count": 9,
   "metadata": {
    "extensions": {
     "jupyter_dashboards": {
      "version": 1,
      "views": {
       "grid_default": {
        "col": 0,
        "height": 14,
        "hidden": false,
        "row": 26,
        "width": 8
       },
       "report_default": {}
      }
     }
    },
    "scrolled": false
   },
   "outputs": [
    {
     "data": {
      "application/vnd.jupyter.widget-view+json": {
       "model_id": "1fcb5c83a08c48ccac60c5f11d03a4b0",
       "version_major": 2,
       "version_minor": 0
      },
      "text/html": [
       "<p>Failed to display Jupyter Widget of type <code>Output</code>.</p>\n",
       "<p>\n",
       "  If you're reading this message in Jupyter Notebook or JupyterLab, it may mean\n",
       "  that the widgets JavaScript is still loading. If this message persists, it\n",
       "  likely means that the widgets JavaScript library is either not installed or\n",
       "  not enabled. See the <a href=\"https://ipywidgets.readthedocs.io/en/stable/user_install.html\">Jupyter\n",
       "  Widgets Documentation</a> for setup instructions.\n",
       "</p>\n",
       "<p>\n",
       "  If you're reading this message in another notebook frontend (for example, a static\n",
       "  rendering on GitHub or <a href=\"https://nbviewer.jupyter.org/\">NBViewer</a>),\n",
       "  it may mean that your frontend doesn't currently support widgets.\n",
       "</p>\n"
      ],
      "text/plain": [
       "Output(layout=Layout(border=u'1px solid black'))"
      ]
     },
     "metadata": {},
     "output_type": "display_data"
    }
   ],
   "source": [
    "out_network"
   ]
  },
  {
   "cell_type": "code",
   "execution_count": 14,
   "metadata": {
    "scrolled": false
   },
   "outputs": [
    {
     "data": {
      "application/vnd.plotly.v1+json": {
       "data": [
        {
         "boxpoints": "suspectedoutliers",
         "line": {
          "color": "rgb(107,174,214)"
         },
         "marker": {
          "color": "rgb(107,174,214)",
          "line": {
           "outliercolor": "rgba(219, 64, 82, 0.6)",
           "outlierwidth": 2
          },
          "outliercolor": "rgba(219, 64, 82, 0.6)"
         },
         "name": 0,
         "showlegend": false,
         "type": "box",
         "x": 0,
         "y": [
          0,
          0,
          0,
          0,
          0,
          0,
          0,
          0,
          0,
          0,
          0
         ]
        },
        {
         "boxpoints": "suspectedoutliers",
         "line": {
          "color": "rgb(107,174,214)"
         },
         "marker": {
          "color": "rgb(107,174,214)",
          "line": {
           "outliercolor": "rgba(219, 64, 82, 0.6)",
           "outlierwidth": 2
          },
          "outliercolor": "rgba(219, 64, 82, 0.6)"
         },
         "name": 1,
         "showlegend": false,
         "type": "box",
         "x": 1,
         "y": [
          1,
          3,
          1,
          3,
          0,
          0,
          2,
          0,
          1,
          0,
          2
         ]
        },
        {
         "boxpoints": "suspectedoutliers",
         "line": {
          "color": "rgb(107,174,214)"
         },
         "marker": {
          "color": "rgb(107,174,214)",
          "line": {
           "outliercolor": "rgba(219, 64, 82, 0.6)",
           "outlierwidth": 2
          },
          "outliercolor": "rgba(219, 64, 82, 0.6)"
         },
         "name": 2,
         "showlegend": false,
         "type": "box",
         "x": 2,
         "y": [
          5,
          4,
          2,
          4,
          1,
          1,
          3,
          0,
          1,
          0,
          2
         ]
        },
        {
         "boxpoints": "suspectedoutliers",
         "line": {
          "color": "rgb(107,174,214)"
         },
         "marker": {
          "color": "rgb(107,174,214)",
          "line": {
           "outliercolor": "rgba(219, 64, 82, 0.6)",
           "outlierwidth": 2
          },
          "outliercolor": "rgba(219, 64, 82, 0.6)"
         },
         "name": 3,
         "showlegend": false,
         "type": "box",
         "x": 3,
         "y": [
          5,
          5,
          3,
          5,
          2,
          1,
          4,
          1,
          2,
          1,
          2
         ]
        },
        {
         "boxpoints": "suspectedoutliers",
         "line": {
          "color": "rgb(107,174,214)"
         },
         "marker": {
          "color": "rgb(107,174,214)",
          "line": {
           "outliercolor": "rgba(219, 64, 82, 0.6)",
           "outlierwidth": 2
          },
          "outliercolor": "rgba(219, 64, 82, 0.6)"
         },
         "name": 4,
         "showlegend": false,
         "type": "box",
         "x": 4,
         "y": [
          6,
          6,
          3,
          5,
          2,
          2,
          4,
          2,
          2,
          2,
          2
         ]
        },
        {
         "boxpoints": "suspectedoutliers",
         "line": {
          "color": "rgb(107,174,214)"
         },
         "marker": {
          "color": "rgb(107,174,214)",
          "line": {
           "outliercolor": "rgba(219, 64, 82, 0.6)",
           "outlierwidth": 2
          },
          "outliercolor": "rgba(219, 64, 82, 0.6)"
         },
         "name": 5,
         "showlegend": false,
         "type": "box",
         "x": 5,
         "y": [
          7,
          6,
          3,
          5,
          4,
          3,
          4,
          2,
          3,
          4,
          2
         ]
        },
        {
         "boxpoints": "suspectedoutliers",
         "line": {
          "color": "rgb(107,174,214)"
         },
         "marker": {
          "color": "rgb(107,174,214)",
          "line": {
           "outliercolor": "rgba(219, 64, 82, 0.6)",
           "outlierwidth": 2
          },
          "outliercolor": "rgba(219, 64, 82, 0.6)"
         },
         "name": 6,
         "showlegend": false,
         "type": "box",
         "x": 6,
         "y": [
          7,
          8,
          4,
          5,
          4,
          3,
          4,
          3,
          5,
          5,
          2
         ]
        },
        {
         "boxpoints": "suspectedoutliers",
         "line": {
          "color": "rgb(107,174,214)"
         },
         "marker": {
          "color": "rgb(107,174,214)",
          "line": {
           "outliercolor": "rgba(219, 64, 82, 0.6)",
           "outlierwidth": 2
          },
          "outliercolor": "rgba(219, 64, 82, 0.6)"
         },
         "name": 7,
         "showlegend": false,
         "type": "box",
         "x": 7,
         "y": [
          7,
          8,
          5,
          5,
          5,
          3,
          4,
          3,
          5,
          6,
          2
         ]
        },
        {
         "boxpoints": "suspectedoutliers",
         "line": {
          "color": "rgb(107,174,214)"
         },
         "marker": {
          "color": "rgb(107,174,214)",
          "line": {
           "outliercolor": "rgba(219, 64, 82, 0.6)",
           "outlierwidth": 2
          },
          "outliercolor": "rgba(219, 64, 82, 0.6)"
         },
         "name": 8,
         "showlegend": false,
         "type": "box",
         "x": 8,
         "y": [
          8,
          9,
          5,
          5,
          7,
          4,
          4,
          3,
          7,
          6,
          2
         ]
        },
        {
         "boxpoints": "suspectedoutliers",
         "line": {
          "color": "rgb(107,174,214)"
         },
         "marker": {
          "color": "rgb(107,174,214)",
          "line": {
           "outliercolor": "rgba(219, 64, 82, 0.6)",
           "outlierwidth": 2
          },
          "outliercolor": "rgba(219, 64, 82, 0.6)"
         },
         "name": 9,
         "showlegend": false,
         "type": "box",
         "x": 9,
         "y": [
          9,
          9,
          7,
          5,
          8,
          4,
          4,
          4,
          7,
          6,
          2
         ]
        },
        {
         "boxpoints": "suspectedoutliers",
         "line": {
          "color": "rgb(107,174,214)"
         },
         "marker": {
          "color": "rgb(107,174,214)",
          "line": {
           "outliercolor": "rgba(219, 64, 82, 0.6)",
           "outlierwidth": 2
          },
          "outliercolor": "rgba(219, 64, 82, 0.6)"
         },
         "name": 10,
         "showlegend": false,
         "type": "box",
         "x": 10,
         "y": [
          9,
          9,
          7,
          5,
          8,
          4,
          4,
          5,
          9,
          6,
          2
         ]
        },
        {
         "boxpoints": "suspectedoutliers",
         "line": {
          "color": "rgb(107,174,214)"
         },
         "marker": {
          "color": "rgb(107,174,214)",
          "line": {
           "outliercolor": "rgba(219, 64, 82, 0.6)",
           "outlierwidth": 2
          },
          "outliercolor": "rgba(219, 64, 82, 0.6)"
         },
         "name": 11,
         "showlegend": false,
         "type": "box",
         "x": 11,
         "y": [
          9,
          10,
          7,
          5,
          10,
          4,
          4,
          5,
          10,
          7,
          2
         ]
        },
        {
         "boxpoints": "suspectedoutliers",
         "line": {
          "color": "rgb(107,174,214)"
         },
         "marker": {
          "color": "rgb(107,174,214)",
          "line": {
           "outliercolor": "rgba(219, 64, 82, 0.6)",
           "outlierwidth": 2
          },
          "outliercolor": "rgba(219, 64, 82, 0.6)"
         },
         "name": 12,
         "showlegend": false,
         "type": "box",
         "x": 12,
         "y": [
          9,
          12,
          7,
          5,
          11,
          4,
          4,
          5,
          10,
          7,
          3
         ]
        },
        {
         "boxpoints": "suspectedoutliers",
         "line": {
          "color": "rgb(107,174,214)"
         },
         "marker": {
          "color": "rgb(107,174,214)",
          "line": {
           "outliercolor": "rgba(219, 64, 82, 0.6)",
           "outlierwidth": 2
          },
          "outliercolor": "rgba(219, 64, 82, 0.6)"
         },
         "name": 13,
         "showlegend": false,
         "type": "box",
         "x": 13,
         "y": [
          9,
          12,
          7,
          6,
          12,
          4,
          5,
          6,
          13,
          7,
          3
         ]
        },
        {
         "boxpoints": "suspectedoutliers",
         "line": {
          "color": "rgb(107,174,214)"
         },
         "marker": {
          "color": "rgb(107,174,214)",
          "line": {
           "outliercolor": "rgba(219, 64, 82, 0.6)",
           "outlierwidth": 2
          },
          "outliercolor": "rgba(219, 64, 82, 0.6)"
         },
         "name": 14,
         "showlegend": false,
         "type": "box",
         "x": 14,
         "y": [
          9,
          13,
          7,
          7,
          12,
          5,
          5,
          8,
          13,
          7,
          3
         ]
        },
        {
         "boxpoints": "suspectedoutliers",
         "line": {
          "color": "rgb(107,174,214)"
         },
         "marker": {
          "color": "rgb(107,174,214)",
          "line": {
           "outliercolor": "rgba(219, 64, 82, 0.6)",
           "outlierwidth": 2
          },
          "outliercolor": "rgba(219, 64, 82, 0.6)"
         },
         "name": 15,
         "showlegend": false,
         "type": "box",
         "x": 15,
         "y": [
          9,
          13,
          7,
          7,
          12,
          5,
          6,
          8,
          14,
          7,
          3
         ]
        },
        {
         "boxpoints": "suspectedoutliers",
         "line": {
          "color": "rgb(107,174,214)"
         },
         "marker": {
          "color": "rgb(107,174,214)",
          "line": {
           "outliercolor": "rgba(219, 64, 82, 0.6)",
           "outlierwidth": 2
          },
          "outliercolor": "rgba(219, 64, 82, 0.6)"
         },
         "name": 16,
         "showlegend": false,
         "type": "box",
         "x": 16,
         "y": [
          9,
          13,
          7,
          8,
          12,
          6,
          6,
          9,
          14,
          7,
          4
         ]
        },
        {
         "boxpoints": "suspectedoutliers",
         "line": {
          "color": "rgb(107,174,214)"
         },
         "marker": {
          "color": "rgb(107,174,214)",
          "line": {
           "outliercolor": "rgba(219, 64, 82, 0.6)",
           "outlierwidth": 2
          },
          "outliercolor": "rgba(219, 64, 82, 0.6)"
         },
         "name": 17,
         "showlegend": false,
         "type": "box",
         "x": 17,
         "y": [
          9,
          13,
          7,
          10,
          13,
          6,
          6,
          9,
          15,
          7,
          4
         ]
        },
        {
         "boxpoints": "suspectedoutliers",
         "line": {
          "color": "rgb(107,174,214)"
         },
         "marker": {
          "color": "rgb(107,174,214)",
          "line": {
           "outliercolor": "rgba(219, 64, 82, 0.6)",
           "outlierwidth": 2
          },
          "outliercolor": "rgba(219, 64, 82, 0.6)"
         },
         "name": 18,
         "showlegend": false,
         "type": "box",
         "x": 18,
         "y": [
          10,
          14,
          7,
          10,
          13,
          6,
          6,
          9,
          17,
          7,
          4
         ]
        },
        {
         "boxpoints": "suspectedoutliers",
         "line": {
          "color": "rgb(107,174,214)"
         },
         "marker": {
          "color": "rgb(107,174,214)",
          "line": {
           "outliercolor": "rgba(219, 64, 82, 0.6)",
           "outlierwidth": 2
          },
          "outliercolor": "rgba(219, 64, 82, 0.6)"
         },
         "name": 19,
         "showlegend": false,
         "type": "box",
         "x": 19,
         "y": [
          10,
          14,
          7,
          10,
          14,
          6,
          6,
          9,
          17,
          8,
          4
         ]
        },
        {
         "boxpoints": "suspectedoutliers",
         "line": {
          "color": "rgb(107,174,214)"
         },
         "marker": {
          "color": "rgb(107,174,214)",
          "line": {
           "outliercolor": "rgba(219, 64, 82, 0.6)",
           "outlierwidth": 2
          },
          "outliercolor": "rgba(219, 64, 82, 0.6)"
         },
         "name": 20,
         "showlegend": false,
         "type": "box",
         "x": 20,
         "y": [
          10,
          14,
          9,
          10,
          14,
          6,
          6,
          10,
          18,
          8,
          4
         ]
        },
        {
         "boxpoints": "suspectedoutliers",
         "line": {
          "color": "rgb(107,174,214)"
         },
         "marker": {
          "color": "rgb(107,174,214)",
          "line": {
           "outliercolor": "rgba(219, 64, 82, 0.6)",
           "outlierwidth": 2
          },
          "outliercolor": "rgba(219, 64, 82, 0.6)"
         },
         "name": 21,
         "showlegend": false,
         "type": "box",
         "x": 21,
         "y": [
          12,
          14,
          10,
          10,
          14,
          6,
          6,
          10,
          18,
          10,
          4
         ]
        },
        {
         "boxpoints": "suspectedoutliers",
         "line": {
          "color": "rgb(107,174,214)"
         },
         "marker": {
          "color": "rgb(107,174,214)",
          "line": {
           "outliercolor": "rgba(219, 64, 82, 0.6)",
           "outlierwidth": 2
          },
          "outliercolor": "rgba(219, 64, 82, 0.6)"
         },
         "name": 22,
         "showlegend": false,
         "type": "box",
         "x": 22,
         "y": [
          12,
          15,
          11,
          12,
          14,
          6,
          6,
          11,
          19,
          10,
          4
         ]
        },
        {
         "boxpoints": "suspectedoutliers",
         "line": {
          "color": "rgb(107,174,214)"
         },
         "marker": {
          "color": "rgb(107,174,214)",
          "line": {
           "outliercolor": "rgba(219, 64, 82, 0.6)",
           "outlierwidth": 2
          },
          "outliercolor": "rgba(219, 64, 82, 0.6)"
         },
         "name": 23,
         "showlegend": false,
         "type": "box",
         "x": 23,
         "y": [
          12,
          16,
          12,
          13,
          14,
          7,
          7,
          13,
          20,
          11,
          4
         ]
        },
        {
         "boxpoints": "suspectedoutliers",
         "line": {
          "color": "rgb(107,174,214)"
         },
         "marker": {
          "color": "rgb(107,174,214)",
          "line": {
           "outliercolor": "rgba(219, 64, 82, 0.6)",
           "outlierwidth": 2
          },
          "outliercolor": "rgba(219, 64, 82, 0.6)"
         },
         "name": 24,
         "showlegend": false,
         "type": "box",
         "x": 24,
         "y": [
          13,
          17,
          12,
          13,
          15,
          7,
          7,
          14,
          21,
          12,
          6
         ]
        },
        {
         "boxpoints": "suspectedoutliers",
         "line": {
          "color": "rgb(107,174,214)"
         },
         "marker": {
          "color": "rgb(107,174,214)",
          "line": {
           "outliercolor": "rgba(219, 64, 82, 0.6)",
           "outlierwidth": 2
          },
          "outliercolor": "rgba(219, 64, 82, 0.6)"
         },
         "name": 25,
         "showlegend": false,
         "type": "box",
         "x": 25,
         "y": [
          13,
          18,
          12,
          14,
          15,
          9,
          8,
          14,
          21,
          13,
          7
         ]
        },
        {
         "boxpoints": "suspectedoutliers",
         "line": {
          "color": "rgb(107,174,214)"
         },
         "marker": {
          "color": "rgb(107,174,214)",
          "line": {
           "outliercolor": "rgba(219, 64, 82, 0.6)",
           "outlierwidth": 2
          },
          "outliercolor": "rgba(219, 64, 82, 0.6)"
         },
         "name": 26,
         "showlegend": false,
         "type": "box",
         "x": 26,
         "y": [
          13,
          20,
          12,
          14,
          15,
          9,
          8,
          15,
          21,
          14,
          7
         ]
        },
        {
         "boxpoints": "suspectedoutliers",
         "line": {
          "color": "rgb(107,174,214)"
         },
         "marker": {
          "color": "rgb(107,174,214)",
          "line": {
           "outliercolor": "rgba(219, 64, 82, 0.6)",
           "outlierwidth": 2
          },
          "outliercolor": "rgba(219, 64, 82, 0.6)"
         },
         "name": 27,
         "showlegend": false,
         "type": "box",
         "x": 27,
         "y": [
          14,
          20,
          13,
          14,
          16,
          11,
          9,
          15,
          21,
          14,
          7
         ]
        },
        {
         "boxpoints": "suspectedoutliers",
         "line": {
          "color": "rgb(107,174,214)"
         },
         "marker": {
          "color": "rgb(107,174,214)",
          "line": {
           "outliercolor": "rgba(219, 64, 82, 0.6)",
           "outlierwidth": 2
          },
          "outliercolor": "rgba(219, 64, 82, 0.6)"
         },
         "name": 28,
         "showlegend": false,
         "type": "box",
         "x": 28,
         "y": [
          16,
          20,
          13,
          14,
          16,
          11,
          10,
          16,
          22,
          16,
          7
         ]
        },
        {
         "boxpoints": "suspectedoutliers",
         "line": {
          "color": "rgb(107,174,214)"
         },
         "marker": {
          "color": "rgb(107,174,214)",
          "line": {
           "outliercolor": "rgba(219, 64, 82, 0.6)",
           "outlierwidth": 2
          },
          "outliercolor": "rgba(219, 64, 82, 0.6)"
         },
         "name": 29,
         "showlegend": false,
         "type": "box",
         "x": 29,
         "y": [
          16,
          20,
          14,
          15,
          16,
          12,
          10,
          17,
          24,
          17,
          7
         ]
        },
        {
         "boxpoints": "suspectedoutliers",
         "line": {
          "color": "rgb(107,174,214)"
         },
         "marker": {
          "color": "rgb(107,174,214)",
          "line": {
           "outliercolor": "rgba(219, 64, 82, 0.6)",
           "outlierwidth": 2
          },
          "outliercolor": "rgba(219, 64, 82, 0.6)"
         },
         "name": 30,
         "showlegend": false,
         "type": "box",
         "x": 30,
         "y": [
          18,
          20,
          14,
          16,
          16,
          13,
          10,
          17,
          24,
          18,
          7
         ]
        },
        {
         "boxpoints": "suspectedoutliers",
         "line": {
          "color": "rgb(107,174,214)"
         },
         "marker": {
          "color": "rgb(107,174,214)",
          "line": {
           "outliercolor": "rgba(219, 64, 82, 0.6)",
           "outlierwidth": 2
          },
          "outliercolor": "rgba(219, 64, 82, 0.6)"
         },
         "name": 31,
         "showlegend": false,
         "type": "box",
         "x": 31,
         "y": [
          19,
          21,
          14,
          16,
          16,
          13,
          10,
          18,
          24,
          18,
          7
         ]
        },
        {
         "boxpoints": "suspectedoutliers",
         "line": {
          "color": "rgb(107,174,214)"
         },
         "marker": {
          "color": "rgb(107,174,214)",
          "line": {
           "outliercolor": "rgba(219, 64, 82, 0.6)",
           "outlierwidth": 2
          },
          "outliercolor": "rgba(219, 64, 82, 0.6)"
         },
         "name": 32,
         "showlegend": false,
         "type": "box",
         "x": 32,
         "y": [
          20,
          21,
          14,
          16,
          18,
          13,
          10,
          19,
          27,
          18,
          7
         ]
        },
        {
         "boxpoints": "suspectedoutliers",
         "line": {
          "color": "rgb(107,174,214)"
         },
         "marker": {
          "color": "rgb(107,174,214)",
          "line": {
           "outliercolor": "rgba(219, 64, 82, 0.6)",
           "outlierwidth": 2
          },
          "outliercolor": "rgba(219, 64, 82, 0.6)"
         },
         "name": 33,
         "showlegend": false,
         "type": "box",
         "x": 33,
         "y": [
          20,
          21,
          15,
          17,
          18,
          13,
          10,
          19,
          27,
          18,
          9
         ]
        },
        {
         "boxpoints": "suspectedoutliers",
         "line": {
          "color": "rgb(107,174,214)"
         },
         "marker": {
          "color": "rgb(107,174,214)",
          "line": {
           "outliercolor": "rgba(219, 64, 82, 0.6)",
           "outlierwidth": 2
          },
          "outliercolor": "rgba(219, 64, 82, 0.6)"
         },
         "name": 34,
         "showlegend": false,
         "type": "box",
         "x": 34,
         "y": [
          21,
          23,
          15,
          19,
          18,
          13,
          10,
          19,
          27,
          19,
          9
         ]
        },
        {
         "boxpoints": "suspectedoutliers",
         "line": {
          "color": "rgb(107,174,214)"
         },
         "marker": {
          "color": "rgb(107,174,214)",
          "line": {
           "outliercolor": "rgba(219, 64, 82, 0.6)",
           "outlierwidth": 2
          },
          "outliercolor": "rgba(219, 64, 82, 0.6)"
         },
         "name": 35,
         "showlegend": false,
         "type": "box",
         "x": 35,
         "y": [
          22,
          23,
          15,
          20,
          18,
          13,
          10,
          19,
          28,
          20,
          9
         ]
        },
        {
         "boxpoints": "suspectedoutliers",
         "line": {
          "color": "rgb(107,174,214)"
         },
         "marker": {
          "color": "rgb(107,174,214)",
          "line": {
           "outliercolor": "rgba(219, 64, 82, 0.6)",
           "outlierwidth": 2
          },
          "outliercolor": "rgba(219, 64, 82, 0.6)"
         },
         "name": 36,
         "showlegend": false,
         "type": "box",
         "x": 36,
         "y": [
          24,
          24,
          15,
          20,
          18,
          13,
          11,
          19,
          30,
          22,
          9
         ]
        },
        {
         "boxpoints": "suspectedoutliers",
         "line": {
          "color": "rgb(107,174,214)"
         },
         "marker": {
          "color": "rgb(107,174,214)",
          "line": {
           "outliercolor": "rgba(219, 64, 82, 0.6)",
           "outlierwidth": 2
          },
          "outliercolor": "rgba(219, 64, 82, 0.6)"
         },
         "name": 37,
         "showlegend": false,
         "type": "box",
         "x": 37,
         "y": [
          24,
          24,
          15,
          20,
          18,
          14,
          11,
          20,
          30,
          22,
          9
         ]
        },
        {
         "boxpoints": "suspectedoutliers",
         "line": {
          "color": "rgb(107,174,214)"
         },
         "marker": {
          "color": "rgb(107,174,214)",
          "line": {
           "outliercolor": "rgba(219, 64, 82, 0.6)",
           "outlierwidth": 2
          },
          "outliercolor": "rgba(219, 64, 82, 0.6)"
         },
         "name": 38,
         "showlegend": false,
         "type": "box",
         "x": 38,
         "y": [
          25,
          24,
          16,
          20,
          19,
          15,
          11,
          20,
          30,
          23,
          9
         ]
        },
        {
         "boxpoints": "suspectedoutliers",
         "line": {
          "color": "rgb(107,174,214)"
         },
         "marker": {
          "color": "rgb(107,174,214)",
          "line": {
           "outliercolor": "rgba(219, 64, 82, 0.6)",
           "outlierwidth": 2
          },
          "outliercolor": "rgba(219, 64, 82, 0.6)"
         },
         "name": 39,
         "showlegend": false,
         "type": "box",
         "x": 39,
         "y": [
          25,
          26,
          16,
          20,
          19,
          16,
          11,
          20,
          31,
          23,
          10
         ]
        },
        {
         "boxpoints": "suspectedoutliers",
         "line": {
          "color": "rgb(107,174,214)"
         },
         "marker": {
          "color": "rgb(107,174,214)",
          "line": {
           "outliercolor": "rgba(219, 64, 82, 0.6)",
           "outlierwidth": 2
          },
          "outliercolor": "rgba(219, 64, 82, 0.6)"
         },
         "name": 40,
         "showlegend": false,
         "type": "box",
         "x": 40,
         "y": [
          25,
          27,
          16,
          20,
          19,
          17,
          11,
          20,
          31,
          23,
          10
         ]
        },
        {
         "boxpoints": "suspectedoutliers",
         "line": {
          "color": "rgb(107,174,214)"
         },
         "marker": {
          "color": "rgb(107,174,214)",
          "line": {
           "outliercolor": "rgba(219, 64, 82, 0.6)",
           "outlierwidth": 2
          },
          "outliercolor": "rgba(219, 64, 82, 0.6)"
         },
         "name": 41,
         "showlegend": false,
         "type": "box",
         "x": 41,
         "y": [
          25,
          28,
          17,
          20,
          19,
          17,
          12,
          21,
          32,
          23,
          10
         ]
        },
        {
         "boxpoints": "suspectedoutliers",
         "line": {
          "color": "rgb(107,174,214)"
         },
         "marker": {
          "color": "rgb(107,174,214)",
          "line": {
           "outliercolor": "rgba(219, 64, 82, 0.6)",
           "outlierwidth": 2
          },
          "outliercolor": "rgba(219, 64, 82, 0.6)"
         },
         "name": 42,
         "showlegend": false,
         "type": "box",
         "x": 42,
         "y": [
          26,
          28,
          17,
          20,
          19,
          17,
          14,
          23,
          33,
          24,
          11
         ]
        },
        {
         "boxpoints": "suspectedoutliers",
         "line": {
          "color": "rgb(107,174,214)"
         },
         "marker": {
          "color": "rgb(107,174,214)",
          "line": {
           "outliercolor": "rgba(219, 64, 82, 0.6)",
           "outlierwidth": 2
          },
          "outliercolor": "rgba(219, 64, 82, 0.6)"
         },
         "name": 43,
         "showlegend": false,
         "type": "box",
         "x": 43,
         "y": [
          26,
          28,
          17,
          20,
          19,
          17,
          14,
          23,
          34,
          25,
          11
         ]
        },
        {
         "boxpoints": "suspectedoutliers",
         "line": {
          "color": "rgb(107,174,214)"
         },
         "marker": {
          "color": "rgb(107,174,214)",
          "line": {
           "outliercolor": "rgba(219, 64, 82, 0.6)",
           "outlierwidth": 2
          },
          "outliercolor": "rgba(219, 64, 82, 0.6)"
         },
         "name": 44,
         "showlegend": false,
         "type": "box",
         "x": 44,
         "y": [
          27,
          29,
          18,
          20,
          20,
          17,
          14,
          25,
          34,
          25,
          11
         ]
        },
        {
         "boxpoints": "suspectedoutliers",
         "line": {
          "color": "rgb(107,174,214)"
         },
         "marker": {
          "color": "rgb(107,174,214)",
          "line": {
           "outliercolor": "rgba(219, 64, 82, 0.6)",
           "outlierwidth": 2
          },
          "outliercolor": "rgba(219, 64, 82, 0.6)"
         },
         "name": 45,
         "showlegend": false,
         "type": "box",
         "x": 45,
         "y": [
          27,
          29,
          18,
          20,
          21,
          18,
          14,
          26,
          35,
          25,
          12
         ]
        },
        {
         "boxpoints": "suspectedoutliers",
         "line": {
          "color": "rgb(107,174,214)"
         },
         "marker": {
          "color": "rgb(107,174,214)",
          "line": {
           "outliercolor": "rgba(219, 64, 82, 0.6)",
           "outlierwidth": 2
          },
          "outliercolor": "rgba(219, 64, 82, 0.6)"
         },
         "name": 46,
         "showlegend": false,
         "type": "box",
         "x": 46,
         "y": [
          27,
          29,
          19,
          21,
          23,
          18,
          14,
          26,
          35,
          25,
          12
         ]
        },
        {
         "boxpoints": "suspectedoutliers",
         "line": {
          "color": "rgb(107,174,214)"
         },
         "marker": {
          "color": "rgb(107,174,214)",
          "line": {
           "outliercolor": "rgba(219, 64, 82, 0.6)",
           "outlierwidth": 2
          },
          "outliercolor": "rgba(219, 64, 82, 0.6)"
         },
         "name": 47,
         "showlegend": false,
         "type": "box",
         "x": 47,
         "y": [
          29,
          29,
          20,
          21,
          23,
          19,
          14,
          26,
          37,
          27,
          12
         ]
        },
        {
         "mode": "lines",
         "name": "Mean",
         "showlegend": false,
         "type": "scatter",
         "x": [
          1,
          2,
          3,
          4,
          5,
          6,
          7,
          8,
          9,
          10,
          11,
          12,
          13,
          14,
          15,
          16,
          17,
          18,
          19,
          20,
          21,
          22,
          23,
          24,
          25,
          26,
          27,
          28,
          29,
          30,
          31,
          32,
          33,
          34,
          35,
          36,
          37,
          38,
          39,
          40,
          41,
          42,
          43,
          44,
          45,
          46,
          47
         ],
         "y": [
          0,
          1.1818181818181819,
          2.090909090909091,
          2.8181818181818183,
          3.272727272727273,
          3.909090909090909,
          4.545454545454546,
          4.818181818181818,
          5.454545454545454,
          5.909090909090909,
          6.181818181818182,
          6.636363636363637,
          7,
          7.636363636363637,
          8.090909090909092,
          8.272727272727273,
          8.636363636363637,
          9,
          9.363636363636363,
          9.545454545454545,
          9.909090909090908,
          10.363636363636363,
          10.909090909090908,
          11.727272727272727,
          12.454545454545455,
          13.090909090909092,
          13.454545454545455,
          14,
          14.636363636363637,
          15.272727272727273,
          15.727272727272727,
          16,
          16.636363636363637,
          17,
          17.545454545454547,
          17.90909090909091,
          18.636363636363637,
          18.818181818181817,
          19.272727272727273,
          19.727272727272727,
          19.90909090909091,
          20.363636363636363,
          21.09090909090909,
          21.272727272727273,
          21.818181818181817,
          22.272727272727273,
          22.636363636363637,
          23.363636363636363
         ]
        }
       ],
       "layout": {}
      },
      "text/html": [
       "<div id=\"c6cf474c-7f41-4d54-a07f-659593243c5c\" style=\"height: 525px; width: 100%;\" class=\"plotly-graph-div\"></div><script type=\"text/javascript\">require([\"plotly\"], function(Plotly) { window.PLOTLYENV=window.PLOTLYENV || {};window.PLOTLYENV.BASE_URL=\"https://plot.ly\";Plotly.newPlot(\"c6cf474c-7f41-4d54-a07f-659593243c5c\", [{\"showlegend\": false, \"name\": 0, \"marker\": {\"color\": \"rgb(107,174,214)\", \"outliercolor\": \"rgba(219, 64, 82, 0.6)\", \"line\": {\"outlierwidth\": 2, \"outliercolor\": \"rgba(219, 64, 82, 0.6)\"}}, \"y\": [0, 0, 0, 0, 0, 0, 0, 0, 0, 0, 0], \"x\": 0, \"line\": {\"color\": \"rgb(107,174,214)\"}, \"type\": \"box\", \"boxpoints\": \"suspectedoutliers\"}, {\"showlegend\": false, \"name\": 1, \"marker\": {\"color\": \"rgb(107,174,214)\", \"outliercolor\": \"rgba(219, 64, 82, 0.6)\", \"line\": {\"outlierwidth\": 2, \"outliercolor\": \"rgba(219, 64, 82, 0.6)\"}}, \"y\": [1, 3, 1, 3, 0, 0, 2, 0, 1, 0, 2], \"x\": 1, \"line\": {\"color\": \"rgb(107,174,214)\"}, \"type\": \"box\", \"boxpoints\": \"suspectedoutliers\"}, {\"showlegend\": false, \"name\": 2, \"marker\": {\"color\": \"rgb(107,174,214)\", \"outliercolor\": \"rgba(219, 64, 82, 0.6)\", \"line\": {\"outlierwidth\": 2, \"outliercolor\": \"rgba(219, 64, 82, 0.6)\"}}, \"y\": [5, 4, 2, 4, 1, 1, 3, 0, 1, 0, 2], \"x\": 2, \"line\": {\"color\": \"rgb(107,174,214)\"}, \"type\": \"box\", \"boxpoints\": \"suspectedoutliers\"}, {\"showlegend\": false, \"name\": 3, \"marker\": {\"color\": \"rgb(107,174,214)\", \"outliercolor\": \"rgba(219, 64, 82, 0.6)\", \"line\": {\"outlierwidth\": 2, \"outliercolor\": \"rgba(219, 64, 82, 0.6)\"}}, \"y\": [5, 5, 3, 5, 2, 1, 4, 1, 2, 1, 2], \"x\": 3, \"line\": {\"color\": \"rgb(107,174,214)\"}, \"type\": \"box\", \"boxpoints\": \"suspectedoutliers\"}, {\"showlegend\": false, \"name\": 4, \"marker\": {\"color\": \"rgb(107,174,214)\", \"outliercolor\": \"rgba(219, 64, 82, 0.6)\", \"line\": {\"outlierwidth\": 2, \"outliercolor\": \"rgba(219, 64, 82, 0.6)\"}}, \"y\": [6, 6, 3, 5, 2, 2, 4, 2, 2, 2, 2], \"x\": 4, \"line\": {\"color\": \"rgb(107,174,214)\"}, \"type\": \"box\", \"boxpoints\": \"suspectedoutliers\"}, {\"showlegend\": false, \"name\": 5, \"marker\": {\"color\": \"rgb(107,174,214)\", \"outliercolor\": \"rgba(219, 64, 82, 0.6)\", \"line\": {\"outlierwidth\": 2, \"outliercolor\": \"rgba(219, 64, 82, 0.6)\"}}, \"y\": [7, 6, 3, 5, 4, 3, 4, 2, 3, 4, 2], \"x\": 5, \"line\": {\"color\": \"rgb(107,174,214)\"}, \"type\": \"box\", \"boxpoints\": \"suspectedoutliers\"}, {\"showlegend\": false, \"name\": 6, \"marker\": {\"color\": \"rgb(107,174,214)\", \"outliercolor\": \"rgba(219, 64, 82, 0.6)\", \"line\": {\"outlierwidth\": 2, \"outliercolor\": \"rgba(219, 64, 82, 0.6)\"}}, \"y\": [7, 8, 4, 5, 4, 3, 4, 3, 5, 5, 2], \"x\": 6, \"line\": {\"color\": \"rgb(107,174,214)\"}, \"type\": \"box\", \"boxpoints\": \"suspectedoutliers\"}, {\"showlegend\": false, \"name\": 7, \"marker\": {\"color\": \"rgb(107,174,214)\", \"outliercolor\": \"rgba(219, 64, 82, 0.6)\", \"line\": {\"outlierwidth\": 2, \"outliercolor\": \"rgba(219, 64, 82, 0.6)\"}}, \"y\": [7, 8, 5, 5, 5, 3, 4, 3, 5, 6, 2], \"x\": 7, \"line\": {\"color\": \"rgb(107,174,214)\"}, \"type\": \"box\", \"boxpoints\": \"suspectedoutliers\"}, {\"showlegend\": false, \"name\": 8, \"marker\": {\"color\": \"rgb(107,174,214)\", \"outliercolor\": \"rgba(219, 64, 82, 0.6)\", \"line\": {\"outlierwidth\": 2, \"outliercolor\": \"rgba(219, 64, 82, 0.6)\"}}, \"y\": [8, 9, 5, 5, 7, 4, 4, 3, 7, 6, 2], \"x\": 8, \"line\": {\"color\": \"rgb(107,174,214)\"}, \"type\": \"box\", \"boxpoints\": \"suspectedoutliers\"}, {\"showlegend\": false, \"name\": 9, \"marker\": {\"color\": \"rgb(107,174,214)\", \"outliercolor\": \"rgba(219, 64, 82, 0.6)\", \"line\": {\"outlierwidth\": 2, \"outliercolor\": \"rgba(219, 64, 82, 0.6)\"}}, \"y\": [9, 9, 7, 5, 8, 4, 4, 4, 7, 6, 2], \"x\": 9, \"line\": {\"color\": \"rgb(107,174,214)\"}, \"type\": \"box\", \"boxpoints\": \"suspectedoutliers\"}, {\"showlegend\": false, \"name\": 10, \"marker\": {\"color\": \"rgb(107,174,214)\", \"outliercolor\": \"rgba(219, 64, 82, 0.6)\", \"line\": {\"outlierwidth\": 2, \"outliercolor\": \"rgba(219, 64, 82, 0.6)\"}}, \"y\": [9, 9, 7, 5, 8, 4, 4, 5, 9, 6, 2], \"x\": 10, \"line\": {\"color\": \"rgb(107,174,214)\"}, \"type\": \"box\", \"boxpoints\": \"suspectedoutliers\"}, {\"showlegend\": false, \"name\": 11, \"marker\": {\"color\": \"rgb(107,174,214)\", \"outliercolor\": \"rgba(219, 64, 82, 0.6)\", \"line\": {\"outlierwidth\": 2, \"outliercolor\": \"rgba(219, 64, 82, 0.6)\"}}, \"y\": [9, 10, 7, 5, 10, 4, 4, 5, 10, 7, 2], \"x\": 11, \"line\": {\"color\": \"rgb(107,174,214)\"}, \"type\": \"box\", \"boxpoints\": \"suspectedoutliers\"}, {\"showlegend\": false, \"name\": 12, \"marker\": {\"color\": \"rgb(107,174,214)\", \"outliercolor\": \"rgba(219, 64, 82, 0.6)\", \"line\": {\"outlierwidth\": 2, \"outliercolor\": \"rgba(219, 64, 82, 0.6)\"}}, \"y\": [9, 12, 7, 5, 11, 4, 4, 5, 10, 7, 3], \"x\": 12, \"line\": {\"color\": \"rgb(107,174,214)\"}, \"type\": \"box\", \"boxpoints\": \"suspectedoutliers\"}, {\"showlegend\": false, \"name\": 13, \"marker\": {\"color\": \"rgb(107,174,214)\", \"outliercolor\": \"rgba(219, 64, 82, 0.6)\", \"line\": {\"outlierwidth\": 2, \"outliercolor\": \"rgba(219, 64, 82, 0.6)\"}}, \"y\": [9, 12, 7, 6, 12, 4, 5, 6, 13, 7, 3], \"x\": 13, \"line\": {\"color\": \"rgb(107,174,214)\"}, \"type\": \"box\", \"boxpoints\": \"suspectedoutliers\"}, {\"showlegend\": false, \"name\": 14, \"marker\": {\"color\": \"rgb(107,174,214)\", \"outliercolor\": \"rgba(219, 64, 82, 0.6)\", \"line\": {\"outlierwidth\": 2, \"outliercolor\": \"rgba(219, 64, 82, 0.6)\"}}, \"y\": [9, 13, 7, 7, 12, 5, 5, 8, 13, 7, 3], \"x\": 14, \"line\": {\"color\": \"rgb(107,174,214)\"}, \"type\": \"box\", \"boxpoints\": \"suspectedoutliers\"}, {\"showlegend\": false, \"name\": 15, \"marker\": {\"color\": \"rgb(107,174,214)\", \"outliercolor\": \"rgba(219, 64, 82, 0.6)\", \"line\": {\"outlierwidth\": 2, \"outliercolor\": \"rgba(219, 64, 82, 0.6)\"}}, \"y\": [9, 13, 7, 7, 12, 5, 6, 8, 14, 7, 3], \"x\": 15, \"line\": {\"color\": \"rgb(107,174,214)\"}, \"type\": \"box\", \"boxpoints\": \"suspectedoutliers\"}, {\"showlegend\": false, \"name\": 16, \"marker\": {\"color\": \"rgb(107,174,214)\", \"outliercolor\": \"rgba(219, 64, 82, 0.6)\", \"line\": {\"outlierwidth\": 2, \"outliercolor\": \"rgba(219, 64, 82, 0.6)\"}}, \"y\": [9, 13, 7, 8, 12, 6, 6, 9, 14, 7, 4], \"x\": 16, \"line\": {\"color\": \"rgb(107,174,214)\"}, \"type\": \"box\", \"boxpoints\": \"suspectedoutliers\"}, {\"showlegend\": false, \"name\": 17, \"marker\": {\"color\": \"rgb(107,174,214)\", \"outliercolor\": \"rgba(219, 64, 82, 0.6)\", \"line\": {\"outlierwidth\": 2, \"outliercolor\": \"rgba(219, 64, 82, 0.6)\"}}, \"y\": [9, 13, 7, 10, 13, 6, 6, 9, 15, 7, 4], \"x\": 17, \"line\": {\"color\": \"rgb(107,174,214)\"}, \"type\": \"box\", \"boxpoints\": \"suspectedoutliers\"}, {\"showlegend\": false, \"name\": 18, \"marker\": {\"color\": \"rgb(107,174,214)\", \"outliercolor\": \"rgba(219, 64, 82, 0.6)\", \"line\": {\"outlierwidth\": 2, \"outliercolor\": \"rgba(219, 64, 82, 0.6)\"}}, \"y\": [10, 14, 7, 10, 13, 6, 6, 9, 17, 7, 4], \"x\": 18, \"line\": {\"color\": \"rgb(107,174,214)\"}, \"type\": \"box\", \"boxpoints\": \"suspectedoutliers\"}, {\"showlegend\": false, \"name\": 19, \"marker\": {\"color\": \"rgb(107,174,214)\", \"outliercolor\": \"rgba(219, 64, 82, 0.6)\", \"line\": {\"outlierwidth\": 2, \"outliercolor\": \"rgba(219, 64, 82, 0.6)\"}}, \"y\": [10, 14, 7, 10, 14, 6, 6, 9, 17, 8, 4], \"x\": 19, \"line\": {\"color\": \"rgb(107,174,214)\"}, \"type\": \"box\", \"boxpoints\": \"suspectedoutliers\"}, {\"showlegend\": false, \"name\": 20, \"marker\": {\"color\": \"rgb(107,174,214)\", \"outliercolor\": \"rgba(219, 64, 82, 0.6)\", \"line\": {\"outlierwidth\": 2, \"outliercolor\": \"rgba(219, 64, 82, 0.6)\"}}, \"y\": [10, 14, 9, 10, 14, 6, 6, 10, 18, 8, 4], \"x\": 20, \"line\": {\"color\": \"rgb(107,174,214)\"}, \"type\": \"box\", \"boxpoints\": \"suspectedoutliers\"}, {\"showlegend\": false, \"name\": 21, \"marker\": {\"color\": \"rgb(107,174,214)\", \"outliercolor\": \"rgba(219, 64, 82, 0.6)\", \"line\": {\"outlierwidth\": 2, \"outliercolor\": \"rgba(219, 64, 82, 0.6)\"}}, \"y\": [12, 14, 10, 10, 14, 6, 6, 10, 18, 10, 4], \"x\": 21, \"line\": {\"color\": \"rgb(107,174,214)\"}, \"type\": \"box\", \"boxpoints\": \"suspectedoutliers\"}, {\"showlegend\": false, \"name\": 22, \"marker\": {\"color\": \"rgb(107,174,214)\", \"outliercolor\": \"rgba(219, 64, 82, 0.6)\", \"line\": {\"outlierwidth\": 2, \"outliercolor\": \"rgba(219, 64, 82, 0.6)\"}}, \"y\": [12, 15, 11, 12, 14, 6, 6, 11, 19, 10, 4], \"x\": 22, \"line\": {\"color\": \"rgb(107,174,214)\"}, \"type\": \"box\", \"boxpoints\": \"suspectedoutliers\"}, {\"showlegend\": false, \"name\": 23, \"marker\": {\"color\": \"rgb(107,174,214)\", \"outliercolor\": \"rgba(219, 64, 82, 0.6)\", \"line\": {\"outlierwidth\": 2, \"outliercolor\": \"rgba(219, 64, 82, 0.6)\"}}, \"y\": [12, 16, 12, 13, 14, 7, 7, 13, 20, 11, 4], \"x\": 23, \"line\": {\"color\": \"rgb(107,174,214)\"}, \"type\": \"box\", \"boxpoints\": \"suspectedoutliers\"}, {\"showlegend\": false, \"name\": 24, \"marker\": {\"color\": \"rgb(107,174,214)\", \"outliercolor\": \"rgba(219, 64, 82, 0.6)\", \"line\": {\"outlierwidth\": 2, \"outliercolor\": \"rgba(219, 64, 82, 0.6)\"}}, \"y\": [13, 17, 12, 13, 15, 7, 7, 14, 21, 12, 6], \"x\": 24, \"line\": {\"color\": \"rgb(107,174,214)\"}, \"type\": \"box\", \"boxpoints\": \"suspectedoutliers\"}, {\"showlegend\": false, \"name\": 25, \"marker\": {\"color\": \"rgb(107,174,214)\", \"outliercolor\": \"rgba(219, 64, 82, 0.6)\", \"line\": {\"outlierwidth\": 2, \"outliercolor\": \"rgba(219, 64, 82, 0.6)\"}}, \"y\": [13, 18, 12, 14, 15, 9, 8, 14, 21, 13, 7], \"x\": 25, \"line\": {\"color\": \"rgb(107,174,214)\"}, \"type\": \"box\", \"boxpoints\": \"suspectedoutliers\"}, {\"showlegend\": false, \"name\": 26, \"marker\": {\"color\": \"rgb(107,174,214)\", \"outliercolor\": \"rgba(219, 64, 82, 0.6)\", \"line\": {\"outlierwidth\": 2, \"outliercolor\": \"rgba(219, 64, 82, 0.6)\"}}, \"y\": [13, 20, 12, 14, 15, 9, 8, 15, 21, 14, 7], \"x\": 26, \"line\": {\"color\": \"rgb(107,174,214)\"}, \"type\": \"box\", \"boxpoints\": \"suspectedoutliers\"}, {\"showlegend\": false, \"name\": 27, \"marker\": {\"color\": \"rgb(107,174,214)\", \"outliercolor\": \"rgba(219, 64, 82, 0.6)\", \"line\": {\"outlierwidth\": 2, \"outliercolor\": \"rgba(219, 64, 82, 0.6)\"}}, \"y\": [14, 20, 13, 14, 16, 11, 9, 15, 21, 14, 7], \"x\": 27, \"line\": {\"color\": \"rgb(107,174,214)\"}, \"type\": \"box\", \"boxpoints\": \"suspectedoutliers\"}, {\"showlegend\": false, \"name\": 28, \"marker\": {\"color\": \"rgb(107,174,214)\", \"outliercolor\": \"rgba(219, 64, 82, 0.6)\", \"line\": {\"outlierwidth\": 2, \"outliercolor\": \"rgba(219, 64, 82, 0.6)\"}}, \"y\": [16, 20, 13, 14, 16, 11, 10, 16, 22, 16, 7], \"x\": 28, \"line\": {\"color\": \"rgb(107,174,214)\"}, \"type\": \"box\", \"boxpoints\": \"suspectedoutliers\"}, {\"showlegend\": false, \"name\": 29, \"marker\": {\"color\": \"rgb(107,174,214)\", \"outliercolor\": \"rgba(219, 64, 82, 0.6)\", \"line\": {\"outlierwidth\": 2, \"outliercolor\": \"rgba(219, 64, 82, 0.6)\"}}, \"y\": [16, 20, 14, 15, 16, 12, 10, 17, 24, 17, 7], \"x\": 29, \"line\": {\"color\": \"rgb(107,174,214)\"}, \"type\": \"box\", \"boxpoints\": \"suspectedoutliers\"}, {\"showlegend\": false, \"name\": 30, \"marker\": {\"color\": \"rgb(107,174,214)\", \"outliercolor\": \"rgba(219, 64, 82, 0.6)\", \"line\": {\"outlierwidth\": 2, \"outliercolor\": \"rgba(219, 64, 82, 0.6)\"}}, \"y\": [18, 20, 14, 16, 16, 13, 10, 17, 24, 18, 7], \"x\": 30, \"line\": {\"color\": \"rgb(107,174,214)\"}, \"type\": \"box\", \"boxpoints\": \"suspectedoutliers\"}, {\"showlegend\": false, \"name\": 31, \"marker\": {\"color\": \"rgb(107,174,214)\", \"outliercolor\": \"rgba(219, 64, 82, 0.6)\", \"line\": {\"outlierwidth\": 2, \"outliercolor\": \"rgba(219, 64, 82, 0.6)\"}}, \"y\": [19, 21, 14, 16, 16, 13, 10, 18, 24, 18, 7], \"x\": 31, \"line\": {\"color\": \"rgb(107,174,214)\"}, \"type\": \"box\", \"boxpoints\": \"suspectedoutliers\"}, {\"showlegend\": false, \"name\": 32, \"marker\": {\"color\": \"rgb(107,174,214)\", \"outliercolor\": \"rgba(219, 64, 82, 0.6)\", \"line\": {\"outlierwidth\": 2, \"outliercolor\": \"rgba(219, 64, 82, 0.6)\"}}, \"y\": [20, 21, 14, 16, 18, 13, 10, 19, 27, 18, 7], \"x\": 32, \"line\": {\"color\": \"rgb(107,174,214)\"}, \"type\": \"box\", \"boxpoints\": \"suspectedoutliers\"}, {\"showlegend\": false, \"name\": 33, \"marker\": {\"color\": \"rgb(107,174,214)\", \"outliercolor\": \"rgba(219, 64, 82, 0.6)\", \"line\": {\"outlierwidth\": 2, \"outliercolor\": \"rgba(219, 64, 82, 0.6)\"}}, \"y\": [20, 21, 15, 17, 18, 13, 10, 19, 27, 18, 9], \"x\": 33, \"line\": {\"color\": \"rgb(107,174,214)\"}, \"type\": \"box\", \"boxpoints\": \"suspectedoutliers\"}, {\"showlegend\": false, \"name\": 34, \"marker\": {\"color\": \"rgb(107,174,214)\", \"outliercolor\": \"rgba(219, 64, 82, 0.6)\", \"line\": {\"outlierwidth\": 2, \"outliercolor\": \"rgba(219, 64, 82, 0.6)\"}}, \"y\": [21, 23, 15, 19, 18, 13, 10, 19, 27, 19, 9], \"x\": 34, \"line\": {\"color\": \"rgb(107,174,214)\"}, \"type\": \"box\", \"boxpoints\": \"suspectedoutliers\"}, {\"showlegend\": false, \"name\": 35, \"marker\": {\"color\": \"rgb(107,174,214)\", \"outliercolor\": \"rgba(219, 64, 82, 0.6)\", \"line\": {\"outlierwidth\": 2, \"outliercolor\": \"rgba(219, 64, 82, 0.6)\"}}, \"y\": [22, 23, 15, 20, 18, 13, 10, 19, 28, 20, 9], \"x\": 35, \"line\": {\"color\": \"rgb(107,174,214)\"}, \"type\": \"box\", \"boxpoints\": \"suspectedoutliers\"}, {\"showlegend\": false, \"name\": 36, \"marker\": {\"color\": \"rgb(107,174,214)\", \"outliercolor\": \"rgba(219, 64, 82, 0.6)\", \"line\": {\"outlierwidth\": 2, \"outliercolor\": \"rgba(219, 64, 82, 0.6)\"}}, \"y\": [24, 24, 15, 20, 18, 13, 11, 19, 30, 22, 9], \"x\": 36, \"line\": {\"color\": \"rgb(107,174,214)\"}, \"type\": \"box\", \"boxpoints\": \"suspectedoutliers\"}, {\"showlegend\": false, \"name\": 37, \"marker\": {\"color\": \"rgb(107,174,214)\", \"outliercolor\": \"rgba(219, 64, 82, 0.6)\", \"line\": {\"outlierwidth\": 2, \"outliercolor\": \"rgba(219, 64, 82, 0.6)\"}}, \"y\": [24, 24, 15, 20, 18, 14, 11, 20, 30, 22, 9], \"x\": 37, \"line\": {\"color\": \"rgb(107,174,214)\"}, \"type\": \"box\", \"boxpoints\": \"suspectedoutliers\"}, {\"showlegend\": false, \"name\": 38, \"marker\": {\"color\": \"rgb(107,174,214)\", \"outliercolor\": \"rgba(219, 64, 82, 0.6)\", \"line\": {\"outlierwidth\": 2, \"outliercolor\": \"rgba(219, 64, 82, 0.6)\"}}, \"y\": [25, 24, 16, 20, 19, 15, 11, 20, 30, 23, 9], \"x\": 38, \"line\": {\"color\": \"rgb(107,174,214)\"}, \"type\": \"box\", \"boxpoints\": \"suspectedoutliers\"}, {\"showlegend\": false, \"name\": 39, \"marker\": {\"color\": \"rgb(107,174,214)\", \"outliercolor\": \"rgba(219, 64, 82, 0.6)\", \"line\": {\"outlierwidth\": 2, \"outliercolor\": \"rgba(219, 64, 82, 0.6)\"}}, \"y\": [25, 26, 16, 20, 19, 16, 11, 20, 31, 23, 10], \"x\": 39, \"line\": {\"color\": \"rgb(107,174,214)\"}, \"type\": \"box\", \"boxpoints\": \"suspectedoutliers\"}, {\"showlegend\": false, \"name\": 40, \"marker\": {\"color\": \"rgb(107,174,214)\", \"outliercolor\": \"rgba(219, 64, 82, 0.6)\", \"line\": {\"outlierwidth\": 2, \"outliercolor\": \"rgba(219, 64, 82, 0.6)\"}}, \"y\": [25, 27, 16, 20, 19, 17, 11, 20, 31, 23, 10], \"x\": 40, \"line\": {\"color\": \"rgb(107,174,214)\"}, \"type\": \"box\", \"boxpoints\": \"suspectedoutliers\"}, {\"showlegend\": false, \"name\": 41, \"marker\": {\"color\": \"rgb(107,174,214)\", \"outliercolor\": \"rgba(219, 64, 82, 0.6)\", \"line\": {\"outlierwidth\": 2, \"outliercolor\": \"rgba(219, 64, 82, 0.6)\"}}, \"y\": [25, 28, 17, 20, 19, 17, 12, 21, 32, 23, 10], \"x\": 41, \"line\": {\"color\": \"rgb(107,174,214)\"}, \"type\": \"box\", \"boxpoints\": \"suspectedoutliers\"}, {\"showlegend\": false, \"name\": 42, \"marker\": {\"color\": \"rgb(107,174,214)\", \"outliercolor\": \"rgba(219, 64, 82, 0.6)\", \"line\": {\"outlierwidth\": 2, \"outliercolor\": \"rgba(219, 64, 82, 0.6)\"}}, \"y\": [26, 28, 17, 20, 19, 17, 14, 23, 33, 24, 11], \"x\": 42, \"line\": {\"color\": \"rgb(107,174,214)\"}, \"type\": \"box\", \"boxpoints\": \"suspectedoutliers\"}, {\"showlegend\": false, \"name\": 43, \"marker\": {\"color\": \"rgb(107,174,214)\", \"outliercolor\": \"rgba(219, 64, 82, 0.6)\", \"line\": {\"outlierwidth\": 2, \"outliercolor\": \"rgba(219, 64, 82, 0.6)\"}}, \"y\": [26, 28, 17, 20, 19, 17, 14, 23, 34, 25, 11], \"x\": 43, \"line\": {\"color\": \"rgb(107,174,214)\"}, \"type\": \"box\", \"boxpoints\": \"suspectedoutliers\"}, {\"showlegend\": false, \"name\": 44, \"marker\": {\"color\": \"rgb(107,174,214)\", \"outliercolor\": \"rgba(219, 64, 82, 0.6)\", \"line\": {\"outlierwidth\": 2, \"outliercolor\": \"rgba(219, 64, 82, 0.6)\"}}, \"y\": [27, 29, 18, 20, 20, 17, 14, 25, 34, 25, 11], \"x\": 44, \"line\": {\"color\": \"rgb(107,174,214)\"}, \"type\": \"box\", \"boxpoints\": \"suspectedoutliers\"}, {\"showlegend\": false, \"name\": 45, \"marker\": {\"color\": \"rgb(107,174,214)\", \"outliercolor\": \"rgba(219, 64, 82, 0.6)\", \"line\": {\"outlierwidth\": 2, \"outliercolor\": \"rgba(219, 64, 82, 0.6)\"}}, \"y\": [27, 29, 18, 20, 21, 18, 14, 26, 35, 25, 12], \"x\": 45, \"line\": {\"color\": \"rgb(107,174,214)\"}, \"type\": \"box\", \"boxpoints\": \"suspectedoutliers\"}, {\"showlegend\": false, \"name\": 46, \"marker\": {\"color\": \"rgb(107,174,214)\", \"outliercolor\": \"rgba(219, 64, 82, 0.6)\", \"line\": {\"outlierwidth\": 2, \"outliercolor\": \"rgba(219, 64, 82, 0.6)\"}}, \"y\": [27, 29, 19, 21, 23, 18, 14, 26, 35, 25, 12], \"x\": 46, \"line\": {\"color\": \"rgb(107,174,214)\"}, \"type\": \"box\", \"boxpoints\": \"suspectedoutliers\"}, {\"showlegend\": false, \"name\": 47, \"marker\": {\"color\": \"rgb(107,174,214)\", \"outliercolor\": \"rgba(219, 64, 82, 0.6)\", \"line\": {\"outlierwidth\": 2, \"outliercolor\": \"rgba(219, 64, 82, 0.6)\"}}, \"y\": [29, 29, 20, 21, 23, 19, 14, 26, 37, 27, 12], \"x\": 47, \"line\": {\"color\": \"rgb(107,174,214)\"}, \"type\": \"box\", \"boxpoints\": \"suspectedoutliers\"}, {\"showlegend\": false, \"name\": \"Mean\", \"mode\": \"lines\", \"y\": [0.0, 1.1818181818181819, 2.090909090909091, 2.8181818181818183, 3.272727272727273, 3.909090909090909, 4.545454545454546, 4.818181818181818, 5.454545454545454, 5.909090909090909, 6.181818181818182, 6.636363636363637, 7.0, 7.636363636363637, 8.090909090909092, 8.272727272727273, 8.636363636363637, 9.0, 9.363636363636363, 9.545454545454545, 9.909090909090908, 10.363636363636363, 10.909090909090908, 11.727272727272727, 12.454545454545455, 13.090909090909092, 13.454545454545455, 14.0, 14.636363636363637, 15.272727272727273, 15.727272727272727, 16.0, 16.636363636363637, 17.0, 17.545454545454547, 17.90909090909091, 18.636363636363637, 18.818181818181817, 19.272727272727273, 19.727272727272727, 19.90909090909091, 20.363636363636363, 21.09090909090909, 21.272727272727273, 21.818181818181817, 22.272727272727273, 22.636363636363637, 23.363636363636363], \"x\": [1, 2, 3, 4, 5, 6, 7, 8, 9, 10, 11, 12, 13, 14, 15, 16, 17, 18, 19, 20, 21, 22, 23, 24, 25, 26, 27, 28, 29, 30, 31, 32, 33, 34, 35, 36, 37, 38, 39, 40, 41, 42, 43, 44, 45, 46, 47], \"type\": \"scatter\"}], {}, {\"linkText\": \"Export to plot.ly\", \"showLink\": true})});</script>"
      ],
      "text/vnd.plotly.v1+html": [
       "<div id=\"c6cf474c-7f41-4d54-a07f-659593243c5c\" style=\"height: 525px; width: 100%;\" class=\"plotly-graph-div\"></div><script type=\"text/javascript\">require([\"plotly\"], function(Plotly) { window.PLOTLYENV=window.PLOTLYENV || {};window.PLOTLYENV.BASE_URL=\"https://plot.ly\";Plotly.newPlot(\"c6cf474c-7f41-4d54-a07f-659593243c5c\", [{\"showlegend\": false, \"name\": 0, \"marker\": {\"color\": \"rgb(107,174,214)\", \"outliercolor\": \"rgba(219, 64, 82, 0.6)\", \"line\": {\"outlierwidth\": 2, \"outliercolor\": \"rgba(219, 64, 82, 0.6)\"}}, \"y\": [0, 0, 0, 0, 0, 0, 0, 0, 0, 0, 0], \"x\": 0, \"line\": {\"color\": \"rgb(107,174,214)\"}, \"type\": \"box\", \"boxpoints\": \"suspectedoutliers\"}, {\"showlegend\": false, \"name\": 1, \"marker\": {\"color\": \"rgb(107,174,214)\", \"outliercolor\": \"rgba(219, 64, 82, 0.6)\", \"line\": {\"outlierwidth\": 2, \"outliercolor\": \"rgba(219, 64, 82, 0.6)\"}}, \"y\": [1, 3, 1, 3, 0, 0, 2, 0, 1, 0, 2], \"x\": 1, \"line\": {\"color\": \"rgb(107,174,214)\"}, \"type\": \"box\", \"boxpoints\": \"suspectedoutliers\"}, {\"showlegend\": false, \"name\": 2, \"marker\": {\"color\": \"rgb(107,174,214)\", \"outliercolor\": \"rgba(219, 64, 82, 0.6)\", \"line\": {\"outlierwidth\": 2, \"outliercolor\": \"rgba(219, 64, 82, 0.6)\"}}, \"y\": [5, 4, 2, 4, 1, 1, 3, 0, 1, 0, 2], \"x\": 2, \"line\": {\"color\": \"rgb(107,174,214)\"}, \"type\": \"box\", \"boxpoints\": \"suspectedoutliers\"}, {\"showlegend\": false, \"name\": 3, \"marker\": {\"color\": \"rgb(107,174,214)\", \"outliercolor\": \"rgba(219, 64, 82, 0.6)\", \"line\": {\"outlierwidth\": 2, \"outliercolor\": \"rgba(219, 64, 82, 0.6)\"}}, \"y\": [5, 5, 3, 5, 2, 1, 4, 1, 2, 1, 2], \"x\": 3, \"line\": {\"color\": \"rgb(107,174,214)\"}, \"type\": \"box\", \"boxpoints\": \"suspectedoutliers\"}, {\"showlegend\": false, \"name\": 4, \"marker\": {\"color\": \"rgb(107,174,214)\", \"outliercolor\": \"rgba(219, 64, 82, 0.6)\", \"line\": {\"outlierwidth\": 2, \"outliercolor\": \"rgba(219, 64, 82, 0.6)\"}}, \"y\": [6, 6, 3, 5, 2, 2, 4, 2, 2, 2, 2], \"x\": 4, \"line\": {\"color\": \"rgb(107,174,214)\"}, \"type\": \"box\", \"boxpoints\": \"suspectedoutliers\"}, {\"showlegend\": false, \"name\": 5, \"marker\": {\"color\": \"rgb(107,174,214)\", \"outliercolor\": \"rgba(219, 64, 82, 0.6)\", \"line\": {\"outlierwidth\": 2, \"outliercolor\": \"rgba(219, 64, 82, 0.6)\"}}, \"y\": [7, 6, 3, 5, 4, 3, 4, 2, 3, 4, 2], \"x\": 5, \"line\": {\"color\": \"rgb(107,174,214)\"}, \"type\": \"box\", \"boxpoints\": \"suspectedoutliers\"}, {\"showlegend\": false, \"name\": 6, \"marker\": {\"color\": \"rgb(107,174,214)\", \"outliercolor\": \"rgba(219, 64, 82, 0.6)\", \"line\": {\"outlierwidth\": 2, \"outliercolor\": \"rgba(219, 64, 82, 0.6)\"}}, \"y\": [7, 8, 4, 5, 4, 3, 4, 3, 5, 5, 2], \"x\": 6, \"line\": {\"color\": \"rgb(107,174,214)\"}, \"type\": \"box\", \"boxpoints\": \"suspectedoutliers\"}, {\"showlegend\": false, \"name\": 7, \"marker\": {\"color\": \"rgb(107,174,214)\", \"outliercolor\": \"rgba(219, 64, 82, 0.6)\", \"line\": {\"outlierwidth\": 2, \"outliercolor\": \"rgba(219, 64, 82, 0.6)\"}}, \"y\": [7, 8, 5, 5, 5, 3, 4, 3, 5, 6, 2], \"x\": 7, \"line\": {\"color\": \"rgb(107,174,214)\"}, \"type\": \"box\", \"boxpoints\": \"suspectedoutliers\"}, {\"showlegend\": false, \"name\": 8, \"marker\": {\"color\": \"rgb(107,174,214)\", \"outliercolor\": \"rgba(219, 64, 82, 0.6)\", \"line\": {\"outlierwidth\": 2, \"outliercolor\": \"rgba(219, 64, 82, 0.6)\"}}, \"y\": [8, 9, 5, 5, 7, 4, 4, 3, 7, 6, 2], \"x\": 8, \"line\": {\"color\": \"rgb(107,174,214)\"}, \"type\": \"box\", \"boxpoints\": \"suspectedoutliers\"}, {\"showlegend\": false, \"name\": 9, \"marker\": {\"color\": \"rgb(107,174,214)\", \"outliercolor\": \"rgba(219, 64, 82, 0.6)\", \"line\": {\"outlierwidth\": 2, \"outliercolor\": \"rgba(219, 64, 82, 0.6)\"}}, \"y\": [9, 9, 7, 5, 8, 4, 4, 4, 7, 6, 2], \"x\": 9, \"line\": {\"color\": \"rgb(107,174,214)\"}, \"type\": \"box\", \"boxpoints\": \"suspectedoutliers\"}, {\"showlegend\": false, \"name\": 10, \"marker\": {\"color\": \"rgb(107,174,214)\", \"outliercolor\": \"rgba(219, 64, 82, 0.6)\", \"line\": {\"outlierwidth\": 2, \"outliercolor\": \"rgba(219, 64, 82, 0.6)\"}}, \"y\": [9, 9, 7, 5, 8, 4, 4, 5, 9, 6, 2], \"x\": 10, \"line\": {\"color\": \"rgb(107,174,214)\"}, \"type\": \"box\", \"boxpoints\": \"suspectedoutliers\"}, {\"showlegend\": false, \"name\": 11, \"marker\": {\"color\": \"rgb(107,174,214)\", \"outliercolor\": \"rgba(219, 64, 82, 0.6)\", \"line\": {\"outlierwidth\": 2, \"outliercolor\": \"rgba(219, 64, 82, 0.6)\"}}, \"y\": [9, 10, 7, 5, 10, 4, 4, 5, 10, 7, 2], \"x\": 11, \"line\": {\"color\": \"rgb(107,174,214)\"}, \"type\": \"box\", \"boxpoints\": \"suspectedoutliers\"}, {\"showlegend\": false, \"name\": 12, \"marker\": {\"color\": \"rgb(107,174,214)\", \"outliercolor\": \"rgba(219, 64, 82, 0.6)\", \"line\": {\"outlierwidth\": 2, \"outliercolor\": \"rgba(219, 64, 82, 0.6)\"}}, \"y\": [9, 12, 7, 5, 11, 4, 4, 5, 10, 7, 3], \"x\": 12, \"line\": {\"color\": \"rgb(107,174,214)\"}, \"type\": \"box\", \"boxpoints\": \"suspectedoutliers\"}, {\"showlegend\": false, \"name\": 13, \"marker\": {\"color\": \"rgb(107,174,214)\", \"outliercolor\": \"rgba(219, 64, 82, 0.6)\", \"line\": {\"outlierwidth\": 2, \"outliercolor\": \"rgba(219, 64, 82, 0.6)\"}}, \"y\": [9, 12, 7, 6, 12, 4, 5, 6, 13, 7, 3], \"x\": 13, \"line\": {\"color\": \"rgb(107,174,214)\"}, \"type\": \"box\", \"boxpoints\": \"suspectedoutliers\"}, {\"showlegend\": false, \"name\": 14, \"marker\": {\"color\": \"rgb(107,174,214)\", \"outliercolor\": \"rgba(219, 64, 82, 0.6)\", \"line\": {\"outlierwidth\": 2, \"outliercolor\": \"rgba(219, 64, 82, 0.6)\"}}, \"y\": [9, 13, 7, 7, 12, 5, 5, 8, 13, 7, 3], \"x\": 14, \"line\": {\"color\": \"rgb(107,174,214)\"}, \"type\": \"box\", \"boxpoints\": \"suspectedoutliers\"}, {\"showlegend\": false, \"name\": 15, \"marker\": {\"color\": \"rgb(107,174,214)\", \"outliercolor\": \"rgba(219, 64, 82, 0.6)\", \"line\": {\"outlierwidth\": 2, \"outliercolor\": \"rgba(219, 64, 82, 0.6)\"}}, \"y\": [9, 13, 7, 7, 12, 5, 6, 8, 14, 7, 3], \"x\": 15, \"line\": {\"color\": \"rgb(107,174,214)\"}, \"type\": \"box\", \"boxpoints\": \"suspectedoutliers\"}, {\"showlegend\": false, \"name\": 16, \"marker\": {\"color\": \"rgb(107,174,214)\", \"outliercolor\": \"rgba(219, 64, 82, 0.6)\", \"line\": {\"outlierwidth\": 2, \"outliercolor\": \"rgba(219, 64, 82, 0.6)\"}}, \"y\": [9, 13, 7, 8, 12, 6, 6, 9, 14, 7, 4], \"x\": 16, \"line\": {\"color\": \"rgb(107,174,214)\"}, \"type\": \"box\", \"boxpoints\": \"suspectedoutliers\"}, {\"showlegend\": false, \"name\": 17, \"marker\": {\"color\": \"rgb(107,174,214)\", \"outliercolor\": \"rgba(219, 64, 82, 0.6)\", \"line\": {\"outlierwidth\": 2, \"outliercolor\": \"rgba(219, 64, 82, 0.6)\"}}, \"y\": [9, 13, 7, 10, 13, 6, 6, 9, 15, 7, 4], \"x\": 17, \"line\": {\"color\": \"rgb(107,174,214)\"}, \"type\": \"box\", \"boxpoints\": \"suspectedoutliers\"}, {\"showlegend\": false, \"name\": 18, \"marker\": {\"color\": \"rgb(107,174,214)\", \"outliercolor\": \"rgba(219, 64, 82, 0.6)\", \"line\": {\"outlierwidth\": 2, \"outliercolor\": \"rgba(219, 64, 82, 0.6)\"}}, \"y\": [10, 14, 7, 10, 13, 6, 6, 9, 17, 7, 4], \"x\": 18, \"line\": {\"color\": \"rgb(107,174,214)\"}, \"type\": \"box\", \"boxpoints\": \"suspectedoutliers\"}, {\"showlegend\": false, \"name\": 19, \"marker\": {\"color\": \"rgb(107,174,214)\", \"outliercolor\": \"rgba(219, 64, 82, 0.6)\", \"line\": {\"outlierwidth\": 2, \"outliercolor\": \"rgba(219, 64, 82, 0.6)\"}}, \"y\": [10, 14, 7, 10, 14, 6, 6, 9, 17, 8, 4], \"x\": 19, \"line\": {\"color\": \"rgb(107,174,214)\"}, \"type\": \"box\", \"boxpoints\": \"suspectedoutliers\"}, {\"showlegend\": false, \"name\": 20, \"marker\": {\"color\": \"rgb(107,174,214)\", \"outliercolor\": \"rgba(219, 64, 82, 0.6)\", \"line\": {\"outlierwidth\": 2, \"outliercolor\": \"rgba(219, 64, 82, 0.6)\"}}, \"y\": [10, 14, 9, 10, 14, 6, 6, 10, 18, 8, 4], \"x\": 20, \"line\": {\"color\": \"rgb(107,174,214)\"}, \"type\": \"box\", \"boxpoints\": \"suspectedoutliers\"}, {\"showlegend\": false, \"name\": 21, \"marker\": {\"color\": \"rgb(107,174,214)\", \"outliercolor\": \"rgba(219, 64, 82, 0.6)\", \"line\": {\"outlierwidth\": 2, \"outliercolor\": \"rgba(219, 64, 82, 0.6)\"}}, \"y\": [12, 14, 10, 10, 14, 6, 6, 10, 18, 10, 4], \"x\": 21, \"line\": {\"color\": \"rgb(107,174,214)\"}, \"type\": \"box\", \"boxpoints\": \"suspectedoutliers\"}, {\"showlegend\": false, \"name\": 22, \"marker\": {\"color\": \"rgb(107,174,214)\", \"outliercolor\": \"rgba(219, 64, 82, 0.6)\", \"line\": {\"outlierwidth\": 2, \"outliercolor\": \"rgba(219, 64, 82, 0.6)\"}}, \"y\": [12, 15, 11, 12, 14, 6, 6, 11, 19, 10, 4], \"x\": 22, \"line\": {\"color\": \"rgb(107,174,214)\"}, \"type\": \"box\", \"boxpoints\": \"suspectedoutliers\"}, {\"showlegend\": false, \"name\": 23, \"marker\": {\"color\": \"rgb(107,174,214)\", \"outliercolor\": \"rgba(219, 64, 82, 0.6)\", \"line\": {\"outlierwidth\": 2, \"outliercolor\": \"rgba(219, 64, 82, 0.6)\"}}, \"y\": [12, 16, 12, 13, 14, 7, 7, 13, 20, 11, 4], \"x\": 23, \"line\": {\"color\": \"rgb(107,174,214)\"}, \"type\": \"box\", \"boxpoints\": \"suspectedoutliers\"}, {\"showlegend\": false, \"name\": 24, \"marker\": {\"color\": \"rgb(107,174,214)\", \"outliercolor\": \"rgba(219, 64, 82, 0.6)\", \"line\": {\"outlierwidth\": 2, \"outliercolor\": \"rgba(219, 64, 82, 0.6)\"}}, \"y\": [13, 17, 12, 13, 15, 7, 7, 14, 21, 12, 6], \"x\": 24, \"line\": {\"color\": \"rgb(107,174,214)\"}, \"type\": \"box\", \"boxpoints\": \"suspectedoutliers\"}, {\"showlegend\": false, \"name\": 25, \"marker\": {\"color\": \"rgb(107,174,214)\", \"outliercolor\": \"rgba(219, 64, 82, 0.6)\", \"line\": {\"outlierwidth\": 2, \"outliercolor\": \"rgba(219, 64, 82, 0.6)\"}}, \"y\": [13, 18, 12, 14, 15, 9, 8, 14, 21, 13, 7], \"x\": 25, \"line\": {\"color\": \"rgb(107,174,214)\"}, \"type\": \"box\", \"boxpoints\": \"suspectedoutliers\"}, {\"showlegend\": false, \"name\": 26, \"marker\": {\"color\": \"rgb(107,174,214)\", \"outliercolor\": \"rgba(219, 64, 82, 0.6)\", \"line\": {\"outlierwidth\": 2, \"outliercolor\": \"rgba(219, 64, 82, 0.6)\"}}, \"y\": [13, 20, 12, 14, 15, 9, 8, 15, 21, 14, 7], \"x\": 26, \"line\": {\"color\": \"rgb(107,174,214)\"}, \"type\": \"box\", \"boxpoints\": \"suspectedoutliers\"}, {\"showlegend\": false, \"name\": 27, \"marker\": {\"color\": \"rgb(107,174,214)\", \"outliercolor\": \"rgba(219, 64, 82, 0.6)\", \"line\": {\"outlierwidth\": 2, \"outliercolor\": \"rgba(219, 64, 82, 0.6)\"}}, \"y\": [14, 20, 13, 14, 16, 11, 9, 15, 21, 14, 7], \"x\": 27, \"line\": {\"color\": \"rgb(107,174,214)\"}, \"type\": \"box\", \"boxpoints\": \"suspectedoutliers\"}, {\"showlegend\": false, \"name\": 28, \"marker\": {\"color\": \"rgb(107,174,214)\", \"outliercolor\": \"rgba(219, 64, 82, 0.6)\", \"line\": {\"outlierwidth\": 2, \"outliercolor\": \"rgba(219, 64, 82, 0.6)\"}}, \"y\": [16, 20, 13, 14, 16, 11, 10, 16, 22, 16, 7], \"x\": 28, \"line\": {\"color\": \"rgb(107,174,214)\"}, \"type\": \"box\", \"boxpoints\": \"suspectedoutliers\"}, {\"showlegend\": false, \"name\": 29, \"marker\": {\"color\": \"rgb(107,174,214)\", \"outliercolor\": \"rgba(219, 64, 82, 0.6)\", \"line\": {\"outlierwidth\": 2, \"outliercolor\": \"rgba(219, 64, 82, 0.6)\"}}, \"y\": [16, 20, 14, 15, 16, 12, 10, 17, 24, 17, 7], \"x\": 29, \"line\": {\"color\": \"rgb(107,174,214)\"}, \"type\": \"box\", \"boxpoints\": \"suspectedoutliers\"}, {\"showlegend\": false, \"name\": 30, \"marker\": {\"color\": \"rgb(107,174,214)\", \"outliercolor\": \"rgba(219, 64, 82, 0.6)\", \"line\": {\"outlierwidth\": 2, \"outliercolor\": \"rgba(219, 64, 82, 0.6)\"}}, \"y\": [18, 20, 14, 16, 16, 13, 10, 17, 24, 18, 7], \"x\": 30, \"line\": {\"color\": \"rgb(107,174,214)\"}, \"type\": \"box\", \"boxpoints\": \"suspectedoutliers\"}, {\"showlegend\": false, \"name\": 31, \"marker\": {\"color\": \"rgb(107,174,214)\", \"outliercolor\": \"rgba(219, 64, 82, 0.6)\", \"line\": {\"outlierwidth\": 2, \"outliercolor\": \"rgba(219, 64, 82, 0.6)\"}}, \"y\": [19, 21, 14, 16, 16, 13, 10, 18, 24, 18, 7], \"x\": 31, \"line\": {\"color\": \"rgb(107,174,214)\"}, \"type\": \"box\", \"boxpoints\": \"suspectedoutliers\"}, {\"showlegend\": false, \"name\": 32, \"marker\": {\"color\": \"rgb(107,174,214)\", \"outliercolor\": \"rgba(219, 64, 82, 0.6)\", \"line\": {\"outlierwidth\": 2, \"outliercolor\": \"rgba(219, 64, 82, 0.6)\"}}, \"y\": [20, 21, 14, 16, 18, 13, 10, 19, 27, 18, 7], \"x\": 32, \"line\": {\"color\": \"rgb(107,174,214)\"}, \"type\": \"box\", \"boxpoints\": \"suspectedoutliers\"}, {\"showlegend\": false, \"name\": 33, \"marker\": {\"color\": \"rgb(107,174,214)\", \"outliercolor\": \"rgba(219, 64, 82, 0.6)\", \"line\": {\"outlierwidth\": 2, \"outliercolor\": \"rgba(219, 64, 82, 0.6)\"}}, \"y\": [20, 21, 15, 17, 18, 13, 10, 19, 27, 18, 9], \"x\": 33, \"line\": {\"color\": \"rgb(107,174,214)\"}, \"type\": \"box\", \"boxpoints\": \"suspectedoutliers\"}, {\"showlegend\": false, \"name\": 34, \"marker\": {\"color\": \"rgb(107,174,214)\", \"outliercolor\": \"rgba(219, 64, 82, 0.6)\", \"line\": {\"outlierwidth\": 2, \"outliercolor\": \"rgba(219, 64, 82, 0.6)\"}}, \"y\": [21, 23, 15, 19, 18, 13, 10, 19, 27, 19, 9], \"x\": 34, \"line\": {\"color\": \"rgb(107,174,214)\"}, \"type\": \"box\", \"boxpoints\": \"suspectedoutliers\"}, {\"showlegend\": false, \"name\": 35, \"marker\": {\"color\": \"rgb(107,174,214)\", \"outliercolor\": \"rgba(219, 64, 82, 0.6)\", \"line\": {\"outlierwidth\": 2, \"outliercolor\": \"rgba(219, 64, 82, 0.6)\"}}, \"y\": [22, 23, 15, 20, 18, 13, 10, 19, 28, 20, 9], \"x\": 35, \"line\": {\"color\": \"rgb(107,174,214)\"}, \"type\": \"box\", \"boxpoints\": \"suspectedoutliers\"}, {\"showlegend\": false, \"name\": 36, \"marker\": {\"color\": \"rgb(107,174,214)\", \"outliercolor\": \"rgba(219, 64, 82, 0.6)\", \"line\": {\"outlierwidth\": 2, \"outliercolor\": \"rgba(219, 64, 82, 0.6)\"}}, \"y\": [24, 24, 15, 20, 18, 13, 11, 19, 30, 22, 9], \"x\": 36, \"line\": {\"color\": \"rgb(107,174,214)\"}, \"type\": \"box\", \"boxpoints\": \"suspectedoutliers\"}, {\"showlegend\": false, \"name\": 37, \"marker\": {\"color\": \"rgb(107,174,214)\", \"outliercolor\": \"rgba(219, 64, 82, 0.6)\", \"line\": {\"outlierwidth\": 2, \"outliercolor\": \"rgba(219, 64, 82, 0.6)\"}}, \"y\": [24, 24, 15, 20, 18, 14, 11, 20, 30, 22, 9], \"x\": 37, \"line\": {\"color\": \"rgb(107,174,214)\"}, \"type\": \"box\", \"boxpoints\": \"suspectedoutliers\"}, {\"showlegend\": false, \"name\": 38, \"marker\": {\"color\": \"rgb(107,174,214)\", \"outliercolor\": \"rgba(219, 64, 82, 0.6)\", \"line\": {\"outlierwidth\": 2, \"outliercolor\": \"rgba(219, 64, 82, 0.6)\"}}, \"y\": [25, 24, 16, 20, 19, 15, 11, 20, 30, 23, 9], \"x\": 38, \"line\": {\"color\": \"rgb(107,174,214)\"}, \"type\": \"box\", \"boxpoints\": \"suspectedoutliers\"}, {\"showlegend\": false, \"name\": 39, \"marker\": {\"color\": \"rgb(107,174,214)\", \"outliercolor\": \"rgba(219, 64, 82, 0.6)\", \"line\": {\"outlierwidth\": 2, \"outliercolor\": \"rgba(219, 64, 82, 0.6)\"}}, \"y\": [25, 26, 16, 20, 19, 16, 11, 20, 31, 23, 10], \"x\": 39, \"line\": {\"color\": \"rgb(107,174,214)\"}, \"type\": \"box\", \"boxpoints\": \"suspectedoutliers\"}, {\"showlegend\": false, \"name\": 40, \"marker\": {\"color\": \"rgb(107,174,214)\", \"outliercolor\": \"rgba(219, 64, 82, 0.6)\", \"line\": {\"outlierwidth\": 2, \"outliercolor\": \"rgba(219, 64, 82, 0.6)\"}}, \"y\": [25, 27, 16, 20, 19, 17, 11, 20, 31, 23, 10], \"x\": 40, \"line\": {\"color\": \"rgb(107,174,214)\"}, \"type\": \"box\", \"boxpoints\": \"suspectedoutliers\"}, {\"showlegend\": false, \"name\": 41, \"marker\": {\"color\": \"rgb(107,174,214)\", \"outliercolor\": \"rgba(219, 64, 82, 0.6)\", \"line\": {\"outlierwidth\": 2, \"outliercolor\": \"rgba(219, 64, 82, 0.6)\"}}, \"y\": [25, 28, 17, 20, 19, 17, 12, 21, 32, 23, 10], \"x\": 41, \"line\": {\"color\": \"rgb(107,174,214)\"}, \"type\": \"box\", \"boxpoints\": \"suspectedoutliers\"}, {\"showlegend\": false, \"name\": 42, \"marker\": {\"color\": \"rgb(107,174,214)\", \"outliercolor\": \"rgba(219, 64, 82, 0.6)\", \"line\": {\"outlierwidth\": 2, \"outliercolor\": \"rgba(219, 64, 82, 0.6)\"}}, \"y\": [26, 28, 17, 20, 19, 17, 14, 23, 33, 24, 11], \"x\": 42, \"line\": {\"color\": \"rgb(107,174,214)\"}, \"type\": \"box\", \"boxpoints\": \"suspectedoutliers\"}, {\"showlegend\": false, \"name\": 43, \"marker\": {\"color\": \"rgb(107,174,214)\", \"outliercolor\": \"rgba(219, 64, 82, 0.6)\", \"line\": {\"outlierwidth\": 2, \"outliercolor\": \"rgba(219, 64, 82, 0.6)\"}}, \"y\": [26, 28, 17, 20, 19, 17, 14, 23, 34, 25, 11], \"x\": 43, \"line\": {\"color\": \"rgb(107,174,214)\"}, \"type\": \"box\", \"boxpoints\": \"suspectedoutliers\"}, {\"showlegend\": false, \"name\": 44, \"marker\": {\"color\": \"rgb(107,174,214)\", \"outliercolor\": \"rgba(219, 64, 82, 0.6)\", \"line\": {\"outlierwidth\": 2, \"outliercolor\": \"rgba(219, 64, 82, 0.6)\"}}, \"y\": [27, 29, 18, 20, 20, 17, 14, 25, 34, 25, 11], \"x\": 44, \"line\": {\"color\": \"rgb(107,174,214)\"}, \"type\": \"box\", \"boxpoints\": \"suspectedoutliers\"}, {\"showlegend\": false, \"name\": 45, \"marker\": {\"color\": \"rgb(107,174,214)\", \"outliercolor\": \"rgba(219, 64, 82, 0.6)\", \"line\": {\"outlierwidth\": 2, \"outliercolor\": \"rgba(219, 64, 82, 0.6)\"}}, \"y\": [27, 29, 18, 20, 21, 18, 14, 26, 35, 25, 12], \"x\": 45, \"line\": {\"color\": \"rgb(107,174,214)\"}, \"type\": \"box\", \"boxpoints\": \"suspectedoutliers\"}, {\"showlegend\": false, \"name\": 46, \"marker\": {\"color\": \"rgb(107,174,214)\", \"outliercolor\": \"rgba(219, 64, 82, 0.6)\", \"line\": {\"outlierwidth\": 2, \"outliercolor\": \"rgba(219, 64, 82, 0.6)\"}}, \"y\": [27, 29, 19, 21, 23, 18, 14, 26, 35, 25, 12], \"x\": 46, \"line\": {\"color\": \"rgb(107,174,214)\"}, \"type\": \"box\", \"boxpoints\": \"suspectedoutliers\"}, {\"showlegend\": false, \"name\": 47, \"marker\": {\"color\": \"rgb(107,174,214)\", \"outliercolor\": \"rgba(219, 64, 82, 0.6)\", \"line\": {\"outlierwidth\": 2, \"outliercolor\": \"rgba(219, 64, 82, 0.6)\"}}, \"y\": [29, 29, 20, 21, 23, 19, 14, 26, 37, 27, 12], \"x\": 47, \"line\": {\"color\": \"rgb(107,174,214)\"}, \"type\": \"box\", \"boxpoints\": \"suspectedoutliers\"}, {\"showlegend\": false, \"name\": \"Mean\", \"mode\": \"lines\", \"y\": [0.0, 1.1818181818181819, 2.090909090909091, 2.8181818181818183, 3.272727272727273, 3.909090909090909, 4.545454545454546, 4.818181818181818, 5.454545454545454, 5.909090909090909, 6.181818181818182, 6.636363636363637, 7.0, 7.636363636363637, 8.090909090909092, 8.272727272727273, 8.636363636363637, 9.0, 9.363636363636363, 9.545454545454545, 9.909090909090908, 10.363636363636363, 10.909090909090908, 11.727272727272727, 12.454545454545455, 13.090909090909092, 13.454545454545455, 14.0, 14.636363636363637, 15.272727272727273, 15.727272727272727, 16.0, 16.636363636363637, 17.0, 17.545454545454547, 17.90909090909091, 18.636363636363637, 18.818181818181817, 19.272727272727273, 19.727272727272727, 19.90909090909091, 20.363636363636363, 21.09090909090909, 21.272727272727273, 21.818181818181817, 22.272727272727273, 22.636363636363637, 23.363636363636363], \"x\": [1, 2, 3, 4, 5, 6, 7, 8, 9, 10, 11, 12, 13, 14, 15, 16, 17, 18, 19, 20, 21, 22, 23, 24, 25, 26, 27, 28, 29, 30, 31, 32, 33, 34, 35, 36, 37, 38, 39, 40, 41, 42, 43, 44, 45, 46, 47], \"type\": \"scatter\"}], {}, {\"linkText\": \"Export to plot.ly\", \"showLink\": true})});</script>"
      ]
     },
     "metadata": {},
     "output_type": "display_data"
    },
    {
     "data": {
      "application/vnd.plotly.v1+json": {
       "data": [
        {
         "boxpoints": "suspectedoutliers",
         "line": {
          "color": "rgb(107,174,214)"
         },
         "marker": {
          "color": "rgb(107,174,214)",
          "line": {
           "outliercolor": "rgba(219, 64, 82, 0.6)",
           "outlierwidth": 2
          },
          "outliercolor": "rgba(219, 64, 82, 0.6)"
         },
         "name": 0,
         "showlegend": false,
         "type": "box",
         "x": 0,
         "y": [
          0.8860294117647058,
          0.8602941176470589,
          0.9166666666666666,
          0.9066666666666666,
          0.9055944055944056,
          0.8709677419354839,
          0.9102040816326531,
          0.864963503649635,
          0.89937106918239,
          0.914179104477612,
          0.8832684824902723
         ]
        },
        {
         "boxpoints": "suspectedoutliers",
         "line": {
          "color": "rgb(107,174,214)"
         },
         "marker": {
          "color": "rgb(107,174,214)",
          "line": {
           "outliercolor": "rgba(219, 64, 82, 0.6)",
           "outlierwidth": 2
          },
          "outliercolor": "rgba(219, 64, 82, 0.6)"
         },
         "name": 1,
         "showlegend": false,
         "type": "box",
         "x": 1,
         "y": [
          0.8864468864468864,
          0.850909090909091,
          0.9133574007220217,
          0.9042904290429042,
          0.9055944055944056,
          0.8745519713261649,
          0.9109311740890689,
          0.864963503649635,
          0.8996865203761756,
          0.917910447761194,
          0.8841698841698842
         ]
        },
        {
         "boxpoints": "suspectedoutliers",
         "line": {
          "color": "rgb(107,174,214)"
         },
         "marker": {
          "color": "rgb(107,174,214)",
          "line": {
           "outliercolor": "rgba(219, 64, 82, 0.6)",
           "outlierwidth": 2
          },
          "outliercolor": "rgba(219, 64, 82, 0.6)"
         },
         "name": 2,
         "showlegend": false,
         "type": "box",
         "x": 2,
         "y": [
          0.8772563176895307,
          0.8478260869565217,
          0.9100719424460432,
          0.9046052631578947,
          0.9024390243902439,
          0.8821428571428571,
          0.907258064516129,
          0.864963503649635,
          0.9028213166144201,
          0.917910447761194,
          0.8837209302325582
         ]
        },
        {
         "boxpoints": "suspectedoutliers",
         "line": {
          "color": "rgb(107,174,214)"
         },
         "marker": {
          "color": "rgb(107,174,214)",
          "line": {
           "outliercolor": "rgba(219, 64, 82, 0.6)",
           "outlierwidth": 2
          },
          "outliercolor": "rgba(219, 64, 82, 0.6)"
         },
         "name": 3,
         "showlegend": false,
         "type": "box",
         "x": 3,
         "y": [
          0.8808664259927798,
          0.8478260869565217,
          0.9068100358422939,
          0.9049180327868852,
          0.8989547038327527,
          0.8892857142857142,
          0.9036144578313253,
          0.8654545454545455,
          0.9,
          0.9144981412639405,
          0.8837209302325582
         ]
        },
        {
         "boxpoints": "suspectedoutliers",
         "line": {
          "color": "rgb(107,174,214)"
         },
         "marker": {
          "color": "rgb(107,174,214)",
          "line": {
           "outliercolor": "rgba(219, 64, 82, 0.6)",
           "outlierwidth": 2
          },
          "outliercolor": "rgba(219, 64, 82, 0.6)"
         },
         "name": 4,
         "showlegend": false,
         "type": "box",
         "x": 4,
         "y": [
          0.8848920863309353,
          0.8447653429602888,
          0.9064748201438849,
          0.9081967213114754,
          0.8989547038327527,
          0.896797153024911,
          0.9076305220883534,
          0.8659420289855072,
          0.903125,
          0.914179104477612,
          0.8910505836575876
         ]
        },
        {
         "boxpoints": "suspectedoutliers",
         "line": {
          "color": "rgb(107,174,214)"
         },
         "marker": {
          "color": "rgb(107,174,214)",
          "line": {
           "outliercolor": "rgba(219, 64, 82, 0.6)",
           "outlierwidth": 2
          },
          "outliercolor": "rgba(219, 64, 82, 0.6)"
         },
         "name": 5,
         "showlegend": false,
         "type": "box",
         "x": 5,
         "y": [
          0.8853046594982079,
          0.8483754512635379,
          0.9064748201438849,
          0.9111842105263158,
          0.8927335640138409,
          0.8971631205673759,
          0.9116465863453815,
          0.8727272727272727,
          0.9003115264797508,
          0.9074074074074074,
          0.890625
         ]
        },
        {
         "boxpoints": "suspectedoutliers",
         "line": {
          "color": "rgb(107,174,214)"
         },
         "marker": {
          "color": "rgb(107,174,214)",
          "line": {
           "outliercolor": "rgba(219, 64, 82, 0.6)",
           "outlierwidth": 2
          },
          "outliercolor": "rgba(219, 64, 82, 0.6)"
         },
         "name": 6,
         "showlegend": false,
         "type": "box",
         "x": 6,
         "y": [
          0.8884892086330936,
          0.8489208633093526,
          0.9032258064516129,
          0.9111842105263158,
          0.8958333333333334,
          0.900709219858156,
          0.9116465863453815,
          0.8731884057971014,
          0.8947368421052632,
          0.9074074074074074,
          0.8901960784313725
         ]
        },
        {
         "boxpoints": "suspectedoutliers",
         "line": {
          "color": "rgb(107,174,214)"
         },
         "marker": {
          "color": "rgb(107,174,214)",
          "line": {
           "outliercolor": "rgba(219, 64, 82, 0.6)",
           "outlierwidth": 2
          },
          "outliercolor": "rgba(219, 64, 82, 0.6)"
         },
         "name": 7,
         "showlegend": false,
         "type": "box",
         "x": 7,
         "y": [
          0.89568345323741,
          0.8525179856115108,
          0.9064748201438849,
          0.9144736842105263,
          0.8927335640138409,
          0.900709219858156,
          0.9116465863453815,
          0.8763636363636363,
          0.8947368421052632,
          0.9040590405904059,
          0.8901960784313725
         ]
        },
        {
         "boxpoints": "suspectedoutliers",
         "line": {
          "color": "rgb(107,174,214)"
         },
         "marker": {
          "color": "rgb(107,174,214)",
          "line": {
           "outliercolor": "rgba(219, 64, 82, 0.6)",
           "outlierwidth": 2
          },
          "outliercolor": "rgba(219, 64, 82, 0.6)"
         },
         "name": 8,
         "showlegend": false,
         "type": "box",
         "x": 8,
         "y": [
          0.899641577060932,
          0.8494623655913979,
          0.9061371841155235,
          0.9207920792079208,
          0.8865979381443299,
          0.901060070671378,
          0.9196787148594378,
          0.8759124087591241,
          0.8923076923076924,
          0.9040590405904059,
          0.8976377952755905
         ]
        },
        {
         "boxpoints": "suspectedoutliers",
         "line": {
          "color": "rgb(107,174,214)"
         },
         "marker": {
          "color": "rgb(107,174,214)",
          "line": {
           "outliercolor": "rgba(219, 64, 82, 0.6)",
           "outlierwidth": 2
          },
          "outliercolor": "rgba(219, 64, 82, 0.6)"
         },
         "name": 9,
         "showlegend": false,
         "type": "box",
         "x": 9,
         "y": [
          0.9,
          0.8494623655913979,
          0.9032258064516129,
          0.9207920792079208,
          0.8831615120274914,
          0.9045936395759717,
          0.9236947791164659,
          0.8727272727272727,
          0.9015384615384615,
          0.9040590405904059,
          0.9015748031496063
         ]
        },
        {
         "boxpoints": "suspectedoutliers",
         "line": {
          "color": "rgb(107,174,214)"
         },
         "marker": {
          "color": "rgb(107,174,214)",
          "line": {
           "outliercolor": "rgba(219, 64, 82, 0.6)",
           "outlierwidth": 2
          },
          "outliercolor": "rgba(219, 64, 82, 0.6)"
         },
         "name": 10,
         "showlegend": false,
         "type": "box",
         "x": 10,
         "y": [
          0.9,
          0.8525179856115108,
          0.9032258064516129,
          0.9207920792079208,
          0.8862068965517241,
          0.9045936395759717,
          0.9236947791164659,
          0.8690909090909091,
          0.8990825688073395,
          0.9070631970260223,
          0.9051383399209486
         ]
        },
        {
         "boxpoints": "suspectedoutliers",
         "line": {
          "color": "rgb(107,174,214)"
         },
         "marker": {
          "color": "rgb(107,174,214)",
          "line": {
           "outliercolor": "rgba(219, 64, 82, 0.6)",
           "outlierwidth": 2
          },
          "outliercolor": "rgba(219, 64, 82, 0.6)"
         },
         "name": 11,
         "showlegend": false,
         "type": "box",
         "x": 11,
         "y": [
          0.9142857142857143,
          0.8566308243727598,
          0.9068100358422939,
          0.9240924092409241,
          0.8801369863013698,
          0.9045936395759717,
          0.9236947791164659,
          0.8727272727272727,
          0.8960244648318043,
          0.9037037037037037,
          0.9090909090909091
         ]
        },
        {
         "boxpoints": "suspectedoutliers",
         "line": {
          "color": "rgb(107,174,214)"
         },
         "marker": {
          "color": "rgb(107,174,214)",
          "line": {
           "outliercolor": "rgba(219, 64, 82, 0.6)",
           "outlierwidth": 2
          },
          "outliercolor": "rgba(219, 64, 82, 0.6)"
         },
         "name": 12,
         "showlegend": false,
         "type": "box",
         "x": 12,
         "y": [
          0.9139784946236559,
          0.8683274021352313,
          0.9068100358422939,
          0.9271523178807947,
          0.8801369863013698,
          0.9081272084805654,
          0.9236947791164659,
          0.8727272727272727,
          0.8990825688073395,
          0.9037037037037037,
          0.9051383399209486
         ]
        },
        {
         "boxpoints": "suspectedoutliers",
         "line": {
          "color": "rgb(107,174,214)"
         },
         "marker": {
          "color": "rgb(107,174,214)",
          "line": {
           "outliercolor": "rgba(219, 64, 82, 0.6)",
           "outlierwidth": 2
          },
          "outliercolor": "rgba(219, 64, 82, 0.6)"
         },
         "name": 13,
         "showlegend": false,
         "type": "box",
         "x": 13,
         "y": [
          0.9175627240143369,
          0.8718861209964412,
          0.9139784946236559,
          0.9238410596026491,
          0.8835616438356164,
          0.9081272084805654,
          0.92,
          0.8695652173913043,
          0.8936170212765957,
          0.9074074074074074,
          0.9130434782608695
         ]
        },
        {
         "boxpoints": "suspectedoutliers",
         "line": {
          "color": "rgb(107,174,214)"
         },
         "marker": {
          "color": "rgb(107,174,214)",
          "line": {
           "outliercolor": "rgba(219, 64, 82, 0.6)",
           "outlierwidth": 2
          },
          "outliercolor": "rgba(219, 64, 82, 0.6)"
         },
         "name": 14,
         "showlegend": false,
         "type": "box",
         "x": 14,
         "y": [
          0.921146953405018,
          0.8687943262411347,
          0.9175627240143369,
          0.9273927392739274,
          0.8835616438356164,
          0.9084507042253521,
          0.92,
          0.8705035971223022,
          0.8936170212765957,
          0.9074074074074074,
          0.9126984126984127
         ]
        },
        {
         "boxpoints": "suspectedoutliers",
         "line": {
          "color": "rgb(107,174,214)"
         },
         "marker": {
          "color": "rgb(107,174,214)",
          "line": {
           "outliercolor": "rgba(219, 64, 82, 0.6)",
           "outlierwidth": 2
          },
          "outliercolor": "rgba(219, 64, 82, 0.6)"
         },
         "name": 15,
         "showlegend": false,
         "type": "box",
         "x": 15,
         "y": [
          0.921146953405018,
          0.8718861209964412,
          0.9175627240143369,
          0.9273927392739274,
          0.8835616438356164,
          0.911660777385159,
          0.9163346613545816,
          0.8776978417266187,
          0.8939393939393939,
          0.9074074074074074,
          0.9166666666666666
         ]
        },
        {
         "boxpoints": "suspectedoutliers",
         "line": {
          "color": "rgb(107,174,214)"
         },
         "marker": {
          "color": "rgb(107,174,214)",
          "line": {
           "outliercolor": "rgba(219, 64, 82, 0.6)",
           "outlierwidth": 2
          },
          "outliercolor": "rgba(219, 64, 82, 0.6)"
         },
         "name": 16,
         "showlegend": false,
         "type": "box",
         "x": 16,
         "y": [
          0.921146953405018,
          0.8714285714285714,
          0.9175627240143369,
          0.9243421052631579,
          0.8900343642611683,
          0.9119718309859155,
          0.9163346613545816,
          0.8745519713261649,
          0.896969696969697,
          0.9074074074074074,
          0.9130434782608695
         ]
        },
        {
         "boxpoints": "suspectedoutliers",
         "line": {
          "color": "rgb(107,174,214)"
         },
         "marker": {
          "color": "rgb(107,174,214)",
          "line": {
           "outliercolor": "rgba(219, 64, 82, 0.6)",
           "outlierwidth": 2
          },
          "outliercolor": "rgba(219, 64, 82, 0.6)"
         },
         "name": 17,
         "showlegend": false,
         "type": "box",
         "x": 17,
         "y": [
          0.924187725631769,
          0.8714285714285714,
          0.9172661870503597,
          0.921311475409836,
          0.8900343642611683,
          0.9119718309859155,
          0.916,
          0.8817204301075269,
          0.8972809667673716,
          0.9074074074074074,
          0.9130434782608695
         ]
        },
        {
         "boxpoints": "suspectedoutliers",
         "line": {
          "color": "rgb(107,174,214)"
         },
         "marker": {
          "color": "rgb(107,174,214)",
          "line": {
           "outliercolor": "rgba(219, 64, 82, 0.6)",
           "outlierwidth": 2
          },
          "outliercolor": "rgba(219, 64, 82, 0.6)"
         },
         "name": 18,
         "showlegend": false,
         "type": "box",
         "x": 18,
         "y": [
          0.920863309352518,
          0.8781362007168458,
          0.9172661870503597,
          0.9245901639344263,
          0.8934707903780069,
          0.9119718309859155,
          0.92,
          0.8853046594982079,
          0.8918918918918919,
          0.9074074074074074,
          0.9130434782608695
         ]
        },
        {
         "boxpoints": "suspectedoutliers",
         "line": {
          "color": "rgb(107,174,214)"
         },
         "marker": {
          "color": "rgb(107,174,214)",
          "line": {
           "outliercolor": "rgba(219, 64, 82, 0.6)",
           "outlierwidth": 2
          },
          "outliercolor": "rgba(219, 64, 82, 0.6)"
         },
         "name": 19,
         "showlegend": false,
         "type": "box",
         "x": 19,
         "y": [
          0.9244604316546763,
          0.8781362007168458,
          0.920863309352518,
          0.9245901639344263,
          0.8904109589041096,
          0.9119718309859155,
          0.9196787148594378,
          0.8924731182795699,
          0.8918918918918919,
          0.9111111111111111,
          0.9130434782608695
         ]
        },
        {
         "boxpoints": "suspectedoutliers",
         "line": {
          "color": "rgb(107,174,214)"
         },
         "marker": {
          "color": "rgb(107,174,214)",
          "line": {
           "outliercolor": "rgba(219, 64, 82, 0.6)",
           "outlierwidth": 2
          },
          "outliercolor": "rgba(219, 64, 82, 0.6)"
         },
         "name": 20,
         "showlegend": false,
         "type": "box",
         "x": 20,
         "y": [
          0.924187725631769,
          0.8817204301075269,
          0.9178571428571428,
          0.9276315789473685,
          0.8938356164383562,
          0.9119718309859155,
          0.9236947791164659,
          0.8928571428571429,
          0.8918918918918919,
          0.9111111111111111,
          0.9130434782608695
         ]
        },
        {
         "boxpoints": "suspectedoutliers",
         "line": {
          "color": "rgb(107,174,214)"
         },
         "marker": {
          "color": "rgb(107,174,214)",
          "line": {
           "outliercolor": "rgba(219, 64, 82, 0.6)",
           "outlierwidth": 2
          },
          "outliercolor": "rgba(219, 64, 82, 0.6)"
         },
         "name": 21,
         "showlegend": false,
         "type": "box",
         "x": 21,
         "y": [
          0.921146953405018,
          0.8817204301075269,
          0.9181494661921709,
          0.930921052631579,
          0.8938356164383562,
          0.9119718309859155,
          0.9236947791164659,
          0.8964285714285715,
          0.8918918918918919,
          0.9117647058823529,
          0.9126984126984127
         ]
        },
        {
         "boxpoints": "suspectedoutliers",
         "line": {
          "color": "rgb(107,174,214)"
         },
         "marker": {
          "color": "rgb(107,174,214)",
          "line": {
           "outliercolor": "rgba(219, 64, 82, 0.6)",
           "outlierwidth": 2
          },
          "outliercolor": "rgba(219, 64, 82, 0.6)"
         },
         "name": 22,
         "showlegend": false,
         "type": "box",
         "x": 22,
         "y": [
          0.931899641577061,
          0.8785714285714286,
          0.9148936170212766,
          0.9248366013071896,
          0.8938356164383562,
          0.911660777385159,
          0.9317269076305221,
          0.8932384341637011,
          0.8888888888888888,
          0.9117647058823529,
          0.9166666666666666
         ]
        },
        {
         "boxpoints": "suspectedoutliers",
         "line": {
          "color": "rgb(107,174,214)"
         },
         "marker": {
          "color": "rgb(107,174,214)",
          "line": {
           "outliercolor": "rgba(219, 64, 82, 0.6)",
           "outlierwidth": 2
          },
          "outliercolor": "rgba(219, 64, 82, 0.6)"
         },
         "name": 23,
         "showlegend": false,
         "type": "box",
         "x": 23,
         "y": [
          0.9388489208633094,
          0.8754448398576512,
          0.911660777385159,
          0.9250814332247557,
          0.8938356164383562,
          0.911660777385159,
          0.928,
          0.8900709219858156,
          0.8922155688622755,
          0.9154411764705882,
          0.9203187250996016
         ]
        },
        {
         "boxpoints": "suspectedoutliers",
         "line": {
          "color": "rgb(107,174,214)"
         },
         "marker": {
          "color": "rgb(107,174,214)",
          "line": {
           "outliercolor": "rgba(219, 64, 82, 0.6)",
           "outlierwidth": 2
          },
          "outliercolor": "rgba(219, 64, 82, 0.6)"
         },
         "name": 24,
         "showlegend": false,
         "type": "box",
         "x": 24,
         "y": [
          0.9390681003584229,
          0.8794326241134752,
          0.9110320284697508,
          0.9250814332247557,
          0.8938356164383562,
          0.911660777385159,
          0.9357429718875502,
          0.8865248226950354,
          0.8895522388059701,
          0.9157509157509157,
          0.9166666666666666
         ]
        },
        {
         "boxpoints": "suspectedoutliers",
         "line": {
          "color": "rgb(107,174,214)"
         },
         "marker": {
          "color": "rgb(107,174,214)",
          "line": {
           "outliercolor": "rgba(219, 64, 82, 0.6)",
           "outlierwidth": 2
          },
          "outliercolor": "rgba(219, 64, 82, 0.6)"
         },
         "name": 25,
         "showlegend": false,
         "type": "box",
         "x": 25,
         "y": [
          0.9390681003584229,
          0.8833922261484098,
          0.910394265232975,
          0.9218241042345277,
          0.8927335640138409,
          0.9045936395759717,
          0.932,
          0.8900709219858156,
          0.8895522388059701,
          0.916058394160584,
          0.9126984126984127
         ]
        },
        {
         "boxpoints": "suspectedoutliers",
         "line": {
          "color": "rgb(107,174,214)"
         },
         "marker": {
          "color": "rgb(107,174,214)",
          "line": {
           "outliercolor": "rgba(219, 64, 82, 0.6)",
           "outlierwidth": 2
          },
          "outliercolor": "rgba(219, 64, 82, 0.6)"
         },
         "name": 26,
         "showlegend": false,
         "type": "box",
         "x": 26,
         "y": [
          0.9388489208633094,
          0.8771929824561403,
          0.910394265232975,
          0.9218241042345277,
          0.8961937716262975,
          0.9042553191489362,
          0.932,
          0.8869257950530035,
          0.8895522388059701,
          0.916058394160584,
          0.9126984126984127
         ]
        },
        {
         "boxpoints": "suspectedoutliers",
         "line": {
          "color": "rgb(107,174,214)"
         },
         "marker": {
          "color": "rgb(107,174,214)",
          "line": {
           "outliercolor": "rgba(219, 64, 82, 0.6)",
           "outlierwidth": 2
          },
          "outliercolor": "rgba(219, 64, 82, 0.6)"
         },
         "name": 27,
         "showlegend": false,
         "type": "box",
         "x": 27,
         "y": [
          0.9390681003584229,
          0.8807017543859649,
          0.910394265232975,
          0.9218241042345277,
          0.896551724137931,
          0.9014084507042254,
          0.9322709163346613,
          0.8869257950530035,
          0.8888888888888888,
          0.9154411764705882,
          0.9126984126984127
         ]
        },
        {
         "boxpoints": "suspectedoutliers",
         "line": {
          "color": "rgb(107,174,214)"
         },
         "marker": {
          "color": "rgb(107,174,214)",
          "line": {
           "outliercolor": "rgba(219, 64, 82, 0.6)",
           "outlierwidth": 2
          },
          "outliercolor": "rgba(219, 64, 82, 0.6)"
         },
         "name": 28,
         "showlegend": false,
         "type": "box",
         "x": 28,
         "y": [
          0.9321428571428572,
          0.8842105263157894,
          0.9175627240143369,
          0.9248366013071896,
          0.906896551724138,
          0.9014084507042254,
          0.9282868525896414,
          0.8873239436619719,
          0.8922155688622755,
          0.9124087591240876,
          0.9126984126984127
         ]
        },
        {
         "boxpoints": "suspectedoutliers",
         "line": {
          "color": "rgb(107,174,214)"
         },
         "marker": {
          "color": "rgb(107,174,214)",
          "line": {
           "outliercolor": "rgba(219, 64, 82, 0.6)",
           "outlierwidth": 2
          },
          "outliercolor": "rgba(219, 64, 82, 0.6)"
         },
         "name": 29,
         "showlegend": false,
         "type": "box",
         "x": 29,
         "y": [
          0.9354838709677419,
          0.8842105263157894,
          0.9175627240143369,
          0.9250814332247557,
          0.9103448275862069,
          0.8982456140350877,
          0.9282868525896414,
          0.8842105263157894,
          0.8895522388059701,
          0.9127272727272727,
          0.9126984126984127
         ]
        },
        {
         "boxpoints": "suspectedoutliers",
         "line": {
          "color": "rgb(107,174,214)"
         },
         "marker": {
          "color": "rgb(107,174,214)",
          "line": {
           "outliercolor": "rgba(219, 64, 82, 0.6)",
           "outlierwidth": 2
          },
          "outliercolor": "rgba(219, 64, 82, 0.6)"
         },
         "name": 30,
         "showlegend": false,
         "type": "box",
         "x": 30,
         "y": [
          0.9359430604982206,
          0.8842105263157894,
          0.921146953405018,
          0.9250814332247557,
          0.9137931034482759,
          0.8951048951048951,
          0.932,
          0.8838028169014085,
          0.8925373134328358,
          0.9130434782608695,
          0.9126984126984127
         ]
        },
        {
         "boxpoints": "suspectedoutliers",
         "line": {
          "color": "rgb(107,174,214)"
         },
         "marker": {
          "color": "rgb(107,174,214)",
          "line": {
           "outliercolor": "rgba(219, 64, 82, 0.6)",
           "outlierwidth": 2
          },
          "outliercolor": "rgba(219, 64, 82, 0.6)"
         },
         "name": 31,
         "showlegend": false,
         "type": "box",
         "x": 31,
         "y": [
          0.9359430604982206,
          0.8807017543859649,
          0.920863309352518,
          0.9250814332247557,
          0.9172413793103448,
          0.8951048951048951,
          0.936,
          0.8807017543859649,
          0.8985074626865671,
          0.9130434782608695,
          0.9126984126984127
         ]
        },
        {
         "boxpoints": "suspectedoutliers",
         "line": {
          "color": "rgb(107,174,214)"
         },
         "marker": {
          "color": "rgb(107,174,214)",
          "line": {
           "outliercolor": "rgba(219, 64, 82, 0.6)",
           "outlierwidth": 2
          },
          "outliercolor": "rgba(219, 64, 82, 0.6)"
         },
         "name": 32,
         "showlegend": false,
         "type": "box",
         "x": 32,
         "y": [
          0.9395017793594306,
          0.8802816901408451,
          0.9244604316546763,
          0.9250814332247557,
          0.9106529209621993,
          0.8986013986013986,
          0.936,
          0.8807017543859649,
          0.8905325443786982,
          0.9127272727272727,
          0.9203187250996016
         ]
        },
        {
         "boxpoints": "suspectedoutliers",
         "line": {
          "color": "rgb(107,174,214)"
         },
         "marker": {
          "color": "rgb(107,174,214)",
          "line": {
           "outliercolor": "rgba(219, 64, 82, 0.6)",
           "outlierwidth": 2
          },
          "outliercolor": "rgba(219, 64, 82, 0.6)"
         },
         "name": 33,
         "showlegend": false,
         "type": "box",
         "x": 33,
         "y": [
          0.9428571428571428,
          0.8873239436619719,
          0.9244604316546763,
          0.9253246753246753,
          0.9103448275862069,
          0.8986013986013986,
          0.936,
          0.8842105263157894,
          0.893491124260355,
          0.9124087591240876,
          0.9209486166007905
         ]
        },
        {
         "boxpoints": "suspectedoutliers",
         "line": {
          "color": "rgb(107,174,214)"
         },
         "marker": {
          "color": "rgb(107,174,214)",
          "line": {
           "outliercolor": "rgba(219, 64, 82, 0.6)",
           "outlierwidth": 2
          },
          "outliercolor": "rgba(219, 64, 82, 0.6)"
         },
         "name": 34,
         "showlegend": false,
         "type": "box",
         "x": 34,
         "y": [
          0.9395017793594306,
          0.8912280701754386,
          0.9280575539568345,
          0.9225806451612903,
          0.9172413793103448,
          0.9055944055944056,
          0.936,
          0.887719298245614,
          0.8931750741839762,
          0.9124087591240876,
          0.9288537549407114
         ]
        },
        {
         "boxpoints": "suspectedoutliers",
         "line": {
          "color": "rgb(107,174,214)"
         },
         "marker": {
          "color": "rgb(107,174,214)",
          "line": {
           "outliercolor": "rgba(219, 64, 82, 0.6)",
           "outlierwidth": 2
          },
          "outliercolor": "rgba(219, 64, 82, 0.6)"
         },
         "name": 35,
         "showlegend": false,
         "type": "box",
         "x": 35,
         "y": [
          0.9432624113475178,
          0.9049295774647887,
          0.927797833935018,
          0.9225806451612903,
          0.9172413793103448,
          0.9087719298245615,
          0.936,
          0.8908450704225352,
          0.8905325443786982,
          0.9090909090909091,
          0.9285714285714286
         ]
        },
        {
         "boxpoints": "suspectedoutliers",
         "line": {
          "color": "rgb(107,174,214)"
         },
         "marker": {
          "color": "rgb(107,174,214)",
          "line": {
           "outliercolor": "rgba(219, 64, 82, 0.6)",
           "outlierwidth": 2
          },
          "outliercolor": "rgba(219, 64, 82, 0.6)"
         },
         "name": 36,
         "showlegend": false,
         "type": "box",
         "x": 36,
         "y": [
          0.9399293286219081,
          0.9014084507042254,
          0.927797833935018,
          0.9225806451612903,
          0.9241379310344827,
          0.9122807017543859,
          0.9362549800796812,
          0.897887323943662,
          0.8849557522123894,
          0.9061371841155235,
          0.9285714285714286
         ]
        },
        {
         "boxpoints": "suspectedoutliers",
         "line": {
          "color": "rgb(107,174,214)"
         },
         "marker": {
          "color": "rgb(107,174,214)",
          "line": {
           "outliercolor": "rgba(219, 64, 82, 0.6)",
           "outlierwidth": 2
          },
          "outliercolor": "rgba(219, 64, 82, 0.6)"
         },
         "name": 37,
         "showlegend": false,
         "type": "box",
         "x": 37,
         "y": [
          0.9466192170818505,
          0.9049295774647887,
          0.9350180505415162,
          0.9225806451612903,
          0.9241379310344827,
          0.9125874125874126,
          0.936,
          0.8943661971830986,
          0.887905604719764,
          0.9094202898550725,
          0.9325396825396826
         ]
        },
        {
         "boxpoints": "suspectedoutliers",
         "line": {
          "color": "rgb(107,174,214)"
         },
         "marker": {
          "color": "rgb(107,174,214)",
          "line": {
           "outliercolor": "rgba(219, 64, 82, 0.6)",
           "outlierwidth": 2
          },
          "outliercolor": "rgba(219, 64, 82, 0.6)"
         },
         "name": 38,
         "showlegend": false,
         "type": "box",
         "x": 38,
         "y": [
          0.9464285714285714,
          0.9049295774647887,
          0.9316546762589928,
          0.9258064516129032,
          0.9243986254295533,
          0.9128919860627178,
          0.9357429718875502,
          0.8939929328621908,
          0.8938053097345132,
          0.9061371841155235,
          0.9325396825396826
         ]
        },
        {
         "boxpoints": "suspectedoutliers",
         "line": {
          "color": "rgb(107,174,214)"
         },
         "marker": {
          "color": "rgb(107,174,214)",
          "line": {
           "outliercolor": "rgba(219, 64, 82, 0.6)",
           "outlierwidth": 2
          },
          "outliercolor": "rgba(219, 64, 82, 0.6)"
         },
         "name": 39,
         "showlegend": false,
         "type": "box",
         "x": 39,
         "y": [
          0.9464285714285714,
          0.8986013986013986,
          0.9386281588447654,
          0.9258064516129032,
          0.9243986254295533,
          0.9094076655052264,
          0.9437751004016064,
          0.8971631205673759,
          0.8938053097345132,
          0.9061371841155235,
          0.932806324110672
         ]
        },
        {
         "boxpoints": "suspectedoutliers",
         "line": {
          "color": "rgb(107,174,214)"
         },
         "marker": {
          "color": "rgb(107,174,214)",
          "line": {
           "outliercolor": "rgba(219, 64, 82, 0.6)",
           "outlierwidth": 2
          },
          "outliercolor": "rgba(219, 64, 82, 0.6)"
         },
         "name": 40,
         "showlegend": false,
         "type": "box",
         "x": 40,
         "y": [
          0.9464285714285714,
          0.8989547038327527,
          0.9386281588447654,
          0.9255663430420712,
          0.9278350515463918,
          0.9131944444444444,
          0.9435483870967742,
          0.900709219858156,
          0.8938053097345132,
          0.9061371841155235,
          0.9322709163346613
         ]
        },
        {
         "boxpoints": "suspectedoutliers",
         "line": {
          "color": "rgb(107,174,214)"
         },
         "marker": {
          "color": "rgb(107,174,214)",
          "line": {
           "outliercolor": "rgba(219, 64, 82, 0.6)",
           "outlierwidth": 2
          },
          "outliercolor": "rgba(219, 64, 82, 0.6)"
         },
         "name": 41,
         "showlegend": false,
         "type": "box",
         "x": 41,
         "y": [
          0.946236559139785,
          0.8989547038327527,
          0.9350180505415162,
          0.9320388349514563,
          0.9312714776632303,
          0.9131944444444444,
          0.9395161290322581,
          0.8975265017667845,
          0.8911764705882353,
          0.9097472924187726,
          0.9322709163346613
         ]
        },
        {
         "boxpoints": "suspectedoutliers",
         "line": {
          "color": "rgb(107,174,214)"
         },
         "marker": {
          "color": "rgb(107,174,214)",
          "line": {
           "outliercolor": "rgba(219, 64, 82, 0.6)",
           "outlierwidth": 2
          },
          "outliercolor": "rgba(219, 64, 82, 0.6)"
         },
         "name": 42,
         "showlegend": false,
         "type": "box",
         "x": 42,
         "y": [
          0.9428571428571428,
          0.9024390243902439,
          0.9384057971014492,
          0.9320388349514563,
          0.9415807560137457,
          0.9166666666666666,
          0.932,
          0.8912280701754386,
          0.8914956011730205,
          0.9064748201438849,
          0.9285714285714286
         ]
        },
        {
         "boxpoints": "suspectedoutliers",
         "line": {
          "color": "rgb(107,174,214)"
         },
         "marker": {
          "color": "rgb(107,174,214)",
          "line": {
           "outliercolor": "rgba(219, 64, 82, 0.6)",
           "outlierwidth": 2
          },
          "outliercolor": "rgba(219, 64, 82, 0.6)"
         },
         "name": 43,
         "showlegend": false,
         "type": "box",
         "x": 43,
         "y": [
          0.9428571428571428,
          0.9024390243902439,
          0.9381818181818182,
          0.9383116883116883,
          0.9415807560137457,
          0.9233449477351916,
          0.9317269076305221,
          0.8912280701754386,
          0.8914956011730205,
          0.9032258064516129,
          0.9285714285714286
         ]
        },
        {
         "boxpoints": "suspectedoutliers",
         "line": {
          "color": "rgb(107,174,214)"
         },
         "marker": {
          "color": "rgb(107,174,214)",
          "line": {
           "outliercolor": "rgba(219, 64, 82, 0.6)",
           "outlierwidth": 2
          },
          "outliercolor": "rgba(219, 64, 82, 0.6)"
         },
         "name": 44,
         "showlegend": false,
         "type": "box",
         "x": 44,
         "y": [
          0.9395017793594306,
          0.9027777777777778,
          0.9345454545454546,
          0.9448051948051948,
          0.9383561643835616,
          0.9230769230769231,
          0.9317269076305221,
          0.8846153846153846,
          0.8941176470588236,
          0.9032258064516129,
          0.932
         ]
        },
        {
         "boxpoints": "suspectedoutliers",
         "line": {
          "color": "rgb(107,174,214)"
         },
         "marker": {
          "color": "rgb(107,174,214)",
          "line": {
           "outliercolor": "rgba(219, 64, 82, 0.6)",
           "outlierwidth": 2
          },
          "outliercolor": "rgba(219, 64, 82, 0.6)"
         },
         "name": 45,
         "showlegend": false,
         "type": "box",
         "x": 45,
         "y": [
          0.9428571428571428,
          0.90625,
          0.9379562043795621,
          0.9448051948051948,
          0.9351535836177475,
          0.9195804195804196,
          0.9354838709677419,
          0.8811188811188811,
          0.8973607038123167,
          0.9068100358422939,
          0.9362549800796812
         ]
        },
        {
         "boxpoints": "suspectedoutliers",
         "line": {
          "color": "rgb(107,174,214)"
         },
         "marker": {
          "color": "rgb(107,174,214)",
          "line": {
           "outliercolor": "rgba(219, 64, 82, 0.6)",
           "outlierwidth": 2
          },
          "outliercolor": "rgba(219, 64, 82, 0.6)"
         },
         "name": 46,
         "showlegend": false,
         "type": "box",
         "x": 46,
         "y": [
          0.9428571428571428,
          0.9097222222222222,
          0.9381818181818182,
          0.9415584415584416,
          0.9288135593220339,
          0.9230769230769231,
          0.9354838709677419,
          0.8881118881118881,
          0.9032258064516129,
          0.910394265232975,
          0.9362549800796812
         ]
        },
        {
         "boxpoints": "suspectedoutliers",
         "line": {
          "color": "rgb(107,174,214)"
         },
         "marker": {
          "color": "rgb(107,174,214)",
          "line": {
           "outliercolor": "rgba(219, 64, 82, 0.6)",
           "outlierwidth": 2
          },
          "outliercolor": "rgba(219, 64, 82, 0.6)"
         },
         "name": 47,
         "showlegend": false,
         "type": "box",
         "x": 47,
         "y": [
          0.9361702127659575,
          0.9094076655052264,
          0.9418181818181818,
          0.9478827361563518,
          0.9355932203389831,
          0.9198606271777003,
          0.9354838709677419,
          0.8916083916083916,
          0.8979591836734694,
          0.9142857142857143,
          0.9357429718875502
         ]
        },
        {
         "mode": "lines",
         "name": "Mean",
         "showlegend": false,
         "type": "scatter",
         "x": [
          1,
          2,
          3,
          4,
          5,
          6,
          7,
          8,
          9,
          10,
          11,
          12,
          13,
          14,
          15,
          16,
          17,
          18,
          19,
          20,
          21,
          22,
          23,
          24,
          25,
          26,
          27,
          28,
          29,
          30,
          31,
          32,
          33,
          34,
          35,
          36,
          37,
          38,
          39,
          40,
          41,
          42,
          43,
          44,
          45,
          46,
          47
         ],
         "y": [
          0.8925641137915954,
          0.8920737921897665,
          0.8910014322324571,
          0.8905408249526652,
          0.8929098242557552,
          0.8930866926339068,
          0.8932307238362175,
          0.8945086282646717,
          0.8957533515076121,
          0.8968027054524188,
          0.8974005637600388,
          0.8992537035535626,
          0.9008071917763311,
          0.902053670535404,
          0.9028305026818277,
          0.9041142663641061,
          0.9040721604251715,
          0.9046956761191634,
          0.90581326540695,
          0.9071482918137611,
          0.9081638843823235,
          0.9085657918889328,
          0.9089075714120548,
          0.9093253415975157,
          0.9094861996178235,
          0.9083987152013574,
          0.9078131094800143,
          0.9078339625908729,
          0.9090901134677204,
          0.9089458453891823,
          0.9099419993900437,
          0.9105351763553194,
          0.9108054500486221,
          0.9123610405442815,
          0.9147600654592849,
          0.9163294299551903,
          0.9165401418303634,
          0.9187367825608145,
          0.9189389063088171,
          0.9197234463956463,
          0.9206434809344205,
          0.9206319437012632,
          0.9203416492767705,
          0.9211784719538048,
          0.9207953672458804,
          0.9221482742782712,
          0.9234255380056801,
          0.9241647978350244
         ]
        }
       ],
       "layout": {}
      },
      "text/html": [
       "<div id=\"9e58e687-c2e0-43d1-95a4-91ac5127dd18\" style=\"height: 525px; width: 100%;\" class=\"plotly-graph-div\"></div><script type=\"text/javascript\">require([\"plotly\"], function(Plotly) { window.PLOTLYENV=window.PLOTLYENV || {};window.PLOTLYENV.BASE_URL=\"https://plot.ly\";Plotly.newPlot(\"9e58e687-c2e0-43d1-95a4-91ac5127dd18\", [{\"showlegend\": false, \"name\": 0, \"marker\": {\"color\": \"rgb(107,174,214)\", \"outliercolor\": \"rgba(219, 64, 82, 0.6)\", \"line\": {\"outlierwidth\": 2, \"outliercolor\": \"rgba(219, 64, 82, 0.6)\"}}, \"y\": [0.8860294117647058, 0.8602941176470589, 0.9166666666666666, 0.9066666666666666, 0.9055944055944056, 0.8709677419354839, 0.9102040816326531, 0.864963503649635, 0.89937106918239, 0.914179104477612, 0.8832684824902723], \"x\": 0, \"line\": {\"color\": \"rgb(107,174,214)\"}, \"type\": \"box\", \"boxpoints\": \"suspectedoutliers\"}, {\"showlegend\": false, \"name\": 1, \"marker\": {\"color\": \"rgb(107,174,214)\", \"outliercolor\": \"rgba(219, 64, 82, 0.6)\", \"line\": {\"outlierwidth\": 2, \"outliercolor\": \"rgba(219, 64, 82, 0.6)\"}}, \"y\": [0.8864468864468864, 0.850909090909091, 0.9133574007220217, 0.9042904290429042, 0.9055944055944056, 0.8745519713261649, 0.9109311740890689, 0.864963503649635, 0.8996865203761756, 0.917910447761194, 0.8841698841698842], \"x\": 1, \"line\": {\"color\": \"rgb(107,174,214)\"}, \"type\": \"box\", \"boxpoints\": \"suspectedoutliers\"}, {\"showlegend\": false, \"name\": 2, \"marker\": {\"color\": \"rgb(107,174,214)\", \"outliercolor\": \"rgba(219, 64, 82, 0.6)\", \"line\": {\"outlierwidth\": 2, \"outliercolor\": \"rgba(219, 64, 82, 0.6)\"}}, \"y\": [0.8772563176895307, 0.8478260869565217, 0.9100719424460432, 0.9046052631578947, 0.9024390243902439, 0.8821428571428571, 0.907258064516129, 0.864963503649635, 0.9028213166144201, 0.917910447761194, 0.8837209302325582], \"x\": 2, \"line\": {\"color\": \"rgb(107,174,214)\"}, \"type\": \"box\", \"boxpoints\": \"suspectedoutliers\"}, {\"showlegend\": false, \"name\": 3, \"marker\": {\"color\": \"rgb(107,174,214)\", \"outliercolor\": \"rgba(219, 64, 82, 0.6)\", \"line\": {\"outlierwidth\": 2, \"outliercolor\": \"rgba(219, 64, 82, 0.6)\"}}, \"y\": [0.8808664259927798, 0.8478260869565217, 0.9068100358422939, 0.9049180327868852, 0.8989547038327527, 0.8892857142857142, 0.9036144578313253, 0.8654545454545455, 0.9, 0.9144981412639405, 0.8837209302325582], \"x\": 3, \"line\": {\"color\": \"rgb(107,174,214)\"}, \"type\": \"box\", \"boxpoints\": \"suspectedoutliers\"}, {\"showlegend\": false, \"name\": 4, \"marker\": {\"color\": \"rgb(107,174,214)\", \"outliercolor\": \"rgba(219, 64, 82, 0.6)\", \"line\": {\"outlierwidth\": 2, \"outliercolor\": \"rgba(219, 64, 82, 0.6)\"}}, \"y\": [0.8848920863309353, 0.8447653429602888, 0.9064748201438849, 0.9081967213114754, 0.8989547038327527, 0.896797153024911, 0.9076305220883534, 0.8659420289855072, 0.903125, 0.914179104477612, 0.8910505836575876], \"x\": 4, \"line\": {\"color\": \"rgb(107,174,214)\"}, \"type\": \"box\", \"boxpoints\": \"suspectedoutliers\"}, {\"showlegend\": false, \"name\": 5, \"marker\": {\"color\": \"rgb(107,174,214)\", \"outliercolor\": \"rgba(219, 64, 82, 0.6)\", \"line\": {\"outlierwidth\": 2, \"outliercolor\": \"rgba(219, 64, 82, 0.6)\"}}, \"y\": [0.8853046594982079, 0.8483754512635379, 0.9064748201438849, 0.9111842105263158, 0.8927335640138409, 0.8971631205673759, 0.9116465863453815, 0.8727272727272727, 0.9003115264797508, 0.9074074074074074, 0.890625], \"x\": 5, \"line\": {\"color\": \"rgb(107,174,214)\"}, \"type\": \"box\", \"boxpoints\": \"suspectedoutliers\"}, {\"showlegend\": false, \"name\": 6, \"marker\": {\"color\": \"rgb(107,174,214)\", \"outliercolor\": \"rgba(219, 64, 82, 0.6)\", \"line\": {\"outlierwidth\": 2, \"outliercolor\": \"rgba(219, 64, 82, 0.6)\"}}, \"y\": [0.8884892086330936, 0.8489208633093526, 0.9032258064516129, 0.9111842105263158, 0.8958333333333334, 0.900709219858156, 0.9116465863453815, 0.8731884057971014, 0.8947368421052632, 0.9074074074074074, 0.8901960784313725], \"x\": 6, \"line\": {\"color\": \"rgb(107,174,214)\"}, \"type\": \"box\", \"boxpoints\": \"suspectedoutliers\"}, {\"showlegend\": false, \"name\": 7, \"marker\": {\"color\": \"rgb(107,174,214)\", \"outliercolor\": \"rgba(219, 64, 82, 0.6)\", \"line\": {\"outlierwidth\": 2, \"outliercolor\": \"rgba(219, 64, 82, 0.6)\"}}, \"y\": [0.89568345323741, 0.8525179856115108, 0.9064748201438849, 0.9144736842105263, 0.8927335640138409, 0.900709219858156, 0.9116465863453815, 0.8763636363636363, 0.8947368421052632, 0.9040590405904059, 0.8901960784313725], \"x\": 7, \"line\": {\"color\": \"rgb(107,174,214)\"}, \"type\": \"box\", \"boxpoints\": \"suspectedoutliers\"}, {\"showlegend\": false, \"name\": 8, \"marker\": {\"color\": \"rgb(107,174,214)\", \"outliercolor\": \"rgba(219, 64, 82, 0.6)\", \"line\": {\"outlierwidth\": 2, \"outliercolor\": \"rgba(219, 64, 82, 0.6)\"}}, \"y\": [0.899641577060932, 0.8494623655913979, 0.9061371841155235, 0.9207920792079208, 0.8865979381443299, 0.901060070671378, 0.9196787148594378, 0.8759124087591241, 0.8923076923076924, 0.9040590405904059, 0.8976377952755905], \"x\": 8, \"line\": {\"color\": \"rgb(107,174,214)\"}, \"type\": \"box\", \"boxpoints\": \"suspectedoutliers\"}, {\"showlegend\": false, \"name\": 9, \"marker\": {\"color\": \"rgb(107,174,214)\", \"outliercolor\": \"rgba(219, 64, 82, 0.6)\", \"line\": {\"outlierwidth\": 2, \"outliercolor\": \"rgba(219, 64, 82, 0.6)\"}}, \"y\": [0.9, 0.8494623655913979, 0.9032258064516129, 0.9207920792079208, 0.8831615120274914, 0.9045936395759717, 0.9236947791164659, 0.8727272727272727, 0.9015384615384615, 0.9040590405904059, 0.9015748031496063], \"x\": 9, \"line\": {\"color\": \"rgb(107,174,214)\"}, \"type\": \"box\", \"boxpoints\": \"suspectedoutliers\"}, {\"showlegend\": false, \"name\": 10, \"marker\": {\"color\": \"rgb(107,174,214)\", \"outliercolor\": \"rgba(219, 64, 82, 0.6)\", \"line\": {\"outlierwidth\": 2, \"outliercolor\": \"rgba(219, 64, 82, 0.6)\"}}, \"y\": [0.9, 0.8525179856115108, 0.9032258064516129, 0.9207920792079208, 0.8862068965517241, 0.9045936395759717, 0.9236947791164659, 0.8690909090909091, 0.8990825688073395, 0.9070631970260223, 0.9051383399209486], \"x\": 10, \"line\": {\"color\": \"rgb(107,174,214)\"}, \"type\": \"box\", \"boxpoints\": \"suspectedoutliers\"}, {\"showlegend\": false, \"name\": 11, \"marker\": {\"color\": \"rgb(107,174,214)\", \"outliercolor\": \"rgba(219, 64, 82, 0.6)\", \"line\": {\"outlierwidth\": 2, \"outliercolor\": \"rgba(219, 64, 82, 0.6)\"}}, \"y\": [0.9142857142857143, 0.8566308243727598, 0.9068100358422939, 0.9240924092409241, 0.8801369863013698, 0.9045936395759717, 0.9236947791164659, 0.8727272727272727, 0.8960244648318043, 0.9037037037037037, 0.9090909090909091], \"x\": 11, \"line\": {\"color\": \"rgb(107,174,214)\"}, \"type\": \"box\", \"boxpoints\": \"suspectedoutliers\"}, {\"showlegend\": false, \"name\": 12, \"marker\": {\"color\": \"rgb(107,174,214)\", \"outliercolor\": \"rgba(219, 64, 82, 0.6)\", \"line\": {\"outlierwidth\": 2, \"outliercolor\": \"rgba(219, 64, 82, 0.6)\"}}, \"y\": [0.9139784946236559, 0.8683274021352313, 0.9068100358422939, 0.9271523178807947, 0.8801369863013698, 0.9081272084805654, 0.9236947791164659, 0.8727272727272727, 0.8990825688073395, 0.9037037037037037, 0.9051383399209486], \"x\": 12, \"line\": {\"color\": \"rgb(107,174,214)\"}, \"type\": \"box\", \"boxpoints\": \"suspectedoutliers\"}, {\"showlegend\": false, \"name\": 13, \"marker\": {\"color\": \"rgb(107,174,214)\", \"outliercolor\": \"rgba(219, 64, 82, 0.6)\", \"line\": {\"outlierwidth\": 2, \"outliercolor\": \"rgba(219, 64, 82, 0.6)\"}}, \"y\": [0.9175627240143369, 0.8718861209964412, 0.9139784946236559, 0.9238410596026491, 0.8835616438356164, 0.9081272084805654, 0.92, 0.8695652173913043, 0.8936170212765957, 0.9074074074074074, 0.9130434782608695], \"x\": 13, \"line\": {\"color\": \"rgb(107,174,214)\"}, \"type\": \"box\", \"boxpoints\": \"suspectedoutliers\"}, {\"showlegend\": false, \"name\": 14, \"marker\": {\"color\": \"rgb(107,174,214)\", \"outliercolor\": \"rgba(219, 64, 82, 0.6)\", \"line\": {\"outlierwidth\": 2, \"outliercolor\": \"rgba(219, 64, 82, 0.6)\"}}, \"y\": [0.921146953405018, 0.8687943262411347, 0.9175627240143369, 0.9273927392739274, 0.8835616438356164, 0.9084507042253521, 0.92, 0.8705035971223022, 0.8936170212765957, 0.9074074074074074, 0.9126984126984127], \"x\": 14, \"line\": {\"color\": \"rgb(107,174,214)\"}, \"type\": \"box\", \"boxpoints\": \"suspectedoutliers\"}, {\"showlegend\": false, \"name\": 15, \"marker\": {\"color\": \"rgb(107,174,214)\", \"outliercolor\": \"rgba(219, 64, 82, 0.6)\", \"line\": {\"outlierwidth\": 2, \"outliercolor\": \"rgba(219, 64, 82, 0.6)\"}}, \"y\": [0.921146953405018, 0.8718861209964412, 0.9175627240143369, 0.9273927392739274, 0.8835616438356164, 0.911660777385159, 0.9163346613545816, 0.8776978417266187, 0.8939393939393939, 0.9074074074074074, 0.9166666666666666], \"x\": 15, \"line\": {\"color\": \"rgb(107,174,214)\"}, \"type\": \"box\", \"boxpoints\": \"suspectedoutliers\"}, {\"showlegend\": false, \"name\": 16, \"marker\": {\"color\": \"rgb(107,174,214)\", \"outliercolor\": \"rgba(219, 64, 82, 0.6)\", \"line\": {\"outlierwidth\": 2, \"outliercolor\": \"rgba(219, 64, 82, 0.6)\"}}, \"y\": [0.921146953405018, 0.8714285714285714, 0.9175627240143369, 0.9243421052631579, 0.8900343642611683, 0.9119718309859155, 0.9163346613545816, 0.8745519713261649, 0.896969696969697, 0.9074074074074074, 0.9130434782608695], \"x\": 16, \"line\": {\"color\": \"rgb(107,174,214)\"}, \"type\": \"box\", \"boxpoints\": \"suspectedoutliers\"}, {\"showlegend\": false, \"name\": 17, \"marker\": {\"color\": \"rgb(107,174,214)\", \"outliercolor\": \"rgba(219, 64, 82, 0.6)\", \"line\": {\"outlierwidth\": 2, \"outliercolor\": \"rgba(219, 64, 82, 0.6)\"}}, \"y\": [0.924187725631769, 0.8714285714285714, 0.9172661870503597, 0.921311475409836, 0.8900343642611683, 0.9119718309859155, 0.916, 0.8817204301075269, 0.8972809667673716, 0.9074074074074074, 0.9130434782608695], \"x\": 17, \"line\": {\"color\": \"rgb(107,174,214)\"}, \"type\": \"box\", \"boxpoints\": \"suspectedoutliers\"}, {\"showlegend\": false, \"name\": 18, \"marker\": {\"color\": \"rgb(107,174,214)\", \"outliercolor\": \"rgba(219, 64, 82, 0.6)\", \"line\": {\"outlierwidth\": 2, \"outliercolor\": \"rgba(219, 64, 82, 0.6)\"}}, \"y\": [0.920863309352518, 0.8781362007168458, 0.9172661870503597, 0.9245901639344263, 0.8934707903780069, 0.9119718309859155, 0.92, 0.8853046594982079, 0.8918918918918919, 0.9074074074074074, 0.9130434782608695], \"x\": 18, \"line\": {\"color\": \"rgb(107,174,214)\"}, \"type\": \"box\", \"boxpoints\": \"suspectedoutliers\"}, {\"showlegend\": false, \"name\": 19, \"marker\": {\"color\": \"rgb(107,174,214)\", \"outliercolor\": \"rgba(219, 64, 82, 0.6)\", \"line\": {\"outlierwidth\": 2, \"outliercolor\": \"rgba(219, 64, 82, 0.6)\"}}, \"y\": [0.9244604316546763, 0.8781362007168458, 0.920863309352518, 0.9245901639344263, 0.8904109589041096, 0.9119718309859155, 0.9196787148594378, 0.8924731182795699, 0.8918918918918919, 0.9111111111111111, 0.9130434782608695], \"x\": 19, \"line\": {\"color\": \"rgb(107,174,214)\"}, \"type\": \"box\", \"boxpoints\": \"suspectedoutliers\"}, {\"showlegend\": false, \"name\": 20, \"marker\": {\"color\": \"rgb(107,174,214)\", \"outliercolor\": \"rgba(219, 64, 82, 0.6)\", \"line\": {\"outlierwidth\": 2, \"outliercolor\": \"rgba(219, 64, 82, 0.6)\"}}, \"y\": [0.924187725631769, 0.8817204301075269, 0.9178571428571428, 0.9276315789473685, 0.8938356164383562, 0.9119718309859155, 0.9236947791164659, 0.8928571428571429, 0.8918918918918919, 0.9111111111111111, 0.9130434782608695], \"x\": 20, \"line\": {\"color\": \"rgb(107,174,214)\"}, \"type\": \"box\", \"boxpoints\": \"suspectedoutliers\"}, {\"showlegend\": false, \"name\": 21, \"marker\": {\"color\": \"rgb(107,174,214)\", \"outliercolor\": \"rgba(219, 64, 82, 0.6)\", \"line\": {\"outlierwidth\": 2, \"outliercolor\": \"rgba(219, 64, 82, 0.6)\"}}, \"y\": [0.921146953405018, 0.8817204301075269, 0.9181494661921709, 0.930921052631579, 0.8938356164383562, 0.9119718309859155, 0.9236947791164659, 0.8964285714285715, 0.8918918918918919, 0.9117647058823529, 0.9126984126984127], \"x\": 21, \"line\": {\"color\": \"rgb(107,174,214)\"}, \"type\": \"box\", \"boxpoints\": \"suspectedoutliers\"}, {\"showlegend\": false, \"name\": 22, \"marker\": {\"color\": \"rgb(107,174,214)\", \"outliercolor\": \"rgba(219, 64, 82, 0.6)\", \"line\": {\"outlierwidth\": 2, \"outliercolor\": \"rgba(219, 64, 82, 0.6)\"}}, \"y\": [0.931899641577061, 0.8785714285714286, 0.9148936170212766, 0.9248366013071896, 0.8938356164383562, 0.911660777385159, 0.9317269076305221, 0.8932384341637011, 0.8888888888888888, 0.9117647058823529, 0.9166666666666666], \"x\": 22, \"line\": {\"color\": \"rgb(107,174,214)\"}, \"type\": \"box\", \"boxpoints\": \"suspectedoutliers\"}, {\"showlegend\": false, \"name\": 23, \"marker\": {\"color\": \"rgb(107,174,214)\", \"outliercolor\": \"rgba(219, 64, 82, 0.6)\", \"line\": {\"outlierwidth\": 2, \"outliercolor\": \"rgba(219, 64, 82, 0.6)\"}}, \"y\": [0.9388489208633094, 0.8754448398576512, 0.911660777385159, 0.9250814332247557, 0.8938356164383562, 0.911660777385159, 0.928, 0.8900709219858156, 0.8922155688622755, 0.9154411764705882, 0.9203187250996016], \"x\": 23, \"line\": {\"color\": \"rgb(107,174,214)\"}, \"type\": \"box\", \"boxpoints\": \"suspectedoutliers\"}, {\"showlegend\": false, \"name\": 24, \"marker\": {\"color\": \"rgb(107,174,214)\", \"outliercolor\": \"rgba(219, 64, 82, 0.6)\", \"line\": {\"outlierwidth\": 2, \"outliercolor\": \"rgba(219, 64, 82, 0.6)\"}}, \"y\": [0.9390681003584229, 0.8794326241134752, 0.9110320284697508, 0.9250814332247557, 0.8938356164383562, 0.911660777385159, 0.9357429718875502, 0.8865248226950354, 0.8895522388059701, 0.9157509157509157, 0.9166666666666666], \"x\": 24, \"line\": {\"color\": \"rgb(107,174,214)\"}, \"type\": \"box\", \"boxpoints\": \"suspectedoutliers\"}, {\"showlegend\": false, \"name\": 25, \"marker\": {\"color\": \"rgb(107,174,214)\", \"outliercolor\": \"rgba(219, 64, 82, 0.6)\", \"line\": {\"outlierwidth\": 2, \"outliercolor\": \"rgba(219, 64, 82, 0.6)\"}}, \"y\": [0.9390681003584229, 0.8833922261484098, 0.910394265232975, 0.9218241042345277, 0.8927335640138409, 0.9045936395759717, 0.932, 0.8900709219858156, 0.8895522388059701, 0.916058394160584, 0.9126984126984127], \"x\": 25, \"line\": {\"color\": \"rgb(107,174,214)\"}, \"type\": \"box\", \"boxpoints\": \"suspectedoutliers\"}, {\"showlegend\": false, \"name\": 26, \"marker\": {\"color\": \"rgb(107,174,214)\", \"outliercolor\": \"rgba(219, 64, 82, 0.6)\", \"line\": {\"outlierwidth\": 2, \"outliercolor\": \"rgba(219, 64, 82, 0.6)\"}}, \"y\": [0.9388489208633094, 0.8771929824561403, 0.910394265232975, 0.9218241042345277, 0.8961937716262975, 0.9042553191489362, 0.932, 0.8869257950530035, 0.8895522388059701, 0.916058394160584, 0.9126984126984127], \"x\": 26, \"line\": {\"color\": \"rgb(107,174,214)\"}, \"type\": \"box\", \"boxpoints\": \"suspectedoutliers\"}, {\"showlegend\": false, \"name\": 27, \"marker\": {\"color\": \"rgb(107,174,214)\", \"outliercolor\": \"rgba(219, 64, 82, 0.6)\", \"line\": {\"outlierwidth\": 2, \"outliercolor\": \"rgba(219, 64, 82, 0.6)\"}}, \"y\": [0.9390681003584229, 0.8807017543859649, 0.910394265232975, 0.9218241042345277, 0.896551724137931, 0.9014084507042254, 0.9322709163346613, 0.8869257950530035, 0.8888888888888888, 0.9154411764705882, 0.9126984126984127], \"x\": 27, \"line\": {\"color\": \"rgb(107,174,214)\"}, \"type\": \"box\", \"boxpoints\": \"suspectedoutliers\"}, {\"showlegend\": false, \"name\": 28, \"marker\": {\"color\": \"rgb(107,174,214)\", \"outliercolor\": \"rgba(219, 64, 82, 0.6)\", \"line\": {\"outlierwidth\": 2, \"outliercolor\": \"rgba(219, 64, 82, 0.6)\"}}, \"y\": [0.9321428571428572, 0.8842105263157894, 0.9175627240143369, 0.9248366013071896, 0.906896551724138, 0.9014084507042254, 0.9282868525896414, 0.8873239436619719, 0.8922155688622755, 0.9124087591240876, 0.9126984126984127], \"x\": 28, \"line\": {\"color\": \"rgb(107,174,214)\"}, \"type\": \"box\", \"boxpoints\": \"suspectedoutliers\"}, {\"showlegend\": false, \"name\": 29, \"marker\": {\"color\": \"rgb(107,174,214)\", \"outliercolor\": \"rgba(219, 64, 82, 0.6)\", \"line\": {\"outlierwidth\": 2, \"outliercolor\": \"rgba(219, 64, 82, 0.6)\"}}, \"y\": [0.9354838709677419, 0.8842105263157894, 0.9175627240143369, 0.9250814332247557, 0.9103448275862069, 0.8982456140350877, 0.9282868525896414, 0.8842105263157894, 0.8895522388059701, 0.9127272727272727, 0.9126984126984127], \"x\": 29, \"line\": {\"color\": \"rgb(107,174,214)\"}, \"type\": \"box\", \"boxpoints\": \"suspectedoutliers\"}, {\"showlegend\": false, \"name\": 30, \"marker\": {\"color\": \"rgb(107,174,214)\", \"outliercolor\": \"rgba(219, 64, 82, 0.6)\", \"line\": {\"outlierwidth\": 2, \"outliercolor\": \"rgba(219, 64, 82, 0.6)\"}}, \"y\": [0.9359430604982206, 0.8842105263157894, 0.921146953405018, 0.9250814332247557, 0.9137931034482759, 0.8951048951048951, 0.932, 0.8838028169014085, 0.8925373134328358, 0.9130434782608695, 0.9126984126984127], \"x\": 30, \"line\": {\"color\": \"rgb(107,174,214)\"}, \"type\": \"box\", \"boxpoints\": \"suspectedoutliers\"}, {\"showlegend\": false, \"name\": 31, \"marker\": {\"color\": \"rgb(107,174,214)\", \"outliercolor\": \"rgba(219, 64, 82, 0.6)\", \"line\": {\"outlierwidth\": 2, \"outliercolor\": \"rgba(219, 64, 82, 0.6)\"}}, \"y\": [0.9359430604982206, 0.8807017543859649, 0.920863309352518, 0.9250814332247557, 0.9172413793103448, 0.8951048951048951, 0.936, 0.8807017543859649, 0.8985074626865671, 0.9130434782608695, 0.9126984126984127], \"x\": 31, \"line\": {\"color\": \"rgb(107,174,214)\"}, \"type\": \"box\", \"boxpoints\": \"suspectedoutliers\"}, {\"showlegend\": false, \"name\": 32, \"marker\": {\"color\": \"rgb(107,174,214)\", \"outliercolor\": \"rgba(219, 64, 82, 0.6)\", \"line\": {\"outlierwidth\": 2, \"outliercolor\": \"rgba(219, 64, 82, 0.6)\"}}, \"y\": [0.9395017793594306, 0.8802816901408451, 0.9244604316546763, 0.9250814332247557, 0.9106529209621993, 0.8986013986013986, 0.936, 0.8807017543859649, 0.8905325443786982, 0.9127272727272727, 0.9203187250996016], \"x\": 32, \"line\": {\"color\": \"rgb(107,174,214)\"}, \"type\": \"box\", \"boxpoints\": \"suspectedoutliers\"}, {\"showlegend\": false, \"name\": 33, \"marker\": {\"color\": \"rgb(107,174,214)\", \"outliercolor\": \"rgba(219, 64, 82, 0.6)\", \"line\": {\"outlierwidth\": 2, \"outliercolor\": \"rgba(219, 64, 82, 0.6)\"}}, \"y\": [0.9428571428571428, 0.8873239436619719, 0.9244604316546763, 0.9253246753246753, 0.9103448275862069, 0.8986013986013986, 0.936, 0.8842105263157894, 0.893491124260355, 0.9124087591240876, 0.9209486166007905], \"x\": 33, \"line\": {\"color\": \"rgb(107,174,214)\"}, \"type\": \"box\", \"boxpoints\": \"suspectedoutliers\"}, {\"showlegend\": false, \"name\": 34, \"marker\": {\"color\": \"rgb(107,174,214)\", \"outliercolor\": \"rgba(219, 64, 82, 0.6)\", \"line\": {\"outlierwidth\": 2, \"outliercolor\": \"rgba(219, 64, 82, 0.6)\"}}, \"y\": [0.9395017793594306, 0.8912280701754386, 0.9280575539568345, 0.9225806451612903, 0.9172413793103448, 0.9055944055944056, 0.936, 0.887719298245614, 0.8931750741839762, 0.9124087591240876, 0.9288537549407114], \"x\": 34, \"line\": {\"color\": \"rgb(107,174,214)\"}, \"type\": \"box\", \"boxpoints\": \"suspectedoutliers\"}, {\"showlegend\": false, \"name\": 35, \"marker\": {\"color\": \"rgb(107,174,214)\", \"outliercolor\": \"rgba(219, 64, 82, 0.6)\", \"line\": {\"outlierwidth\": 2, \"outliercolor\": \"rgba(219, 64, 82, 0.6)\"}}, \"y\": [0.9432624113475178, 0.9049295774647887, 0.927797833935018, 0.9225806451612903, 0.9172413793103448, 0.9087719298245615, 0.936, 0.8908450704225352, 0.8905325443786982, 0.9090909090909091, 0.9285714285714286], \"x\": 35, \"line\": {\"color\": \"rgb(107,174,214)\"}, \"type\": \"box\", \"boxpoints\": \"suspectedoutliers\"}, {\"showlegend\": false, \"name\": 36, \"marker\": {\"color\": \"rgb(107,174,214)\", \"outliercolor\": \"rgba(219, 64, 82, 0.6)\", \"line\": {\"outlierwidth\": 2, \"outliercolor\": \"rgba(219, 64, 82, 0.6)\"}}, \"y\": [0.9399293286219081, 0.9014084507042254, 0.927797833935018, 0.9225806451612903, 0.9241379310344827, 0.9122807017543859, 0.9362549800796812, 0.897887323943662, 0.8849557522123894, 0.9061371841155235, 0.9285714285714286], \"x\": 36, \"line\": {\"color\": \"rgb(107,174,214)\"}, \"type\": \"box\", \"boxpoints\": \"suspectedoutliers\"}, {\"showlegend\": false, \"name\": 37, \"marker\": {\"color\": \"rgb(107,174,214)\", \"outliercolor\": \"rgba(219, 64, 82, 0.6)\", \"line\": {\"outlierwidth\": 2, \"outliercolor\": \"rgba(219, 64, 82, 0.6)\"}}, \"y\": [0.9466192170818505, 0.9049295774647887, 0.9350180505415162, 0.9225806451612903, 0.9241379310344827, 0.9125874125874126, 0.936, 0.8943661971830986, 0.887905604719764, 0.9094202898550725, 0.9325396825396826], \"x\": 37, \"line\": {\"color\": \"rgb(107,174,214)\"}, \"type\": \"box\", \"boxpoints\": \"suspectedoutliers\"}, {\"showlegend\": false, \"name\": 38, \"marker\": {\"color\": \"rgb(107,174,214)\", \"outliercolor\": \"rgba(219, 64, 82, 0.6)\", \"line\": {\"outlierwidth\": 2, \"outliercolor\": \"rgba(219, 64, 82, 0.6)\"}}, \"y\": [0.9464285714285714, 0.9049295774647887, 0.9316546762589928, 0.9258064516129032, 0.9243986254295533, 0.9128919860627178, 0.9357429718875502, 0.8939929328621908, 0.8938053097345132, 0.9061371841155235, 0.9325396825396826], \"x\": 38, \"line\": {\"color\": \"rgb(107,174,214)\"}, \"type\": \"box\", \"boxpoints\": \"suspectedoutliers\"}, {\"showlegend\": false, \"name\": 39, \"marker\": {\"color\": \"rgb(107,174,214)\", \"outliercolor\": \"rgba(219, 64, 82, 0.6)\", \"line\": {\"outlierwidth\": 2, \"outliercolor\": \"rgba(219, 64, 82, 0.6)\"}}, \"y\": [0.9464285714285714, 0.8986013986013986, 0.9386281588447654, 0.9258064516129032, 0.9243986254295533, 0.9094076655052264, 0.9437751004016064, 0.8971631205673759, 0.8938053097345132, 0.9061371841155235, 0.932806324110672], \"x\": 39, \"line\": {\"color\": \"rgb(107,174,214)\"}, \"type\": \"box\", \"boxpoints\": \"suspectedoutliers\"}, {\"showlegend\": false, \"name\": 40, \"marker\": {\"color\": \"rgb(107,174,214)\", \"outliercolor\": \"rgba(219, 64, 82, 0.6)\", \"line\": {\"outlierwidth\": 2, \"outliercolor\": \"rgba(219, 64, 82, 0.6)\"}}, \"y\": [0.9464285714285714, 0.8989547038327527, 0.9386281588447654, 0.9255663430420712, 0.9278350515463918, 0.9131944444444444, 0.9435483870967742, 0.900709219858156, 0.8938053097345132, 0.9061371841155235, 0.9322709163346613], \"x\": 40, \"line\": {\"color\": \"rgb(107,174,214)\"}, \"type\": \"box\", \"boxpoints\": \"suspectedoutliers\"}, {\"showlegend\": false, \"name\": 41, \"marker\": {\"color\": \"rgb(107,174,214)\", \"outliercolor\": \"rgba(219, 64, 82, 0.6)\", \"line\": {\"outlierwidth\": 2, \"outliercolor\": \"rgba(219, 64, 82, 0.6)\"}}, \"y\": [0.946236559139785, 0.8989547038327527, 0.9350180505415162, 0.9320388349514563, 0.9312714776632303, 0.9131944444444444, 0.9395161290322581, 0.8975265017667845, 0.8911764705882353, 0.9097472924187726, 0.9322709163346613], \"x\": 41, \"line\": {\"color\": \"rgb(107,174,214)\"}, \"type\": \"box\", \"boxpoints\": \"suspectedoutliers\"}, {\"showlegend\": false, \"name\": 42, \"marker\": {\"color\": \"rgb(107,174,214)\", \"outliercolor\": \"rgba(219, 64, 82, 0.6)\", \"line\": {\"outlierwidth\": 2, \"outliercolor\": \"rgba(219, 64, 82, 0.6)\"}}, \"y\": [0.9428571428571428, 0.9024390243902439, 0.9384057971014492, 0.9320388349514563, 0.9415807560137457, 0.9166666666666666, 0.932, 0.8912280701754386, 0.8914956011730205, 0.9064748201438849, 0.9285714285714286], \"x\": 42, \"line\": {\"color\": \"rgb(107,174,214)\"}, \"type\": \"box\", \"boxpoints\": \"suspectedoutliers\"}, {\"showlegend\": false, \"name\": 43, \"marker\": {\"color\": \"rgb(107,174,214)\", \"outliercolor\": \"rgba(219, 64, 82, 0.6)\", \"line\": {\"outlierwidth\": 2, \"outliercolor\": \"rgba(219, 64, 82, 0.6)\"}}, \"y\": [0.9428571428571428, 0.9024390243902439, 0.9381818181818182, 0.9383116883116883, 0.9415807560137457, 0.9233449477351916, 0.9317269076305221, 0.8912280701754386, 0.8914956011730205, 0.9032258064516129, 0.9285714285714286], \"x\": 43, \"line\": {\"color\": \"rgb(107,174,214)\"}, \"type\": \"box\", \"boxpoints\": \"suspectedoutliers\"}, {\"showlegend\": false, \"name\": 44, \"marker\": {\"color\": \"rgb(107,174,214)\", \"outliercolor\": \"rgba(219, 64, 82, 0.6)\", \"line\": {\"outlierwidth\": 2, \"outliercolor\": \"rgba(219, 64, 82, 0.6)\"}}, \"y\": [0.9395017793594306, 0.9027777777777778, 0.9345454545454546, 0.9448051948051948, 0.9383561643835616, 0.9230769230769231, 0.9317269076305221, 0.8846153846153846, 0.8941176470588236, 0.9032258064516129, 0.932], \"x\": 44, \"line\": {\"color\": \"rgb(107,174,214)\"}, \"type\": \"box\", \"boxpoints\": \"suspectedoutliers\"}, {\"showlegend\": false, \"name\": 45, \"marker\": {\"color\": \"rgb(107,174,214)\", \"outliercolor\": \"rgba(219, 64, 82, 0.6)\", \"line\": {\"outlierwidth\": 2, \"outliercolor\": \"rgba(219, 64, 82, 0.6)\"}}, \"y\": [0.9428571428571428, 0.90625, 0.9379562043795621, 0.9448051948051948, 0.9351535836177475, 0.9195804195804196, 0.9354838709677419, 0.8811188811188811, 0.8973607038123167, 0.9068100358422939, 0.9362549800796812], \"x\": 45, \"line\": {\"color\": \"rgb(107,174,214)\"}, \"type\": \"box\", \"boxpoints\": \"suspectedoutliers\"}, {\"showlegend\": false, \"name\": 46, \"marker\": {\"color\": \"rgb(107,174,214)\", \"outliercolor\": \"rgba(219, 64, 82, 0.6)\", \"line\": {\"outlierwidth\": 2, \"outliercolor\": \"rgba(219, 64, 82, 0.6)\"}}, \"y\": [0.9428571428571428, 0.9097222222222222, 0.9381818181818182, 0.9415584415584416, 0.9288135593220339, 0.9230769230769231, 0.9354838709677419, 0.8881118881118881, 0.9032258064516129, 0.910394265232975, 0.9362549800796812], \"x\": 46, \"line\": {\"color\": \"rgb(107,174,214)\"}, \"type\": \"box\", \"boxpoints\": \"suspectedoutliers\"}, {\"showlegend\": false, \"name\": 47, \"marker\": {\"color\": \"rgb(107,174,214)\", \"outliercolor\": \"rgba(219, 64, 82, 0.6)\", \"line\": {\"outlierwidth\": 2, \"outliercolor\": \"rgba(219, 64, 82, 0.6)\"}}, \"y\": [0.9361702127659575, 0.9094076655052264, 0.9418181818181818, 0.9478827361563518, 0.9355932203389831, 0.9198606271777003, 0.9354838709677419, 0.8916083916083916, 0.8979591836734694, 0.9142857142857143, 0.9357429718875502], \"x\": 47, \"line\": {\"color\": \"rgb(107,174,214)\"}, \"type\": \"box\", \"boxpoints\": \"suspectedoutliers\"}, {\"showlegend\": false, \"name\": \"Mean\", \"mode\": \"lines\", \"y\": [0.8925641137915954, 0.8920737921897665, 0.8910014322324571, 0.8905408249526652, 0.8929098242557552, 0.8930866926339068, 0.8932307238362175, 0.8945086282646717, 0.8957533515076121, 0.8968027054524188, 0.8974005637600388, 0.8992537035535626, 0.9008071917763311, 0.902053670535404, 0.9028305026818277, 0.9041142663641061, 0.9040721604251715, 0.9046956761191634, 0.90581326540695, 0.9071482918137611, 0.9081638843823235, 0.9085657918889328, 0.9089075714120548, 0.9093253415975157, 0.9094861996178235, 0.9083987152013574, 0.9078131094800143, 0.9078339625908729, 0.9090901134677204, 0.9089458453891823, 0.9099419993900437, 0.9105351763553194, 0.9108054500486221, 0.9123610405442815, 0.9147600654592849, 0.9163294299551903, 0.9165401418303634, 0.9187367825608145, 0.9189389063088171, 0.9197234463956463, 0.9206434809344205, 0.9206319437012632, 0.9203416492767705, 0.9211784719538048, 0.9207953672458804, 0.9221482742782712, 0.9234255380056801, 0.9241647978350244], \"x\": [1, 2, 3, 4, 5, 6, 7, 8, 9, 10, 11, 12, 13, 14, 15, 16, 17, 18, 19, 20, 21, 22, 23, 24, 25, 26, 27, 28, 29, 30, 31, 32, 33, 34, 35, 36, 37, 38, 39, 40, 41, 42, 43, 44, 45, 46, 47], \"type\": \"scatter\"}], {}, {\"linkText\": \"Export to plot.ly\", \"showLink\": true})});</script>"
      ],
      "text/vnd.plotly.v1+html": [
       "<div id=\"9e58e687-c2e0-43d1-95a4-91ac5127dd18\" style=\"height: 525px; width: 100%;\" class=\"plotly-graph-div\"></div><script type=\"text/javascript\">require([\"plotly\"], function(Plotly) { window.PLOTLYENV=window.PLOTLYENV || {};window.PLOTLYENV.BASE_URL=\"https://plot.ly\";Plotly.newPlot(\"9e58e687-c2e0-43d1-95a4-91ac5127dd18\", [{\"showlegend\": false, \"name\": 0, \"marker\": {\"color\": \"rgb(107,174,214)\", \"outliercolor\": \"rgba(219, 64, 82, 0.6)\", \"line\": {\"outlierwidth\": 2, \"outliercolor\": \"rgba(219, 64, 82, 0.6)\"}}, \"y\": [0.8860294117647058, 0.8602941176470589, 0.9166666666666666, 0.9066666666666666, 0.9055944055944056, 0.8709677419354839, 0.9102040816326531, 0.864963503649635, 0.89937106918239, 0.914179104477612, 0.8832684824902723], \"x\": 0, \"line\": {\"color\": \"rgb(107,174,214)\"}, \"type\": \"box\", \"boxpoints\": \"suspectedoutliers\"}, {\"showlegend\": false, \"name\": 1, \"marker\": {\"color\": \"rgb(107,174,214)\", \"outliercolor\": \"rgba(219, 64, 82, 0.6)\", \"line\": {\"outlierwidth\": 2, \"outliercolor\": \"rgba(219, 64, 82, 0.6)\"}}, \"y\": [0.8864468864468864, 0.850909090909091, 0.9133574007220217, 0.9042904290429042, 0.9055944055944056, 0.8745519713261649, 0.9109311740890689, 0.864963503649635, 0.8996865203761756, 0.917910447761194, 0.8841698841698842], \"x\": 1, \"line\": {\"color\": \"rgb(107,174,214)\"}, \"type\": \"box\", \"boxpoints\": \"suspectedoutliers\"}, {\"showlegend\": false, \"name\": 2, \"marker\": {\"color\": \"rgb(107,174,214)\", \"outliercolor\": \"rgba(219, 64, 82, 0.6)\", \"line\": {\"outlierwidth\": 2, \"outliercolor\": \"rgba(219, 64, 82, 0.6)\"}}, \"y\": [0.8772563176895307, 0.8478260869565217, 0.9100719424460432, 0.9046052631578947, 0.9024390243902439, 0.8821428571428571, 0.907258064516129, 0.864963503649635, 0.9028213166144201, 0.917910447761194, 0.8837209302325582], \"x\": 2, \"line\": {\"color\": \"rgb(107,174,214)\"}, \"type\": \"box\", \"boxpoints\": \"suspectedoutliers\"}, {\"showlegend\": false, \"name\": 3, \"marker\": {\"color\": \"rgb(107,174,214)\", \"outliercolor\": \"rgba(219, 64, 82, 0.6)\", \"line\": {\"outlierwidth\": 2, \"outliercolor\": \"rgba(219, 64, 82, 0.6)\"}}, \"y\": [0.8808664259927798, 0.8478260869565217, 0.9068100358422939, 0.9049180327868852, 0.8989547038327527, 0.8892857142857142, 0.9036144578313253, 0.8654545454545455, 0.9, 0.9144981412639405, 0.8837209302325582], \"x\": 3, \"line\": {\"color\": \"rgb(107,174,214)\"}, \"type\": \"box\", \"boxpoints\": \"suspectedoutliers\"}, {\"showlegend\": false, \"name\": 4, \"marker\": {\"color\": \"rgb(107,174,214)\", \"outliercolor\": \"rgba(219, 64, 82, 0.6)\", \"line\": {\"outlierwidth\": 2, \"outliercolor\": \"rgba(219, 64, 82, 0.6)\"}}, \"y\": [0.8848920863309353, 0.8447653429602888, 0.9064748201438849, 0.9081967213114754, 0.8989547038327527, 0.896797153024911, 0.9076305220883534, 0.8659420289855072, 0.903125, 0.914179104477612, 0.8910505836575876], \"x\": 4, \"line\": {\"color\": \"rgb(107,174,214)\"}, \"type\": \"box\", \"boxpoints\": \"suspectedoutliers\"}, {\"showlegend\": false, \"name\": 5, \"marker\": {\"color\": \"rgb(107,174,214)\", \"outliercolor\": \"rgba(219, 64, 82, 0.6)\", \"line\": {\"outlierwidth\": 2, \"outliercolor\": \"rgba(219, 64, 82, 0.6)\"}}, \"y\": [0.8853046594982079, 0.8483754512635379, 0.9064748201438849, 0.9111842105263158, 0.8927335640138409, 0.8971631205673759, 0.9116465863453815, 0.8727272727272727, 0.9003115264797508, 0.9074074074074074, 0.890625], \"x\": 5, \"line\": {\"color\": \"rgb(107,174,214)\"}, \"type\": \"box\", \"boxpoints\": \"suspectedoutliers\"}, {\"showlegend\": false, \"name\": 6, \"marker\": {\"color\": \"rgb(107,174,214)\", \"outliercolor\": \"rgba(219, 64, 82, 0.6)\", \"line\": {\"outlierwidth\": 2, \"outliercolor\": \"rgba(219, 64, 82, 0.6)\"}}, \"y\": [0.8884892086330936, 0.8489208633093526, 0.9032258064516129, 0.9111842105263158, 0.8958333333333334, 0.900709219858156, 0.9116465863453815, 0.8731884057971014, 0.8947368421052632, 0.9074074074074074, 0.8901960784313725], \"x\": 6, \"line\": {\"color\": \"rgb(107,174,214)\"}, \"type\": \"box\", \"boxpoints\": \"suspectedoutliers\"}, {\"showlegend\": false, \"name\": 7, \"marker\": {\"color\": \"rgb(107,174,214)\", \"outliercolor\": \"rgba(219, 64, 82, 0.6)\", \"line\": {\"outlierwidth\": 2, \"outliercolor\": \"rgba(219, 64, 82, 0.6)\"}}, \"y\": [0.89568345323741, 0.8525179856115108, 0.9064748201438849, 0.9144736842105263, 0.8927335640138409, 0.900709219858156, 0.9116465863453815, 0.8763636363636363, 0.8947368421052632, 0.9040590405904059, 0.8901960784313725], \"x\": 7, \"line\": {\"color\": \"rgb(107,174,214)\"}, \"type\": \"box\", \"boxpoints\": \"suspectedoutliers\"}, {\"showlegend\": false, \"name\": 8, \"marker\": {\"color\": \"rgb(107,174,214)\", \"outliercolor\": \"rgba(219, 64, 82, 0.6)\", \"line\": {\"outlierwidth\": 2, \"outliercolor\": \"rgba(219, 64, 82, 0.6)\"}}, \"y\": [0.899641577060932, 0.8494623655913979, 0.9061371841155235, 0.9207920792079208, 0.8865979381443299, 0.901060070671378, 0.9196787148594378, 0.8759124087591241, 0.8923076923076924, 0.9040590405904059, 0.8976377952755905], \"x\": 8, \"line\": {\"color\": \"rgb(107,174,214)\"}, \"type\": \"box\", \"boxpoints\": \"suspectedoutliers\"}, {\"showlegend\": false, \"name\": 9, \"marker\": {\"color\": \"rgb(107,174,214)\", \"outliercolor\": \"rgba(219, 64, 82, 0.6)\", \"line\": {\"outlierwidth\": 2, \"outliercolor\": \"rgba(219, 64, 82, 0.6)\"}}, \"y\": [0.9, 0.8494623655913979, 0.9032258064516129, 0.9207920792079208, 0.8831615120274914, 0.9045936395759717, 0.9236947791164659, 0.8727272727272727, 0.9015384615384615, 0.9040590405904059, 0.9015748031496063], \"x\": 9, \"line\": {\"color\": \"rgb(107,174,214)\"}, \"type\": \"box\", \"boxpoints\": \"suspectedoutliers\"}, {\"showlegend\": false, \"name\": 10, \"marker\": {\"color\": \"rgb(107,174,214)\", \"outliercolor\": \"rgba(219, 64, 82, 0.6)\", \"line\": {\"outlierwidth\": 2, \"outliercolor\": \"rgba(219, 64, 82, 0.6)\"}}, \"y\": [0.9, 0.8525179856115108, 0.9032258064516129, 0.9207920792079208, 0.8862068965517241, 0.9045936395759717, 0.9236947791164659, 0.8690909090909091, 0.8990825688073395, 0.9070631970260223, 0.9051383399209486], \"x\": 10, \"line\": {\"color\": \"rgb(107,174,214)\"}, \"type\": \"box\", \"boxpoints\": \"suspectedoutliers\"}, {\"showlegend\": false, \"name\": 11, \"marker\": {\"color\": \"rgb(107,174,214)\", \"outliercolor\": \"rgba(219, 64, 82, 0.6)\", \"line\": {\"outlierwidth\": 2, \"outliercolor\": \"rgba(219, 64, 82, 0.6)\"}}, \"y\": [0.9142857142857143, 0.8566308243727598, 0.9068100358422939, 0.9240924092409241, 0.8801369863013698, 0.9045936395759717, 0.9236947791164659, 0.8727272727272727, 0.8960244648318043, 0.9037037037037037, 0.9090909090909091], \"x\": 11, \"line\": {\"color\": \"rgb(107,174,214)\"}, \"type\": \"box\", \"boxpoints\": \"suspectedoutliers\"}, {\"showlegend\": false, \"name\": 12, \"marker\": {\"color\": \"rgb(107,174,214)\", \"outliercolor\": \"rgba(219, 64, 82, 0.6)\", \"line\": {\"outlierwidth\": 2, \"outliercolor\": \"rgba(219, 64, 82, 0.6)\"}}, \"y\": [0.9139784946236559, 0.8683274021352313, 0.9068100358422939, 0.9271523178807947, 0.8801369863013698, 0.9081272084805654, 0.9236947791164659, 0.8727272727272727, 0.8990825688073395, 0.9037037037037037, 0.9051383399209486], \"x\": 12, \"line\": {\"color\": \"rgb(107,174,214)\"}, \"type\": \"box\", \"boxpoints\": \"suspectedoutliers\"}, {\"showlegend\": false, \"name\": 13, \"marker\": {\"color\": \"rgb(107,174,214)\", \"outliercolor\": \"rgba(219, 64, 82, 0.6)\", \"line\": {\"outlierwidth\": 2, \"outliercolor\": \"rgba(219, 64, 82, 0.6)\"}}, \"y\": [0.9175627240143369, 0.8718861209964412, 0.9139784946236559, 0.9238410596026491, 0.8835616438356164, 0.9081272084805654, 0.92, 0.8695652173913043, 0.8936170212765957, 0.9074074074074074, 0.9130434782608695], \"x\": 13, \"line\": {\"color\": \"rgb(107,174,214)\"}, \"type\": \"box\", \"boxpoints\": \"suspectedoutliers\"}, {\"showlegend\": false, \"name\": 14, \"marker\": {\"color\": \"rgb(107,174,214)\", \"outliercolor\": \"rgba(219, 64, 82, 0.6)\", \"line\": {\"outlierwidth\": 2, \"outliercolor\": \"rgba(219, 64, 82, 0.6)\"}}, \"y\": [0.921146953405018, 0.8687943262411347, 0.9175627240143369, 0.9273927392739274, 0.8835616438356164, 0.9084507042253521, 0.92, 0.8705035971223022, 0.8936170212765957, 0.9074074074074074, 0.9126984126984127], \"x\": 14, \"line\": {\"color\": \"rgb(107,174,214)\"}, \"type\": \"box\", \"boxpoints\": \"suspectedoutliers\"}, {\"showlegend\": false, \"name\": 15, \"marker\": {\"color\": \"rgb(107,174,214)\", \"outliercolor\": \"rgba(219, 64, 82, 0.6)\", \"line\": {\"outlierwidth\": 2, \"outliercolor\": \"rgba(219, 64, 82, 0.6)\"}}, \"y\": [0.921146953405018, 0.8718861209964412, 0.9175627240143369, 0.9273927392739274, 0.8835616438356164, 0.911660777385159, 0.9163346613545816, 0.8776978417266187, 0.8939393939393939, 0.9074074074074074, 0.9166666666666666], \"x\": 15, \"line\": {\"color\": \"rgb(107,174,214)\"}, \"type\": \"box\", \"boxpoints\": \"suspectedoutliers\"}, {\"showlegend\": false, \"name\": 16, \"marker\": {\"color\": \"rgb(107,174,214)\", \"outliercolor\": \"rgba(219, 64, 82, 0.6)\", \"line\": {\"outlierwidth\": 2, \"outliercolor\": \"rgba(219, 64, 82, 0.6)\"}}, \"y\": [0.921146953405018, 0.8714285714285714, 0.9175627240143369, 0.9243421052631579, 0.8900343642611683, 0.9119718309859155, 0.9163346613545816, 0.8745519713261649, 0.896969696969697, 0.9074074074074074, 0.9130434782608695], \"x\": 16, \"line\": {\"color\": \"rgb(107,174,214)\"}, \"type\": \"box\", \"boxpoints\": \"suspectedoutliers\"}, {\"showlegend\": false, \"name\": 17, \"marker\": {\"color\": \"rgb(107,174,214)\", \"outliercolor\": \"rgba(219, 64, 82, 0.6)\", \"line\": {\"outlierwidth\": 2, \"outliercolor\": \"rgba(219, 64, 82, 0.6)\"}}, \"y\": [0.924187725631769, 0.8714285714285714, 0.9172661870503597, 0.921311475409836, 0.8900343642611683, 0.9119718309859155, 0.916, 0.8817204301075269, 0.8972809667673716, 0.9074074074074074, 0.9130434782608695], \"x\": 17, \"line\": {\"color\": \"rgb(107,174,214)\"}, \"type\": \"box\", \"boxpoints\": \"suspectedoutliers\"}, {\"showlegend\": false, \"name\": 18, \"marker\": {\"color\": \"rgb(107,174,214)\", \"outliercolor\": \"rgba(219, 64, 82, 0.6)\", \"line\": {\"outlierwidth\": 2, \"outliercolor\": \"rgba(219, 64, 82, 0.6)\"}}, \"y\": [0.920863309352518, 0.8781362007168458, 0.9172661870503597, 0.9245901639344263, 0.8934707903780069, 0.9119718309859155, 0.92, 0.8853046594982079, 0.8918918918918919, 0.9074074074074074, 0.9130434782608695], \"x\": 18, \"line\": {\"color\": \"rgb(107,174,214)\"}, \"type\": \"box\", \"boxpoints\": \"suspectedoutliers\"}, {\"showlegend\": false, \"name\": 19, \"marker\": {\"color\": \"rgb(107,174,214)\", \"outliercolor\": \"rgba(219, 64, 82, 0.6)\", \"line\": {\"outlierwidth\": 2, \"outliercolor\": \"rgba(219, 64, 82, 0.6)\"}}, \"y\": [0.9244604316546763, 0.8781362007168458, 0.920863309352518, 0.9245901639344263, 0.8904109589041096, 0.9119718309859155, 0.9196787148594378, 0.8924731182795699, 0.8918918918918919, 0.9111111111111111, 0.9130434782608695], \"x\": 19, \"line\": {\"color\": \"rgb(107,174,214)\"}, \"type\": \"box\", \"boxpoints\": \"suspectedoutliers\"}, {\"showlegend\": false, \"name\": 20, \"marker\": {\"color\": \"rgb(107,174,214)\", \"outliercolor\": \"rgba(219, 64, 82, 0.6)\", \"line\": {\"outlierwidth\": 2, \"outliercolor\": \"rgba(219, 64, 82, 0.6)\"}}, \"y\": [0.924187725631769, 0.8817204301075269, 0.9178571428571428, 0.9276315789473685, 0.8938356164383562, 0.9119718309859155, 0.9236947791164659, 0.8928571428571429, 0.8918918918918919, 0.9111111111111111, 0.9130434782608695], \"x\": 20, \"line\": {\"color\": \"rgb(107,174,214)\"}, \"type\": \"box\", \"boxpoints\": \"suspectedoutliers\"}, {\"showlegend\": false, \"name\": 21, \"marker\": {\"color\": \"rgb(107,174,214)\", \"outliercolor\": \"rgba(219, 64, 82, 0.6)\", \"line\": {\"outlierwidth\": 2, \"outliercolor\": \"rgba(219, 64, 82, 0.6)\"}}, \"y\": [0.921146953405018, 0.8817204301075269, 0.9181494661921709, 0.930921052631579, 0.8938356164383562, 0.9119718309859155, 0.9236947791164659, 0.8964285714285715, 0.8918918918918919, 0.9117647058823529, 0.9126984126984127], \"x\": 21, \"line\": {\"color\": \"rgb(107,174,214)\"}, \"type\": \"box\", \"boxpoints\": \"suspectedoutliers\"}, {\"showlegend\": false, \"name\": 22, \"marker\": {\"color\": \"rgb(107,174,214)\", \"outliercolor\": \"rgba(219, 64, 82, 0.6)\", \"line\": {\"outlierwidth\": 2, \"outliercolor\": \"rgba(219, 64, 82, 0.6)\"}}, \"y\": [0.931899641577061, 0.8785714285714286, 0.9148936170212766, 0.9248366013071896, 0.8938356164383562, 0.911660777385159, 0.9317269076305221, 0.8932384341637011, 0.8888888888888888, 0.9117647058823529, 0.9166666666666666], \"x\": 22, \"line\": {\"color\": \"rgb(107,174,214)\"}, \"type\": \"box\", \"boxpoints\": \"suspectedoutliers\"}, {\"showlegend\": false, \"name\": 23, \"marker\": {\"color\": \"rgb(107,174,214)\", \"outliercolor\": \"rgba(219, 64, 82, 0.6)\", \"line\": {\"outlierwidth\": 2, \"outliercolor\": \"rgba(219, 64, 82, 0.6)\"}}, \"y\": [0.9388489208633094, 0.8754448398576512, 0.911660777385159, 0.9250814332247557, 0.8938356164383562, 0.911660777385159, 0.928, 0.8900709219858156, 0.8922155688622755, 0.9154411764705882, 0.9203187250996016], \"x\": 23, \"line\": {\"color\": \"rgb(107,174,214)\"}, \"type\": \"box\", \"boxpoints\": \"suspectedoutliers\"}, {\"showlegend\": false, \"name\": 24, \"marker\": {\"color\": \"rgb(107,174,214)\", \"outliercolor\": \"rgba(219, 64, 82, 0.6)\", \"line\": {\"outlierwidth\": 2, \"outliercolor\": \"rgba(219, 64, 82, 0.6)\"}}, \"y\": [0.9390681003584229, 0.8794326241134752, 0.9110320284697508, 0.9250814332247557, 0.8938356164383562, 0.911660777385159, 0.9357429718875502, 0.8865248226950354, 0.8895522388059701, 0.9157509157509157, 0.9166666666666666], \"x\": 24, \"line\": {\"color\": \"rgb(107,174,214)\"}, \"type\": \"box\", \"boxpoints\": \"suspectedoutliers\"}, {\"showlegend\": false, \"name\": 25, \"marker\": {\"color\": \"rgb(107,174,214)\", \"outliercolor\": \"rgba(219, 64, 82, 0.6)\", \"line\": {\"outlierwidth\": 2, \"outliercolor\": \"rgba(219, 64, 82, 0.6)\"}}, \"y\": [0.9390681003584229, 0.8833922261484098, 0.910394265232975, 0.9218241042345277, 0.8927335640138409, 0.9045936395759717, 0.932, 0.8900709219858156, 0.8895522388059701, 0.916058394160584, 0.9126984126984127], \"x\": 25, \"line\": {\"color\": \"rgb(107,174,214)\"}, \"type\": \"box\", \"boxpoints\": \"suspectedoutliers\"}, {\"showlegend\": false, \"name\": 26, \"marker\": {\"color\": \"rgb(107,174,214)\", \"outliercolor\": \"rgba(219, 64, 82, 0.6)\", \"line\": {\"outlierwidth\": 2, \"outliercolor\": \"rgba(219, 64, 82, 0.6)\"}}, \"y\": [0.9388489208633094, 0.8771929824561403, 0.910394265232975, 0.9218241042345277, 0.8961937716262975, 0.9042553191489362, 0.932, 0.8869257950530035, 0.8895522388059701, 0.916058394160584, 0.9126984126984127], \"x\": 26, \"line\": {\"color\": \"rgb(107,174,214)\"}, \"type\": \"box\", \"boxpoints\": \"suspectedoutliers\"}, {\"showlegend\": false, \"name\": 27, \"marker\": {\"color\": \"rgb(107,174,214)\", \"outliercolor\": \"rgba(219, 64, 82, 0.6)\", \"line\": {\"outlierwidth\": 2, \"outliercolor\": \"rgba(219, 64, 82, 0.6)\"}}, \"y\": [0.9390681003584229, 0.8807017543859649, 0.910394265232975, 0.9218241042345277, 0.896551724137931, 0.9014084507042254, 0.9322709163346613, 0.8869257950530035, 0.8888888888888888, 0.9154411764705882, 0.9126984126984127], \"x\": 27, \"line\": {\"color\": \"rgb(107,174,214)\"}, \"type\": \"box\", \"boxpoints\": \"suspectedoutliers\"}, {\"showlegend\": false, \"name\": 28, \"marker\": {\"color\": \"rgb(107,174,214)\", \"outliercolor\": \"rgba(219, 64, 82, 0.6)\", \"line\": {\"outlierwidth\": 2, \"outliercolor\": \"rgba(219, 64, 82, 0.6)\"}}, \"y\": [0.9321428571428572, 0.8842105263157894, 0.9175627240143369, 0.9248366013071896, 0.906896551724138, 0.9014084507042254, 0.9282868525896414, 0.8873239436619719, 0.8922155688622755, 0.9124087591240876, 0.9126984126984127], \"x\": 28, \"line\": {\"color\": \"rgb(107,174,214)\"}, \"type\": \"box\", \"boxpoints\": \"suspectedoutliers\"}, {\"showlegend\": false, \"name\": 29, \"marker\": {\"color\": \"rgb(107,174,214)\", \"outliercolor\": \"rgba(219, 64, 82, 0.6)\", \"line\": {\"outlierwidth\": 2, \"outliercolor\": \"rgba(219, 64, 82, 0.6)\"}}, \"y\": [0.9354838709677419, 0.8842105263157894, 0.9175627240143369, 0.9250814332247557, 0.9103448275862069, 0.8982456140350877, 0.9282868525896414, 0.8842105263157894, 0.8895522388059701, 0.9127272727272727, 0.9126984126984127], \"x\": 29, \"line\": {\"color\": \"rgb(107,174,214)\"}, \"type\": \"box\", \"boxpoints\": \"suspectedoutliers\"}, {\"showlegend\": false, \"name\": 30, \"marker\": {\"color\": \"rgb(107,174,214)\", \"outliercolor\": \"rgba(219, 64, 82, 0.6)\", \"line\": {\"outlierwidth\": 2, \"outliercolor\": \"rgba(219, 64, 82, 0.6)\"}}, \"y\": [0.9359430604982206, 0.8842105263157894, 0.921146953405018, 0.9250814332247557, 0.9137931034482759, 0.8951048951048951, 0.932, 0.8838028169014085, 0.8925373134328358, 0.9130434782608695, 0.9126984126984127], \"x\": 30, \"line\": {\"color\": \"rgb(107,174,214)\"}, \"type\": \"box\", \"boxpoints\": \"suspectedoutliers\"}, {\"showlegend\": false, \"name\": 31, \"marker\": {\"color\": \"rgb(107,174,214)\", \"outliercolor\": \"rgba(219, 64, 82, 0.6)\", \"line\": {\"outlierwidth\": 2, \"outliercolor\": \"rgba(219, 64, 82, 0.6)\"}}, \"y\": [0.9359430604982206, 0.8807017543859649, 0.920863309352518, 0.9250814332247557, 0.9172413793103448, 0.8951048951048951, 0.936, 0.8807017543859649, 0.8985074626865671, 0.9130434782608695, 0.9126984126984127], \"x\": 31, \"line\": {\"color\": \"rgb(107,174,214)\"}, \"type\": \"box\", \"boxpoints\": \"suspectedoutliers\"}, {\"showlegend\": false, \"name\": 32, \"marker\": {\"color\": \"rgb(107,174,214)\", \"outliercolor\": \"rgba(219, 64, 82, 0.6)\", \"line\": {\"outlierwidth\": 2, \"outliercolor\": \"rgba(219, 64, 82, 0.6)\"}}, \"y\": [0.9395017793594306, 0.8802816901408451, 0.9244604316546763, 0.9250814332247557, 0.9106529209621993, 0.8986013986013986, 0.936, 0.8807017543859649, 0.8905325443786982, 0.9127272727272727, 0.9203187250996016], \"x\": 32, \"line\": {\"color\": \"rgb(107,174,214)\"}, \"type\": \"box\", \"boxpoints\": \"suspectedoutliers\"}, {\"showlegend\": false, \"name\": 33, \"marker\": {\"color\": \"rgb(107,174,214)\", \"outliercolor\": \"rgba(219, 64, 82, 0.6)\", \"line\": {\"outlierwidth\": 2, \"outliercolor\": \"rgba(219, 64, 82, 0.6)\"}}, \"y\": [0.9428571428571428, 0.8873239436619719, 0.9244604316546763, 0.9253246753246753, 0.9103448275862069, 0.8986013986013986, 0.936, 0.8842105263157894, 0.893491124260355, 0.9124087591240876, 0.9209486166007905], \"x\": 33, \"line\": {\"color\": \"rgb(107,174,214)\"}, \"type\": \"box\", \"boxpoints\": \"suspectedoutliers\"}, {\"showlegend\": false, \"name\": 34, \"marker\": {\"color\": \"rgb(107,174,214)\", \"outliercolor\": \"rgba(219, 64, 82, 0.6)\", \"line\": {\"outlierwidth\": 2, \"outliercolor\": \"rgba(219, 64, 82, 0.6)\"}}, \"y\": [0.9395017793594306, 0.8912280701754386, 0.9280575539568345, 0.9225806451612903, 0.9172413793103448, 0.9055944055944056, 0.936, 0.887719298245614, 0.8931750741839762, 0.9124087591240876, 0.9288537549407114], \"x\": 34, \"line\": {\"color\": \"rgb(107,174,214)\"}, \"type\": \"box\", \"boxpoints\": \"suspectedoutliers\"}, {\"showlegend\": false, \"name\": 35, \"marker\": {\"color\": \"rgb(107,174,214)\", \"outliercolor\": \"rgba(219, 64, 82, 0.6)\", \"line\": {\"outlierwidth\": 2, \"outliercolor\": \"rgba(219, 64, 82, 0.6)\"}}, \"y\": [0.9432624113475178, 0.9049295774647887, 0.927797833935018, 0.9225806451612903, 0.9172413793103448, 0.9087719298245615, 0.936, 0.8908450704225352, 0.8905325443786982, 0.9090909090909091, 0.9285714285714286], \"x\": 35, \"line\": {\"color\": \"rgb(107,174,214)\"}, \"type\": \"box\", \"boxpoints\": \"suspectedoutliers\"}, {\"showlegend\": false, \"name\": 36, \"marker\": {\"color\": \"rgb(107,174,214)\", \"outliercolor\": \"rgba(219, 64, 82, 0.6)\", \"line\": {\"outlierwidth\": 2, \"outliercolor\": \"rgba(219, 64, 82, 0.6)\"}}, \"y\": [0.9399293286219081, 0.9014084507042254, 0.927797833935018, 0.9225806451612903, 0.9241379310344827, 0.9122807017543859, 0.9362549800796812, 0.897887323943662, 0.8849557522123894, 0.9061371841155235, 0.9285714285714286], \"x\": 36, \"line\": {\"color\": \"rgb(107,174,214)\"}, \"type\": \"box\", \"boxpoints\": \"suspectedoutliers\"}, {\"showlegend\": false, \"name\": 37, \"marker\": {\"color\": \"rgb(107,174,214)\", \"outliercolor\": \"rgba(219, 64, 82, 0.6)\", \"line\": {\"outlierwidth\": 2, \"outliercolor\": \"rgba(219, 64, 82, 0.6)\"}}, \"y\": [0.9466192170818505, 0.9049295774647887, 0.9350180505415162, 0.9225806451612903, 0.9241379310344827, 0.9125874125874126, 0.936, 0.8943661971830986, 0.887905604719764, 0.9094202898550725, 0.9325396825396826], \"x\": 37, \"line\": {\"color\": \"rgb(107,174,214)\"}, \"type\": \"box\", \"boxpoints\": \"suspectedoutliers\"}, {\"showlegend\": false, \"name\": 38, \"marker\": {\"color\": \"rgb(107,174,214)\", \"outliercolor\": \"rgba(219, 64, 82, 0.6)\", \"line\": {\"outlierwidth\": 2, \"outliercolor\": \"rgba(219, 64, 82, 0.6)\"}}, \"y\": [0.9464285714285714, 0.9049295774647887, 0.9316546762589928, 0.9258064516129032, 0.9243986254295533, 0.9128919860627178, 0.9357429718875502, 0.8939929328621908, 0.8938053097345132, 0.9061371841155235, 0.9325396825396826], \"x\": 38, \"line\": {\"color\": \"rgb(107,174,214)\"}, \"type\": \"box\", \"boxpoints\": \"suspectedoutliers\"}, {\"showlegend\": false, \"name\": 39, \"marker\": {\"color\": \"rgb(107,174,214)\", \"outliercolor\": \"rgba(219, 64, 82, 0.6)\", \"line\": {\"outlierwidth\": 2, \"outliercolor\": \"rgba(219, 64, 82, 0.6)\"}}, \"y\": [0.9464285714285714, 0.8986013986013986, 0.9386281588447654, 0.9258064516129032, 0.9243986254295533, 0.9094076655052264, 0.9437751004016064, 0.8971631205673759, 0.8938053097345132, 0.9061371841155235, 0.932806324110672], \"x\": 39, \"line\": {\"color\": \"rgb(107,174,214)\"}, \"type\": \"box\", \"boxpoints\": \"suspectedoutliers\"}, {\"showlegend\": false, \"name\": 40, \"marker\": {\"color\": \"rgb(107,174,214)\", \"outliercolor\": \"rgba(219, 64, 82, 0.6)\", \"line\": {\"outlierwidth\": 2, \"outliercolor\": \"rgba(219, 64, 82, 0.6)\"}}, \"y\": [0.9464285714285714, 0.8989547038327527, 0.9386281588447654, 0.9255663430420712, 0.9278350515463918, 0.9131944444444444, 0.9435483870967742, 0.900709219858156, 0.8938053097345132, 0.9061371841155235, 0.9322709163346613], \"x\": 40, \"line\": {\"color\": \"rgb(107,174,214)\"}, \"type\": \"box\", \"boxpoints\": \"suspectedoutliers\"}, {\"showlegend\": false, \"name\": 41, \"marker\": {\"color\": \"rgb(107,174,214)\", \"outliercolor\": \"rgba(219, 64, 82, 0.6)\", \"line\": {\"outlierwidth\": 2, \"outliercolor\": \"rgba(219, 64, 82, 0.6)\"}}, \"y\": [0.946236559139785, 0.8989547038327527, 0.9350180505415162, 0.9320388349514563, 0.9312714776632303, 0.9131944444444444, 0.9395161290322581, 0.8975265017667845, 0.8911764705882353, 0.9097472924187726, 0.9322709163346613], \"x\": 41, \"line\": {\"color\": \"rgb(107,174,214)\"}, \"type\": \"box\", \"boxpoints\": \"suspectedoutliers\"}, {\"showlegend\": false, \"name\": 42, \"marker\": {\"color\": \"rgb(107,174,214)\", \"outliercolor\": \"rgba(219, 64, 82, 0.6)\", \"line\": {\"outlierwidth\": 2, \"outliercolor\": \"rgba(219, 64, 82, 0.6)\"}}, \"y\": [0.9428571428571428, 0.9024390243902439, 0.9384057971014492, 0.9320388349514563, 0.9415807560137457, 0.9166666666666666, 0.932, 0.8912280701754386, 0.8914956011730205, 0.9064748201438849, 0.9285714285714286], \"x\": 42, \"line\": {\"color\": \"rgb(107,174,214)\"}, \"type\": \"box\", \"boxpoints\": \"suspectedoutliers\"}, {\"showlegend\": false, \"name\": 43, \"marker\": {\"color\": \"rgb(107,174,214)\", \"outliercolor\": \"rgba(219, 64, 82, 0.6)\", \"line\": {\"outlierwidth\": 2, \"outliercolor\": \"rgba(219, 64, 82, 0.6)\"}}, \"y\": [0.9428571428571428, 0.9024390243902439, 0.9381818181818182, 0.9383116883116883, 0.9415807560137457, 0.9233449477351916, 0.9317269076305221, 0.8912280701754386, 0.8914956011730205, 0.9032258064516129, 0.9285714285714286], \"x\": 43, \"line\": {\"color\": \"rgb(107,174,214)\"}, \"type\": \"box\", \"boxpoints\": \"suspectedoutliers\"}, {\"showlegend\": false, \"name\": 44, \"marker\": {\"color\": \"rgb(107,174,214)\", \"outliercolor\": \"rgba(219, 64, 82, 0.6)\", \"line\": {\"outlierwidth\": 2, \"outliercolor\": \"rgba(219, 64, 82, 0.6)\"}}, \"y\": [0.9395017793594306, 0.9027777777777778, 0.9345454545454546, 0.9448051948051948, 0.9383561643835616, 0.9230769230769231, 0.9317269076305221, 0.8846153846153846, 0.8941176470588236, 0.9032258064516129, 0.932], \"x\": 44, \"line\": {\"color\": \"rgb(107,174,214)\"}, \"type\": \"box\", \"boxpoints\": \"suspectedoutliers\"}, {\"showlegend\": false, \"name\": 45, \"marker\": {\"color\": \"rgb(107,174,214)\", \"outliercolor\": \"rgba(219, 64, 82, 0.6)\", \"line\": {\"outlierwidth\": 2, \"outliercolor\": \"rgba(219, 64, 82, 0.6)\"}}, \"y\": [0.9428571428571428, 0.90625, 0.9379562043795621, 0.9448051948051948, 0.9351535836177475, 0.9195804195804196, 0.9354838709677419, 0.8811188811188811, 0.8973607038123167, 0.9068100358422939, 0.9362549800796812], \"x\": 45, \"line\": {\"color\": \"rgb(107,174,214)\"}, \"type\": \"box\", \"boxpoints\": \"suspectedoutliers\"}, {\"showlegend\": false, \"name\": 46, \"marker\": {\"color\": \"rgb(107,174,214)\", \"outliercolor\": \"rgba(219, 64, 82, 0.6)\", \"line\": {\"outlierwidth\": 2, \"outliercolor\": \"rgba(219, 64, 82, 0.6)\"}}, \"y\": [0.9428571428571428, 0.9097222222222222, 0.9381818181818182, 0.9415584415584416, 0.9288135593220339, 0.9230769230769231, 0.9354838709677419, 0.8881118881118881, 0.9032258064516129, 0.910394265232975, 0.9362549800796812], \"x\": 46, \"line\": {\"color\": \"rgb(107,174,214)\"}, \"type\": \"box\", \"boxpoints\": \"suspectedoutliers\"}, {\"showlegend\": false, \"name\": 47, \"marker\": {\"color\": \"rgb(107,174,214)\", \"outliercolor\": \"rgba(219, 64, 82, 0.6)\", \"line\": {\"outlierwidth\": 2, \"outliercolor\": \"rgba(219, 64, 82, 0.6)\"}}, \"y\": [0.9361702127659575, 0.9094076655052264, 0.9418181818181818, 0.9478827361563518, 0.9355932203389831, 0.9198606271777003, 0.9354838709677419, 0.8916083916083916, 0.8979591836734694, 0.9142857142857143, 0.9357429718875502], \"x\": 47, \"line\": {\"color\": \"rgb(107,174,214)\"}, \"type\": \"box\", \"boxpoints\": \"suspectedoutliers\"}, {\"showlegend\": false, \"name\": \"Mean\", \"mode\": \"lines\", \"y\": [0.8925641137915954, 0.8920737921897665, 0.8910014322324571, 0.8905408249526652, 0.8929098242557552, 0.8930866926339068, 0.8932307238362175, 0.8945086282646717, 0.8957533515076121, 0.8968027054524188, 0.8974005637600388, 0.8992537035535626, 0.9008071917763311, 0.902053670535404, 0.9028305026818277, 0.9041142663641061, 0.9040721604251715, 0.9046956761191634, 0.90581326540695, 0.9071482918137611, 0.9081638843823235, 0.9085657918889328, 0.9089075714120548, 0.9093253415975157, 0.9094861996178235, 0.9083987152013574, 0.9078131094800143, 0.9078339625908729, 0.9090901134677204, 0.9089458453891823, 0.9099419993900437, 0.9105351763553194, 0.9108054500486221, 0.9123610405442815, 0.9147600654592849, 0.9163294299551903, 0.9165401418303634, 0.9187367825608145, 0.9189389063088171, 0.9197234463956463, 0.9206434809344205, 0.9206319437012632, 0.9203416492767705, 0.9211784719538048, 0.9207953672458804, 0.9221482742782712, 0.9234255380056801, 0.9241647978350244], \"x\": [1, 2, 3, 4, 5, 6, 7, 8, 9, 10, 11, 12, 13, 14, 15, 16, 17, 18, 19, 20, 21, 22, 23, 24, 25, 26, 27, 28, 29, 30, 31, 32, 33, 34, 35, 36, 37, 38, 39, 40, 41, 42, 43, 44, 45, 46, 47], \"type\": \"scatter\"}], {}, {\"linkText\": \"Export to plot.ly\", \"showLink\": true})});</script>"
      ]
     },
     "metadata": {},
     "output_type": "display_data"
    },
    {
     "data": {
      "application/vnd.plotly.v1+json": {
       "data": [
        {
         "boxpoints": "suspectedoutliers",
         "line": {
          "color": "rgb(107,174,214)"
         },
         "marker": {
          "color": "rgb(107,174,214)",
          "line": {
           "outliercolor": "rgba(219, 64, 82, 0.6)",
           "outlierwidth": 2
          },
          "outliercolor": "rgba(219, 64, 82, 0.6)"
         },
         "name": 0,
         "showlegend": false,
         "type": "box",
         "x": 0,
         "y": [
          0.024727272727272726,
          0.024727272727272726,
          0.02509090909090909,
          0.02727272727272727,
          0.026,
          0.025363636363636363,
          0.022272727272727274,
          0.02490909090909091,
          0.02890909090909091,
          0.024363636363636365,
          0.023363636363636364
         ]
        },
        {
         "boxpoints": "suspectedoutliers",
         "line": {
          "color": "rgb(107,174,214)"
         },
         "marker": {
          "color": "rgb(107,174,214)",
          "line": {
           "outliercolor": "rgba(219, 64, 82, 0.6)",
           "outlierwidth": 2
          },
          "outliercolor": "rgba(219, 64, 82, 0.6)"
         },
         "name": 1,
         "showlegend": false,
         "type": "box",
         "x": 1,
         "y": [
          0.02481818181818182,
          0.025,
          0.02518181818181818,
          0.027545454545454547,
          0.026,
          0.025363636363636363,
          0.022454545454545456,
          0.02490909090909091,
          0.029,
          0.024363636363636365,
          0.023545454545454546
         ]
        },
        {
         "boxpoints": "suspectedoutliers",
         "line": {
          "color": "rgb(107,174,214)"
         },
         "marker": {
          "color": "rgb(107,174,214)",
          "line": {
           "outliercolor": "rgba(219, 64, 82, 0.6)",
           "outlierwidth": 2
          },
          "outliercolor": "rgba(219, 64, 82, 0.6)"
         },
         "name": 2,
         "showlegend": false,
         "type": "box",
         "x": 2,
         "y": [
          0.02518181818181818,
          0.02509090909090909,
          0.025272727272727273,
          0.027636363636363636,
          0.02609090909090909,
          0.025454545454545455,
          0.022545454545454546,
          0.02490909090909091,
          0.029,
          0.024363636363636365,
          0.023454545454545454
         ]
        },
        {
         "boxpoints": "suspectedoutliers",
         "line": {
          "color": "rgb(107,174,214)"
         },
         "marker": {
          "color": "rgb(107,174,214)",
          "line": {
           "outliercolor": "rgba(219, 64, 82, 0.6)",
           "outlierwidth": 2
          },
          "outliercolor": "rgba(219, 64, 82, 0.6)"
         },
         "name": 3,
         "showlegend": false,
         "type": "box",
         "x": 3,
         "y": [
          0.02518181818181818,
          0.02509090909090909,
          0.025363636363636363,
          0.02772727272727273,
          0.02609090909090909,
          0.025454545454545455,
          0.022636363636363635,
          0.025,
          0.02909090909090909,
          0.024454545454545455,
          0.023454545454545454
         ]
        },
        {
         "boxpoints": "suspectedoutliers",
         "line": {
          "color": "rgb(107,174,214)"
         },
         "marker": {
          "color": "rgb(107,174,214)",
          "line": {
           "outliercolor": "rgba(219, 64, 82, 0.6)",
           "outlierwidth": 2
          },
          "outliercolor": "rgba(219, 64, 82, 0.6)"
         },
         "name": 4,
         "showlegend": false,
         "type": "box",
         "x": 4,
         "y": [
          0.025272727272727273,
          0.02518181818181818,
          0.025272727272727273,
          0.02772727272727273,
          0.02609090909090909,
          0.025545454545454545,
          0.022636363636363635,
          0.02509090909090909,
          0.02909090909090909,
          0.024363636363636365,
          0.023363636363636364
         ]
        },
        {
         "boxpoints": "suspectedoutliers",
         "line": {
          "color": "rgb(107,174,214)"
         },
         "marker": {
          "color": "rgb(107,174,214)",
          "line": {
           "outliercolor": "rgba(219, 64, 82, 0.6)",
           "outlierwidth": 2
          },
          "outliercolor": "rgba(219, 64, 82, 0.6)"
         },
         "name": 5,
         "showlegend": false,
         "type": "box",
         "x": 5,
         "y": [
          0.025363636363636363,
          0.02518181818181818,
          0.025272727272727273,
          0.027636363636363636,
          0.026272727272727274,
          0.025636363636363638,
          0.022636363636363635,
          0.025,
          0.02918181818181818,
          0.024545454545454544,
          0.02327272727272727
         ]
        },
        {
         "boxpoints": "suspectedoutliers",
         "line": {
          "color": "rgb(107,174,214)"
         },
         "marker": {
          "color": "rgb(107,174,214)",
          "line": {
           "outliercolor": "rgba(219, 64, 82, 0.6)",
           "outlierwidth": 2
          },
          "outliercolor": "rgba(219, 64, 82, 0.6)"
         },
         "name": 6,
         "showlegend": false,
         "type": "box",
         "x": 6,
         "y": [
          0.025272727272727273,
          0.025272727272727273,
          0.025363636363636363,
          0.027636363636363636,
          0.02618181818181818,
          0.025636363636363638,
          0.022636363636363635,
          0.02509090909090909,
          0.029363636363636363,
          0.024545454545454544,
          0.023181818181818182
         ]
        },
        {
         "boxpoints": "suspectedoutliers",
         "line": {
          "color": "rgb(107,174,214)"
         },
         "marker": {
          "color": "rgb(107,174,214)",
          "line": {
           "outliercolor": "rgba(219, 64, 82, 0.6)",
           "outlierwidth": 2
          },
          "outliercolor": "rgba(219, 64, 82, 0.6)"
         },
         "name": 7,
         "showlegend": false,
         "type": "box",
         "x": 7,
         "y": [
          0.025272727272727273,
          0.025272727272727273,
          0.025272727272727273,
          0.027636363636363636,
          0.026272727272727274,
          0.025636363636363638,
          0.022636363636363635,
          0.025,
          0.029363636363636363,
          0.024636363636363637,
          0.023181818181818182
         ]
        },
        {
         "boxpoints": "suspectedoutliers",
         "line": {
          "color": "rgb(107,174,214)"
         },
         "marker": {
          "color": "rgb(107,174,214)",
          "line": {
           "outliercolor": "rgba(219, 64, 82, 0.6)",
           "outlierwidth": 2
          },
          "outliercolor": "rgba(219, 64, 82, 0.6)"
         },
         "name": 8,
         "showlegend": false,
         "type": "box",
         "x": 8,
         "y": [
          0.025363636363636363,
          0.025363636363636363,
          0.02518181818181818,
          0.027545454545454547,
          0.026454545454545456,
          0.025727272727272727,
          0.022636363636363635,
          0.02490909090909091,
          0.029545454545454545,
          0.024636363636363637,
          0.023090909090909092
         ]
        },
        {
         "boxpoints": "suspectedoutliers",
         "line": {
          "color": "rgb(107,174,214)"
         },
         "marker": {
          "color": "rgb(107,174,214)",
          "line": {
           "outliercolor": "rgba(219, 64, 82, 0.6)",
           "outlierwidth": 2
          },
          "outliercolor": "rgba(219, 64, 82, 0.6)"
         },
         "name": 9,
         "showlegend": false,
         "type": "box",
         "x": 9,
         "y": [
          0.025454545454545455,
          0.025363636363636363,
          0.025363636363636363,
          0.027545454545454547,
          0.026454545454545456,
          0.025727272727272727,
          0.022636363636363635,
          0.025,
          0.029545454545454545,
          0.024636363636363637,
          0.023090909090909092
         ]
        },
        {
         "boxpoints": "suspectedoutliers",
         "line": {
          "color": "rgb(107,174,214)"
         },
         "marker": {
          "color": "rgb(107,174,214)",
          "line": {
           "outliercolor": "rgba(219, 64, 82, 0.6)",
           "outlierwidth": 2
          },
          "outliercolor": "rgba(219, 64, 82, 0.6)"
         },
         "name": 10,
         "showlegend": false,
         "type": "box",
         "x": 10,
         "y": [
          0.025454545454545455,
          0.025272727272727273,
          0.025363636363636363,
          0.027545454545454547,
          0.026363636363636363,
          0.025727272727272727,
          0.022636363636363635,
          0.025,
          0.029727272727272727,
          0.024454545454545455,
          0.023
         ]
        },
        {
         "boxpoints": "suspectedoutliers",
         "line": {
          "color": "rgb(107,174,214)"
         },
         "marker": {
          "color": "rgb(107,174,214)",
          "line": {
           "outliercolor": "rgba(219, 64, 82, 0.6)",
           "outlierwidth": 2
          },
          "outliercolor": "rgba(219, 64, 82, 0.6)"
         },
         "name": 11,
         "showlegend": false,
         "type": "box",
         "x": 11,
         "y": [
          0.025454545454545455,
          0.025363636363636363,
          0.025363636363636363,
          0.027545454545454547,
          0.026545454545454546,
          0.025727272727272727,
          0.022636363636363635,
          0.025,
          0.029727272727272727,
          0.024545454545454544,
          0.023
         ]
        },
        {
         "boxpoints": "suspectedoutliers",
         "line": {
          "color": "rgb(107,174,214)"
         },
         "marker": {
          "color": "rgb(107,174,214)",
          "line": {
           "outliercolor": "rgba(219, 64, 82, 0.6)",
           "outlierwidth": 2
          },
          "outliercolor": "rgba(219, 64, 82, 0.6)"
         },
         "name": 12,
         "showlegend": false,
         "type": "box",
         "x": 12,
         "y": [
          0.025363636363636363,
          0.025545454545454545,
          0.025363636363636363,
          0.027454545454545454,
          0.026545454545454546,
          0.025727272727272727,
          0.022636363636363635,
          0.025,
          0.029727272727272727,
          0.024545454545454544,
          0.023
         ]
        },
        {
         "boxpoints": "suspectedoutliers",
         "line": {
          "color": "rgb(107,174,214)"
         },
         "marker": {
          "color": "rgb(107,174,214)",
          "line": {
           "outliercolor": "rgba(219, 64, 82, 0.6)",
           "outlierwidth": 2
          },
          "outliercolor": "rgba(219, 64, 82, 0.6)"
         },
         "name": 13,
         "showlegend": false,
         "type": "box",
         "x": 13,
         "y": [
          0.025363636363636363,
          0.025545454545454545,
          0.025363636363636363,
          0.027454545454545454,
          0.026545454545454546,
          0.025727272727272727,
          0.022727272727272728,
          0.02509090909090909,
          0.02990909090909091,
          0.024545454545454544,
          0.023
         ]
        },
        {
         "boxpoints": "suspectedoutliers",
         "line": {
          "color": "rgb(107,174,214)"
         },
         "marker": {
          "color": "rgb(107,174,214)",
          "line": {
           "outliercolor": "rgba(219, 64, 82, 0.6)",
           "outlierwidth": 2
          },
          "outliercolor": "rgba(219, 64, 82, 0.6)"
         },
         "name": 14,
         "showlegend": false,
         "type": "box",
         "x": 14,
         "y": [
          0.025363636363636363,
          0.025636363636363638,
          0.025363636363636363,
          0.027545454545454547,
          0.026545454545454546,
          0.025818181818181817,
          0.022727272727272728,
          0.025272727272727273,
          0.02990909090909091,
          0.024545454545454544,
          0.02290909090909091
         ]
        },
        {
         "boxpoints": "suspectedoutliers",
         "line": {
          "color": "rgb(107,174,214)"
         },
         "marker": {
          "color": "rgb(107,174,214)",
          "line": {
           "outliercolor": "rgba(219, 64, 82, 0.6)",
           "outlierwidth": 2
          },
          "outliercolor": "rgba(219, 64, 82, 0.6)"
         },
         "name": 15,
         "showlegend": false,
         "type": "box",
         "x": 15,
         "y": [
          0.025363636363636363,
          0.025545454545454545,
          0.025363636363636363,
          0.027545454545454547,
          0.026545454545454546,
          0.025727272727272727,
          0.022818181818181817,
          0.025272727272727273,
          0.03,
          0.024545454545454544,
          0.02290909090909091
         ]
        },
        {
         "boxpoints": "suspectedoutliers",
         "line": {
          "color": "rgb(107,174,214)"
         },
         "marker": {
          "color": "rgb(107,174,214)",
          "line": {
           "outliercolor": "rgba(219, 64, 82, 0.6)",
           "outlierwidth": 2
          },
          "outliercolor": "rgba(219, 64, 82, 0.6)"
         },
         "name": 16,
         "showlegend": false,
         "type": "box",
         "x": 16,
         "y": [
          0.025363636363636363,
          0.025454545454545455,
          0.025363636363636363,
          0.027636363636363636,
          0.026454545454545456,
          0.025818181818181817,
          0.022818181818181817,
          0.025363636363636363,
          0.03,
          0.024545454545454544,
          0.023
         ]
        },
        {
         "boxpoints": "suspectedoutliers",
         "line": {
          "color": "rgb(107,174,214)"
         },
         "marker": {
          "color": "rgb(107,174,214)",
          "line": {
           "outliercolor": "rgba(219, 64, 82, 0.6)",
           "outlierwidth": 2
          },
          "outliercolor": "rgba(219, 64, 82, 0.6)"
         },
         "name": 17,
         "showlegend": false,
         "type": "box",
         "x": 17,
         "y": [
          0.02518181818181818,
          0.025454545454545455,
          0.025272727272727273,
          0.02772727272727273,
          0.026454545454545456,
          0.025818181818181817,
          0.022727272727272728,
          0.025363636363636363,
          0.030090909090909092,
          0.024545454545454544,
          0.023
         ]
        },
        {
         "boxpoints": "suspectedoutliers",
         "line": {
          "color": "rgb(107,174,214)"
         },
         "marker": {
          "color": "rgb(107,174,214)",
          "line": {
           "outliercolor": "rgba(219, 64, 82, 0.6)",
           "outlierwidth": 2
          },
          "outliercolor": "rgba(219, 64, 82, 0.6)"
         },
         "name": 18,
         "showlegend": false,
         "type": "box",
         "x": 18,
         "y": [
          0.025272727272727273,
          0.025363636363636363,
          0.025272727272727273,
          0.02772727272727273,
          0.026454545454545456,
          0.025818181818181817,
          0.022727272727272728,
          0.025363636363636363,
          0.030272727272727274,
          0.024545454545454544,
          0.023
         ]
        },
        {
         "boxpoints": "suspectedoutliers",
         "line": {
          "color": "rgb(107,174,214)"
         },
         "marker": {
          "color": "rgb(107,174,214)",
          "line": {
           "outliercolor": "rgba(219, 64, 82, 0.6)",
           "outlierwidth": 2
          },
          "outliercolor": "rgba(219, 64, 82, 0.6)"
         },
         "name": 19,
         "showlegend": false,
         "type": "box",
         "x": 19,
         "y": [
          0.025272727272727273,
          0.025363636363636363,
          0.025272727272727273,
          0.02772727272727273,
          0.026545454545454546,
          0.025818181818181817,
          0.022636363636363635,
          0.025363636363636363,
          0.030272727272727274,
          0.024545454545454544,
          0.023
         ]
        },
        {
         "boxpoints": "suspectedoutliers",
         "line": {
          "color": "rgb(107,174,214)"
         },
         "marker": {
          "color": "rgb(107,174,214)",
          "line": {
           "outliercolor": "rgba(219, 64, 82, 0.6)",
           "outlierwidth": 2
          },
          "outliercolor": "rgba(219, 64, 82, 0.6)"
         },
         "name": 20,
         "showlegend": false,
         "type": "box",
         "x": 20,
         "y": [
          0.02518181818181818,
          0.025363636363636363,
          0.025454545454545455,
          0.027636363636363636,
          0.026545454545454546,
          0.025818181818181817,
          0.022636363636363635,
          0.025454545454545455,
          0.030272727272727274,
          0.024545454545454544,
          0.023
         ]
        },
        {
         "boxpoints": "suspectedoutliers",
         "line": {
          "color": "rgb(107,174,214)"
         },
         "marker": {
          "color": "rgb(107,174,214)",
          "line": {
           "outliercolor": "rgba(219, 64, 82, 0.6)",
           "outlierwidth": 2
          },
          "outliercolor": "rgba(219, 64, 82, 0.6)"
         },
         "name": 21,
         "showlegend": false,
         "type": "box",
         "x": 21,
         "y": [
          0.025363636363636363,
          0.025363636363636363,
          0.025545454545454545,
          0.027636363636363636,
          0.026545454545454546,
          0.025818181818181817,
          0.022636363636363635,
          0.025454545454545455,
          0.030272727272727274,
          0.024727272727272726,
          0.02290909090909091
         ]
        },
        {
         "boxpoints": "suspectedoutliers",
         "line": {
          "color": "rgb(107,174,214)"
         },
         "marker": {
          "color": "rgb(107,174,214)",
          "line": {
           "outliercolor": "rgba(219, 64, 82, 0.6)",
           "outlierwidth": 2
          },
          "outliercolor": "rgba(219, 64, 82, 0.6)"
         },
         "name": 22,
         "showlegend": false,
         "type": "box",
         "x": 22,
         "y": [
          0.025363636363636363,
          0.025454545454545455,
          0.025636363636363638,
          0.02781818181818182,
          0.026545454545454546,
          0.025727272727272727,
          0.022636363636363635,
          0.025545454545454545,
          0.030272727272727274,
          0.024727272727272726,
          0.02290909090909091
         ]
        },
        {
         "boxpoints": "suspectedoutliers",
         "line": {
          "color": "rgb(107,174,214)"
         },
         "marker": {
          "color": "rgb(107,174,214)",
          "line": {
           "outliercolor": "rgba(219, 64, 82, 0.6)",
           "outlierwidth": 2
          },
          "outliercolor": "rgba(219, 64, 82, 0.6)"
         },
         "name": 23,
         "showlegend": false,
         "type": "box",
         "x": 23,
         "y": [
          0.025272727272727273,
          0.025545454545454545,
          0.025727272727272727,
          0.027909090909090908,
          0.026545454545454546,
          0.025727272727272727,
          0.022727272727272728,
          0.025636363636363638,
          0.030363636363636363,
          0.024727272727272726,
          0.022818181818181817
         ]
        },
        {
         "boxpoints": "suspectedoutliers",
         "line": {
          "color": "rgb(107,174,214)"
         },
         "marker": {
          "color": "rgb(107,174,214)",
          "line": {
           "outliercolor": "rgba(219, 64, 82, 0.6)",
           "outlierwidth": 2
          },
          "outliercolor": "rgba(219, 64, 82, 0.6)"
         },
         "name": 24,
         "showlegend": false,
         "type": "box",
         "x": 24,
         "y": [
          0.025363636363636363,
          0.025636363636363638,
          0.025545454545454545,
          0.027909090909090908,
          0.026545454545454546,
          0.025727272727272727,
          0.022636363636363635,
          0.025636363636363638,
          0.030454545454545453,
          0.02481818181818182,
          0.02290909090909091
         ]
        },
        {
         "boxpoints": "suspectedoutliers",
         "line": {
          "color": "rgb(107,174,214)"
         },
         "marker": {
          "color": "rgb(107,174,214)",
          "line": {
           "outliercolor": "rgba(219, 64, 82, 0.6)",
           "outlierwidth": 2
          },
          "outliercolor": "rgba(219, 64, 82, 0.6)"
         },
         "name": 25,
         "showlegend": false,
         "type": "box",
         "x": 25,
         "y": [
          0.025363636363636363,
          0.025727272727272727,
          0.025363636363636363,
          0.027909090909090908,
          0.026272727272727274,
          0.025727272727272727,
          0.022727272727272728,
          0.025636363636363638,
          0.030454545454545453,
          0.02490909090909091,
          0.02290909090909091
         ]
        },
        {
         "boxpoints": "suspectedoutliers",
         "line": {
          "color": "rgb(107,174,214)"
         },
         "marker": {
          "color": "rgb(107,174,214)",
          "line": {
           "outliercolor": "rgba(219, 64, 82, 0.6)",
           "outlierwidth": 2
          },
          "outliercolor": "rgba(219, 64, 82, 0.6)"
         },
         "name": 26,
         "showlegend": false,
         "type": "box",
         "x": 26,
         "y": [
          0.025272727272727273,
          0.02590909090909091,
          0.025363636363636363,
          0.027909090909090908,
          0.026272727272727274,
          0.025636363636363638,
          0.022727272727272728,
          0.025727272727272727,
          0.030454545454545453,
          0.02490909090909091,
          0.02290909090909091
         ]
        },
        {
         "boxpoints": "suspectedoutliers",
         "line": {
          "color": "rgb(107,174,214)"
         },
         "marker": {
          "color": "rgb(107,174,214)",
          "line": {
           "outliercolor": "rgba(219, 64, 82, 0.6)",
           "outlierwidth": 2
          },
          "outliercolor": "rgba(219, 64, 82, 0.6)"
         },
         "name": 27,
         "showlegend": false,
         "type": "box",
         "x": 27,
         "y": [
          0.025363636363636363,
          0.02590909090909091,
          0.025363636363636363,
          0.027909090909090908,
          0.026363636363636363,
          0.025818181818181817,
          0.022818181818181817,
          0.025727272727272727,
          0.030272727272727274,
          0.024727272727272726,
          0.02290909090909091
         ]
        },
        {
         "boxpoints": "suspectedoutliers",
         "line": {
          "color": "rgb(107,174,214)"
         },
         "marker": {
          "color": "rgb(107,174,214)",
          "line": {
           "outliercolor": "rgba(219, 64, 82, 0.6)",
           "outlierwidth": 2
          },
          "outliercolor": "rgba(219, 64, 82, 0.6)"
         },
         "name": 28,
         "showlegend": false,
         "type": "box",
         "x": 28,
         "y": [
          0.025454545454545455,
          0.02590909090909091,
          0.025363636363636363,
          0.02781818181818182,
          0.026363636363636363,
          0.025818181818181817,
          0.022818181818181817,
          0.025818181818181817,
          0.030363636363636363,
          0.02490909090909091,
          0.02290909090909091
         ]
        },
        {
         "boxpoints": "suspectedoutliers",
         "line": {
          "color": "rgb(107,174,214)"
         },
         "marker": {
          "color": "rgb(107,174,214)",
          "line": {
           "outliercolor": "rgba(219, 64, 82, 0.6)",
           "outlierwidth": 2
          },
          "outliercolor": "rgba(219, 64, 82, 0.6)"
         },
         "name": 29,
         "showlegend": false,
         "type": "box",
         "x": 29,
         "y": [
          0.025363636363636363,
          0.02590909090909091,
          0.025363636363636363,
          0.027909090909090908,
          0.026363636363636363,
          0.02590909090909091,
          0.022818181818181817,
          0.02590909090909091,
          0.030454545454545453,
          0.025,
          0.02290909090909091
         ]
        },
        {
         "boxpoints": "suspectedoutliers",
         "line": {
          "color": "rgb(107,174,214)"
         },
         "marker": {
          "color": "rgb(107,174,214)",
          "line": {
           "outliercolor": "rgba(219, 64, 82, 0.6)",
           "outlierwidth": 2
          },
          "outliercolor": "rgba(219, 64, 82, 0.6)"
         },
         "name": 30,
         "showlegend": false,
         "type": "box",
         "x": 30,
         "y": [
          0.025545454545454545,
          0.02590909090909091,
          0.025363636363636363,
          0.027909090909090908,
          0.026363636363636363,
          0.026,
          0.022727272727272728,
          0.025818181818181817,
          0.030454545454545453,
          0.02509090909090909,
          0.02290909090909091
         ]
        },
        {
         "boxpoints": "suspectedoutliers",
         "line": {
          "color": "rgb(107,174,214)"
         },
         "marker": {
          "color": "rgb(107,174,214)",
          "line": {
           "outliercolor": "rgba(219, 64, 82, 0.6)",
           "outlierwidth": 2
          },
          "outliercolor": "rgba(219, 64, 82, 0.6)"
         },
         "name": 31,
         "showlegend": false,
         "type": "box",
         "x": 31,
         "y": [
          0.025545454545454545,
          0.02590909090909091,
          0.025272727272727273,
          0.027909090909090908,
          0.026363636363636363,
          0.026,
          0.022727272727272728,
          0.02590909090909091,
          0.030454545454545453,
          0.02509090909090909,
          0.02290909090909091
         ]
        },
        {
         "boxpoints": "suspectedoutliers",
         "line": {
          "color": "rgb(107,174,214)"
         },
         "marker": {
          "color": "rgb(107,174,214)",
          "line": {
           "outliercolor": "rgba(219, 64, 82, 0.6)",
           "outlierwidth": 2
          },
          "outliercolor": "rgba(219, 64, 82, 0.6)"
         },
         "name": 32,
         "showlegend": false,
         "type": "box",
         "x": 32,
         "y": [
          0.025545454545454545,
          0.025818181818181817,
          0.025272727272727273,
          0.027909090909090908,
          0.026454545454545456,
          0.026,
          0.022727272727272728,
          0.02590909090909091,
          0.030727272727272728,
          0.025,
          0.022818181818181817
         ]
        },
        {
         "boxpoints": "suspectedoutliers",
         "line": {
          "color": "rgb(107,174,214)"
         },
         "marker": {
          "color": "rgb(107,174,214)",
          "line": {
           "outliercolor": "rgba(219, 64, 82, 0.6)",
           "outlierwidth": 2
          },
          "outliercolor": "rgba(219, 64, 82, 0.6)"
         },
         "name": 33,
         "showlegend": false,
         "type": "box",
         "x": 33,
         "y": [
          0.025454545454545455,
          0.025818181818181817,
          0.025272727272727273,
          0.028,
          0.026363636363636363,
          0.026,
          0.022727272727272728,
          0.02590909090909091,
          0.030727272727272728,
          0.02490909090909091,
          0.023
         ]
        },
        {
         "boxpoints": "suspectedoutliers",
         "line": {
          "color": "rgb(107,174,214)"
         },
         "marker": {
          "color": "rgb(107,174,214)",
          "line": {
           "outliercolor": "rgba(219, 64, 82, 0.6)",
           "outlierwidth": 2
          },
          "outliercolor": "rgba(219, 64, 82, 0.6)"
         },
         "name": 34,
         "showlegend": false,
         "type": "box",
         "x": 34,
         "y": [
          0.025545454545454545,
          0.02590909090909091,
          0.025272727272727273,
          0.028181818181818183,
          0.026363636363636363,
          0.026,
          0.022727272727272728,
          0.02590909090909091,
          0.030636363636363635,
          0.02490909090909091,
          0.023
         ]
        },
        {
         "boxpoints": "suspectedoutliers",
         "line": {
          "color": "rgb(107,174,214)"
         },
         "marker": {
          "color": "rgb(107,174,214)",
          "line": {
           "outliercolor": "rgba(219, 64, 82, 0.6)",
           "outlierwidth": 2
          },
          "outliercolor": "rgba(219, 64, 82, 0.6)"
         },
         "name": 35,
         "showlegend": false,
         "type": "box",
         "x": 35,
         "y": [
          0.025636363636363638,
          0.025818181818181817,
          0.02518181818181818,
          0.028181818181818183,
          0.026363636363636363,
          0.02590909090909091,
          0.022727272727272728,
          0.025818181818181817,
          0.030727272727272728,
          0.025,
          0.02290909090909091
         ]
        },
        {
         "boxpoints": "suspectedoutliers",
         "line": {
          "color": "rgb(107,174,214)"
         },
         "marker": {
          "color": "rgb(107,174,214)",
          "line": {
           "outliercolor": "rgba(219, 64, 82, 0.6)",
           "outlierwidth": 2
          },
          "outliercolor": "rgba(219, 64, 82, 0.6)"
         },
         "name": 36,
         "showlegend": false,
         "type": "box",
         "x": 36,
         "y": [
          0.025727272727272727,
          0.025818181818181817,
          0.02518181818181818,
          0.028181818181818183,
          0.026363636363636363,
          0.02590909090909091,
          0.022818181818181817,
          0.025818181818181817,
          0.030818181818181817,
          0.02518181818181818,
          0.02290909090909091
         ]
        },
        {
         "boxpoints": "suspectedoutliers",
         "line": {
          "color": "rgb(107,174,214)"
         },
         "marker": {
          "color": "rgb(107,174,214)",
          "line": {
           "outliercolor": "rgba(219, 64, 82, 0.6)",
           "outlierwidth": 2
          },
          "outliercolor": "rgba(219, 64, 82, 0.6)"
         },
         "name": 37,
         "showlegend": false,
         "type": "box",
         "x": 37,
         "y": [
          0.025545454545454545,
          0.025818181818181817,
          0.02518181818181818,
          0.028181818181818183,
          0.026363636363636363,
          0.026,
          0.022727272727272728,
          0.025818181818181817,
          0.030818181818181817,
          0.02509090909090909,
          0.02290909090909091
         ]
        },
        {
         "boxpoints": "suspectedoutliers",
         "line": {
          "color": "rgb(107,174,214)"
         },
         "marker": {
          "color": "rgb(107,174,214)",
          "line": {
           "outliercolor": "rgba(219, 64, 82, 0.6)",
           "outlierwidth": 2
          },
          "outliercolor": "rgba(219, 64, 82, 0.6)"
         },
         "name": 38,
         "showlegend": false,
         "type": "box",
         "x": 38,
         "y": [
          0.025454545454545455,
          0.025818181818181817,
          0.025272727272727273,
          0.028181818181818183,
          0.026454545454545456,
          0.02609090909090909,
          0.022636363636363635,
          0.025727272727272727,
          0.030818181818181817,
          0.02518181818181818,
          0.02290909090909091
         ]
        },
        {
         "boxpoints": "suspectedoutliers",
         "line": {
          "color": "rgb(107,174,214)"
         },
         "marker": {
          "color": "rgb(107,174,214)",
          "line": {
           "outliercolor": "rgba(219, 64, 82, 0.6)",
           "outlierwidth": 2
          },
          "outliercolor": "rgba(219, 64, 82, 0.6)"
         },
         "name": 39,
         "showlegend": false,
         "type": "box",
         "x": 39,
         "y": [
          0.025454545454545455,
          0.026,
          0.02518181818181818,
          0.028181818181818183,
          0.026454545454545456,
          0.02609090909090909,
          0.022636363636363635,
          0.025636363636363638,
          0.030818181818181817,
          0.02518181818181818,
          0.023
         ]
        },
        {
         "boxpoints": "suspectedoutliers",
         "line": {
          "color": "rgb(107,174,214)"
         },
         "marker": {
          "color": "rgb(107,174,214)",
          "line": {
           "outliercolor": "rgba(219, 64, 82, 0.6)",
           "outlierwidth": 2
          },
          "outliercolor": "rgba(219, 64, 82, 0.6)"
         },
         "name": 40,
         "showlegend": false,
         "type": "box",
         "x": 40,
         "y": [
          0.025454545454545455,
          0.02609090909090909,
          0.02518181818181818,
          0.02809090909090909,
          0.026454545454545456,
          0.02618181818181818,
          0.022545454545454546,
          0.025636363636363638,
          0.030818181818181817,
          0.02518181818181818,
          0.022818181818181817
         ]
        },
        {
         "boxpoints": "suspectedoutliers",
         "line": {
          "color": "rgb(107,174,214)"
         },
         "marker": {
          "color": "rgb(107,174,214)",
          "line": {
           "outliercolor": "rgba(219, 64, 82, 0.6)",
           "outlierwidth": 2
          },
          "outliercolor": "rgba(219, 64, 82, 0.6)"
         },
         "name": 41,
         "showlegend": false,
         "type": "box",
         "x": 41,
         "y": [
          0.025363636363636363,
          0.02609090909090909,
          0.02518181818181818,
          0.02809090909090909,
          0.026454545454545456,
          0.02618181818181818,
          0.022545454545454546,
          0.025727272727272727,
          0.03090909090909091,
          0.02518181818181818,
          0.022818181818181817
         ]
        },
        {
         "boxpoints": "suspectedoutliers",
         "line": {
          "color": "rgb(107,174,214)"
         },
         "marker": {
          "color": "rgb(107,174,214)",
          "line": {
           "outliercolor": "rgba(219, 64, 82, 0.6)",
           "outlierwidth": 2
          },
          "outliercolor": "rgba(219, 64, 82, 0.6)"
         },
         "name": 42,
         "showlegend": false,
         "type": "box",
         "x": 42,
         "y": [
          0.025454545454545455,
          0.02609090909090909,
          0.02509090909090909,
          0.02809090909090909,
          0.026454545454545456,
          0.02618181818181818,
          0.022727272727272728,
          0.02590909090909091,
          0.031,
          0.025272727272727273,
          0.02290909090909091
         ]
        },
        {
         "boxpoints": "suspectedoutliers",
         "line": {
          "color": "rgb(107,174,214)"
         },
         "marker": {
          "color": "rgb(107,174,214)",
          "line": {
           "outliercolor": "rgba(219, 64, 82, 0.6)",
           "outlierwidth": 2
          },
          "outliercolor": "rgba(219, 64, 82, 0.6)"
         },
         "name": 43,
         "showlegend": false,
         "type": "box",
         "x": 43,
         "y": [
          0.025454545454545455,
          0.02609090909090909,
          0.025,
          0.028,
          0.026454545454545456,
          0.02609090909090909,
          0.022636363636363635,
          0.02590909090909091,
          0.031,
          0.025363636363636363,
          0.02290909090909091
         ]
        },
        {
         "boxpoints": "suspectedoutliers",
         "line": {
          "color": "rgb(107,174,214)"
         },
         "marker": {
          "color": "rgb(107,174,214)",
          "line": {
           "outliercolor": "rgba(219, 64, 82, 0.6)",
           "outlierwidth": 2
          },
          "outliercolor": "rgba(219, 64, 82, 0.6)"
         },
         "name": 44,
         "showlegend": false,
         "type": "box",
         "x": 44,
         "y": [
          0.025545454545454545,
          0.02618181818181818,
          0.025,
          0.028,
          0.026545454545454546,
          0.026,
          0.022636363636363635,
          0.026,
          0.03090909090909091,
          0.025363636363636363,
          0.022727272727272728
         ]
        },
        {
         "boxpoints": "suspectedoutliers",
         "line": {
          "color": "rgb(107,174,214)"
         },
         "marker": {
          "color": "rgb(107,174,214)",
          "line": {
           "outliercolor": "rgba(219, 64, 82, 0.6)",
           "outlierwidth": 2
          },
          "outliercolor": "rgba(219, 64, 82, 0.6)"
         },
         "name": 45,
         "showlegend": false,
         "type": "box",
         "x": 45,
         "y": [
          0.025454545454545455,
          0.02618181818181818,
          0.02490909090909091,
          0.028,
          0.026636363636363635,
          0.026,
          0.022545454545454546,
          0.026,
          0.031,
          0.025363636363636363,
          0.022818181818181817
         ]
        },
        {
         "boxpoints": "suspectedoutliers",
         "line": {
          "color": "rgb(107,174,214)"
         },
         "marker": {
          "color": "rgb(107,174,214)",
          "line": {
           "outliercolor": "rgba(219, 64, 82, 0.6)",
           "outlierwidth": 2
          },
          "outliercolor": "rgba(219, 64, 82, 0.6)"
         },
         "name": 46,
         "showlegend": false,
         "type": "box",
         "x": 46,
         "y": [
          0.025454545454545455,
          0.02618181818181818,
          0.025,
          0.028,
          0.026818181818181817,
          0.026,
          0.022545454545454546,
          0.026,
          0.031,
          0.025363636363636363,
          0.022818181818181817
         ]
        },
        {
         "boxpoints": "suspectedoutliers",
         "line": {
          "color": "rgb(107,174,214)"
         },
         "marker": {
          "color": "rgb(107,174,214)",
          "line": {
           "outliercolor": "rgba(219, 64, 82, 0.6)",
           "outlierwidth": 2
          },
          "outliercolor": "rgba(219, 64, 82, 0.6)"
         },
         "name": 47,
         "showlegend": false,
         "type": "box",
         "x": 47,
         "y": [
          0.025636363636363638,
          0.02609090909090909,
          0.025,
          0.027909090909090908,
          0.026818181818181817,
          0.02609090909090909,
          0.022545454545454546,
          0.026,
          0.031181818181818182,
          0.025454545454545455,
          0.022636363636363635
         ]
        },
        {
         "mode": "lines",
         "name": "Mean",
         "showlegend": false,
         "type": "scatter",
         "x": [
          1,
          2,
          3,
          4,
          5,
          6,
          7,
          8,
          9,
          10,
          11,
          12,
          13,
          14,
          15,
          16,
          17,
          18,
          19,
          20,
          21,
          22,
          23,
          24,
          25,
          26,
          27,
          28,
          29,
          30,
          31,
          32,
          33,
          34,
          35,
          36,
          37,
          38,
          39,
          40,
          41,
          42,
          43,
          44,
          45,
          46,
          47
         ],
         "y": [
          0.025181818181818184,
          0.02528925619834711,
          0.025363636363636363,
          0.025413223140495867,
          0.02542148760330579,
          0.025454545454545455,
          0.02547107438016529,
          0.02547107438016529,
          0.02549586776859504,
          0.02552892561983471,
          0.02550413223140496,
          0.025537190082644632,
          0.025537190082644632,
          0.025570247933884297,
          0.025603305785123973,
          0.025603305785123973,
          0.025619834710743805,
          0.025603305785123973,
          0.025619834710743805,
          0.025619834710743805,
          0.02562809917355372,
          0.02566115702479339,
          0.025694214876033062,
          0.025727272727272724,
          0.025743801652892563,
          0.02572727272727273,
          0.025735537190082647,
          0.025743801652892563,
          0.025776859504132235,
          0.025809917355371904,
          0.025826446280991736,
          0.025826446280991736,
          0.02583471074380165,
          0.025834710743801656,
          0.025859504132231412,
          0.025842975206611572,
          0.02588429752066116,
          0.025859504132231405,
          0.02586776859504132,
          0.02587603305785124,
          0.0258595041322314,
          0.025867768595041318,
          0.025925619834710745,
          0.025900826446280997,
          0.02590082644628099,
          0.025900826446280986,
          0.025925619834710742,
          0.025942148760330578
         ]
        }
       ],
       "layout": {}
      },
      "text/html": [
       "<div id=\"bb8b96e0-37be-4745-a44c-e7ca909cdd56\" style=\"height: 525px; width: 100%;\" class=\"plotly-graph-div\"></div><script type=\"text/javascript\">require([\"plotly\"], function(Plotly) { window.PLOTLYENV=window.PLOTLYENV || {};window.PLOTLYENV.BASE_URL=\"https://plot.ly\";Plotly.newPlot(\"bb8b96e0-37be-4745-a44c-e7ca909cdd56\", [{\"showlegend\": false, \"name\": 0, \"marker\": {\"color\": \"rgb(107,174,214)\", \"outliercolor\": \"rgba(219, 64, 82, 0.6)\", \"line\": {\"outlierwidth\": 2, \"outliercolor\": \"rgba(219, 64, 82, 0.6)\"}}, \"y\": [0.024727272727272726, 0.024727272727272726, 0.02509090909090909, 0.02727272727272727, 0.026, 0.025363636363636363, 0.022272727272727274, 0.02490909090909091, 0.02890909090909091, 0.024363636363636365, 0.023363636363636364], \"x\": 0, \"line\": {\"color\": \"rgb(107,174,214)\"}, \"type\": \"box\", \"boxpoints\": \"suspectedoutliers\"}, {\"showlegend\": false, \"name\": 1, \"marker\": {\"color\": \"rgb(107,174,214)\", \"outliercolor\": \"rgba(219, 64, 82, 0.6)\", \"line\": {\"outlierwidth\": 2, \"outliercolor\": \"rgba(219, 64, 82, 0.6)\"}}, \"y\": [0.02481818181818182, 0.025, 0.02518181818181818, 0.027545454545454547, 0.026, 0.025363636363636363, 0.022454545454545456, 0.02490909090909091, 0.029, 0.024363636363636365, 0.023545454545454546], \"x\": 1, \"line\": {\"color\": \"rgb(107,174,214)\"}, \"type\": \"box\", \"boxpoints\": \"suspectedoutliers\"}, {\"showlegend\": false, \"name\": 2, \"marker\": {\"color\": \"rgb(107,174,214)\", \"outliercolor\": \"rgba(219, 64, 82, 0.6)\", \"line\": {\"outlierwidth\": 2, \"outliercolor\": \"rgba(219, 64, 82, 0.6)\"}}, \"y\": [0.02518181818181818, 0.02509090909090909, 0.025272727272727273, 0.027636363636363636, 0.02609090909090909, 0.025454545454545455, 0.022545454545454546, 0.02490909090909091, 0.029, 0.024363636363636365, 0.023454545454545454], \"x\": 2, \"line\": {\"color\": \"rgb(107,174,214)\"}, \"type\": \"box\", \"boxpoints\": \"suspectedoutliers\"}, {\"showlegend\": false, \"name\": 3, \"marker\": {\"color\": \"rgb(107,174,214)\", \"outliercolor\": \"rgba(219, 64, 82, 0.6)\", \"line\": {\"outlierwidth\": 2, \"outliercolor\": \"rgba(219, 64, 82, 0.6)\"}}, \"y\": [0.02518181818181818, 0.02509090909090909, 0.025363636363636363, 0.02772727272727273, 0.02609090909090909, 0.025454545454545455, 0.022636363636363635, 0.025, 0.02909090909090909, 0.024454545454545455, 0.023454545454545454], \"x\": 3, \"line\": {\"color\": \"rgb(107,174,214)\"}, \"type\": \"box\", \"boxpoints\": \"suspectedoutliers\"}, {\"showlegend\": false, \"name\": 4, \"marker\": {\"color\": \"rgb(107,174,214)\", \"outliercolor\": \"rgba(219, 64, 82, 0.6)\", \"line\": {\"outlierwidth\": 2, \"outliercolor\": \"rgba(219, 64, 82, 0.6)\"}}, \"y\": [0.025272727272727273, 0.02518181818181818, 0.025272727272727273, 0.02772727272727273, 0.02609090909090909, 0.025545454545454545, 0.022636363636363635, 0.02509090909090909, 0.02909090909090909, 0.024363636363636365, 0.023363636363636364], \"x\": 4, \"line\": {\"color\": \"rgb(107,174,214)\"}, \"type\": \"box\", \"boxpoints\": \"suspectedoutliers\"}, {\"showlegend\": false, \"name\": 5, \"marker\": {\"color\": \"rgb(107,174,214)\", \"outliercolor\": \"rgba(219, 64, 82, 0.6)\", \"line\": {\"outlierwidth\": 2, \"outliercolor\": \"rgba(219, 64, 82, 0.6)\"}}, \"y\": [0.025363636363636363, 0.02518181818181818, 0.025272727272727273, 0.027636363636363636, 0.026272727272727274, 0.025636363636363638, 0.022636363636363635, 0.025, 0.02918181818181818, 0.024545454545454544, 0.02327272727272727], \"x\": 5, \"line\": {\"color\": \"rgb(107,174,214)\"}, \"type\": \"box\", \"boxpoints\": \"suspectedoutliers\"}, {\"showlegend\": false, \"name\": 6, \"marker\": {\"color\": \"rgb(107,174,214)\", \"outliercolor\": \"rgba(219, 64, 82, 0.6)\", \"line\": {\"outlierwidth\": 2, \"outliercolor\": \"rgba(219, 64, 82, 0.6)\"}}, \"y\": [0.025272727272727273, 0.025272727272727273, 0.025363636363636363, 0.027636363636363636, 0.02618181818181818, 0.025636363636363638, 0.022636363636363635, 0.02509090909090909, 0.029363636363636363, 0.024545454545454544, 0.023181818181818182], \"x\": 6, \"line\": {\"color\": \"rgb(107,174,214)\"}, \"type\": \"box\", \"boxpoints\": \"suspectedoutliers\"}, {\"showlegend\": false, \"name\": 7, \"marker\": {\"color\": \"rgb(107,174,214)\", \"outliercolor\": \"rgba(219, 64, 82, 0.6)\", \"line\": {\"outlierwidth\": 2, \"outliercolor\": \"rgba(219, 64, 82, 0.6)\"}}, \"y\": [0.025272727272727273, 0.025272727272727273, 0.025272727272727273, 0.027636363636363636, 0.026272727272727274, 0.025636363636363638, 0.022636363636363635, 0.025, 0.029363636363636363, 0.024636363636363637, 0.023181818181818182], \"x\": 7, \"line\": {\"color\": \"rgb(107,174,214)\"}, \"type\": \"box\", \"boxpoints\": \"suspectedoutliers\"}, {\"showlegend\": false, \"name\": 8, \"marker\": {\"color\": \"rgb(107,174,214)\", \"outliercolor\": \"rgba(219, 64, 82, 0.6)\", \"line\": {\"outlierwidth\": 2, \"outliercolor\": \"rgba(219, 64, 82, 0.6)\"}}, \"y\": [0.025363636363636363, 0.025363636363636363, 0.02518181818181818, 0.027545454545454547, 0.026454545454545456, 0.025727272727272727, 0.022636363636363635, 0.02490909090909091, 0.029545454545454545, 0.024636363636363637, 0.023090909090909092], \"x\": 8, \"line\": {\"color\": \"rgb(107,174,214)\"}, \"type\": \"box\", \"boxpoints\": \"suspectedoutliers\"}, {\"showlegend\": false, \"name\": 9, \"marker\": {\"color\": \"rgb(107,174,214)\", \"outliercolor\": \"rgba(219, 64, 82, 0.6)\", \"line\": {\"outlierwidth\": 2, \"outliercolor\": \"rgba(219, 64, 82, 0.6)\"}}, \"y\": [0.025454545454545455, 0.025363636363636363, 0.025363636363636363, 0.027545454545454547, 0.026454545454545456, 0.025727272727272727, 0.022636363636363635, 0.025, 0.029545454545454545, 0.024636363636363637, 0.023090909090909092], \"x\": 9, \"line\": {\"color\": \"rgb(107,174,214)\"}, \"type\": \"box\", \"boxpoints\": \"suspectedoutliers\"}, {\"showlegend\": false, \"name\": 10, \"marker\": {\"color\": \"rgb(107,174,214)\", \"outliercolor\": \"rgba(219, 64, 82, 0.6)\", \"line\": {\"outlierwidth\": 2, \"outliercolor\": \"rgba(219, 64, 82, 0.6)\"}}, \"y\": [0.025454545454545455, 0.025272727272727273, 0.025363636363636363, 0.027545454545454547, 0.026363636363636363, 0.025727272727272727, 0.022636363636363635, 0.025, 0.029727272727272727, 0.024454545454545455, 0.023], \"x\": 10, \"line\": {\"color\": \"rgb(107,174,214)\"}, \"type\": \"box\", \"boxpoints\": \"suspectedoutliers\"}, {\"showlegend\": false, \"name\": 11, \"marker\": {\"color\": \"rgb(107,174,214)\", \"outliercolor\": \"rgba(219, 64, 82, 0.6)\", \"line\": {\"outlierwidth\": 2, \"outliercolor\": \"rgba(219, 64, 82, 0.6)\"}}, \"y\": [0.025454545454545455, 0.025363636363636363, 0.025363636363636363, 0.027545454545454547, 0.026545454545454546, 0.025727272727272727, 0.022636363636363635, 0.025, 0.029727272727272727, 0.024545454545454544, 0.023], \"x\": 11, \"line\": {\"color\": \"rgb(107,174,214)\"}, \"type\": \"box\", \"boxpoints\": \"suspectedoutliers\"}, {\"showlegend\": false, \"name\": 12, \"marker\": {\"color\": \"rgb(107,174,214)\", \"outliercolor\": \"rgba(219, 64, 82, 0.6)\", \"line\": {\"outlierwidth\": 2, \"outliercolor\": \"rgba(219, 64, 82, 0.6)\"}}, \"y\": [0.025363636363636363, 0.025545454545454545, 0.025363636363636363, 0.027454545454545454, 0.026545454545454546, 0.025727272727272727, 0.022636363636363635, 0.025, 0.029727272727272727, 0.024545454545454544, 0.023], \"x\": 12, \"line\": {\"color\": \"rgb(107,174,214)\"}, \"type\": \"box\", \"boxpoints\": \"suspectedoutliers\"}, {\"showlegend\": false, \"name\": 13, \"marker\": {\"color\": \"rgb(107,174,214)\", \"outliercolor\": \"rgba(219, 64, 82, 0.6)\", \"line\": {\"outlierwidth\": 2, \"outliercolor\": \"rgba(219, 64, 82, 0.6)\"}}, \"y\": [0.025363636363636363, 0.025545454545454545, 0.025363636363636363, 0.027454545454545454, 0.026545454545454546, 0.025727272727272727, 0.022727272727272728, 0.02509090909090909, 0.02990909090909091, 0.024545454545454544, 0.023], \"x\": 13, \"line\": {\"color\": \"rgb(107,174,214)\"}, \"type\": \"box\", \"boxpoints\": \"suspectedoutliers\"}, {\"showlegend\": false, \"name\": 14, \"marker\": {\"color\": \"rgb(107,174,214)\", \"outliercolor\": \"rgba(219, 64, 82, 0.6)\", \"line\": {\"outlierwidth\": 2, \"outliercolor\": \"rgba(219, 64, 82, 0.6)\"}}, \"y\": [0.025363636363636363, 0.025636363636363638, 0.025363636363636363, 0.027545454545454547, 0.026545454545454546, 0.025818181818181817, 0.022727272727272728, 0.025272727272727273, 0.02990909090909091, 0.024545454545454544, 0.02290909090909091], \"x\": 14, \"line\": {\"color\": \"rgb(107,174,214)\"}, \"type\": \"box\", \"boxpoints\": \"suspectedoutliers\"}, {\"showlegend\": false, \"name\": 15, \"marker\": {\"color\": \"rgb(107,174,214)\", \"outliercolor\": \"rgba(219, 64, 82, 0.6)\", \"line\": {\"outlierwidth\": 2, \"outliercolor\": \"rgba(219, 64, 82, 0.6)\"}}, \"y\": [0.025363636363636363, 0.025545454545454545, 0.025363636363636363, 0.027545454545454547, 0.026545454545454546, 0.025727272727272727, 0.022818181818181817, 0.025272727272727273, 0.03, 0.024545454545454544, 0.02290909090909091], \"x\": 15, \"line\": {\"color\": \"rgb(107,174,214)\"}, \"type\": \"box\", \"boxpoints\": \"suspectedoutliers\"}, {\"showlegend\": false, \"name\": 16, \"marker\": {\"color\": \"rgb(107,174,214)\", \"outliercolor\": \"rgba(219, 64, 82, 0.6)\", \"line\": {\"outlierwidth\": 2, \"outliercolor\": \"rgba(219, 64, 82, 0.6)\"}}, \"y\": [0.025363636363636363, 0.025454545454545455, 0.025363636363636363, 0.027636363636363636, 0.026454545454545456, 0.025818181818181817, 0.022818181818181817, 0.025363636363636363, 0.03, 0.024545454545454544, 0.023], \"x\": 16, \"line\": {\"color\": \"rgb(107,174,214)\"}, \"type\": \"box\", \"boxpoints\": \"suspectedoutliers\"}, {\"showlegend\": false, \"name\": 17, \"marker\": {\"color\": \"rgb(107,174,214)\", \"outliercolor\": \"rgba(219, 64, 82, 0.6)\", \"line\": {\"outlierwidth\": 2, \"outliercolor\": \"rgba(219, 64, 82, 0.6)\"}}, \"y\": [0.02518181818181818, 0.025454545454545455, 0.025272727272727273, 0.02772727272727273, 0.026454545454545456, 0.025818181818181817, 0.022727272727272728, 0.025363636363636363, 0.030090909090909092, 0.024545454545454544, 0.023], \"x\": 17, \"line\": {\"color\": \"rgb(107,174,214)\"}, \"type\": \"box\", \"boxpoints\": \"suspectedoutliers\"}, {\"showlegend\": false, \"name\": 18, \"marker\": {\"color\": \"rgb(107,174,214)\", \"outliercolor\": \"rgba(219, 64, 82, 0.6)\", \"line\": {\"outlierwidth\": 2, \"outliercolor\": \"rgba(219, 64, 82, 0.6)\"}}, \"y\": [0.025272727272727273, 0.025363636363636363, 0.025272727272727273, 0.02772727272727273, 0.026454545454545456, 0.025818181818181817, 0.022727272727272728, 0.025363636363636363, 0.030272727272727274, 0.024545454545454544, 0.023], \"x\": 18, \"line\": {\"color\": \"rgb(107,174,214)\"}, \"type\": \"box\", \"boxpoints\": \"suspectedoutliers\"}, {\"showlegend\": false, \"name\": 19, \"marker\": {\"color\": \"rgb(107,174,214)\", \"outliercolor\": \"rgba(219, 64, 82, 0.6)\", \"line\": {\"outlierwidth\": 2, \"outliercolor\": \"rgba(219, 64, 82, 0.6)\"}}, \"y\": [0.025272727272727273, 0.025363636363636363, 0.025272727272727273, 0.02772727272727273, 0.026545454545454546, 0.025818181818181817, 0.022636363636363635, 0.025363636363636363, 0.030272727272727274, 0.024545454545454544, 0.023], \"x\": 19, \"line\": {\"color\": \"rgb(107,174,214)\"}, \"type\": \"box\", \"boxpoints\": \"suspectedoutliers\"}, {\"showlegend\": false, \"name\": 20, \"marker\": {\"color\": \"rgb(107,174,214)\", \"outliercolor\": \"rgba(219, 64, 82, 0.6)\", \"line\": {\"outlierwidth\": 2, \"outliercolor\": \"rgba(219, 64, 82, 0.6)\"}}, \"y\": [0.02518181818181818, 0.025363636363636363, 0.025454545454545455, 0.027636363636363636, 0.026545454545454546, 0.025818181818181817, 0.022636363636363635, 0.025454545454545455, 0.030272727272727274, 0.024545454545454544, 0.023], \"x\": 20, \"line\": {\"color\": \"rgb(107,174,214)\"}, \"type\": \"box\", \"boxpoints\": \"suspectedoutliers\"}, {\"showlegend\": false, \"name\": 21, \"marker\": {\"color\": \"rgb(107,174,214)\", \"outliercolor\": \"rgba(219, 64, 82, 0.6)\", \"line\": {\"outlierwidth\": 2, \"outliercolor\": \"rgba(219, 64, 82, 0.6)\"}}, \"y\": [0.025363636363636363, 0.025363636363636363, 0.025545454545454545, 0.027636363636363636, 0.026545454545454546, 0.025818181818181817, 0.022636363636363635, 0.025454545454545455, 0.030272727272727274, 0.024727272727272726, 0.02290909090909091], \"x\": 21, \"line\": {\"color\": \"rgb(107,174,214)\"}, \"type\": \"box\", \"boxpoints\": \"suspectedoutliers\"}, {\"showlegend\": false, \"name\": 22, \"marker\": {\"color\": \"rgb(107,174,214)\", \"outliercolor\": \"rgba(219, 64, 82, 0.6)\", \"line\": {\"outlierwidth\": 2, \"outliercolor\": \"rgba(219, 64, 82, 0.6)\"}}, \"y\": [0.025363636363636363, 0.025454545454545455, 0.025636363636363638, 0.02781818181818182, 0.026545454545454546, 0.025727272727272727, 0.022636363636363635, 0.025545454545454545, 0.030272727272727274, 0.024727272727272726, 0.02290909090909091], \"x\": 22, \"line\": {\"color\": \"rgb(107,174,214)\"}, \"type\": \"box\", \"boxpoints\": \"suspectedoutliers\"}, {\"showlegend\": false, \"name\": 23, \"marker\": {\"color\": \"rgb(107,174,214)\", \"outliercolor\": \"rgba(219, 64, 82, 0.6)\", \"line\": {\"outlierwidth\": 2, \"outliercolor\": \"rgba(219, 64, 82, 0.6)\"}}, \"y\": [0.025272727272727273, 0.025545454545454545, 0.025727272727272727, 0.027909090909090908, 0.026545454545454546, 0.025727272727272727, 0.022727272727272728, 0.025636363636363638, 0.030363636363636363, 0.024727272727272726, 0.022818181818181817], \"x\": 23, \"line\": {\"color\": \"rgb(107,174,214)\"}, \"type\": \"box\", \"boxpoints\": \"suspectedoutliers\"}, {\"showlegend\": false, \"name\": 24, \"marker\": {\"color\": \"rgb(107,174,214)\", \"outliercolor\": \"rgba(219, 64, 82, 0.6)\", \"line\": {\"outlierwidth\": 2, \"outliercolor\": \"rgba(219, 64, 82, 0.6)\"}}, \"y\": [0.025363636363636363, 0.025636363636363638, 0.025545454545454545, 0.027909090909090908, 0.026545454545454546, 0.025727272727272727, 0.022636363636363635, 0.025636363636363638, 0.030454545454545453, 0.02481818181818182, 0.02290909090909091], \"x\": 24, \"line\": {\"color\": \"rgb(107,174,214)\"}, \"type\": \"box\", \"boxpoints\": \"suspectedoutliers\"}, {\"showlegend\": false, \"name\": 25, \"marker\": {\"color\": \"rgb(107,174,214)\", \"outliercolor\": \"rgba(219, 64, 82, 0.6)\", \"line\": {\"outlierwidth\": 2, \"outliercolor\": \"rgba(219, 64, 82, 0.6)\"}}, \"y\": [0.025363636363636363, 0.025727272727272727, 0.025363636363636363, 0.027909090909090908, 0.026272727272727274, 0.025727272727272727, 0.022727272727272728, 0.025636363636363638, 0.030454545454545453, 0.02490909090909091, 0.02290909090909091], \"x\": 25, \"line\": {\"color\": \"rgb(107,174,214)\"}, \"type\": \"box\", \"boxpoints\": \"suspectedoutliers\"}, {\"showlegend\": false, \"name\": 26, \"marker\": {\"color\": \"rgb(107,174,214)\", \"outliercolor\": \"rgba(219, 64, 82, 0.6)\", \"line\": {\"outlierwidth\": 2, \"outliercolor\": \"rgba(219, 64, 82, 0.6)\"}}, \"y\": [0.025272727272727273, 0.02590909090909091, 0.025363636363636363, 0.027909090909090908, 0.026272727272727274, 0.025636363636363638, 0.022727272727272728, 0.025727272727272727, 0.030454545454545453, 0.02490909090909091, 0.02290909090909091], \"x\": 26, \"line\": {\"color\": \"rgb(107,174,214)\"}, \"type\": \"box\", \"boxpoints\": \"suspectedoutliers\"}, {\"showlegend\": false, \"name\": 27, \"marker\": {\"color\": \"rgb(107,174,214)\", \"outliercolor\": \"rgba(219, 64, 82, 0.6)\", \"line\": {\"outlierwidth\": 2, \"outliercolor\": \"rgba(219, 64, 82, 0.6)\"}}, \"y\": [0.025363636363636363, 0.02590909090909091, 0.025363636363636363, 0.027909090909090908, 0.026363636363636363, 0.025818181818181817, 0.022818181818181817, 0.025727272727272727, 0.030272727272727274, 0.024727272727272726, 0.02290909090909091], \"x\": 27, \"line\": {\"color\": \"rgb(107,174,214)\"}, \"type\": \"box\", \"boxpoints\": \"suspectedoutliers\"}, {\"showlegend\": false, \"name\": 28, \"marker\": {\"color\": \"rgb(107,174,214)\", \"outliercolor\": \"rgba(219, 64, 82, 0.6)\", \"line\": {\"outlierwidth\": 2, \"outliercolor\": \"rgba(219, 64, 82, 0.6)\"}}, \"y\": [0.025454545454545455, 0.02590909090909091, 0.025363636363636363, 0.02781818181818182, 0.026363636363636363, 0.025818181818181817, 0.022818181818181817, 0.025818181818181817, 0.030363636363636363, 0.02490909090909091, 0.02290909090909091], \"x\": 28, \"line\": {\"color\": \"rgb(107,174,214)\"}, \"type\": \"box\", \"boxpoints\": \"suspectedoutliers\"}, {\"showlegend\": false, \"name\": 29, \"marker\": {\"color\": \"rgb(107,174,214)\", \"outliercolor\": \"rgba(219, 64, 82, 0.6)\", \"line\": {\"outlierwidth\": 2, \"outliercolor\": \"rgba(219, 64, 82, 0.6)\"}}, \"y\": [0.025363636363636363, 0.02590909090909091, 0.025363636363636363, 0.027909090909090908, 0.026363636363636363, 0.02590909090909091, 0.022818181818181817, 0.02590909090909091, 0.030454545454545453, 0.025, 0.02290909090909091], \"x\": 29, \"line\": {\"color\": \"rgb(107,174,214)\"}, \"type\": \"box\", \"boxpoints\": \"suspectedoutliers\"}, {\"showlegend\": false, \"name\": 30, \"marker\": {\"color\": \"rgb(107,174,214)\", \"outliercolor\": \"rgba(219, 64, 82, 0.6)\", \"line\": {\"outlierwidth\": 2, \"outliercolor\": \"rgba(219, 64, 82, 0.6)\"}}, \"y\": [0.025545454545454545, 0.02590909090909091, 0.025363636363636363, 0.027909090909090908, 0.026363636363636363, 0.026, 0.022727272727272728, 0.025818181818181817, 0.030454545454545453, 0.02509090909090909, 0.02290909090909091], \"x\": 30, \"line\": {\"color\": \"rgb(107,174,214)\"}, \"type\": \"box\", \"boxpoints\": \"suspectedoutliers\"}, {\"showlegend\": false, \"name\": 31, \"marker\": {\"color\": \"rgb(107,174,214)\", \"outliercolor\": \"rgba(219, 64, 82, 0.6)\", \"line\": {\"outlierwidth\": 2, \"outliercolor\": \"rgba(219, 64, 82, 0.6)\"}}, \"y\": [0.025545454545454545, 0.02590909090909091, 0.025272727272727273, 0.027909090909090908, 0.026363636363636363, 0.026, 0.022727272727272728, 0.02590909090909091, 0.030454545454545453, 0.02509090909090909, 0.02290909090909091], \"x\": 31, \"line\": {\"color\": \"rgb(107,174,214)\"}, \"type\": \"box\", \"boxpoints\": \"suspectedoutliers\"}, {\"showlegend\": false, \"name\": 32, \"marker\": {\"color\": \"rgb(107,174,214)\", \"outliercolor\": \"rgba(219, 64, 82, 0.6)\", \"line\": {\"outlierwidth\": 2, \"outliercolor\": \"rgba(219, 64, 82, 0.6)\"}}, \"y\": [0.025545454545454545, 0.025818181818181817, 0.025272727272727273, 0.027909090909090908, 0.026454545454545456, 0.026, 0.022727272727272728, 0.02590909090909091, 0.030727272727272728, 0.025, 0.022818181818181817], \"x\": 32, \"line\": {\"color\": \"rgb(107,174,214)\"}, \"type\": \"box\", \"boxpoints\": \"suspectedoutliers\"}, {\"showlegend\": false, \"name\": 33, \"marker\": {\"color\": \"rgb(107,174,214)\", \"outliercolor\": \"rgba(219, 64, 82, 0.6)\", \"line\": {\"outlierwidth\": 2, \"outliercolor\": \"rgba(219, 64, 82, 0.6)\"}}, \"y\": [0.025454545454545455, 0.025818181818181817, 0.025272727272727273, 0.028, 0.026363636363636363, 0.026, 0.022727272727272728, 0.02590909090909091, 0.030727272727272728, 0.02490909090909091, 0.023], \"x\": 33, \"line\": {\"color\": \"rgb(107,174,214)\"}, \"type\": \"box\", \"boxpoints\": \"suspectedoutliers\"}, {\"showlegend\": false, \"name\": 34, \"marker\": {\"color\": \"rgb(107,174,214)\", \"outliercolor\": \"rgba(219, 64, 82, 0.6)\", \"line\": {\"outlierwidth\": 2, \"outliercolor\": \"rgba(219, 64, 82, 0.6)\"}}, \"y\": [0.025545454545454545, 0.02590909090909091, 0.025272727272727273, 0.028181818181818183, 0.026363636363636363, 0.026, 0.022727272727272728, 0.02590909090909091, 0.030636363636363635, 0.02490909090909091, 0.023], \"x\": 34, \"line\": {\"color\": \"rgb(107,174,214)\"}, \"type\": \"box\", \"boxpoints\": \"suspectedoutliers\"}, {\"showlegend\": false, \"name\": 35, \"marker\": {\"color\": \"rgb(107,174,214)\", \"outliercolor\": \"rgba(219, 64, 82, 0.6)\", \"line\": {\"outlierwidth\": 2, \"outliercolor\": \"rgba(219, 64, 82, 0.6)\"}}, \"y\": [0.025636363636363638, 0.025818181818181817, 0.02518181818181818, 0.028181818181818183, 0.026363636363636363, 0.02590909090909091, 0.022727272727272728, 0.025818181818181817, 0.030727272727272728, 0.025, 0.02290909090909091], \"x\": 35, \"line\": {\"color\": \"rgb(107,174,214)\"}, \"type\": \"box\", \"boxpoints\": \"suspectedoutliers\"}, {\"showlegend\": false, \"name\": 36, \"marker\": {\"color\": \"rgb(107,174,214)\", \"outliercolor\": \"rgba(219, 64, 82, 0.6)\", \"line\": {\"outlierwidth\": 2, \"outliercolor\": \"rgba(219, 64, 82, 0.6)\"}}, \"y\": [0.025727272727272727, 0.025818181818181817, 0.02518181818181818, 0.028181818181818183, 0.026363636363636363, 0.02590909090909091, 0.022818181818181817, 0.025818181818181817, 0.030818181818181817, 0.02518181818181818, 0.02290909090909091], \"x\": 36, \"line\": {\"color\": \"rgb(107,174,214)\"}, \"type\": \"box\", \"boxpoints\": \"suspectedoutliers\"}, {\"showlegend\": false, \"name\": 37, \"marker\": {\"color\": \"rgb(107,174,214)\", \"outliercolor\": \"rgba(219, 64, 82, 0.6)\", \"line\": {\"outlierwidth\": 2, \"outliercolor\": \"rgba(219, 64, 82, 0.6)\"}}, \"y\": [0.025545454545454545, 0.025818181818181817, 0.02518181818181818, 0.028181818181818183, 0.026363636363636363, 0.026, 0.022727272727272728, 0.025818181818181817, 0.030818181818181817, 0.02509090909090909, 0.02290909090909091], \"x\": 37, \"line\": {\"color\": \"rgb(107,174,214)\"}, \"type\": \"box\", \"boxpoints\": \"suspectedoutliers\"}, {\"showlegend\": false, \"name\": 38, \"marker\": {\"color\": \"rgb(107,174,214)\", \"outliercolor\": \"rgba(219, 64, 82, 0.6)\", \"line\": {\"outlierwidth\": 2, \"outliercolor\": \"rgba(219, 64, 82, 0.6)\"}}, \"y\": [0.025454545454545455, 0.025818181818181817, 0.025272727272727273, 0.028181818181818183, 0.026454545454545456, 0.02609090909090909, 0.022636363636363635, 0.025727272727272727, 0.030818181818181817, 0.02518181818181818, 0.02290909090909091], \"x\": 38, \"line\": {\"color\": \"rgb(107,174,214)\"}, \"type\": \"box\", \"boxpoints\": \"suspectedoutliers\"}, {\"showlegend\": false, \"name\": 39, \"marker\": {\"color\": \"rgb(107,174,214)\", \"outliercolor\": \"rgba(219, 64, 82, 0.6)\", \"line\": {\"outlierwidth\": 2, \"outliercolor\": \"rgba(219, 64, 82, 0.6)\"}}, \"y\": [0.025454545454545455, 0.026, 0.02518181818181818, 0.028181818181818183, 0.026454545454545456, 0.02609090909090909, 0.022636363636363635, 0.025636363636363638, 0.030818181818181817, 0.02518181818181818, 0.023], \"x\": 39, \"line\": {\"color\": \"rgb(107,174,214)\"}, \"type\": \"box\", \"boxpoints\": \"suspectedoutliers\"}, {\"showlegend\": false, \"name\": 40, \"marker\": {\"color\": \"rgb(107,174,214)\", \"outliercolor\": \"rgba(219, 64, 82, 0.6)\", \"line\": {\"outlierwidth\": 2, \"outliercolor\": \"rgba(219, 64, 82, 0.6)\"}}, \"y\": [0.025454545454545455, 0.02609090909090909, 0.02518181818181818, 0.02809090909090909, 0.026454545454545456, 0.02618181818181818, 0.022545454545454546, 0.025636363636363638, 0.030818181818181817, 0.02518181818181818, 0.022818181818181817], \"x\": 40, \"line\": {\"color\": \"rgb(107,174,214)\"}, \"type\": \"box\", \"boxpoints\": \"suspectedoutliers\"}, {\"showlegend\": false, \"name\": 41, \"marker\": {\"color\": \"rgb(107,174,214)\", \"outliercolor\": \"rgba(219, 64, 82, 0.6)\", \"line\": {\"outlierwidth\": 2, \"outliercolor\": \"rgba(219, 64, 82, 0.6)\"}}, \"y\": [0.025363636363636363, 0.02609090909090909, 0.02518181818181818, 0.02809090909090909, 0.026454545454545456, 0.02618181818181818, 0.022545454545454546, 0.025727272727272727, 0.03090909090909091, 0.02518181818181818, 0.022818181818181817], \"x\": 41, \"line\": {\"color\": \"rgb(107,174,214)\"}, \"type\": \"box\", \"boxpoints\": \"suspectedoutliers\"}, {\"showlegend\": false, \"name\": 42, \"marker\": {\"color\": \"rgb(107,174,214)\", \"outliercolor\": \"rgba(219, 64, 82, 0.6)\", \"line\": {\"outlierwidth\": 2, \"outliercolor\": \"rgba(219, 64, 82, 0.6)\"}}, \"y\": [0.025454545454545455, 0.02609090909090909, 0.02509090909090909, 0.02809090909090909, 0.026454545454545456, 0.02618181818181818, 0.022727272727272728, 0.02590909090909091, 0.031, 0.025272727272727273, 0.02290909090909091], \"x\": 42, \"line\": {\"color\": \"rgb(107,174,214)\"}, \"type\": \"box\", \"boxpoints\": \"suspectedoutliers\"}, {\"showlegend\": false, \"name\": 43, \"marker\": {\"color\": \"rgb(107,174,214)\", \"outliercolor\": \"rgba(219, 64, 82, 0.6)\", \"line\": {\"outlierwidth\": 2, \"outliercolor\": \"rgba(219, 64, 82, 0.6)\"}}, \"y\": [0.025454545454545455, 0.02609090909090909, 0.025, 0.028, 0.026454545454545456, 0.02609090909090909, 0.022636363636363635, 0.02590909090909091, 0.031, 0.025363636363636363, 0.02290909090909091], \"x\": 43, \"line\": {\"color\": \"rgb(107,174,214)\"}, \"type\": \"box\", \"boxpoints\": \"suspectedoutliers\"}, {\"showlegend\": false, \"name\": 44, \"marker\": {\"color\": \"rgb(107,174,214)\", \"outliercolor\": \"rgba(219, 64, 82, 0.6)\", \"line\": {\"outlierwidth\": 2, \"outliercolor\": \"rgba(219, 64, 82, 0.6)\"}}, \"y\": [0.025545454545454545, 0.02618181818181818, 0.025, 0.028, 0.026545454545454546, 0.026, 0.022636363636363635, 0.026, 0.03090909090909091, 0.025363636363636363, 0.022727272727272728], \"x\": 44, \"line\": {\"color\": \"rgb(107,174,214)\"}, \"type\": \"box\", \"boxpoints\": \"suspectedoutliers\"}, {\"showlegend\": false, \"name\": 45, \"marker\": {\"color\": \"rgb(107,174,214)\", \"outliercolor\": \"rgba(219, 64, 82, 0.6)\", \"line\": {\"outlierwidth\": 2, \"outliercolor\": \"rgba(219, 64, 82, 0.6)\"}}, \"y\": [0.025454545454545455, 0.02618181818181818, 0.02490909090909091, 0.028, 0.026636363636363635, 0.026, 0.022545454545454546, 0.026, 0.031, 0.025363636363636363, 0.022818181818181817], \"x\": 45, \"line\": {\"color\": \"rgb(107,174,214)\"}, \"type\": \"box\", \"boxpoints\": \"suspectedoutliers\"}, {\"showlegend\": false, \"name\": 46, \"marker\": {\"color\": \"rgb(107,174,214)\", \"outliercolor\": \"rgba(219, 64, 82, 0.6)\", \"line\": {\"outlierwidth\": 2, \"outliercolor\": \"rgba(219, 64, 82, 0.6)\"}}, \"y\": [0.025454545454545455, 0.02618181818181818, 0.025, 0.028, 0.026818181818181817, 0.026, 0.022545454545454546, 0.026, 0.031, 0.025363636363636363, 0.022818181818181817], \"x\": 46, \"line\": {\"color\": \"rgb(107,174,214)\"}, \"type\": \"box\", \"boxpoints\": \"suspectedoutliers\"}, {\"showlegend\": false, \"name\": 47, \"marker\": {\"color\": \"rgb(107,174,214)\", \"outliercolor\": \"rgba(219, 64, 82, 0.6)\", \"line\": {\"outlierwidth\": 2, \"outliercolor\": \"rgba(219, 64, 82, 0.6)\"}}, \"y\": [0.025636363636363638, 0.02609090909090909, 0.025, 0.027909090909090908, 0.026818181818181817, 0.02609090909090909, 0.022545454545454546, 0.026, 0.031181818181818182, 0.025454545454545455, 0.022636363636363635], \"x\": 47, \"line\": {\"color\": \"rgb(107,174,214)\"}, \"type\": \"box\", \"boxpoints\": \"suspectedoutliers\"}, {\"showlegend\": false, \"name\": \"Mean\", \"mode\": \"lines\", \"y\": [0.025181818181818184, 0.02528925619834711, 0.025363636363636363, 0.025413223140495867, 0.02542148760330579, 0.025454545454545455, 0.02547107438016529, 0.02547107438016529, 0.02549586776859504, 0.02552892561983471, 0.02550413223140496, 0.025537190082644632, 0.025537190082644632, 0.025570247933884297, 0.025603305785123973, 0.025603305785123973, 0.025619834710743805, 0.025603305785123973, 0.025619834710743805, 0.025619834710743805, 0.02562809917355372, 0.02566115702479339, 0.025694214876033062, 0.025727272727272724, 0.025743801652892563, 0.02572727272727273, 0.025735537190082647, 0.025743801652892563, 0.025776859504132235, 0.025809917355371904, 0.025826446280991736, 0.025826446280991736, 0.02583471074380165, 0.025834710743801656, 0.025859504132231412, 0.025842975206611572, 0.02588429752066116, 0.025859504132231405, 0.02586776859504132, 0.02587603305785124, 0.0258595041322314, 0.025867768595041318, 0.025925619834710745, 0.025900826446280997, 0.02590082644628099, 0.025900826446280986, 0.025925619834710742, 0.025942148760330578], \"x\": [1, 2, 3, 4, 5, 6, 7, 8, 9, 10, 11, 12, 13, 14, 15, 16, 17, 18, 19, 20, 21, 22, 23, 24, 25, 26, 27, 28, 29, 30, 31, 32, 33, 34, 35, 36, 37, 38, 39, 40, 41, 42, 43, 44, 45, 46, 47], \"type\": \"scatter\"}], {}, {\"linkText\": \"Export to plot.ly\", \"showLink\": true})});</script>"
      ],
      "text/vnd.plotly.v1+html": [
       "<div id=\"bb8b96e0-37be-4745-a44c-e7ca909cdd56\" style=\"height: 525px; width: 100%;\" class=\"plotly-graph-div\"></div><script type=\"text/javascript\">require([\"plotly\"], function(Plotly) { window.PLOTLYENV=window.PLOTLYENV || {};window.PLOTLYENV.BASE_URL=\"https://plot.ly\";Plotly.newPlot(\"bb8b96e0-37be-4745-a44c-e7ca909cdd56\", [{\"showlegend\": false, \"name\": 0, \"marker\": {\"color\": \"rgb(107,174,214)\", \"outliercolor\": \"rgba(219, 64, 82, 0.6)\", \"line\": {\"outlierwidth\": 2, \"outliercolor\": \"rgba(219, 64, 82, 0.6)\"}}, \"y\": [0.024727272727272726, 0.024727272727272726, 0.02509090909090909, 0.02727272727272727, 0.026, 0.025363636363636363, 0.022272727272727274, 0.02490909090909091, 0.02890909090909091, 0.024363636363636365, 0.023363636363636364], \"x\": 0, \"line\": {\"color\": \"rgb(107,174,214)\"}, \"type\": \"box\", \"boxpoints\": \"suspectedoutliers\"}, {\"showlegend\": false, \"name\": 1, \"marker\": {\"color\": \"rgb(107,174,214)\", \"outliercolor\": \"rgba(219, 64, 82, 0.6)\", \"line\": {\"outlierwidth\": 2, \"outliercolor\": \"rgba(219, 64, 82, 0.6)\"}}, \"y\": [0.02481818181818182, 0.025, 0.02518181818181818, 0.027545454545454547, 0.026, 0.025363636363636363, 0.022454545454545456, 0.02490909090909091, 0.029, 0.024363636363636365, 0.023545454545454546], \"x\": 1, \"line\": {\"color\": \"rgb(107,174,214)\"}, \"type\": \"box\", \"boxpoints\": \"suspectedoutliers\"}, {\"showlegend\": false, \"name\": 2, \"marker\": {\"color\": \"rgb(107,174,214)\", \"outliercolor\": \"rgba(219, 64, 82, 0.6)\", \"line\": {\"outlierwidth\": 2, \"outliercolor\": \"rgba(219, 64, 82, 0.6)\"}}, \"y\": [0.02518181818181818, 0.02509090909090909, 0.025272727272727273, 0.027636363636363636, 0.02609090909090909, 0.025454545454545455, 0.022545454545454546, 0.02490909090909091, 0.029, 0.024363636363636365, 0.023454545454545454], \"x\": 2, \"line\": {\"color\": \"rgb(107,174,214)\"}, \"type\": \"box\", \"boxpoints\": \"suspectedoutliers\"}, {\"showlegend\": false, \"name\": 3, \"marker\": {\"color\": \"rgb(107,174,214)\", \"outliercolor\": \"rgba(219, 64, 82, 0.6)\", \"line\": {\"outlierwidth\": 2, \"outliercolor\": \"rgba(219, 64, 82, 0.6)\"}}, \"y\": [0.02518181818181818, 0.02509090909090909, 0.025363636363636363, 0.02772727272727273, 0.02609090909090909, 0.025454545454545455, 0.022636363636363635, 0.025, 0.02909090909090909, 0.024454545454545455, 0.023454545454545454], \"x\": 3, \"line\": {\"color\": \"rgb(107,174,214)\"}, \"type\": \"box\", \"boxpoints\": \"suspectedoutliers\"}, {\"showlegend\": false, \"name\": 4, \"marker\": {\"color\": \"rgb(107,174,214)\", \"outliercolor\": \"rgba(219, 64, 82, 0.6)\", \"line\": {\"outlierwidth\": 2, \"outliercolor\": \"rgba(219, 64, 82, 0.6)\"}}, \"y\": [0.025272727272727273, 0.02518181818181818, 0.025272727272727273, 0.02772727272727273, 0.02609090909090909, 0.025545454545454545, 0.022636363636363635, 0.02509090909090909, 0.02909090909090909, 0.024363636363636365, 0.023363636363636364], \"x\": 4, \"line\": {\"color\": \"rgb(107,174,214)\"}, \"type\": \"box\", \"boxpoints\": \"suspectedoutliers\"}, {\"showlegend\": false, \"name\": 5, \"marker\": {\"color\": \"rgb(107,174,214)\", \"outliercolor\": \"rgba(219, 64, 82, 0.6)\", \"line\": {\"outlierwidth\": 2, \"outliercolor\": \"rgba(219, 64, 82, 0.6)\"}}, \"y\": [0.025363636363636363, 0.02518181818181818, 0.025272727272727273, 0.027636363636363636, 0.026272727272727274, 0.025636363636363638, 0.022636363636363635, 0.025, 0.02918181818181818, 0.024545454545454544, 0.02327272727272727], \"x\": 5, \"line\": {\"color\": \"rgb(107,174,214)\"}, \"type\": \"box\", \"boxpoints\": \"suspectedoutliers\"}, {\"showlegend\": false, \"name\": 6, \"marker\": {\"color\": \"rgb(107,174,214)\", \"outliercolor\": \"rgba(219, 64, 82, 0.6)\", \"line\": {\"outlierwidth\": 2, \"outliercolor\": \"rgba(219, 64, 82, 0.6)\"}}, \"y\": [0.025272727272727273, 0.025272727272727273, 0.025363636363636363, 0.027636363636363636, 0.02618181818181818, 0.025636363636363638, 0.022636363636363635, 0.02509090909090909, 0.029363636363636363, 0.024545454545454544, 0.023181818181818182], \"x\": 6, \"line\": {\"color\": \"rgb(107,174,214)\"}, \"type\": \"box\", \"boxpoints\": \"suspectedoutliers\"}, {\"showlegend\": false, \"name\": 7, \"marker\": {\"color\": \"rgb(107,174,214)\", \"outliercolor\": \"rgba(219, 64, 82, 0.6)\", \"line\": {\"outlierwidth\": 2, \"outliercolor\": \"rgba(219, 64, 82, 0.6)\"}}, \"y\": [0.025272727272727273, 0.025272727272727273, 0.025272727272727273, 0.027636363636363636, 0.026272727272727274, 0.025636363636363638, 0.022636363636363635, 0.025, 0.029363636363636363, 0.024636363636363637, 0.023181818181818182], \"x\": 7, \"line\": {\"color\": \"rgb(107,174,214)\"}, \"type\": \"box\", \"boxpoints\": \"suspectedoutliers\"}, {\"showlegend\": false, \"name\": 8, \"marker\": {\"color\": \"rgb(107,174,214)\", \"outliercolor\": \"rgba(219, 64, 82, 0.6)\", \"line\": {\"outlierwidth\": 2, \"outliercolor\": \"rgba(219, 64, 82, 0.6)\"}}, \"y\": [0.025363636363636363, 0.025363636363636363, 0.02518181818181818, 0.027545454545454547, 0.026454545454545456, 0.025727272727272727, 0.022636363636363635, 0.02490909090909091, 0.029545454545454545, 0.024636363636363637, 0.023090909090909092], \"x\": 8, \"line\": {\"color\": \"rgb(107,174,214)\"}, \"type\": \"box\", \"boxpoints\": \"suspectedoutliers\"}, {\"showlegend\": false, \"name\": 9, \"marker\": {\"color\": \"rgb(107,174,214)\", \"outliercolor\": \"rgba(219, 64, 82, 0.6)\", \"line\": {\"outlierwidth\": 2, \"outliercolor\": \"rgba(219, 64, 82, 0.6)\"}}, \"y\": [0.025454545454545455, 0.025363636363636363, 0.025363636363636363, 0.027545454545454547, 0.026454545454545456, 0.025727272727272727, 0.022636363636363635, 0.025, 0.029545454545454545, 0.024636363636363637, 0.023090909090909092], \"x\": 9, \"line\": {\"color\": \"rgb(107,174,214)\"}, \"type\": \"box\", \"boxpoints\": \"suspectedoutliers\"}, {\"showlegend\": false, \"name\": 10, \"marker\": {\"color\": \"rgb(107,174,214)\", \"outliercolor\": \"rgba(219, 64, 82, 0.6)\", \"line\": {\"outlierwidth\": 2, \"outliercolor\": \"rgba(219, 64, 82, 0.6)\"}}, \"y\": [0.025454545454545455, 0.025272727272727273, 0.025363636363636363, 0.027545454545454547, 0.026363636363636363, 0.025727272727272727, 0.022636363636363635, 0.025, 0.029727272727272727, 0.024454545454545455, 0.023], \"x\": 10, \"line\": {\"color\": \"rgb(107,174,214)\"}, \"type\": \"box\", \"boxpoints\": \"suspectedoutliers\"}, {\"showlegend\": false, \"name\": 11, \"marker\": {\"color\": \"rgb(107,174,214)\", \"outliercolor\": \"rgba(219, 64, 82, 0.6)\", \"line\": {\"outlierwidth\": 2, \"outliercolor\": \"rgba(219, 64, 82, 0.6)\"}}, \"y\": [0.025454545454545455, 0.025363636363636363, 0.025363636363636363, 0.027545454545454547, 0.026545454545454546, 0.025727272727272727, 0.022636363636363635, 0.025, 0.029727272727272727, 0.024545454545454544, 0.023], \"x\": 11, \"line\": {\"color\": \"rgb(107,174,214)\"}, \"type\": \"box\", \"boxpoints\": \"suspectedoutliers\"}, {\"showlegend\": false, \"name\": 12, \"marker\": {\"color\": \"rgb(107,174,214)\", \"outliercolor\": \"rgba(219, 64, 82, 0.6)\", \"line\": {\"outlierwidth\": 2, \"outliercolor\": \"rgba(219, 64, 82, 0.6)\"}}, \"y\": [0.025363636363636363, 0.025545454545454545, 0.025363636363636363, 0.027454545454545454, 0.026545454545454546, 0.025727272727272727, 0.022636363636363635, 0.025, 0.029727272727272727, 0.024545454545454544, 0.023], \"x\": 12, \"line\": {\"color\": \"rgb(107,174,214)\"}, \"type\": \"box\", \"boxpoints\": \"suspectedoutliers\"}, {\"showlegend\": false, \"name\": 13, \"marker\": {\"color\": \"rgb(107,174,214)\", \"outliercolor\": \"rgba(219, 64, 82, 0.6)\", \"line\": {\"outlierwidth\": 2, \"outliercolor\": \"rgba(219, 64, 82, 0.6)\"}}, \"y\": [0.025363636363636363, 0.025545454545454545, 0.025363636363636363, 0.027454545454545454, 0.026545454545454546, 0.025727272727272727, 0.022727272727272728, 0.02509090909090909, 0.02990909090909091, 0.024545454545454544, 0.023], \"x\": 13, \"line\": {\"color\": \"rgb(107,174,214)\"}, \"type\": \"box\", \"boxpoints\": \"suspectedoutliers\"}, {\"showlegend\": false, \"name\": 14, \"marker\": {\"color\": \"rgb(107,174,214)\", \"outliercolor\": \"rgba(219, 64, 82, 0.6)\", \"line\": {\"outlierwidth\": 2, \"outliercolor\": \"rgba(219, 64, 82, 0.6)\"}}, \"y\": [0.025363636363636363, 0.025636363636363638, 0.025363636363636363, 0.027545454545454547, 0.026545454545454546, 0.025818181818181817, 0.022727272727272728, 0.025272727272727273, 0.02990909090909091, 0.024545454545454544, 0.02290909090909091], \"x\": 14, \"line\": {\"color\": \"rgb(107,174,214)\"}, \"type\": \"box\", \"boxpoints\": \"suspectedoutliers\"}, {\"showlegend\": false, \"name\": 15, \"marker\": {\"color\": \"rgb(107,174,214)\", \"outliercolor\": \"rgba(219, 64, 82, 0.6)\", \"line\": {\"outlierwidth\": 2, \"outliercolor\": \"rgba(219, 64, 82, 0.6)\"}}, \"y\": [0.025363636363636363, 0.025545454545454545, 0.025363636363636363, 0.027545454545454547, 0.026545454545454546, 0.025727272727272727, 0.022818181818181817, 0.025272727272727273, 0.03, 0.024545454545454544, 0.02290909090909091], \"x\": 15, \"line\": {\"color\": \"rgb(107,174,214)\"}, \"type\": \"box\", \"boxpoints\": \"suspectedoutliers\"}, {\"showlegend\": false, \"name\": 16, \"marker\": {\"color\": \"rgb(107,174,214)\", \"outliercolor\": \"rgba(219, 64, 82, 0.6)\", \"line\": {\"outlierwidth\": 2, \"outliercolor\": \"rgba(219, 64, 82, 0.6)\"}}, \"y\": [0.025363636363636363, 0.025454545454545455, 0.025363636363636363, 0.027636363636363636, 0.026454545454545456, 0.025818181818181817, 0.022818181818181817, 0.025363636363636363, 0.03, 0.024545454545454544, 0.023], \"x\": 16, \"line\": {\"color\": \"rgb(107,174,214)\"}, \"type\": \"box\", \"boxpoints\": \"suspectedoutliers\"}, {\"showlegend\": false, \"name\": 17, \"marker\": {\"color\": \"rgb(107,174,214)\", \"outliercolor\": \"rgba(219, 64, 82, 0.6)\", \"line\": {\"outlierwidth\": 2, \"outliercolor\": \"rgba(219, 64, 82, 0.6)\"}}, \"y\": [0.02518181818181818, 0.025454545454545455, 0.025272727272727273, 0.02772727272727273, 0.026454545454545456, 0.025818181818181817, 0.022727272727272728, 0.025363636363636363, 0.030090909090909092, 0.024545454545454544, 0.023], \"x\": 17, \"line\": {\"color\": \"rgb(107,174,214)\"}, \"type\": \"box\", \"boxpoints\": \"suspectedoutliers\"}, {\"showlegend\": false, \"name\": 18, \"marker\": {\"color\": \"rgb(107,174,214)\", \"outliercolor\": \"rgba(219, 64, 82, 0.6)\", \"line\": {\"outlierwidth\": 2, \"outliercolor\": \"rgba(219, 64, 82, 0.6)\"}}, \"y\": [0.025272727272727273, 0.025363636363636363, 0.025272727272727273, 0.02772727272727273, 0.026454545454545456, 0.025818181818181817, 0.022727272727272728, 0.025363636363636363, 0.030272727272727274, 0.024545454545454544, 0.023], \"x\": 18, \"line\": {\"color\": \"rgb(107,174,214)\"}, \"type\": \"box\", \"boxpoints\": \"suspectedoutliers\"}, {\"showlegend\": false, \"name\": 19, \"marker\": {\"color\": \"rgb(107,174,214)\", \"outliercolor\": \"rgba(219, 64, 82, 0.6)\", \"line\": {\"outlierwidth\": 2, \"outliercolor\": \"rgba(219, 64, 82, 0.6)\"}}, \"y\": [0.025272727272727273, 0.025363636363636363, 0.025272727272727273, 0.02772727272727273, 0.026545454545454546, 0.025818181818181817, 0.022636363636363635, 0.025363636363636363, 0.030272727272727274, 0.024545454545454544, 0.023], \"x\": 19, \"line\": {\"color\": \"rgb(107,174,214)\"}, \"type\": \"box\", \"boxpoints\": \"suspectedoutliers\"}, {\"showlegend\": false, \"name\": 20, \"marker\": {\"color\": \"rgb(107,174,214)\", \"outliercolor\": \"rgba(219, 64, 82, 0.6)\", \"line\": {\"outlierwidth\": 2, \"outliercolor\": \"rgba(219, 64, 82, 0.6)\"}}, \"y\": [0.02518181818181818, 0.025363636363636363, 0.025454545454545455, 0.027636363636363636, 0.026545454545454546, 0.025818181818181817, 0.022636363636363635, 0.025454545454545455, 0.030272727272727274, 0.024545454545454544, 0.023], \"x\": 20, \"line\": {\"color\": \"rgb(107,174,214)\"}, \"type\": \"box\", \"boxpoints\": \"suspectedoutliers\"}, {\"showlegend\": false, \"name\": 21, \"marker\": {\"color\": \"rgb(107,174,214)\", \"outliercolor\": \"rgba(219, 64, 82, 0.6)\", \"line\": {\"outlierwidth\": 2, \"outliercolor\": \"rgba(219, 64, 82, 0.6)\"}}, \"y\": [0.025363636363636363, 0.025363636363636363, 0.025545454545454545, 0.027636363636363636, 0.026545454545454546, 0.025818181818181817, 0.022636363636363635, 0.025454545454545455, 0.030272727272727274, 0.024727272727272726, 0.02290909090909091], \"x\": 21, \"line\": {\"color\": \"rgb(107,174,214)\"}, \"type\": \"box\", \"boxpoints\": \"suspectedoutliers\"}, {\"showlegend\": false, \"name\": 22, \"marker\": {\"color\": \"rgb(107,174,214)\", \"outliercolor\": \"rgba(219, 64, 82, 0.6)\", \"line\": {\"outlierwidth\": 2, \"outliercolor\": \"rgba(219, 64, 82, 0.6)\"}}, \"y\": [0.025363636363636363, 0.025454545454545455, 0.025636363636363638, 0.02781818181818182, 0.026545454545454546, 0.025727272727272727, 0.022636363636363635, 0.025545454545454545, 0.030272727272727274, 0.024727272727272726, 0.02290909090909091], \"x\": 22, \"line\": {\"color\": \"rgb(107,174,214)\"}, \"type\": \"box\", \"boxpoints\": \"suspectedoutliers\"}, {\"showlegend\": false, \"name\": 23, \"marker\": {\"color\": \"rgb(107,174,214)\", \"outliercolor\": \"rgba(219, 64, 82, 0.6)\", \"line\": {\"outlierwidth\": 2, \"outliercolor\": \"rgba(219, 64, 82, 0.6)\"}}, \"y\": [0.025272727272727273, 0.025545454545454545, 0.025727272727272727, 0.027909090909090908, 0.026545454545454546, 0.025727272727272727, 0.022727272727272728, 0.025636363636363638, 0.030363636363636363, 0.024727272727272726, 0.022818181818181817], \"x\": 23, \"line\": {\"color\": \"rgb(107,174,214)\"}, \"type\": \"box\", \"boxpoints\": \"suspectedoutliers\"}, {\"showlegend\": false, \"name\": 24, \"marker\": {\"color\": \"rgb(107,174,214)\", \"outliercolor\": \"rgba(219, 64, 82, 0.6)\", \"line\": {\"outlierwidth\": 2, \"outliercolor\": \"rgba(219, 64, 82, 0.6)\"}}, \"y\": [0.025363636363636363, 0.025636363636363638, 0.025545454545454545, 0.027909090909090908, 0.026545454545454546, 0.025727272727272727, 0.022636363636363635, 0.025636363636363638, 0.030454545454545453, 0.02481818181818182, 0.02290909090909091], \"x\": 24, \"line\": {\"color\": \"rgb(107,174,214)\"}, \"type\": \"box\", \"boxpoints\": \"suspectedoutliers\"}, {\"showlegend\": false, \"name\": 25, \"marker\": {\"color\": \"rgb(107,174,214)\", \"outliercolor\": \"rgba(219, 64, 82, 0.6)\", \"line\": {\"outlierwidth\": 2, \"outliercolor\": \"rgba(219, 64, 82, 0.6)\"}}, \"y\": [0.025363636363636363, 0.025727272727272727, 0.025363636363636363, 0.027909090909090908, 0.026272727272727274, 0.025727272727272727, 0.022727272727272728, 0.025636363636363638, 0.030454545454545453, 0.02490909090909091, 0.02290909090909091], \"x\": 25, \"line\": {\"color\": \"rgb(107,174,214)\"}, \"type\": \"box\", \"boxpoints\": \"suspectedoutliers\"}, {\"showlegend\": false, \"name\": 26, \"marker\": {\"color\": \"rgb(107,174,214)\", \"outliercolor\": \"rgba(219, 64, 82, 0.6)\", \"line\": {\"outlierwidth\": 2, \"outliercolor\": \"rgba(219, 64, 82, 0.6)\"}}, \"y\": [0.025272727272727273, 0.02590909090909091, 0.025363636363636363, 0.027909090909090908, 0.026272727272727274, 0.025636363636363638, 0.022727272727272728, 0.025727272727272727, 0.030454545454545453, 0.02490909090909091, 0.02290909090909091], \"x\": 26, \"line\": {\"color\": \"rgb(107,174,214)\"}, \"type\": \"box\", \"boxpoints\": \"suspectedoutliers\"}, {\"showlegend\": false, \"name\": 27, \"marker\": {\"color\": \"rgb(107,174,214)\", \"outliercolor\": \"rgba(219, 64, 82, 0.6)\", \"line\": {\"outlierwidth\": 2, \"outliercolor\": \"rgba(219, 64, 82, 0.6)\"}}, \"y\": [0.025363636363636363, 0.02590909090909091, 0.025363636363636363, 0.027909090909090908, 0.026363636363636363, 0.025818181818181817, 0.022818181818181817, 0.025727272727272727, 0.030272727272727274, 0.024727272727272726, 0.02290909090909091], \"x\": 27, \"line\": {\"color\": \"rgb(107,174,214)\"}, \"type\": \"box\", \"boxpoints\": \"suspectedoutliers\"}, {\"showlegend\": false, \"name\": 28, \"marker\": {\"color\": \"rgb(107,174,214)\", \"outliercolor\": \"rgba(219, 64, 82, 0.6)\", \"line\": {\"outlierwidth\": 2, \"outliercolor\": \"rgba(219, 64, 82, 0.6)\"}}, \"y\": [0.025454545454545455, 0.02590909090909091, 0.025363636363636363, 0.02781818181818182, 0.026363636363636363, 0.025818181818181817, 0.022818181818181817, 0.025818181818181817, 0.030363636363636363, 0.02490909090909091, 0.02290909090909091], \"x\": 28, \"line\": {\"color\": \"rgb(107,174,214)\"}, \"type\": \"box\", \"boxpoints\": \"suspectedoutliers\"}, {\"showlegend\": false, \"name\": 29, \"marker\": {\"color\": \"rgb(107,174,214)\", \"outliercolor\": \"rgba(219, 64, 82, 0.6)\", \"line\": {\"outlierwidth\": 2, \"outliercolor\": \"rgba(219, 64, 82, 0.6)\"}}, \"y\": [0.025363636363636363, 0.02590909090909091, 0.025363636363636363, 0.027909090909090908, 0.026363636363636363, 0.02590909090909091, 0.022818181818181817, 0.02590909090909091, 0.030454545454545453, 0.025, 0.02290909090909091], \"x\": 29, \"line\": {\"color\": \"rgb(107,174,214)\"}, \"type\": \"box\", \"boxpoints\": \"suspectedoutliers\"}, {\"showlegend\": false, \"name\": 30, \"marker\": {\"color\": \"rgb(107,174,214)\", \"outliercolor\": \"rgba(219, 64, 82, 0.6)\", \"line\": {\"outlierwidth\": 2, \"outliercolor\": \"rgba(219, 64, 82, 0.6)\"}}, \"y\": [0.025545454545454545, 0.02590909090909091, 0.025363636363636363, 0.027909090909090908, 0.026363636363636363, 0.026, 0.022727272727272728, 0.025818181818181817, 0.030454545454545453, 0.02509090909090909, 0.02290909090909091], \"x\": 30, \"line\": {\"color\": \"rgb(107,174,214)\"}, \"type\": \"box\", \"boxpoints\": \"suspectedoutliers\"}, {\"showlegend\": false, \"name\": 31, \"marker\": {\"color\": \"rgb(107,174,214)\", \"outliercolor\": \"rgba(219, 64, 82, 0.6)\", \"line\": {\"outlierwidth\": 2, \"outliercolor\": \"rgba(219, 64, 82, 0.6)\"}}, \"y\": [0.025545454545454545, 0.02590909090909091, 0.025272727272727273, 0.027909090909090908, 0.026363636363636363, 0.026, 0.022727272727272728, 0.02590909090909091, 0.030454545454545453, 0.02509090909090909, 0.02290909090909091], \"x\": 31, \"line\": {\"color\": \"rgb(107,174,214)\"}, \"type\": \"box\", \"boxpoints\": \"suspectedoutliers\"}, {\"showlegend\": false, \"name\": 32, \"marker\": {\"color\": \"rgb(107,174,214)\", \"outliercolor\": \"rgba(219, 64, 82, 0.6)\", \"line\": {\"outlierwidth\": 2, \"outliercolor\": \"rgba(219, 64, 82, 0.6)\"}}, \"y\": [0.025545454545454545, 0.025818181818181817, 0.025272727272727273, 0.027909090909090908, 0.026454545454545456, 0.026, 0.022727272727272728, 0.02590909090909091, 0.030727272727272728, 0.025, 0.022818181818181817], \"x\": 32, \"line\": {\"color\": \"rgb(107,174,214)\"}, \"type\": \"box\", \"boxpoints\": \"suspectedoutliers\"}, {\"showlegend\": false, \"name\": 33, \"marker\": {\"color\": \"rgb(107,174,214)\", \"outliercolor\": \"rgba(219, 64, 82, 0.6)\", \"line\": {\"outlierwidth\": 2, \"outliercolor\": \"rgba(219, 64, 82, 0.6)\"}}, \"y\": [0.025454545454545455, 0.025818181818181817, 0.025272727272727273, 0.028, 0.026363636363636363, 0.026, 0.022727272727272728, 0.02590909090909091, 0.030727272727272728, 0.02490909090909091, 0.023], \"x\": 33, \"line\": {\"color\": \"rgb(107,174,214)\"}, \"type\": \"box\", \"boxpoints\": \"suspectedoutliers\"}, {\"showlegend\": false, \"name\": 34, \"marker\": {\"color\": \"rgb(107,174,214)\", \"outliercolor\": \"rgba(219, 64, 82, 0.6)\", \"line\": {\"outlierwidth\": 2, \"outliercolor\": \"rgba(219, 64, 82, 0.6)\"}}, \"y\": [0.025545454545454545, 0.02590909090909091, 0.025272727272727273, 0.028181818181818183, 0.026363636363636363, 0.026, 0.022727272727272728, 0.02590909090909091, 0.030636363636363635, 0.02490909090909091, 0.023], \"x\": 34, \"line\": {\"color\": \"rgb(107,174,214)\"}, \"type\": \"box\", \"boxpoints\": \"suspectedoutliers\"}, {\"showlegend\": false, \"name\": 35, \"marker\": {\"color\": \"rgb(107,174,214)\", \"outliercolor\": \"rgba(219, 64, 82, 0.6)\", \"line\": {\"outlierwidth\": 2, \"outliercolor\": \"rgba(219, 64, 82, 0.6)\"}}, \"y\": [0.025636363636363638, 0.025818181818181817, 0.02518181818181818, 0.028181818181818183, 0.026363636363636363, 0.02590909090909091, 0.022727272727272728, 0.025818181818181817, 0.030727272727272728, 0.025, 0.02290909090909091], \"x\": 35, \"line\": {\"color\": \"rgb(107,174,214)\"}, \"type\": \"box\", \"boxpoints\": \"suspectedoutliers\"}, {\"showlegend\": false, \"name\": 36, \"marker\": {\"color\": \"rgb(107,174,214)\", \"outliercolor\": \"rgba(219, 64, 82, 0.6)\", \"line\": {\"outlierwidth\": 2, \"outliercolor\": \"rgba(219, 64, 82, 0.6)\"}}, \"y\": [0.025727272727272727, 0.025818181818181817, 0.02518181818181818, 0.028181818181818183, 0.026363636363636363, 0.02590909090909091, 0.022818181818181817, 0.025818181818181817, 0.030818181818181817, 0.02518181818181818, 0.02290909090909091], \"x\": 36, \"line\": {\"color\": \"rgb(107,174,214)\"}, \"type\": \"box\", \"boxpoints\": \"suspectedoutliers\"}, {\"showlegend\": false, \"name\": 37, \"marker\": {\"color\": \"rgb(107,174,214)\", \"outliercolor\": \"rgba(219, 64, 82, 0.6)\", \"line\": {\"outlierwidth\": 2, \"outliercolor\": \"rgba(219, 64, 82, 0.6)\"}}, \"y\": [0.025545454545454545, 0.025818181818181817, 0.02518181818181818, 0.028181818181818183, 0.026363636363636363, 0.026, 0.022727272727272728, 0.025818181818181817, 0.030818181818181817, 0.02509090909090909, 0.02290909090909091], \"x\": 37, \"line\": {\"color\": \"rgb(107,174,214)\"}, \"type\": \"box\", \"boxpoints\": \"suspectedoutliers\"}, {\"showlegend\": false, \"name\": 38, \"marker\": {\"color\": \"rgb(107,174,214)\", \"outliercolor\": \"rgba(219, 64, 82, 0.6)\", \"line\": {\"outlierwidth\": 2, \"outliercolor\": \"rgba(219, 64, 82, 0.6)\"}}, \"y\": [0.025454545454545455, 0.025818181818181817, 0.025272727272727273, 0.028181818181818183, 0.026454545454545456, 0.02609090909090909, 0.022636363636363635, 0.025727272727272727, 0.030818181818181817, 0.02518181818181818, 0.02290909090909091], \"x\": 38, \"line\": {\"color\": \"rgb(107,174,214)\"}, \"type\": \"box\", \"boxpoints\": \"suspectedoutliers\"}, {\"showlegend\": false, \"name\": 39, \"marker\": {\"color\": \"rgb(107,174,214)\", \"outliercolor\": \"rgba(219, 64, 82, 0.6)\", \"line\": {\"outlierwidth\": 2, \"outliercolor\": \"rgba(219, 64, 82, 0.6)\"}}, \"y\": [0.025454545454545455, 0.026, 0.02518181818181818, 0.028181818181818183, 0.026454545454545456, 0.02609090909090909, 0.022636363636363635, 0.025636363636363638, 0.030818181818181817, 0.02518181818181818, 0.023], \"x\": 39, \"line\": {\"color\": \"rgb(107,174,214)\"}, \"type\": \"box\", \"boxpoints\": \"suspectedoutliers\"}, {\"showlegend\": false, \"name\": 40, \"marker\": {\"color\": \"rgb(107,174,214)\", \"outliercolor\": \"rgba(219, 64, 82, 0.6)\", \"line\": {\"outlierwidth\": 2, \"outliercolor\": \"rgba(219, 64, 82, 0.6)\"}}, \"y\": [0.025454545454545455, 0.02609090909090909, 0.02518181818181818, 0.02809090909090909, 0.026454545454545456, 0.02618181818181818, 0.022545454545454546, 0.025636363636363638, 0.030818181818181817, 0.02518181818181818, 0.022818181818181817], \"x\": 40, \"line\": {\"color\": \"rgb(107,174,214)\"}, \"type\": \"box\", \"boxpoints\": \"suspectedoutliers\"}, {\"showlegend\": false, \"name\": 41, \"marker\": {\"color\": \"rgb(107,174,214)\", \"outliercolor\": \"rgba(219, 64, 82, 0.6)\", \"line\": {\"outlierwidth\": 2, \"outliercolor\": \"rgba(219, 64, 82, 0.6)\"}}, \"y\": [0.025363636363636363, 0.02609090909090909, 0.02518181818181818, 0.02809090909090909, 0.026454545454545456, 0.02618181818181818, 0.022545454545454546, 0.025727272727272727, 0.03090909090909091, 0.02518181818181818, 0.022818181818181817], \"x\": 41, \"line\": {\"color\": \"rgb(107,174,214)\"}, \"type\": \"box\", \"boxpoints\": \"suspectedoutliers\"}, {\"showlegend\": false, \"name\": 42, \"marker\": {\"color\": \"rgb(107,174,214)\", \"outliercolor\": \"rgba(219, 64, 82, 0.6)\", \"line\": {\"outlierwidth\": 2, \"outliercolor\": \"rgba(219, 64, 82, 0.6)\"}}, \"y\": [0.025454545454545455, 0.02609090909090909, 0.02509090909090909, 0.02809090909090909, 0.026454545454545456, 0.02618181818181818, 0.022727272727272728, 0.02590909090909091, 0.031, 0.025272727272727273, 0.02290909090909091], \"x\": 42, \"line\": {\"color\": \"rgb(107,174,214)\"}, \"type\": \"box\", \"boxpoints\": \"suspectedoutliers\"}, {\"showlegend\": false, \"name\": 43, \"marker\": {\"color\": \"rgb(107,174,214)\", \"outliercolor\": \"rgba(219, 64, 82, 0.6)\", \"line\": {\"outlierwidth\": 2, \"outliercolor\": \"rgba(219, 64, 82, 0.6)\"}}, \"y\": [0.025454545454545455, 0.02609090909090909, 0.025, 0.028, 0.026454545454545456, 0.02609090909090909, 0.022636363636363635, 0.02590909090909091, 0.031, 0.025363636363636363, 0.02290909090909091], \"x\": 43, \"line\": {\"color\": \"rgb(107,174,214)\"}, \"type\": \"box\", \"boxpoints\": \"suspectedoutliers\"}, {\"showlegend\": false, \"name\": 44, \"marker\": {\"color\": \"rgb(107,174,214)\", \"outliercolor\": \"rgba(219, 64, 82, 0.6)\", \"line\": {\"outlierwidth\": 2, \"outliercolor\": \"rgba(219, 64, 82, 0.6)\"}}, \"y\": [0.025545454545454545, 0.02618181818181818, 0.025, 0.028, 0.026545454545454546, 0.026, 0.022636363636363635, 0.026, 0.03090909090909091, 0.025363636363636363, 0.022727272727272728], \"x\": 44, \"line\": {\"color\": \"rgb(107,174,214)\"}, \"type\": \"box\", \"boxpoints\": \"suspectedoutliers\"}, {\"showlegend\": false, \"name\": 45, \"marker\": {\"color\": \"rgb(107,174,214)\", \"outliercolor\": \"rgba(219, 64, 82, 0.6)\", \"line\": {\"outlierwidth\": 2, \"outliercolor\": \"rgba(219, 64, 82, 0.6)\"}}, \"y\": [0.025454545454545455, 0.02618181818181818, 0.02490909090909091, 0.028, 0.026636363636363635, 0.026, 0.022545454545454546, 0.026, 0.031, 0.025363636363636363, 0.022818181818181817], \"x\": 45, \"line\": {\"color\": \"rgb(107,174,214)\"}, \"type\": \"box\", \"boxpoints\": \"suspectedoutliers\"}, {\"showlegend\": false, \"name\": 46, \"marker\": {\"color\": \"rgb(107,174,214)\", \"outliercolor\": \"rgba(219, 64, 82, 0.6)\", \"line\": {\"outlierwidth\": 2, \"outliercolor\": \"rgba(219, 64, 82, 0.6)\"}}, \"y\": [0.025454545454545455, 0.02618181818181818, 0.025, 0.028, 0.026818181818181817, 0.026, 0.022545454545454546, 0.026, 0.031, 0.025363636363636363, 0.022818181818181817], \"x\": 46, \"line\": {\"color\": \"rgb(107,174,214)\"}, \"type\": \"box\", \"boxpoints\": \"suspectedoutliers\"}, {\"showlegend\": false, \"name\": 47, \"marker\": {\"color\": \"rgb(107,174,214)\", \"outliercolor\": \"rgba(219, 64, 82, 0.6)\", \"line\": {\"outlierwidth\": 2, \"outliercolor\": \"rgba(219, 64, 82, 0.6)\"}}, \"y\": [0.025636363636363638, 0.02609090909090909, 0.025, 0.027909090909090908, 0.026818181818181817, 0.02609090909090909, 0.022545454545454546, 0.026, 0.031181818181818182, 0.025454545454545455, 0.022636363636363635], \"x\": 47, \"line\": {\"color\": \"rgb(107,174,214)\"}, \"type\": \"box\", \"boxpoints\": \"suspectedoutliers\"}, {\"showlegend\": false, \"name\": \"Mean\", \"mode\": \"lines\", \"y\": [0.025181818181818184, 0.02528925619834711, 0.025363636363636363, 0.025413223140495867, 0.02542148760330579, 0.025454545454545455, 0.02547107438016529, 0.02547107438016529, 0.02549586776859504, 0.02552892561983471, 0.02550413223140496, 0.025537190082644632, 0.025537190082644632, 0.025570247933884297, 0.025603305785123973, 0.025603305785123973, 0.025619834710743805, 0.025603305785123973, 0.025619834710743805, 0.025619834710743805, 0.02562809917355372, 0.02566115702479339, 0.025694214876033062, 0.025727272727272724, 0.025743801652892563, 0.02572727272727273, 0.025735537190082647, 0.025743801652892563, 0.025776859504132235, 0.025809917355371904, 0.025826446280991736, 0.025826446280991736, 0.02583471074380165, 0.025834710743801656, 0.025859504132231412, 0.025842975206611572, 0.02588429752066116, 0.025859504132231405, 0.02586776859504132, 0.02587603305785124, 0.0258595041322314, 0.025867768595041318, 0.025925619834710745, 0.025900826446280997, 0.02590082644628099, 0.025900826446280986, 0.025925619834710742, 0.025942148760330578], \"x\": [1, 2, 3, 4, 5, 6, 7, 8, 9, 10, 11, 12, 13, 14, 15, 16, 17, 18, 19, 20, 21, 22, 23, 24, 25, 26, 27, 28, 29, 30, 31, 32, 33, 34, 35, 36, 37, 38, 39, 40, 41, 42, 43, 44, 45, 46, 47], \"type\": \"scatter\"}], {}, {\"linkText\": \"Export to plot.ly\", \"showLink\": true})});</script>"
      ]
     },
     "metadata": {},
     "output_type": "display_data"
    },
    {
     "data": {
      "application/vnd.plotly.v1+json": {
       "data": [
        {
         "boxpoints": "suspectedoutliers",
         "line": {
          "color": "rgb(107,174,214)"
         },
         "marker": {
          "color": "rgb(107,174,214)",
          "line": {
           "outliercolor": "rgba(219, 64, 82, 0.6)",
           "outlierwidth": 2
          },
          "outliercolor": "rgba(219, 64, 82, 0.6)"
         },
         "name": 0,
         "showlegend": false,
         "type": "box",
         "x": 0,
         "y": [
          7626,
          7681,
          7521,
          7526,
          7355,
          7472,
          7525,
          7524,
          7455,
          7472,
          7405
         ]
        },
        {
         "boxpoints": "suspectedoutliers",
         "line": {
          "color": "rgb(107,174,214)"
         },
         "marker": {
          "color": "rgb(107,174,214)",
          "line": {
           "outliercolor": "rgba(219, 64, 82, 0.6)",
           "outlierwidth": 2
          },
          "outliercolor": "rgba(219, 64, 82, 0.6)"
         },
         "name": 1,
         "showlegend": false,
         "type": "box",
         "x": 1,
         "y": [
          7707,
          7703,
          7535,
          7557,
          7446,
          7566,
          7587,
          7594,
          7560,
          7619,
          7479
         ]
        },
        {
         "boxpoints": "suspectedoutliers",
         "line": {
          "color": "rgb(107,174,214)"
         },
         "marker": {
          "color": "rgb(107,174,214)",
          "line": {
           "outliercolor": "rgba(219, 64, 82, 0.6)",
           "outlierwidth": 2
          },
          "outliercolor": "rgba(219, 64, 82, 0.6)"
         },
         "name": 2,
         "showlegend": false,
         "type": "box",
         "x": 2,
         "y": [
          7755,
          7709,
          7600,
          7601,
          7544,
          7692,
          7658,
          7585,
          7629,
          7625,
          7561
         ]
        },
        {
         "boxpoints": "suspectedoutliers",
         "line": {
          "color": "rgb(107,174,214)"
         },
         "marker": {
          "color": "rgb(107,174,214)",
          "line": {
           "outliercolor": "rgba(219, 64, 82, 0.6)",
           "outlierwidth": 2
          },
          "outliercolor": "rgba(219, 64, 82, 0.6)"
         },
         "name": 3,
         "showlegend": false,
         "type": "box",
         "x": 3,
         "y": [
          7773,
          7787,
          7712,
          7569,
          7594,
          7767,
          7672,
          7605,
          7653,
          7656,
          7617
         ]
        },
        {
         "boxpoints": "suspectedoutliers",
         "line": {
          "color": "rgb(107,174,214)"
         },
         "marker": {
          "color": "rgb(107,174,214)",
          "line": {
           "outliercolor": "rgba(219, 64, 82, 0.6)",
           "outlierwidth": 2
          },
          "outliercolor": "rgba(219, 64, 82, 0.6)"
         },
         "name": 4,
         "showlegend": false,
         "type": "box",
         "x": 4,
         "y": [
          7838,
          7808,
          7747,
          7653,
          7623,
          7793,
          7746,
          7695,
          7737,
          7694,
          7673
         ]
        },
        {
         "boxpoints": "suspectedoutliers",
         "line": {
          "color": "rgb(107,174,214)"
         },
         "marker": {
          "color": "rgb(107,174,214)",
          "line": {
           "outliercolor": "rgba(219, 64, 82, 0.6)",
           "outlierwidth": 2
          },
          "outliercolor": "rgba(219, 64, 82, 0.6)"
         },
         "name": 5,
         "showlegend": false,
         "type": "box",
         "x": 5,
         "y": [
          7891,
          7811,
          7844,
          7683,
          7629,
          7826,
          7829,
          7722,
          7800,
          7708,
          7736
         ]
        },
        {
         "boxpoints": "suspectedoutliers",
         "line": {
          "color": "rgb(107,174,214)"
         },
         "marker": {
          "color": "rgb(107,174,214)",
          "line": {
           "outliercolor": "rgba(219, 64, 82, 0.6)",
           "outlierwidth": 2
          },
          "outliercolor": "rgba(219, 64, 82, 0.6)"
         },
         "name": 6,
         "showlegend": false,
         "type": "box",
         "x": 6,
         "y": [
          7949,
          7893,
          7842,
          7763,
          7681,
          7878,
          7827,
          7737,
          7826,
          7745,
          7850
         ]
        },
        {
         "boxpoints": "suspectedoutliers",
         "line": {
          "color": "rgb(107,174,214)"
         },
         "marker": {
          "color": "rgb(107,174,214)",
          "line": {
           "outliercolor": "rgba(219, 64, 82, 0.6)",
           "outlierwidth": 2
          },
          "outliercolor": "rgba(219, 64, 82, 0.6)"
         },
         "name": 7,
         "showlegend": false,
         "type": "box",
         "x": 7,
         "y": [
          7932,
          7870,
          7850,
          7767,
          7689,
          7917,
          7919,
          7770,
          7895,
          7783,
          7919
         ]
        },
        {
         "boxpoints": "suspectedoutliers",
         "line": {
          "color": "rgb(107,174,214)"
         },
         "marker": {
          "color": "rgb(107,174,214)",
          "line": {
           "outliercolor": "rgba(219, 64, 82, 0.6)",
           "outlierwidth": 2
          },
          "outliercolor": "rgba(219, 64, 82, 0.6)"
         },
         "name": 8,
         "showlegend": false,
         "type": "box",
         "x": 8,
         "y": [
          8027,
          7853,
          7853,
          7831,
          7734,
          7979,
          7959,
          7793,
          7939,
          7869,
          7951
         ]
        },
        {
         "boxpoints": "suspectedoutliers",
         "line": {
          "color": "rgb(107,174,214)"
         },
         "marker": {
          "color": "rgb(107,174,214)",
          "line": {
           "outliercolor": "rgba(219, 64, 82, 0.6)",
           "outlierwidth": 2
          },
          "outliercolor": "rgba(219, 64, 82, 0.6)"
         },
         "name": 9,
         "showlegend": false,
         "type": "box",
         "x": 9,
         "y": [
          7995,
          7893,
          7847,
          7877,
          7744,
          8038,
          8009,
          7811,
          7984,
          7888,
          8004
         ]
        },
        {
         "boxpoints": "suspectedoutliers",
         "line": {
          "color": "rgb(107,174,214)"
         },
         "marker": {
          "color": "rgb(107,174,214)",
          "line": {
           "outliercolor": "rgba(219, 64, 82, 0.6)",
           "outlierwidth": 2
          },
          "outliercolor": "rgba(219, 64, 82, 0.6)"
         },
         "name": 10,
         "showlegend": false,
         "type": "box",
         "x": 10,
         "y": [
          7979,
          7878,
          7899,
          7928,
          7796,
          7984,
          7989,
          7847,
          7978,
          7896,
          7971
         ]
        },
        {
         "boxpoints": "suspectedoutliers",
         "line": {
          "color": "rgb(107,174,214)"
         },
         "marker": {
          "color": "rgb(107,174,214)",
          "line": {
           "outliercolor": "rgba(219, 64, 82, 0.6)",
           "outlierwidth": 2
          },
          "outliercolor": "rgba(219, 64, 82, 0.6)"
         },
         "name": 11,
         "showlegend": false,
         "type": "box",
         "x": 11,
         "y": [
          7983,
          7875,
          7918,
          7981,
          7746,
          7979,
          8052,
          7861,
          7932,
          7876,
          7914
         ]
        },
        {
         "boxpoints": "suspectedoutliers",
         "line": {
          "color": "rgb(107,174,214)"
         },
         "marker": {
          "color": "rgb(107,174,214)",
          "line": {
           "outliercolor": "rgba(219, 64, 82, 0.6)",
           "outlierwidth": 2
          },
          "outliercolor": "rgba(219, 64, 82, 0.6)"
         },
         "name": 12,
         "showlegend": false,
         "type": "box",
         "x": 12,
         "y": [
          7984,
          7822,
          7937,
          7928,
          7764,
          7998,
          8035,
          7805,
          7971,
          7869,
          7889
         ]
        },
        {
         "boxpoints": "suspectedoutliers",
         "line": {
          "color": "rgb(107,174,214)"
         },
         "marker": {
          "color": "rgb(107,174,214)",
          "line": {
           "outliercolor": "rgba(219, 64, 82, 0.6)",
           "outlierwidth": 2
          },
          "outliercolor": "rgba(219, 64, 82, 0.6)"
         },
         "name": 13,
         "showlegend": false,
         "type": "box",
         "x": 13,
         "y": [
          7958,
          7815,
          7868,
          7901,
          7740,
          8017,
          7960,
          7790,
          7975,
          7835,
          7850
         ]
        },
        {
         "boxpoints": "suspectedoutliers",
         "line": {
          "color": "rgb(107,174,214)"
         },
         "marker": {
          "color": "rgb(107,174,214)",
          "line": {
           "outliercolor": "rgba(219, 64, 82, 0.6)",
           "outlierwidth": 2
          },
          "outliercolor": "rgba(219, 64, 82, 0.6)"
         },
         "name": 14,
         "showlegend": false,
         "type": "box",
         "x": 14,
         "y": [
          7899,
          7755,
          7861,
          7884,
          7765,
          8015,
          7962,
          7780,
          7958,
          7830,
          7815
         ]
        },
        {
         "boxpoints": "suspectedoutliers",
         "line": {
          "color": "rgb(107,174,214)"
         },
         "marker": {
          "color": "rgb(107,174,214)",
          "line": {
           "outliercolor": "rgba(219, 64, 82, 0.6)",
           "outlierwidth": 2
          },
          "outliercolor": "rgba(219, 64, 82, 0.6)"
         },
         "name": 15,
         "showlegend": false,
         "type": "box",
         "x": 15,
         "y": [
          7919,
          7664,
          7879,
          7910,
          7766,
          8003,
          7929,
          7780,
          7937,
          7795,
          7802
         ]
        },
        {
         "boxpoints": "suspectedoutliers",
         "line": {
          "color": "rgb(107,174,214)"
         },
         "marker": {
          "color": "rgb(107,174,214)",
          "line": {
           "outliercolor": "rgba(219, 64, 82, 0.6)",
           "outlierwidth": 2
          },
          "outliercolor": "rgba(219, 64, 82, 0.6)"
         },
         "name": 16,
         "showlegend": false,
         "type": "box",
         "x": 16,
         "y": [
          7950,
          7613,
          7895,
          7913,
          7780,
          7994,
          7923,
          7719,
          7943,
          7764,
          7815
         ]
        },
        {
         "boxpoints": "suspectedoutliers",
         "line": {
          "color": "rgb(107,174,214)"
         },
         "marker": {
          "color": "rgb(107,174,214)",
          "line": {
           "outliercolor": "rgba(219, 64, 82, 0.6)",
           "outlierwidth": 2
          },
          "outliercolor": "rgba(219, 64, 82, 0.6)"
         },
         "name": 17,
         "showlegend": false,
         "type": "box",
         "x": 17,
         "y": [
          7923,
          7586,
          7936,
          7920,
          7745,
          7955,
          7896,
          7678,
          7933,
          7808,
          7827
         ]
        },
        {
         "boxpoints": "suspectedoutliers",
         "line": {
          "color": "rgb(107,174,214)"
         },
         "marker": {
          "color": "rgb(107,174,214)",
          "line": {
           "outliercolor": "rgba(219, 64, 82, 0.6)",
           "outlierwidth": 2
          },
          "outliercolor": "rgba(219, 64, 82, 0.6)"
         },
         "name": 18,
         "showlegend": false,
         "type": "box",
         "x": 18,
         "y": [
          7889,
          7551,
          7842,
          7900,
          7677,
          7961,
          7889,
          7667,
          7906,
          7788,
          7783
         ]
        },
        {
         "boxpoints": "suspectedoutliers",
         "line": {
          "color": "rgb(107,174,214)"
         },
         "marker": {
          "color": "rgb(107,174,214)",
          "line": {
           "outliercolor": "rgba(219, 64, 82, 0.6)",
           "outlierwidth": 2
          },
          "outliercolor": "rgba(219, 64, 82, 0.6)"
         },
         "name": 19,
         "showlegend": false,
         "type": "box",
         "x": 19,
         "y": [
          7892,
          7519,
          7774,
          7896,
          7667,
          7932,
          7802,
          7645,
          7919,
          7754,
          7758
         ]
        },
        {
         "boxpoints": "suspectedoutliers",
         "line": {
          "color": "rgb(107,174,214)"
         },
         "marker": {
          "color": "rgb(107,174,214)",
          "line": {
           "outliercolor": "rgba(219, 64, 82, 0.6)",
           "outlierwidth": 2
          },
          "outliercolor": "rgba(219, 64, 82, 0.6)"
         },
         "name": 20,
         "showlegend": false,
         "type": "box",
         "x": 20,
         "y": [
          7824,
          7512,
          7751,
          7819,
          7675,
          7930,
          7758,
          7629,
          7907,
          7722,
          7753
         ]
        },
        {
         "boxpoints": "suspectedoutliers",
         "line": {
          "color": "rgb(107,174,214)"
         },
         "marker": {
          "color": "rgb(107,174,214)",
          "line": {
           "outliercolor": "rgba(219, 64, 82, 0.6)",
           "outlierwidth": 2
          },
          "outliercolor": "rgba(219, 64, 82, 0.6)"
         },
         "name": 21,
         "showlegend": false,
         "type": "box",
         "x": 21,
         "y": [
          7793,
          7475,
          7778,
          7754,
          7671,
          7944,
          7751,
          7669,
          7889,
          7683,
          7731
         ]
        },
        {
         "boxpoints": "suspectedoutliers",
         "line": {
          "color": "rgb(107,174,214)"
         },
         "marker": {
          "color": "rgb(107,174,214)",
          "line": {
           "outliercolor": "rgba(219, 64, 82, 0.6)",
           "outlierwidth": 2
          },
          "outliercolor": "rgba(219, 64, 82, 0.6)"
         },
         "name": 22,
         "showlegend": false,
         "type": "box",
         "x": 22,
         "y": [
          7808,
          7442,
          7733,
          7739,
          7615,
          7915,
          7686,
          7688,
          7888,
          7670,
          7738
         ]
        },
        {
         "boxpoints": "suspectedoutliers",
         "line": {
          "color": "rgb(107,174,214)"
         },
         "marker": {
          "color": "rgb(107,174,214)",
          "line": {
           "outliercolor": "rgba(219, 64, 82, 0.6)",
           "outlierwidth": 2
          },
          "outliercolor": "rgba(219, 64, 82, 0.6)"
         },
         "name": 23,
         "showlegend": false,
         "type": "box",
         "x": 23,
         "y": [
          7764,
          7448,
          7810,
          7715,
          7571,
          7915,
          7655,
          7649,
          7905,
          7683,
          7765
         ]
        },
        {
         "boxpoints": "suspectedoutliers",
         "line": {
          "color": "rgb(107,174,214)"
         },
         "marker": {
          "color": "rgb(107,174,214)",
          "line": {
           "outliercolor": "rgba(219, 64, 82, 0.6)",
           "outlierwidth": 2
          },
          "outliercolor": "rgba(219, 64, 82, 0.6)"
         },
         "name": 24,
         "showlegend": false,
         "type": "box",
         "x": 24,
         "y": [
          7726,
          7508,
          7797,
          7739,
          7591,
          7822,
          7646,
          7706,
          7865,
          7708,
          7780
         ]
        },
        {
         "boxpoints": "suspectedoutliers",
         "line": {
          "color": "rgb(107,174,214)"
         },
         "marker": {
          "color": "rgb(107,174,214)",
          "line": {
           "outliercolor": "rgba(219, 64, 82, 0.6)",
           "outlierwidth": 2
          },
          "outliercolor": "rgba(219, 64, 82, 0.6)"
         },
         "name": 25,
         "showlegend": false,
         "type": "box",
         "x": 25,
         "y": [
          7805,
          7525,
          7857,
          7682,
          7543,
          7858,
          7678,
          7693,
          7893,
          7692,
          7745
         ]
        },
        {
         "boxpoints": "suspectedoutliers",
         "line": {
          "color": "rgb(107,174,214)"
         },
         "marker": {
          "color": "rgb(107,174,214)",
          "line": {
           "outliercolor": "rgba(219, 64, 82, 0.6)",
           "outlierwidth": 2
          },
          "outliercolor": "rgba(219, 64, 82, 0.6)"
         },
         "name": 26,
         "showlegend": false,
         "type": "box",
         "x": 26,
         "y": [
          7851,
          7599,
          7833,
          7641,
          7469,
          7845,
          7645,
          7647,
          7863,
          7684,
          7742
         ]
        },
        {
         "boxpoints": "suspectedoutliers",
         "line": {
          "color": "rgb(107,174,214)"
         },
         "marker": {
          "color": "rgb(107,174,214)",
          "line": {
           "outliercolor": "rgba(219, 64, 82, 0.6)",
           "outlierwidth": 2
          },
          "outliercolor": "rgba(219, 64, 82, 0.6)"
         },
         "name": 27,
         "showlegend": false,
         "type": "box",
         "x": 27,
         "y": [
          7819,
          7643,
          7852,
          7648,
          7516,
          7865,
          7669,
          7729,
          7877,
          7668,
          7766
         ]
        },
        {
         "boxpoints": "suspectedoutliers",
         "line": {
          "color": "rgb(107,174,214)"
         },
         "marker": {
          "color": "rgb(107,174,214)",
          "line": {
           "outliercolor": "rgba(219, 64, 82, 0.6)",
           "outlierwidth": 2
          },
          "outliercolor": "rgba(219, 64, 82, 0.6)"
         },
         "name": 28,
         "showlegend": false,
         "type": "box",
         "x": 28,
         "y": [
          7782,
          7641,
          7801,
          7668,
          7482,
          7856,
          7730,
          7758,
          7825,
          7702,
          7691
         ]
        },
        {
         "boxpoints": "suspectedoutliers",
         "line": {
          "color": "rgb(107,174,214)"
         },
         "marker": {
          "color": "rgb(107,174,214)",
          "line": {
           "outliercolor": "rgba(219, 64, 82, 0.6)",
           "outlierwidth": 2
          },
          "outliercolor": "rgba(219, 64, 82, 0.6)"
         },
         "name": 29,
         "showlegend": false,
         "type": "box",
         "x": 29,
         "y": [
          7785,
          7672,
          7719,
          7649,
          7562,
          7847,
          7734,
          7703,
          7814,
          7705,
          7599
         ]
        },
        {
         "boxpoints": "suspectedoutliers",
         "line": {
          "color": "rgb(107,174,214)"
         },
         "marker": {
          "color": "rgb(107,174,214)",
          "line": {
           "outliercolor": "rgba(219, 64, 82, 0.6)",
           "outlierwidth": 2
          },
          "outliercolor": "rgba(219, 64, 82, 0.6)"
         },
         "name": 30,
         "showlegend": false,
         "type": "box",
         "x": 30,
         "y": [
          7797,
          7638,
          7729,
          7644,
          7618,
          7841,
          7714,
          7719,
          7840,
          7705,
          7629
         ]
        },
        {
         "boxpoints": "suspectedoutliers",
         "line": {
          "color": "rgb(107,174,214)"
         },
         "marker": {
          "color": "rgb(107,174,214)",
          "line": {
           "outliercolor": "rgba(219, 64, 82, 0.6)",
           "outlierwidth": 2
          },
          "outliercolor": "rgba(219, 64, 82, 0.6)"
         },
         "name": 31,
         "showlegend": false,
         "type": "box",
         "x": 31,
         "y": [
          7825,
          7662,
          7716,
          7695,
          7596,
          7876,
          7731,
          7721,
          7815,
          7724,
          7570
         ]
        },
        {
         "boxpoints": "suspectedoutliers",
         "line": {
          "color": "rgb(107,174,214)"
         },
         "marker": {
          "color": "rgb(107,174,214)",
          "line": {
           "outliercolor": "rgba(219, 64, 82, 0.6)",
           "outlierwidth": 2
          },
          "outliercolor": "rgba(219, 64, 82, 0.6)"
         },
         "name": 32,
         "showlegend": false,
         "type": "box",
         "x": 32,
         "y": [
          7775,
          7591,
          7746,
          7710,
          7618,
          7888,
          7696,
          7718,
          7784,
          7743,
          7607
         ]
        },
        {
         "boxpoints": "suspectedoutliers",
         "line": {
          "color": "rgb(107,174,214)"
         },
         "marker": {
          "color": "rgb(107,174,214)",
          "line": {
           "outliercolor": "rgba(219, 64, 82, 0.6)",
           "outlierwidth": 2
          },
          "outliercolor": "rgba(219, 64, 82, 0.6)"
         },
         "name": 33,
         "showlegend": false,
         "type": "box",
         "x": 33,
         "y": [
          7793,
          7536,
          7695,
          7719,
          7621,
          7931,
          7701,
          7673,
          7775,
          7702,
          7526
         ]
        },
        {
         "boxpoints": "suspectedoutliers",
         "line": {
          "color": "rgb(107,174,214)"
         },
         "marker": {
          "color": "rgb(107,174,214)",
          "line": {
           "outliercolor": "rgba(219, 64, 82, 0.6)",
           "outlierwidth": 2
          },
          "outliercolor": "rgba(219, 64, 82, 0.6)"
         },
         "name": 34,
         "showlegend": false,
         "type": "box",
         "x": 34,
         "y": [
          7723,
          7546,
          7614,
          7751,
          7609,
          7910,
          7662,
          7707,
          7709,
          7639,
          7525
         ]
        },
        {
         "boxpoints": "suspectedoutliers",
         "line": {
          "color": "rgb(107,174,214)"
         },
         "marker": {
          "color": "rgb(107,174,214)",
          "line": {
           "outliercolor": "rgba(219, 64, 82, 0.6)",
           "outlierwidth": 2
          },
          "outliercolor": "rgba(219, 64, 82, 0.6)"
         },
         "name": 35,
         "showlegend": false,
         "type": "box",
         "x": 35,
         "y": [
          7757,
          7520,
          7646,
          7712,
          7645,
          7880,
          7649,
          7684,
          7703,
          7644,
          7512
         ]
        },
        {
         "boxpoints": "suspectedoutliers",
         "line": {
          "color": "rgb(107,174,214)"
         },
         "marker": {
          "color": "rgb(107,174,214)",
          "line": {
           "outliercolor": "rgba(219, 64, 82, 0.6)",
           "outlierwidth": 2
          },
          "outliercolor": "rgba(219, 64, 82, 0.6)"
         },
         "name": 36,
         "showlegend": false,
         "type": "box",
         "x": 36,
         "y": [
          7778,
          7581,
          7574,
          7634,
          7621,
          7879,
          7677,
          7651,
          7661,
          7616,
          7544
         ]
        },
        {
         "boxpoints": "suspectedoutliers",
         "line": {
          "color": "rgb(107,174,214)"
         },
         "marker": {
          "color": "rgb(107,174,214)",
          "line": {
           "outliercolor": "rgba(219, 64, 82, 0.6)",
           "outlierwidth": 2
          },
          "outliercolor": "rgba(219, 64, 82, 0.6)"
         },
         "name": 37,
         "showlegend": false,
         "type": "box",
         "x": 37,
         "y": [
          7768,
          7569,
          7551,
          7669,
          7645,
          7847,
          7641,
          7699,
          7671,
          7602,
          7529
         ]
        },
        {
         "boxpoints": "suspectedoutliers",
         "line": {
          "color": "rgb(107,174,214)"
         },
         "marker": {
          "color": "rgb(107,174,214)",
          "line": {
           "outliercolor": "rgba(219, 64, 82, 0.6)",
           "outlierwidth": 2
          },
          "outliercolor": "rgba(219, 64, 82, 0.6)"
         },
         "name": 38,
         "showlegend": false,
         "type": "box",
         "x": 38,
         "y": [
          7722,
          7608,
          7643,
          7661,
          7658,
          7816,
          7613,
          7673,
          7662,
          7607,
          7551
         ]
        },
        {
         "boxpoints": "suspectedoutliers",
         "line": {
          "color": "rgb(107,174,214)"
         },
         "marker": {
          "color": "rgb(107,174,214)",
          "line": {
           "outliercolor": "rgba(219, 64, 82, 0.6)",
           "outlierwidth": 2
          },
          "outliercolor": "rgba(219, 64, 82, 0.6)"
         },
         "name": 39,
         "showlegend": false,
         "type": "box",
         "x": 39,
         "y": [
          7747,
          7651,
          7659,
          7662,
          7694,
          7833,
          7614,
          7715,
          7679,
          7625,
          7576
         ]
        },
        {
         "boxpoints": "suspectedoutliers",
         "line": {
          "color": "rgb(107,174,214)"
         },
         "marker": {
          "color": "rgb(107,174,214)",
          "line": {
           "outliercolor": "rgba(219, 64, 82, 0.6)",
           "outlierwidth": 2
          },
          "outliercolor": "rgba(219, 64, 82, 0.6)"
         },
         "name": 40,
         "showlegend": false,
         "type": "box",
         "x": 40,
         "y": [
          7752,
          7604,
          7623,
          7674,
          7640,
          7818,
          7656,
          7795,
          7670,
          7576,
          7611
         ]
        },
        {
         "boxpoints": "suspectedoutliers",
         "line": {
          "color": "rgb(107,174,214)"
         },
         "marker": {
          "color": "rgb(107,174,214)",
          "line": {
           "outliercolor": "rgba(219, 64, 82, 0.6)",
           "outlierwidth": 2
          },
          "outliercolor": "rgba(219, 64, 82, 0.6)"
         },
         "name": 41,
         "showlegend": false,
         "type": "box",
         "x": 41,
         "y": [
          7722,
          7595,
          7644,
          7630,
          7691,
          7803,
          7698,
          7781,
          7640,
          7593,
          7593
         ]
        },
        {
         "boxpoints": "suspectedoutliers",
         "line": {
          "color": "rgb(107,174,214)"
         },
         "marker": {
          "color": "rgb(107,174,214)",
          "line": {
           "outliercolor": "rgba(219, 64, 82, 0.6)",
           "outlierwidth": 2
          },
          "outliercolor": "rgba(219, 64, 82, 0.6)"
         },
         "name": 42,
         "showlegend": false,
         "type": "box",
         "x": 42,
         "y": [
          7687,
          7651,
          7692,
          7669,
          7677,
          7828,
          7746,
          7764,
          7644,
          7582,
          7564
         ]
        },
        {
         "boxpoints": "suspectedoutliers",
         "line": {
          "color": "rgb(107,174,214)"
         },
         "marker": {
          "color": "rgb(107,174,214)",
          "line": {
           "outliercolor": "rgba(219, 64, 82, 0.6)",
           "outlierwidth": 2
          },
          "outliercolor": "rgba(219, 64, 82, 0.6)"
         },
         "name": 43,
         "showlegend": false,
         "type": "box",
         "x": 43,
         "y": [
          7639,
          7663,
          7731,
          7748,
          7714,
          7840,
          7727,
          7777,
          7634,
          7638,
          7592
         ]
        },
        {
         "boxpoints": "suspectedoutliers",
         "line": {
          "color": "rgb(107,174,214)"
         },
         "marker": {
          "color": "rgb(107,174,214)",
          "line": {
           "outliercolor": "rgba(219, 64, 82, 0.6)",
           "outlierwidth": 2
          },
          "outliercolor": "rgba(219, 64, 82, 0.6)"
         },
         "name": 44,
         "showlegend": false,
         "type": "box",
         "x": 44,
         "y": [
          7667,
          7654,
          7714,
          7736,
          7722,
          7872,
          7684,
          7785,
          7627,
          7574,
          7583
         ]
        },
        {
         "boxpoints": "suspectedoutliers",
         "line": {
          "color": "rgb(107,174,214)"
         },
         "marker": {
          "color": "rgb(107,174,214)",
          "line": {
           "outliercolor": "rgba(219, 64, 82, 0.6)",
           "outlierwidth": 2
          },
          "outliercolor": "rgba(219, 64, 82, 0.6)"
         },
         "name": 45,
         "showlegend": false,
         "type": "box",
         "x": 45,
         "y": [
          7626,
          7653,
          7733,
          7712,
          7748,
          7898,
          7656,
          7781,
          7589,
          7576,
          7586
         ]
        },
        {
         "boxpoints": "suspectedoutliers",
         "line": {
          "color": "rgb(107,174,214)"
         },
         "marker": {
          "color": "rgb(107,174,214)",
          "line": {
           "outliercolor": "rgba(219, 64, 82, 0.6)",
           "outlierwidth": 2
          },
          "outliercolor": "rgba(219, 64, 82, 0.6)"
         },
         "name": 46,
         "showlegend": false,
         "type": "box",
         "x": 46,
         "y": [
          7575,
          7665,
          7764,
          7717,
          7737,
          7868,
          7630,
          7736,
          7684,
          7496,
          7577
         ]
        },
        {
         "boxpoints": "suspectedoutliers",
         "line": {
          "color": "rgb(107,174,214)"
         },
         "marker": {
          "color": "rgb(107,174,214)",
          "line": {
           "outliercolor": "rgba(219, 64, 82, 0.6)",
           "outlierwidth": 2
          },
          "outliercolor": "rgba(219, 64, 82, 0.6)"
         },
         "name": 47,
         "showlegend": false,
         "type": "box",
         "x": 47,
         "y": [
          7543,
          7649,
          7777,
          7767,
          7734,
          7853,
          7576,
          7771,
          7699,
          7493,
          7595
         ]
        },
        {
         "mode": "lines",
         "name": "Mean",
         "showlegend": false,
         "type": "scatter",
         "x": [
          1,
          2,
          3,
          4,
          5,
          6,
          7,
          8,
          9,
          10,
          11,
          12,
          13,
          14,
          15,
          16,
          17,
          18,
          19,
          20,
          21,
          22,
          23,
          24,
          25,
          26,
          27,
          28,
          29,
          30,
          31,
          32,
          33,
          34,
          35,
          36,
          37,
          38,
          39,
          40,
          41,
          42,
          43,
          44,
          45,
          46,
          47
         ],
         "y": [
          7505.636363636364,
          7577.545454545455,
          7632.636363636364,
          7673.181818181818,
          7727.909090909091,
          7770.818181818182,
          7817.363636363636,
          7846.454545454545,
          7889.818181818182,
          7917.272727272727,
          7922.272727272727,
          7919.727272727273,
          7909.272727272727,
          7882.636363636364,
          7865.818181818182,
          7853.090909090909,
          7846.272727272727,
          7837,
          7804.818181818182,
          7778,
          7752.727272727273,
          7739.818181818182,
          7720.181818181818,
          7716.363636363636,
          7717.090909090909,
          7724.636363636364,
          7710.818181818182,
          7732,
          7721.454545454545,
          7708.090909090909,
          7715.818181818182,
          7721,
          7716,
          7697.454545454545,
          7672.272727272727,
          7668.363636363636,
          7656,
          7653.727272727273,
          7655.818181818182,
          7677.727272727273,
          7674.454545454545,
          7671.818181818182,
          7682.181818181818,
          7700.272727272727,
          7692.545454545455,
          7687.090909090909,
          7677.181818181818,
          7677.909090909091
         ]
        }
       ],
       "layout": {}
      },
      "text/html": [
       "<div id=\"04ccd759-20ab-4ffd-a33f-c1a6c203ea08\" style=\"height: 525px; width: 100%;\" class=\"plotly-graph-div\"></div><script type=\"text/javascript\">require([\"plotly\"], function(Plotly) { window.PLOTLYENV=window.PLOTLYENV || {};window.PLOTLYENV.BASE_URL=\"https://plot.ly\";Plotly.newPlot(\"04ccd759-20ab-4ffd-a33f-c1a6c203ea08\", [{\"showlegend\": false, \"name\": 0, \"marker\": {\"color\": \"rgb(107,174,214)\", \"outliercolor\": \"rgba(219, 64, 82, 0.6)\", \"line\": {\"outlierwidth\": 2, \"outliercolor\": \"rgba(219, 64, 82, 0.6)\"}}, \"y\": [7626, 7681, 7521, 7526, 7355, 7472, 7525, 7524, 7455, 7472, 7405], \"x\": 0, \"line\": {\"color\": \"rgb(107,174,214)\"}, \"type\": \"box\", \"boxpoints\": \"suspectedoutliers\"}, {\"showlegend\": false, \"name\": 1, \"marker\": {\"color\": \"rgb(107,174,214)\", \"outliercolor\": \"rgba(219, 64, 82, 0.6)\", \"line\": {\"outlierwidth\": 2, \"outliercolor\": \"rgba(219, 64, 82, 0.6)\"}}, \"y\": [7707, 7703, 7535, 7557, 7446, 7566, 7587, 7594, 7560, 7619, 7479], \"x\": 1, \"line\": {\"color\": \"rgb(107,174,214)\"}, \"type\": \"box\", \"boxpoints\": \"suspectedoutliers\"}, {\"showlegend\": false, \"name\": 2, \"marker\": {\"color\": \"rgb(107,174,214)\", \"outliercolor\": \"rgba(219, 64, 82, 0.6)\", \"line\": {\"outlierwidth\": 2, \"outliercolor\": \"rgba(219, 64, 82, 0.6)\"}}, \"y\": [7755, 7709, 7600, 7601, 7544, 7692, 7658, 7585, 7629, 7625, 7561], \"x\": 2, \"line\": {\"color\": \"rgb(107,174,214)\"}, \"type\": \"box\", \"boxpoints\": \"suspectedoutliers\"}, {\"showlegend\": false, \"name\": 3, \"marker\": {\"color\": \"rgb(107,174,214)\", \"outliercolor\": \"rgba(219, 64, 82, 0.6)\", \"line\": {\"outlierwidth\": 2, \"outliercolor\": \"rgba(219, 64, 82, 0.6)\"}}, \"y\": [7773, 7787, 7712, 7569, 7594, 7767, 7672, 7605, 7653, 7656, 7617], \"x\": 3, \"line\": {\"color\": \"rgb(107,174,214)\"}, \"type\": \"box\", \"boxpoints\": \"suspectedoutliers\"}, {\"showlegend\": false, \"name\": 4, \"marker\": {\"color\": \"rgb(107,174,214)\", \"outliercolor\": \"rgba(219, 64, 82, 0.6)\", \"line\": {\"outlierwidth\": 2, \"outliercolor\": \"rgba(219, 64, 82, 0.6)\"}}, \"y\": [7838, 7808, 7747, 7653, 7623, 7793, 7746, 7695, 7737, 7694, 7673], \"x\": 4, \"line\": {\"color\": \"rgb(107,174,214)\"}, \"type\": \"box\", \"boxpoints\": \"suspectedoutliers\"}, {\"showlegend\": false, \"name\": 5, \"marker\": {\"color\": \"rgb(107,174,214)\", \"outliercolor\": \"rgba(219, 64, 82, 0.6)\", \"line\": {\"outlierwidth\": 2, \"outliercolor\": \"rgba(219, 64, 82, 0.6)\"}}, \"y\": [7891, 7811, 7844, 7683, 7629, 7826, 7829, 7722, 7800, 7708, 7736], \"x\": 5, \"line\": {\"color\": \"rgb(107,174,214)\"}, \"type\": \"box\", \"boxpoints\": \"suspectedoutliers\"}, {\"showlegend\": false, \"name\": 6, \"marker\": {\"color\": \"rgb(107,174,214)\", \"outliercolor\": \"rgba(219, 64, 82, 0.6)\", \"line\": {\"outlierwidth\": 2, \"outliercolor\": \"rgba(219, 64, 82, 0.6)\"}}, \"y\": [7949, 7893, 7842, 7763, 7681, 7878, 7827, 7737, 7826, 7745, 7850], \"x\": 6, \"line\": {\"color\": \"rgb(107,174,214)\"}, \"type\": \"box\", \"boxpoints\": \"suspectedoutliers\"}, {\"showlegend\": false, \"name\": 7, \"marker\": {\"color\": \"rgb(107,174,214)\", \"outliercolor\": \"rgba(219, 64, 82, 0.6)\", \"line\": {\"outlierwidth\": 2, \"outliercolor\": \"rgba(219, 64, 82, 0.6)\"}}, \"y\": [7932, 7870, 7850, 7767, 7689, 7917, 7919, 7770, 7895, 7783, 7919], \"x\": 7, \"line\": {\"color\": \"rgb(107,174,214)\"}, \"type\": \"box\", \"boxpoints\": \"suspectedoutliers\"}, {\"showlegend\": false, \"name\": 8, \"marker\": {\"color\": \"rgb(107,174,214)\", \"outliercolor\": \"rgba(219, 64, 82, 0.6)\", \"line\": {\"outlierwidth\": 2, \"outliercolor\": \"rgba(219, 64, 82, 0.6)\"}}, \"y\": [8027, 7853, 7853, 7831, 7734, 7979, 7959, 7793, 7939, 7869, 7951], \"x\": 8, \"line\": {\"color\": \"rgb(107,174,214)\"}, \"type\": \"box\", \"boxpoints\": \"suspectedoutliers\"}, {\"showlegend\": false, \"name\": 9, \"marker\": {\"color\": \"rgb(107,174,214)\", \"outliercolor\": \"rgba(219, 64, 82, 0.6)\", \"line\": {\"outlierwidth\": 2, \"outliercolor\": \"rgba(219, 64, 82, 0.6)\"}}, \"y\": [7995, 7893, 7847, 7877, 7744, 8038, 8009, 7811, 7984, 7888, 8004], \"x\": 9, \"line\": {\"color\": \"rgb(107,174,214)\"}, \"type\": \"box\", \"boxpoints\": \"suspectedoutliers\"}, {\"showlegend\": false, \"name\": 10, \"marker\": {\"color\": \"rgb(107,174,214)\", \"outliercolor\": \"rgba(219, 64, 82, 0.6)\", \"line\": {\"outlierwidth\": 2, \"outliercolor\": \"rgba(219, 64, 82, 0.6)\"}}, \"y\": [7979, 7878, 7899, 7928, 7796, 7984, 7989, 7847, 7978, 7896, 7971], \"x\": 10, \"line\": {\"color\": \"rgb(107,174,214)\"}, \"type\": \"box\", \"boxpoints\": \"suspectedoutliers\"}, {\"showlegend\": false, \"name\": 11, \"marker\": {\"color\": \"rgb(107,174,214)\", \"outliercolor\": \"rgba(219, 64, 82, 0.6)\", \"line\": {\"outlierwidth\": 2, \"outliercolor\": \"rgba(219, 64, 82, 0.6)\"}}, \"y\": [7983, 7875, 7918, 7981, 7746, 7979, 8052, 7861, 7932, 7876, 7914], \"x\": 11, \"line\": {\"color\": \"rgb(107,174,214)\"}, \"type\": \"box\", \"boxpoints\": \"suspectedoutliers\"}, {\"showlegend\": false, \"name\": 12, \"marker\": {\"color\": \"rgb(107,174,214)\", \"outliercolor\": \"rgba(219, 64, 82, 0.6)\", \"line\": {\"outlierwidth\": 2, \"outliercolor\": \"rgba(219, 64, 82, 0.6)\"}}, \"y\": [7984, 7822, 7937, 7928, 7764, 7998, 8035, 7805, 7971, 7869, 7889], \"x\": 12, \"line\": {\"color\": \"rgb(107,174,214)\"}, \"type\": \"box\", \"boxpoints\": \"suspectedoutliers\"}, {\"showlegend\": false, \"name\": 13, \"marker\": {\"color\": \"rgb(107,174,214)\", \"outliercolor\": \"rgba(219, 64, 82, 0.6)\", \"line\": {\"outlierwidth\": 2, \"outliercolor\": \"rgba(219, 64, 82, 0.6)\"}}, \"y\": [7958, 7815, 7868, 7901, 7740, 8017, 7960, 7790, 7975, 7835, 7850], \"x\": 13, \"line\": {\"color\": \"rgb(107,174,214)\"}, \"type\": \"box\", \"boxpoints\": \"suspectedoutliers\"}, {\"showlegend\": false, \"name\": 14, \"marker\": {\"color\": \"rgb(107,174,214)\", \"outliercolor\": \"rgba(219, 64, 82, 0.6)\", \"line\": {\"outlierwidth\": 2, \"outliercolor\": \"rgba(219, 64, 82, 0.6)\"}}, \"y\": [7899, 7755, 7861, 7884, 7765, 8015, 7962, 7780, 7958, 7830, 7815], \"x\": 14, \"line\": {\"color\": \"rgb(107,174,214)\"}, \"type\": \"box\", \"boxpoints\": \"suspectedoutliers\"}, {\"showlegend\": false, \"name\": 15, \"marker\": {\"color\": \"rgb(107,174,214)\", \"outliercolor\": \"rgba(219, 64, 82, 0.6)\", \"line\": {\"outlierwidth\": 2, \"outliercolor\": \"rgba(219, 64, 82, 0.6)\"}}, \"y\": [7919, 7664, 7879, 7910, 7766, 8003, 7929, 7780, 7937, 7795, 7802], \"x\": 15, \"line\": {\"color\": \"rgb(107,174,214)\"}, \"type\": \"box\", \"boxpoints\": \"suspectedoutliers\"}, {\"showlegend\": false, \"name\": 16, \"marker\": {\"color\": \"rgb(107,174,214)\", \"outliercolor\": \"rgba(219, 64, 82, 0.6)\", \"line\": {\"outlierwidth\": 2, \"outliercolor\": \"rgba(219, 64, 82, 0.6)\"}}, \"y\": [7950, 7613, 7895, 7913, 7780, 7994, 7923, 7719, 7943, 7764, 7815], \"x\": 16, \"line\": {\"color\": \"rgb(107,174,214)\"}, \"type\": \"box\", \"boxpoints\": \"suspectedoutliers\"}, {\"showlegend\": false, \"name\": 17, \"marker\": {\"color\": \"rgb(107,174,214)\", \"outliercolor\": \"rgba(219, 64, 82, 0.6)\", \"line\": {\"outlierwidth\": 2, \"outliercolor\": \"rgba(219, 64, 82, 0.6)\"}}, \"y\": [7923, 7586, 7936, 7920, 7745, 7955, 7896, 7678, 7933, 7808, 7827], \"x\": 17, \"line\": {\"color\": \"rgb(107,174,214)\"}, \"type\": \"box\", \"boxpoints\": \"suspectedoutliers\"}, {\"showlegend\": false, \"name\": 18, \"marker\": {\"color\": \"rgb(107,174,214)\", \"outliercolor\": \"rgba(219, 64, 82, 0.6)\", \"line\": {\"outlierwidth\": 2, \"outliercolor\": \"rgba(219, 64, 82, 0.6)\"}}, \"y\": [7889, 7551, 7842, 7900, 7677, 7961, 7889, 7667, 7906, 7788, 7783], \"x\": 18, \"line\": {\"color\": \"rgb(107,174,214)\"}, \"type\": \"box\", \"boxpoints\": \"suspectedoutliers\"}, {\"showlegend\": false, \"name\": 19, \"marker\": {\"color\": \"rgb(107,174,214)\", \"outliercolor\": \"rgba(219, 64, 82, 0.6)\", \"line\": {\"outlierwidth\": 2, \"outliercolor\": \"rgba(219, 64, 82, 0.6)\"}}, \"y\": [7892, 7519, 7774, 7896, 7667, 7932, 7802, 7645, 7919, 7754, 7758], \"x\": 19, \"line\": {\"color\": \"rgb(107,174,214)\"}, \"type\": \"box\", \"boxpoints\": \"suspectedoutliers\"}, {\"showlegend\": false, \"name\": 20, \"marker\": {\"color\": \"rgb(107,174,214)\", \"outliercolor\": \"rgba(219, 64, 82, 0.6)\", \"line\": {\"outlierwidth\": 2, \"outliercolor\": \"rgba(219, 64, 82, 0.6)\"}}, \"y\": [7824, 7512, 7751, 7819, 7675, 7930, 7758, 7629, 7907, 7722, 7753], \"x\": 20, \"line\": {\"color\": \"rgb(107,174,214)\"}, \"type\": \"box\", \"boxpoints\": \"suspectedoutliers\"}, {\"showlegend\": false, \"name\": 21, \"marker\": {\"color\": \"rgb(107,174,214)\", \"outliercolor\": \"rgba(219, 64, 82, 0.6)\", \"line\": {\"outlierwidth\": 2, \"outliercolor\": \"rgba(219, 64, 82, 0.6)\"}}, \"y\": [7793, 7475, 7778, 7754, 7671, 7944, 7751, 7669, 7889, 7683, 7731], \"x\": 21, \"line\": {\"color\": \"rgb(107,174,214)\"}, \"type\": \"box\", \"boxpoints\": \"suspectedoutliers\"}, {\"showlegend\": false, \"name\": 22, \"marker\": {\"color\": \"rgb(107,174,214)\", \"outliercolor\": \"rgba(219, 64, 82, 0.6)\", \"line\": {\"outlierwidth\": 2, \"outliercolor\": \"rgba(219, 64, 82, 0.6)\"}}, \"y\": [7808, 7442, 7733, 7739, 7615, 7915, 7686, 7688, 7888, 7670, 7738], \"x\": 22, \"line\": {\"color\": \"rgb(107,174,214)\"}, \"type\": \"box\", \"boxpoints\": \"suspectedoutliers\"}, {\"showlegend\": false, \"name\": 23, \"marker\": {\"color\": \"rgb(107,174,214)\", \"outliercolor\": \"rgba(219, 64, 82, 0.6)\", \"line\": {\"outlierwidth\": 2, \"outliercolor\": \"rgba(219, 64, 82, 0.6)\"}}, \"y\": [7764, 7448, 7810, 7715, 7571, 7915, 7655, 7649, 7905, 7683, 7765], \"x\": 23, \"line\": {\"color\": \"rgb(107,174,214)\"}, \"type\": \"box\", \"boxpoints\": \"suspectedoutliers\"}, {\"showlegend\": false, \"name\": 24, \"marker\": {\"color\": \"rgb(107,174,214)\", \"outliercolor\": \"rgba(219, 64, 82, 0.6)\", \"line\": {\"outlierwidth\": 2, \"outliercolor\": \"rgba(219, 64, 82, 0.6)\"}}, \"y\": [7726, 7508, 7797, 7739, 7591, 7822, 7646, 7706, 7865, 7708, 7780], \"x\": 24, \"line\": {\"color\": \"rgb(107,174,214)\"}, \"type\": \"box\", \"boxpoints\": \"suspectedoutliers\"}, {\"showlegend\": false, \"name\": 25, \"marker\": {\"color\": \"rgb(107,174,214)\", \"outliercolor\": \"rgba(219, 64, 82, 0.6)\", \"line\": {\"outlierwidth\": 2, \"outliercolor\": \"rgba(219, 64, 82, 0.6)\"}}, \"y\": [7805, 7525, 7857, 7682, 7543, 7858, 7678, 7693, 7893, 7692, 7745], \"x\": 25, \"line\": {\"color\": \"rgb(107,174,214)\"}, \"type\": \"box\", \"boxpoints\": \"suspectedoutliers\"}, {\"showlegend\": false, \"name\": 26, \"marker\": {\"color\": \"rgb(107,174,214)\", \"outliercolor\": \"rgba(219, 64, 82, 0.6)\", \"line\": {\"outlierwidth\": 2, \"outliercolor\": \"rgba(219, 64, 82, 0.6)\"}}, \"y\": [7851, 7599, 7833, 7641, 7469, 7845, 7645, 7647, 7863, 7684, 7742], \"x\": 26, \"line\": {\"color\": \"rgb(107,174,214)\"}, \"type\": \"box\", \"boxpoints\": \"suspectedoutliers\"}, {\"showlegend\": false, \"name\": 27, \"marker\": {\"color\": \"rgb(107,174,214)\", \"outliercolor\": \"rgba(219, 64, 82, 0.6)\", \"line\": {\"outlierwidth\": 2, \"outliercolor\": \"rgba(219, 64, 82, 0.6)\"}}, \"y\": [7819, 7643, 7852, 7648, 7516, 7865, 7669, 7729, 7877, 7668, 7766], \"x\": 27, \"line\": {\"color\": \"rgb(107,174,214)\"}, \"type\": \"box\", \"boxpoints\": \"suspectedoutliers\"}, {\"showlegend\": false, \"name\": 28, \"marker\": {\"color\": \"rgb(107,174,214)\", \"outliercolor\": \"rgba(219, 64, 82, 0.6)\", \"line\": {\"outlierwidth\": 2, \"outliercolor\": \"rgba(219, 64, 82, 0.6)\"}}, \"y\": [7782, 7641, 7801, 7668, 7482, 7856, 7730, 7758, 7825, 7702, 7691], \"x\": 28, \"line\": {\"color\": \"rgb(107,174,214)\"}, \"type\": \"box\", \"boxpoints\": \"suspectedoutliers\"}, {\"showlegend\": false, \"name\": 29, \"marker\": {\"color\": \"rgb(107,174,214)\", \"outliercolor\": \"rgba(219, 64, 82, 0.6)\", \"line\": {\"outlierwidth\": 2, \"outliercolor\": \"rgba(219, 64, 82, 0.6)\"}}, \"y\": [7785, 7672, 7719, 7649, 7562, 7847, 7734, 7703, 7814, 7705, 7599], \"x\": 29, \"line\": {\"color\": \"rgb(107,174,214)\"}, \"type\": \"box\", \"boxpoints\": \"suspectedoutliers\"}, {\"showlegend\": false, \"name\": 30, \"marker\": {\"color\": \"rgb(107,174,214)\", \"outliercolor\": \"rgba(219, 64, 82, 0.6)\", \"line\": {\"outlierwidth\": 2, \"outliercolor\": \"rgba(219, 64, 82, 0.6)\"}}, \"y\": [7797, 7638, 7729, 7644, 7618, 7841, 7714, 7719, 7840, 7705, 7629], \"x\": 30, \"line\": {\"color\": \"rgb(107,174,214)\"}, \"type\": \"box\", \"boxpoints\": \"suspectedoutliers\"}, {\"showlegend\": false, \"name\": 31, \"marker\": {\"color\": \"rgb(107,174,214)\", \"outliercolor\": \"rgba(219, 64, 82, 0.6)\", \"line\": {\"outlierwidth\": 2, \"outliercolor\": \"rgba(219, 64, 82, 0.6)\"}}, \"y\": [7825, 7662, 7716, 7695, 7596, 7876, 7731, 7721, 7815, 7724, 7570], \"x\": 31, \"line\": {\"color\": \"rgb(107,174,214)\"}, \"type\": \"box\", \"boxpoints\": \"suspectedoutliers\"}, {\"showlegend\": false, \"name\": 32, \"marker\": {\"color\": \"rgb(107,174,214)\", \"outliercolor\": \"rgba(219, 64, 82, 0.6)\", \"line\": {\"outlierwidth\": 2, \"outliercolor\": \"rgba(219, 64, 82, 0.6)\"}}, \"y\": [7775, 7591, 7746, 7710, 7618, 7888, 7696, 7718, 7784, 7743, 7607], \"x\": 32, \"line\": {\"color\": \"rgb(107,174,214)\"}, \"type\": \"box\", \"boxpoints\": \"suspectedoutliers\"}, {\"showlegend\": false, \"name\": 33, \"marker\": {\"color\": \"rgb(107,174,214)\", \"outliercolor\": \"rgba(219, 64, 82, 0.6)\", \"line\": {\"outlierwidth\": 2, \"outliercolor\": \"rgba(219, 64, 82, 0.6)\"}}, \"y\": [7793, 7536, 7695, 7719, 7621, 7931, 7701, 7673, 7775, 7702, 7526], \"x\": 33, \"line\": {\"color\": \"rgb(107,174,214)\"}, \"type\": \"box\", \"boxpoints\": \"suspectedoutliers\"}, {\"showlegend\": false, \"name\": 34, \"marker\": {\"color\": \"rgb(107,174,214)\", \"outliercolor\": \"rgba(219, 64, 82, 0.6)\", \"line\": {\"outlierwidth\": 2, \"outliercolor\": \"rgba(219, 64, 82, 0.6)\"}}, \"y\": [7723, 7546, 7614, 7751, 7609, 7910, 7662, 7707, 7709, 7639, 7525], \"x\": 34, \"line\": {\"color\": \"rgb(107,174,214)\"}, \"type\": \"box\", \"boxpoints\": \"suspectedoutliers\"}, {\"showlegend\": false, \"name\": 35, \"marker\": {\"color\": \"rgb(107,174,214)\", \"outliercolor\": \"rgba(219, 64, 82, 0.6)\", \"line\": {\"outlierwidth\": 2, \"outliercolor\": \"rgba(219, 64, 82, 0.6)\"}}, \"y\": [7757, 7520, 7646, 7712, 7645, 7880, 7649, 7684, 7703, 7644, 7512], \"x\": 35, \"line\": {\"color\": \"rgb(107,174,214)\"}, \"type\": \"box\", \"boxpoints\": \"suspectedoutliers\"}, {\"showlegend\": false, \"name\": 36, \"marker\": {\"color\": \"rgb(107,174,214)\", \"outliercolor\": \"rgba(219, 64, 82, 0.6)\", \"line\": {\"outlierwidth\": 2, \"outliercolor\": \"rgba(219, 64, 82, 0.6)\"}}, \"y\": [7778, 7581, 7574, 7634, 7621, 7879, 7677, 7651, 7661, 7616, 7544], \"x\": 36, \"line\": {\"color\": \"rgb(107,174,214)\"}, \"type\": \"box\", \"boxpoints\": \"suspectedoutliers\"}, {\"showlegend\": false, \"name\": 37, \"marker\": {\"color\": \"rgb(107,174,214)\", \"outliercolor\": \"rgba(219, 64, 82, 0.6)\", \"line\": {\"outlierwidth\": 2, \"outliercolor\": \"rgba(219, 64, 82, 0.6)\"}}, \"y\": [7768, 7569, 7551, 7669, 7645, 7847, 7641, 7699, 7671, 7602, 7529], \"x\": 37, \"line\": {\"color\": \"rgb(107,174,214)\"}, \"type\": \"box\", \"boxpoints\": \"suspectedoutliers\"}, {\"showlegend\": false, \"name\": 38, \"marker\": {\"color\": \"rgb(107,174,214)\", \"outliercolor\": \"rgba(219, 64, 82, 0.6)\", \"line\": {\"outlierwidth\": 2, \"outliercolor\": \"rgba(219, 64, 82, 0.6)\"}}, \"y\": [7722, 7608, 7643, 7661, 7658, 7816, 7613, 7673, 7662, 7607, 7551], \"x\": 38, \"line\": {\"color\": \"rgb(107,174,214)\"}, \"type\": \"box\", \"boxpoints\": \"suspectedoutliers\"}, {\"showlegend\": false, \"name\": 39, \"marker\": {\"color\": \"rgb(107,174,214)\", \"outliercolor\": \"rgba(219, 64, 82, 0.6)\", \"line\": {\"outlierwidth\": 2, \"outliercolor\": \"rgba(219, 64, 82, 0.6)\"}}, \"y\": [7747, 7651, 7659, 7662, 7694, 7833, 7614, 7715, 7679, 7625, 7576], \"x\": 39, \"line\": {\"color\": \"rgb(107,174,214)\"}, \"type\": \"box\", \"boxpoints\": \"suspectedoutliers\"}, {\"showlegend\": false, \"name\": 40, \"marker\": {\"color\": \"rgb(107,174,214)\", \"outliercolor\": \"rgba(219, 64, 82, 0.6)\", \"line\": {\"outlierwidth\": 2, \"outliercolor\": \"rgba(219, 64, 82, 0.6)\"}}, \"y\": [7752, 7604, 7623, 7674, 7640, 7818, 7656, 7795, 7670, 7576, 7611], \"x\": 40, \"line\": {\"color\": \"rgb(107,174,214)\"}, \"type\": \"box\", \"boxpoints\": \"suspectedoutliers\"}, {\"showlegend\": false, \"name\": 41, \"marker\": {\"color\": \"rgb(107,174,214)\", \"outliercolor\": \"rgba(219, 64, 82, 0.6)\", \"line\": {\"outlierwidth\": 2, \"outliercolor\": \"rgba(219, 64, 82, 0.6)\"}}, \"y\": [7722, 7595, 7644, 7630, 7691, 7803, 7698, 7781, 7640, 7593, 7593], \"x\": 41, \"line\": {\"color\": \"rgb(107,174,214)\"}, \"type\": \"box\", \"boxpoints\": \"suspectedoutliers\"}, {\"showlegend\": false, \"name\": 42, \"marker\": {\"color\": \"rgb(107,174,214)\", \"outliercolor\": \"rgba(219, 64, 82, 0.6)\", \"line\": {\"outlierwidth\": 2, \"outliercolor\": \"rgba(219, 64, 82, 0.6)\"}}, \"y\": [7687, 7651, 7692, 7669, 7677, 7828, 7746, 7764, 7644, 7582, 7564], \"x\": 42, \"line\": {\"color\": \"rgb(107,174,214)\"}, \"type\": \"box\", \"boxpoints\": \"suspectedoutliers\"}, {\"showlegend\": false, \"name\": 43, \"marker\": {\"color\": \"rgb(107,174,214)\", \"outliercolor\": \"rgba(219, 64, 82, 0.6)\", \"line\": {\"outlierwidth\": 2, \"outliercolor\": \"rgba(219, 64, 82, 0.6)\"}}, \"y\": [7639, 7663, 7731, 7748, 7714, 7840, 7727, 7777, 7634, 7638, 7592], \"x\": 43, \"line\": {\"color\": \"rgb(107,174,214)\"}, \"type\": \"box\", \"boxpoints\": \"suspectedoutliers\"}, {\"showlegend\": false, \"name\": 44, \"marker\": {\"color\": \"rgb(107,174,214)\", \"outliercolor\": \"rgba(219, 64, 82, 0.6)\", \"line\": {\"outlierwidth\": 2, \"outliercolor\": \"rgba(219, 64, 82, 0.6)\"}}, \"y\": [7667, 7654, 7714, 7736, 7722, 7872, 7684, 7785, 7627, 7574, 7583], \"x\": 44, \"line\": {\"color\": \"rgb(107,174,214)\"}, \"type\": \"box\", \"boxpoints\": \"suspectedoutliers\"}, {\"showlegend\": false, \"name\": 45, \"marker\": {\"color\": \"rgb(107,174,214)\", \"outliercolor\": \"rgba(219, 64, 82, 0.6)\", \"line\": {\"outlierwidth\": 2, \"outliercolor\": \"rgba(219, 64, 82, 0.6)\"}}, \"y\": [7626, 7653, 7733, 7712, 7748, 7898, 7656, 7781, 7589, 7576, 7586], \"x\": 45, \"line\": {\"color\": \"rgb(107,174,214)\"}, \"type\": \"box\", \"boxpoints\": \"suspectedoutliers\"}, {\"showlegend\": false, \"name\": 46, \"marker\": {\"color\": \"rgb(107,174,214)\", \"outliercolor\": \"rgba(219, 64, 82, 0.6)\", \"line\": {\"outlierwidth\": 2, \"outliercolor\": \"rgba(219, 64, 82, 0.6)\"}}, \"y\": [7575, 7665, 7764, 7717, 7737, 7868, 7630, 7736, 7684, 7496, 7577], \"x\": 46, \"line\": {\"color\": \"rgb(107,174,214)\"}, \"type\": \"box\", \"boxpoints\": \"suspectedoutliers\"}, {\"showlegend\": false, \"name\": 47, \"marker\": {\"color\": \"rgb(107,174,214)\", \"outliercolor\": \"rgba(219, 64, 82, 0.6)\", \"line\": {\"outlierwidth\": 2, \"outliercolor\": \"rgba(219, 64, 82, 0.6)\"}}, \"y\": [7543, 7649, 7777, 7767, 7734, 7853, 7576, 7771, 7699, 7493, 7595], \"x\": 47, \"line\": {\"color\": \"rgb(107,174,214)\"}, \"type\": \"box\", \"boxpoints\": \"suspectedoutliers\"}, {\"showlegend\": false, \"name\": \"Mean\", \"mode\": \"lines\", \"y\": [7505.636363636364, 7577.545454545455, 7632.636363636364, 7673.181818181818, 7727.909090909091, 7770.818181818182, 7817.363636363636, 7846.454545454545, 7889.818181818182, 7917.272727272727, 7922.272727272727, 7919.727272727273, 7909.272727272727, 7882.636363636364, 7865.818181818182, 7853.090909090909, 7846.272727272727, 7837.0, 7804.818181818182, 7778.0, 7752.727272727273, 7739.818181818182, 7720.181818181818, 7716.363636363636, 7717.090909090909, 7724.636363636364, 7710.818181818182, 7732.0, 7721.454545454545, 7708.090909090909, 7715.818181818182, 7721.0, 7716.0, 7697.454545454545, 7672.272727272727, 7668.363636363636, 7656.0, 7653.727272727273, 7655.818181818182, 7677.727272727273, 7674.454545454545, 7671.818181818182, 7682.181818181818, 7700.272727272727, 7692.545454545455, 7687.090909090909, 7677.181818181818, 7677.909090909091], \"x\": [1, 2, 3, 4, 5, 6, 7, 8, 9, 10, 11, 12, 13, 14, 15, 16, 17, 18, 19, 20, 21, 22, 23, 24, 25, 26, 27, 28, 29, 30, 31, 32, 33, 34, 35, 36, 37, 38, 39, 40, 41, 42, 43, 44, 45, 46, 47], \"type\": \"scatter\"}], {}, {\"linkText\": \"Export to plot.ly\", \"showLink\": true})});</script>"
      ],
      "text/vnd.plotly.v1+html": [
       "<div id=\"04ccd759-20ab-4ffd-a33f-c1a6c203ea08\" style=\"height: 525px; width: 100%;\" class=\"plotly-graph-div\"></div><script type=\"text/javascript\">require([\"plotly\"], function(Plotly) { window.PLOTLYENV=window.PLOTLYENV || {};window.PLOTLYENV.BASE_URL=\"https://plot.ly\";Plotly.newPlot(\"04ccd759-20ab-4ffd-a33f-c1a6c203ea08\", [{\"showlegend\": false, \"name\": 0, \"marker\": {\"color\": \"rgb(107,174,214)\", \"outliercolor\": \"rgba(219, 64, 82, 0.6)\", \"line\": {\"outlierwidth\": 2, \"outliercolor\": \"rgba(219, 64, 82, 0.6)\"}}, \"y\": [7626, 7681, 7521, 7526, 7355, 7472, 7525, 7524, 7455, 7472, 7405], \"x\": 0, \"line\": {\"color\": \"rgb(107,174,214)\"}, \"type\": \"box\", \"boxpoints\": \"suspectedoutliers\"}, {\"showlegend\": false, \"name\": 1, \"marker\": {\"color\": \"rgb(107,174,214)\", \"outliercolor\": \"rgba(219, 64, 82, 0.6)\", \"line\": {\"outlierwidth\": 2, \"outliercolor\": \"rgba(219, 64, 82, 0.6)\"}}, \"y\": [7707, 7703, 7535, 7557, 7446, 7566, 7587, 7594, 7560, 7619, 7479], \"x\": 1, \"line\": {\"color\": \"rgb(107,174,214)\"}, \"type\": \"box\", \"boxpoints\": \"suspectedoutliers\"}, {\"showlegend\": false, \"name\": 2, \"marker\": {\"color\": \"rgb(107,174,214)\", \"outliercolor\": \"rgba(219, 64, 82, 0.6)\", \"line\": {\"outlierwidth\": 2, \"outliercolor\": \"rgba(219, 64, 82, 0.6)\"}}, \"y\": [7755, 7709, 7600, 7601, 7544, 7692, 7658, 7585, 7629, 7625, 7561], \"x\": 2, \"line\": {\"color\": \"rgb(107,174,214)\"}, \"type\": \"box\", \"boxpoints\": \"suspectedoutliers\"}, {\"showlegend\": false, \"name\": 3, \"marker\": {\"color\": \"rgb(107,174,214)\", \"outliercolor\": \"rgba(219, 64, 82, 0.6)\", \"line\": {\"outlierwidth\": 2, \"outliercolor\": \"rgba(219, 64, 82, 0.6)\"}}, \"y\": [7773, 7787, 7712, 7569, 7594, 7767, 7672, 7605, 7653, 7656, 7617], \"x\": 3, \"line\": {\"color\": \"rgb(107,174,214)\"}, \"type\": \"box\", \"boxpoints\": \"suspectedoutliers\"}, {\"showlegend\": false, \"name\": 4, \"marker\": {\"color\": \"rgb(107,174,214)\", \"outliercolor\": \"rgba(219, 64, 82, 0.6)\", \"line\": {\"outlierwidth\": 2, \"outliercolor\": \"rgba(219, 64, 82, 0.6)\"}}, \"y\": [7838, 7808, 7747, 7653, 7623, 7793, 7746, 7695, 7737, 7694, 7673], \"x\": 4, \"line\": {\"color\": \"rgb(107,174,214)\"}, \"type\": \"box\", \"boxpoints\": \"suspectedoutliers\"}, {\"showlegend\": false, \"name\": 5, \"marker\": {\"color\": \"rgb(107,174,214)\", \"outliercolor\": \"rgba(219, 64, 82, 0.6)\", \"line\": {\"outlierwidth\": 2, \"outliercolor\": \"rgba(219, 64, 82, 0.6)\"}}, \"y\": [7891, 7811, 7844, 7683, 7629, 7826, 7829, 7722, 7800, 7708, 7736], \"x\": 5, \"line\": {\"color\": \"rgb(107,174,214)\"}, \"type\": \"box\", \"boxpoints\": \"suspectedoutliers\"}, {\"showlegend\": false, \"name\": 6, \"marker\": {\"color\": \"rgb(107,174,214)\", \"outliercolor\": \"rgba(219, 64, 82, 0.6)\", \"line\": {\"outlierwidth\": 2, \"outliercolor\": \"rgba(219, 64, 82, 0.6)\"}}, \"y\": [7949, 7893, 7842, 7763, 7681, 7878, 7827, 7737, 7826, 7745, 7850], \"x\": 6, \"line\": {\"color\": \"rgb(107,174,214)\"}, \"type\": \"box\", \"boxpoints\": \"suspectedoutliers\"}, {\"showlegend\": false, \"name\": 7, \"marker\": {\"color\": \"rgb(107,174,214)\", \"outliercolor\": \"rgba(219, 64, 82, 0.6)\", \"line\": {\"outlierwidth\": 2, \"outliercolor\": \"rgba(219, 64, 82, 0.6)\"}}, \"y\": [7932, 7870, 7850, 7767, 7689, 7917, 7919, 7770, 7895, 7783, 7919], \"x\": 7, \"line\": {\"color\": \"rgb(107,174,214)\"}, \"type\": \"box\", \"boxpoints\": \"suspectedoutliers\"}, {\"showlegend\": false, \"name\": 8, \"marker\": {\"color\": \"rgb(107,174,214)\", \"outliercolor\": \"rgba(219, 64, 82, 0.6)\", \"line\": {\"outlierwidth\": 2, \"outliercolor\": \"rgba(219, 64, 82, 0.6)\"}}, \"y\": [8027, 7853, 7853, 7831, 7734, 7979, 7959, 7793, 7939, 7869, 7951], \"x\": 8, \"line\": {\"color\": \"rgb(107,174,214)\"}, \"type\": \"box\", \"boxpoints\": \"suspectedoutliers\"}, {\"showlegend\": false, \"name\": 9, \"marker\": {\"color\": \"rgb(107,174,214)\", \"outliercolor\": \"rgba(219, 64, 82, 0.6)\", \"line\": {\"outlierwidth\": 2, \"outliercolor\": \"rgba(219, 64, 82, 0.6)\"}}, \"y\": [7995, 7893, 7847, 7877, 7744, 8038, 8009, 7811, 7984, 7888, 8004], \"x\": 9, \"line\": {\"color\": \"rgb(107,174,214)\"}, \"type\": \"box\", \"boxpoints\": \"suspectedoutliers\"}, {\"showlegend\": false, \"name\": 10, \"marker\": {\"color\": \"rgb(107,174,214)\", \"outliercolor\": \"rgba(219, 64, 82, 0.6)\", \"line\": {\"outlierwidth\": 2, \"outliercolor\": \"rgba(219, 64, 82, 0.6)\"}}, \"y\": [7979, 7878, 7899, 7928, 7796, 7984, 7989, 7847, 7978, 7896, 7971], \"x\": 10, \"line\": {\"color\": \"rgb(107,174,214)\"}, \"type\": \"box\", \"boxpoints\": \"suspectedoutliers\"}, {\"showlegend\": false, \"name\": 11, \"marker\": {\"color\": \"rgb(107,174,214)\", \"outliercolor\": \"rgba(219, 64, 82, 0.6)\", \"line\": {\"outlierwidth\": 2, \"outliercolor\": \"rgba(219, 64, 82, 0.6)\"}}, \"y\": [7983, 7875, 7918, 7981, 7746, 7979, 8052, 7861, 7932, 7876, 7914], \"x\": 11, \"line\": {\"color\": \"rgb(107,174,214)\"}, \"type\": \"box\", \"boxpoints\": \"suspectedoutliers\"}, {\"showlegend\": false, \"name\": 12, \"marker\": {\"color\": \"rgb(107,174,214)\", \"outliercolor\": \"rgba(219, 64, 82, 0.6)\", \"line\": {\"outlierwidth\": 2, \"outliercolor\": \"rgba(219, 64, 82, 0.6)\"}}, \"y\": [7984, 7822, 7937, 7928, 7764, 7998, 8035, 7805, 7971, 7869, 7889], \"x\": 12, \"line\": {\"color\": \"rgb(107,174,214)\"}, \"type\": \"box\", \"boxpoints\": \"suspectedoutliers\"}, {\"showlegend\": false, \"name\": 13, \"marker\": {\"color\": \"rgb(107,174,214)\", \"outliercolor\": \"rgba(219, 64, 82, 0.6)\", \"line\": {\"outlierwidth\": 2, \"outliercolor\": \"rgba(219, 64, 82, 0.6)\"}}, \"y\": [7958, 7815, 7868, 7901, 7740, 8017, 7960, 7790, 7975, 7835, 7850], \"x\": 13, \"line\": {\"color\": \"rgb(107,174,214)\"}, \"type\": \"box\", \"boxpoints\": \"suspectedoutliers\"}, {\"showlegend\": false, \"name\": 14, \"marker\": {\"color\": \"rgb(107,174,214)\", \"outliercolor\": \"rgba(219, 64, 82, 0.6)\", \"line\": {\"outlierwidth\": 2, \"outliercolor\": \"rgba(219, 64, 82, 0.6)\"}}, \"y\": [7899, 7755, 7861, 7884, 7765, 8015, 7962, 7780, 7958, 7830, 7815], \"x\": 14, \"line\": {\"color\": \"rgb(107,174,214)\"}, \"type\": \"box\", \"boxpoints\": \"suspectedoutliers\"}, {\"showlegend\": false, \"name\": 15, \"marker\": {\"color\": \"rgb(107,174,214)\", \"outliercolor\": \"rgba(219, 64, 82, 0.6)\", \"line\": {\"outlierwidth\": 2, \"outliercolor\": \"rgba(219, 64, 82, 0.6)\"}}, \"y\": [7919, 7664, 7879, 7910, 7766, 8003, 7929, 7780, 7937, 7795, 7802], \"x\": 15, \"line\": {\"color\": \"rgb(107,174,214)\"}, \"type\": \"box\", \"boxpoints\": \"suspectedoutliers\"}, {\"showlegend\": false, \"name\": 16, \"marker\": {\"color\": \"rgb(107,174,214)\", \"outliercolor\": \"rgba(219, 64, 82, 0.6)\", \"line\": {\"outlierwidth\": 2, \"outliercolor\": \"rgba(219, 64, 82, 0.6)\"}}, \"y\": [7950, 7613, 7895, 7913, 7780, 7994, 7923, 7719, 7943, 7764, 7815], \"x\": 16, \"line\": {\"color\": \"rgb(107,174,214)\"}, \"type\": \"box\", \"boxpoints\": \"suspectedoutliers\"}, {\"showlegend\": false, \"name\": 17, \"marker\": {\"color\": \"rgb(107,174,214)\", \"outliercolor\": \"rgba(219, 64, 82, 0.6)\", \"line\": {\"outlierwidth\": 2, \"outliercolor\": \"rgba(219, 64, 82, 0.6)\"}}, \"y\": [7923, 7586, 7936, 7920, 7745, 7955, 7896, 7678, 7933, 7808, 7827], \"x\": 17, \"line\": {\"color\": \"rgb(107,174,214)\"}, \"type\": \"box\", \"boxpoints\": \"suspectedoutliers\"}, {\"showlegend\": false, \"name\": 18, \"marker\": {\"color\": \"rgb(107,174,214)\", \"outliercolor\": \"rgba(219, 64, 82, 0.6)\", \"line\": {\"outlierwidth\": 2, \"outliercolor\": \"rgba(219, 64, 82, 0.6)\"}}, \"y\": [7889, 7551, 7842, 7900, 7677, 7961, 7889, 7667, 7906, 7788, 7783], \"x\": 18, \"line\": {\"color\": \"rgb(107,174,214)\"}, \"type\": \"box\", \"boxpoints\": \"suspectedoutliers\"}, {\"showlegend\": false, \"name\": 19, \"marker\": {\"color\": \"rgb(107,174,214)\", \"outliercolor\": \"rgba(219, 64, 82, 0.6)\", \"line\": {\"outlierwidth\": 2, \"outliercolor\": \"rgba(219, 64, 82, 0.6)\"}}, \"y\": [7892, 7519, 7774, 7896, 7667, 7932, 7802, 7645, 7919, 7754, 7758], \"x\": 19, \"line\": {\"color\": \"rgb(107,174,214)\"}, \"type\": \"box\", \"boxpoints\": \"suspectedoutliers\"}, {\"showlegend\": false, \"name\": 20, \"marker\": {\"color\": \"rgb(107,174,214)\", \"outliercolor\": \"rgba(219, 64, 82, 0.6)\", \"line\": {\"outlierwidth\": 2, \"outliercolor\": \"rgba(219, 64, 82, 0.6)\"}}, \"y\": [7824, 7512, 7751, 7819, 7675, 7930, 7758, 7629, 7907, 7722, 7753], \"x\": 20, \"line\": {\"color\": \"rgb(107,174,214)\"}, \"type\": \"box\", \"boxpoints\": \"suspectedoutliers\"}, {\"showlegend\": false, \"name\": 21, \"marker\": {\"color\": \"rgb(107,174,214)\", \"outliercolor\": \"rgba(219, 64, 82, 0.6)\", \"line\": {\"outlierwidth\": 2, \"outliercolor\": \"rgba(219, 64, 82, 0.6)\"}}, \"y\": [7793, 7475, 7778, 7754, 7671, 7944, 7751, 7669, 7889, 7683, 7731], \"x\": 21, \"line\": {\"color\": \"rgb(107,174,214)\"}, \"type\": \"box\", \"boxpoints\": \"suspectedoutliers\"}, {\"showlegend\": false, \"name\": 22, \"marker\": {\"color\": \"rgb(107,174,214)\", \"outliercolor\": \"rgba(219, 64, 82, 0.6)\", \"line\": {\"outlierwidth\": 2, \"outliercolor\": \"rgba(219, 64, 82, 0.6)\"}}, \"y\": [7808, 7442, 7733, 7739, 7615, 7915, 7686, 7688, 7888, 7670, 7738], \"x\": 22, \"line\": {\"color\": \"rgb(107,174,214)\"}, \"type\": \"box\", \"boxpoints\": \"suspectedoutliers\"}, {\"showlegend\": false, \"name\": 23, \"marker\": {\"color\": \"rgb(107,174,214)\", \"outliercolor\": \"rgba(219, 64, 82, 0.6)\", \"line\": {\"outlierwidth\": 2, \"outliercolor\": \"rgba(219, 64, 82, 0.6)\"}}, \"y\": [7764, 7448, 7810, 7715, 7571, 7915, 7655, 7649, 7905, 7683, 7765], \"x\": 23, \"line\": {\"color\": \"rgb(107,174,214)\"}, \"type\": \"box\", \"boxpoints\": \"suspectedoutliers\"}, {\"showlegend\": false, \"name\": 24, \"marker\": {\"color\": \"rgb(107,174,214)\", \"outliercolor\": \"rgba(219, 64, 82, 0.6)\", \"line\": {\"outlierwidth\": 2, \"outliercolor\": \"rgba(219, 64, 82, 0.6)\"}}, \"y\": [7726, 7508, 7797, 7739, 7591, 7822, 7646, 7706, 7865, 7708, 7780], \"x\": 24, \"line\": {\"color\": \"rgb(107,174,214)\"}, \"type\": \"box\", \"boxpoints\": \"suspectedoutliers\"}, {\"showlegend\": false, \"name\": 25, \"marker\": {\"color\": \"rgb(107,174,214)\", \"outliercolor\": \"rgba(219, 64, 82, 0.6)\", \"line\": {\"outlierwidth\": 2, \"outliercolor\": \"rgba(219, 64, 82, 0.6)\"}}, \"y\": [7805, 7525, 7857, 7682, 7543, 7858, 7678, 7693, 7893, 7692, 7745], \"x\": 25, \"line\": {\"color\": \"rgb(107,174,214)\"}, \"type\": \"box\", \"boxpoints\": \"suspectedoutliers\"}, {\"showlegend\": false, \"name\": 26, \"marker\": {\"color\": \"rgb(107,174,214)\", \"outliercolor\": \"rgba(219, 64, 82, 0.6)\", \"line\": {\"outlierwidth\": 2, \"outliercolor\": \"rgba(219, 64, 82, 0.6)\"}}, \"y\": [7851, 7599, 7833, 7641, 7469, 7845, 7645, 7647, 7863, 7684, 7742], \"x\": 26, \"line\": {\"color\": \"rgb(107,174,214)\"}, \"type\": \"box\", \"boxpoints\": \"suspectedoutliers\"}, {\"showlegend\": false, \"name\": 27, \"marker\": {\"color\": \"rgb(107,174,214)\", \"outliercolor\": \"rgba(219, 64, 82, 0.6)\", \"line\": {\"outlierwidth\": 2, \"outliercolor\": \"rgba(219, 64, 82, 0.6)\"}}, \"y\": [7819, 7643, 7852, 7648, 7516, 7865, 7669, 7729, 7877, 7668, 7766], \"x\": 27, \"line\": {\"color\": \"rgb(107,174,214)\"}, \"type\": \"box\", \"boxpoints\": \"suspectedoutliers\"}, {\"showlegend\": false, \"name\": 28, \"marker\": {\"color\": \"rgb(107,174,214)\", \"outliercolor\": \"rgba(219, 64, 82, 0.6)\", \"line\": {\"outlierwidth\": 2, \"outliercolor\": \"rgba(219, 64, 82, 0.6)\"}}, \"y\": [7782, 7641, 7801, 7668, 7482, 7856, 7730, 7758, 7825, 7702, 7691], \"x\": 28, \"line\": {\"color\": \"rgb(107,174,214)\"}, \"type\": \"box\", \"boxpoints\": \"suspectedoutliers\"}, {\"showlegend\": false, \"name\": 29, \"marker\": {\"color\": \"rgb(107,174,214)\", \"outliercolor\": \"rgba(219, 64, 82, 0.6)\", \"line\": {\"outlierwidth\": 2, \"outliercolor\": \"rgba(219, 64, 82, 0.6)\"}}, \"y\": [7785, 7672, 7719, 7649, 7562, 7847, 7734, 7703, 7814, 7705, 7599], \"x\": 29, \"line\": {\"color\": \"rgb(107,174,214)\"}, \"type\": \"box\", \"boxpoints\": \"suspectedoutliers\"}, {\"showlegend\": false, \"name\": 30, \"marker\": {\"color\": \"rgb(107,174,214)\", \"outliercolor\": \"rgba(219, 64, 82, 0.6)\", \"line\": {\"outlierwidth\": 2, \"outliercolor\": \"rgba(219, 64, 82, 0.6)\"}}, \"y\": [7797, 7638, 7729, 7644, 7618, 7841, 7714, 7719, 7840, 7705, 7629], \"x\": 30, \"line\": {\"color\": \"rgb(107,174,214)\"}, \"type\": \"box\", \"boxpoints\": \"suspectedoutliers\"}, {\"showlegend\": false, \"name\": 31, \"marker\": {\"color\": \"rgb(107,174,214)\", \"outliercolor\": \"rgba(219, 64, 82, 0.6)\", \"line\": {\"outlierwidth\": 2, \"outliercolor\": \"rgba(219, 64, 82, 0.6)\"}}, \"y\": [7825, 7662, 7716, 7695, 7596, 7876, 7731, 7721, 7815, 7724, 7570], \"x\": 31, \"line\": {\"color\": \"rgb(107,174,214)\"}, \"type\": \"box\", \"boxpoints\": \"suspectedoutliers\"}, {\"showlegend\": false, \"name\": 32, \"marker\": {\"color\": \"rgb(107,174,214)\", \"outliercolor\": \"rgba(219, 64, 82, 0.6)\", \"line\": {\"outlierwidth\": 2, \"outliercolor\": \"rgba(219, 64, 82, 0.6)\"}}, \"y\": [7775, 7591, 7746, 7710, 7618, 7888, 7696, 7718, 7784, 7743, 7607], \"x\": 32, \"line\": {\"color\": \"rgb(107,174,214)\"}, \"type\": \"box\", \"boxpoints\": \"suspectedoutliers\"}, {\"showlegend\": false, \"name\": 33, \"marker\": {\"color\": \"rgb(107,174,214)\", \"outliercolor\": \"rgba(219, 64, 82, 0.6)\", \"line\": {\"outlierwidth\": 2, \"outliercolor\": \"rgba(219, 64, 82, 0.6)\"}}, \"y\": [7793, 7536, 7695, 7719, 7621, 7931, 7701, 7673, 7775, 7702, 7526], \"x\": 33, \"line\": {\"color\": \"rgb(107,174,214)\"}, \"type\": \"box\", \"boxpoints\": \"suspectedoutliers\"}, {\"showlegend\": false, \"name\": 34, \"marker\": {\"color\": \"rgb(107,174,214)\", \"outliercolor\": \"rgba(219, 64, 82, 0.6)\", \"line\": {\"outlierwidth\": 2, \"outliercolor\": \"rgba(219, 64, 82, 0.6)\"}}, \"y\": [7723, 7546, 7614, 7751, 7609, 7910, 7662, 7707, 7709, 7639, 7525], \"x\": 34, \"line\": {\"color\": \"rgb(107,174,214)\"}, \"type\": \"box\", \"boxpoints\": \"suspectedoutliers\"}, {\"showlegend\": false, \"name\": 35, \"marker\": {\"color\": \"rgb(107,174,214)\", \"outliercolor\": \"rgba(219, 64, 82, 0.6)\", \"line\": {\"outlierwidth\": 2, \"outliercolor\": \"rgba(219, 64, 82, 0.6)\"}}, \"y\": [7757, 7520, 7646, 7712, 7645, 7880, 7649, 7684, 7703, 7644, 7512], \"x\": 35, \"line\": {\"color\": \"rgb(107,174,214)\"}, \"type\": \"box\", \"boxpoints\": \"suspectedoutliers\"}, {\"showlegend\": false, \"name\": 36, \"marker\": {\"color\": \"rgb(107,174,214)\", \"outliercolor\": \"rgba(219, 64, 82, 0.6)\", \"line\": {\"outlierwidth\": 2, \"outliercolor\": \"rgba(219, 64, 82, 0.6)\"}}, \"y\": [7778, 7581, 7574, 7634, 7621, 7879, 7677, 7651, 7661, 7616, 7544], \"x\": 36, \"line\": {\"color\": \"rgb(107,174,214)\"}, \"type\": \"box\", \"boxpoints\": \"suspectedoutliers\"}, {\"showlegend\": false, \"name\": 37, \"marker\": {\"color\": \"rgb(107,174,214)\", \"outliercolor\": \"rgba(219, 64, 82, 0.6)\", \"line\": {\"outlierwidth\": 2, \"outliercolor\": \"rgba(219, 64, 82, 0.6)\"}}, \"y\": [7768, 7569, 7551, 7669, 7645, 7847, 7641, 7699, 7671, 7602, 7529], \"x\": 37, \"line\": {\"color\": \"rgb(107,174,214)\"}, \"type\": \"box\", \"boxpoints\": \"suspectedoutliers\"}, {\"showlegend\": false, \"name\": 38, \"marker\": {\"color\": \"rgb(107,174,214)\", \"outliercolor\": \"rgba(219, 64, 82, 0.6)\", \"line\": {\"outlierwidth\": 2, \"outliercolor\": \"rgba(219, 64, 82, 0.6)\"}}, \"y\": [7722, 7608, 7643, 7661, 7658, 7816, 7613, 7673, 7662, 7607, 7551], \"x\": 38, \"line\": {\"color\": \"rgb(107,174,214)\"}, \"type\": \"box\", \"boxpoints\": \"suspectedoutliers\"}, {\"showlegend\": false, \"name\": 39, \"marker\": {\"color\": \"rgb(107,174,214)\", \"outliercolor\": \"rgba(219, 64, 82, 0.6)\", \"line\": {\"outlierwidth\": 2, \"outliercolor\": \"rgba(219, 64, 82, 0.6)\"}}, \"y\": [7747, 7651, 7659, 7662, 7694, 7833, 7614, 7715, 7679, 7625, 7576], \"x\": 39, \"line\": {\"color\": \"rgb(107,174,214)\"}, \"type\": \"box\", \"boxpoints\": \"suspectedoutliers\"}, {\"showlegend\": false, \"name\": 40, \"marker\": {\"color\": \"rgb(107,174,214)\", \"outliercolor\": \"rgba(219, 64, 82, 0.6)\", \"line\": {\"outlierwidth\": 2, \"outliercolor\": \"rgba(219, 64, 82, 0.6)\"}}, \"y\": [7752, 7604, 7623, 7674, 7640, 7818, 7656, 7795, 7670, 7576, 7611], \"x\": 40, \"line\": {\"color\": \"rgb(107,174,214)\"}, \"type\": \"box\", \"boxpoints\": \"suspectedoutliers\"}, {\"showlegend\": false, \"name\": 41, \"marker\": {\"color\": \"rgb(107,174,214)\", \"outliercolor\": \"rgba(219, 64, 82, 0.6)\", \"line\": {\"outlierwidth\": 2, \"outliercolor\": \"rgba(219, 64, 82, 0.6)\"}}, \"y\": [7722, 7595, 7644, 7630, 7691, 7803, 7698, 7781, 7640, 7593, 7593], \"x\": 41, \"line\": {\"color\": \"rgb(107,174,214)\"}, \"type\": \"box\", \"boxpoints\": \"suspectedoutliers\"}, {\"showlegend\": false, \"name\": 42, \"marker\": {\"color\": \"rgb(107,174,214)\", \"outliercolor\": \"rgba(219, 64, 82, 0.6)\", \"line\": {\"outlierwidth\": 2, \"outliercolor\": \"rgba(219, 64, 82, 0.6)\"}}, \"y\": [7687, 7651, 7692, 7669, 7677, 7828, 7746, 7764, 7644, 7582, 7564], \"x\": 42, \"line\": {\"color\": \"rgb(107,174,214)\"}, \"type\": \"box\", \"boxpoints\": \"suspectedoutliers\"}, {\"showlegend\": false, \"name\": 43, \"marker\": {\"color\": \"rgb(107,174,214)\", \"outliercolor\": \"rgba(219, 64, 82, 0.6)\", \"line\": {\"outlierwidth\": 2, \"outliercolor\": \"rgba(219, 64, 82, 0.6)\"}}, \"y\": [7639, 7663, 7731, 7748, 7714, 7840, 7727, 7777, 7634, 7638, 7592], \"x\": 43, \"line\": {\"color\": \"rgb(107,174,214)\"}, \"type\": \"box\", \"boxpoints\": \"suspectedoutliers\"}, {\"showlegend\": false, \"name\": 44, \"marker\": {\"color\": \"rgb(107,174,214)\", \"outliercolor\": \"rgba(219, 64, 82, 0.6)\", \"line\": {\"outlierwidth\": 2, \"outliercolor\": \"rgba(219, 64, 82, 0.6)\"}}, \"y\": [7667, 7654, 7714, 7736, 7722, 7872, 7684, 7785, 7627, 7574, 7583], \"x\": 44, \"line\": {\"color\": \"rgb(107,174,214)\"}, \"type\": \"box\", \"boxpoints\": \"suspectedoutliers\"}, {\"showlegend\": false, \"name\": 45, \"marker\": {\"color\": \"rgb(107,174,214)\", \"outliercolor\": \"rgba(219, 64, 82, 0.6)\", \"line\": {\"outlierwidth\": 2, \"outliercolor\": \"rgba(219, 64, 82, 0.6)\"}}, \"y\": [7626, 7653, 7733, 7712, 7748, 7898, 7656, 7781, 7589, 7576, 7586], \"x\": 45, \"line\": {\"color\": \"rgb(107,174,214)\"}, \"type\": \"box\", \"boxpoints\": \"suspectedoutliers\"}, {\"showlegend\": false, \"name\": 46, \"marker\": {\"color\": \"rgb(107,174,214)\", \"outliercolor\": \"rgba(219, 64, 82, 0.6)\", \"line\": {\"outlierwidth\": 2, \"outliercolor\": \"rgba(219, 64, 82, 0.6)\"}}, \"y\": [7575, 7665, 7764, 7717, 7737, 7868, 7630, 7736, 7684, 7496, 7577], \"x\": 46, \"line\": {\"color\": \"rgb(107,174,214)\"}, \"type\": \"box\", \"boxpoints\": \"suspectedoutliers\"}, {\"showlegend\": false, \"name\": 47, \"marker\": {\"color\": \"rgb(107,174,214)\", \"outliercolor\": \"rgba(219, 64, 82, 0.6)\", \"line\": {\"outlierwidth\": 2, \"outliercolor\": \"rgba(219, 64, 82, 0.6)\"}}, \"y\": [7543, 7649, 7777, 7767, 7734, 7853, 7576, 7771, 7699, 7493, 7595], \"x\": 47, \"line\": {\"color\": \"rgb(107,174,214)\"}, \"type\": \"box\", \"boxpoints\": \"suspectedoutliers\"}, {\"showlegend\": false, \"name\": \"Mean\", \"mode\": \"lines\", \"y\": [7505.636363636364, 7577.545454545455, 7632.636363636364, 7673.181818181818, 7727.909090909091, 7770.818181818182, 7817.363636363636, 7846.454545454545, 7889.818181818182, 7917.272727272727, 7922.272727272727, 7919.727272727273, 7909.272727272727, 7882.636363636364, 7865.818181818182, 7853.090909090909, 7846.272727272727, 7837.0, 7804.818181818182, 7778.0, 7752.727272727273, 7739.818181818182, 7720.181818181818, 7716.363636363636, 7717.090909090909, 7724.636363636364, 7710.818181818182, 7732.0, 7721.454545454545, 7708.090909090909, 7715.818181818182, 7721.0, 7716.0, 7697.454545454545, 7672.272727272727, 7668.363636363636, 7656.0, 7653.727272727273, 7655.818181818182, 7677.727272727273, 7674.454545454545, 7671.818181818182, 7682.181818181818, 7700.272727272727, 7692.545454545455, 7687.090909090909, 7677.181818181818, 7677.909090909091], \"x\": [1, 2, 3, 4, 5, 6, 7, 8, 9, 10, 11, 12, 13, 14, 15, 16, 17, 18, 19, 20, 21, 22, 23, 24, 25, 26, 27, 28, 29, 30, 31, 32, 33, 34, 35, 36, 37, 38, 39, 40, 41, 42, 43, 44, 45, 46, 47], \"type\": \"scatter\"}], {}, {\"linkText\": \"Export to plot.ly\", \"showLink\": true})});</script>"
      ]
     },
     "metadata": {},
     "output_type": "display_data"
    },
    {
     "data": {
      "application/vnd.plotly.v1+json": {
       "data": [
        {
         "boxpoints": "suspectedoutliers",
         "line": {
          "color": "rgb(107,174,214)"
         },
         "marker": {
          "color": "rgb(107,174,214)",
          "line": {
           "outliercolor": "rgba(219, 64, 82, 0.6)",
           "outlierwidth": 2
          },
          "outliercolor": "rgba(219, 64, 82, 0.6)"
         },
         "name": 0,
         "showlegend": false,
         "type": "box",
         "x": 0,
         "y": [
          0,
          0,
          0,
          0,
          0,
          0,
          0,
          0,
          0,
          0,
          0
         ]
        },
        {
         "boxpoints": "suspectedoutliers",
         "line": {
          "color": "rgb(107,174,214)"
         },
         "marker": {
          "color": "rgb(107,174,214)",
          "line": {
           "outliercolor": "rgba(219, 64, 82, 0.6)",
           "outlierwidth": 2
          },
          "outliercolor": "rgba(219, 64, 82, 0.6)"
         },
         "name": 1,
         "showlegend": false,
         "type": "box",
         "x": 1,
         "y": [
          0,
          0,
          1,
          3,
          0,
          0,
          0,
          0,
          1,
          0,
          1
         ]
        },
        {
         "boxpoints": "suspectedoutliers",
         "line": {
          "color": "rgb(107,174,214)"
         },
         "marker": {
          "color": "rgb(107,174,214)",
          "line": {
           "outliercolor": "rgba(219, 64, 82, 0.6)",
           "outlierwidth": 2
          },
          "outliercolor": "rgba(219, 64, 82, 0.6)"
         },
         "name": 2,
         "showlegend": false,
         "type": "box",
         "x": 2,
         "y": [
          3,
          1,
          2,
          3,
          1,
          1,
          1,
          0,
          1,
          0,
          1
         ]
        },
        {
         "boxpoints": "suspectedoutliers",
         "line": {
          "color": "rgb(107,174,214)"
         },
         "marker": {
          "color": "rgb(107,174,214)",
          "line": {
           "outliercolor": "rgba(219, 64, 82, 0.6)",
           "outlierwidth": 2
          },
          "outliercolor": "rgba(219, 64, 82, 0.6)"
         },
         "name": 3,
         "showlegend": false,
         "type": "box",
         "x": 3,
         "y": [
          3,
          1,
          2,
          3,
          1,
          1,
          2,
          1,
          2,
          0,
          1
         ]
        },
        {
         "boxpoints": "suspectedoutliers",
         "line": {
          "color": "rgb(107,174,214)"
         },
         "marker": {
          "color": "rgb(107,174,214)",
          "line": {
           "outliercolor": "rgba(219, 64, 82, 0.6)",
           "outlierwidth": 2
          },
          "outliercolor": "rgba(219, 64, 82, 0.6)"
         },
         "name": 4,
         "showlegend": false,
         "type": "box",
         "x": 4,
         "y": [
          4,
          2,
          2,
          3,
          1,
          1,
          2,
          1,
          2,
          1,
          1
         ]
        },
        {
         "boxpoints": "suspectedoutliers",
         "line": {
          "color": "rgb(107,174,214)"
         },
         "marker": {
          "color": "rgb(107,174,214)",
          "line": {
           "outliercolor": "rgba(219, 64, 82, 0.6)",
           "outlierwidth": 2
          },
          "outliercolor": "rgba(219, 64, 82, 0.6)"
         },
         "name": 5,
         "showlegend": false,
         "type": "box",
         "x": 5,
         "y": [
          5,
          2,
          2,
          3,
          2,
          2,
          2,
          1,
          2,
          3,
          1
         ]
        },
        {
         "boxpoints": "suspectedoutliers",
         "line": {
          "color": "rgb(107,174,214)"
         },
         "marker": {
          "color": "rgb(107,174,214)",
          "line": {
           "outliercolor": "rgba(219, 64, 82, 0.6)",
           "outlierwidth": 2
          },
          "outliercolor": "rgba(219, 64, 82, 0.6)"
         },
         "name": 6,
         "showlegend": false,
         "type": "box",
         "x": 6,
         "y": [
          5,
          3,
          3,
          3,
          2,
          2,
          2,
          2,
          4,
          4,
          1
         ]
        },
        {
         "boxpoints": "suspectedoutliers",
         "line": {
          "color": "rgb(107,174,214)"
         },
         "marker": {
          "color": "rgb(107,174,214)",
          "line": {
           "outliercolor": "rgba(219, 64, 82, 0.6)",
           "outlierwidth": 2
          },
          "outliercolor": "rgba(219, 64, 82, 0.6)"
         },
         "name": 7,
         "showlegend": false,
         "type": "box",
         "x": 7,
         "y": [
          5,
          3,
          3,
          3,
          2,
          2,
          2,
          2,
          4,
          5,
          1
         ]
        },
        {
         "boxpoints": "suspectedoutliers",
         "line": {
          "color": "rgb(107,174,214)"
         },
         "marker": {
          "color": "rgb(107,174,214)",
          "line": {
           "outliercolor": "rgba(219, 64, 82, 0.6)",
           "outlierwidth": 2
          },
          "outliercolor": "rgba(219, 64, 82, 0.6)"
         },
         "name": 8,
         "showlegend": false,
         "type": "box",
         "x": 8,
         "y": [
          6,
          4,
          3,
          3,
          4,
          3,
          2,
          2,
          5,
          5,
          1
         ]
        },
        {
         "boxpoints": "suspectedoutliers",
         "line": {
          "color": "rgb(107,174,214)"
         },
         "marker": {
          "color": "rgb(107,174,214)",
          "line": {
           "outliercolor": "rgba(219, 64, 82, 0.6)",
           "outlierwidth": 2
          },
          "outliercolor": "rgba(219, 64, 82, 0.6)"
         },
         "name": 9,
         "showlegend": false,
         "type": "box",
         "x": 9,
         "y": [
          7,
          4,
          5,
          3,
          4,
          3,
          2,
          2,
          5,
          5,
          1
         ]
        },
        {
         "boxpoints": "suspectedoutliers",
         "line": {
          "color": "rgb(107,174,214)"
         },
         "marker": {
          "color": "rgb(107,174,214)",
          "line": {
           "outliercolor": "rgba(219, 64, 82, 0.6)",
           "outlierwidth": 2
          },
          "outliercolor": "rgba(219, 64, 82, 0.6)"
         },
         "name": 10,
         "showlegend": false,
         "type": "box",
         "x": 10,
         "y": [
          7,
          4,
          5,
          3,
          4,
          3,
          2,
          3,
          6,
          5,
          1
         ]
        },
        {
         "boxpoints": "suspectedoutliers",
         "line": {
          "color": "rgb(107,174,214)"
         },
         "marker": {
          "color": "rgb(107,174,214)",
          "line": {
           "outliercolor": "rgba(219, 64, 82, 0.6)",
           "outlierwidth": 2
          },
          "outliercolor": "rgba(219, 64, 82, 0.6)"
         },
         "name": 11,
         "showlegend": false,
         "type": "box",
         "x": 11,
         "y": [
          7,
          4,
          5,
          3,
          5,
          3,
          2,
          3,
          7,
          5,
          1
         ]
        },
        {
         "boxpoints": "suspectedoutliers",
         "line": {
          "color": "rgb(107,174,214)"
         },
         "marker": {
          "color": "rgb(107,174,214)",
          "line": {
           "outliercolor": "rgba(219, 64, 82, 0.6)",
           "outlierwidth": 2
          },
          "outliercolor": "rgba(219, 64, 82, 0.6)"
         },
         "name": 12,
         "showlegend": false,
         "type": "box",
         "x": 12,
         "y": [
          7,
          5,
          5,
          3,
          5,
          3,
          2,
          3,
          7,
          5,
          2
         ]
        },
        {
         "boxpoints": "suspectedoutliers",
         "line": {
          "color": "rgb(107,174,214)"
         },
         "marker": {
          "color": "rgb(107,174,214)",
          "line": {
           "outliercolor": "rgba(219, 64, 82, 0.6)",
           "outlierwidth": 2
          },
          "outliercolor": "rgba(219, 64, 82, 0.6)"
         },
         "name": 13,
         "showlegend": false,
         "type": "box",
         "x": 13,
         "y": [
          7,
          5,
          5,
          4,
          5,
          3,
          3,
          4,
          8,
          5,
          2
         ]
        },
        {
         "boxpoints": "suspectedoutliers",
         "line": {
          "color": "rgb(107,174,214)"
         },
         "marker": {
          "color": "rgb(107,174,214)",
          "line": {
           "outliercolor": "rgba(219, 64, 82, 0.6)",
           "outlierwidth": 2
          },
          "outliercolor": "rgba(219, 64, 82, 0.6)"
         },
         "name": 14,
         "showlegend": false,
         "type": "box",
         "x": 14,
         "y": [
          7,
          5,
          5,
          5,
          5,
          4,
          3,
          6,
          8,
          5,
          2
         ]
        },
        {
         "boxpoints": "suspectedoutliers",
         "line": {
          "color": "rgb(107,174,214)"
         },
         "marker": {
          "color": "rgb(107,174,214)",
          "line": {
           "outliercolor": "rgba(219, 64, 82, 0.6)",
           "outlierwidth": 2
          },
          "outliercolor": "rgba(219, 64, 82, 0.6)"
         },
         "name": 15,
         "showlegend": false,
         "type": "box",
         "x": 15,
         "y": [
          7,
          5,
          5,
          5,
          5,
          4,
          3,
          6,
          9,
          5,
          2
         ]
        },
        {
         "boxpoints": "suspectedoutliers",
         "line": {
          "color": "rgb(107,174,214)"
         },
         "marker": {
          "color": "rgb(107,174,214)",
          "line": {
           "outliercolor": "rgba(219, 64, 82, 0.6)",
           "outlierwidth": 2
          },
          "outliercolor": "rgba(219, 64, 82, 0.6)"
         },
         "name": 16,
         "showlegend": false,
         "type": "box",
         "x": 16,
         "y": [
          7,
          5,
          5,
          6,
          5,
          5,
          3,
          6,
          9,
          5,
          2
         ]
        },
        {
         "boxpoints": "suspectedoutliers",
         "line": {
          "color": "rgb(107,174,214)"
         },
         "marker": {
          "color": "rgb(107,174,214)",
          "line": {
           "outliercolor": "rgba(219, 64, 82, 0.6)",
           "outlierwidth": 2
          },
          "outliercolor": "rgba(219, 64, 82, 0.6)"
         },
         "name": 17,
         "showlegend": false,
         "type": "box",
         "x": 17,
         "y": [
          7,
          5,
          5,
          7,
          6,
          5,
          3,
          6,
          9,
          5,
          2
         ]
        },
        {
         "boxpoints": "suspectedoutliers",
         "line": {
          "color": "rgb(107,174,214)"
         },
         "marker": {
          "color": "rgb(107,174,214)",
          "line": {
           "outliercolor": "rgba(219, 64, 82, 0.6)",
           "outlierwidth": 2
          },
          "outliercolor": "rgba(219, 64, 82, 0.6)"
         },
         "name": 18,
         "showlegend": false,
         "type": "box",
         "x": 18,
         "y": [
          8,
          6,
          5,
          7,
          6,
          5,
          3,
          6,
          11,
          5,
          2
         ]
        },
        {
         "boxpoints": "suspectedoutliers",
         "line": {
          "color": "rgb(107,174,214)"
         },
         "marker": {
          "color": "rgb(107,174,214)",
          "line": {
           "outliercolor": "rgba(219, 64, 82, 0.6)",
           "outlierwidth": 2
          },
          "outliercolor": "rgba(219, 64, 82, 0.6)"
         },
         "name": 19,
         "showlegend": false,
         "type": "box",
         "x": 19,
         "y": [
          8,
          6,
          5,
          7,
          7,
          5,
          3,
          6,
          11,
          5,
          2
         ]
        },
        {
         "boxpoints": "suspectedoutliers",
         "line": {
          "color": "rgb(107,174,214)"
         },
         "marker": {
          "color": "rgb(107,174,214)",
          "line": {
           "outliercolor": "rgba(219, 64, 82, 0.6)",
           "outlierwidth": 2
          },
          "outliercolor": "rgba(219, 64, 82, 0.6)"
         },
         "name": 20,
         "showlegend": false,
         "type": "box",
         "x": 20,
         "y": [
          8,
          6,
          6,
          7,
          7,
          5,
          3,
          7,
          11,
          5,
          2
         ]
        },
        {
         "boxpoints": "suspectedoutliers",
         "line": {
          "color": "rgb(107,174,214)"
         },
         "marker": {
          "color": "rgb(107,174,214)",
          "line": {
           "outliercolor": "rgba(219, 64, 82, 0.6)",
           "outlierwidth": 2
          },
          "outliercolor": "rgba(219, 64, 82, 0.6)"
         },
         "name": 21,
         "showlegend": false,
         "type": "box",
         "x": 21,
         "y": [
          10,
          6,
          7,
          7,
          7,
          5,
          3,
          7,
          11,
          7,
          2
         ]
        },
        {
         "boxpoints": "suspectedoutliers",
         "line": {
          "color": "rgb(107,174,214)"
         },
         "marker": {
          "color": "rgb(107,174,214)",
          "line": {
           "outliercolor": "rgba(219, 64, 82, 0.6)",
           "outlierwidth": 2
          },
          "outliercolor": "rgba(219, 64, 82, 0.6)"
         },
         "name": 22,
         "showlegend": false,
         "type": "box",
         "x": 22,
         "y": [
          10,
          7,
          8,
          9,
          7,
          5,
          3,
          7,
          12,
          7,
          2
         ]
        },
        {
         "boxpoints": "suspectedoutliers",
         "line": {
          "color": "rgb(107,174,214)"
         },
         "marker": {
          "color": "rgb(107,174,214)",
          "line": {
           "outliercolor": "rgba(219, 64, 82, 0.6)",
           "outlierwidth": 2
          },
          "outliercolor": "rgba(219, 64, 82, 0.6)"
         },
         "name": 23,
         "showlegend": false,
         "type": "box",
         "x": 23,
         "y": [
          10,
          8,
          8,
          10,
          7,
          6,
          4,
          8,
          13,
          8,
          2
         ]
        },
        {
         "boxpoints": "suspectedoutliers",
         "line": {
          "color": "rgb(107,174,214)"
         },
         "marker": {
          "color": "rgb(107,174,214)",
          "line": {
           "outliercolor": "rgba(219, 64, 82, 0.6)",
           "outlierwidth": 2
          },
          "outliercolor": "rgba(219, 64, 82, 0.6)"
         },
         "name": 24,
         "showlegend": false,
         "type": "box",
         "x": 24,
         "y": [
          10,
          9,
          8,
          10,
          8,
          6,
          4,
          9,
          13,
          9,
          4
         ]
        },
        {
         "boxpoints": "suspectedoutliers",
         "line": {
          "color": "rgb(107,174,214)"
         },
         "marker": {
          "color": "rgb(107,174,214)",
          "line": {
           "outliercolor": "rgba(219, 64, 82, 0.6)",
           "outlierwidth": 2
          },
          "outliercolor": "rgba(219, 64, 82, 0.6)"
         },
         "name": 25,
         "showlegend": false,
         "type": "box",
         "x": 25,
         "y": [
          10,
          9,
          8,
          11,
          8,
          8,
          5,
          9,
          13,
          10,
          4
         ]
        },
        {
         "boxpoints": "suspectedoutliers",
         "line": {
          "color": "rgb(107,174,214)"
         },
         "marker": {
          "color": "rgb(107,174,214)",
          "line": {
           "outliercolor": "rgba(219, 64, 82, 0.6)",
           "outlierwidth": 2
          },
          "outliercolor": "rgba(219, 64, 82, 0.6)"
         },
         "name": 26,
         "showlegend": false,
         "type": "box",
         "x": 26,
         "y": [
          10,
          10,
          8,
          11,
          8,
          8,
          5,
          10,
          13,
          11,
          4
         ]
        },
        {
         "boxpoints": "suspectedoutliers",
         "line": {
          "color": "rgb(107,174,214)"
         },
         "marker": {
          "color": "rgb(107,174,214)",
          "line": {
           "outliercolor": "rgba(219, 64, 82, 0.6)",
           "outlierwidth": 2
          },
          "outliercolor": "rgba(219, 64, 82, 0.6)"
         },
         "name": 27,
         "showlegend": false,
         "type": "box",
         "x": 27,
         "y": [
          11,
          10,
          8,
          11,
          9,
          9,
          6,
          10,
          13,
          11,
          4
         ]
        },
        {
         "boxpoints": "suspectedoutliers",
         "line": {
          "color": "rgb(107,174,214)"
         },
         "marker": {
          "color": "rgb(107,174,214)",
          "line": {
           "outliercolor": "rgba(219, 64, 82, 0.6)",
           "outlierwidth": 2
          },
          "outliercolor": "rgba(219, 64, 82, 0.6)"
         },
         "name": 28,
         "showlegend": false,
         "type": "box",
         "x": 28,
         "y": [
          12,
          10,
          8,
          11,
          9,
          9,
          7,
          11,
          13,
          12,
          4
         ]
        },
        {
         "boxpoints": "suspectedoutliers",
         "line": {
          "color": "rgb(107,174,214)"
         },
         "marker": {
          "color": "rgb(107,174,214)",
          "line": {
           "outliercolor": "rgba(219, 64, 82, 0.6)",
           "outlierwidth": 2
          },
          "outliercolor": "rgba(219, 64, 82, 0.6)"
         },
         "name": 29,
         "showlegend": false,
         "type": "box",
         "x": 29,
         "y": [
          12,
          10,
          9,
          12,
          9,
          9,
          7,
          12,
          14,
          12,
          4
         ]
        },
        {
         "boxpoints": "suspectedoutliers",
         "line": {
          "color": "rgb(107,174,214)"
         },
         "marker": {
          "color": "rgb(107,174,214)",
          "line": {
           "outliercolor": "rgba(219, 64, 82, 0.6)",
           "outlierwidth": 2
          },
          "outliercolor": "rgba(219, 64, 82, 0.6)"
         },
         "name": 30,
         "showlegend": false,
         "type": "box",
         "x": 30,
         "y": [
          13,
          10,
          9,
          13,
          9,
          10,
          7,
          12,
          14,
          13,
          4
         ]
        },
        {
         "boxpoints": "suspectedoutliers",
         "line": {
          "color": "rgb(107,174,214)"
         },
         "marker": {
          "color": "rgb(107,174,214)",
          "line": {
           "outliercolor": "rgba(219, 64, 82, 0.6)",
           "outlierwidth": 2
          },
          "outliercolor": "rgba(219, 64, 82, 0.6)"
         },
         "name": 31,
         "showlegend": false,
         "type": "box",
         "x": 31,
         "y": [
          13,
          11,
          9,
          13,
          9,
          10,
          7,
          13,
          14,
          13,
          4
         ]
        },
        {
         "boxpoints": "suspectedoutliers",
         "line": {
          "color": "rgb(107,174,214)"
         },
         "marker": {
          "color": "rgb(107,174,214)",
          "line": {
           "outliercolor": "rgba(219, 64, 82, 0.6)",
           "outlierwidth": 2
          },
          "outliercolor": "rgba(219, 64, 82, 0.6)"
         },
         "name": 32,
         "showlegend": false,
         "type": "box",
         "x": 32,
         "y": [
          14,
          11,
          9,
          13,
          11,
          10,
          7,
          14,
          16,
          13,
          4
         ]
        },
        {
         "boxpoints": "suspectedoutliers",
         "line": {
          "color": "rgb(107,174,214)"
         },
         "marker": {
          "color": "rgb(107,174,214)",
          "line": {
           "outliercolor": "rgba(219, 64, 82, 0.6)",
           "outlierwidth": 2
          },
          "outliercolor": "rgba(219, 64, 82, 0.6)"
         },
         "name": 33,
         "showlegend": false,
         "type": "box",
         "x": 33,
         "y": [
          14,
          11,
          10,
          14,
          11,
          10,
          7,
          14,
          16,
          13,
          6
         ]
        },
        {
         "boxpoints": "suspectedoutliers",
         "line": {
          "color": "rgb(107,174,214)"
         },
         "marker": {
          "color": "rgb(107,174,214)",
          "line": {
           "outliercolor": "rgba(219, 64, 82, 0.6)",
           "outlierwidth": 2
          },
          "outliercolor": "rgba(219, 64, 82, 0.6)"
         },
         "name": 34,
         "showlegend": false,
         "type": "box",
         "x": 34,
         "y": [
          15,
          13,
          10,
          15,
          11,
          10,
          7,
          14,
          16,
          14,
          6
         ]
        },
        {
         "boxpoints": "suspectedoutliers",
         "line": {
          "color": "rgb(107,174,214)"
         },
         "marker": {
          "color": "rgb(107,174,214)",
          "line": {
           "outliercolor": "rgba(219, 64, 82, 0.6)",
           "outlierwidth": 2
          },
          "outliercolor": "rgba(219, 64, 82, 0.6)"
         },
         "name": 35,
         "showlegend": false,
         "type": "box",
         "x": 35,
         "y": [
          16,
          13,
          10,
          16,
          11,
          10,
          7,
          14,
          17,
          15,
          6
         ]
        },
        {
         "boxpoints": "suspectedoutliers",
         "line": {
          "color": "rgb(107,174,214)"
         },
         "marker": {
          "color": "rgb(107,174,214)",
          "line": {
           "outliercolor": "rgba(219, 64, 82, 0.6)",
           "outlierwidth": 2
          },
          "outliercolor": "rgba(219, 64, 82, 0.6)"
         },
         "name": 36,
         "showlegend": false,
         "type": "box",
         "x": 36,
         "y": [
          17,
          14,
          10,
          16,
          11,
          10,
          8,
          14,
          18,
          17,
          6
         ]
        },
        {
         "boxpoints": "suspectedoutliers",
         "line": {
          "color": "rgb(107,174,214)"
         },
         "marker": {
          "color": "rgb(107,174,214)",
          "line": {
           "outliercolor": "rgba(219, 64, 82, 0.6)",
           "outlierwidth": 2
          },
          "outliercolor": "rgba(219, 64, 82, 0.6)"
         },
         "name": 37,
         "showlegend": false,
         "type": "box",
         "x": 37,
         "y": [
          17,
          14,
          10,
          16,
          11,
          11,
          8,
          14,
          18,
          17,
          6
         ]
        },
        {
         "boxpoints": "suspectedoutliers",
         "line": {
          "color": "rgb(107,174,214)"
         },
         "marker": {
          "color": "rgb(107,174,214)",
          "line": {
           "outliercolor": "rgba(219, 64, 82, 0.6)",
           "outlierwidth": 2
          },
          "outliercolor": "rgba(219, 64, 82, 0.6)"
         },
         "name": 38,
         "showlegend": false,
         "type": "box",
         "x": 38,
         "y": [
          17,
          14,
          11,
          16,
          11,
          12,
          8,
          14,
          18,
          18,
          6
         ]
        },
        {
         "boxpoints": "suspectedoutliers",
         "line": {
          "color": "rgb(107,174,214)"
         },
         "marker": {
          "color": "rgb(107,174,214)",
          "line": {
           "outliercolor": "rgba(219, 64, 82, 0.6)",
           "outlierwidth": 2
          },
          "outliercolor": "rgba(219, 64, 82, 0.6)"
         },
         "name": 39,
         "showlegend": false,
         "type": "box",
         "x": 39,
         "y": [
          17,
          15,
          11,
          16,
          11,
          12,
          8,
          14,
          19,
          18,
          7
         ]
        },
        {
         "boxpoints": "suspectedoutliers",
         "line": {
          "color": "rgb(107,174,214)"
         },
         "marker": {
          "color": "rgb(107,174,214)",
          "line": {
           "outliercolor": "rgba(219, 64, 82, 0.6)",
           "outlierwidth": 2
          },
          "outliercolor": "rgba(219, 64, 82, 0.6)"
         },
         "name": 40,
         "showlegend": false,
         "type": "box",
         "x": 40,
         "y": [
          17,
          16,
          11,
          16,
          11,
          13,
          8,
          14,
          19,
          18,
          7
         ]
        },
        {
         "boxpoints": "suspectedoutliers",
         "line": {
          "color": "rgb(107,174,214)"
         },
         "marker": {
          "color": "rgb(107,174,214)",
          "line": {
           "outliercolor": "rgba(219, 64, 82, 0.6)",
           "outlierwidth": 2
          },
          "outliercolor": "rgba(219, 64, 82, 0.6)"
         },
         "name": 41,
         "showlegend": false,
         "type": "box",
         "x": 41,
         "y": [
          17,
          17,
          12,
          16,
          11,
          13,
          9,
          14,
          20,
          18,
          7
         ]
        },
        {
         "boxpoints": "suspectedoutliers",
         "line": {
          "color": "rgb(107,174,214)"
         },
         "marker": {
          "color": "rgb(107,174,214)",
          "line": {
           "outliercolor": "rgba(219, 64, 82, 0.6)",
           "outlierwidth": 2
          },
          "outliercolor": "rgba(219, 64, 82, 0.6)"
         },
         "name": 42,
         "showlegend": false,
         "type": "box",
         "x": 42,
         "y": [
          18,
          17,
          12,
          16,
          11,
          13,
          10,
          16,
          20,
          18,
          8
         ]
        },
        {
         "boxpoints": "suspectedoutliers",
         "line": {
          "color": "rgb(107,174,214)"
         },
         "marker": {
          "color": "rgb(107,174,214)",
          "line": {
           "outliercolor": "rgba(219, 64, 82, 0.6)",
           "outlierwidth": 2
          },
          "outliercolor": "rgba(219, 64, 82, 0.6)"
         },
         "name": 43,
         "showlegend": false,
         "type": "box",
         "x": 43,
         "y": [
          18,
          17,
          12,
          16,
          11,
          13,
          10,
          16,
          21,
          19,
          8
         ]
        },
        {
         "boxpoints": "suspectedoutliers",
         "line": {
          "color": "rgb(107,174,214)"
         },
         "marker": {
          "color": "rgb(107,174,214)",
          "line": {
           "outliercolor": "rgba(219, 64, 82, 0.6)",
           "outlierwidth": 2
          },
          "outliercolor": "rgba(219, 64, 82, 0.6)"
         },
         "name": 44,
         "showlegend": false,
         "type": "box",
         "x": 44,
         "y": [
          19,
          18,
          13,
          16,
          12,
          13,
          10,
          17,
          21,
          19,
          8
         ]
        },
        {
         "boxpoints": "suspectedoutliers",
         "line": {
          "color": "rgb(107,174,214)"
         },
         "marker": {
          "color": "rgb(107,174,214)",
          "line": {
           "outliercolor": "rgba(219, 64, 82, 0.6)",
           "outlierwidth": 2
          },
          "outliercolor": "rgba(219, 64, 82, 0.6)"
         },
         "name": 45,
         "showlegend": false,
         "type": "box",
         "x": 45,
         "y": [
          19,
          18,
          13,
          16,
          13,
          14,
          10,
          17,
          22,
          19,
          8
         ]
        },
        {
         "boxpoints": "suspectedoutliers",
         "line": {
          "color": "rgb(107,174,214)"
         },
         "marker": {
          "color": "rgb(107,174,214)",
          "line": {
           "outliercolor": "rgba(219, 64, 82, 0.6)",
           "outlierwidth": 2
          },
          "outliercolor": "rgba(219, 64, 82, 0.6)"
         },
         "name": 46,
         "showlegend": false,
         "type": "box",
         "x": 46,
         "y": [
          19,
          18,
          14,
          17,
          15,
          14,
          10,
          17,
          22,
          19,
          8
         ]
        },
        {
         "boxpoints": "suspectedoutliers",
         "line": {
          "color": "rgb(107,174,214)"
         },
         "marker": {
          "color": "rgb(107,174,214)",
          "line": {
           "outliercolor": "rgba(219, 64, 82, 0.6)",
           "outlierwidth": 2
          },
          "outliercolor": "rgba(219, 64, 82, 0.6)"
         },
         "name": 47,
         "showlegend": false,
         "type": "box",
         "x": 47,
         "y": [
          19,
          18,
          15,
          17,
          15,
          15,
          10,
          17,
          23,
          20,
          8
         ]
        },
        {
         "mode": "lines",
         "name": "Mean",
         "showlegend": false,
         "type": "scatter",
         "x": [
          1,
          2,
          3,
          4,
          5,
          6,
          7,
          8,
          9,
          10,
          11,
          12,
          13,
          14,
          15,
          16,
          17,
          18,
          19,
          20,
          21,
          22,
          23,
          24,
          25,
          26,
          27,
          28,
          29,
          30,
          31,
          32,
          33,
          34,
          35,
          36,
          37,
          38,
          39,
          40,
          41,
          42,
          43,
          44,
          45,
          46,
          47
         ],
         "y": [
          0,
          0.5454545454545454,
          1.2727272727272727,
          1.5454545454545454,
          1.8181818181818181,
          2.272727272727273,
          2.8181818181818183,
          2.909090909090909,
          3.4545454545454546,
          3.727272727272727,
          3.909090909090909,
          4.090909090909091,
          4.2727272727272725,
          4.636363636363637,
          5,
          5.090909090909091,
          5.2727272727272725,
          5.454545454545454,
          5.818181818181818,
          5.909090909090909,
          6.090909090909091,
          6.545454545454546,
          7,
          7.636363636363637,
          8.181818181818182,
          8.636363636363637,
          8.909090909090908,
          9.272727272727273,
          9.636363636363637,
          10,
          10.363636363636363,
          10.545454545454545,
          11.090909090909092,
          11.454545454545455,
          11.909090909090908,
          12.272727272727273,
          12.818181818181818,
          12.909090909090908,
          13.181818181818182,
          13.454545454545455,
          13.636363636363637,
          14,
          14.454545454545455,
          14.636363636363637,
          15.090909090909092,
          15.363636363636363,
          15.727272727272727,
          16.09090909090909
         ]
        }
       ],
       "layout": {}
      },
      "text/html": [
       "<div id=\"c0d6c942-0f8a-4dc5-ad0e-ae46a8a8edb4\" style=\"height: 525px; width: 100%;\" class=\"plotly-graph-div\"></div><script type=\"text/javascript\">require([\"plotly\"], function(Plotly) { window.PLOTLYENV=window.PLOTLYENV || {};window.PLOTLYENV.BASE_URL=\"https://plot.ly\";Plotly.newPlot(\"c0d6c942-0f8a-4dc5-ad0e-ae46a8a8edb4\", [{\"showlegend\": false, \"name\": 0, \"marker\": {\"color\": \"rgb(107,174,214)\", \"outliercolor\": \"rgba(219, 64, 82, 0.6)\", \"line\": {\"outlierwidth\": 2, \"outliercolor\": \"rgba(219, 64, 82, 0.6)\"}}, \"y\": [0, 0, 0, 0, 0, 0, 0, 0, 0, 0, 0], \"x\": 0, \"line\": {\"color\": \"rgb(107,174,214)\"}, \"type\": \"box\", \"boxpoints\": \"suspectedoutliers\"}, {\"showlegend\": false, \"name\": 1, \"marker\": {\"color\": \"rgb(107,174,214)\", \"outliercolor\": \"rgba(219, 64, 82, 0.6)\", \"line\": {\"outlierwidth\": 2, \"outliercolor\": \"rgba(219, 64, 82, 0.6)\"}}, \"y\": [0, 0, 1, 3, 0, 0, 0, 0, 1, 0, 1], \"x\": 1, \"line\": {\"color\": \"rgb(107,174,214)\"}, \"type\": \"box\", \"boxpoints\": \"suspectedoutliers\"}, {\"showlegend\": false, \"name\": 2, \"marker\": {\"color\": \"rgb(107,174,214)\", \"outliercolor\": \"rgba(219, 64, 82, 0.6)\", \"line\": {\"outlierwidth\": 2, \"outliercolor\": \"rgba(219, 64, 82, 0.6)\"}}, \"y\": [3, 1, 2, 3, 1, 1, 1, 0, 1, 0, 1], \"x\": 2, \"line\": {\"color\": \"rgb(107,174,214)\"}, \"type\": \"box\", \"boxpoints\": \"suspectedoutliers\"}, {\"showlegend\": false, \"name\": 3, \"marker\": {\"color\": \"rgb(107,174,214)\", \"outliercolor\": \"rgba(219, 64, 82, 0.6)\", \"line\": {\"outlierwidth\": 2, \"outliercolor\": \"rgba(219, 64, 82, 0.6)\"}}, \"y\": [3, 1, 2, 3, 1, 1, 2, 1, 2, 0, 1], \"x\": 3, \"line\": {\"color\": \"rgb(107,174,214)\"}, \"type\": \"box\", \"boxpoints\": \"suspectedoutliers\"}, {\"showlegend\": false, \"name\": 4, \"marker\": {\"color\": \"rgb(107,174,214)\", \"outliercolor\": \"rgba(219, 64, 82, 0.6)\", \"line\": {\"outlierwidth\": 2, \"outliercolor\": \"rgba(219, 64, 82, 0.6)\"}}, \"y\": [4, 2, 2, 3, 1, 1, 2, 1, 2, 1, 1], \"x\": 4, \"line\": {\"color\": \"rgb(107,174,214)\"}, \"type\": \"box\", \"boxpoints\": \"suspectedoutliers\"}, {\"showlegend\": false, \"name\": 5, \"marker\": {\"color\": \"rgb(107,174,214)\", \"outliercolor\": \"rgba(219, 64, 82, 0.6)\", \"line\": {\"outlierwidth\": 2, \"outliercolor\": \"rgba(219, 64, 82, 0.6)\"}}, \"y\": [5, 2, 2, 3, 2, 2, 2, 1, 2, 3, 1], \"x\": 5, \"line\": {\"color\": \"rgb(107,174,214)\"}, \"type\": \"box\", \"boxpoints\": \"suspectedoutliers\"}, {\"showlegend\": false, \"name\": 6, \"marker\": {\"color\": \"rgb(107,174,214)\", \"outliercolor\": \"rgba(219, 64, 82, 0.6)\", \"line\": {\"outlierwidth\": 2, \"outliercolor\": \"rgba(219, 64, 82, 0.6)\"}}, \"y\": [5, 3, 3, 3, 2, 2, 2, 2, 4, 4, 1], \"x\": 6, \"line\": {\"color\": \"rgb(107,174,214)\"}, \"type\": \"box\", \"boxpoints\": \"suspectedoutliers\"}, {\"showlegend\": false, \"name\": 7, \"marker\": {\"color\": \"rgb(107,174,214)\", \"outliercolor\": \"rgba(219, 64, 82, 0.6)\", \"line\": {\"outlierwidth\": 2, \"outliercolor\": \"rgba(219, 64, 82, 0.6)\"}}, \"y\": [5, 3, 3, 3, 2, 2, 2, 2, 4, 5, 1], \"x\": 7, \"line\": {\"color\": \"rgb(107,174,214)\"}, \"type\": \"box\", \"boxpoints\": \"suspectedoutliers\"}, {\"showlegend\": false, \"name\": 8, \"marker\": {\"color\": \"rgb(107,174,214)\", \"outliercolor\": \"rgba(219, 64, 82, 0.6)\", \"line\": {\"outlierwidth\": 2, \"outliercolor\": \"rgba(219, 64, 82, 0.6)\"}}, \"y\": [6, 4, 3, 3, 4, 3, 2, 2, 5, 5, 1], \"x\": 8, \"line\": {\"color\": \"rgb(107,174,214)\"}, \"type\": \"box\", \"boxpoints\": \"suspectedoutliers\"}, {\"showlegend\": false, \"name\": 9, \"marker\": {\"color\": \"rgb(107,174,214)\", \"outliercolor\": \"rgba(219, 64, 82, 0.6)\", \"line\": {\"outlierwidth\": 2, \"outliercolor\": \"rgba(219, 64, 82, 0.6)\"}}, \"y\": [7, 4, 5, 3, 4, 3, 2, 2, 5, 5, 1], \"x\": 9, \"line\": {\"color\": \"rgb(107,174,214)\"}, \"type\": \"box\", \"boxpoints\": \"suspectedoutliers\"}, {\"showlegend\": false, \"name\": 10, \"marker\": {\"color\": \"rgb(107,174,214)\", \"outliercolor\": \"rgba(219, 64, 82, 0.6)\", \"line\": {\"outlierwidth\": 2, \"outliercolor\": \"rgba(219, 64, 82, 0.6)\"}}, \"y\": [7, 4, 5, 3, 4, 3, 2, 3, 6, 5, 1], \"x\": 10, \"line\": {\"color\": \"rgb(107,174,214)\"}, \"type\": \"box\", \"boxpoints\": \"suspectedoutliers\"}, {\"showlegend\": false, \"name\": 11, \"marker\": {\"color\": \"rgb(107,174,214)\", \"outliercolor\": \"rgba(219, 64, 82, 0.6)\", \"line\": {\"outlierwidth\": 2, \"outliercolor\": \"rgba(219, 64, 82, 0.6)\"}}, \"y\": [7, 4, 5, 3, 5, 3, 2, 3, 7, 5, 1], \"x\": 11, \"line\": {\"color\": \"rgb(107,174,214)\"}, \"type\": \"box\", \"boxpoints\": \"suspectedoutliers\"}, {\"showlegend\": false, \"name\": 12, \"marker\": {\"color\": \"rgb(107,174,214)\", \"outliercolor\": \"rgba(219, 64, 82, 0.6)\", \"line\": {\"outlierwidth\": 2, \"outliercolor\": \"rgba(219, 64, 82, 0.6)\"}}, \"y\": [7, 5, 5, 3, 5, 3, 2, 3, 7, 5, 2], \"x\": 12, \"line\": {\"color\": \"rgb(107,174,214)\"}, \"type\": \"box\", \"boxpoints\": \"suspectedoutliers\"}, {\"showlegend\": false, \"name\": 13, \"marker\": {\"color\": \"rgb(107,174,214)\", \"outliercolor\": \"rgba(219, 64, 82, 0.6)\", \"line\": {\"outlierwidth\": 2, \"outliercolor\": \"rgba(219, 64, 82, 0.6)\"}}, \"y\": [7, 5, 5, 4, 5, 3, 3, 4, 8, 5, 2], \"x\": 13, \"line\": {\"color\": \"rgb(107,174,214)\"}, \"type\": \"box\", \"boxpoints\": \"suspectedoutliers\"}, {\"showlegend\": false, \"name\": 14, \"marker\": {\"color\": \"rgb(107,174,214)\", \"outliercolor\": \"rgba(219, 64, 82, 0.6)\", \"line\": {\"outlierwidth\": 2, \"outliercolor\": \"rgba(219, 64, 82, 0.6)\"}}, \"y\": [7, 5, 5, 5, 5, 4, 3, 6, 8, 5, 2], \"x\": 14, \"line\": {\"color\": \"rgb(107,174,214)\"}, \"type\": \"box\", \"boxpoints\": \"suspectedoutliers\"}, {\"showlegend\": false, \"name\": 15, \"marker\": {\"color\": \"rgb(107,174,214)\", \"outliercolor\": \"rgba(219, 64, 82, 0.6)\", \"line\": {\"outlierwidth\": 2, \"outliercolor\": \"rgba(219, 64, 82, 0.6)\"}}, \"y\": [7, 5, 5, 5, 5, 4, 3, 6, 9, 5, 2], \"x\": 15, \"line\": {\"color\": \"rgb(107,174,214)\"}, \"type\": \"box\", \"boxpoints\": \"suspectedoutliers\"}, {\"showlegend\": false, \"name\": 16, \"marker\": {\"color\": \"rgb(107,174,214)\", \"outliercolor\": \"rgba(219, 64, 82, 0.6)\", \"line\": {\"outlierwidth\": 2, \"outliercolor\": \"rgba(219, 64, 82, 0.6)\"}}, \"y\": [7, 5, 5, 6, 5, 5, 3, 6, 9, 5, 2], \"x\": 16, \"line\": {\"color\": \"rgb(107,174,214)\"}, \"type\": \"box\", \"boxpoints\": \"suspectedoutliers\"}, {\"showlegend\": false, \"name\": 17, \"marker\": {\"color\": \"rgb(107,174,214)\", \"outliercolor\": \"rgba(219, 64, 82, 0.6)\", \"line\": {\"outlierwidth\": 2, \"outliercolor\": \"rgba(219, 64, 82, 0.6)\"}}, \"y\": [7, 5, 5, 7, 6, 5, 3, 6, 9, 5, 2], \"x\": 17, \"line\": {\"color\": \"rgb(107,174,214)\"}, \"type\": \"box\", \"boxpoints\": \"suspectedoutliers\"}, {\"showlegend\": false, \"name\": 18, \"marker\": {\"color\": \"rgb(107,174,214)\", \"outliercolor\": \"rgba(219, 64, 82, 0.6)\", \"line\": {\"outlierwidth\": 2, \"outliercolor\": \"rgba(219, 64, 82, 0.6)\"}}, \"y\": [8, 6, 5, 7, 6, 5, 3, 6, 11, 5, 2], \"x\": 18, \"line\": {\"color\": \"rgb(107,174,214)\"}, \"type\": \"box\", \"boxpoints\": \"suspectedoutliers\"}, {\"showlegend\": false, \"name\": 19, \"marker\": {\"color\": \"rgb(107,174,214)\", \"outliercolor\": \"rgba(219, 64, 82, 0.6)\", \"line\": {\"outlierwidth\": 2, \"outliercolor\": \"rgba(219, 64, 82, 0.6)\"}}, \"y\": [8, 6, 5, 7, 7, 5, 3, 6, 11, 5, 2], \"x\": 19, \"line\": {\"color\": \"rgb(107,174,214)\"}, \"type\": \"box\", \"boxpoints\": \"suspectedoutliers\"}, {\"showlegend\": false, \"name\": 20, \"marker\": {\"color\": \"rgb(107,174,214)\", \"outliercolor\": \"rgba(219, 64, 82, 0.6)\", \"line\": {\"outlierwidth\": 2, \"outliercolor\": \"rgba(219, 64, 82, 0.6)\"}}, \"y\": [8, 6, 6, 7, 7, 5, 3, 7, 11, 5, 2], \"x\": 20, \"line\": {\"color\": \"rgb(107,174,214)\"}, \"type\": \"box\", \"boxpoints\": \"suspectedoutliers\"}, {\"showlegend\": false, \"name\": 21, \"marker\": {\"color\": \"rgb(107,174,214)\", \"outliercolor\": \"rgba(219, 64, 82, 0.6)\", \"line\": {\"outlierwidth\": 2, \"outliercolor\": \"rgba(219, 64, 82, 0.6)\"}}, \"y\": [10, 6, 7, 7, 7, 5, 3, 7, 11, 7, 2], \"x\": 21, \"line\": {\"color\": \"rgb(107,174,214)\"}, \"type\": \"box\", \"boxpoints\": \"suspectedoutliers\"}, {\"showlegend\": false, \"name\": 22, \"marker\": {\"color\": \"rgb(107,174,214)\", \"outliercolor\": \"rgba(219, 64, 82, 0.6)\", \"line\": {\"outlierwidth\": 2, \"outliercolor\": \"rgba(219, 64, 82, 0.6)\"}}, \"y\": [10, 7, 8, 9, 7, 5, 3, 7, 12, 7, 2], \"x\": 22, \"line\": {\"color\": \"rgb(107,174,214)\"}, \"type\": \"box\", \"boxpoints\": \"suspectedoutliers\"}, {\"showlegend\": false, \"name\": 23, \"marker\": {\"color\": \"rgb(107,174,214)\", \"outliercolor\": \"rgba(219, 64, 82, 0.6)\", \"line\": {\"outlierwidth\": 2, \"outliercolor\": \"rgba(219, 64, 82, 0.6)\"}}, \"y\": [10, 8, 8, 10, 7, 6, 4, 8, 13, 8, 2], \"x\": 23, \"line\": {\"color\": \"rgb(107,174,214)\"}, \"type\": \"box\", \"boxpoints\": \"suspectedoutliers\"}, {\"showlegend\": false, \"name\": 24, \"marker\": {\"color\": \"rgb(107,174,214)\", \"outliercolor\": \"rgba(219, 64, 82, 0.6)\", \"line\": {\"outlierwidth\": 2, \"outliercolor\": \"rgba(219, 64, 82, 0.6)\"}}, \"y\": [10, 9, 8, 10, 8, 6, 4, 9, 13, 9, 4], \"x\": 24, \"line\": {\"color\": \"rgb(107,174,214)\"}, \"type\": \"box\", \"boxpoints\": \"suspectedoutliers\"}, {\"showlegend\": false, \"name\": 25, \"marker\": {\"color\": \"rgb(107,174,214)\", \"outliercolor\": \"rgba(219, 64, 82, 0.6)\", \"line\": {\"outlierwidth\": 2, \"outliercolor\": \"rgba(219, 64, 82, 0.6)\"}}, \"y\": [10, 9, 8, 11, 8, 8, 5, 9, 13, 10, 4], \"x\": 25, \"line\": {\"color\": \"rgb(107,174,214)\"}, \"type\": \"box\", \"boxpoints\": \"suspectedoutliers\"}, {\"showlegend\": false, \"name\": 26, \"marker\": {\"color\": \"rgb(107,174,214)\", \"outliercolor\": \"rgba(219, 64, 82, 0.6)\", \"line\": {\"outlierwidth\": 2, \"outliercolor\": \"rgba(219, 64, 82, 0.6)\"}}, \"y\": [10, 10, 8, 11, 8, 8, 5, 10, 13, 11, 4], \"x\": 26, \"line\": {\"color\": \"rgb(107,174,214)\"}, \"type\": \"box\", \"boxpoints\": \"suspectedoutliers\"}, {\"showlegend\": false, \"name\": 27, \"marker\": {\"color\": \"rgb(107,174,214)\", \"outliercolor\": \"rgba(219, 64, 82, 0.6)\", \"line\": {\"outlierwidth\": 2, \"outliercolor\": \"rgba(219, 64, 82, 0.6)\"}}, \"y\": [11, 10, 8, 11, 9, 9, 6, 10, 13, 11, 4], \"x\": 27, \"line\": {\"color\": \"rgb(107,174,214)\"}, \"type\": \"box\", \"boxpoints\": \"suspectedoutliers\"}, {\"showlegend\": false, \"name\": 28, \"marker\": {\"color\": \"rgb(107,174,214)\", \"outliercolor\": \"rgba(219, 64, 82, 0.6)\", \"line\": {\"outlierwidth\": 2, \"outliercolor\": \"rgba(219, 64, 82, 0.6)\"}}, \"y\": [12, 10, 8, 11, 9, 9, 7, 11, 13, 12, 4], \"x\": 28, \"line\": {\"color\": \"rgb(107,174,214)\"}, \"type\": \"box\", \"boxpoints\": \"suspectedoutliers\"}, {\"showlegend\": false, \"name\": 29, \"marker\": {\"color\": \"rgb(107,174,214)\", \"outliercolor\": \"rgba(219, 64, 82, 0.6)\", \"line\": {\"outlierwidth\": 2, \"outliercolor\": \"rgba(219, 64, 82, 0.6)\"}}, \"y\": [12, 10, 9, 12, 9, 9, 7, 12, 14, 12, 4], \"x\": 29, \"line\": {\"color\": \"rgb(107,174,214)\"}, \"type\": \"box\", \"boxpoints\": \"suspectedoutliers\"}, {\"showlegend\": false, \"name\": 30, \"marker\": {\"color\": \"rgb(107,174,214)\", \"outliercolor\": \"rgba(219, 64, 82, 0.6)\", \"line\": {\"outlierwidth\": 2, \"outliercolor\": \"rgba(219, 64, 82, 0.6)\"}}, \"y\": [13, 10, 9, 13, 9, 10, 7, 12, 14, 13, 4], \"x\": 30, \"line\": {\"color\": \"rgb(107,174,214)\"}, \"type\": \"box\", \"boxpoints\": \"suspectedoutliers\"}, {\"showlegend\": false, \"name\": 31, \"marker\": {\"color\": \"rgb(107,174,214)\", \"outliercolor\": \"rgba(219, 64, 82, 0.6)\", \"line\": {\"outlierwidth\": 2, \"outliercolor\": \"rgba(219, 64, 82, 0.6)\"}}, \"y\": [13, 11, 9, 13, 9, 10, 7, 13, 14, 13, 4], \"x\": 31, \"line\": {\"color\": \"rgb(107,174,214)\"}, \"type\": \"box\", \"boxpoints\": \"suspectedoutliers\"}, {\"showlegend\": false, \"name\": 32, \"marker\": {\"color\": \"rgb(107,174,214)\", \"outliercolor\": \"rgba(219, 64, 82, 0.6)\", \"line\": {\"outlierwidth\": 2, \"outliercolor\": \"rgba(219, 64, 82, 0.6)\"}}, \"y\": [14, 11, 9, 13, 11, 10, 7, 14, 16, 13, 4], \"x\": 32, \"line\": {\"color\": \"rgb(107,174,214)\"}, \"type\": \"box\", \"boxpoints\": \"suspectedoutliers\"}, {\"showlegend\": false, \"name\": 33, \"marker\": {\"color\": \"rgb(107,174,214)\", \"outliercolor\": \"rgba(219, 64, 82, 0.6)\", \"line\": {\"outlierwidth\": 2, \"outliercolor\": \"rgba(219, 64, 82, 0.6)\"}}, \"y\": [14, 11, 10, 14, 11, 10, 7, 14, 16, 13, 6], \"x\": 33, \"line\": {\"color\": \"rgb(107,174,214)\"}, \"type\": \"box\", \"boxpoints\": \"suspectedoutliers\"}, {\"showlegend\": false, \"name\": 34, \"marker\": {\"color\": \"rgb(107,174,214)\", \"outliercolor\": \"rgba(219, 64, 82, 0.6)\", \"line\": {\"outlierwidth\": 2, \"outliercolor\": \"rgba(219, 64, 82, 0.6)\"}}, \"y\": [15, 13, 10, 15, 11, 10, 7, 14, 16, 14, 6], \"x\": 34, \"line\": {\"color\": \"rgb(107,174,214)\"}, \"type\": \"box\", \"boxpoints\": \"suspectedoutliers\"}, {\"showlegend\": false, \"name\": 35, \"marker\": {\"color\": \"rgb(107,174,214)\", \"outliercolor\": \"rgba(219, 64, 82, 0.6)\", \"line\": {\"outlierwidth\": 2, \"outliercolor\": \"rgba(219, 64, 82, 0.6)\"}}, \"y\": [16, 13, 10, 16, 11, 10, 7, 14, 17, 15, 6], \"x\": 35, \"line\": {\"color\": \"rgb(107,174,214)\"}, \"type\": \"box\", \"boxpoints\": \"suspectedoutliers\"}, {\"showlegend\": false, \"name\": 36, \"marker\": {\"color\": \"rgb(107,174,214)\", \"outliercolor\": \"rgba(219, 64, 82, 0.6)\", \"line\": {\"outlierwidth\": 2, \"outliercolor\": \"rgba(219, 64, 82, 0.6)\"}}, \"y\": [17, 14, 10, 16, 11, 10, 8, 14, 18, 17, 6], \"x\": 36, \"line\": {\"color\": \"rgb(107,174,214)\"}, \"type\": \"box\", \"boxpoints\": \"suspectedoutliers\"}, {\"showlegend\": false, \"name\": 37, \"marker\": {\"color\": \"rgb(107,174,214)\", \"outliercolor\": \"rgba(219, 64, 82, 0.6)\", \"line\": {\"outlierwidth\": 2, \"outliercolor\": \"rgba(219, 64, 82, 0.6)\"}}, \"y\": [17, 14, 10, 16, 11, 11, 8, 14, 18, 17, 6], \"x\": 37, \"line\": {\"color\": \"rgb(107,174,214)\"}, \"type\": \"box\", \"boxpoints\": \"suspectedoutliers\"}, {\"showlegend\": false, \"name\": 38, \"marker\": {\"color\": \"rgb(107,174,214)\", \"outliercolor\": \"rgba(219, 64, 82, 0.6)\", \"line\": {\"outlierwidth\": 2, \"outliercolor\": \"rgba(219, 64, 82, 0.6)\"}}, \"y\": [17, 14, 11, 16, 11, 12, 8, 14, 18, 18, 6], \"x\": 38, \"line\": {\"color\": \"rgb(107,174,214)\"}, \"type\": \"box\", \"boxpoints\": \"suspectedoutliers\"}, {\"showlegend\": false, \"name\": 39, \"marker\": {\"color\": \"rgb(107,174,214)\", \"outliercolor\": \"rgba(219, 64, 82, 0.6)\", \"line\": {\"outlierwidth\": 2, \"outliercolor\": \"rgba(219, 64, 82, 0.6)\"}}, \"y\": [17, 15, 11, 16, 11, 12, 8, 14, 19, 18, 7], \"x\": 39, \"line\": {\"color\": \"rgb(107,174,214)\"}, \"type\": \"box\", \"boxpoints\": \"suspectedoutliers\"}, {\"showlegend\": false, \"name\": 40, \"marker\": {\"color\": \"rgb(107,174,214)\", \"outliercolor\": \"rgba(219, 64, 82, 0.6)\", \"line\": {\"outlierwidth\": 2, \"outliercolor\": \"rgba(219, 64, 82, 0.6)\"}}, \"y\": [17, 16, 11, 16, 11, 13, 8, 14, 19, 18, 7], \"x\": 40, \"line\": {\"color\": \"rgb(107,174,214)\"}, \"type\": \"box\", \"boxpoints\": \"suspectedoutliers\"}, {\"showlegend\": false, \"name\": 41, \"marker\": {\"color\": \"rgb(107,174,214)\", \"outliercolor\": \"rgba(219, 64, 82, 0.6)\", \"line\": {\"outlierwidth\": 2, \"outliercolor\": \"rgba(219, 64, 82, 0.6)\"}}, \"y\": [17, 17, 12, 16, 11, 13, 9, 14, 20, 18, 7], \"x\": 41, \"line\": {\"color\": \"rgb(107,174,214)\"}, \"type\": \"box\", \"boxpoints\": \"suspectedoutliers\"}, {\"showlegend\": false, \"name\": 42, \"marker\": {\"color\": \"rgb(107,174,214)\", \"outliercolor\": \"rgba(219, 64, 82, 0.6)\", \"line\": {\"outlierwidth\": 2, \"outliercolor\": \"rgba(219, 64, 82, 0.6)\"}}, \"y\": [18, 17, 12, 16, 11, 13, 10, 16, 20, 18, 8], \"x\": 42, \"line\": {\"color\": \"rgb(107,174,214)\"}, \"type\": \"box\", \"boxpoints\": \"suspectedoutliers\"}, {\"showlegend\": false, \"name\": 43, \"marker\": {\"color\": \"rgb(107,174,214)\", \"outliercolor\": \"rgba(219, 64, 82, 0.6)\", \"line\": {\"outlierwidth\": 2, \"outliercolor\": \"rgba(219, 64, 82, 0.6)\"}}, \"y\": [18, 17, 12, 16, 11, 13, 10, 16, 21, 19, 8], \"x\": 43, \"line\": {\"color\": \"rgb(107,174,214)\"}, \"type\": \"box\", \"boxpoints\": \"suspectedoutliers\"}, {\"showlegend\": false, \"name\": 44, \"marker\": {\"color\": \"rgb(107,174,214)\", \"outliercolor\": \"rgba(219, 64, 82, 0.6)\", \"line\": {\"outlierwidth\": 2, \"outliercolor\": \"rgba(219, 64, 82, 0.6)\"}}, \"y\": [19, 18, 13, 16, 12, 13, 10, 17, 21, 19, 8], \"x\": 44, \"line\": {\"color\": \"rgb(107,174,214)\"}, \"type\": \"box\", \"boxpoints\": \"suspectedoutliers\"}, {\"showlegend\": false, \"name\": 45, \"marker\": {\"color\": \"rgb(107,174,214)\", \"outliercolor\": \"rgba(219, 64, 82, 0.6)\", \"line\": {\"outlierwidth\": 2, \"outliercolor\": \"rgba(219, 64, 82, 0.6)\"}}, \"y\": [19, 18, 13, 16, 13, 14, 10, 17, 22, 19, 8], \"x\": 45, \"line\": {\"color\": \"rgb(107,174,214)\"}, \"type\": \"box\", \"boxpoints\": \"suspectedoutliers\"}, {\"showlegend\": false, \"name\": 46, \"marker\": {\"color\": \"rgb(107,174,214)\", \"outliercolor\": \"rgba(219, 64, 82, 0.6)\", \"line\": {\"outlierwidth\": 2, \"outliercolor\": \"rgba(219, 64, 82, 0.6)\"}}, \"y\": [19, 18, 14, 17, 15, 14, 10, 17, 22, 19, 8], \"x\": 46, \"line\": {\"color\": \"rgb(107,174,214)\"}, \"type\": \"box\", \"boxpoints\": \"suspectedoutliers\"}, {\"showlegend\": false, \"name\": 47, \"marker\": {\"color\": \"rgb(107,174,214)\", \"outliercolor\": \"rgba(219, 64, 82, 0.6)\", \"line\": {\"outlierwidth\": 2, \"outliercolor\": \"rgba(219, 64, 82, 0.6)\"}}, \"y\": [19, 18, 15, 17, 15, 15, 10, 17, 23, 20, 8], \"x\": 47, \"line\": {\"color\": \"rgb(107,174,214)\"}, \"type\": \"box\", \"boxpoints\": \"suspectedoutliers\"}, {\"showlegend\": false, \"name\": \"Mean\", \"mode\": \"lines\", \"y\": [0.0, 0.5454545454545454, 1.2727272727272727, 1.5454545454545454, 1.8181818181818181, 2.272727272727273, 2.8181818181818183, 2.909090909090909, 3.4545454545454546, 3.727272727272727, 3.909090909090909, 4.090909090909091, 4.2727272727272725, 4.636363636363637, 5.0, 5.090909090909091, 5.2727272727272725, 5.454545454545454, 5.818181818181818, 5.909090909090909, 6.090909090909091, 6.545454545454546, 7.0, 7.636363636363637, 8.181818181818182, 8.636363636363637, 8.909090909090908, 9.272727272727273, 9.636363636363637, 10.0, 10.363636363636363, 10.545454545454545, 11.090909090909092, 11.454545454545455, 11.909090909090908, 12.272727272727273, 12.818181818181818, 12.909090909090908, 13.181818181818182, 13.454545454545455, 13.636363636363637, 14.0, 14.454545454545455, 14.636363636363637, 15.090909090909092, 15.363636363636363, 15.727272727272727, 16.09090909090909], \"x\": [1, 2, 3, 4, 5, 6, 7, 8, 9, 10, 11, 12, 13, 14, 15, 16, 17, 18, 19, 20, 21, 22, 23, 24, 25, 26, 27, 28, 29, 30, 31, 32, 33, 34, 35, 36, 37, 38, 39, 40, 41, 42, 43, 44, 45, 46, 47], \"type\": \"scatter\"}], {}, {\"linkText\": \"Export to plot.ly\", \"showLink\": true})});</script>"
      ],
      "text/vnd.plotly.v1+html": [
       "<div id=\"c0d6c942-0f8a-4dc5-ad0e-ae46a8a8edb4\" style=\"height: 525px; width: 100%;\" class=\"plotly-graph-div\"></div><script type=\"text/javascript\">require([\"plotly\"], function(Plotly) { window.PLOTLYENV=window.PLOTLYENV || {};window.PLOTLYENV.BASE_URL=\"https://plot.ly\";Plotly.newPlot(\"c0d6c942-0f8a-4dc5-ad0e-ae46a8a8edb4\", [{\"showlegend\": false, \"name\": 0, \"marker\": {\"color\": \"rgb(107,174,214)\", \"outliercolor\": \"rgba(219, 64, 82, 0.6)\", \"line\": {\"outlierwidth\": 2, \"outliercolor\": \"rgba(219, 64, 82, 0.6)\"}}, \"y\": [0, 0, 0, 0, 0, 0, 0, 0, 0, 0, 0], \"x\": 0, \"line\": {\"color\": \"rgb(107,174,214)\"}, \"type\": \"box\", \"boxpoints\": \"suspectedoutliers\"}, {\"showlegend\": false, \"name\": 1, \"marker\": {\"color\": \"rgb(107,174,214)\", \"outliercolor\": \"rgba(219, 64, 82, 0.6)\", \"line\": {\"outlierwidth\": 2, \"outliercolor\": \"rgba(219, 64, 82, 0.6)\"}}, \"y\": [0, 0, 1, 3, 0, 0, 0, 0, 1, 0, 1], \"x\": 1, \"line\": {\"color\": \"rgb(107,174,214)\"}, \"type\": \"box\", \"boxpoints\": \"suspectedoutliers\"}, {\"showlegend\": false, \"name\": 2, \"marker\": {\"color\": \"rgb(107,174,214)\", \"outliercolor\": \"rgba(219, 64, 82, 0.6)\", \"line\": {\"outlierwidth\": 2, \"outliercolor\": \"rgba(219, 64, 82, 0.6)\"}}, \"y\": [3, 1, 2, 3, 1, 1, 1, 0, 1, 0, 1], \"x\": 2, \"line\": {\"color\": \"rgb(107,174,214)\"}, \"type\": \"box\", \"boxpoints\": \"suspectedoutliers\"}, {\"showlegend\": false, \"name\": 3, \"marker\": {\"color\": \"rgb(107,174,214)\", \"outliercolor\": \"rgba(219, 64, 82, 0.6)\", \"line\": {\"outlierwidth\": 2, \"outliercolor\": \"rgba(219, 64, 82, 0.6)\"}}, \"y\": [3, 1, 2, 3, 1, 1, 2, 1, 2, 0, 1], \"x\": 3, \"line\": {\"color\": \"rgb(107,174,214)\"}, \"type\": \"box\", \"boxpoints\": \"suspectedoutliers\"}, {\"showlegend\": false, \"name\": 4, \"marker\": {\"color\": \"rgb(107,174,214)\", \"outliercolor\": \"rgba(219, 64, 82, 0.6)\", \"line\": {\"outlierwidth\": 2, \"outliercolor\": \"rgba(219, 64, 82, 0.6)\"}}, \"y\": [4, 2, 2, 3, 1, 1, 2, 1, 2, 1, 1], \"x\": 4, \"line\": {\"color\": \"rgb(107,174,214)\"}, \"type\": \"box\", \"boxpoints\": \"suspectedoutliers\"}, {\"showlegend\": false, \"name\": 5, \"marker\": {\"color\": \"rgb(107,174,214)\", \"outliercolor\": \"rgba(219, 64, 82, 0.6)\", \"line\": {\"outlierwidth\": 2, \"outliercolor\": \"rgba(219, 64, 82, 0.6)\"}}, \"y\": [5, 2, 2, 3, 2, 2, 2, 1, 2, 3, 1], \"x\": 5, \"line\": {\"color\": \"rgb(107,174,214)\"}, \"type\": \"box\", \"boxpoints\": \"suspectedoutliers\"}, {\"showlegend\": false, \"name\": 6, \"marker\": {\"color\": \"rgb(107,174,214)\", \"outliercolor\": \"rgba(219, 64, 82, 0.6)\", \"line\": {\"outlierwidth\": 2, \"outliercolor\": \"rgba(219, 64, 82, 0.6)\"}}, \"y\": [5, 3, 3, 3, 2, 2, 2, 2, 4, 4, 1], \"x\": 6, \"line\": {\"color\": \"rgb(107,174,214)\"}, \"type\": \"box\", \"boxpoints\": \"suspectedoutliers\"}, {\"showlegend\": false, \"name\": 7, \"marker\": {\"color\": \"rgb(107,174,214)\", \"outliercolor\": \"rgba(219, 64, 82, 0.6)\", \"line\": {\"outlierwidth\": 2, \"outliercolor\": \"rgba(219, 64, 82, 0.6)\"}}, \"y\": [5, 3, 3, 3, 2, 2, 2, 2, 4, 5, 1], \"x\": 7, \"line\": {\"color\": \"rgb(107,174,214)\"}, \"type\": \"box\", \"boxpoints\": \"suspectedoutliers\"}, {\"showlegend\": false, \"name\": 8, \"marker\": {\"color\": \"rgb(107,174,214)\", \"outliercolor\": \"rgba(219, 64, 82, 0.6)\", \"line\": {\"outlierwidth\": 2, \"outliercolor\": \"rgba(219, 64, 82, 0.6)\"}}, \"y\": [6, 4, 3, 3, 4, 3, 2, 2, 5, 5, 1], \"x\": 8, \"line\": {\"color\": \"rgb(107,174,214)\"}, \"type\": \"box\", \"boxpoints\": \"suspectedoutliers\"}, {\"showlegend\": false, \"name\": 9, \"marker\": {\"color\": \"rgb(107,174,214)\", \"outliercolor\": \"rgba(219, 64, 82, 0.6)\", \"line\": {\"outlierwidth\": 2, \"outliercolor\": \"rgba(219, 64, 82, 0.6)\"}}, \"y\": [7, 4, 5, 3, 4, 3, 2, 2, 5, 5, 1], \"x\": 9, \"line\": {\"color\": \"rgb(107,174,214)\"}, \"type\": \"box\", \"boxpoints\": \"suspectedoutliers\"}, {\"showlegend\": false, \"name\": 10, \"marker\": {\"color\": \"rgb(107,174,214)\", \"outliercolor\": \"rgba(219, 64, 82, 0.6)\", \"line\": {\"outlierwidth\": 2, \"outliercolor\": \"rgba(219, 64, 82, 0.6)\"}}, \"y\": [7, 4, 5, 3, 4, 3, 2, 3, 6, 5, 1], \"x\": 10, \"line\": {\"color\": \"rgb(107,174,214)\"}, \"type\": \"box\", \"boxpoints\": \"suspectedoutliers\"}, {\"showlegend\": false, \"name\": 11, \"marker\": {\"color\": \"rgb(107,174,214)\", \"outliercolor\": \"rgba(219, 64, 82, 0.6)\", \"line\": {\"outlierwidth\": 2, \"outliercolor\": \"rgba(219, 64, 82, 0.6)\"}}, \"y\": [7, 4, 5, 3, 5, 3, 2, 3, 7, 5, 1], \"x\": 11, \"line\": {\"color\": \"rgb(107,174,214)\"}, \"type\": \"box\", \"boxpoints\": \"suspectedoutliers\"}, {\"showlegend\": false, \"name\": 12, \"marker\": {\"color\": \"rgb(107,174,214)\", \"outliercolor\": \"rgba(219, 64, 82, 0.6)\", \"line\": {\"outlierwidth\": 2, \"outliercolor\": \"rgba(219, 64, 82, 0.6)\"}}, \"y\": [7, 5, 5, 3, 5, 3, 2, 3, 7, 5, 2], \"x\": 12, \"line\": {\"color\": \"rgb(107,174,214)\"}, \"type\": \"box\", \"boxpoints\": \"suspectedoutliers\"}, {\"showlegend\": false, \"name\": 13, \"marker\": {\"color\": \"rgb(107,174,214)\", \"outliercolor\": \"rgba(219, 64, 82, 0.6)\", \"line\": {\"outlierwidth\": 2, \"outliercolor\": \"rgba(219, 64, 82, 0.6)\"}}, \"y\": [7, 5, 5, 4, 5, 3, 3, 4, 8, 5, 2], \"x\": 13, \"line\": {\"color\": \"rgb(107,174,214)\"}, \"type\": \"box\", \"boxpoints\": \"suspectedoutliers\"}, {\"showlegend\": false, \"name\": 14, \"marker\": {\"color\": \"rgb(107,174,214)\", \"outliercolor\": \"rgba(219, 64, 82, 0.6)\", \"line\": {\"outlierwidth\": 2, \"outliercolor\": \"rgba(219, 64, 82, 0.6)\"}}, \"y\": [7, 5, 5, 5, 5, 4, 3, 6, 8, 5, 2], \"x\": 14, \"line\": {\"color\": \"rgb(107,174,214)\"}, \"type\": \"box\", \"boxpoints\": \"suspectedoutliers\"}, {\"showlegend\": false, \"name\": 15, \"marker\": {\"color\": \"rgb(107,174,214)\", \"outliercolor\": \"rgba(219, 64, 82, 0.6)\", \"line\": {\"outlierwidth\": 2, \"outliercolor\": \"rgba(219, 64, 82, 0.6)\"}}, \"y\": [7, 5, 5, 5, 5, 4, 3, 6, 9, 5, 2], \"x\": 15, \"line\": {\"color\": \"rgb(107,174,214)\"}, \"type\": \"box\", \"boxpoints\": \"suspectedoutliers\"}, {\"showlegend\": false, \"name\": 16, \"marker\": {\"color\": \"rgb(107,174,214)\", \"outliercolor\": \"rgba(219, 64, 82, 0.6)\", \"line\": {\"outlierwidth\": 2, \"outliercolor\": \"rgba(219, 64, 82, 0.6)\"}}, \"y\": [7, 5, 5, 6, 5, 5, 3, 6, 9, 5, 2], \"x\": 16, \"line\": {\"color\": \"rgb(107,174,214)\"}, \"type\": \"box\", \"boxpoints\": \"suspectedoutliers\"}, {\"showlegend\": false, \"name\": 17, \"marker\": {\"color\": \"rgb(107,174,214)\", \"outliercolor\": \"rgba(219, 64, 82, 0.6)\", \"line\": {\"outlierwidth\": 2, \"outliercolor\": \"rgba(219, 64, 82, 0.6)\"}}, \"y\": [7, 5, 5, 7, 6, 5, 3, 6, 9, 5, 2], \"x\": 17, \"line\": {\"color\": \"rgb(107,174,214)\"}, \"type\": \"box\", \"boxpoints\": \"suspectedoutliers\"}, {\"showlegend\": false, \"name\": 18, \"marker\": {\"color\": \"rgb(107,174,214)\", \"outliercolor\": \"rgba(219, 64, 82, 0.6)\", \"line\": {\"outlierwidth\": 2, \"outliercolor\": \"rgba(219, 64, 82, 0.6)\"}}, \"y\": [8, 6, 5, 7, 6, 5, 3, 6, 11, 5, 2], \"x\": 18, \"line\": {\"color\": \"rgb(107,174,214)\"}, \"type\": \"box\", \"boxpoints\": \"suspectedoutliers\"}, {\"showlegend\": false, \"name\": 19, \"marker\": {\"color\": \"rgb(107,174,214)\", \"outliercolor\": \"rgba(219, 64, 82, 0.6)\", \"line\": {\"outlierwidth\": 2, \"outliercolor\": \"rgba(219, 64, 82, 0.6)\"}}, \"y\": [8, 6, 5, 7, 7, 5, 3, 6, 11, 5, 2], \"x\": 19, \"line\": {\"color\": \"rgb(107,174,214)\"}, \"type\": \"box\", \"boxpoints\": \"suspectedoutliers\"}, {\"showlegend\": false, \"name\": 20, \"marker\": {\"color\": \"rgb(107,174,214)\", \"outliercolor\": \"rgba(219, 64, 82, 0.6)\", \"line\": {\"outlierwidth\": 2, \"outliercolor\": \"rgba(219, 64, 82, 0.6)\"}}, \"y\": [8, 6, 6, 7, 7, 5, 3, 7, 11, 5, 2], \"x\": 20, \"line\": {\"color\": \"rgb(107,174,214)\"}, \"type\": \"box\", \"boxpoints\": \"suspectedoutliers\"}, {\"showlegend\": false, \"name\": 21, \"marker\": {\"color\": \"rgb(107,174,214)\", \"outliercolor\": \"rgba(219, 64, 82, 0.6)\", \"line\": {\"outlierwidth\": 2, \"outliercolor\": \"rgba(219, 64, 82, 0.6)\"}}, \"y\": [10, 6, 7, 7, 7, 5, 3, 7, 11, 7, 2], \"x\": 21, \"line\": {\"color\": \"rgb(107,174,214)\"}, \"type\": \"box\", \"boxpoints\": \"suspectedoutliers\"}, {\"showlegend\": false, \"name\": 22, \"marker\": {\"color\": \"rgb(107,174,214)\", \"outliercolor\": \"rgba(219, 64, 82, 0.6)\", \"line\": {\"outlierwidth\": 2, \"outliercolor\": \"rgba(219, 64, 82, 0.6)\"}}, \"y\": [10, 7, 8, 9, 7, 5, 3, 7, 12, 7, 2], \"x\": 22, \"line\": {\"color\": \"rgb(107,174,214)\"}, \"type\": \"box\", \"boxpoints\": \"suspectedoutliers\"}, {\"showlegend\": false, \"name\": 23, \"marker\": {\"color\": \"rgb(107,174,214)\", \"outliercolor\": \"rgba(219, 64, 82, 0.6)\", \"line\": {\"outlierwidth\": 2, \"outliercolor\": \"rgba(219, 64, 82, 0.6)\"}}, \"y\": [10, 8, 8, 10, 7, 6, 4, 8, 13, 8, 2], \"x\": 23, \"line\": {\"color\": \"rgb(107,174,214)\"}, \"type\": \"box\", \"boxpoints\": \"suspectedoutliers\"}, {\"showlegend\": false, \"name\": 24, \"marker\": {\"color\": \"rgb(107,174,214)\", \"outliercolor\": \"rgba(219, 64, 82, 0.6)\", \"line\": {\"outlierwidth\": 2, \"outliercolor\": \"rgba(219, 64, 82, 0.6)\"}}, \"y\": [10, 9, 8, 10, 8, 6, 4, 9, 13, 9, 4], \"x\": 24, \"line\": {\"color\": \"rgb(107,174,214)\"}, \"type\": \"box\", \"boxpoints\": \"suspectedoutliers\"}, {\"showlegend\": false, \"name\": 25, \"marker\": {\"color\": \"rgb(107,174,214)\", \"outliercolor\": \"rgba(219, 64, 82, 0.6)\", \"line\": {\"outlierwidth\": 2, \"outliercolor\": \"rgba(219, 64, 82, 0.6)\"}}, \"y\": [10, 9, 8, 11, 8, 8, 5, 9, 13, 10, 4], \"x\": 25, \"line\": {\"color\": \"rgb(107,174,214)\"}, \"type\": \"box\", \"boxpoints\": \"suspectedoutliers\"}, {\"showlegend\": false, \"name\": 26, \"marker\": {\"color\": \"rgb(107,174,214)\", \"outliercolor\": \"rgba(219, 64, 82, 0.6)\", \"line\": {\"outlierwidth\": 2, \"outliercolor\": \"rgba(219, 64, 82, 0.6)\"}}, \"y\": [10, 10, 8, 11, 8, 8, 5, 10, 13, 11, 4], \"x\": 26, \"line\": {\"color\": \"rgb(107,174,214)\"}, \"type\": \"box\", \"boxpoints\": \"suspectedoutliers\"}, {\"showlegend\": false, \"name\": 27, \"marker\": {\"color\": \"rgb(107,174,214)\", \"outliercolor\": \"rgba(219, 64, 82, 0.6)\", \"line\": {\"outlierwidth\": 2, \"outliercolor\": \"rgba(219, 64, 82, 0.6)\"}}, \"y\": [11, 10, 8, 11, 9, 9, 6, 10, 13, 11, 4], \"x\": 27, \"line\": {\"color\": \"rgb(107,174,214)\"}, \"type\": \"box\", \"boxpoints\": \"suspectedoutliers\"}, {\"showlegend\": false, \"name\": 28, \"marker\": {\"color\": \"rgb(107,174,214)\", \"outliercolor\": \"rgba(219, 64, 82, 0.6)\", \"line\": {\"outlierwidth\": 2, \"outliercolor\": \"rgba(219, 64, 82, 0.6)\"}}, \"y\": [12, 10, 8, 11, 9, 9, 7, 11, 13, 12, 4], \"x\": 28, \"line\": {\"color\": \"rgb(107,174,214)\"}, \"type\": \"box\", \"boxpoints\": \"suspectedoutliers\"}, {\"showlegend\": false, \"name\": 29, \"marker\": {\"color\": \"rgb(107,174,214)\", \"outliercolor\": \"rgba(219, 64, 82, 0.6)\", \"line\": {\"outlierwidth\": 2, \"outliercolor\": \"rgba(219, 64, 82, 0.6)\"}}, \"y\": [12, 10, 9, 12, 9, 9, 7, 12, 14, 12, 4], \"x\": 29, \"line\": {\"color\": \"rgb(107,174,214)\"}, \"type\": \"box\", \"boxpoints\": \"suspectedoutliers\"}, {\"showlegend\": false, \"name\": 30, \"marker\": {\"color\": \"rgb(107,174,214)\", \"outliercolor\": \"rgba(219, 64, 82, 0.6)\", \"line\": {\"outlierwidth\": 2, \"outliercolor\": \"rgba(219, 64, 82, 0.6)\"}}, \"y\": [13, 10, 9, 13, 9, 10, 7, 12, 14, 13, 4], \"x\": 30, \"line\": {\"color\": \"rgb(107,174,214)\"}, \"type\": \"box\", \"boxpoints\": \"suspectedoutliers\"}, {\"showlegend\": false, \"name\": 31, \"marker\": {\"color\": \"rgb(107,174,214)\", \"outliercolor\": \"rgba(219, 64, 82, 0.6)\", \"line\": {\"outlierwidth\": 2, \"outliercolor\": \"rgba(219, 64, 82, 0.6)\"}}, \"y\": [13, 11, 9, 13, 9, 10, 7, 13, 14, 13, 4], \"x\": 31, \"line\": {\"color\": \"rgb(107,174,214)\"}, \"type\": \"box\", \"boxpoints\": \"suspectedoutliers\"}, {\"showlegend\": false, \"name\": 32, \"marker\": {\"color\": \"rgb(107,174,214)\", \"outliercolor\": \"rgba(219, 64, 82, 0.6)\", \"line\": {\"outlierwidth\": 2, \"outliercolor\": \"rgba(219, 64, 82, 0.6)\"}}, \"y\": [14, 11, 9, 13, 11, 10, 7, 14, 16, 13, 4], \"x\": 32, \"line\": {\"color\": \"rgb(107,174,214)\"}, \"type\": \"box\", \"boxpoints\": \"suspectedoutliers\"}, {\"showlegend\": false, \"name\": 33, \"marker\": {\"color\": \"rgb(107,174,214)\", \"outliercolor\": \"rgba(219, 64, 82, 0.6)\", \"line\": {\"outlierwidth\": 2, \"outliercolor\": \"rgba(219, 64, 82, 0.6)\"}}, \"y\": [14, 11, 10, 14, 11, 10, 7, 14, 16, 13, 6], \"x\": 33, \"line\": {\"color\": \"rgb(107,174,214)\"}, \"type\": \"box\", \"boxpoints\": \"suspectedoutliers\"}, {\"showlegend\": false, \"name\": 34, \"marker\": {\"color\": \"rgb(107,174,214)\", \"outliercolor\": \"rgba(219, 64, 82, 0.6)\", \"line\": {\"outlierwidth\": 2, \"outliercolor\": \"rgba(219, 64, 82, 0.6)\"}}, \"y\": [15, 13, 10, 15, 11, 10, 7, 14, 16, 14, 6], \"x\": 34, \"line\": {\"color\": \"rgb(107,174,214)\"}, \"type\": \"box\", \"boxpoints\": \"suspectedoutliers\"}, {\"showlegend\": false, \"name\": 35, \"marker\": {\"color\": \"rgb(107,174,214)\", \"outliercolor\": \"rgba(219, 64, 82, 0.6)\", \"line\": {\"outlierwidth\": 2, \"outliercolor\": \"rgba(219, 64, 82, 0.6)\"}}, \"y\": [16, 13, 10, 16, 11, 10, 7, 14, 17, 15, 6], \"x\": 35, \"line\": {\"color\": \"rgb(107,174,214)\"}, \"type\": \"box\", \"boxpoints\": \"suspectedoutliers\"}, {\"showlegend\": false, \"name\": 36, \"marker\": {\"color\": \"rgb(107,174,214)\", \"outliercolor\": \"rgba(219, 64, 82, 0.6)\", \"line\": {\"outlierwidth\": 2, \"outliercolor\": \"rgba(219, 64, 82, 0.6)\"}}, \"y\": [17, 14, 10, 16, 11, 10, 8, 14, 18, 17, 6], \"x\": 36, \"line\": {\"color\": \"rgb(107,174,214)\"}, \"type\": \"box\", \"boxpoints\": \"suspectedoutliers\"}, {\"showlegend\": false, \"name\": 37, \"marker\": {\"color\": \"rgb(107,174,214)\", \"outliercolor\": \"rgba(219, 64, 82, 0.6)\", \"line\": {\"outlierwidth\": 2, \"outliercolor\": \"rgba(219, 64, 82, 0.6)\"}}, \"y\": [17, 14, 10, 16, 11, 11, 8, 14, 18, 17, 6], \"x\": 37, \"line\": {\"color\": \"rgb(107,174,214)\"}, \"type\": \"box\", \"boxpoints\": \"suspectedoutliers\"}, {\"showlegend\": false, \"name\": 38, \"marker\": {\"color\": \"rgb(107,174,214)\", \"outliercolor\": \"rgba(219, 64, 82, 0.6)\", \"line\": {\"outlierwidth\": 2, \"outliercolor\": \"rgba(219, 64, 82, 0.6)\"}}, \"y\": [17, 14, 11, 16, 11, 12, 8, 14, 18, 18, 6], \"x\": 38, \"line\": {\"color\": \"rgb(107,174,214)\"}, \"type\": \"box\", \"boxpoints\": \"suspectedoutliers\"}, {\"showlegend\": false, \"name\": 39, \"marker\": {\"color\": \"rgb(107,174,214)\", \"outliercolor\": \"rgba(219, 64, 82, 0.6)\", \"line\": {\"outlierwidth\": 2, \"outliercolor\": \"rgba(219, 64, 82, 0.6)\"}}, \"y\": [17, 15, 11, 16, 11, 12, 8, 14, 19, 18, 7], \"x\": 39, \"line\": {\"color\": \"rgb(107,174,214)\"}, \"type\": \"box\", \"boxpoints\": \"suspectedoutliers\"}, {\"showlegend\": false, \"name\": 40, \"marker\": {\"color\": \"rgb(107,174,214)\", \"outliercolor\": \"rgba(219, 64, 82, 0.6)\", \"line\": {\"outlierwidth\": 2, \"outliercolor\": \"rgba(219, 64, 82, 0.6)\"}}, \"y\": [17, 16, 11, 16, 11, 13, 8, 14, 19, 18, 7], \"x\": 40, \"line\": {\"color\": \"rgb(107,174,214)\"}, \"type\": \"box\", \"boxpoints\": \"suspectedoutliers\"}, {\"showlegend\": false, \"name\": 41, \"marker\": {\"color\": \"rgb(107,174,214)\", \"outliercolor\": \"rgba(219, 64, 82, 0.6)\", \"line\": {\"outlierwidth\": 2, \"outliercolor\": \"rgba(219, 64, 82, 0.6)\"}}, \"y\": [17, 17, 12, 16, 11, 13, 9, 14, 20, 18, 7], \"x\": 41, \"line\": {\"color\": \"rgb(107,174,214)\"}, \"type\": \"box\", \"boxpoints\": \"suspectedoutliers\"}, {\"showlegend\": false, \"name\": 42, \"marker\": {\"color\": \"rgb(107,174,214)\", \"outliercolor\": \"rgba(219, 64, 82, 0.6)\", \"line\": {\"outlierwidth\": 2, \"outliercolor\": \"rgba(219, 64, 82, 0.6)\"}}, \"y\": [18, 17, 12, 16, 11, 13, 10, 16, 20, 18, 8], \"x\": 42, \"line\": {\"color\": \"rgb(107,174,214)\"}, \"type\": \"box\", \"boxpoints\": \"suspectedoutliers\"}, {\"showlegend\": false, \"name\": 43, \"marker\": {\"color\": \"rgb(107,174,214)\", \"outliercolor\": \"rgba(219, 64, 82, 0.6)\", \"line\": {\"outlierwidth\": 2, \"outliercolor\": \"rgba(219, 64, 82, 0.6)\"}}, \"y\": [18, 17, 12, 16, 11, 13, 10, 16, 21, 19, 8], \"x\": 43, \"line\": {\"color\": \"rgb(107,174,214)\"}, \"type\": \"box\", \"boxpoints\": \"suspectedoutliers\"}, {\"showlegend\": false, \"name\": 44, \"marker\": {\"color\": \"rgb(107,174,214)\", \"outliercolor\": \"rgba(219, 64, 82, 0.6)\", \"line\": {\"outlierwidth\": 2, \"outliercolor\": \"rgba(219, 64, 82, 0.6)\"}}, \"y\": [19, 18, 13, 16, 12, 13, 10, 17, 21, 19, 8], \"x\": 44, \"line\": {\"color\": \"rgb(107,174,214)\"}, \"type\": \"box\", \"boxpoints\": \"suspectedoutliers\"}, {\"showlegend\": false, \"name\": 45, \"marker\": {\"color\": \"rgb(107,174,214)\", \"outliercolor\": \"rgba(219, 64, 82, 0.6)\", \"line\": {\"outlierwidth\": 2, \"outliercolor\": \"rgba(219, 64, 82, 0.6)\"}}, \"y\": [19, 18, 13, 16, 13, 14, 10, 17, 22, 19, 8], \"x\": 45, \"line\": {\"color\": \"rgb(107,174,214)\"}, \"type\": \"box\", \"boxpoints\": \"suspectedoutliers\"}, {\"showlegend\": false, \"name\": 46, \"marker\": {\"color\": \"rgb(107,174,214)\", \"outliercolor\": \"rgba(219, 64, 82, 0.6)\", \"line\": {\"outlierwidth\": 2, \"outliercolor\": \"rgba(219, 64, 82, 0.6)\"}}, \"y\": [19, 18, 14, 17, 15, 14, 10, 17, 22, 19, 8], \"x\": 46, \"line\": {\"color\": \"rgb(107,174,214)\"}, \"type\": \"box\", \"boxpoints\": \"suspectedoutliers\"}, {\"showlegend\": false, \"name\": 47, \"marker\": {\"color\": \"rgb(107,174,214)\", \"outliercolor\": \"rgba(219, 64, 82, 0.6)\", \"line\": {\"outlierwidth\": 2, \"outliercolor\": \"rgba(219, 64, 82, 0.6)\"}}, \"y\": [19, 18, 15, 17, 15, 15, 10, 17, 23, 20, 8], \"x\": 47, \"line\": {\"color\": \"rgb(107,174,214)\"}, \"type\": \"box\", \"boxpoints\": \"suspectedoutliers\"}, {\"showlegend\": false, \"name\": \"Mean\", \"mode\": \"lines\", \"y\": [0.0, 0.5454545454545454, 1.2727272727272727, 1.5454545454545454, 1.8181818181818181, 2.272727272727273, 2.8181818181818183, 2.909090909090909, 3.4545454545454546, 3.727272727272727, 3.909090909090909, 4.090909090909091, 4.2727272727272725, 4.636363636363637, 5.0, 5.090909090909091, 5.2727272727272725, 5.454545454545454, 5.818181818181818, 5.909090909090909, 6.090909090909091, 6.545454545454546, 7.0, 7.636363636363637, 8.181818181818182, 8.636363636363637, 8.909090909090908, 9.272727272727273, 9.636363636363637, 10.0, 10.363636363636363, 10.545454545454545, 11.090909090909092, 11.454545454545455, 11.909090909090908, 12.272727272727273, 12.818181818181818, 12.909090909090908, 13.181818181818182, 13.454545454545455, 13.636363636363637, 14.0, 14.454545454545455, 14.636363636363637, 15.090909090909092, 15.363636363636363, 15.727272727272727, 16.09090909090909], \"x\": [1, 2, 3, 4, 5, 6, 7, 8, 9, 10, 11, 12, 13, 14, 15, 16, 17, 18, 19, 20, 21, 22, 23, 24, 25, 26, 27, 28, 29, 30, 31, 32, 33, 34, 35, 36, 37, 38, 39, 40, 41, 42, 43, 44, 45, 46, 47], \"type\": \"scatter\"}], {}, {\"linkText\": \"Export to plot.ly\", \"showLink\": true})});</script>"
      ]
     },
     "metadata": {},
     "output_type": "display_data"
    },
    {
     "data": {
      "application/vnd.plotly.v1+json": {
       "data": [
        {
         "boxpoints": "suspectedoutliers",
         "line": {
          "color": "rgb(107,174,214)"
         },
         "marker": {
          "color": "rgb(107,174,214)",
          "line": {
           "outliercolor": "rgba(219, 64, 82, 0.6)",
           "outlierwidth": 2
          },
          "outliercolor": "rgba(219, 64, 82, 0.6)"
         },
         "name": 0,
         "showlegend": false,
         "type": "box",
         "x": 0,
         "y": [
          0,
          0,
          0,
          0,
          0,
          0,
          0,
          0,
          0,
          0,
          0
         ]
        },
        {
         "boxpoints": "suspectedoutliers",
         "line": {
          "color": "rgb(107,174,214)"
         },
         "marker": {
          "color": "rgb(107,174,214)",
          "line": {
           "outliercolor": "rgba(219, 64, 82, 0.6)",
           "outlierwidth": 2
          },
          "outliercolor": "rgba(219, 64, 82, 0.6)"
         },
         "name": 1,
         "showlegend": false,
         "type": "box",
         "x": 1,
         "y": [
          1,
          3,
          0,
          0,
          0,
          0,
          2,
          0,
          0,
          0,
          1
         ]
        },
        {
         "boxpoints": "suspectedoutliers",
         "line": {
          "color": "rgb(107,174,214)"
         },
         "marker": {
          "color": "rgb(107,174,214)",
          "line": {
           "outliercolor": "rgba(219, 64, 82, 0.6)",
           "outlierwidth": 2
          },
          "outliercolor": "rgba(219, 64, 82, 0.6)"
         },
         "name": 2,
         "showlegend": false,
         "type": "box",
         "x": 2,
         "y": [
          2,
          3,
          0,
          1,
          0,
          0,
          2,
          0,
          0,
          0,
          1
         ]
        },
        {
         "boxpoints": "suspectedoutliers",
         "line": {
          "color": "rgb(107,174,214)"
         },
         "marker": {
          "color": "rgb(107,174,214)",
          "line": {
           "outliercolor": "rgba(219, 64, 82, 0.6)",
           "outlierwidth": 2
          },
          "outliercolor": "rgba(219, 64, 82, 0.6)"
         },
         "name": 3,
         "showlegend": false,
         "type": "box",
         "x": 3,
         "y": [
          2,
          4,
          1,
          2,
          1,
          0,
          2,
          0,
          0,
          1,
          1
         ]
        },
        {
         "boxpoints": "suspectedoutliers",
         "line": {
          "color": "rgb(107,174,214)"
         },
         "marker": {
          "color": "rgb(107,174,214)",
          "line": {
           "outliercolor": "rgba(219, 64, 82, 0.6)",
           "outlierwidth": 2
          },
          "outliercolor": "rgba(219, 64, 82, 0.6)"
         },
         "name": 4,
         "showlegend": false,
         "type": "box",
         "x": 4,
         "y": [
          2,
          4,
          1,
          2,
          1,
          1,
          2,
          1,
          0,
          1,
          1
         ]
        },
        {
         "boxpoints": "suspectedoutliers",
         "line": {
          "color": "rgb(107,174,214)"
         },
         "marker": {
          "color": "rgb(107,174,214)",
          "line": {
           "outliercolor": "rgba(219, 64, 82, 0.6)",
           "outlierwidth": 2
          },
          "outliercolor": "rgba(219, 64, 82, 0.6)"
         },
         "name": 5,
         "showlegend": false,
         "type": "box",
         "x": 5,
         "y": [
          2,
          4,
          1,
          2,
          2,
          1,
          2,
          1,
          1,
          1,
          1
         ]
        },
        {
         "boxpoints": "suspectedoutliers",
         "line": {
          "color": "rgb(107,174,214)"
         },
         "marker": {
          "color": "rgb(107,174,214)",
          "line": {
           "outliercolor": "rgba(219, 64, 82, 0.6)",
           "outlierwidth": 2
          },
          "outliercolor": "rgba(219, 64, 82, 0.6)"
         },
         "name": 6,
         "showlegend": false,
         "type": "box",
         "x": 6,
         "y": [
          2,
          5,
          1,
          2,
          2,
          1,
          2,
          1,
          1,
          1,
          1
         ]
        },
        {
         "boxpoints": "suspectedoutliers",
         "line": {
          "color": "rgb(107,174,214)"
         },
         "marker": {
          "color": "rgb(107,174,214)",
          "line": {
           "outliercolor": "rgba(219, 64, 82, 0.6)",
           "outlierwidth": 2
          },
          "outliercolor": "rgba(219, 64, 82, 0.6)"
         },
         "name": 7,
         "showlegend": false,
         "type": "box",
         "x": 7,
         "y": [
          2,
          5,
          2,
          2,
          3,
          1,
          2,
          1,
          1,
          1,
          1
         ]
        },
        {
         "boxpoints": "suspectedoutliers",
         "line": {
          "color": "rgb(107,174,214)"
         },
         "marker": {
          "color": "rgb(107,174,214)",
          "line": {
           "outliercolor": "rgba(219, 64, 82, 0.6)",
           "outlierwidth": 2
          },
          "outliercolor": "rgba(219, 64, 82, 0.6)"
         },
         "name": 8,
         "showlegend": false,
         "type": "box",
         "x": 8,
         "y": [
          2,
          5,
          2,
          2,
          3,
          1,
          2,
          1,
          2,
          1,
          1
         ]
        },
        {
         "boxpoints": "suspectedoutliers",
         "line": {
          "color": "rgb(107,174,214)"
         },
         "marker": {
          "color": "rgb(107,174,214)",
          "line": {
           "outliercolor": "rgba(219, 64, 82, 0.6)",
           "outlierwidth": 2
          },
          "outliercolor": "rgba(219, 64, 82, 0.6)"
         },
         "name": 9,
         "showlegend": false,
         "type": "box",
         "x": 9,
         "y": [
          2,
          5,
          2,
          2,
          4,
          1,
          2,
          2,
          2,
          1,
          1
         ]
        },
        {
         "boxpoints": "suspectedoutliers",
         "line": {
          "color": "rgb(107,174,214)"
         },
         "marker": {
          "color": "rgb(107,174,214)",
          "line": {
           "outliercolor": "rgba(219, 64, 82, 0.6)",
           "outlierwidth": 2
          },
          "outliercolor": "rgba(219, 64, 82, 0.6)"
         },
         "name": 10,
         "showlegend": false,
         "type": "box",
         "x": 10,
         "y": [
          2,
          5,
          2,
          2,
          4,
          1,
          2,
          2,
          3,
          1,
          1
         ]
        },
        {
         "boxpoints": "suspectedoutliers",
         "line": {
          "color": "rgb(107,174,214)"
         },
         "marker": {
          "color": "rgb(107,174,214)",
          "line": {
           "outliercolor": "rgba(219, 64, 82, 0.6)",
           "outlierwidth": 2
          },
          "outliercolor": "rgba(219, 64, 82, 0.6)"
         },
         "name": 11,
         "showlegend": false,
         "type": "box",
         "x": 11,
         "y": [
          2,
          6,
          2,
          2,
          5,
          1,
          2,
          2,
          3,
          2,
          1
         ]
        },
        {
         "boxpoints": "suspectedoutliers",
         "line": {
          "color": "rgb(107,174,214)"
         },
         "marker": {
          "color": "rgb(107,174,214)",
          "line": {
           "outliercolor": "rgba(219, 64, 82, 0.6)",
           "outlierwidth": 2
          },
          "outliercolor": "rgba(219, 64, 82, 0.6)"
         },
         "name": 12,
         "showlegend": false,
         "type": "box",
         "x": 12,
         "y": [
          2,
          7,
          2,
          2,
          6,
          1,
          2,
          2,
          3,
          2,
          1
         ]
        },
        {
         "boxpoints": "suspectedoutliers",
         "line": {
          "color": "rgb(107,174,214)"
         },
         "marker": {
          "color": "rgb(107,174,214)",
          "line": {
           "outliercolor": "rgba(219, 64, 82, 0.6)",
           "outlierwidth": 2
          },
          "outliercolor": "rgba(219, 64, 82, 0.6)"
         },
         "name": 13,
         "showlegend": false,
         "type": "box",
         "x": 13,
         "y": [
          2,
          7,
          2,
          2,
          7,
          1,
          2,
          2,
          5,
          2,
          1
         ]
        },
        {
         "boxpoints": "suspectedoutliers",
         "line": {
          "color": "rgb(107,174,214)"
         },
         "marker": {
          "color": "rgb(107,174,214)",
          "line": {
           "outliercolor": "rgba(219, 64, 82, 0.6)",
           "outlierwidth": 2
          },
          "outliercolor": "rgba(219, 64, 82, 0.6)"
         },
         "name": 14,
         "showlegend": false,
         "type": "box",
         "x": 14,
         "y": [
          2,
          8,
          2,
          2,
          7,
          1,
          2,
          2,
          5,
          2,
          1
         ]
        },
        {
         "boxpoints": "suspectedoutliers",
         "line": {
          "color": "rgb(107,174,214)"
         },
         "marker": {
          "color": "rgb(107,174,214)",
          "line": {
           "outliercolor": "rgba(219, 64, 82, 0.6)",
           "outlierwidth": 2
          },
          "outliercolor": "rgba(219, 64, 82, 0.6)"
         },
         "name": 15,
         "showlegend": false,
         "type": "box",
         "x": 15,
         "y": [
          2,
          8,
          2,
          2,
          7,
          1,
          3,
          2,
          5,
          2,
          1
         ]
        },
        {
         "boxpoints": "suspectedoutliers",
         "line": {
          "color": "rgb(107,174,214)"
         },
         "marker": {
          "color": "rgb(107,174,214)",
          "line": {
           "outliercolor": "rgba(219, 64, 82, 0.6)",
           "outlierwidth": 2
          },
          "outliercolor": "rgba(219, 64, 82, 0.6)"
         },
         "name": 16,
         "showlegend": false,
         "type": "box",
         "x": 16,
         "y": [
          2,
          8,
          2,
          2,
          7,
          1,
          3,
          3,
          5,
          2,
          2
         ]
        },
        {
         "boxpoints": "suspectedoutliers",
         "line": {
          "color": "rgb(107,174,214)"
         },
         "marker": {
          "color": "rgb(107,174,214)",
          "line": {
           "outliercolor": "rgba(219, 64, 82, 0.6)",
           "outlierwidth": 2
          },
          "outliercolor": "rgba(219, 64, 82, 0.6)"
         },
         "name": 17,
         "showlegend": false,
         "type": "box",
         "x": 17,
         "y": [
          2,
          8,
          2,
          3,
          7,
          1,
          3,
          3,
          6,
          2,
          2
         ]
        },
        {
         "boxpoints": "suspectedoutliers",
         "line": {
          "color": "rgb(107,174,214)"
         },
         "marker": {
          "color": "rgb(107,174,214)",
          "line": {
           "outliercolor": "rgba(219, 64, 82, 0.6)",
           "outlierwidth": 2
          },
          "outliercolor": "rgba(219, 64, 82, 0.6)"
         },
         "name": 18,
         "showlegend": false,
         "type": "box",
         "x": 18,
         "y": [
          2,
          8,
          2,
          3,
          7,
          1,
          3,
          3,
          6,
          2,
          2
         ]
        },
        {
         "boxpoints": "suspectedoutliers",
         "line": {
          "color": "rgb(107,174,214)"
         },
         "marker": {
          "color": "rgb(107,174,214)",
          "line": {
           "outliercolor": "rgba(219, 64, 82, 0.6)",
           "outlierwidth": 2
          },
          "outliercolor": "rgba(219, 64, 82, 0.6)"
         },
         "name": 19,
         "showlegend": false,
         "type": "box",
         "x": 19,
         "y": [
          2,
          8,
          2,
          3,
          7,
          1,
          3,
          3,
          6,
          3,
          2
         ]
        },
        {
         "boxpoints": "suspectedoutliers",
         "line": {
          "color": "rgb(107,174,214)"
         },
         "marker": {
          "color": "rgb(107,174,214)",
          "line": {
           "outliercolor": "rgba(219, 64, 82, 0.6)",
           "outlierwidth": 2
          },
          "outliercolor": "rgba(219, 64, 82, 0.6)"
         },
         "name": 20,
         "showlegend": false,
         "type": "box",
         "x": 20,
         "y": [
          2,
          8,
          3,
          3,
          7,
          1,
          3,
          3,
          7,
          3,
          2
         ]
        },
        {
         "boxpoints": "suspectedoutliers",
         "line": {
          "color": "rgb(107,174,214)"
         },
         "marker": {
          "color": "rgb(107,174,214)",
          "line": {
           "outliercolor": "rgba(219, 64, 82, 0.6)",
           "outlierwidth": 2
          },
          "outliercolor": "rgba(219, 64, 82, 0.6)"
         },
         "name": 21,
         "showlegend": false,
         "type": "box",
         "x": 21,
         "y": [
          2,
          8,
          3,
          3,
          7,
          1,
          3,
          3,
          7,
          3,
          2
         ]
        },
        {
         "boxpoints": "suspectedoutliers",
         "line": {
          "color": "rgb(107,174,214)"
         },
         "marker": {
          "color": "rgb(107,174,214)",
          "line": {
           "outliercolor": "rgba(219, 64, 82, 0.6)",
           "outlierwidth": 2
          },
          "outliercolor": "rgba(219, 64, 82, 0.6)"
         },
         "name": 22,
         "showlegend": false,
         "type": "box",
         "x": 22,
         "y": [
          2,
          8,
          3,
          3,
          7,
          1,
          3,
          4,
          7,
          3,
          2
         ]
        },
        {
         "boxpoints": "suspectedoutliers",
         "line": {
          "color": "rgb(107,174,214)"
         },
         "marker": {
          "color": "rgb(107,174,214)",
          "line": {
           "outliercolor": "rgba(219, 64, 82, 0.6)",
           "outlierwidth": 2
          },
          "outliercolor": "rgba(219, 64, 82, 0.6)"
         },
         "name": 23,
         "showlegend": false,
         "type": "box",
         "x": 23,
         "y": [
          2,
          8,
          4,
          3,
          7,
          1,
          3,
          5,
          7,
          3,
          2
         ]
        },
        {
         "boxpoints": "suspectedoutliers",
         "line": {
          "color": "rgb(107,174,214)"
         },
         "marker": {
          "color": "rgb(107,174,214)",
          "line": {
           "outliercolor": "rgba(219, 64, 82, 0.6)",
           "outlierwidth": 2
          },
          "outliercolor": "rgba(219, 64, 82, 0.6)"
         },
         "name": 24,
         "showlegend": false,
         "type": "box",
         "x": 24,
         "y": [
          3,
          8,
          4,
          3,
          7,
          1,
          3,
          5,
          8,
          3,
          2
         ]
        },
        {
         "boxpoints": "suspectedoutliers",
         "line": {
          "color": "rgb(107,174,214)"
         },
         "marker": {
          "color": "rgb(107,174,214)",
          "line": {
           "outliercolor": "rgba(219, 64, 82, 0.6)",
           "outlierwidth": 2
          },
          "outliercolor": "rgba(219, 64, 82, 0.6)"
         },
         "name": 25,
         "showlegend": false,
         "type": "box",
         "x": 25,
         "y": [
          3,
          9,
          4,
          3,
          7,
          1,
          3,
          5,
          8,
          3,
          3
         ]
        },
        {
         "boxpoints": "suspectedoutliers",
         "line": {
          "color": "rgb(107,174,214)"
         },
         "marker": {
          "color": "rgb(107,174,214)",
          "line": {
           "outliercolor": "rgba(219, 64, 82, 0.6)",
           "outlierwidth": 2
          },
          "outliercolor": "rgba(219, 64, 82, 0.6)"
         },
         "name": 26,
         "showlegend": false,
         "type": "box",
         "x": 26,
         "y": [
          3,
          10,
          4,
          3,
          7,
          1,
          3,
          5,
          8,
          3,
          3
         ]
        },
        {
         "boxpoints": "suspectedoutliers",
         "line": {
          "color": "rgb(107,174,214)"
         },
         "marker": {
          "color": "rgb(107,174,214)",
          "line": {
           "outliercolor": "rgba(219, 64, 82, 0.6)",
           "outlierwidth": 2
          },
          "outliercolor": "rgba(219, 64, 82, 0.6)"
         },
         "name": 27,
         "showlegend": false,
         "type": "box",
         "x": 27,
         "y": [
          3,
          10,
          5,
          3,
          7,
          2,
          3,
          5,
          8,
          3,
          3
         ]
        },
        {
         "boxpoints": "suspectedoutliers",
         "line": {
          "color": "rgb(107,174,214)"
         },
         "marker": {
          "color": "rgb(107,174,214)",
          "line": {
           "outliercolor": "rgba(219, 64, 82, 0.6)",
           "outlierwidth": 2
          },
          "outliercolor": "rgba(219, 64, 82, 0.6)"
         },
         "name": 28,
         "showlegend": false,
         "type": "box",
         "x": 28,
         "y": [
          4,
          10,
          5,
          3,
          7,
          2,
          3,
          5,
          9,
          4,
          3
         ]
        },
        {
         "boxpoints": "suspectedoutliers",
         "line": {
          "color": "rgb(107,174,214)"
         },
         "marker": {
          "color": "rgb(107,174,214)",
          "line": {
           "outliercolor": "rgba(219, 64, 82, 0.6)",
           "outlierwidth": 2
          },
          "outliercolor": "rgba(219, 64, 82, 0.6)"
         },
         "name": 29,
         "showlegend": false,
         "type": "box",
         "x": 29,
         "y": [
          4,
          10,
          5,
          3,
          7,
          3,
          3,
          5,
          10,
          5,
          3
         ]
        },
        {
         "boxpoints": "suspectedoutliers",
         "line": {
          "color": "rgb(107,174,214)"
         },
         "marker": {
          "color": "rgb(107,174,214)",
          "line": {
           "outliercolor": "rgba(219, 64, 82, 0.6)",
           "outlierwidth": 2
          },
          "outliercolor": "rgba(219, 64, 82, 0.6)"
         },
         "name": 30,
         "showlegend": false,
         "type": "box",
         "x": 30,
         "y": [
          5,
          10,
          5,
          3,
          7,
          3,
          3,
          5,
          10,
          5,
          3
         ]
        },
        {
         "boxpoints": "suspectedoutliers",
         "line": {
          "color": "rgb(107,174,214)"
         },
         "marker": {
          "color": "rgb(107,174,214)",
          "line": {
           "outliercolor": "rgba(219, 64, 82, 0.6)",
           "outlierwidth": 2
          },
          "outliercolor": "rgba(219, 64, 82, 0.6)"
         },
         "name": 31,
         "showlegend": false,
         "type": "box",
         "x": 31,
         "y": [
          6,
          10,
          5,
          3,
          7,
          3,
          3,
          5,
          10,
          5,
          3
         ]
        },
        {
         "boxpoints": "suspectedoutliers",
         "line": {
          "color": "rgb(107,174,214)"
         },
         "marker": {
          "color": "rgb(107,174,214)",
          "line": {
           "outliercolor": "rgba(219, 64, 82, 0.6)",
           "outlierwidth": 2
          },
          "outliercolor": "rgba(219, 64, 82, 0.6)"
         },
         "name": 32,
         "showlegend": false,
         "type": "box",
         "x": 32,
         "y": [
          6,
          10,
          5,
          3,
          7,
          3,
          3,
          5,
          11,
          5,
          3
         ]
        },
        {
         "boxpoints": "suspectedoutliers",
         "line": {
          "color": "rgb(107,174,214)"
         },
         "marker": {
          "color": "rgb(107,174,214)",
          "line": {
           "outliercolor": "rgba(219, 64, 82, 0.6)",
           "outlierwidth": 2
          },
          "outliercolor": "rgba(219, 64, 82, 0.6)"
         },
         "name": 33,
         "showlegend": false,
         "type": "box",
         "x": 33,
         "y": [
          6,
          10,
          5,
          3,
          7,
          3,
          3,
          5,
          11,
          5,
          3
         ]
        },
        {
         "boxpoints": "suspectedoutliers",
         "line": {
          "color": "rgb(107,174,214)"
         },
         "marker": {
          "color": "rgb(107,174,214)",
          "line": {
           "outliercolor": "rgba(219, 64, 82, 0.6)",
           "outlierwidth": 2
          },
          "outliercolor": "rgba(219, 64, 82, 0.6)"
         },
         "name": 34,
         "showlegend": false,
         "type": "box",
         "x": 34,
         "y": [
          6,
          10,
          5,
          4,
          7,
          3,
          3,
          5,
          11,
          5,
          3
         ]
        },
        {
         "boxpoints": "suspectedoutliers",
         "line": {
          "color": "rgb(107,174,214)"
         },
         "marker": {
          "color": "rgb(107,174,214)",
          "line": {
           "outliercolor": "rgba(219, 64, 82, 0.6)",
           "outlierwidth": 2
          },
          "outliercolor": "rgba(219, 64, 82, 0.6)"
         },
         "name": 35,
         "showlegend": false,
         "type": "box",
         "x": 35,
         "y": [
          6,
          10,
          5,
          4,
          7,
          3,
          3,
          5,
          11,
          5,
          3
         ]
        },
        {
         "boxpoints": "suspectedoutliers",
         "line": {
          "color": "rgb(107,174,214)"
         },
         "marker": {
          "color": "rgb(107,174,214)",
          "line": {
           "outliercolor": "rgba(219, 64, 82, 0.6)",
           "outlierwidth": 2
          },
          "outliercolor": "rgba(219, 64, 82, 0.6)"
         },
         "name": 36,
         "showlegend": false,
         "type": "box",
         "x": 36,
         "y": [
          7,
          10,
          5,
          4,
          7,
          3,
          3,
          5,
          12,
          5,
          3
         ]
        },
        {
         "boxpoints": "suspectedoutliers",
         "line": {
          "color": "rgb(107,174,214)"
         },
         "marker": {
          "color": "rgb(107,174,214)",
          "line": {
           "outliercolor": "rgba(219, 64, 82, 0.6)",
           "outlierwidth": 2
          },
          "outliercolor": "rgba(219, 64, 82, 0.6)"
         },
         "name": 37,
         "showlegend": false,
         "type": "box",
         "x": 37,
         "y": [
          7,
          10,
          5,
          4,
          7,
          3,
          3,
          6,
          12,
          5,
          3
         ]
        },
        {
         "boxpoints": "suspectedoutliers",
         "line": {
          "color": "rgb(107,174,214)"
         },
         "marker": {
          "color": "rgb(107,174,214)",
          "line": {
           "outliercolor": "rgba(219, 64, 82, 0.6)",
           "outlierwidth": 2
          },
          "outliercolor": "rgba(219, 64, 82, 0.6)"
         },
         "name": 38,
         "showlegend": false,
         "type": "box",
         "x": 38,
         "y": [
          8,
          10,
          5,
          4,
          8,
          3,
          3,
          6,
          12,
          5,
          3
         ]
        },
        {
         "boxpoints": "suspectedoutliers",
         "line": {
          "color": "rgb(107,174,214)"
         },
         "marker": {
          "color": "rgb(107,174,214)",
          "line": {
           "outliercolor": "rgba(219, 64, 82, 0.6)",
           "outlierwidth": 2
          },
          "outliercolor": "rgba(219, 64, 82, 0.6)"
         },
         "name": 39,
         "showlegend": false,
         "type": "box",
         "x": 39,
         "y": [
          8,
          11,
          5,
          4,
          8,
          4,
          3,
          6,
          12,
          5,
          3
         ]
        },
        {
         "boxpoints": "suspectedoutliers",
         "line": {
          "color": "rgb(107,174,214)"
         },
         "marker": {
          "color": "rgb(107,174,214)",
          "line": {
           "outliercolor": "rgba(219, 64, 82, 0.6)",
           "outlierwidth": 2
          },
          "outliercolor": "rgba(219, 64, 82, 0.6)"
         },
         "name": 40,
         "showlegend": false,
         "type": "box",
         "x": 40,
         "y": [
          8,
          11,
          5,
          4,
          8,
          4,
          3,
          6,
          12,
          5,
          3
         ]
        },
        {
         "boxpoints": "suspectedoutliers",
         "line": {
          "color": "rgb(107,174,214)"
         },
         "marker": {
          "color": "rgb(107,174,214)",
          "line": {
           "outliercolor": "rgba(219, 64, 82, 0.6)",
           "outlierwidth": 2
          },
          "outliercolor": "rgba(219, 64, 82, 0.6)"
         },
         "name": 41,
         "showlegend": false,
         "type": "box",
         "x": 41,
         "y": [
          8,
          11,
          5,
          4,
          8,
          4,
          3,
          7,
          12,
          5,
          3
         ]
        },
        {
         "boxpoints": "suspectedoutliers",
         "line": {
          "color": "rgb(107,174,214)"
         },
         "marker": {
          "color": "rgb(107,174,214)",
          "line": {
           "outliercolor": "rgba(219, 64, 82, 0.6)",
           "outlierwidth": 2
          },
          "outliercolor": "rgba(219, 64, 82, 0.6)"
         },
         "name": 42,
         "showlegend": false,
         "type": "box",
         "x": 42,
         "y": [
          8,
          11,
          5,
          4,
          8,
          4,
          4,
          7,
          13,
          6,
          3
         ]
        },
        {
         "boxpoints": "suspectedoutliers",
         "line": {
          "color": "rgb(107,174,214)"
         },
         "marker": {
          "color": "rgb(107,174,214)",
          "line": {
           "outliercolor": "rgba(219, 64, 82, 0.6)",
           "outlierwidth": 2
          },
          "outliercolor": "rgba(219, 64, 82, 0.6)"
         },
         "name": 43,
         "showlegend": false,
         "type": "box",
         "x": 43,
         "y": [
          8,
          11,
          5,
          4,
          8,
          4,
          4,
          7,
          13,
          6,
          3
         ]
        },
        {
         "boxpoints": "suspectedoutliers",
         "line": {
          "color": "rgb(107,174,214)"
         },
         "marker": {
          "color": "rgb(107,174,214)",
          "line": {
           "outliercolor": "rgba(219, 64, 82, 0.6)",
           "outlierwidth": 2
          },
          "outliercolor": "rgba(219, 64, 82, 0.6)"
         },
         "name": 44,
         "showlegend": false,
         "type": "box",
         "x": 44,
         "y": [
          8,
          11,
          5,
          4,
          8,
          4,
          4,
          8,
          13,
          6,
          3
         ]
        },
        {
         "boxpoints": "suspectedoutliers",
         "line": {
          "color": "rgb(107,174,214)"
         },
         "marker": {
          "color": "rgb(107,174,214)",
          "line": {
           "outliercolor": "rgba(219, 64, 82, 0.6)",
           "outlierwidth": 2
          },
          "outliercolor": "rgba(219, 64, 82, 0.6)"
         },
         "name": 45,
         "showlegend": false,
         "type": "box",
         "x": 45,
         "y": [
          8,
          11,
          5,
          4,
          8,
          4,
          4,
          9,
          13,
          6,
          4
         ]
        },
        {
         "boxpoints": "suspectedoutliers",
         "line": {
          "color": "rgb(107,174,214)"
         },
         "marker": {
          "color": "rgb(107,174,214)",
          "line": {
           "outliercolor": "rgba(219, 64, 82, 0.6)",
           "outlierwidth": 2
          },
          "outliercolor": "rgba(219, 64, 82, 0.6)"
         },
         "name": 46,
         "showlegend": false,
         "type": "box",
         "x": 46,
         "y": [
          8,
          11,
          5,
          4,
          8,
          4,
          4,
          9,
          13,
          6,
          4
         ]
        },
        {
         "boxpoints": "suspectedoutliers",
         "line": {
          "color": "rgb(107,174,214)"
         },
         "marker": {
          "color": "rgb(107,174,214)",
          "line": {
           "outliercolor": "rgba(219, 64, 82, 0.6)",
           "outlierwidth": 2
          },
          "outliercolor": "rgba(219, 64, 82, 0.6)"
         },
         "name": 47,
         "showlegend": false,
         "type": "box",
         "x": 47,
         "y": [
          10,
          11,
          5,
          4,
          8,
          4,
          4,
          9,
          14,
          7,
          4
         ]
        },
        {
         "mode": "lines",
         "name": "Mean",
         "showlegend": false,
         "type": "scatter",
         "x": [
          1,
          2,
          3,
          4,
          5,
          6,
          7,
          8,
          9,
          10,
          11,
          12,
          13,
          14,
          15,
          16,
          17,
          18,
          19,
          20,
          21,
          22,
          23,
          24,
          25,
          26,
          27,
          28,
          29,
          30,
          31,
          32,
          33,
          34,
          35,
          36,
          37,
          38,
          39,
          40,
          41,
          42,
          43,
          44,
          45,
          46,
          47
         ],
         "y": [
          0,
          0.6363636363636364,
          0.8181818181818182,
          1.2727272727272727,
          1.4545454545454546,
          1.6363636363636365,
          1.7272727272727273,
          1.9090909090909092,
          2,
          2.1818181818181817,
          2.272727272727273,
          2.5454545454545454,
          2.727272727272727,
          3,
          3.090909090909091,
          3.1818181818181817,
          3.3636363636363638,
          3.5454545454545454,
          3.5454545454545454,
          3.6363636363636362,
          3.8181818181818183,
          3.8181818181818183,
          3.909090909090909,
          4.090909090909091,
          4.2727272727272725,
          4.454545454545454,
          4.545454545454546,
          4.7272727272727275,
          5,
          5.2727272727272725,
          5.363636363636363,
          5.454545454545454,
          5.545454545454546,
          5.545454545454546,
          5.636363636363637,
          5.636363636363637,
          5.818181818181818,
          5.909090909090909,
          6.090909090909091,
          6.2727272727272725,
          6.2727272727272725,
          6.363636363636363,
          6.636363636363637,
          6.636363636363637,
          6.7272727272727275,
          6.909090909090909,
          6.909090909090909,
          7.2727272727272725
         ]
        }
       ],
       "layout": {}
      },
      "text/html": [
       "<div id=\"18363c4e-600c-486d-b000-5fec1cec579a\" style=\"height: 525px; width: 100%;\" class=\"plotly-graph-div\"></div><script type=\"text/javascript\">require([\"plotly\"], function(Plotly) { window.PLOTLYENV=window.PLOTLYENV || {};window.PLOTLYENV.BASE_URL=\"https://plot.ly\";Plotly.newPlot(\"18363c4e-600c-486d-b000-5fec1cec579a\", [{\"showlegend\": false, \"name\": 0, \"marker\": {\"color\": \"rgb(107,174,214)\", \"outliercolor\": \"rgba(219, 64, 82, 0.6)\", \"line\": {\"outlierwidth\": 2, \"outliercolor\": \"rgba(219, 64, 82, 0.6)\"}}, \"y\": [0, 0, 0, 0, 0, 0, 0, 0, 0, 0, 0], \"x\": 0, \"line\": {\"color\": \"rgb(107,174,214)\"}, \"type\": \"box\", \"boxpoints\": \"suspectedoutliers\"}, {\"showlegend\": false, \"name\": 1, \"marker\": {\"color\": \"rgb(107,174,214)\", \"outliercolor\": \"rgba(219, 64, 82, 0.6)\", \"line\": {\"outlierwidth\": 2, \"outliercolor\": \"rgba(219, 64, 82, 0.6)\"}}, \"y\": [1, 3, 0, 0, 0, 0, 2, 0, 0, 0, 1], \"x\": 1, \"line\": {\"color\": \"rgb(107,174,214)\"}, \"type\": \"box\", \"boxpoints\": \"suspectedoutliers\"}, {\"showlegend\": false, \"name\": 2, \"marker\": {\"color\": \"rgb(107,174,214)\", \"outliercolor\": \"rgba(219, 64, 82, 0.6)\", \"line\": {\"outlierwidth\": 2, \"outliercolor\": \"rgba(219, 64, 82, 0.6)\"}}, \"y\": [2, 3, 0, 1, 0, 0, 2, 0, 0, 0, 1], \"x\": 2, \"line\": {\"color\": \"rgb(107,174,214)\"}, \"type\": \"box\", \"boxpoints\": \"suspectedoutliers\"}, {\"showlegend\": false, \"name\": 3, \"marker\": {\"color\": \"rgb(107,174,214)\", \"outliercolor\": \"rgba(219, 64, 82, 0.6)\", \"line\": {\"outlierwidth\": 2, \"outliercolor\": \"rgba(219, 64, 82, 0.6)\"}}, \"y\": [2, 4, 1, 2, 1, 0, 2, 0, 0, 1, 1], \"x\": 3, \"line\": {\"color\": \"rgb(107,174,214)\"}, \"type\": \"box\", \"boxpoints\": \"suspectedoutliers\"}, {\"showlegend\": false, \"name\": 4, \"marker\": {\"color\": \"rgb(107,174,214)\", \"outliercolor\": \"rgba(219, 64, 82, 0.6)\", \"line\": {\"outlierwidth\": 2, \"outliercolor\": \"rgba(219, 64, 82, 0.6)\"}}, \"y\": [2, 4, 1, 2, 1, 1, 2, 1, 0, 1, 1], \"x\": 4, \"line\": {\"color\": \"rgb(107,174,214)\"}, \"type\": \"box\", \"boxpoints\": \"suspectedoutliers\"}, {\"showlegend\": false, \"name\": 5, \"marker\": {\"color\": \"rgb(107,174,214)\", \"outliercolor\": \"rgba(219, 64, 82, 0.6)\", \"line\": {\"outlierwidth\": 2, \"outliercolor\": \"rgba(219, 64, 82, 0.6)\"}}, \"y\": [2, 4, 1, 2, 2, 1, 2, 1, 1, 1, 1], \"x\": 5, \"line\": {\"color\": \"rgb(107,174,214)\"}, \"type\": \"box\", \"boxpoints\": \"suspectedoutliers\"}, {\"showlegend\": false, \"name\": 6, \"marker\": {\"color\": \"rgb(107,174,214)\", \"outliercolor\": \"rgba(219, 64, 82, 0.6)\", \"line\": {\"outlierwidth\": 2, \"outliercolor\": \"rgba(219, 64, 82, 0.6)\"}}, \"y\": [2, 5, 1, 2, 2, 1, 2, 1, 1, 1, 1], \"x\": 6, \"line\": {\"color\": \"rgb(107,174,214)\"}, \"type\": \"box\", \"boxpoints\": \"suspectedoutliers\"}, {\"showlegend\": false, \"name\": 7, \"marker\": {\"color\": \"rgb(107,174,214)\", \"outliercolor\": \"rgba(219, 64, 82, 0.6)\", \"line\": {\"outlierwidth\": 2, \"outliercolor\": \"rgba(219, 64, 82, 0.6)\"}}, \"y\": [2, 5, 2, 2, 3, 1, 2, 1, 1, 1, 1], \"x\": 7, \"line\": {\"color\": \"rgb(107,174,214)\"}, \"type\": \"box\", \"boxpoints\": \"suspectedoutliers\"}, {\"showlegend\": false, \"name\": 8, \"marker\": {\"color\": \"rgb(107,174,214)\", \"outliercolor\": \"rgba(219, 64, 82, 0.6)\", \"line\": {\"outlierwidth\": 2, \"outliercolor\": \"rgba(219, 64, 82, 0.6)\"}}, \"y\": [2, 5, 2, 2, 3, 1, 2, 1, 2, 1, 1], \"x\": 8, \"line\": {\"color\": \"rgb(107,174,214)\"}, \"type\": \"box\", \"boxpoints\": \"suspectedoutliers\"}, {\"showlegend\": false, \"name\": 9, \"marker\": {\"color\": \"rgb(107,174,214)\", \"outliercolor\": \"rgba(219, 64, 82, 0.6)\", \"line\": {\"outlierwidth\": 2, \"outliercolor\": \"rgba(219, 64, 82, 0.6)\"}}, \"y\": [2, 5, 2, 2, 4, 1, 2, 2, 2, 1, 1], \"x\": 9, \"line\": {\"color\": \"rgb(107,174,214)\"}, \"type\": \"box\", \"boxpoints\": \"suspectedoutliers\"}, {\"showlegend\": false, \"name\": 10, \"marker\": {\"color\": \"rgb(107,174,214)\", \"outliercolor\": \"rgba(219, 64, 82, 0.6)\", \"line\": {\"outlierwidth\": 2, \"outliercolor\": \"rgba(219, 64, 82, 0.6)\"}}, \"y\": [2, 5, 2, 2, 4, 1, 2, 2, 3, 1, 1], \"x\": 10, \"line\": {\"color\": \"rgb(107,174,214)\"}, \"type\": \"box\", \"boxpoints\": \"suspectedoutliers\"}, {\"showlegend\": false, \"name\": 11, \"marker\": {\"color\": \"rgb(107,174,214)\", \"outliercolor\": \"rgba(219, 64, 82, 0.6)\", \"line\": {\"outlierwidth\": 2, \"outliercolor\": \"rgba(219, 64, 82, 0.6)\"}}, \"y\": [2, 6, 2, 2, 5, 1, 2, 2, 3, 2, 1], \"x\": 11, \"line\": {\"color\": \"rgb(107,174,214)\"}, \"type\": \"box\", \"boxpoints\": \"suspectedoutliers\"}, {\"showlegend\": false, \"name\": 12, \"marker\": {\"color\": \"rgb(107,174,214)\", \"outliercolor\": \"rgba(219, 64, 82, 0.6)\", \"line\": {\"outlierwidth\": 2, \"outliercolor\": \"rgba(219, 64, 82, 0.6)\"}}, \"y\": [2, 7, 2, 2, 6, 1, 2, 2, 3, 2, 1], \"x\": 12, \"line\": {\"color\": \"rgb(107,174,214)\"}, \"type\": \"box\", \"boxpoints\": \"suspectedoutliers\"}, {\"showlegend\": false, \"name\": 13, \"marker\": {\"color\": \"rgb(107,174,214)\", \"outliercolor\": \"rgba(219, 64, 82, 0.6)\", \"line\": {\"outlierwidth\": 2, \"outliercolor\": \"rgba(219, 64, 82, 0.6)\"}}, \"y\": [2, 7, 2, 2, 7, 1, 2, 2, 5, 2, 1], \"x\": 13, \"line\": {\"color\": \"rgb(107,174,214)\"}, \"type\": \"box\", \"boxpoints\": \"suspectedoutliers\"}, {\"showlegend\": false, \"name\": 14, \"marker\": {\"color\": \"rgb(107,174,214)\", \"outliercolor\": \"rgba(219, 64, 82, 0.6)\", \"line\": {\"outlierwidth\": 2, \"outliercolor\": \"rgba(219, 64, 82, 0.6)\"}}, \"y\": [2, 8, 2, 2, 7, 1, 2, 2, 5, 2, 1], \"x\": 14, \"line\": {\"color\": \"rgb(107,174,214)\"}, \"type\": \"box\", \"boxpoints\": \"suspectedoutliers\"}, {\"showlegend\": false, \"name\": 15, \"marker\": {\"color\": \"rgb(107,174,214)\", \"outliercolor\": \"rgba(219, 64, 82, 0.6)\", \"line\": {\"outlierwidth\": 2, \"outliercolor\": \"rgba(219, 64, 82, 0.6)\"}}, \"y\": [2, 8, 2, 2, 7, 1, 3, 2, 5, 2, 1], \"x\": 15, \"line\": {\"color\": \"rgb(107,174,214)\"}, \"type\": \"box\", \"boxpoints\": \"suspectedoutliers\"}, {\"showlegend\": false, \"name\": 16, \"marker\": {\"color\": \"rgb(107,174,214)\", \"outliercolor\": \"rgba(219, 64, 82, 0.6)\", \"line\": {\"outlierwidth\": 2, \"outliercolor\": \"rgba(219, 64, 82, 0.6)\"}}, \"y\": [2, 8, 2, 2, 7, 1, 3, 3, 5, 2, 2], \"x\": 16, \"line\": {\"color\": \"rgb(107,174,214)\"}, \"type\": \"box\", \"boxpoints\": \"suspectedoutliers\"}, {\"showlegend\": false, \"name\": 17, \"marker\": {\"color\": \"rgb(107,174,214)\", \"outliercolor\": \"rgba(219, 64, 82, 0.6)\", \"line\": {\"outlierwidth\": 2, \"outliercolor\": \"rgba(219, 64, 82, 0.6)\"}}, \"y\": [2, 8, 2, 3, 7, 1, 3, 3, 6, 2, 2], \"x\": 17, \"line\": {\"color\": \"rgb(107,174,214)\"}, \"type\": \"box\", \"boxpoints\": \"suspectedoutliers\"}, {\"showlegend\": false, \"name\": 18, \"marker\": {\"color\": \"rgb(107,174,214)\", \"outliercolor\": \"rgba(219, 64, 82, 0.6)\", \"line\": {\"outlierwidth\": 2, \"outliercolor\": \"rgba(219, 64, 82, 0.6)\"}}, \"y\": [2, 8, 2, 3, 7, 1, 3, 3, 6, 2, 2], \"x\": 18, \"line\": {\"color\": \"rgb(107,174,214)\"}, \"type\": \"box\", \"boxpoints\": \"suspectedoutliers\"}, {\"showlegend\": false, \"name\": 19, \"marker\": {\"color\": \"rgb(107,174,214)\", \"outliercolor\": \"rgba(219, 64, 82, 0.6)\", \"line\": {\"outlierwidth\": 2, \"outliercolor\": \"rgba(219, 64, 82, 0.6)\"}}, \"y\": [2, 8, 2, 3, 7, 1, 3, 3, 6, 3, 2], \"x\": 19, \"line\": {\"color\": \"rgb(107,174,214)\"}, \"type\": \"box\", \"boxpoints\": \"suspectedoutliers\"}, {\"showlegend\": false, \"name\": 20, \"marker\": {\"color\": \"rgb(107,174,214)\", \"outliercolor\": \"rgba(219, 64, 82, 0.6)\", \"line\": {\"outlierwidth\": 2, \"outliercolor\": \"rgba(219, 64, 82, 0.6)\"}}, \"y\": [2, 8, 3, 3, 7, 1, 3, 3, 7, 3, 2], \"x\": 20, \"line\": {\"color\": \"rgb(107,174,214)\"}, \"type\": \"box\", \"boxpoints\": \"suspectedoutliers\"}, {\"showlegend\": false, \"name\": 21, \"marker\": {\"color\": \"rgb(107,174,214)\", \"outliercolor\": \"rgba(219, 64, 82, 0.6)\", \"line\": {\"outlierwidth\": 2, \"outliercolor\": \"rgba(219, 64, 82, 0.6)\"}}, \"y\": [2, 8, 3, 3, 7, 1, 3, 3, 7, 3, 2], \"x\": 21, \"line\": {\"color\": \"rgb(107,174,214)\"}, \"type\": \"box\", \"boxpoints\": \"suspectedoutliers\"}, {\"showlegend\": false, \"name\": 22, \"marker\": {\"color\": \"rgb(107,174,214)\", \"outliercolor\": \"rgba(219, 64, 82, 0.6)\", \"line\": {\"outlierwidth\": 2, \"outliercolor\": \"rgba(219, 64, 82, 0.6)\"}}, \"y\": [2, 8, 3, 3, 7, 1, 3, 4, 7, 3, 2], \"x\": 22, \"line\": {\"color\": \"rgb(107,174,214)\"}, \"type\": \"box\", \"boxpoints\": \"suspectedoutliers\"}, {\"showlegend\": false, \"name\": 23, \"marker\": {\"color\": \"rgb(107,174,214)\", \"outliercolor\": \"rgba(219, 64, 82, 0.6)\", \"line\": {\"outlierwidth\": 2, \"outliercolor\": \"rgba(219, 64, 82, 0.6)\"}}, \"y\": [2, 8, 4, 3, 7, 1, 3, 5, 7, 3, 2], \"x\": 23, \"line\": {\"color\": \"rgb(107,174,214)\"}, \"type\": \"box\", \"boxpoints\": \"suspectedoutliers\"}, {\"showlegend\": false, \"name\": 24, \"marker\": {\"color\": \"rgb(107,174,214)\", \"outliercolor\": \"rgba(219, 64, 82, 0.6)\", \"line\": {\"outlierwidth\": 2, \"outliercolor\": \"rgba(219, 64, 82, 0.6)\"}}, \"y\": [3, 8, 4, 3, 7, 1, 3, 5, 8, 3, 2], \"x\": 24, \"line\": {\"color\": \"rgb(107,174,214)\"}, \"type\": \"box\", \"boxpoints\": \"suspectedoutliers\"}, {\"showlegend\": false, \"name\": 25, \"marker\": {\"color\": \"rgb(107,174,214)\", \"outliercolor\": \"rgba(219, 64, 82, 0.6)\", \"line\": {\"outlierwidth\": 2, \"outliercolor\": \"rgba(219, 64, 82, 0.6)\"}}, \"y\": [3, 9, 4, 3, 7, 1, 3, 5, 8, 3, 3], \"x\": 25, \"line\": {\"color\": \"rgb(107,174,214)\"}, \"type\": \"box\", \"boxpoints\": \"suspectedoutliers\"}, {\"showlegend\": false, \"name\": 26, \"marker\": {\"color\": \"rgb(107,174,214)\", \"outliercolor\": \"rgba(219, 64, 82, 0.6)\", \"line\": {\"outlierwidth\": 2, \"outliercolor\": \"rgba(219, 64, 82, 0.6)\"}}, \"y\": [3, 10, 4, 3, 7, 1, 3, 5, 8, 3, 3], \"x\": 26, \"line\": {\"color\": \"rgb(107,174,214)\"}, \"type\": \"box\", \"boxpoints\": \"suspectedoutliers\"}, {\"showlegend\": false, \"name\": 27, \"marker\": {\"color\": \"rgb(107,174,214)\", \"outliercolor\": \"rgba(219, 64, 82, 0.6)\", \"line\": {\"outlierwidth\": 2, \"outliercolor\": \"rgba(219, 64, 82, 0.6)\"}}, \"y\": [3, 10, 5, 3, 7, 2, 3, 5, 8, 3, 3], \"x\": 27, \"line\": {\"color\": \"rgb(107,174,214)\"}, \"type\": \"box\", \"boxpoints\": \"suspectedoutliers\"}, {\"showlegend\": false, \"name\": 28, \"marker\": {\"color\": \"rgb(107,174,214)\", \"outliercolor\": \"rgba(219, 64, 82, 0.6)\", \"line\": {\"outlierwidth\": 2, \"outliercolor\": \"rgba(219, 64, 82, 0.6)\"}}, \"y\": [4, 10, 5, 3, 7, 2, 3, 5, 9, 4, 3], \"x\": 28, \"line\": {\"color\": \"rgb(107,174,214)\"}, \"type\": \"box\", \"boxpoints\": \"suspectedoutliers\"}, {\"showlegend\": false, \"name\": 29, \"marker\": {\"color\": \"rgb(107,174,214)\", \"outliercolor\": \"rgba(219, 64, 82, 0.6)\", \"line\": {\"outlierwidth\": 2, \"outliercolor\": \"rgba(219, 64, 82, 0.6)\"}}, \"y\": [4, 10, 5, 3, 7, 3, 3, 5, 10, 5, 3], \"x\": 29, \"line\": {\"color\": \"rgb(107,174,214)\"}, \"type\": \"box\", \"boxpoints\": \"suspectedoutliers\"}, {\"showlegend\": false, \"name\": 30, \"marker\": {\"color\": \"rgb(107,174,214)\", \"outliercolor\": \"rgba(219, 64, 82, 0.6)\", \"line\": {\"outlierwidth\": 2, \"outliercolor\": \"rgba(219, 64, 82, 0.6)\"}}, \"y\": [5, 10, 5, 3, 7, 3, 3, 5, 10, 5, 3], \"x\": 30, \"line\": {\"color\": \"rgb(107,174,214)\"}, \"type\": \"box\", \"boxpoints\": \"suspectedoutliers\"}, {\"showlegend\": false, \"name\": 31, \"marker\": {\"color\": \"rgb(107,174,214)\", \"outliercolor\": \"rgba(219, 64, 82, 0.6)\", \"line\": {\"outlierwidth\": 2, \"outliercolor\": \"rgba(219, 64, 82, 0.6)\"}}, \"y\": [6, 10, 5, 3, 7, 3, 3, 5, 10, 5, 3], \"x\": 31, \"line\": {\"color\": \"rgb(107,174,214)\"}, \"type\": \"box\", \"boxpoints\": \"suspectedoutliers\"}, {\"showlegend\": false, \"name\": 32, \"marker\": {\"color\": \"rgb(107,174,214)\", \"outliercolor\": \"rgba(219, 64, 82, 0.6)\", \"line\": {\"outlierwidth\": 2, \"outliercolor\": \"rgba(219, 64, 82, 0.6)\"}}, \"y\": [6, 10, 5, 3, 7, 3, 3, 5, 11, 5, 3], \"x\": 32, \"line\": {\"color\": \"rgb(107,174,214)\"}, \"type\": \"box\", \"boxpoints\": \"suspectedoutliers\"}, {\"showlegend\": false, \"name\": 33, \"marker\": {\"color\": \"rgb(107,174,214)\", \"outliercolor\": \"rgba(219, 64, 82, 0.6)\", \"line\": {\"outlierwidth\": 2, \"outliercolor\": \"rgba(219, 64, 82, 0.6)\"}}, \"y\": [6, 10, 5, 3, 7, 3, 3, 5, 11, 5, 3], \"x\": 33, \"line\": {\"color\": \"rgb(107,174,214)\"}, \"type\": \"box\", \"boxpoints\": \"suspectedoutliers\"}, {\"showlegend\": false, \"name\": 34, \"marker\": {\"color\": \"rgb(107,174,214)\", \"outliercolor\": \"rgba(219, 64, 82, 0.6)\", \"line\": {\"outlierwidth\": 2, \"outliercolor\": \"rgba(219, 64, 82, 0.6)\"}}, \"y\": [6, 10, 5, 4, 7, 3, 3, 5, 11, 5, 3], \"x\": 34, \"line\": {\"color\": \"rgb(107,174,214)\"}, \"type\": \"box\", \"boxpoints\": \"suspectedoutliers\"}, {\"showlegend\": false, \"name\": 35, \"marker\": {\"color\": \"rgb(107,174,214)\", \"outliercolor\": \"rgba(219, 64, 82, 0.6)\", \"line\": {\"outlierwidth\": 2, \"outliercolor\": \"rgba(219, 64, 82, 0.6)\"}}, \"y\": [6, 10, 5, 4, 7, 3, 3, 5, 11, 5, 3], \"x\": 35, \"line\": {\"color\": \"rgb(107,174,214)\"}, \"type\": \"box\", \"boxpoints\": \"suspectedoutliers\"}, {\"showlegend\": false, \"name\": 36, \"marker\": {\"color\": \"rgb(107,174,214)\", \"outliercolor\": \"rgba(219, 64, 82, 0.6)\", \"line\": {\"outlierwidth\": 2, \"outliercolor\": \"rgba(219, 64, 82, 0.6)\"}}, \"y\": [7, 10, 5, 4, 7, 3, 3, 5, 12, 5, 3], \"x\": 36, \"line\": {\"color\": \"rgb(107,174,214)\"}, \"type\": \"box\", \"boxpoints\": \"suspectedoutliers\"}, {\"showlegend\": false, \"name\": 37, \"marker\": {\"color\": \"rgb(107,174,214)\", \"outliercolor\": \"rgba(219, 64, 82, 0.6)\", \"line\": {\"outlierwidth\": 2, \"outliercolor\": \"rgba(219, 64, 82, 0.6)\"}}, \"y\": [7, 10, 5, 4, 7, 3, 3, 6, 12, 5, 3], \"x\": 37, \"line\": {\"color\": \"rgb(107,174,214)\"}, \"type\": \"box\", \"boxpoints\": \"suspectedoutliers\"}, {\"showlegend\": false, \"name\": 38, \"marker\": {\"color\": \"rgb(107,174,214)\", \"outliercolor\": \"rgba(219, 64, 82, 0.6)\", \"line\": {\"outlierwidth\": 2, \"outliercolor\": \"rgba(219, 64, 82, 0.6)\"}}, \"y\": [8, 10, 5, 4, 8, 3, 3, 6, 12, 5, 3], \"x\": 38, \"line\": {\"color\": \"rgb(107,174,214)\"}, \"type\": \"box\", \"boxpoints\": \"suspectedoutliers\"}, {\"showlegend\": false, \"name\": 39, \"marker\": {\"color\": \"rgb(107,174,214)\", \"outliercolor\": \"rgba(219, 64, 82, 0.6)\", \"line\": {\"outlierwidth\": 2, \"outliercolor\": \"rgba(219, 64, 82, 0.6)\"}}, \"y\": [8, 11, 5, 4, 8, 4, 3, 6, 12, 5, 3], \"x\": 39, \"line\": {\"color\": \"rgb(107,174,214)\"}, \"type\": \"box\", \"boxpoints\": \"suspectedoutliers\"}, {\"showlegend\": false, \"name\": 40, \"marker\": {\"color\": \"rgb(107,174,214)\", \"outliercolor\": \"rgba(219, 64, 82, 0.6)\", \"line\": {\"outlierwidth\": 2, \"outliercolor\": \"rgba(219, 64, 82, 0.6)\"}}, \"y\": [8, 11, 5, 4, 8, 4, 3, 6, 12, 5, 3], \"x\": 40, \"line\": {\"color\": \"rgb(107,174,214)\"}, \"type\": \"box\", \"boxpoints\": \"suspectedoutliers\"}, {\"showlegend\": false, \"name\": 41, \"marker\": {\"color\": \"rgb(107,174,214)\", \"outliercolor\": \"rgba(219, 64, 82, 0.6)\", \"line\": {\"outlierwidth\": 2, \"outliercolor\": \"rgba(219, 64, 82, 0.6)\"}}, \"y\": [8, 11, 5, 4, 8, 4, 3, 7, 12, 5, 3], \"x\": 41, \"line\": {\"color\": \"rgb(107,174,214)\"}, \"type\": \"box\", \"boxpoints\": \"suspectedoutliers\"}, {\"showlegend\": false, \"name\": 42, \"marker\": {\"color\": \"rgb(107,174,214)\", \"outliercolor\": \"rgba(219, 64, 82, 0.6)\", \"line\": {\"outlierwidth\": 2, \"outliercolor\": \"rgba(219, 64, 82, 0.6)\"}}, \"y\": [8, 11, 5, 4, 8, 4, 4, 7, 13, 6, 3], \"x\": 42, \"line\": {\"color\": \"rgb(107,174,214)\"}, \"type\": \"box\", \"boxpoints\": \"suspectedoutliers\"}, {\"showlegend\": false, \"name\": 43, \"marker\": {\"color\": \"rgb(107,174,214)\", \"outliercolor\": \"rgba(219, 64, 82, 0.6)\", \"line\": {\"outlierwidth\": 2, \"outliercolor\": \"rgba(219, 64, 82, 0.6)\"}}, \"y\": [8, 11, 5, 4, 8, 4, 4, 7, 13, 6, 3], \"x\": 43, \"line\": {\"color\": \"rgb(107,174,214)\"}, \"type\": \"box\", \"boxpoints\": \"suspectedoutliers\"}, {\"showlegend\": false, \"name\": 44, \"marker\": {\"color\": \"rgb(107,174,214)\", \"outliercolor\": \"rgba(219, 64, 82, 0.6)\", \"line\": {\"outlierwidth\": 2, \"outliercolor\": \"rgba(219, 64, 82, 0.6)\"}}, \"y\": [8, 11, 5, 4, 8, 4, 4, 8, 13, 6, 3], \"x\": 44, \"line\": {\"color\": \"rgb(107,174,214)\"}, \"type\": \"box\", \"boxpoints\": \"suspectedoutliers\"}, {\"showlegend\": false, \"name\": 45, \"marker\": {\"color\": \"rgb(107,174,214)\", \"outliercolor\": \"rgba(219, 64, 82, 0.6)\", \"line\": {\"outlierwidth\": 2, \"outliercolor\": \"rgba(219, 64, 82, 0.6)\"}}, \"y\": [8, 11, 5, 4, 8, 4, 4, 9, 13, 6, 4], \"x\": 45, \"line\": {\"color\": \"rgb(107,174,214)\"}, \"type\": \"box\", \"boxpoints\": \"suspectedoutliers\"}, {\"showlegend\": false, \"name\": 46, \"marker\": {\"color\": \"rgb(107,174,214)\", \"outliercolor\": \"rgba(219, 64, 82, 0.6)\", \"line\": {\"outlierwidth\": 2, \"outliercolor\": \"rgba(219, 64, 82, 0.6)\"}}, \"y\": [8, 11, 5, 4, 8, 4, 4, 9, 13, 6, 4], \"x\": 46, \"line\": {\"color\": \"rgb(107,174,214)\"}, \"type\": \"box\", \"boxpoints\": \"suspectedoutliers\"}, {\"showlegend\": false, \"name\": 47, \"marker\": {\"color\": \"rgb(107,174,214)\", \"outliercolor\": \"rgba(219, 64, 82, 0.6)\", \"line\": {\"outlierwidth\": 2, \"outliercolor\": \"rgba(219, 64, 82, 0.6)\"}}, \"y\": [10, 11, 5, 4, 8, 4, 4, 9, 14, 7, 4], \"x\": 47, \"line\": {\"color\": \"rgb(107,174,214)\"}, \"type\": \"box\", \"boxpoints\": \"suspectedoutliers\"}, {\"showlegend\": false, \"name\": \"Mean\", \"mode\": \"lines\", \"y\": [0.0, 0.6363636363636364, 0.8181818181818182, 1.2727272727272727, 1.4545454545454546, 1.6363636363636365, 1.7272727272727273, 1.9090909090909092, 2.0, 2.1818181818181817, 2.272727272727273, 2.5454545454545454, 2.727272727272727, 3.0, 3.090909090909091, 3.1818181818181817, 3.3636363636363638, 3.5454545454545454, 3.5454545454545454, 3.6363636363636362, 3.8181818181818183, 3.8181818181818183, 3.909090909090909, 4.090909090909091, 4.2727272727272725, 4.454545454545454, 4.545454545454546, 4.7272727272727275, 5.0, 5.2727272727272725, 5.363636363636363, 5.454545454545454, 5.545454545454546, 5.545454545454546, 5.636363636363637, 5.636363636363637, 5.818181818181818, 5.909090909090909, 6.090909090909091, 6.2727272727272725, 6.2727272727272725, 6.363636363636363, 6.636363636363637, 6.636363636363637, 6.7272727272727275, 6.909090909090909, 6.909090909090909, 7.2727272727272725], \"x\": [1, 2, 3, 4, 5, 6, 7, 8, 9, 10, 11, 12, 13, 14, 15, 16, 17, 18, 19, 20, 21, 22, 23, 24, 25, 26, 27, 28, 29, 30, 31, 32, 33, 34, 35, 36, 37, 38, 39, 40, 41, 42, 43, 44, 45, 46, 47], \"type\": \"scatter\"}], {}, {\"linkText\": \"Export to plot.ly\", \"showLink\": true})});</script>"
      ],
      "text/vnd.plotly.v1+html": [
       "<div id=\"18363c4e-600c-486d-b000-5fec1cec579a\" style=\"height: 525px; width: 100%;\" class=\"plotly-graph-div\"></div><script type=\"text/javascript\">require([\"plotly\"], function(Plotly) { window.PLOTLYENV=window.PLOTLYENV || {};window.PLOTLYENV.BASE_URL=\"https://plot.ly\";Plotly.newPlot(\"18363c4e-600c-486d-b000-5fec1cec579a\", [{\"showlegend\": false, \"name\": 0, \"marker\": {\"color\": \"rgb(107,174,214)\", \"outliercolor\": \"rgba(219, 64, 82, 0.6)\", \"line\": {\"outlierwidth\": 2, \"outliercolor\": \"rgba(219, 64, 82, 0.6)\"}}, \"y\": [0, 0, 0, 0, 0, 0, 0, 0, 0, 0, 0], \"x\": 0, \"line\": {\"color\": \"rgb(107,174,214)\"}, \"type\": \"box\", \"boxpoints\": \"suspectedoutliers\"}, {\"showlegend\": false, \"name\": 1, \"marker\": {\"color\": \"rgb(107,174,214)\", \"outliercolor\": \"rgba(219, 64, 82, 0.6)\", \"line\": {\"outlierwidth\": 2, \"outliercolor\": \"rgba(219, 64, 82, 0.6)\"}}, \"y\": [1, 3, 0, 0, 0, 0, 2, 0, 0, 0, 1], \"x\": 1, \"line\": {\"color\": \"rgb(107,174,214)\"}, \"type\": \"box\", \"boxpoints\": \"suspectedoutliers\"}, {\"showlegend\": false, \"name\": 2, \"marker\": {\"color\": \"rgb(107,174,214)\", \"outliercolor\": \"rgba(219, 64, 82, 0.6)\", \"line\": {\"outlierwidth\": 2, \"outliercolor\": \"rgba(219, 64, 82, 0.6)\"}}, \"y\": [2, 3, 0, 1, 0, 0, 2, 0, 0, 0, 1], \"x\": 2, \"line\": {\"color\": \"rgb(107,174,214)\"}, \"type\": \"box\", \"boxpoints\": \"suspectedoutliers\"}, {\"showlegend\": false, \"name\": 3, \"marker\": {\"color\": \"rgb(107,174,214)\", \"outliercolor\": \"rgba(219, 64, 82, 0.6)\", \"line\": {\"outlierwidth\": 2, \"outliercolor\": \"rgba(219, 64, 82, 0.6)\"}}, \"y\": [2, 4, 1, 2, 1, 0, 2, 0, 0, 1, 1], \"x\": 3, \"line\": {\"color\": \"rgb(107,174,214)\"}, \"type\": \"box\", \"boxpoints\": \"suspectedoutliers\"}, {\"showlegend\": false, \"name\": 4, \"marker\": {\"color\": \"rgb(107,174,214)\", \"outliercolor\": \"rgba(219, 64, 82, 0.6)\", \"line\": {\"outlierwidth\": 2, \"outliercolor\": \"rgba(219, 64, 82, 0.6)\"}}, \"y\": [2, 4, 1, 2, 1, 1, 2, 1, 0, 1, 1], \"x\": 4, \"line\": {\"color\": \"rgb(107,174,214)\"}, \"type\": \"box\", \"boxpoints\": \"suspectedoutliers\"}, {\"showlegend\": false, \"name\": 5, \"marker\": {\"color\": \"rgb(107,174,214)\", \"outliercolor\": \"rgba(219, 64, 82, 0.6)\", \"line\": {\"outlierwidth\": 2, \"outliercolor\": \"rgba(219, 64, 82, 0.6)\"}}, \"y\": [2, 4, 1, 2, 2, 1, 2, 1, 1, 1, 1], \"x\": 5, \"line\": {\"color\": \"rgb(107,174,214)\"}, \"type\": \"box\", \"boxpoints\": \"suspectedoutliers\"}, {\"showlegend\": false, \"name\": 6, \"marker\": {\"color\": \"rgb(107,174,214)\", \"outliercolor\": \"rgba(219, 64, 82, 0.6)\", \"line\": {\"outlierwidth\": 2, \"outliercolor\": \"rgba(219, 64, 82, 0.6)\"}}, \"y\": [2, 5, 1, 2, 2, 1, 2, 1, 1, 1, 1], \"x\": 6, \"line\": {\"color\": \"rgb(107,174,214)\"}, \"type\": \"box\", \"boxpoints\": \"suspectedoutliers\"}, {\"showlegend\": false, \"name\": 7, \"marker\": {\"color\": \"rgb(107,174,214)\", \"outliercolor\": \"rgba(219, 64, 82, 0.6)\", \"line\": {\"outlierwidth\": 2, \"outliercolor\": \"rgba(219, 64, 82, 0.6)\"}}, \"y\": [2, 5, 2, 2, 3, 1, 2, 1, 1, 1, 1], \"x\": 7, \"line\": {\"color\": \"rgb(107,174,214)\"}, \"type\": \"box\", \"boxpoints\": \"suspectedoutliers\"}, {\"showlegend\": false, \"name\": 8, \"marker\": {\"color\": \"rgb(107,174,214)\", \"outliercolor\": \"rgba(219, 64, 82, 0.6)\", \"line\": {\"outlierwidth\": 2, \"outliercolor\": \"rgba(219, 64, 82, 0.6)\"}}, \"y\": [2, 5, 2, 2, 3, 1, 2, 1, 2, 1, 1], \"x\": 8, \"line\": {\"color\": \"rgb(107,174,214)\"}, \"type\": \"box\", \"boxpoints\": \"suspectedoutliers\"}, {\"showlegend\": false, \"name\": 9, \"marker\": {\"color\": \"rgb(107,174,214)\", \"outliercolor\": \"rgba(219, 64, 82, 0.6)\", \"line\": {\"outlierwidth\": 2, \"outliercolor\": \"rgba(219, 64, 82, 0.6)\"}}, \"y\": [2, 5, 2, 2, 4, 1, 2, 2, 2, 1, 1], \"x\": 9, \"line\": {\"color\": \"rgb(107,174,214)\"}, \"type\": \"box\", \"boxpoints\": \"suspectedoutliers\"}, {\"showlegend\": false, \"name\": 10, \"marker\": {\"color\": \"rgb(107,174,214)\", \"outliercolor\": \"rgba(219, 64, 82, 0.6)\", \"line\": {\"outlierwidth\": 2, \"outliercolor\": \"rgba(219, 64, 82, 0.6)\"}}, \"y\": [2, 5, 2, 2, 4, 1, 2, 2, 3, 1, 1], \"x\": 10, \"line\": {\"color\": \"rgb(107,174,214)\"}, \"type\": \"box\", \"boxpoints\": \"suspectedoutliers\"}, {\"showlegend\": false, \"name\": 11, \"marker\": {\"color\": \"rgb(107,174,214)\", \"outliercolor\": \"rgba(219, 64, 82, 0.6)\", \"line\": {\"outlierwidth\": 2, \"outliercolor\": \"rgba(219, 64, 82, 0.6)\"}}, \"y\": [2, 6, 2, 2, 5, 1, 2, 2, 3, 2, 1], \"x\": 11, \"line\": {\"color\": \"rgb(107,174,214)\"}, \"type\": \"box\", \"boxpoints\": \"suspectedoutliers\"}, {\"showlegend\": false, \"name\": 12, \"marker\": {\"color\": \"rgb(107,174,214)\", \"outliercolor\": \"rgba(219, 64, 82, 0.6)\", \"line\": {\"outlierwidth\": 2, \"outliercolor\": \"rgba(219, 64, 82, 0.6)\"}}, \"y\": [2, 7, 2, 2, 6, 1, 2, 2, 3, 2, 1], \"x\": 12, \"line\": {\"color\": \"rgb(107,174,214)\"}, \"type\": \"box\", \"boxpoints\": \"suspectedoutliers\"}, {\"showlegend\": false, \"name\": 13, \"marker\": {\"color\": \"rgb(107,174,214)\", \"outliercolor\": \"rgba(219, 64, 82, 0.6)\", \"line\": {\"outlierwidth\": 2, \"outliercolor\": \"rgba(219, 64, 82, 0.6)\"}}, \"y\": [2, 7, 2, 2, 7, 1, 2, 2, 5, 2, 1], \"x\": 13, \"line\": {\"color\": \"rgb(107,174,214)\"}, \"type\": \"box\", \"boxpoints\": \"suspectedoutliers\"}, {\"showlegend\": false, \"name\": 14, \"marker\": {\"color\": \"rgb(107,174,214)\", \"outliercolor\": \"rgba(219, 64, 82, 0.6)\", \"line\": {\"outlierwidth\": 2, \"outliercolor\": \"rgba(219, 64, 82, 0.6)\"}}, \"y\": [2, 8, 2, 2, 7, 1, 2, 2, 5, 2, 1], \"x\": 14, \"line\": {\"color\": \"rgb(107,174,214)\"}, \"type\": \"box\", \"boxpoints\": \"suspectedoutliers\"}, {\"showlegend\": false, \"name\": 15, \"marker\": {\"color\": \"rgb(107,174,214)\", \"outliercolor\": \"rgba(219, 64, 82, 0.6)\", \"line\": {\"outlierwidth\": 2, \"outliercolor\": \"rgba(219, 64, 82, 0.6)\"}}, \"y\": [2, 8, 2, 2, 7, 1, 3, 2, 5, 2, 1], \"x\": 15, \"line\": {\"color\": \"rgb(107,174,214)\"}, \"type\": \"box\", \"boxpoints\": \"suspectedoutliers\"}, {\"showlegend\": false, \"name\": 16, \"marker\": {\"color\": \"rgb(107,174,214)\", \"outliercolor\": \"rgba(219, 64, 82, 0.6)\", \"line\": {\"outlierwidth\": 2, \"outliercolor\": \"rgba(219, 64, 82, 0.6)\"}}, \"y\": [2, 8, 2, 2, 7, 1, 3, 3, 5, 2, 2], \"x\": 16, \"line\": {\"color\": \"rgb(107,174,214)\"}, \"type\": \"box\", \"boxpoints\": \"suspectedoutliers\"}, {\"showlegend\": false, \"name\": 17, \"marker\": {\"color\": \"rgb(107,174,214)\", \"outliercolor\": \"rgba(219, 64, 82, 0.6)\", \"line\": {\"outlierwidth\": 2, \"outliercolor\": \"rgba(219, 64, 82, 0.6)\"}}, \"y\": [2, 8, 2, 3, 7, 1, 3, 3, 6, 2, 2], \"x\": 17, \"line\": {\"color\": \"rgb(107,174,214)\"}, \"type\": \"box\", \"boxpoints\": \"suspectedoutliers\"}, {\"showlegend\": false, \"name\": 18, \"marker\": {\"color\": \"rgb(107,174,214)\", \"outliercolor\": \"rgba(219, 64, 82, 0.6)\", \"line\": {\"outlierwidth\": 2, \"outliercolor\": \"rgba(219, 64, 82, 0.6)\"}}, \"y\": [2, 8, 2, 3, 7, 1, 3, 3, 6, 2, 2], \"x\": 18, \"line\": {\"color\": \"rgb(107,174,214)\"}, \"type\": \"box\", \"boxpoints\": \"suspectedoutliers\"}, {\"showlegend\": false, \"name\": 19, \"marker\": {\"color\": \"rgb(107,174,214)\", \"outliercolor\": \"rgba(219, 64, 82, 0.6)\", \"line\": {\"outlierwidth\": 2, \"outliercolor\": \"rgba(219, 64, 82, 0.6)\"}}, \"y\": [2, 8, 2, 3, 7, 1, 3, 3, 6, 3, 2], \"x\": 19, \"line\": {\"color\": \"rgb(107,174,214)\"}, \"type\": \"box\", \"boxpoints\": \"suspectedoutliers\"}, {\"showlegend\": false, \"name\": 20, \"marker\": {\"color\": \"rgb(107,174,214)\", \"outliercolor\": \"rgba(219, 64, 82, 0.6)\", \"line\": {\"outlierwidth\": 2, \"outliercolor\": \"rgba(219, 64, 82, 0.6)\"}}, \"y\": [2, 8, 3, 3, 7, 1, 3, 3, 7, 3, 2], \"x\": 20, \"line\": {\"color\": \"rgb(107,174,214)\"}, \"type\": \"box\", \"boxpoints\": \"suspectedoutliers\"}, {\"showlegend\": false, \"name\": 21, \"marker\": {\"color\": \"rgb(107,174,214)\", \"outliercolor\": \"rgba(219, 64, 82, 0.6)\", \"line\": {\"outlierwidth\": 2, \"outliercolor\": \"rgba(219, 64, 82, 0.6)\"}}, \"y\": [2, 8, 3, 3, 7, 1, 3, 3, 7, 3, 2], \"x\": 21, \"line\": {\"color\": \"rgb(107,174,214)\"}, \"type\": \"box\", \"boxpoints\": \"suspectedoutliers\"}, {\"showlegend\": false, \"name\": 22, \"marker\": {\"color\": \"rgb(107,174,214)\", \"outliercolor\": \"rgba(219, 64, 82, 0.6)\", \"line\": {\"outlierwidth\": 2, \"outliercolor\": \"rgba(219, 64, 82, 0.6)\"}}, \"y\": [2, 8, 3, 3, 7, 1, 3, 4, 7, 3, 2], \"x\": 22, \"line\": {\"color\": \"rgb(107,174,214)\"}, \"type\": \"box\", \"boxpoints\": \"suspectedoutliers\"}, {\"showlegend\": false, \"name\": 23, \"marker\": {\"color\": \"rgb(107,174,214)\", \"outliercolor\": \"rgba(219, 64, 82, 0.6)\", \"line\": {\"outlierwidth\": 2, \"outliercolor\": \"rgba(219, 64, 82, 0.6)\"}}, \"y\": [2, 8, 4, 3, 7, 1, 3, 5, 7, 3, 2], \"x\": 23, \"line\": {\"color\": \"rgb(107,174,214)\"}, \"type\": \"box\", \"boxpoints\": \"suspectedoutliers\"}, {\"showlegend\": false, \"name\": 24, \"marker\": {\"color\": \"rgb(107,174,214)\", \"outliercolor\": \"rgba(219, 64, 82, 0.6)\", \"line\": {\"outlierwidth\": 2, \"outliercolor\": \"rgba(219, 64, 82, 0.6)\"}}, \"y\": [3, 8, 4, 3, 7, 1, 3, 5, 8, 3, 2], \"x\": 24, \"line\": {\"color\": \"rgb(107,174,214)\"}, \"type\": \"box\", \"boxpoints\": \"suspectedoutliers\"}, {\"showlegend\": false, \"name\": 25, \"marker\": {\"color\": \"rgb(107,174,214)\", \"outliercolor\": \"rgba(219, 64, 82, 0.6)\", \"line\": {\"outlierwidth\": 2, \"outliercolor\": \"rgba(219, 64, 82, 0.6)\"}}, \"y\": [3, 9, 4, 3, 7, 1, 3, 5, 8, 3, 3], \"x\": 25, \"line\": {\"color\": \"rgb(107,174,214)\"}, \"type\": \"box\", \"boxpoints\": \"suspectedoutliers\"}, {\"showlegend\": false, \"name\": 26, \"marker\": {\"color\": \"rgb(107,174,214)\", \"outliercolor\": \"rgba(219, 64, 82, 0.6)\", \"line\": {\"outlierwidth\": 2, \"outliercolor\": \"rgba(219, 64, 82, 0.6)\"}}, \"y\": [3, 10, 4, 3, 7, 1, 3, 5, 8, 3, 3], \"x\": 26, \"line\": {\"color\": \"rgb(107,174,214)\"}, \"type\": \"box\", \"boxpoints\": \"suspectedoutliers\"}, {\"showlegend\": false, \"name\": 27, \"marker\": {\"color\": \"rgb(107,174,214)\", \"outliercolor\": \"rgba(219, 64, 82, 0.6)\", \"line\": {\"outlierwidth\": 2, \"outliercolor\": \"rgba(219, 64, 82, 0.6)\"}}, \"y\": [3, 10, 5, 3, 7, 2, 3, 5, 8, 3, 3], \"x\": 27, \"line\": {\"color\": \"rgb(107,174,214)\"}, \"type\": \"box\", \"boxpoints\": \"suspectedoutliers\"}, {\"showlegend\": false, \"name\": 28, \"marker\": {\"color\": \"rgb(107,174,214)\", \"outliercolor\": \"rgba(219, 64, 82, 0.6)\", \"line\": {\"outlierwidth\": 2, \"outliercolor\": \"rgba(219, 64, 82, 0.6)\"}}, \"y\": [4, 10, 5, 3, 7, 2, 3, 5, 9, 4, 3], \"x\": 28, \"line\": {\"color\": \"rgb(107,174,214)\"}, \"type\": \"box\", \"boxpoints\": \"suspectedoutliers\"}, {\"showlegend\": false, \"name\": 29, \"marker\": {\"color\": \"rgb(107,174,214)\", \"outliercolor\": \"rgba(219, 64, 82, 0.6)\", \"line\": {\"outlierwidth\": 2, \"outliercolor\": \"rgba(219, 64, 82, 0.6)\"}}, \"y\": [4, 10, 5, 3, 7, 3, 3, 5, 10, 5, 3], \"x\": 29, \"line\": {\"color\": \"rgb(107,174,214)\"}, \"type\": \"box\", \"boxpoints\": \"suspectedoutliers\"}, {\"showlegend\": false, \"name\": 30, \"marker\": {\"color\": \"rgb(107,174,214)\", \"outliercolor\": \"rgba(219, 64, 82, 0.6)\", \"line\": {\"outlierwidth\": 2, \"outliercolor\": \"rgba(219, 64, 82, 0.6)\"}}, \"y\": [5, 10, 5, 3, 7, 3, 3, 5, 10, 5, 3], \"x\": 30, \"line\": {\"color\": \"rgb(107,174,214)\"}, \"type\": \"box\", \"boxpoints\": \"suspectedoutliers\"}, {\"showlegend\": false, \"name\": 31, \"marker\": {\"color\": \"rgb(107,174,214)\", \"outliercolor\": \"rgba(219, 64, 82, 0.6)\", \"line\": {\"outlierwidth\": 2, \"outliercolor\": \"rgba(219, 64, 82, 0.6)\"}}, \"y\": [6, 10, 5, 3, 7, 3, 3, 5, 10, 5, 3], \"x\": 31, \"line\": {\"color\": \"rgb(107,174,214)\"}, \"type\": \"box\", \"boxpoints\": \"suspectedoutliers\"}, {\"showlegend\": false, \"name\": 32, \"marker\": {\"color\": \"rgb(107,174,214)\", \"outliercolor\": \"rgba(219, 64, 82, 0.6)\", \"line\": {\"outlierwidth\": 2, \"outliercolor\": \"rgba(219, 64, 82, 0.6)\"}}, \"y\": [6, 10, 5, 3, 7, 3, 3, 5, 11, 5, 3], \"x\": 32, \"line\": {\"color\": \"rgb(107,174,214)\"}, \"type\": \"box\", \"boxpoints\": \"suspectedoutliers\"}, {\"showlegend\": false, \"name\": 33, \"marker\": {\"color\": \"rgb(107,174,214)\", \"outliercolor\": \"rgba(219, 64, 82, 0.6)\", \"line\": {\"outlierwidth\": 2, \"outliercolor\": \"rgba(219, 64, 82, 0.6)\"}}, \"y\": [6, 10, 5, 3, 7, 3, 3, 5, 11, 5, 3], \"x\": 33, \"line\": {\"color\": \"rgb(107,174,214)\"}, \"type\": \"box\", \"boxpoints\": \"suspectedoutliers\"}, {\"showlegend\": false, \"name\": 34, \"marker\": {\"color\": \"rgb(107,174,214)\", \"outliercolor\": \"rgba(219, 64, 82, 0.6)\", \"line\": {\"outlierwidth\": 2, \"outliercolor\": \"rgba(219, 64, 82, 0.6)\"}}, \"y\": [6, 10, 5, 4, 7, 3, 3, 5, 11, 5, 3], \"x\": 34, \"line\": {\"color\": \"rgb(107,174,214)\"}, \"type\": \"box\", \"boxpoints\": \"suspectedoutliers\"}, {\"showlegend\": false, \"name\": 35, \"marker\": {\"color\": \"rgb(107,174,214)\", \"outliercolor\": \"rgba(219, 64, 82, 0.6)\", \"line\": {\"outlierwidth\": 2, \"outliercolor\": \"rgba(219, 64, 82, 0.6)\"}}, \"y\": [6, 10, 5, 4, 7, 3, 3, 5, 11, 5, 3], \"x\": 35, \"line\": {\"color\": \"rgb(107,174,214)\"}, \"type\": \"box\", \"boxpoints\": \"suspectedoutliers\"}, {\"showlegend\": false, \"name\": 36, \"marker\": {\"color\": \"rgb(107,174,214)\", \"outliercolor\": \"rgba(219, 64, 82, 0.6)\", \"line\": {\"outlierwidth\": 2, \"outliercolor\": \"rgba(219, 64, 82, 0.6)\"}}, \"y\": [7, 10, 5, 4, 7, 3, 3, 5, 12, 5, 3], \"x\": 36, \"line\": {\"color\": \"rgb(107,174,214)\"}, \"type\": \"box\", \"boxpoints\": \"suspectedoutliers\"}, {\"showlegend\": false, \"name\": 37, \"marker\": {\"color\": \"rgb(107,174,214)\", \"outliercolor\": \"rgba(219, 64, 82, 0.6)\", \"line\": {\"outlierwidth\": 2, \"outliercolor\": \"rgba(219, 64, 82, 0.6)\"}}, \"y\": [7, 10, 5, 4, 7, 3, 3, 6, 12, 5, 3], \"x\": 37, \"line\": {\"color\": \"rgb(107,174,214)\"}, \"type\": \"box\", \"boxpoints\": \"suspectedoutliers\"}, {\"showlegend\": false, \"name\": 38, \"marker\": {\"color\": \"rgb(107,174,214)\", \"outliercolor\": \"rgba(219, 64, 82, 0.6)\", \"line\": {\"outlierwidth\": 2, \"outliercolor\": \"rgba(219, 64, 82, 0.6)\"}}, \"y\": [8, 10, 5, 4, 8, 3, 3, 6, 12, 5, 3], \"x\": 38, \"line\": {\"color\": \"rgb(107,174,214)\"}, \"type\": \"box\", \"boxpoints\": \"suspectedoutliers\"}, {\"showlegend\": false, \"name\": 39, \"marker\": {\"color\": \"rgb(107,174,214)\", \"outliercolor\": \"rgba(219, 64, 82, 0.6)\", \"line\": {\"outlierwidth\": 2, \"outliercolor\": \"rgba(219, 64, 82, 0.6)\"}}, \"y\": [8, 11, 5, 4, 8, 4, 3, 6, 12, 5, 3], \"x\": 39, \"line\": {\"color\": \"rgb(107,174,214)\"}, \"type\": \"box\", \"boxpoints\": \"suspectedoutliers\"}, {\"showlegend\": false, \"name\": 40, \"marker\": {\"color\": \"rgb(107,174,214)\", \"outliercolor\": \"rgba(219, 64, 82, 0.6)\", \"line\": {\"outlierwidth\": 2, \"outliercolor\": \"rgba(219, 64, 82, 0.6)\"}}, \"y\": [8, 11, 5, 4, 8, 4, 3, 6, 12, 5, 3], \"x\": 40, \"line\": {\"color\": \"rgb(107,174,214)\"}, \"type\": \"box\", \"boxpoints\": \"suspectedoutliers\"}, {\"showlegend\": false, \"name\": 41, \"marker\": {\"color\": \"rgb(107,174,214)\", \"outliercolor\": \"rgba(219, 64, 82, 0.6)\", \"line\": {\"outlierwidth\": 2, \"outliercolor\": \"rgba(219, 64, 82, 0.6)\"}}, \"y\": [8, 11, 5, 4, 8, 4, 3, 7, 12, 5, 3], \"x\": 41, \"line\": {\"color\": \"rgb(107,174,214)\"}, \"type\": \"box\", \"boxpoints\": \"suspectedoutliers\"}, {\"showlegend\": false, \"name\": 42, \"marker\": {\"color\": \"rgb(107,174,214)\", \"outliercolor\": \"rgba(219, 64, 82, 0.6)\", \"line\": {\"outlierwidth\": 2, \"outliercolor\": \"rgba(219, 64, 82, 0.6)\"}}, \"y\": [8, 11, 5, 4, 8, 4, 4, 7, 13, 6, 3], \"x\": 42, \"line\": {\"color\": \"rgb(107,174,214)\"}, \"type\": \"box\", \"boxpoints\": \"suspectedoutliers\"}, {\"showlegend\": false, \"name\": 43, \"marker\": {\"color\": \"rgb(107,174,214)\", \"outliercolor\": \"rgba(219, 64, 82, 0.6)\", \"line\": {\"outlierwidth\": 2, \"outliercolor\": \"rgba(219, 64, 82, 0.6)\"}}, \"y\": [8, 11, 5, 4, 8, 4, 4, 7, 13, 6, 3], \"x\": 43, \"line\": {\"color\": \"rgb(107,174,214)\"}, \"type\": \"box\", \"boxpoints\": \"suspectedoutliers\"}, {\"showlegend\": false, \"name\": 44, \"marker\": {\"color\": \"rgb(107,174,214)\", \"outliercolor\": \"rgba(219, 64, 82, 0.6)\", \"line\": {\"outlierwidth\": 2, \"outliercolor\": \"rgba(219, 64, 82, 0.6)\"}}, \"y\": [8, 11, 5, 4, 8, 4, 4, 8, 13, 6, 3], \"x\": 44, \"line\": {\"color\": \"rgb(107,174,214)\"}, \"type\": \"box\", \"boxpoints\": \"suspectedoutliers\"}, {\"showlegend\": false, \"name\": 45, \"marker\": {\"color\": \"rgb(107,174,214)\", \"outliercolor\": \"rgba(219, 64, 82, 0.6)\", \"line\": {\"outlierwidth\": 2, \"outliercolor\": \"rgba(219, 64, 82, 0.6)\"}}, \"y\": [8, 11, 5, 4, 8, 4, 4, 9, 13, 6, 4], \"x\": 45, \"line\": {\"color\": \"rgb(107,174,214)\"}, \"type\": \"box\", \"boxpoints\": \"suspectedoutliers\"}, {\"showlegend\": false, \"name\": 46, \"marker\": {\"color\": \"rgb(107,174,214)\", \"outliercolor\": \"rgba(219, 64, 82, 0.6)\", \"line\": {\"outlierwidth\": 2, \"outliercolor\": \"rgba(219, 64, 82, 0.6)\"}}, \"y\": [8, 11, 5, 4, 8, 4, 4, 9, 13, 6, 4], \"x\": 46, \"line\": {\"color\": \"rgb(107,174,214)\"}, \"type\": \"box\", \"boxpoints\": \"suspectedoutliers\"}, {\"showlegend\": false, \"name\": 47, \"marker\": {\"color\": \"rgb(107,174,214)\", \"outliercolor\": \"rgba(219, 64, 82, 0.6)\", \"line\": {\"outlierwidth\": 2, \"outliercolor\": \"rgba(219, 64, 82, 0.6)\"}}, \"y\": [10, 11, 5, 4, 8, 4, 4, 9, 14, 7, 4], \"x\": 47, \"line\": {\"color\": \"rgb(107,174,214)\"}, \"type\": \"box\", \"boxpoints\": \"suspectedoutliers\"}, {\"showlegend\": false, \"name\": \"Mean\", \"mode\": \"lines\", \"y\": [0.0, 0.6363636363636364, 0.8181818181818182, 1.2727272727272727, 1.4545454545454546, 1.6363636363636365, 1.7272727272727273, 1.9090909090909092, 2.0, 2.1818181818181817, 2.272727272727273, 2.5454545454545454, 2.727272727272727, 3.0, 3.090909090909091, 3.1818181818181817, 3.3636363636363638, 3.5454545454545454, 3.5454545454545454, 3.6363636363636362, 3.8181818181818183, 3.8181818181818183, 3.909090909090909, 4.090909090909091, 4.2727272727272725, 4.454545454545454, 4.545454545454546, 4.7272727272727275, 5.0, 5.2727272727272725, 5.363636363636363, 5.454545454545454, 5.545454545454546, 5.545454545454546, 5.636363636363637, 5.636363636363637, 5.818181818181818, 5.909090909090909, 6.090909090909091, 6.2727272727272725, 6.2727272727272725, 6.363636363636363, 6.636363636363637, 6.636363636363637, 6.7272727272727275, 6.909090909090909, 6.909090909090909, 7.2727272727272725], \"x\": [1, 2, 3, 4, 5, 6, 7, 8, 9, 10, 11, 12, 13, 14, 15, 16, 17, 18, 19, 20, 21, 22, 23, 24, 25, 26, 27, 28, 29, 30, 31, 32, 33, 34, 35, 36, 37, 38, 39, 40, 41, 42, 43, 44, 45, 46, 47], \"type\": \"scatter\"}], {}, {\"linkText\": \"Export to plot.ly\", \"showLink\": true})});</script>"
      ]
     },
     "metadata": {},
     "output_type": "display_data"
    },
    {
     "data": {
      "application/vnd.plotly.v1+json": {
       "data": [
        {
         "boxpoints": "suspectedoutliers",
         "line": {
          "color": "rgb(107,174,214)"
         },
         "marker": {
          "color": "rgb(107,174,214)",
          "line": {
           "outliercolor": "rgba(219, 64, 82, 0.6)",
           "outlierwidth": 2
          },
          "outliercolor": "rgba(219, 64, 82, 0.6)"
         },
         "name": 0,
         "showlegend": false,
         "type": "box",
         "x": 0,
         "y": [
          0.33195020746887965,
          0.5,
          0.4624505928853755,
          0.44485294117647056,
          0.44015444015444016,
          0.3950617283950617,
          0.4349775784753363,
          0.39662447257383965,
          0.4195804195804196,
          0.44081632653061226,
          0.40969162995594716
         ]
        },
        {
         "boxpoints": "suspectedoutliers",
         "line": {
          "color": "rgb(107,174,214)"
         },
         "marker": {
          "color": "rgb(107,174,214)",
          "line": {
           "outliercolor": "rgba(219, 64, 82, 0.6)",
           "outlierwidth": 2
          },
          "outliercolor": "rgba(219, 64, 82, 0.6)"
         },
         "name": 1,
         "showlegend": false,
         "type": "box",
         "x": 1,
         "y": [
          0.3347107438016529,
          0.5085470085470085,
          0.466403162055336,
          0.4489051094890511,
          0.444015444015444,
          0.39344262295081966,
          0.4311111111111111,
          0.4008438818565401,
          0.42160278745644597,
          0.44715447154471544,
          0.40611353711790393
         ]
        },
        {
         "boxpoints": "suspectedoutliers",
         "line": {
          "color": "rgb(107,174,214)"
         },
         "marker": {
          "color": "rgb(107,174,214)",
          "line": {
           "outliercolor": "rgba(219, 64, 82, 0.6)",
           "outlierwidth": 2
          },
          "outliercolor": "rgba(219, 64, 82, 0.6)"
         },
         "name": 2,
         "showlegend": false,
         "type": "box",
         "x": 2,
         "y": [
          0.3333333333333333,
          0.5085470085470085,
          0.466403162055336,
          0.44727272727272727,
          0.44787644787644787,
          0.4008097165991903,
          0.43555555555555553,
          0.4092827004219409,
          0.4201388888888889,
          0.45121951219512196,
          0.4166666666666667
         ]
        },
        {
         "boxpoints": "suspectedoutliers",
         "line": {
          "color": "rgb(107,174,214)"
         },
         "marker": {
          "color": "rgb(107,174,214)",
          "line": {
           "outliercolor": "rgba(219, 64, 82, 0.6)",
           "outlierwidth": 2
          },
          "outliercolor": "rgba(219, 64, 82, 0.6)"
         },
         "name": 3,
         "showlegend": false,
         "type": "box",
         "x": 3,
         "y": [
          0.3360655737704918,
          0.5085470085470085,
          0.47035573122529645,
          0.4492753623188406,
          0.4496124031007752,
          0.40160642570281124,
          0.43555555555555553,
          0.40756302521008403,
          0.4236111111111111,
          0.45934959349593496,
          0.4166666666666667
         ]
        },
        {
         "boxpoints": "suspectedoutliers",
         "line": {
          "color": "rgb(107,174,214)"
         },
         "marker": {
          "color": "rgb(107,174,214)",
          "line": {
           "outliercolor": "rgba(219, 64, 82, 0.6)",
           "outlierwidth": 2
          },
          "outliercolor": "rgba(219, 64, 82, 0.6)"
         },
         "name": 4,
         "showlegend": false,
         "type": "box",
         "x": 4,
         "y": [
          0.3333333333333333,
          0.5085470085470085,
          0.4801587301587302,
          0.44765342960288806,
          0.4496124031007752,
          0.4007936507936508,
          0.43805309734513276,
          0.40585774058577406,
          0.42560553633217996,
          0.46938775510204084,
          0.42358078602620086
         ]
        },
        {
         "boxpoints": "suspectedoutliers",
         "line": {
          "color": "rgb(107,174,214)"
         },
         "marker": {
          "color": "rgb(107,174,214)",
          "line": {
           "outliercolor": "rgba(219, 64, 82, 0.6)",
           "outlierwidth": 2
          },
          "outliercolor": "rgba(219, 64, 82, 0.6)"
         },
         "name": 5,
         "showlegend": false,
         "type": "box",
         "x": 5,
         "y": [
          0.3319838056680162,
          0.5063829787234042,
          0.4801587301587302,
          0.44765342960288806,
          0.45348837209302323,
          0.39920948616600793,
          0.43612334801762115,
          0.4083333333333333,
          0.43252595155709345,
          0.46938775510204084,
          0.42543859649122806
         ]
        },
        {
         "boxpoints": "suspectedoutliers",
         "line": {
          "color": "rgb(107,174,214)"
         },
         "marker": {
          "color": "rgb(107,174,214)",
          "line": {
           "outliercolor": "rgba(219, 64, 82, 0.6)",
           "outlierwidth": 2
          },
          "outliercolor": "rgba(219, 64, 82, 0.6)"
         },
         "name": 6,
         "showlegend": false,
         "type": "box",
         "x": 6,
         "y": [
          0.3360323886639676,
          0.5042372881355932,
          0.48412698412698413,
          0.44765342960288806,
          0.46124031007751937,
          0.4094488188976378,
          0.44493392070484583,
          0.4066390041493776,
          0.4359861591695502,
          0.46938775510204084,
          0.42731277533039647
         ]
        },
        {
         "boxpoints": "suspectedoutliers",
         "line": {
          "color": "rgb(107,174,214)"
         },
         "marker": {
          "color": "rgb(107,174,214)",
          "line": {
           "outliercolor": "rgba(219, 64, 82, 0.6)",
           "outlierwidth": 2
          },
          "outliercolor": "rgba(219, 64, 82, 0.6)"
         },
         "name": 7,
         "showlegend": false,
         "type": "box",
         "x": 7,
         "y": [
          0.3373493975903614,
          0.510548523206751,
          0.4801587301587302,
          0.4460431654676259,
          0.46511627906976744,
          0.41732283464566927,
          0.44933920704845814,
          0.4066390041493776,
          0.43944636678200694,
          0.4775510204081633,
          0.43612334801762115
         ]
        },
        {
         "boxpoints": "suspectedoutliers",
         "line": {
          "color": "rgb(107,174,214)"
         },
         "marker": {
          "color": "rgb(107,174,214)",
          "line": {
           "outliercolor": "rgba(219, 64, 82, 0.6)",
           "outlierwidth": 2
          },
          "outliercolor": "rgba(219, 64, 82, 0.6)"
         },
         "name": 8,
         "showlegend": false,
         "type": "box",
         "x": 8,
         "y": [
          0.3346613545816733,
          0.5189873417721519,
          0.4900398406374502,
          0.4551971326164875,
          0.4728682170542636,
          0.41568627450980394,
          0.4497816593886463,
          0.42083333333333334,
          0.4517241379310345,
          0.4816326530612245,
          0.43859649122807015
         ]
        },
        {
         "boxpoints": "suspectedoutliers",
         "line": {
          "color": "rgb(107,174,214)"
         },
         "marker": {
          "color": "rgb(107,174,214)",
          "line": {
           "outliercolor": "rgba(219, 64, 82, 0.6)",
           "outlierwidth": 2
          },
          "outliercolor": "rgba(219, 64, 82, 0.6)"
         },
         "name": 9,
         "showlegend": false,
         "type": "box",
         "x": 9,
         "y": [
          0.3373015873015873,
          0.5358649789029536,
          0.4880952380952381,
          0.46236559139784944,
          0.47470817120622566,
          0.4140625,
          0.45652173913043476,
          0.42083333333333334,
          0.45051194539249145,
          0.4816326530612245,
          0.4366812227074236
         ]
        },
        {
         "boxpoints": "suspectedoutliers",
         "line": {
          "color": "rgb(107,174,214)"
         },
         "marker": {
          "color": "rgb(107,174,214)",
          "line": {
           "outliercolor": "rgba(219, 64, 82, 0.6)",
           "outlierwidth": 2
          },
          "outliercolor": "rgba(219, 64, 82, 0.6)"
         },
         "name": 10,
         "showlegend": false,
         "type": "box",
         "x": 10,
         "y": [
          0.3412698412698413,
          0.540084388185654,
          0.49206349206349204,
          0.4659498207885305,
          0.4708171206225681,
          0.41796875,
          0.4652173913043478,
          0.41841004184100417,
          0.4489795918367347,
          0.48360655737704916,
          0.44541484716157204
         ]
        },
        {
         "boxpoints": "suspectedoutliers",
         "line": {
          "color": "rgb(107,174,214)"
         },
         "marker": {
          "color": "rgb(107,174,214)",
          "line": {
           "outliercolor": "rgba(219, 64, 82, 0.6)",
           "outlierwidth": 2
          },
          "outliercolor": "rgba(219, 64, 82, 0.6)"
         },
         "name": 11,
         "showlegend": false,
         "type": "box",
         "x": 11,
         "y": [
          0.34375,
          0.5439330543933054,
          0.49407114624505927,
          0.4714285714285714,
          0.47470817120622566,
          0.42578125,
          0.4652173913043478,
          0.4166666666666667,
          0.4539249146757679,
          0.48770491803278687,
          0.4434782608695652
         ]
        },
        {
         "boxpoints": "suspectedoutliers",
         "line": {
          "color": "rgb(107,174,214)"
         },
         "marker": {
          "color": "rgb(107,174,214)",
          "line": {
           "outliercolor": "rgba(219, 64, 82, 0.6)",
           "outlierwidth": 2
          },
          "outliercolor": "rgba(219, 64, 82, 0.6)"
         },
         "name": 12,
         "showlegend": false,
         "type": "box",
         "x": 12,
         "y": [
          0.34901960784313724,
          0.5409836065573771,
          0.49407114624505927,
          0.4714285714285714,
          0.47470817120622566,
          0.4280155642023346,
          0.4652173913043478,
          0.42083333333333334,
          0.46938775510204084,
          0.48770491803278687,
          0.4497816593886463
         ]
        },
        {
         "boxpoints": "suspectedoutliers",
         "line": {
          "color": "rgb(107,174,214)"
         },
         "marker": {
          "color": "rgb(107,174,214)",
          "line": {
           "outliercolor": "rgba(219, 64, 82, 0.6)",
           "outlierwidth": 2
          },
          "outliercolor": "rgba(219, 64, 82, 0.6)"
         },
         "name": 13,
         "showlegend": false,
         "type": "box",
         "x": 13,
         "y": [
          0.34765625,
          0.5387755102040817,
          0.4980392156862745,
          0.4767025089605735,
          0.4689922480620155,
          0.4280155642023346,
          0.4652173913043478,
          0.42083333333333334,
          0.46598639455782315,
          0.4897959183673469,
          0.4458874458874459
         ]
        },
        {
         "boxpoints": "suspectedoutliers",
         "line": {
          "color": "rgb(107,174,214)"
         },
         "marker": {
          "color": "rgb(107,174,214)",
          "line": {
           "outliercolor": "rgba(219, 64, 82, 0.6)",
           "outlierwidth": 2
          },
          "outliercolor": "rgba(219, 64, 82, 0.6)"
         },
         "name": 14,
         "showlegend": false,
         "type": "box",
         "x": 14,
         "y": [
          0.3463035019455253,
          0.5428571428571428,
          0.50390625,
          0.47686832740213525,
          0.4728682170542636,
          0.4263565891472868,
          0.4652173913043478,
          0.43388429752066116,
          0.46938775510204084,
          0.5020408163265306,
          0.45217391304347826
         ]
        },
        {
         "boxpoints": "suspectedoutliers",
         "line": {
          "color": "rgb(107,174,214)"
         },
         "marker": {
          "color": "rgb(107,174,214)",
          "line": {
           "outliercolor": "rgba(219, 64, 82, 0.6)",
           "outlierwidth": 2
          },
          "outliercolor": "rgba(219, 64, 82, 0.6)"
         },
         "name": 15,
         "showlegend": false,
         "type": "box",
         "x": 15,
         "y": [
          0.3463035019455253,
          0.5428571428571428,
          0.51171875,
          0.4804270462633452,
          0.47674418604651164,
          0.43023255813953487,
          0.4782608695652174,
          0.4344262295081967,
          0.46779661016949153,
          0.5061224489795918,
          0.45021645021645024
         ]
        },
        {
         "boxpoints": "suspectedoutliers",
         "line": {
          "color": "rgb(107,174,214)"
         },
         "marker": {
          "color": "rgb(107,174,214)",
          "line": {
           "outliercolor": "rgba(219, 64, 82, 0.6)",
           "outlierwidth": 2
          },
          "outliercolor": "rgba(219, 64, 82, 0.6)"
         },
         "name": 16,
         "showlegend": false,
         "type": "box",
         "x": 16,
         "y": [
          0.3540856031128405,
          0.5409836065573771,
          0.515625,
          0.4804270462633452,
          0.4826254826254826,
          0.4362934362934363,
          0.4826086956521739,
          0.4385245901639344,
          0.46621621621621623,
          0.5142857142857142,
          0.45021645021645024
         ]
        },
        {
         "boxpoints": "suspectedoutliers",
         "line": {
          "color": "rgb(107,174,214)"
         },
         "marker": {
          "color": "rgb(107,174,214)",
          "line": {
           "outliercolor": "rgba(219, 64, 82, 0.6)",
           "outlierwidth": 2
          },
          "outliercolor": "rgba(219, 64, 82, 0.6)"
         },
         "name": 17,
         "showlegend": false,
         "type": "box",
         "x": 17,
         "y": [
          0.35546875,
          0.5409836065573771,
          0.5215686274509804,
          0.4804270462633452,
          0.49034749034749037,
          0.4362934362934363,
          0.4890829694323144,
          0.43902439024390244,
          0.4713804713804714,
          0.5142857142857142,
          0.45021645021645024
         ]
        },
        {
         "boxpoints": "suspectedoutliers",
         "line": {
          "color": "rgb(107,174,214)"
         },
         "marker": {
          "color": "rgb(107,174,214)",
          "line": {
           "outliercolor": "rgba(219, 64, 82, 0.6)",
           "outlierwidth": 2
          },
          "outliercolor": "rgba(219, 64, 82, 0.6)"
         },
         "name": 18,
         "showlegend": false,
         "type": "box",
         "x": 18,
         "y": [
          0.35546875,
          0.5346938775510204,
          0.5333333333333333,
          0.48226950354609927,
          0.48846153846153845,
          0.4555984555984556,
          0.48695652173913045,
          0.43724696356275305,
          0.4713804713804714,
          0.5265306122448979,
          0.45021645021645024
         ]
        },
        {
         "boxpoints": "suspectedoutliers",
         "line": {
          "color": "rgb(107,174,214)"
         },
         "marker": {
          "color": "rgb(107,174,214)",
          "line": {
           "outliercolor": "rgba(219, 64, 82, 0.6)",
           "outlierwidth": 2
          },
          "outliercolor": "rgba(219, 64, 82, 0.6)"
         },
         "name": 19,
         "showlegend": false,
         "type": "box",
         "x": 19,
         "y": [
          0.36186770428015563,
          0.5346938775510204,
          0.54296875,
          0.48936170212765956,
          0.49230769230769234,
          0.4594594594594595,
          0.4978165938864629,
          0.43373493975903615,
          0.47474747474747475,
          0.524390243902439,
          0.45021645021645024
         ]
        },
        {
         "boxpoints": "suspectedoutliers",
         "line": {
          "color": "rgb(107,174,214)"
         },
         "marker": {
          "color": "rgb(107,174,214)",
          "line": {
           "outliercolor": "rgba(219, 64, 82, 0.6)",
           "outlierwidth": 2
          },
          "outliercolor": "rgba(219, 64, 82, 0.6)"
         },
         "name": 20,
         "showlegend": false,
         "type": "box",
         "x": 20,
         "y": [
          0.3671875,
          0.5447154471544715,
          0.5408560311284046,
          0.4929078014184397,
          0.4942528735632184,
          0.46332046332046334,
          0.4956521739130435,
          0.436,
          0.4781144781144781,
          0.524390243902439,
          0.45021645021645024
         ]
        },
        {
         "boxpoints": "suspectedoutliers",
         "line": {
          "color": "rgb(107,174,214)"
         },
         "marker": {
          "color": "rgb(107,174,214)",
          "line": {
           "outliercolor": "rgba(219, 64, 82, 0.6)",
           "outlierwidth": 2
          },
          "outliercolor": "rgba(219, 64, 82, 0.6)"
         },
         "name": 21,
         "showlegend": false,
         "type": "box",
         "x": 21,
         "y": [
          0.36964980544747084,
          0.5447154471544715,
          0.5503875968992248,
          0.4911660777385159,
          0.49808429118773945,
          0.46332046332046334,
          0.5043478260869565,
          0.44223107569721115,
          0.48148148148148145,
          0.5241935483870968,
          0.45217391304347826
         ]
        },
        {
         "boxpoints": "suspectedoutliers",
         "line": {
          "color": "rgb(107,174,214)"
         },
         "marker": {
          "color": "rgb(107,174,214)",
          "line": {
           "outliercolor": "rgba(219, 64, 82, 0.6)",
           "outlierwidth": 2
          },
          "outliercolor": "rgba(219, 64, 82, 0.6)"
         },
         "name": 22,
         "showlegend": false,
         "type": "box",
         "x": 22,
         "y": [
          0.36538461538461536,
          0.5487804878048781,
          0.5542635658914729,
          0.49823321554770317,
          0.5019157088122606,
          0.4728682170542636,
          0.5129310344827587,
          0.44223107569721115,
          0.48986486486486486,
          0.5241935483870968,
          0.45454545454545453
         ]
        },
        {
         "boxpoints": "suspectedoutliers",
         "line": {
          "color": "rgb(107,174,214)"
         },
         "marker": {
          "color": "rgb(107,174,214)",
          "line": {
           "outliercolor": "rgba(219, 64, 82, 0.6)",
           "outlierwidth": 2
          },
          "outliercolor": "rgba(219, 64, 82, 0.6)"
         },
         "name": 23,
         "showlegend": false,
         "type": "box",
         "x": 23,
         "y": [
          0.367816091954023,
          0.5528455284552846,
          0.5581395348837209,
          0.4964788732394366,
          0.5057471264367817,
          0.4728682170542636,
          0.5172413793103449,
          0.44223107569721115,
          0.5,
          0.5220883534136547,
          0.4588744588744589
         ]
        },
        {
         "boxpoints": "suspectedoutliers",
         "line": {
          "color": "rgb(107,174,214)"
         },
         "marker": {
          "color": "rgb(107,174,214)",
          "line": {
           "outliercolor": "rgba(219, 64, 82, 0.6)",
           "outlierwidth": 2
          },
          "outliercolor": "rgba(219, 64, 82, 0.6)"
         },
         "name": 24,
         "showlegend": false,
         "type": "box",
         "x": 24,
         "y": [
          0.37404580152671757,
          0.5524193548387096,
          0.56640625,
          0.4964788732394366,
          0.5095785440613027,
          0.47674418604651164,
          0.51931330472103,
          0.444,
          0.5100671140939598,
          0.52,
          0.4588744588744589
         ]
        },
        {
         "boxpoints": "suspectedoutliers",
         "line": {
          "color": "rgb(107,174,214)"
         },
         "marker": {
          "color": "rgb(107,174,214)",
          "line": {
           "outliercolor": "rgba(219, 64, 82, 0.6)",
           "outlierwidth": 2
          },
          "outliercolor": "rgba(219, 64, 82, 0.6)"
         },
         "name": 25,
         "showlegend": false,
         "type": "box",
         "x": 25,
         "y": [
          0.37404580152671757,
          0.556,
          0.5708661417322834,
          0.5017667844522968,
          0.5116279069767442,
          0.48046875,
          0.5236051502145923,
          0.44621513944223107,
          0.5100671140939598,
          0.5219123505976095,
          0.4652173913043478
         ]
        },
        {
         "boxpoints": "suspectedoutliers",
         "line": {
          "color": "rgb(107,174,214)"
         },
         "marker": {
          "color": "rgb(107,174,214)",
          "line": {
           "outliercolor": "rgba(219, 64, 82, 0.6)",
           "outlierwidth": 2
          },
          "outliercolor": "rgba(219, 64, 82, 0.6)"
         },
         "name": 26,
         "showlegend": false,
         "type": "box",
         "x": 26,
         "y": [
          0.37547892720306514,
          0.56,
          0.5708661417322834,
          0.5017667844522968,
          0.5173745173745173,
          0.48627450980392156,
          0.5278969957081545,
          0.450199203187251,
          0.5134228187919463,
          0.5258964143426295,
          0.4652173913043478
         ]
        },
        {
         "boxpoints": "suspectedoutliers",
         "line": {
          "color": "rgb(107,174,214)"
         },
         "marker": {
          "color": "rgb(107,174,214)",
          "line": {
           "outliercolor": "rgba(219, 64, 82, 0.6)",
           "outlierwidth": 2
          },
          "outliercolor": "rgba(219, 64, 82, 0.6)"
         },
         "name": 27,
         "showlegend": false,
         "type": "box",
         "x": 27,
         "y": [
          0.37404580152671757,
          0.5577689243027888,
          0.5708661417322834,
          0.508833922261484,
          0.5269230769230769,
          0.48828125,
          0.5341880341880342,
          0.46215139442231074,
          0.5168918918918919,
          0.5381526104417671,
          0.47391304347826085
         ]
        },
        {
         "boxpoints": "suspectedoutliers",
         "line": {
          "color": "rgb(107,174,214)"
         },
         "marker": {
          "color": "rgb(107,174,214)",
          "line": {
           "outliercolor": "rgba(219, 64, 82, 0.6)",
           "outlierwidth": 2
          },
          "outliercolor": "rgba(219, 64, 82, 0.6)"
         },
         "name": 28,
         "showlegend": false,
         "type": "box",
         "x": 28,
         "y": [
          0.3793103448275862,
          0.5555555555555556,
          0.56640625,
          0.5053003533568905,
          0.5209125475285171,
          0.49609375,
          0.5450643776824035,
          0.4603174603174603,
          0.5134228187919463,
          0.544,
          0.47391304347826085
         ]
        },
        {
         "boxpoints": "suspectedoutliers",
         "line": {
          "color": "rgb(107,174,214)"
         },
         "marker": {
          "color": "rgb(107,174,214)",
          "line": {
           "outliercolor": "rgba(219, 64, 82, 0.6)",
           "outlierwidth": 2
          },
          "outliercolor": "rgba(219, 64, 82, 0.6)"
         },
         "name": 29,
         "showlegend": false,
         "type": "box",
         "x": 29,
         "y": [
          0.3831417624521073,
          0.5634920634920635,
          0.5703125,
          0.5140845070422535,
          0.5227272727272727,
          0.50390625,
          0.5493562231759657,
          0.4603174603174603,
          0.5100671140939598,
          0.545816733067729,
          0.47391304347826085
         ]
        },
        {
         "boxpoints": "suspectedoutliers",
         "line": {
          "color": "rgb(107,174,214)"
         },
         "marker": {
          "color": "rgb(107,174,214)",
          "line": {
           "outliercolor": "rgba(219, 64, 82, 0.6)",
           "outlierwidth": 2
          },
          "outliercolor": "rgba(219, 64, 82, 0.6)"
         },
         "name": 30,
         "showlegend": false,
         "type": "box",
         "x": 30,
         "y": [
          0.39543726235741444,
          0.5674603174603174,
          0.5680933852140078,
          0.5140845070422535,
          0.5245283018867924,
          0.50390625,
          0.5450643776824035,
          0.46215139442231074,
          0.5083612040133779,
          0.5476190476190477,
          0.4826086956521739
         ]
        },
        {
         "boxpoints": "suspectedoutliers",
         "line": {
          "color": "rgb(107,174,214)"
         },
         "marker": {
          "color": "rgb(107,174,214)",
          "line": {
           "outliercolor": "rgba(219, 64, 82, 0.6)",
           "outlierwidth": 2
          },
          "outliercolor": "rgba(219, 64, 82, 0.6)"
         },
         "name": 31,
         "showlegend": false,
         "type": "box",
         "x": 31,
         "y": [
          0.39543726235741444,
          0.5737051792828686,
          0.57421875,
          0.5140845070422535,
          0.5300751879699248,
          0.51171875,
          0.5470085470085471,
          0.47410358565737054,
          0.5149501661129569,
          0.5476190476190477,
          0.49130434782608695
         ]
        },
        {
         "boxpoints": "suspectedoutliers",
         "line": {
          "color": "rgb(107,174,214)"
         },
         "marker": {
          "color": "rgb(107,174,214)",
          "line": {
           "outliercolor": "rgba(219, 64, 82, 0.6)",
           "outlierwidth": 2
          },
          "outliercolor": "rgba(219, 64, 82, 0.6)"
         },
         "name": 32,
         "showlegend": false,
         "type": "box",
         "x": 32,
         "y": [
          0.3939393939393939,
          0.58,
          0.5719844357976653,
          0.5211267605633803,
          0.5283018867924528,
          0.5136186770428015,
          0.5470085470085471,
          0.47808764940239046,
          0.521594684385382,
          0.549800796812749,
          0.48917748917748916
         ]
        },
        {
         "boxpoints": "suspectedoutliers",
         "line": {
          "color": "rgb(107,174,214)"
         },
         "marker": {
          "color": "rgb(107,174,214)",
          "line": {
           "outliercolor": "rgba(219, 64, 82, 0.6)",
           "outlierwidth": 2
          },
          "outliercolor": "rgba(219, 64, 82, 0.6)"
         },
         "name": 33,
         "showlegend": false,
         "type": "box",
         "x": 33,
         "y": [
          0.3977272727272727,
          0.5753968253968254,
          0.5719844357976653,
          0.519298245614035,
          0.5340909090909091,
          0.5175097276264592,
          0.5555555555555556,
          0.47619047619047616,
          0.5198675496688742,
          0.552,
          0.48497854077253216
         ]
        },
        {
         "boxpoints": "suspectedoutliers",
         "line": {
          "color": "rgb(107,174,214)"
         },
         "marker": {
          "color": "rgb(107,174,214)",
          "line": {
           "outliercolor": "rgba(219, 64, 82, 0.6)",
           "outlierwidth": 2
          },
          "outliercolor": "rgba(219, 64, 82, 0.6)"
         },
         "name": 34,
         "showlegend": false,
         "type": "box",
         "x": 34,
         "y": [
          0.4053030303030303,
          0.5748031496062992,
          0.5697674418604651,
          0.527972027972028,
          0.5375939849624061,
          0.5135135135135135,
          0.5555555555555556,
          0.4782608695652174,
          0.53156146179402,
          0.556,
          0.4808510638297872
         ]
        },
        {
         "boxpoints": "suspectedoutliers",
         "line": {
          "color": "rgb(107,174,214)"
         },
         "marker": {
          "color": "rgb(107,174,214)",
          "line": {
           "outliercolor": "rgba(219, 64, 82, 0.6)",
           "outlierwidth": 2
          },
          "outliercolor": "rgba(219, 64, 82, 0.6)"
         },
         "name": 35,
         "showlegend": false,
         "type": "box",
         "x": 35,
         "y": [
          0.40977443609022557,
          0.5719844357976653,
          0.5758754863813229,
          0.527972027972028,
          0.5451127819548872,
          0.5135135135135135,
          0.5598290598290598,
          0.4782608695652174,
          0.5348837209302325,
          0.56,
          0.4829059829059829
         ]
        },
        {
         "boxpoints": "suspectedoutliers",
         "line": {
          "color": "rgb(107,174,214)"
         },
         "marker": {
          "color": "rgb(107,174,214)",
          "line": {
           "outliercolor": "rgba(219, 64, 82, 0.6)",
           "outlierwidth": 2
          },
          "outliercolor": "rgba(219, 64, 82, 0.6)"
         },
         "name": 36,
         "showlegend": false,
         "type": "box",
         "x": 36,
         "y": [
          0.41353383458646614,
          0.57421875,
          0.5797665369649806,
          0.5314685314685315,
          0.5485074626865671,
          0.5153846153846153,
          0.5574468085106383,
          0.4745098039215686,
          0.54,
          0.5617529880478087,
          0.4829059829059829
         ]
        },
        {
         "boxpoints": "suspectedoutliers",
         "line": {
          "color": "rgb(107,174,214)"
         },
         "marker": {
          "color": "rgb(107,174,214)",
          "line": {
           "outliercolor": "rgba(219, 64, 82, 0.6)",
           "outlierwidth": 2
          },
          "outliercolor": "rgba(219, 64, 82, 0.6)"
         },
         "name": 37,
         "showlegend": false,
         "type": "box",
         "x": 37,
         "y": [
          0.41729323308270677,
          0.5719844357976653,
          0.5791505791505791,
          0.534965034965035,
          0.5485074626865671,
          0.5172413793103449,
          0.5598290598290598,
          0.48031496062992124,
          0.5448504983388704,
          0.5617529880478087,
          0.4808510638297872
         ]
        },
        {
         "boxpoints": "suspectedoutliers",
         "line": {
          "color": "rgb(107,174,214)"
         },
         "marker": {
          "color": "rgb(107,174,214)",
          "line": {
           "outliercolor": "rgba(219, 64, 82, 0.6)",
           "outlierwidth": 2
          },
          "outliercolor": "rgba(219, 64, 82, 0.6)"
         },
         "name": 38,
         "showlegend": false,
         "type": "box",
         "x": 38,
         "y": [
          0.42641509433962266,
          0.5719844357976653,
          0.5791505791505791,
          0.5400696864111498,
          0.550185873605948,
          0.5152671755725191,
          0.5622317596566524,
          0.48616600790513836,
          0.5445544554455446,
          0.5697211155378487,
          0.4808510638297872
         ]
        },
        {
         "boxpoints": "suspectedoutliers",
         "line": {
          "color": "rgb(107,174,214)"
         },
         "marker": {
          "color": "rgb(107,174,214)",
          "line": {
           "outliercolor": "rgba(219, 64, 82, 0.6)",
           "outlierwidth": 2
          },
          "outliercolor": "rgba(219, 64, 82, 0.6)"
         },
         "name": 39,
         "showlegend": false,
         "type": "box",
         "x": 39,
         "y": [
          0.42641509433962266,
          0.5797665369649806,
          0.5769230769230769,
          0.5435540069686411,
          0.5539033457249071,
          0.5134099616858238,
          0.5617021276595745,
          0.4901185770750988,
          0.5511551155115512,
          0.5737051792828686,
          0.4788135593220339
         ]
        },
        {
         "boxpoints": "suspectedoutliers",
         "line": {
          "color": "rgb(107,174,214)"
         },
         "marker": {
          "color": "rgb(107,174,214)",
          "line": {
           "outliercolor": "rgba(219, 64, 82, 0.6)",
           "outlierwidth": 2
          },
          "outliercolor": "rgba(219, 64, 82, 0.6)"
         },
         "name": 40,
         "showlegend": false,
         "type": "box",
         "x": 40,
         "y": [
          0.4339622641509434,
          0.5852713178294574,
          0.5807692307692308,
          0.548951048951049,
          0.5518518518518518,
          0.5209125475285171,
          0.5683760683760684,
          0.4921259842519685,
          0.5544554455445545,
          0.5776892430278885,
          0.48717948717948717
         ]
        },
        {
         "boxpoints": "suspectedoutliers",
         "line": {
          "color": "rgb(107,174,214)"
         },
         "marker": {
          "color": "rgb(107,174,214)",
          "line": {
           "outliercolor": "rgba(219, 64, 82, 0.6)",
           "outlierwidth": 2
          },
          "outliercolor": "rgba(219, 64, 82, 0.6)"
         },
         "name": 41,
         "showlegend": false,
         "type": "box",
         "x": 41,
         "y": [
          0.44696969696969696,
          0.5852713178294574,
          0.583011583011583,
          0.5590277777777778,
          0.5535055350553506,
          0.5209125475285171,
          0.5708154506437768,
          0.49606299212598426,
          0.5544554455445545,
          0.5753968253968254,
          0.49145299145299143
         ]
        },
        {
         "boxpoints": "suspectedoutliers",
         "line": {
          "color": "rgb(107,174,214)"
         },
         "marker": {
          "color": "rgb(107,174,214)",
          "line": {
           "outliercolor": "rgba(219, 64, 82, 0.6)",
           "outlierwidth": 2
          },
          "outliercolor": "rgba(219, 64, 82, 0.6)"
         },
         "name": 42,
         "showlegend": false,
         "type": "box",
         "x": 42,
         "y": [
          0.45075757575757575,
          0.583011583011583,
          0.583011583011583,
          0.5590277777777778,
          0.5547445255474452,
          0.5265151515151515,
          0.575107296137339,
          0.5,
          0.555921052631579,
          0.5793650793650794,
          0.49572649572649574
         ]
        },
        {
         "boxpoints": "suspectedoutliers",
         "line": {
          "color": "rgb(107,174,214)"
         },
         "marker": {
          "color": "rgb(107,174,214)",
          "line": {
           "outliercolor": "rgba(219, 64, 82, 0.6)",
           "outlierwidth": 2
          },
          "outliercolor": "rgba(219, 64, 82, 0.6)"
         },
         "name": 43,
         "showlegend": false,
         "type": "box",
         "x": 43,
         "y": [
          0.45454545454545453,
          0.5868725868725869,
          0.5852713178294574,
          0.5570934256055363,
          0.5547445255474452,
          0.5207547169811321,
          0.5775862068965517,
          0.5039370078740157,
          0.5625,
          0.5793650793650794,
          0.49572649572649574
         ]
        },
        {
         "boxpoints": "suspectedoutliers",
         "line": {
          "color": "rgb(107,174,214)"
         },
         "marker": {
          "color": "rgb(107,174,214)",
          "line": {
           "outliercolor": "rgba(219, 64, 82, 0.6)",
           "outlierwidth": 2
          },
          "outliercolor": "rgba(219, 64, 82, 0.6)"
         },
         "name": 44,
         "showlegend": false,
         "type": "box",
         "x": 44,
         "y": [
          0.4621212121212121,
          0.5846153846153846,
          0.5914396887159533,
          0.5567010309278351,
          0.5547445255474452,
          0.5227272727272727,
          0.5775862068965517,
          0.5098814229249012,
          0.5625,
          0.5793650793650794,
          0.5021459227467812
         ]
        },
        {
         "boxpoints": "suspectedoutliers",
         "line": {
          "color": "rgb(107,174,214)"
         },
         "marker": {
          "color": "rgb(107,174,214)",
          "line": {
           "outliercolor": "rgba(219, 64, 82, 0.6)",
           "outlierwidth": 2
          },
          "outliercolor": "rgba(219, 64, 82, 0.6)"
         },
         "name": 45,
         "showlegend": false,
         "type": "box",
         "x": 45,
         "y": [
          0.4621212121212121,
          0.5823754789272031,
          0.5992217898832685,
          0.563573883161512,
          0.5583941605839416,
          0.5285171102661597,
          0.5818965517241379,
          0.5198412698412699,
          0.5620915032679739,
          0.5810276679841897,
          0.4978723404255319
         ]
        },
        {
         "boxpoints": "suspectedoutliers",
         "line": {
          "color": "rgb(107,174,214)"
         },
         "marker": {
          "color": "rgb(107,174,214)",
          "line": {
           "outliercolor": "rgba(219, 64, 82, 0.6)",
           "outlierwidth": 2
          },
          "outliercolor": "rgba(219, 64, 82, 0.6)"
         },
         "name": 46,
         "showlegend": false,
         "type": "box",
         "x": 46,
         "y": [
          0.4734848484848485,
          0.583969465648855,
          0.5968992248062015,
          0.5620689655172414,
          0.5656934306569343,
          0.5378787878787878,
          0.5818965517241379,
          0.515748031496063,
          0.5681818181818182,
          0.5787401574803149,
          0.4978723404255319
         ]
        },
        {
         "boxpoints": "suspectedoutliers",
         "line": {
          "color": "rgb(107,174,214)"
         },
         "marker": {
          "color": "rgb(107,174,214)",
          "line": {
           "outliercolor": "rgba(219, 64, 82, 0.6)",
           "outlierwidth": 2
          },
          "outliercolor": "rgba(219, 64, 82, 0.6)"
         },
         "name": 47,
         "showlegend": false,
         "type": "box",
         "x": 47,
         "y": [
          0.4734848484848485,
          0.5862068965517241,
          0.6023166023166023,
          0.5601374570446735,
          0.5615942028985508,
          0.5454545454545454,
          0.5818965517241379,
          0.5176470588235295,
          0.5746753246753247,
          0.57421875,
          0.5064377682403434
         ]
        },
        {
         "mode": "lines",
         "name": "Mean",
         "showlegend": false,
         "type": "scatter",
         "x": [
          1,
          2,
          3,
          4,
          5,
          6,
          7,
          8,
          9,
          10,
          11,
          12,
          13,
          14,
          15,
          16,
          17,
          18,
          19,
          20,
          21,
          22,
          23,
          24,
          25,
          26,
          27,
          28,
          29,
          30,
          31,
          32,
          33,
          34,
          35,
          36,
          37,
          38,
          39,
          40,
          41,
          42,
          43,
          44,
          45,
          46,
          47
         ],
         "y": [
          0.4251054851996712,
          0.42753180726782075,
          0.43064597449201975,
          0.4325644051549615,
          0.43478031553888313,
          0.4355168897193988,
          0.43881807581461824,
          0.44233071604950297,
          0.4481825851012854,
          0.4507799055026146,
          0.4536165311318904,
          0.45642403134748144,
          0.45919561133126,
          0.4587183436877797,
          0.46289674560940114,
          0.46591870851736433,
          0.46926289467154275,
          0.47173445022468014,
          0.4747414979667408,
          0.4783240807488955,
          0.48069213297558255,
          0.48379559331310096,
          0.48774652622477993,
          0.4903936944835618,
          0.4934479897638297,
          0.4965265936673438,
          0.49949033671821946,
          0.5047287355607832,
          0.5054815001398745,
          0.5088304481679156,
          0.510846794850009,
          0.5158386664433154,
          0.5176945746292957,
          0.5185999580400551,
          0.5210165544511202,
          0.5236465740854669,
          0.5254086649524689,
          0.5269764268789405,
          0.5296906588411322,
          0.5317696892234708,
          0.5365040444964561,
          0.5397165603033196,
          0.5421080109528735,
          0.5434906197494322,
          0.5458025224171287,
          0.5488120880169455,
          0.5511303293000668,
          0.5530972732922073
         ]
        }
       ],
       "layout": {}
      },
      "text/html": [
       "<div id=\"84ba9a36-b29e-40bb-b8f4-2afcbb3a4b99\" style=\"height: 525px; width: 100%;\" class=\"plotly-graph-div\"></div><script type=\"text/javascript\">require([\"plotly\"], function(Plotly) { window.PLOTLYENV=window.PLOTLYENV || {};window.PLOTLYENV.BASE_URL=\"https://plot.ly\";Plotly.newPlot(\"84ba9a36-b29e-40bb-b8f4-2afcbb3a4b99\", [{\"showlegend\": false, \"name\": 0, \"marker\": {\"color\": \"rgb(107,174,214)\", \"outliercolor\": \"rgba(219, 64, 82, 0.6)\", \"line\": {\"outlierwidth\": 2, \"outliercolor\": \"rgba(219, 64, 82, 0.6)\"}}, \"y\": [0.33195020746887965, 0.5, 0.4624505928853755, 0.44485294117647056, 0.44015444015444016, 0.3950617283950617, 0.4349775784753363, 0.39662447257383965, 0.4195804195804196, 0.44081632653061226, 0.40969162995594716], \"x\": 0, \"line\": {\"color\": \"rgb(107,174,214)\"}, \"type\": \"box\", \"boxpoints\": \"suspectedoutliers\"}, {\"showlegend\": false, \"name\": 1, \"marker\": {\"color\": \"rgb(107,174,214)\", \"outliercolor\": \"rgba(219, 64, 82, 0.6)\", \"line\": {\"outlierwidth\": 2, \"outliercolor\": \"rgba(219, 64, 82, 0.6)\"}}, \"y\": [0.3347107438016529, 0.5085470085470085, 0.466403162055336, 0.4489051094890511, 0.444015444015444, 0.39344262295081966, 0.4311111111111111, 0.4008438818565401, 0.42160278745644597, 0.44715447154471544, 0.40611353711790393], \"x\": 1, \"line\": {\"color\": \"rgb(107,174,214)\"}, \"type\": \"box\", \"boxpoints\": \"suspectedoutliers\"}, {\"showlegend\": false, \"name\": 2, \"marker\": {\"color\": \"rgb(107,174,214)\", \"outliercolor\": \"rgba(219, 64, 82, 0.6)\", \"line\": {\"outlierwidth\": 2, \"outliercolor\": \"rgba(219, 64, 82, 0.6)\"}}, \"y\": [0.3333333333333333, 0.5085470085470085, 0.466403162055336, 0.44727272727272727, 0.44787644787644787, 0.4008097165991903, 0.43555555555555553, 0.4092827004219409, 0.4201388888888889, 0.45121951219512196, 0.4166666666666667], \"x\": 2, \"line\": {\"color\": \"rgb(107,174,214)\"}, \"type\": \"box\", \"boxpoints\": \"suspectedoutliers\"}, {\"showlegend\": false, \"name\": 3, \"marker\": {\"color\": \"rgb(107,174,214)\", \"outliercolor\": \"rgba(219, 64, 82, 0.6)\", \"line\": {\"outlierwidth\": 2, \"outliercolor\": \"rgba(219, 64, 82, 0.6)\"}}, \"y\": [0.3360655737704918, 0.5085470085470085, 0.47035573122529645, 0.4492753623188406, 0.4496124031007752, 0.40160642570281124, 0.43555555555555553, 0.40756302521008403, 0.4236111111111111, 0.45934959349593496, 0.4166666666666667], \"x\": 3, \"line\": {\"color\": \"rgb(107,174,214)\"}, \"type\": \"box\", \"boxpoints\": \"suspectedoutliers\"}, {\"showlegend\": false, \"name\": 4, \"marker\": {\"color\": \"rgb(107,174,214)\", \"outliercolor\": \"rgba(219, 64, 82, 0.6)\", \"line\": {\"outlierwidth\": 2, \"outliercolor\": \"rgba(219, 64, 82, 0.6)\"}}, \"y\": [0.3333333333333333, 0.5085470085470085, 0.4801587301587302, 0.44765342960288806, 0.4496124031007752, 0.4007936507936508, 0.43805309734513276, 0.40585774058577406, 0.42560553633217996, 0.46938775510204084, 0.42358078602620086], \"x\": 4, \"line\": {\"color\": \"rgb(107,174,214)\"}, \"type\": \"box\", \"boxpoints\": \"suspectedoutliers\"}, {\"showlegend\": false, \"name\": 5, \"marker\": {\"color\": \"rgb(107,174,214)\", \"outliercolor\": \"rgba(219, 64, 82, 0.6)\", \"line\": {\"outlierwidth\": 2, \"outliercolor\": \"rgba(219, 64, 82, 0.6)\"}}, \"y\": [0.3319838056680162, 0.5063829787234042, 0.4801587301587302, 0.44765342960288806, 0.45348837209302323, 0.39920948616600793, 0.43612334801762115, 0.4083333333333333, 0.43252595155709345, 0.46938775510204084, 0.42543859649122806], \"x\": 5, \"line\": {\"color\": \"rgb(107,174,214)\"}, \"type\": \"box\", \"boxpoints\": \"suspectedoutliers\"}, {\"showlegend\": false, \"name\": 6, \"marker\": {\"color\": \"rgb(107,174,214)\", \"outliercolor\": \"rgba(219, 64, 82, 0.6)\", \"line\": {\"outlierwidth\": 2, \"outliercolor\": \"rgba(219, 64, 82, 0.6)\"}}, \"y\": [0.3360323886639676, 0.5042372881355932, 0.48412698412698413, 0.44765342960288806, 0.46124031007751937, 0.4094488188976378, 0.44493392070484583, 0.4066390041493776, 0.4359861591695502, 0.46938775510204084, 0.42731277533039647], \"x\": 6, \"line\": {\"color\": \"rgb(107,174,214)\"}, \"type\": \"box\", \"boxpoints\": \"suspectedoutliers\"}, {\"showlegend\": false, \"name\": 7, \"marker\": {\"color\": \"rgb(107,174,214)\", \"outliercolor\": \"rgba(219, 64, 82, 0.6)\", \"line\": {\"outlierwidth\": 2, \"outliercolor\": \"rgba(219, 64, 82, 0.6)\"}}, \"y\": [0.3373493975903614, 0.510548523206751, 0.4801587301587302, 0.4460431654676259, 0.46511627906976744, 0.41732283464566927, 0.44933920704845814, 0.4066390041493776, 0.43944636678200694, 0.4775510204081633, 0.43612334801762115], \"x\": 7, \"line\": {\"color\": \"rgb(107,174,214)\"}, \"type\": \"box\", \"boxpoints\": \"suspectedoutliers\"}, {\"showlegend\": false, \"name\": 8, \"marker\": {\"color\": \"rgb(107,174,214)\", \"outliercolor\": \"rgba(219, 64, 82, 0.6)\", \"line\": {\"outlierwidth\": 2, \"outliercolor\": \"rgba(219, 64, 82, 0.6)\"}}, \"y\": [0.3346613545816733, 0.5189873417721519, 0.4900398406374502, 0.4551971326164875, 0.4728682170542636, 0.41568627450980394, 0.4497816593886463, 0.42083333333333334, 0.4517241379310345, 0.4816326530612245, 0.43859649122807015], \"x\": 8, \"line\": {\"color\": \"rgb(107,174,214)\"}, \"type\": \"box\", \"boxpoints\": \"suspectedoutliers\"}, {\"showlegend\": false, \"name\": 9, \"marker\": {\"color\": \"rgb(107,174,214)\", \"outliercolor\": \"rgba(219, 64, 82, 0.6)\", \"line\": {\"outlierwidth\": 2, \"outliercolor\": \"rgba(219, 64, 82, 0.6)\"}}, \"y\": [0.3373015873015873, 0.5358649789029536, 0.4880952380952381, 0.46236559139784944, 0.47470817120622566, 0.4140625, 0.45652173913043476, 0.42083333333333334, 0.45051194539249145, 0.4816326530612245, 0.4366812227074236], \"x\": 9, \"line\": {\"color\": \"rgb(107,174,214)\"}, \"type\": \"box\", \"boxpoints\": \"suspectedoutliers\"}, {\"showlegend\": false, \"name\": 10, \"marker\": {\"color\": \"rgb(107,174,214)\", \"outliercolor\": \"rgba(219, 64, 82, 0.6)\", \"line\": {\"outlierwidth\": 2, \"outliercolor\": \"rgba(219, 64, 82, 0.6)\"}}, \"y\": [0.3412698412698413, 0.540084388185654, 0.49206349206349204, 0.4659498207885305, 0.4708171206225681, 0.41796875, 0.4652173913043478, 0.41841004184100417, 0.4489795918367347, 0.48360655737704916, 0.44541484716157204], \"x\": 10, \"line\": {\"color\": \"rgb(107,174,214)\"}, \"type\": \"box\", \"boxpoints\": \"suspectedoutliers\"}, {\"showlegend\": false, \"name\": 11, \"marker\": {\"color\": \"rgb(107,174,214)\", \"outliercolor\": \"rgba(219, 64, 82, 0.6)\", \"line\": {\"outlierwidth\": 2, \"outliercolor\": \"rgba(219, 64, 82, 0.6)\"}}, \"y\": [0.34375, 0.5439330543933054, 0.49407114624505927, 0.4714285714285714, 0.47470817120622566, 0.42578125, 0.4652173913043478, 0.4166666666666667, 0.4539249146757679, 0.48770491803278687, 0.4434782608695652], \"x\": 11, \"line\": {\"color\": \"rgb(107,174,214)\"}, \"type\": \"box\", \"boxpoints\": \"suspectedoutliers\"}, {\"showlegend\": false, \"name\": 12, \"marker\": {\"color\": \"rgb(107,174,214)\", \"outliercolor\": \"rgba(219, 64, 82, 0.6)\", \"line\": {\"outlierwidth\": 2, \"outliercolor\": \"rgba(219, 64, 82, 0.6)\"}}, \"y\": [0.34901960784313724, 0.5409836065573771, 0.49407114624505927, 0.4714285714285714, 0.47470817120622566, 0.4280155642023346, 0.4652173913043478, 0.42083333333333334, 0.46938775510204084, 0.48770491803278687, 0.4497816593886463], \"x\": 12, \"line\": {\"color\": \"rgb(107,174,214)\"}, \"type\": \"box\", \"boxpoints\": \"suspectedoutliers\"}, {\"showlegend\": false, \"name\": 13, \"marker\": {\"color\": \"rgb(107,174,214)\", \"outliercolor\": \"rgba(219, 64, 82, 0.6)\", \"line\": {\"outlierwidth\": 2, \"outliercolor\": \"rgba(219, 64, 82, 0.6)\"}}, \"y\": [0.34765625, 0.5387755102040817, 0.4980392156862745, 0.4767025089605735, 0.4689922480620155, 0.4280155642023346, 0.4652173913043478, 0.42083333333333334, 0.46598639455782315, 0.4897959183673469, 0.4458874458874459], \"x\": 13, \"line\": {\"color\": \"rgb(107,174,214)\"}, \"type\": \"box\", \"boxpoints\": \"suspectedoutliers\"}, {\"showlegend\": false, \"name\": 14, \"marker\": {\"color\": \"rgb(107,174,214)\", \"outliercolor\": \"rgba(219, 64, 82, 0.6)\", \"line\": {\"outlierwidth\": 2, \"outliercolor\": \"rgba(219, 64, 82, 0.6)\"}}, \"y\": [0.3463035019455253, 0.5428571428571428, 0.50390625, 0.47686832740213525, 0.4728682170542636, 0.4263565891472868, 0.4652173913043478, 0.43388429752066116, 0.46938775510204084, 0.5020408163265306, 0.45217391304347826], \"x\": 14, \"line\": {\"color\": \"rgb(107,174,214)\"}, \"type\": \"box\", \"boxpoints\": \"suspectedoutliers\"}, {\"showlegend\": false, \"name\": 15, \"marker\": {\"color\": \"rgb(107,174,214)\", \"outliercolor\": \"rgba(219, 64, 82, 0.6)\", \"line\": {\"outlierwidth\": 2, \"outliercolor\": \"rgba(219, 64, 82, 0.6)\"}}, \"y\": [0.3463035019455253, 0.5428571428571428, 0.51171875, 0.4804270462633452, 0.47674418604651164, 0.43023255813953487, 0.4782608695652174, 0.4344262295081967, 0.46779661016949153, 0.5061224489795918, 0.45021645021645024], \"x\": 15, \"line\": {\"color\": \"rgb(107,174,214)\"}, \"type\": \"box\", \"boxpoints\": \"suspectedoutliers\"}, {\"showlegend\": false, \"name\": 16, \"marker\": {\"color\": \"rgb(107,174,214)\", \"outliercolor\": \"rgba(219, 64, 82, 0.6)\", \"line\": {\"outlierwidth\": 2, \"outliercolor\": \"rgba(219, 64, 82, 0.6)\"}}, \"y\": [0.3540856031128405, 0.5409836065573771, 0.515625, 0.4804270462633452, 0.4826254826254826, 0.4362934362934363, 0.4826086956521739, 0.4385245901639344, 0.46621621621621623, 0.5142857142857142, 0.45021645021645024], \"x\": 16, \"line\": {\"color\": \"rgb(107,174,214)\"}, \"type\": \"box\", \"boxpoints\": \"suspectedoutliers\"}, {\"showlegend\": false, \"name\": 17, \"marker\": {\"color\": \"rgb(107,174,214)\", \"outliercolor\": \"rgba(219, 64, 82, 0.6)\", \"line\": {\"outlierwidth\": 2, \"outliercolor\": \"rgba(219, 64, 82, 0.6)\"}}, \"y\": [0.35546875, 0.5409836065573771, 0.5215686274509804, 0.4804270462633452, 0.49034749034749037, 0.4362934362934363, 0.4890829694323144, 0.43902439024390244, 0.4713804713804714, 0.5142857142857142, 0.45021645021645024], \"x\": 17, \"line\": {\"color\": \"rgb(107,174,214)\"}, \"type\": \"box\", \"boxpoints\": \"suspectedoutliers\"}, {\"showlegend\": false, \"name\": 18, \"marker\": {\"color\": \"rgb(107,174,214)\", \"outliercolor\": \"rgba(219, 64, 82, 0.6)\", \"line\": {\"outlierwidth\": 2, \"outliercolor\": \"rgba(219, 64, 82, 0.6)\"}}, \"y\": [0.35546875, 0.5346938775510204, 0.5333333333333333, 0.48226950354609927, 0.48846153846153845, 0.4555984555984556, 0.48695652173913045, 0.43724696356275305, 0.4713804713804714, 0.5265306122448979, 0.45021645021645024], \"x\": 18, \"line\": {\"color\": \"rgb(107,174,214)\"}, \"type\": \"box\", \"boxpoints\": \"suspectedoutliers\"}, {\"showlegend\": false, \"name\": 19, \"marker\": {\"color\": \"rgb(107,174,214)\", \"outliercolor\": \"rgba(219, 64, 82, 0.6)\", \"line\": {\"outlierwidth\": 2, \"outliercolor\": \"rgba(219, 64, 82, 0.6)\"}}, \"y\": [0.36186770428015563, 0.5346938775510204, 0.54296875, 0.48936170212765956, 0.49230769230769234, 0.4594594594594595, 0.4978165938864629, 0.43373493975903615, 0.47474747474747475, 0.524390243902439, 0.45021645021645024], \"x\": 19, \"line\": {\"color\": \"rgb(107,174,214)\"}, \"type\": \"box\", \"boxpoints\": \"suspectedoutliers\"}, {\"showlegend\": false, \"name\": 20, \"marker\": {\"color\": \"rgb(107,174,214)\", \"outliercolor\": \"rgba(219, 64, 82, 0.6)\", \"line\": {\"outlierwidth\": 2, \"outliercolor\": \"rgba(219, 64, 82, 0.6)\"}}, \"y\": [0.3671875, 0.5447154471544715, 0.5408560311284046, 0.4929078014184397, 0.4942528735632184, 0.46332046332046334, 0.4956521739130435, 0.436, 0.4781144781144781, 0.524390243902439, 0.45021645021645024], \"x\": 20, \"line\": {\"color\": \"rgb(107,174,214)\"}, \"type\": \"box\", \"boxpoints\": \"suspectedoutliers\"}, {\"showlegend\": false, \"name\": 21, \"marker\": {\"color\": \"rgb(107,174,214)\", \"outliercolor\": \"rgba(219, 64, 82, 0.6)\", \"line\": {\"outlierwidth\": 2, \"outliercolor\": \"rgba(219, 64, 82, 0.6)\"}}, \"y\": [0.36964980544747084, 0.5447154471544715, 0.5503875968992248, 0.4911660777385159, 0.49808429118773945, 0.46332046332046334, 0.5043478260869565, 0.44223107569721115, 0.48148148148148145, 0.5241935483870968, 0.45217391304347826], \"x\": 21, \"line\": {\"color\": \"rgb(107,174,214)\"}, \"type\": \"box\", \"boxpoints\": \"suspectedoutliers\"}, {\"showlegend\": false, \"name\": 22, \"marker\": {\"color\": \"rgb(107,174,214)\", \"outliercolor\": \"rgba(219, 64, 82, 0.6)\", \"line\": {\"outlierwidth\": 2, \"outliercolor\": \"rgba(219, 64, 82, 0.6)\"}}, \"y\": [0.36538461538461536, 0.5487804878048781, 0.5542635658914729, 0.49823321554770317, 0.5019157088122606, 0.4728682170542636, 0.5129310344827587, 0.44223107569721115, 0.48986486486486486, 0.5241935483870968, 0.45454545454545453], \"x\": 22, \"line\": {\"color\": \"rgb(107,174,214)\"}, \"type\": \"box\", \"boxpoints\": \"suspectedoutliers\"}, {\"showlegend\": false, \"name\": 23, \"marker\": {\"color\": \"rgb(107,174,214)\", \"outliercolor\": \"rgba(219, 64, 82, 0.6)\", \"line\": {\"outlierwidth\": 2, \"outliercolor\": \"rgba(219, 64, 82, 0.6)\"}}, \"y\": [0.367816091954023, 0.5528455284552846, 0.5581395348837209, 0.4964788732394366, 0.5057471264367817, 0.4728682170542636, 0.5172413793103449, 0.44223107569721115, 0.5, 0.5220883534136547, 0.4588744588744589], \"x\": 23, \"line\": {\"color\": \"rgb(107,174,214)\"}, \"type\": \"box\", \"boxpoints\": \"suspectedoutliers\"}, {\"showlegend\": false, \"name\": 24, \"marker\": {\"color\": \"rgb(107,174,214)\", \"outliercolor\": \"rgba(219, 64, 82, 0.6)\", \"line\": {\"outlierwidth\": 2, \"outliercolor\": \"rgba(219, 64, 82, 0.6)\"}}, \"y\": [0.37404580152671757, 0.5524193548387096, 0.56640625, 0.4964788732394366, 0.5095785440613027, 0.47674418604651164, 0.51931330472103, 0.444, 0.5100671140939598, 0.52, 0.4588744588744589], \"x\": 24, \"line\": {\"color\": \"rgb(107,174,214)\"}, \"type\": \"box\", \"boxpoints\": \"suspectedoutliers\"}, {\"showlegend\": false, \"name\": 25, \"marker\": {\"color\": \"rgb(107,174,214)\", \"outliercolor\": \"rgba(219, 64, 82, 0.6)\", \"line\": {\"outlierwidth\": 2, \"outliercolor\": \"rgba(219, 64, 82, 0.6)\"}}, \"y\": [0.37404580152671757, 0.556, 0.5708661417322834, 0.5017667844522968, 0.5116279069767442, 0.48046875, 0.5236051502145923, 0.44621513944223107, 0.5100671140939598, 0.5219123505976095, 0.4652173913043478], \"x\": 25, \"line\": {\"color\": \"rgb(107,174,214)\"}, \"type\": \"box\", \"boxpoints\": \"suspectedoutliers\"}, {\"showlegend\": false, \"name\": 26, \"marker\": {\"color\": \"rgb(107,174,214)\", \"outliercolor\": \"rgba(219, 64, 82, 0.6)\", \"line\": {\"outlierwidth\": 2, \"outliercolor\": \"rgba(219, 64, 82, 0.6)\"}}, \"y\": [0.37547892720306514, 0.56, 0.5708661417322834, 0.5017667844522968, 0.5173745173745173, 0.48627450980392156, 0.5278969957081545, 0.450199203187251, 0.5134228187919463, 0.5258964143426295, 0.4652173913043478], \"x\": 26, \"line\": {\"color\": \"rgb(107,174,214)\"}, \"type\": \"box\", \"boxpoints\": \"suspectedoutliers\"}, {\"showlegend\": false, \"name\": 27, \"marker\": {\"color\": \"rgb(107,174,214)\", \"outliercolor\": \"rgba(219, 64, 82, 0.6)\", \"line\": {\"outlierwidth\": 2, \"outliercolor\": \"rgba(219, 64, 82, 0.6)\"}}, \"y\": [0.37404580152671757, 0.5577689243027888, 0.5708661417322834, 0.508833922261484, 0.5269230769230769, 0.48828125, 0.5341880341880342, 0.46215139442231074, 0.5168918918918919, 0.5381526104417671, 0.47391304347826085], \"x\": 27, \"line\": {\"color\": \"rgb(107,174,214)\"}, \"type\": \"box\", \"boxpoints\": \"suspectedoutliers\"}, {\"showlegend\": false, \"name\": 28, \"marker\": {\"color\": \"rgb(107,174,214)\", \"outliercolor\": \"rgba(219, 64, 82, 0.6)\", \"line\": {\"outlierwidth\": 2, \"outliercolor\": \"rgba(219, 64, 82, 0.6)\"}}, \"y\": [0.3793103448275862, 0.5555555555555556, 0.56640625, 0.5053003533568905, 0.5209125475285171, 0.49609375, 0.5450643776824035, 0.4603174603174603, 0.5134228187919463, 0.544, 0.47391304347826085], \"x\": 28, \"line\": {\"color\": \"rgb(107,174,214)\"}, \"type\": \"box\", \"boxpoints\": \"suspectedoutliers\"}, {\"showlegend\": false, \"name\": 29, \"marker\": {\"color\": \"rgb(107,174,214)\", \"outliercolor\": \"rgba(219, 64, 82, 0.6)\", \"line\": {\"outlierwidth\": 2, \"outliercolor\": \"rgba(219, 64, 82, 0.6)\"}}, \"y\": [0.3831417624521073, 0.5634920634920635, 0.5703125, 0.5140845070422535, 0.5227272727272727, 0.50390625, 0.5493562231759657, 0.4603174603174603, 0.5100671140939598, 0.545816733067729, 0.47391304347826085], \"x\": 29, \"line\": {\"color\": \"rgb(107,174,214)\"}, \"type\": \"box\", \"boxpoints\": \"suspectedoutliers\"}, {\"showlegend\": false, \"name\": 30, \"marker\": {\"color\": \"rgb(107,174,214)\", \"outliercolor\": \"rgba(219, 64, 82, 0.6)\", \"line\": {\"outlierwidth\": 2, \"outliercolor\": \"rgba(219, 64, 82, 0.6)\"}}, \"y\": [0.39543726235741444, 0.5674603174603174, 0.5680933852140078, 0.5140845070422535, 0.5245283018867924, 0.50390625, 0.5450643776824035, 0.46215139442231074, 0.5083612040133779, 0.5476190476190477, 0.4826086956521739], \"x\": 30, \"line\": {\"color\": \"rgb(107,174,214)\"}, \"type\": \"box\", \"boxpoints\": \"suspectedoutliers\"}, {\"showlegend\": false, \"name\": 31, \"marker\": {\"color\": \"rgb(107,174,214)\", \"outliercolor\": \"rgba(219, 64, 82, 0.6)\", \"line\": {\"outlierwidth\": 2, \"outliercolor\": \"rgba(219, 64, 82, 0.6)\"}}, \"y\": [0.39543726235741444, 0.5737051792828686, 0.57421875, 0.5140845070422535, 0.5300751879699248, 0.51171875, 0.5470085470085471, 0.47410358565737054, 0.5149501661129569, 0.5476190476190477, 0.49130434782608695], \"x\": 31, \"line\": {\"color\": \"rgb(107,174,214)\"}, \"type\": \"box\", \"boxpoints\": \"suspectedoutliers\"}, {\"showlegend\": false, \"name\": 32, \"marker\": {\"color\": \"rgb(107,174,214)\", \"outliercolor\": \"rgba(219, 64, 82, 0.6)\", \"line\": {\"outlierwidth\": 2, \"outliercolor\": \"rgba(219, 64, 82, 0.6)\"}}, \"y\": [0.3939393939393939, 0.58, 0.5719844357976653, 0.5211267605633803, 0.5283018867924528, 0.5136186770428015, 0.5470085470085471, 0.47808764940239046, 0.521594684385382, 0.549800796812749, 0.48917748917748916], \"x\": 32, \"line\": {\"color\": \"rgb(107,174,214)\"}, \"type\": \"box\", \"boxpoints\": \"suspectedoutliers\"}, {\"showlegend\": false, \"name\": 33, \"marker\": {\"color\": \"rgb(107,174,214)\", \"outliercolor\": \"rgba(219, 64, 82, 0.6)\", \"line\": {\"outlierwidth\": 2, \"outliercolor\": \"rgba(219, 64, 82, 0.6)\"}}, \"y\": [0.3977272727272727, 0.5753968253968254, 0.5719844357976653, 0.519298245614035, 0.5340909090909091, 0.5175097276264592, 0.5555555555555556, 0.47619047619047616, 0.5198675496688742, 0.552, 0.48497854077253216], \"x\": 33, \"line\": {\"color\": \"rgb(107,174,214)\"}, \"type\": \"box\", \"boxpoints\": \"suspectedoutliers\"}, {\"showlegend\": false, \"name\": 34, \"marker\": {\"color\": \"rgb(107,174,214)\", \"outliercolor\": \"rgba(219, 64, 82, 0.6)\", \"line\": {\"outlierwidth\": 2, \"outliercolor\": \"rgba(219, 64, 82, 0.6)\"}}, \"y\": [0.4053030303030303, 0.5748031496062992, 0.5697674418604651, 0.527972027972028, 0.5375939849624061, 0.5135135135135135, 0.5555555555555556, 0.4782608695652174, 0.53156146179402, 0.556, 0.4808510638297872], \"x\": 34, \"line\": {\"color\": \"rgb(107,174,214)\"}, \"type\": \"box\", \"boxpoints\": \"suspectedoutliers\"}, {\"showlegend\": false, \"name\": 35, \"marker\": {\"color\": \"rgb(107,174,214)\", \"outliercolor\": \"rgba(219, 64, 82, 0.6)\", \"line\": {\"outlierwidth\": 2, \"outliercolor\": \"rgba(219, 64, 82, 0.6)\"}}, \"y\": [0.40977443609022557, 0.5719844357976653, 0.5758754863813229, 0.527972027972028, 0.5451127819548872, 0.5135135135135135, 0.5598290598290598, 0.4782608695652174, 0.5348837209302325, 0.56, 0.4829059829059829], \"x\": 35, \"line\": {\"color\": \"rgb(107,174,214)\"}, \"type\": \"box\", \"boxpoints\": \"suspectedoutliers\"}, {\"showlegend\": false, \"name\": 36, \"marker\": {\"color\": \"rgb(107,174,214)\", \"outliercolor\": \"rgba(219, 64, 82, 0.6)\", \"line\": {\"outlierwidth\": 2, \"outliercolor\": \"rgba(219, 64, 82, 0.6)\"}}, \"y\": [0.41353383458646614, 0.57421875, 0.5797665369649806, 0.5314685314685315, 0.5485074626865671, 0.5153846153846153, 0.5574468085106383, 0.4745098039215686, 0.54, 0.5617529880478087, 0.4829059829059829], \"x\": 36, \"line\": {\"color\": \"rgb(107,174,214)\"}, \"type\": \"box\", \"boxpoints\": \"suspectedoutliers\"}, {\"showlegend\": false, \"name\": 37, \"marker\": {\"color\": \"rgb(107,174,214)\", \"outliercolor\": \"rgba(219, 64, 82, 0.6)\", \"line\": {\"outlierwidth\": 2, \"outliercolor\": \"rgba(219, 64, 82, 0.6)\"}}, \"y\": [0.41729323308270677, 0.5719844357976653, 0.5791505791505791, 0.534965034965035, 0.5485074626865671, 0.5172413793103449, 0.5598290598290598, 0.48031496062992124, 0.5448504983388704, 0.5617529880478087, 0.4808510638297872], \"x\": 37, \"line\": {\"color\": \"rgb(107,174,214)\"}, \"type\": \"box\", \"boxpoints\": \"suspectedoutliers\"}, {\"showlegend\": false, \"name\": 38, \"marker\": {\"color\": \"rgb(107,174,214)\", \"outliercolor\": \"rgba(219, 64, 82, 0.6)\", \"line\": {\"outlierwidth\": 2, \"outliercolor\": \"rgba(219, 64, 82, 0.6)\"}}, \"y\": [0.42641509433962266, 0.5719844357976653, 0.5791505791505791, 0.5400696864111498, 0.550185873605948, 0.5152671755725191, 0.5622317596566524, 0.48616600790513836, 0.5445544554455446, 0.5697211155378487, 0.4808510638297872], \"x\": 38, \"line\": {\"color\": \"rgb(107,174,214)\"}, \"type\": \"box\", \"boxpoints\": \"suspectedoutliers\"}, {\"showlegend\": false, \"name\": 39, \"marker\": {\"color\": \"rgb(107,174,214)\", \"outliercolor\": \"rgba(219, 64, 82, 0.6)\", \"line\": {\"outlierwidth\": 2, \"outliercolor\": \"rgba(219, 64, 82, 0.6)\"}}, \"y\": [0.42641509433962266, 0.5797665369649806, 0.5769230769230769, 0.5435540069686411, 0.5539033457249071, 0.5134099616858238, 0.5617021276595745, 0.4901185770750988, 0.5511551155115512, 0.5737051792828686, 0.4788135593220339], \"x\": 39, \"line\": {\"color\": \"rgb(107,174,214)\"}, \"type\": \"box\", \"boxpoints\": \"suspectedoutliers\"}, {\"showlegend\": false, \"name\": 40, \"marker\": {\"color\": \"rgb(107,174,214)\", \"outliercolor\": \"rgba(219, 64, 82, 0.6)\", \"line\": {\"outlierwidth\": 2, \"outliercolor\": \"rgba(219, 64, 82, 0.6)\"}}, \"y\": [0.4339622641509434, 0.5852713178294574, 0.5807692307692308, 0.548951048951049, 0.5518518518518518, 0.5209125475285171, 0.5683760683760684, 0.4921259842519685, 0.5544554455445545, 0.5776892430278885, 0.48717948717948717], \"x\": 40, \"line\": {\"color\": \"rgb(107,174,214)\"}, \"type\": \"box\", \"boxpoints\": \"suspectedoutliers\"}, {\"showlegend\": false, \"name\": 41, \"marker\": {\"color\": \"rgb(107,174,214)\", \"outliercolor\": \"rgba(219, 64, 82, 0.6)\", \"line\": {\"outlierwidth\": 2, \"outliercolor\": \"rgba(219, 64, 82, 0.6)\"}}, \"y\": [0.44696969696969696, 0.5852713178294574, 0.583011583011583, 0.5590277777777778, 0.5535055350553506, 0.5209125475285171, 0.5708154506437768, 0.49606299212598426, 0.5544554455445545, 0.5753968253968254, 0.49145299145299143], \"x\": 41, \"line\": {\"color\": \"rgb(107,174,214)\"}, \"type\": \"box\", \"boxpoints\": \"suspectedoutliers\"}, {\"showlegend\": false, \"name\": 42, \"marker\": {\"color\": \"rgb(107,174,214)\", \"outliercolor\": \"rgba(219, 64, 82, 0.6)\", \"line\": {\"outlierwidth\": 2, \"outliercolor\": \"rgba(219, 64, 82, 0.6)\"}}, \"y\": [0.45075757575757575, 0.583011583011583, 0.583011583011583, 0.5590277777777778, 0.5547445255474452, 0.5265151515151515, 0.575107296137339, 0.5, 0.555921052631579, 0.5793650793650794, 0.49572649572649574], \"x\": 42, \"line\": {\"color\": \"rgb(107,174,214)\"}, \"type\": \"box\", \"boxpoints\": \"suspectedoutliers\"}, {\"showlegend\": false, \"name\": 43, \"marker\": {\"color\": \"rgb(107,174,214)\", \"outliercolor\": \"rgba(219, 64, 82, 0.6)\", \"line\": {\"outlierwidth\": 2, \"outliercolor\": \"rgba(219, 64, 82, 0.6)\"}}, \"y\": [0.45454545454545453, 0.5868725868725869, 0.5852713178294574, 0.5570934256055363, 0.5547445255474452, 0.5207547169811321, 0.5775862068965517, 0.5039370078740157, 0.5625, 0.5793650793650794, 0.49572649572649574], \"x\": 43, \"line\": {\"color\": \"rgb(107,174,214)\"}, \"type\": \"box\", \"boxpoints\": \"suspectedoutliers\"}, {\"showlegend\": false, \"name\": 44, \"marker\": {\"color\": \"rgb(107,174,214)\", \"outliercolor\": \"rgba(219, 64, 82, 0.6)\", \"line\": {\"outlierwidth\": 2, \"outliercolor\": \"rgba(219, 64, 82, 0.6)\"}}, \"y\": [0.4621212121212121, 0.5846153846153846, 0.5914396887159533, 0.5567010309278351, 0.5547445255474452, 0.5227272727272727, 0.5775862068965517, 0.5098814229249012, 0.5625, 0.5793650793650794, 0.5021459227467812], \"x\": 44, \"line\": {\"color\": \"rgb(107,174,214)\"}, \"type\": \"box\", \"boxpoints\": \"suspectedoutliers\"}, {\"showlegend\": false, \"name\": 45, \"marker\": {\"color\": \"rgb(107,174,214)\", \"outliercolor\": \"rgba(219, 64, 82, 0.6)\", \"line\": {\"outlierwidth\": 2, \"outliercolor\": \"rgba(219, 64, 82, 0.6)\"}}, \"y\": [0.4621212121212121, 0.5823754789272031, 0.5992217898832685, 0.563573883161512, 0.5583941605839416, 0.5285171102661597, 0.5818965517241379, 0.5198412698412699, 0.5620915032679739, 0.5810276679841897, 0.4978723404255319], \"x\": 45, \"line\": {\"color\": \"rgb(107,174,214)\"}, \"type\": \"box\", \"boxpoints\": \"suspectedoutliers\"}, {\"showlegend\": false, \"name\": 46, \"marker\": {\"color\": \"rgb(107,174,214)\", \"outliercolor\": \"rgba(219, 64, 82, 0.6)\", \"line\": {\"outlierwidth\": 2, \"outliercolor\": \"rgba(219, 64, 82, 0.6)\"}}, \"y\": [0.4734848484848485, 0.583969465648855, 0.5968992248062015, 0.5620689655172414, 0.5656934306569343, 0.5378787878787878, 0.5818965517241379, 0.515748031496063, 0.5681818181818182, 0.5787401574803149, 0.4978723404255319], \"x\": 46, \"line\": {\"color\": \"rgb(107,174,214)\"}, \"type\": \"box\", \"boxpoints\": \"suspectedoutliers\"}, {\"showlegend\": false, \"name\": 47, \"marker\": {\"color\": \"rgb(107,174,214)\", \"outliercolor\": \"rgba(219, 64, 82, 0.6)\", \"line\": {\"outlierwidth\": 2, \"outliercolor\": \"rgba(219, 64, 82, 0.6)\"}}, \"y\": [0.4734848484848485, 0.5862068965517241, 0.6023166023166023, 0.5601374570446735, 0.5615942028985508, 0.5454545454545454, 0.5818965517241379, 0.5176470588235295, 0.5746753246753247, 0.57421875, 0.5064377682403434], \"x\": 47, \"line\": {\"color\": \"rgb(107,174,214)\"}, \"type\": \"box\", \"boxpoints\": \"suspectedoutliers\"}, {\"showlegend\": false, \"name\": \"Mean\", \"mode\": \"lines\", \"y\": [0.4251054851996712, 0.42753180726782075, 0.43064597449201975, 0.4325644051549615, 0.43478031553888313, 0.4355168897193988, 0.43881807581461824, 0.44233071604950297, 0.4481825851012854, 0.4507799055026146, 0.4536165311318904, 0.45642403134748144, 0.45919561133126, 0.4587183436877797, 0.46289674560940114, 0.46591870851736433, 0.46926289467154275, 0.47173445022468014, 0.4747414979667408, 0.4783240807488955, 0.48069213297558255, 0.48379559331310096, 0.48774652622477993, 0.4903936944835618, 0.4934479897638297, 0.4965265936673438, 0.49949033671821946, 0.5047287355607832, 0.5054815001398745, 0.5088304481679156, 0.510846794850009, 0.5158386664433154, 0.5176945746292957, 0.5185999580400551, 0.5210165544511202, 0.5236465740854669, 0.5254086649524689, 0.5269764268789405, 0.5296906588411322, 0.5317696892234708, 0.5365040444964561, 0.5397165603033196, 0.5421080109528735, 0.5434906197494322, 0.5458025224171287, 0.5488120880169455, 0.5511303293000668, 0.5530972732922073], \"x\": [1, 2, 3, 4, 5, 6, 7, 8, 9, 10, 11, 12, 13, 14, 15, 16, 17, 18, 19, 20, 21, 22, 23, 24, 25, 26, 27, 28, 29, 30, 31, 32, 33, 34, 35, 36, 37, 38, 39, 40, 41, 42, 43, 44, 45, 46, 47], \"type\": \"scatter\"}], {}, {\"linkText\": \"Export to plot.ly\", \"showLink\": true})});</script>"
      ],
      "text/vnd.plotly.v1+html": [
       "<div id=\"84ba9a36-b29e-40bb-b8f4-2afcbb3a4b99\" style=\"height: 525px; width: 100%;\" class=\"plotly-graph-div\"></div><script type=\"text/javascript\">require([\"plotly\"], function(Plotly) { window.PLOTLYENV=window.PLOTLYENV || {};window.PLOTLYENV.BASE_URL=\"https://plot.ly\";Plotly.newPlot(\"84ba9a36-b29e-40bb-b8f4-2afcbb3a4b99\", [{\"showlegend\": false, \"name\": 0, \"marker\": {\"color\": \"rgb(107,174,214)\", \"outliercolor\": \"rgba(219, 64, 82, 0.6)\", \"line\": {\"outlierwidth\": 2, \"outliercolor\": \"rgba(219, 64, 82, 0.6)\"}}, \"y\": [0.33195020746887965, 0.5, 0.4624505928853755, 0.44485294117647056, 0.44015444015444016, 0.3950617283950617, 0.4349775784753363, 0.39662447257383965, 0.4195804195804196, 0.44081632653061226, 0.40969162995594716], \"x\": 0, \"line\": {\"color\": \"rgb(107,174,214)\"}, \"type\": \"box\", \"boxpoints\": \"suspectedoutliers\"}, {\"showlegend\": false, \"name\": 1, \"marker\": {\"color\": \"rgb(107,174,214)\", \"outliercolor\": \"rgba(219, 64, 82, 0.6)\", \"line\": {\"outlierwidth\": 2, \"outliercolor\": \"rgba(219, 64, 82, 0.6)\"}}, \"y\": [0.3347107438016529, 0.5085470085470085, 0.466403162055336, 0.4489051094890511, 0.444015444015444, 0.39344262295081966, 0.4311111111111111, 0.4008438818565401, 0.42160278745644597, 0.44715447154471544, 0.40611353711790393], \"x\": 1, \"line\": {\"color\": \"rgb(107,174,214)\"}, \"type\": \"box\", \"boxpoints\": \"suspectedoutliers\"}, {\"showlegend\": false, \"name\": 2, \"marker\": {\"color\": \"rgb(107,174,214)\", \"outliercolor\": \"rgba(219, 64, 82, 0.6)\", \"line\": {\"outlierwidth\": 2, \"outliercolor\": \"rgba(219, 64, 82, 0.6)\"}}, \"y\": [0.3333333333333333, 0.5085470085470085, 0.466403162055336, 0.44727272727272727, 0.44787644787644787, 0.4008097165991903, 0.43555555555555553, 0.4092827004219409, 0.4201388888888889, 0.45121951219512196, 0.4166666666666667], \"x\": 2, \"line\": {\"color\": \"rgb(107,174,214)\"}, \"type\": \"box\", \"boxpoints\": \"suspectedoutliers\"}, {\"showlegend\": false, \"name\": 3, \"marker\": {\"color\": \"rgb(107,174,214)\", \"outliercolor\": \"rgba(219, 64, 82, 0.6)\", \"line\": {\"outlierwidth\": 2, \"outliercolor\": \"rgba(219, 64, 82, 0.6)\"}}, \"y\": [0.3360655737704918, 0.5085470085470085, 0.47035573122529645, 0.4492753623188406, 0.4496124031007752, 0.40160642570281124, 0.43555555555555553, 0.40756302521008403, 0.4236111111111111, 0.45934959349593496, 0.4166666666666667], \"x\": 3, \"line\": {\"color\": \"rgb(107,174,214)\"}, \"type\": \"box\", \"boxpoints\": \"suspectedoutliers\"}, {\"showlegend\": false, \"name\": 4, \"marker\": {\"color\": \"rgb(107,174,214)\", \"outliercolor\": \"rgba(219, 64, 82, 0.6)\", \"line\": {\"outlierwidth\": 2, \"outliercolor\": \"rgba(219, 64, 82, 0.6)\"}}, \"y\": [0.3333333333333333, 0.5085470085470085, 0.4801587301587302, 0.44765342960288806, 0.4496124031007752, 0.4007936507936508, 0.43805309734513276, 0.40585774058577406, 0.42560553633217996, 0.46938775510204084, 0.42358078602620086], \"x\": 4, \"line\": {\"color\": \"rgb(107,174,214)\"}, \"type\": \"box\", \"boxpoints\": \"suspectedoutliers\"}, {\"showlegend\": false, \"name\": 5, \"marker\": {\"color\": \"rgb(107,174,214)\", \"outliercolor\": \"rgba(219, 64, 82, 0.6)\", \"line\": {\"outlierwidth\": 2, \"outliercolor\": \"rgba(219, 64, 82, 0.6)\"}}, \"y\": [0.3319838056680162, 0.5063829787234042, 0.4801587301587302, 0.44765342960288806, 0.45348837209302323, 0.39920948616600793, 0.43612334801762115, 0.4083333333333333, 0.43252595155709345, 0.46938775510204084, 0.42543859649122806], \"x\": 5, \"line\": {\"color\": \"rgb(107,174,214)\"}, \"type\": \"box\", \"boxpoints\": \"suspectedoutliers\"}, {\"showlegend\": false, \"name\": 6, \"marker\": {\"color\": \"rgb(107,174,214)\", \"outliercolor\": \"rgba(219, 64, 82, 0.6)\", \"line\": {\"outlierwidth\": 2, \"outliercolor\": \"rgba(219, 64, 82, 0.6)\"}}, \"y\": [0.3360323886639676, 0.5042372881355932, 0.48412698412698413, 0.44765342960288806, 0.46124031007751937, 0.4094488188976378, 0.44493392070484583, 0.4066390041493776, 0.4359861591695502, 0.46938775510204084, 0.42731277533039647], \"x\": 6, \"line\": {\"color\": \"rgb(107,174,214)\"}, \"type\": \"box\", \"boxpoints\": \"suspectedoutliers\"}, {\"showlegend\": false, \"name\": 7, \"marker\": {\"color\": \"rgb(107,174,214)\", \"outliercolor\": \"rgba(219, 64, 82, 0.6)\", \"line\": {\"outlierwidth\": 2, \"outliercolor\": \"rgba(219, 64, 82, 0.6)\"}}, \"y\": [0.3373493975903614, 0.510548523206751, 0.4801587301587302, 0.4460431654676259, 0.46511627906976744, 0.41732283464566927, 0.44933920704845814, 0.4066390041493776, 0.43944636678200694, 0.4775510204081633, 0.43612334801762115], \"x\": 7, \"line\": {\"color\": \"rgb(107,174,214)\"}, \"type\": \"box\", \"boxpoints\": \"suspectedoutliers\"}, {\"showlegend\": false, \"name\": 8, \"marker\": {\"color\": \"rgb(107,174,214)\", \"outliercolor\": \"rgba(219, 64, 82, 0.6)\", \"line\": {\"outlierwidth\": 2, \"outliercolor\": \"rgba(219, 64, 82, 0.6)\"}}, \"y\": [0.3346613545816733, 0.5189873417721519, 0.4900398406374502, 0.4551971326164875, 0.4728682170542636, 0.41568627450980394, 0.4497816593886463, 0.42083333333333334, 0.4517241379310345, 0.4816326530612245, 0.43859649122807015], \"x\": 8, \"line\": {\"color\": \"rgb(107,174,214)\"}, \"type\": \"box\", \"boxpoints\": \"suspectedoutliers\"}, {\"showlegend\": false, \"name\": 9, \"marker\": {\"color\": \"rgb(107,174,214)\", \"outliercolor\": \"rgba(219, 64, 82, 0.6)\", \"line\": {\"outlierwidth\": 2, \"outliercolor\": \"rgba(219, 64, 82, 0.6)\"}}, \"y\": [0.3373015873015873, 0.5358649789029536, 0.4880952380952381, 0.46236559139784944, 0.47470817120622566, 0.4140625, 0.45652173913043476, 0.42083333333333334, 0.45051194539249145, 0.4816326530612245, 0.4366812227074236], \"x\": 9, \"line\": {\"color\": \"rgb(107,174,214)\"}, \"type\": \"box\", \"boxpoints\": \"suspectedoutliers\"}, {\"showlegend\": false, \"name\": 10, \"marker\": {\"color\": \"rgb(107,174,214)\", \"outliercolor\": \"rgba(219, 64, 82, 0.6)\", \"line\": {\"outlierwidth\": 2, \"outliercolor\": \"rgba(219, 64, 82, 0.6)\"}}, \"y\": [0.3412698412698413, 0.540084388185654, 0.49206349206349204, 0.4659498207885305, 0.4708171206225681, 0.41796875, 0.4652173913043478, 0.41841004184100417, 0.4489795918367347, 0.48360655737704916, 0.44541484716157204], \"x\": 10, \"line\": {\"color\": \"rgb(107,174,214)\"}, \"type\": \"box\", \"boxpoints\": \"suspectedoutliers\"}, {\"showlegend\": false, \"name\": 11, \"marker\": {\"color\": \"rgb(107,174,214)\", \"outliercolor\": \"rgba(219, 64, 82, 0.6)\", \"line\": {\"outlierwidth\": 2, \"outliercolor\": \"rgba(219, 64, 82, 0.6)\"}}, \"y\": [0.34375, 0.5439330543933054, 0.49407114624505927, 0.4714285714285714, 0.47470817120622566, 0.42578125, 0.4652173913043478, 0.4166666666666667, 0.4539249146757679, 0.48770491803278687, 0.4434782608695652], \"x\": 11, \"line\": {\"color\": \"rgb(107,174,214)\"}, \"type\": \"box\", \"boxpoints\": \"suspectedoutliers\"}, {\"showlegend\": false, \"name\": 12, \"marker\": {\"color\": \"rgb(107,174,214)\", \"outliercolor\": \"rgba(219, 64, 82, 0.6)\", \"line\": {\"outlierwidth\": 2, \"outliercolor\": \"rgba(219, 64, 82, 0.6)\"}}, \"y\": [0.34901960784313724, 0.5409836065573771, 0.49407114624505927, 0.4714285714285714, 0.47470817120622566, 0.4280155642023346, 0.4652173913043478, 0.42083333333333334, 0.46938775510204084, 0.48770491803278687, 0.4497816593886463], \"x\": 12, \"line\": {\"color\": \"rgb(107,174,214)\"}, \"type\": \"box\", \"boxpoints\": \"suspectedoutliers\"}, {\"showlegend\": false, \"name\": 13, \"marker\": {\"color\": \"rgb(107,174,214)\", \"outliercolor\": \"rgba(219, 64, 82, 0.6)\", \"line\": {\"outlierwidth\": 2, \"outliercolor\": \"rgba(219, 64, 82, 0.6)\"}}, \"y\": [0.34765625, 0.5387755102040817, 0.4980392156862745, 0.4767025089605735, 0.4689922480620155, 0.4280155642023346, 0.4652173913043478, 0.42083333333333334, 0.46598639455782315, 0.4897959183673469, 0.4458874458874459], \"x\": 13, \"line\": {\"color\": \"rgb(107,174,214)\"}, \"type\": \"box\", \"boxpoints\": \"suspectedoutliers\"}, {\"showlegend\": false, \"name\": 14, \"marker\": {\"color\": \"rgb(107,174,214)\", \"outliercolor\": \"rgba(219, 64, 82, 0.6)\", \"line\": {\"outlierwidth\": 2, \"outliercolor\": \"rgba(219, 64, 82, 0.6)\"}}, \"y\": [0.3463035019455253, 0.5428571428571428, 0.50390625, 0.47686832740213525, 0.4728682170542636, 0.4263565891472868, 0.4652173913043478, 0.43388429752066116, 0.46938775510204084, 0.5020408163265306, 0.45217391304347826], \"x\": 14, \"line\": {\"color\": \"rgb(107,174,214)\"}, \"type\": \"box\", \"boxpoints\": \"suspectedoutliers\"}, {\"showlegend\": false, \"name\": 15, \"marker\": {\"color\": \"rgb(107,174,214)\", \"outliercolor\": \"rgba(219, 64, 82, 0.6)\", \"line\": {\"outlierwidth\": 2, \"outliercolor\": \"rgba(219, 64, 82, 0.6)\"}}, \"y\": [0.3463035019455253, 0.5428571428571428, 0.51171875, 0.4804270462633452, 0.47674418604651164, 0.43023255813953487, 0.4782608695652174, 0.4344262295081967, 0.46779661016949153, 0.5061224489795918, 0.45021645021645024], \"x\": 15, \"line\": {\"color\": \"rgb(107,174,214)\"}, \"type\": \"box\", \"boxpoints\": \"suspectedoutliers\"}, {\"showlegend\": false, \"name\": 16, \"marker\": {\"color\": \"rgb(107,174,214)\", \"outliercolor\": \"rgba(219, 64, 82, 0.6)\", \"line\": {\"outlierwidth\": 2, \"outliercolor\": \"rgba(219, 64, 82, 0.6)\"}}, \"y\": [0.3540856031128405, 0.5409836065573771, 0.515625, 0.4804270462633452, 0.4826254826254826, 0.4362934362934363, 0.4826086956521739, 0.4385245901639344, 0.46621621621621623, 0.5142857142857142, 0.45021645021645024], \"x\": 16, \"line\": {\"color\": \"rgb(107,174,214)\"}, \"type\": \"box\", \"boxpoints\": \"suspectedoutliers\"}, {\"showlegend\": false, \"name\": 17, \"marker\": {\"color\": \"rgb(107,174,214)\", \"outliercolor\": \"rgba(219, 64, 82, 0.6)\", \"line\": {\"outlierwidth\": 2, \"outliercolor\": \"rgba(219, 64, 82, 0.6)\"}}, \"y\": [0.35546875, 0.5409836065573771, 0.5215686274509804, 0.4804270462633452, 0.49034749034749037, 0.4362934362934363, 0.4890829694323144, 0.43902439024390244, 0.4713804713804714, 0.5142857142857142, 0.45021645021645024], \"x\": 17, \"line\": {\"color\": \"rgb(107,174,214)\"}, \"type\": \"box\", \"boxpoints\": \"suspectedoutliers\"}, {\"showlegend\": false, \"name\": 18, \"marker\": {\"color\": \"rgb(107,174,214)\", \"outliercolor\": \"rgba(219, 64, 82, 0.6)\", \"line\": {\"outlierwidth\": 2, \"outliercolor\": \"rgba(219, 64, 82, 0.6)\"}}, \"y\": [0.35546875, 0.5346938775510204, 0.5333333333333333, 0.48226950354609927, 0.48846153846153845, 0.4555984555984556, 0.48695652173913045, 0.43724696356275305, 0.4713804713804714, 0.5265306122448979, 0.45021645021645024], \"x\": 18, \"line\": {\"color\": \"rgb(107,174,214)\"}, \"type\": \"box\", \"boxpoints\": \"suspectedoutliers\"}, {\"showlegend\": false, \"name\": 19, \"marker\": {\"color\": \"rgb(107,174,214)\", \"outliercolor\": \"rgba(219, 64, 82, 0.6)\", \"line\": {\"outlierwidth\": 2, \"outliercolor\": \"rgba(219, 64, 82, 0.6)\"}}, \"y\": [0.36186770428015563, 0.5346938775510204, 0.54296875, 0.48936170212765956, 0.49230769230769234, 0.4594594594594595, 0.4978165938864629, 0.43373493975903615, 0.47474747474747475, 0.524390243902439, 0.45021645021645024], \"x\": 19, \"line\": {\"color\": \"rgb(107,174,214)\"}, \"type\": \"box\", \"boxpoints\": \"suspectedoutliers\"}, {\"showlegend\": false, \"name\": 20, \"marker\": {\"color\": \"rgb(107,174,214)\", \"outliercolor\": \"rgba(219, 64, 82, 0.6)\", \"line\": {\"outlierwidth\": 2, \"outliercolor\": \"rgba(219, 64, 82, 0.6)\"}}, \"y\": [0.3671875, 0.5447154471544715, 0.5408560311284046, 0.4929078014184397, 0.4942528735632184, 0.46332046332046334, 0.4956521739130435, 0.436, 0.4781144781144781, 0.524390243902439, 0.45021645021645024], \"x\": 20, \"line\": {\"color\": \"rgb(107,174,214)\"}, \"type\": \"box\", \"boxpoints\": \"suspectedoutliers\"}, {\"showlegend\": false, \"name\": 21, \"marker\": {\"color\": \"rgb(107,174,214)\", \"outliercolor\": \"rgba(219, 64, 82, 0.6)\", \"line\": {\"outlierwidth\": 2, \"outliercolor\": \"rgba(219, 64, 82, 0.6)\"}}, \"y\": [0.36964980544747084, 0.5447154471544715, 0.5503875968992248, 0.4911660777385159, 0.49808429118773945, 0.46332046332046334, 0.5043478260869565, 0.44223107569721115, 0.48148148148148145, 0.5241935483870968, 0.45217391304347826], \"x\": 21, \"line\": {\"color\": \"rgb(107,174,214)\"}, \"type\": \"box\", \"boxpoints\": \"suspectedoutliers\"}, {\"showlegend\": false, \"name\": 22, \"marker\": {\"color\": \"rgb(107,174,214)\", \"outliercolor\": \"rgba(219, 64, 82, 0.6)\", \"line\": {\"outlierwidth\": 2, \"outliercolor\": \"rgba(219, 64, 82, 0.6)\"}}, \"y\": [0.36538461538461536, 0.5487804878048781, 0.5542635658914729, 0.49823321554770317, 0.5019157088122606, 0.4728682170542636, 0.5129310344827587, 0.44223107569721115, 0.48986486486486486, 0.5241935483870968, 0.45454545454545453], \"x\": 22, \"line\": {\"color\": \"rgb(107,174,214)\"}, \"type\": \"box\", \"boxpoints\": \"suspectedoutliers\"}, {\"showlegend\": false, \"name\": 23, \"marker\": {\"color\": \"rgb(107,174,214)\", \"outliercolor\": \"rgba(219, 64, 82, 0.6)\", \"line\": {\"outlierwidth\": 2, \"outliercolor\": \"rgba(219, 64, 82, 0.6)\"}}, \"y\": [0.367816091954023, 0.5528455284552846, 0.5581395348837209, 0.4964788732394366, 0.5057471264367817, 0.4728682170542636, 0.5172413793103449, 0.44223107569721115, 0.5, 0.5220883534136547, 0.4588744588744589], \"x\": 23, \"line\": {\"color\": \"rgb(107,174,214)\"}, \"type\": \"box\", \"boxpoints\": \"suspectedoutliers\"}, {\"showlegend\": false, \"name\": 24, \"marker\": {\"color\": \"rgb(107,174,214)\", \"outliercolor\": \"rgba(219, 64, 82, 0.6)\", \"line\": {\"outlierwidth\": 2, \"outliercolor\": \"rgba(219, 64, 82, 0.6)\"}}, \"y\": [0.37404580152671757, 0.5524193548387096, 0.56640625, 0.4964788732394366, 0.5095785440613027, 0.47674418604651164, 0.51931330472103, 0.444, 0.5100671140939598, 0.52, 0.4588744588744589], \"x\": 24, \"line\": {\"color\": \"rgb(107,174,214)\"}, \"type\": \"box\", \"boxpoints\": \"suspectedoutliers\"}, {\"showlegend\": false, \"name\": 25, \"marker\": {\"color\": \"rgb(107,174,214)\", \"outliercolor\": \"rgba(219, 64, 82, 0.6)\", \"line\": {\"outlierwidth\": 2, \"outliercolor\": \"rgba(219, 64, 82, 0.6)\"}}, \"y\": [0.37404580152671757, 0.556, 0.5708661417322834, 0.5017667844522968, 0.5116279069767442, 0.48046875, 0.5236051502145923, 0.44621513944223107, 0.5100671140939598, 0.5219123505976095, 0.4652173913043478], \"x\": 25, \"line\": {\"color\": \"rgb(107,174,214)\"}, \"type\": \"box\", \"boxpoints\": \"suspectedoutliers\"}, {\"showlegend\": false, \"name\": 26, \"marker\": {\"color\": \"rgb(107,174,214)\", \"outliercolor\": \"rgba(219, 64, 82, 0.6)\", \"line\": {\"outlierwidth\": 2, \"outliercolor\": \"rgba(219, 64, 82, 0.6)\"}}, \"y\": [0.37547892720306514, 0.56, 0.5708661417322834, 0.5017667844522968, 0.5173745173745173, 0.48627450980392156, 0.5278969957081545, 0.450199203187251, 0.5134228187919463, 0.5258964143426295, 0.4652173913043478], \"x\": 26, \"line\": {\"color\": \"rgb(107,174,214)\"}, \"type\": \"box\", \"boxpoints\": \"suspectedoutliers\"}, {\"showlegend\": false, \"name\": 27, \"marker\": {\"color\": \"rgb(107,174,214)\", \"outliercolor\": \"rgba(219, 64, 82, 0.6)\", \"line\": {\"outlierwidth\": 2, \"outliercolor\": \"rgba(219, 64, 82, 0.6)\"}}, \"y\": [0.37404580152671757, 0.5577689243027888, 0.5708661417322834, 0.508833922261484, 0.5269230769230769, 0.48828125, 0.5341880341880342, 0.46215139442231074, 0.5168918918918919, 0.5381526104417671, 0.47391304347826085], \"x\": 27, \"line\": {\"color\": \"rgb(107,174,214)\"}, \"type\": \"box\", \"boxpoints\": \"suspectedoutliers\"}, {\"showlegend\": false, \"name\": 28, \"marker\": {\"color\": \"rgb(107,174,214)\", \"outliercolor\": \"rgba(219, 64, 82, 0.6)\", \"line\": {\"outlierwidth\": 2, \"outliercolor\": \"rgba(219, 64, 82, 0.6)\"}}, \"y\": [0.3793103448275862, 0.5555555555555556, 0.56640625, 0.5053003533568905, 0.5209125475285171, 0.49609375, 0.5450643776824035, 0.4603174603174603, 0.5134228187919463, 0.544, 0.47391304347826085], \"x\": 28, \"line\": {\"color\": \"rgb(107,174,214)\"}, \"type\": \"box\", \"boxpoints\": \"suspectedoutliers\"}, {\"showlegend\": false, \"name\": 29, \"marker\": {\"color\": \"rgb(107,174,214)\", \"outliercolor\": \"rgba(219, 64, 82, 0.6)\", \"line\": {\"outlierwidth\": 2, \"outliercolor\": \"rgba(219, 64, 82, 0.6)\"}}, \"y\": [0.3831417624521073, 0.5634920634920635, 0.5703125, 0.5140845070422535, 0.5227272727272727, 0.50390625, 0.5493562231759657, 0.4603174603174603, 0.5100671140939598, 0.545816733067729, 0.47391304347826085], \"x\": 29, \"line\": {\"color\": \"rgb(107,174,214)\"}, \"type\": \"box\", \"boxpoints\": \"suspectedoutliers\"}, {\"showlegend\": false, \"name\": 30, \"marker\": {\"color\": \"rgb(107,174,214)\", \"outliercolor\": \"rgba(219, 64, 82, 0.6)\", \"line\": {\"outlierwidth\": 2, \"outliercolor\": \"rgba(219, 64, 82, 0.6)\"}}, \"y\": [0.39543726235741444, 0.5674603174603174, 0.5680933852140078, 0.5140845070422535, 0.5245283018867924, 0.50390625, 0.5450643776824035, 0.46215139442231074, 0.5083612040133779, 0.5476190476190477, 0.4826086956521739], \"x\": 30, \"line\": {\"color\": \"rgb(107,174,214)\"}, \"type\": \"box\", \"boxpoints\": \"suspectedoutliers\"}, {\"showlegend\": false, \"name\": 31, \"marker\": {\"color\": \"rgb(107,174,214)\", \"outliercolor\": \"rgba(219, 64, 82, 0.6)\", \"line\": {\"outlierwidth\": 2, \"outliercolor\": \"rgba(219, 64, 82, 0.6)\"}}, \"y\": [0.39543726235741444, 0.5737051792828686, 0.57421875, 0.5140845070422535, 0.5300751879699248, 0.51171875, 0.5470085470085471, 0.47410358565737054, 0.5149501661129569, 0.5476190476190477, 0.49130434782608695], \"x\": 31, \"line\": {\"color\": \"rgb(107,174,214)\"}, \"type\": \"box\", \"boxpoints\": \"suspectedoutliers\"}, {\"showlegend\": false, \"name\": 32, \"marker\": {\"color\": \"rgb(107,174,214)\", \"outliercolor\": \"rgba(219, 64, 82, 0.6)\", \"line\": {\"outlierwidth\": 2, \"outliercolor\": \"rgba(219, 64, 82, 0.6)\"}}, \"y\": [0.3939393939393939, 0.58, 0.5719844357976653, 0.5211267605633803, 0.5283018867924528, 0.5136186770428015, 0.5470085470085471, 0.47808764940239046, 0.521594684385382, 0.549800796812749, 0.48917748917748916], \"x\": 32, \"line\": {\"color\": \"rgb(107,174,214)\"}, \"type\": \"box\", \"boxpoints\": \"suspectedoutliers\"}, {\"showlegend\": false, \"name\": 33, \"marker\": {\"color\": \"rgb(107,174,214)\", \"outliercolor\": \"rgba(219, 64, 82, 0.6)\", \"line\": {\"outlierwidth\": 2, \"outliercolor\": \"rgba(219, 64, 82, 0.6)\"}}, \"y\": [0.3977272727272727, 0.5753968253968254, 0.5719844357976653, 0.519298245614035, 0.5340909090909091, 0.5175097276264592, 0.5555555555555556, 0.47619047619047616, 0.5198675496688742, 0.552, 0.48497854077253216], \"x\": 33, \"line\": {\"color\": \"rgb(107,174,214)\"}, \"type\": \"box\", \"boxpoints\": \"suspectedoutliers\"}, {\"showlegend\": false, \"name\": 34, \"marker\": {\"color\": \"rgb(107,174,214)\", \"outliercolor\": \"rgba(219, 64, 82, 0.6)\", \"line\": {\"outlierwidth\": 2, \"outliercolor\": \"rgba(219, 64, 82, 0.6)\"}}, \"y\": [0.4053030303030303, 0.5748031496062992, 0.5697674418604651, 0.527972027972028, 0.5375939849624061, 0.5135135135135135, 0.5555555555555556, 0.4782608695652174, 0.53156146179402, 0.556, 0.4808510638297872], \"x\": 34, \"line\": {\"color\": \"rgb(107,174,214)\"}, \"type\": \"box\", \"boxpoints\": \"suspectedoutliers\"}, {\"showlegend\": false, \"name\": 35, \"marker\": {\"color\": \"rgb(107,174,214)\", \"outliercolor\": \"rgba(219, 64, 82, 0.6)\", \"line\": {\"outlierwidth\": 2, \"outliercolor\": \"rgba(219, 64, 82, 0.6)\"}}, \"y\": [0.40977443609022557, 0.5719844357976653, 0.5758754863813229, 0.527972027972028, 0.5451127819548872, 0.5135135135135135, 0.5598290598290598, 0.4782608695652174, 0.5348837209302325, 0.56, 0.4829059829059829], \"x\": 35, \"line\": {\"color\": \"rgb(107,174,214)\"}, \"type\": \"box\", \"boxpoints\": \"suspectedoutliers\"}, {\"showlegend\": false, \"name\": 36, \"marker\": {\"color\": \"rgb(107,174,214)\", \"outliercolor\": \"rgba(219, 64, 82, 0.6)\", \"line\": {\"outlierwidth\": 2, \"outliercolor\": \"rgba(219, 64, 82, 0.6)\"}}, \"y\": [0.41353383458646614, 0.57421875, 0.5797665369649806, 0.5314685314685315, 0.5485074626865671, 0.5153846153846153, 0.5574468085106383, 0.4745098039215686, 0.54, 0.5617529880478087, 0.4829059829059829], \"x\": 36, \"line\": {\"color\": \"rgb(107,174,214)\"}, \"type\": \"box\", \"boxpoints\": \"suspectedoutliers\"}, {\"showlegend\": false, \"name\": 37, \"marker\": {\"color\": \"rgb(107,174,214)\", \"outliercolor\": \"rgba(219, 64, 82, 0.6)\", \"line\": {\"outlierwidth\": 2, \"outliercolor\": \"rgba(219, 64, 82, 0.6)\"}}, \"y\": [0.41729323308270677, 0.5719844357976653, 0.5791505791505791, 0.534965034965035, 0.5485074626865671, 0.5172413793103449, 0.5598290598290598, 0.48031496062992124, 0.5448504983388704, 0.5617529880478087, 0.4808510638297872], \"x\": 37, \"line\": {\"color\": \"rgb(107,174,214)\"}, \"type\": \"box\", \"boxpoints\": \"suspectedoutliers\"}, {\"showlegend\": false, \"name\": 38, \"marker\": {\"color\": \"rgb(107,174,214)\", \"outliercolor\": \"rgba(219, 64, 82, 0.6)\", \"line\": {\"outlierwidth\": 2, \"outliercolor\": \"rgba(219, 64, 82, 0.6)\"}}, \"y\": [0.42641509433962266, 0.5719844357976653, 0.5791505791505791, 0.5400696864111498, 0.550185873605948, 0.5152671755725191, 0.5622317596566524, 0.48616600790513836, 0.5445544554455446, 0.5697211155378487, 0.4808510638297872], \"x\": 38, \"line\": {\"color\": \"rgb(107,174,214)\"}, \"type\": \"box\", \"boxpoints\": \"suspectedoutliers\"}, {\"showlegend\": false, \"name\": 39, \"marker\": {\"color\": \"rgb(107,174,214)\", \"outliercolor\": \"rgba(219, 64, 82, 0.6)\", \"line\": {\"outlierwidth\": 2, \"outliercolor\": \"rgba(219, 64, 82, 0.6)\"}}, \"y\": [0.42641509433962266, 0.5797665369649806, 0.5769230769230769, 0.5435540069686411, 0.5539033457249071, 0.5134099616858238, 0.5617021276595745, 0.4901185770750988, 0.5511551155115512, 0.5737051792828686, 0.4788135593220339], \"x\": 39, \"line\": {\"color\": \"rgb(107,174,214)\"}, \"type\": \"box\", \"boxpoints\": \"suspectedoutliers\"}, {\"showlegend\": false, \"name\": 40, \"marker\": {\"color\": \"rgb(107,174,214)\", \"outliercolor\": \"rgba(219, 64, 82, 0.6)\", \"line\": {\"outlierwidth\": 2, \"outliercolor\": \"rgba(219, 64, 82, 0.6)\"}}, \"y\": [0.4339622641509434, 0.5852713178294574, 0.5807692307692308, 0.548951048951049, 0.5518518518518518, 0.5209125475285171, 0.5683760683760684, 0.4921259842519685, 0.5544554455445545, 0.5776892430278885, 0.48717948717948717], \"x\": 40, \"line\": {\"color\": \"rgb(107,174,214)\"}, \"type\": \"box\", \"boxpoints\": \"suspectedoutliers\"}, {\"showlegend\": false, \"name\": 41, \"marker\": {\"color\": \"rgb(107,174,214)\", \"outliercolor\": \"rgba(219, 64, 82, 0.6)\", \"line\": {\"outlierwidth\": 2, \"outliercolor\": \"rgba(219, 64, 82, 0.6)\"}}, \"y\": [0.44696969696969696, 0.5852713178294574, 0.583011583011583, 0.5590277777777778, 0.5535055350553506, 0.5209125475285171, 0.5708154506437768, 0.49606299212598426, 0.5544554455445545, 0.5753968253968254, 0.49145299145299143], \"x\": 41, \"line\": {\"color\": \"rgb(107,174,214)\"}, \"type\": \"box\", \"boxpoints\": \"suspectedoutliers\"}, {\"showlegend\": false, \"name\": 42, \"marker\": {\"color\": \"rgb(107,174,214)\", \"outliercolor\": \"rgba(219, 64, 82, 0.6)\", \"line\": {\"outlierwidth\": 2, \"outliercolor\": \"rgba(219, 64, 82, 0.6)\"}}, \"y\": [0.45075757575757575, 0.583011583011583, 0.583011583011583, 0.5590277777777778, 0.5547445255474452, 0.5265151515151515, 0.575107296137339, 0.5, 0.555921052631579, 0.5793650793650794, 0.49572649572649574], \"x\": 42, \"line\": {\"color\": \"rgb(107,174,214)\"}, \"type\": \"box\", \"boxpoints\": \"suspectedoutliers\"}, {\"showlegend\": false, \"name\": 43, \"marker\": {\"color\": \"rgb(107,174,214)\", \"outliercolor\": \"rgba(219, 64, 82, 0.6)\", \"line\": {\"outlierwidth\": 2, \"outliercolor\": \"rgba(219, 64, 82, 0.6)\"}}, \"y\": [0.45454545454545453, 0.5868725868725869, 0.5852713178294574, 0.5570934256055363, 0.5547445255474452, 0.5207547169811321, 0.5775862068965517, 0.5039370078740157, 0.5625, 0.5793650793650794, 0.49572649572649574], \"x\": 43, \"line\": {\"color\": \"rgb(107,174,214)\"}, \"type\": \"box\", \"boxpoints\": \"suspectedoutliers\"}, {\"showlegend\": false, \"name\": 44, \"marker\": {\"color\": \"rgb(107,174,214)\", \"outliercolor\": \"rgba(219, 64, 82, 0.6)\", \"line\": {\"outlierwidth\": 2, \"outliercolor\": \"rgba(219, 64, 82, 0.6)\"}}, \"y\": [0.4621212121212121, 0.5846153846153846, 0.5914396887159533, 0.5567010309278351, 0.5547445255474452, 0.5227272727272727, 0.5775862068965517, 0.5098814229249012, 0.5625, 0.5793650793650794, 0.5021459227467812], \"x\": 44, \"line\": {\"color\": \"rgb(107,174,214)\"}, \"type\": \"box\", \"boxpoints\": \"suspectedoutliers\"}, {\"showlegend\": false, \"name\": 45, \"marker\": {\"color\": \"rgb(107,174,214)\", \"outliercolor\": \"rgba(219, 64, 82, 0.6)\", \"line\": {\"outlierwidth\": 2, \"outliercolor\": \"rgba(219, 64, 82, 0.6)\"}}, \"y\": [0.4621212121212121, 0.5823754789272031, 0.5992217898832685, 0.563573883161512, 0.5583941605839416, 0.5285171102661597, 0.5818965517241379, 0.5198412698412699, 0.5620915032679739, 0.5810276679841897, 0.4978723404255319], \"x\": 45, \"line\": {\"color\": \"rgb(107,174,214)\"}, \"type\": \"box\", \"boxpoints\": \"suspectedoutliers\"}, {\"showlegend\": false, \"name\": 46, \"marker\": {\"color\": \"rgb(107,174,214)\", \"outliercolor\": \"rgba(219, 64, 82, 0.6)\", \"line\": {\"outlierwidth\": 2, \"outliercolor\": \"rgba(219, 64, 82, 0.6)\"}}, \"y\": [0.4734848484848485, 0.583969465648855, 0.5968992248062015, 0.5620689655172414, 0.5656934306569343, 0.5378787878787878, 0.5818965517241379, 0.515748031496063, 0.5681818181818182, 0.5787401574803149, 0.4978723404255319], \"x\": 46, \"line\": {\"color\": \"rgb(107,174,214)\"}, \"type\": \"box\", \"boxpoints\": \"suspectedoutliers\"}, {\"showlegend\": false, \"name\": 47, \"marker\": {\"color\": \"rgb(107,174,214)\", \"outliercolor\": \"rgba(219, 64, 82, 0.6)\", \"line\": {\"outlierwidth\": 2, \"outliercolor\": \"rgba(219, 64, 82, 0.6)\"}}, \"y\": [0.4734848484848485, 0.5862068965517241, 0.6023166023166023, 0.5601374570446735, 0.5615942028985508, 0.5454545454545454, 0.5818965517241379, 0.5176470588235295, 0.5746753246753247, 0.57421875, 0.5064377682403434], \"x\": 47, \"line\": {\"color\": \"rgb(107,174,214)\"}, \"type\": \"box\", \"boxpoints\": \"suspectedoutliers\"}, {\"showlegend\": false, \"name\": \"Mean\", \"mode\": \"lines\", \"y\": [0.4251054851996712, 0.42753180726782075, 0.43064597449201975, 0.4325644051549615, 0.43478031553888313, 0.4355168897193988, 0.43881807581461824, 0.44233071604950297, 0.4481825851012854, 0.4507799055026146, 0.4536165311318904, 0.45642403134748144, 0.45919561133126, 0.4587183436877797, 0.46289674560940114, 0.46591870851736433, 0.46926289467154275, 0.47173445022468014, 0.4747414979667408, 0.4783240807488955, 0.48069213297558255, 0.48379559331310096, 0.48774652622477993, 0.4903936944835618, 0.4934479897638297, 0.4965265936673438, 0.49949033671821946, 0.5047287355607832, 0.5054815001398745, 0.5088304481679156, 0.510846794850009, 0.5158386664433154, 0.5176945746292957, 0.5185999580400551, 0.5210165544511202, 0.5236465740854669, 0.5254086649524689, 0.5269764268789405, 0.5296906588411322, 0.5317696892234708, 0.5365040444964561, 0.5397165603033196, 0.5421080109528735, 0.5434906197494322, 0.5458025224171287, 0.5488120880169455, 0.5511303293000668, 0.5530972732922073], \"x\": [1, 2, 3, 4, 5, 6, 7, 8, 9, 10, 11, 12, 13, 14, 15, 16, 17, 18, 19, 20, 21, 22, 23, 24, 25, 26, 27, 28, 29, 30, 31, 32, 33, 34, 35, 36, 37, 38, 39, 40, 41, 42, 43, 44, 45, 46, 47], \"type\": \"scatter\"}], {}, {\"linkText\": \"Export to plot.ly\", \"showLink\": true})});</script>"
      ]
     },
     "metadata": {},
     "output_type": "display_data"
    }
   ],
   "source": [
    "drawList = ['Inc_c_Tot', 'Prv_Test','Prv_HIV','n_Relations','Inc_c_HF','Inc_c_HM','Prv_ART']\n",
    "for d in drawList:\n",
    "    drawThePlots(tMax.value, drawThis=d)"
   ]
  },
  {
   "cell_type": "code",
   "execution_count": null,
   "metadata": {
    "scrolled": false
   },
   "outputs": [],
   "source": [
    "for d in drawList:\n",
    "    drawThePlots(tMax.value, drawThis=d)"
   ]
  },
  {
   "cell_type": "code",
   "execution_count": null,
   "metadata": {},
   "outputs": [],
   "source": [
    "df.head()"
   ]
  },
  {
   "cell_type": "markdown",
   "metadata": {
    "extensions": {
     "jupyter_dashboards": {
      "version": 1,
      "views": {
       "grid_default": {
        "col": 0,
        "height": 4,
        "hidden": true,
        "row": 27,
        "width": 12
       },
       "report_default": {}
      }
     }
    }
   },
   "source": [
    "def draw_Histogram():\n",
    "    data = [go.Bar(\n",
    "                y=(nx.degree_histogram(G)),\n",
    "        marker=dict(\n",
    "            color='rgb(49,130,189)'\n",
    "        )\n",
    "        )]\n",
    "    layout = go.Layout(\n",
    "        title='Partner Degree Distribution',\n",
    "        autosize=False,\n",
    "        width=400,\n",
    "        height=300,\n",
    "        margin=go.Margin(\n",
    "        l=50,\n",
    "        r=50,\n",
    "        b=50,\n",
    "        t=50,\n",
    "        pad=4\n",
    "    ),\n",
    "        xaxis=dict(\n",
    "            range=[-1,10],\n",
    "            tickfont=dict(\n",
    "                size=14,\n",
    "                color='rgb(107, 107, 107)'\n",
    "            )\n",
    "        ),\n",
    "        yaxis=dict(\n",
    "            title='Number of Agents (N)',\n",
    "            titlefont=dict(\n",
    "                size=16,\n",
    "                color='rgb(107, 107, 107)'\n",
    "            ),\n",
    "            tickfont=dict(\n",
    "                size=14,\n",
    "                color='rgb(107, 107, 107)'\n",
    "            )\n",
    "        ),\n",
    "        legend=dict(\n",
    "            x=0,\n",
    "            y=1.0,\n",
    "            bgcolor='rgba(255, 255, 255, 0)',\n",
    "            bordercolor='rgba(255, 255, 255, 0)'\n",
    "        ),\n",
    "        barmode='group',\n",
    "        bargap=0.15,\n",
    "        bargroupgap=0.1\n",
    "    )\n",
    "    fig = go.Figure(data=data, layout=layout)\n",
    "    iplot(fig)\n"
   ]
  },
  {
   "cell_type": "markdown",
   "metadata": {
    "extensions": {
     "jupyter_dashboards": {
      "version": 1,
      "views": {
       "grid_default": {
        "col": 0,
        "height": 5,
        "hidden": true,
        "row": 18,
        "width": 4
       },
       "report_default": {}
      }
     }
    }
   },
   "source": [
    "nx.degree_mixing_dict(G)"
   ]
  },
  {
   "cell_type": "markdown",
   "metadata": {
    "extensions": {
     "jupyter_dashboards": {
      "version": 1,
      "views": {
       "grid_default": {
        "hidden": true
       },
       "report_default": {}
      }
     }
    }
   },
   "source": [
    "nx.number_connected_components(G)\n",
    "nx.is_attracting_component(G)"
   ]
  },
  {
   "cell_type": "markdown",
   "metadata": {
    "extensions": {
     "jupyter_dashboards": {
      "version": 1,
      "views": {
       "grid_default": {
        "col": 8,
        "height": 66,
        "hidden": true,
        "row": 16,
        "width": 4
       },
       "report_default": {}
      }
     }
    }
   },
   "source": [
    "for a in nx.connected_components(G):\n",
    "    print len(a)\n",
    "    for p in a:\n",
    "        print p"
   ]
  },
  {
   "cell_type": "markdown",
   "metadata": {
    "extensions": {
     "jupyter_dashboards": {
      "version": 1,
      "views": {
       "grid_default": {
        "hidden": true
       },
       "report_default": {}
      }
     }
    }
   },
   "source": [
    "df = pd.read_csv(\"https://raw.githubusercontent.com/plotly/datasets/master/school_earnings.csv\")\n",
    "\n",
    "table = ff.create_table(df)\n",
    "iplot(table, filename='jupyter-table1')"
   ]
  }
 ],
 "metadata": {
  "extensions": {
   "jupyter_dashboards": {
    "activeView": "grid_default",
    "version": 1,
    "views": {
     "grid_default": {
      "cellMargin": 10,
      "defaultCellHeight": 20,
      "maxColumns": 12,
      "name": "grid",
      "type": "grid"
     },
     "report_default": {
      "name": "report",
      "type": "report"
     }
    }
   }
  },
  "kernelspec": {
   "display_name": "Python 2",
   "language": "python",
   "name": "python2"
  },
  "language_info": {
   "codemirror_mode": {
    "name": "ipython",
    "version": 2
   },
   "file_extension": ".py",
   "mimetype": "text/x-python",
   "name": "python",
   "nbconvert_exporter": "python",
   "pygments_lexer": "ipython2",
   "version": "2.7.12"
  }
 },
 "nbformat": 4,
 "nbformat_minor": 2
}
