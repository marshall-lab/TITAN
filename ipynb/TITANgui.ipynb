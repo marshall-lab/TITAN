{
 "cells": [
  {
   "cell_type": "markdown",
   "metadata": {
    "extensions": {
     "jupyter_dashboards": {
      "version": 1,
      "views": {
       "grid_default": {
        "col": 0,
        "height": 4,
        "hidden": true,
        "row": 15,
        "width": 4
       },
       "report_default": {}
      }
     }
    }
   },
   "source": [
    "Import all of the required packages for this notebook"
   ]
  },
  {
   "cell_type": "code",
   "execution_count": 1,
   "metadata": {
    "extensions": {
     "jupyter_dashboards": {
      "version": 1,
      "views": {
       "grid_default": {
        "hidden": true
       },
       "report_default": {
        "hidden": true
       }
      }
     }
    }
   },
   "outputs": [
    {
     "data": {
      "text/html": [
       "<script>requirejs.config({paths: { 'plotly': ['https://cdn.plot.ly/plotly-latest.min']},});if(!window.Plotly) {{require(['plotly'],function(plotly) {window.Plotly=plotly;});}}</script>"
      ],
      "text/vnd.plotly.v1+html": [
       "<script>requirejs.config({paths: { 'plotly': ['https://cdn.plot.ly/plotly-latest.min']},});if(!window.Plotly) {{require(['plotly'],function(plotly) {window.Plotly=plotly;});}}</script>"
      ]
     },
     "metadata": {},
     "output_type": "display_data"
    }
   ],
   "source": [
    "import sys \n",
    "import os\n",
    "import numpy as np\n",
    "import matplotlib.pyplot as plt\n",
    "import networkx as nx\n",
    "import pandas as pd\n",
    "import plotly.plotly as py\n",
    "import plotly.graph_objs as go\n",
    "import plotly.figure_factory as ff\n",
    "from plotly.offline import download_plotlyjs, init_notebook_mode, plot, iplot\n",
    "from ipywidgets import widgets, interact, interactive\n",
    "init_notebook_mode(connected=True)\n",
    "\n",
    "#sys.path.append(os.path.abspath(\"/Users/mk100/Documents/Code/TITAN/src\"))\n",
    "sys.path.append(os.path.relpath(\"../src\"))\n",
    "\n",
    "import ABM_core as tc\n",
    "import MP_simulation as tt\n",
    "import params\n",
    "import numpy as np"
   ]
  },
  {
   "cell_type": "code",
   "execution_count": 2,
   "metadata": {
    "extensions": {
     "jupyter_dashboards": {
      "version": 1,
      "views": {
       "grid_default": {
        "hidden": true
       },
       "report_default": {
        "hidden": true
       }
      }
     }
    },
    "scrolled": false
   },
   "outputs": [],
   "source": [
    "out = widgets.Output(layout={'border': '1px solid black'})\n",
    "out_network = widgets.Output(layout={'border': '1px solid black'})\n",
    "out_distrib = widgets.Output(layout={'border': '1px solid black'})\n",
    "out_df = widgets.Output(layout={'border': '1px solid black'})\n",
    "df = pd.DataFrame()\n",
    "RSLTS = {}"
   ]
  },
  {
   "cell_type": "code",
   "execution_count": 3,
   "metadata": {
    "extensions": {
     "jupyter_dashboards": {
      "version": 1,
      "views": {
       "grid_default": {
        "col": 0,
        "height": 14,
        "hidden": true,
        "row": 40,
        "width": 4
       },
       "report_default": {}
      }
     }
    },
    "scrolled": true
   },
   "outputs": [],
   "source": [
    "def setParams(burnDur, calSA, calSP, calNA, calNP, calMort, calRRDx, calRRArt,calPXmn,calIncar,calARTcov):\n",
    "    params.burnDuration=burnDur\n",
    "    params.cal_SexualActScaling=calSA\n",
    "    params.cal_SexualPartScaling=calSP\n",
    "    params.cal_NeedleActScaling=calNA\n",
    "    params.cal_NeedlePartScaling=calNP\n",
    "    params.cal_Mortality=calMort\n",
    "    params.cal_RR_Dx=calRRDx\n",
    "    params.cal_RR_HAART=calRRArt\n",
    "    params.cal_pXmissionScaling=calPXmn\n",
    "    params.cal_IncarP=calIncar\n",
    "    params.cal_ART_cov=calARTcov\n",
    "\n",
    "y=interactive(setParams,\n",
    "              burnDur=widgets.IntSlider(description='Burn',\n",
    "                                       continuous_update=False, \n",
    "                                       min=0, \n",
    "                                       value=params.burnDuration),\n",
    "              calSA=widgets.FloatSlider(description='Sex Acts',\n",
    "                                       continuous_update=False, \n",
    "                                       min=0., \n",
    "                                       max=3.0,\n",
    "                                       value=params.cal_SexualActScaling),\n",
    "              calSP=widgets.FloatSlider(description='Sex Ptns',\n",
    "                                       continuous_update=False, \n",
    "                                       min=0., \n",
    "                                       max=3.0,\n",
    "                                       value=params.cal_SexualPartScaling),\n",
    "              calNA=widgets.FloatSlider(description='Needle Acts',\n",
    "                                       continuous_update=False, \n",
    "                                       min=0., \n",
    "                                       max=3.0,\n",
    "                                       value=params.cal_NeedleActScaling),\n",
    "              calNP=widgets.FloatSlider(description='Needle Ptns',\n",
    "                                       continuous_update=False, \n",
    "                                       min=0., \n",
    "                                       max=3.0,\n",
    "                                       value=params.cal_NeedlePartScaling),\n",
    "              calMort=widgets.FloatSlider(description='Mortality',\n",
    "                                       continuous_update=False, \n",
    "                                       min=0., \n",
    "                                       max=3.0,\n",
    "                                       value=params.cal_Mortality),\n",
    "              calRRDx=widgets.FloatSlider(description='RR Dx',\n",
    "                                       continuous_update=False, \n",
    "                                       min=0., \n",
    "                                       max=3.0,\n",
    "                                       value=params.cal_RR_Dx),\n",
    "              calRRArt=widgets.FloatSlider(description='RR ART',\n",
    "                                       continuous_update=False, \n",
    "                                       min=0., \n",
    "                                       max=3.0,\n",
    "                                       value=params.cal_RR_HAART),\n",
    "              calPXmn=widgets.FloatSlider(description='P Xmission',\n",
    "                                       continuous_update=False, \n",
    "                                       min=0.,\n",
    "                                       max=3.0,\n",
    "                                       value=params.cal_pXmissionScaling),\n",
    "              calIncar=widgets.FloatSlider(description='P Incar',\n",
    "                                       continuous_update=False, \n",
    "                                       min=0., \n",
    "                                       max=3.0,\n",
    "                                       value=params.cal_IncarP),\n",
    "              calARTcov=widgets.FloatSlider(description='ART Cov',\n",
    "                                       continuous_update=False, \n",
    "                                       min=0.,\n",
    "                                       max=3.0,\n",
    "                                       value=params.cal_ART_cov),\n",
    "             )"
   ]
  },
  {
   "cell_type": "code",
   "execution_count": 4,
   "metadata": {
    "extensions": {
     "jupyter_dashboards": {
      "version": 1,
      "views": {
       "grid_default": {
        "hidden": true
       },
       "report_default": {}
      }
     }
    }
   },
   "outputs": [],
   "source": [
    "nMC = widgets.IntSlider(description='nMC',continuous_update=False, min=0, max=100, value=1)\n",
    "nPop = widgets.IntSlider(description='nPop',continuous_update=False, min=0, max=100000, value=100)\n",
    "tMax = widgets.IntSlider(description='tMax',continuous_update=False, min=0, max=120, value=12)\n",
    "seed = widgets.IntSlider(description='seed',continuous_update=False, min=-1,max=10, value=1)\n",
    "draw = widgets.Checkbox(description='Draw Network',value=True,disabled=False)\n",
    "uniqueseed = widgets.Checkbox(description='Unique Seed',value=False,disabled=False)\n",
    "ui_params = widgets.VBox([nMC, nPop, tMax, seed, draw,uniqueseed])\n",
    "\n",
    "\n",
    "\n",
    "prog = widgets.IntProgress(\n",
    "        value=0,\n",
    "        min=0,\n",
    "        max=tMax.value,\n",
    "        step=1,\n",
    "        description='Progress:',\n",
    "        bar_style='info'\n",
    "        )\n",
    "run = widgets.Button(\n",
    "    description='Run Model',\n",
    "    disabled=False,\n",
    "    button_style='success', # 'success', 'info', 'warning', 'danger' or ''\n",
    "    tooltip='Start model with given params',\n",
    "    icon='play'\n",
    ")\n",
    "reset = widgets.Button(\n",
    "    description='Reset',\n",
    "    disabled=False,\n",
    "    button_style='danger', # 'success', 'info', 'warning', 'danger' or ''\n",
    "    tooltip='Clear outputs',\n",
    "    icon='stop'\n",
    ")\n",
    "\n",
    "\n",
    "widgets.jslink((nMC, 'value'), (prog, 'max'))\n",
    "ui_buttons = widgets.HBox([run, reset])\n",
    "ui = widgets.VBox([ui_params, ui_buttons, prog])\n",
    "\n",
    "tab_nest = widgets.Tab()\n",
    "tab_nest.children = [ui,y]\n",
    "tab_nest.set_title(0, 'Main')\n",
    "tab_nest.set_title(1, 'Advanced Params')"
   ]
  },
  {
   "cell_type": "code",
   "execution_count": 5,
   "metadata": {
    "extensions": {
     "jupyter_dashboards": {
      "version": 1,
      "views": {
       "grid_default": {
        "col": 0,
        "height": 15,
        "hidden": true,
        "row": 14,
        "width": 8
       },
       "report_default": {
        "hidden": false
       }
      }
     }
    }
   },
   "outputs": [],
   "source": [
    "def on_run_clicked(b):\n",
    "    reset_outputs()\n",
    "    #tt.open_inputs()\n",
    "    #global SIM\n",
    "    global df\n",
    "    with out:\n",
    "        if nMC.value <= 1:\n",
    "            SIM = makeModel(nMC.value, nPop.value, tMax.value, seed.value)\n",
    "            SIM.run()\n",
    "            #SIM = tt.simulation(nMC.value, 1, tMax.value, nPop.value, \"\", {}, seed.value)\n",
    "            RSLTS = SIM.return_results()\n",
    "            print RSLTS\n",
    "            df.append(pd.DataFrame(RSLTS))\n",
    "        else:\n",
    "            for i in range(nMC.value+1):\n",
    "                SIM = makeModel(nMC.value, nPop.value, tMax.value, seed.value)\n",
    "                prog.value = i\n",
    "                SIM.run()\n",
    "                RSLTS = SIM.return_results()\n",
    "                df = df.append(pd.DataFrame(RSLTS))\n",
    "            #SIM = tt.simulation(nMC.value, 1, tMax.value, nPop.value, \"\", {}, seed.value)\n",
    "            #RSLTS = SIM.return_results()\n",
    "            #print RSLTS\n",
    "            #df.append(pd.DataFrame(RSLTS))\n",
    "            #RSLTS = tt.simulation(nMC.value, 1, tMax.value, nPop.value, \"\", {}, seed.value, uniqueSeed=uniqueseed.value)\n",
    "            #print RSLTS\n",
    "        #df = df.append(pd.DataFrame(RSLTS))\n",
    "        with out_distrib:\n",
    "            if draw.value:\n",
    "                for result_property in sorted(RSLTS):\n",
    "                    #print result_property, rslts[result_property]\n",
    "                    lists = sorted(RSLTS[result_property].items())\n",
    "                    if lists:\n",
    "                        x,y = zip(*lists)\n",
    "                        plt.title(\"%s vs Time\\nTime\"%(result_property))\n",
    "                        plt.xlabel(\"Time\")\n",
    "                        plt.plot(x,y)\n",
    "                        plt.xticks(np.arange(0, tMax.value+1, step=12))\n",
    "                        plt.show()\n",
    "\n",
    "                #draw_Histogram()\n",
    "        with out_network:\n",
    "            if draw.value:\n",
    "                #TMP.networkGraph.visualize_network(coloring='HIV',node_size=25)\n",
    "                #TMP.networkGraph.draw_histogram(t)\n",
    "                pass\n",
    "\n",
    "        #df = df.append(pd.DataFrame(RSLTS))\n",
    "        with out_df:\n",
    "            #Create table for dataframe\n",
    "            #table = ff.create_table(df)\n",
    "            #iplot(table)\n",
    "            \n",
    "            df.head()\n",
    "            for col in df.columns:\n",
    "                data = []\n",
    "                data.append(  go.Box( y=(df[col]), name=col, showlegend=False ) )\n",
    "                iplot(data)\n",
    "            #data.append( go.Scatter( x = df.columns, y = df.mean(), mode='lines', name='mean' ) )\n",
    "            \n",
    "            #plt.figure()\n",
    "            #bp = df.boxplot()\n",
    "\n",
    "def on_reset_clicked(b):\n",
    "    global df\n",
    "    df=pd.DataFrame()\n",
    "    reset_outputs()\n",
    "    tmp = seed.value\n",
    "    seed.value=0\n",
    "    seed.value=tmp\n",
    "    prog.value=0\n",
    "\n",
    "def reset_outputs():\n",
    "    outs = [out, out_network, out_distrib, out_df]\n",
    "    for o in outs:\n",
    "        o.clear_output()\n",
    "\n",
    "def makeModel(MC, N, T, S):\n",
    "    #global SIM\n",
    "    #global G\n",
    "    #TMP = tc.HIVModel(N, T, {}, S)\n",
    "#     if sysprint.value:\n",
    "#         tt.enablePrint()\n",
    "#     else:\n",
    "#         tt.blockPrint()\n",
    "    SIM = tt.HIVModel(N=nPop.value, tmax=tMax.value, parameter_dict={}, rseed=seed.value, \n",
    "                      runtime_diffseed=uniqueseed.value, model='ASDF', network_type='ASDF')\n",
    "    #TMP.TimeStep = 0\n",
    "    #G = TMP.networkGraph.G\n",
    "    return SIM\n",
    "\n",
    "\n",
    "run.on_click(on_run_clicked)\n",
    "reset.on_click(on_reset_clicked)\n",
    "widgets.jslink((tMax, 'value'), (prog, 'max'))\n",
    "init = widgets.interactive_output(makeModel, {'MC': nMC, 'N': nPop, 'T': tMax, 'S': seed})\n",
    "main = widgets.HBox([tab_nest, init])"
   ]
  },
  {
   "cell_type": "code",
   "execution_count": 6,
   "metadata": {
    "extensions": {
     "jupyter_dashboards": {
      "version": 1,
      "views": {
       "grid_default": {
        "col": 0,
        "height": 14,
        "hidden": false,
        "row": 0,
        "width": 8
       },
       "report_default": {}
      }
     }
    },
    "scrolled": false
   },
   "outputs": [
    {
     "data": {
      "application/vnd.jupyter.widget-view+json": {
       "model_id": "17e8e2729b2a4822816473b2fac52b1d",
       "version_major": 2,
       "version_minor": 0
      },
      "text/html": [
       "<p>Failed to display Jupyter Widget of type <code>HBox</code>.</p>\n",
       "<p>\n",
       "  If you're reading this message in the Jupyter Notebook or JupyterLab Notebook, it may mean\n",
       "  that the widgets JavaScript is still loading. If this message persists, it\n",
       "  likely means that the widgets JavaScript library is either not installed or\n",
       "  not enabled. See the <a href=\"https://ipywidgets.readthedocs.io/en/stable/user_install.html\">Jupyter\n",
       "  Widgets Documentation</a> for setup instructions.\n",
       "</p>\n",
       "<p>\n",
       "  If you're reading this message in another frontend (for example, a static\n",
       "  rendering on GitHub or <a href=\"https://nbviewer.jupyter.org/\">NBViewer</a>),\n",
       "  it may mean that your frontend doesn't currently support widgets.\n",
       "</p>\n"
      ],
      "text/plain": [
       "HBox(children=(Tab(children=(VBox(children=(VBox(children=(IntSlider(value=1, continuous_update=False, description=u'nMC'), IntSlider(value=100, continuous_update=False, description=u'nPop', max=100000), IntSlider(value=12, continuous_update=False, description=u'tMax', max=120), IntSlider(value=1, continuous_update=False, description=u'seed', max=10, min=-1), Checkbox(value=True, description=u'Draw Network'), Checkbox(value=False, description=u'Unique Seed'))), HBox(children=(Button(button_style=u'success', description=u'Run Model', icon=u'play', style=ButtonStyle(), tooltip=u'Start model with given params'), Button(button_style=u'danger', description=u'Reset', icon=u'stop', style=ButtonStyle(), tooltip=u'Clear outputs'))), IntProgress(value=0, bar_style=u'info', description=u'Progress:', max=12))), interactive(children=(IntSlider(value=0, continuous_update=False, description=u'Burn'), FloatSlider(value=1.0, continuous_update=False, description=u'Sex Acts', max=3.0), FloatSlider(value=1.0, continuous_update=False, description=u'Sex Ptns', max=3.0), FloatSlider(value=2.0, continuous_update=False, description=u'Needle Acts', max=3.0), FloatSlider(value=1.0, continuous_update=False, description=u'Needle Ptns', max=3.0), FloatSlider(value=0.5, continuous_update=False, description=u'Mortality', max=3.0), FloatSlider(value=0.53, continuous_update=False, description=u'RR Dx', max=3.0), FloatSlider(value=1.0, continuous_update=False, description=u'RR ART', max=3.0), FloatSlider(value=1.0, continuous_update=False, description=u'P Xmission', max=3.0), FloatSlider(value=1.0, continuous_update=False, description=u'P Incar', max=3.0), FloatSlider(value=1.0, continuous_update=False, description=u'ART Cov', max=3.0), Output()), _dom_classes=('widget-interact',))), _titles={u'1': 'Advanced Params', u'0': 'Main'}), Output()))"
      ]
     },
     "metadata": {},
     "output_type": "display_data"
    }
   ],
   "source": [
    "display(main)"
   ]
  },
  {
   "cell_type": "code",
   "execution_count": 7,
   "metadata": {
    "extensions": {
     "jupyter_dashboards": {
      "version": 1,
      "views": {
       "grid_default": {
        "col": 0,
        "height": 12,
        "hidden": false,
        "row": 14,
        "width": 8
       },
       "report_default": {}
      }
     }
    },
    "scrolled": true
   },
   "outputs": [
    {
     "data": {
      "application/vnd.jupyter.widget-view+json": {
       "model_id": "6ceae5e51dd74cce936a0cbab9394a11",
       "version_major": 2,
       "version_minor": 0
      },
      "text/html": [
       "<p>Failed to display Jupyter Widget of type <code>Output</code>.</p>\n",
       "<p>\n",
       "  If you're reading this message in the Jupyter Notebook or JupyterLab Notebook, it may mean\n",
       "  that the widgets JavaScript is still loading. If this message persists, it\n",
       "  likely means that the widgets JavaScript library is either not installed or\n",
       "  not enabled. See the <a href=\"https://ipywidgets.readthedocs.io/en/stable/user_install.html\">Jupyter\n",
       "  Widgets Documentation</a> for setup instructions.\n",
       "</p>\n",
       "<p>\n",
       "  If you're reading this message in another frontend (for example, a static\n",
       "  rendering on GitHub or <a href=\"https://nbviewer.jupyter.org/\">NBViewer</a>),\n",
       "  it may mean that your frontend doesn't currently support widgets.\n",
       "</p>\n"
      ],
      "text/plain": [
       "Output(layout=Layout(border=u'1px solid black'))"
      ]
     },
     "metadata": {},
     "output_type": "display_data"
    }
   ],
   "source": [
    "out"
   ]
  },
  {
   "cell_type": "code",
   "execution_count": 8,
   "metadata": {
    "extensions": {
     "jupyter_dashboards": {
      "version": 1,
      "views": {
       "grid_default": {
        "col": 8,
        "height": 55,
        "hidden": false,
        "row": 0,
        "width": 4
       },
       "report_default": {
        "hidden": true
       }
      }
     }
    },
    "scrolled": true
   },
   "outputs": [
    {
     "data": {
      "application/vnd.jupyter.widget-view+json": {
       "model_id": "a4f5caf13279463481547c0dbc9034d2",
       "version_major": 2,
       "version_minor": 0
      },
      "text/html": [
       "<p>Failed to display Jupyter Widget of type <code>Output</code>.</p>\n",
       "<p>\n",
       "  If you're reading this message in the Jupyter Notebook or JupyterLab Notebook, it may mean\n",
       "  that the widgets JavaScript is still loading. If this message persists, it\n",
       "  likely means that the widgets JavaScript library is either not installed or\n",
       "  not enabled. See the <a href=\"https://ipywidgets.readthedocs.io/en/stable/user_install.html\">Jupyter\n",
       "  Widgets Documentation</a> for setup instructions.\n",
       "</p>\n",
       "<p>\n",
       "  If you're reading this message in another frontend (for example, a static\n",
       "  rendering on GitHub or <a href=\"https://nbviewer.jupyter.org/\">NBViewer</a>),\n",
       "  it may mean that your frontend doesn't currently support widgets.\n",
       "</p>\n"
      ],
      "text/plain": [
       "Output(layout=Layout(border=u'1px solid black'))"
      ]
     },
     "metadata": {},
     "output_type": "display_data"
    }
   ],
   "source": [
    "out_distrib"
   ]
  },
  {
   "cell_type": "code",
   "execution_count": 9,
   "metadata": {
    "extensions": {
     "jupyter_dashboards": {
      "version": 1,
      "views": {
       "grid_default": {
        "col": 0,
        "height": 14,
        "hidden": false,
        "row": 26,
        "width": 8
       },
       "report_default": {}
      }
     }
    },
    "scrolled": false
   },
   "outputs": [
    {
     "data": {
      "application/vnd.jupyter.widget-view+json": {
       "model_id": "bf94374d64494de9922206c0fc6fbd48",
       "version_major": 2,
       "version_minor": 0
      },
      "text/html": [
       "<p>Failed to display Jupyter Widget of type <code>Output</code>.</p>\n",
       "<p>\n",
       "  If you're reading this message in the Jupyter Notebook or JupyterLab Notebook, it may mean\n",
       "  that the widgets JavaScript is still loading. If this message persists, it\n",
       "  likely means that the widgets JavaScript library is either not installed or\n",
       "  not enabled. See the <a href=\"https://ipywidgets.readthedocs.io/en/stable/user_install.html\">Jupyter\n",
       "  Widgets Documentation</a> for setup instructions.\n",
       "</p>\n",
       "<p>\n",
       "  If you're reading this message in another frontend (for example, a static\n",
       "  rendering on GitHub or <a href=\"https://nbviewer.jupyter.org/\">NBViewer</a>),\n",
       "  it may mean that your frontend doesn't currently support widgets.\n",
       "</p>\n"
      ],
      "text/plain": [
       "Output(layout=Layout(border=u'1px solid black'))"
      ]
     },
     "metadata": {},
     "output_type": "display_data"
    }
   ],
   "source": [
    "out_df"
   ]
  },
  {
   "cell_type": "code",
   "execution_count": null,
   "metadata": {
    "extensions": {
     "jupyter_dashboards": {
      "version": 1,
      "views": {
       "grid_default": {
        "col": 0,
        "height": 19,
        "hidden": false,
        "row": 55,
        "width": null
       },
       "report_default": {}
      }
     }
    }
   },
   "outputs": [],
   "source": [
    "\n"
   ]
  },
  {
   "cell_type": "markdown",
   "metadata": {
    "extensions": {
     "jupyter_dashboards": {
      "version": 1,
      "views": {
       "grid_default": {
        "col": 0,
        "height": 4,
        "hidden": true,
        "row": 27,
        "width": 12
       },
       "report_default": {}
      }
     }
    }
   },
   "source": [
    "def draw_Histogram():\n",
    "    data = [go.Bar(\n",
    "                y=(nx.degree_histogram(G)),\n",
    "        marker=dict(\n",
    "            color='rgb(49,130,189)'\n",
    "        )\n",
    "        )]\n",
    "    layout = go.Layout(\n",
    "        title='Partner Degree Distribution',\n",
    "        autosize=False,\n",
    "        width=400,\n",
    "        height=300,\n",
    "        margin=go.Margin(\n",
    "        l=50,\n",
    "        r=50,\n",
    "        b=50,\n",
    "        t=50,\n",
    "        pad=4\n",
    "    ),\n",
    "        xaxis=dict(\n",
    "            range=[-1,10],\n",
    "            tickfont=dict(\n",
    "                size=14,\n",
    "                color='rgb(107, 107, 107)'\n",
    "            )\n",
    "        ),\n",
    "        yaxis=dict(\n",
    "            title='Number of Agents (N)',\n",
    "            titlefont=dict(\n",
    "                size=16,\n",
    "                color='rgb(107, 107, 107)'\n",
    "            ),\n",
    "            tickfont=dict(\n",
    "                size=14,\n",
    "                color='rgb(107, 107, 107)'\n",
    "            )\n",
    "        ),\n",
    "        legend=dict(\n",
    "            x=0,\n",
    "            y=1.0,\n",
    "            bgcolor='rgba(255, 255, 255, 0)',\n",
    "            bordercolor='rgba(255, 255, 255, 0)'\n",
    "        ),\n",
    "        barmode='group',\n",
    "        bargap=0.15,\n",
    "        bargroupgap=0.1\n",
    "    )\n",
    "    fig = go.Figure(data=data, layout=layout)\n",
    "    iplot(fig)\n"
   ]
  },
  {
   "cell_type": "markdown",
   "metadata": {
    "extensions": {
     "jupyter_dashboards": {
      "version": 1,
      "views": {
       "grid_default": {
        "col": 0,
        "height": 5,
        "hidden": true,
        "row": 18,
        "width": 4
       },
       "report_default": {}
      }
     }
    }
   },
   "source": [
    "nx.degree_mixing_dict(G)"
   ]
  },
  {
   "cell_type": "markdown",
   "metadata": {
    "extensions": {
     "jupyter_dashboards": {
      "version": 1,
      "views": {
       "grid_default": {
        "hidden": true
       },
       "report_default": {}
      }
     }
    }
   },
   "source": [
    "nx.number_connected_components(G)\n",
    "nx.is_attracting_component(G)"
   ]
  },
  {
   "cell_type": "markdown",
   "metadata": {
    "extensions": {
     "jupyter_dashboards": {
      "version": 1,
      "views": {
       "grid_default": {
        "col": 8,
        "height": 66,
        "hidden": true,
        "row": 16,
        "width": 4
       },
       "report_default": {}
      }
     }
    }
   },
   "source": [
    "for a in nx.connected_components(G):\n",
    "    print len(a)\n",
    "    for p in a:\n",
    "        print p"
   ]
  },
  {
   "cell_type": "markdown",
   "metadata": {
    "extensions": {
     "jupyter_dashboards": {
      "version": 1,
      "views": {
       "grid_default": {
        "hidden": true
       },
       "report_default": {}
      }
     }
    }
   },
   "source": [
    "df = pd.read_csv(\"https://raw.githubusercontent.com/plotly/datasets/master/school_earnings.csv\")\n",
    "\n",
    "table = ff.create_table(df)\n",
    "iplot(table, filename='jupyter-table1')"
   ]
  }
 ],
 "metadata": {
  "extensions": {
   "jupyter_dashboards": {
    "activeView": "grid_default",
    "version": 1,
    "views": {
     "grid_default": {
      "cellMargin": 10,
      "defaultCellHeight": 20,
      "maxColumns": 12,
      "name": "grid",
      "type": "grid"
     },
     "report_default": {
      "name": "report",
      "type": "report"
     }
    }
   }
  },
  "kernelspec": {
   "display_name": "Python 2",
   "language": "python",
   "name": "python2"
  },
  "language_info": {
   "codemirror_mode": {
    "name": "ipython",
    "version": 2
   },
   "file_extension": ".py",
   "mimetype": "text/x-python",
   "name": "python",
   "nbconvert_exporter": "python",
   "pygments_lexer": "ipython2",
   "version": "2.7.15"
  }
 },
 "nbformat": 4,
 "nbformat_minor": 2
}
