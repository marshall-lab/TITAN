{
 "cells": [
  {
   "cell_type": "markdown",
   "metadata": {
    "extensions": {
     "jupyter_dashboards": {
      "version": 1,
      "views": {
       "grid_default": {
        "col": 0,
        "height": 4,
        "hidden": true,
        "row": 15,
        "width": 4
       },
       "report_default": {}
      }
     }
    }
   },
   "source": [
    "Import all of the required packages for this notebook"
   ]
  },
  {
   "cell_type": "code",
   "execution_count": 1,
   "metadata": {
    "extensions": {
     "jupyter_dashboards": {
      "version": 1,
      "views": {
       "grid_default": {
        "hidden": true
       },
       "report_default": {
        "hidden": true
       }
      }
     }
    },
    "scrolled": false
   },
   "outputs": [
    {
     "data": {
      "text/html": [
       "<script>requirejs.config({paths: { 'plotly': ['https://cdn.plot.ly/plotly-latest.min']},});if(!window.Plotly) {{require(['plotly'],function(plotly) {window.Plotly=plotly;});}}</script>"
      ],
      "text/vnd.plotly.v1+html": [
       "<script>requirejs.config({paths: { 'plotly': ['https://cdn.plot.ly/plotly-latest.min']},});if(!window.Plotly) {{require(['plotly'],function(plotly) {window.Plotly=plotly;});}}</script>"
      ]
     },
     "metadata": {},
     "output_type": "display_data"
    }
   ],
   "source": [
    "import sys \n",
    "import os\n",
    "import numpy as np\n",
    "from scipy.stats import binom\n",
    "import matplotlib.pyplot as plt\n",
    "import networkx as nx\n",
    "import pandas as pd\n",
    "import plotly.plotly as py\n",
    "import plotly.graph_objs as go\n",
    "import plotly.figure_factory as ff\n",
    "from plotly.offline import download_plotlyjs, init_notebook_mode, plot, iplot\n",
    "from ipywidgets import widgets, interact, interactive\n",
    "init_notebook_mode(connected=True)\n",
    "\n",
    "#sys.path.append(os.path.abspath(\"/Users/mk100/Documents/Code/TITAN/src\"))\n",
    "sys.path.append(os.path.relpath(\"../src\"))\n",
    "\n",
    "import ABM_core as tc\n",
    "import run_titan as tt\n",
    "import params\n",
    "import numpy as np"
   ]
  },
  {
   "cell_type": "code",
   "execution_count": 2,
   "metadata": {
    "extensions": {
     "jupyter_dashboards": {
      "version": 1,
      "views": {
       "grid_default": {
        "hidden": true
       },
       "report_default": {
        "hidden": true
       }
      }
     }
    },
    "scrolled": false
   },
   "outputs": [],
   "source": [
    "out = widgets.Output(layout={'border': '1px solid black'})\n",
    "out_network = widgets.Output(layout={'border': '1px solid black'})\n",
    "out_distrib = widgets.Output(layout={'border': '1px solid black'})\n",
    "out_df = widgets.Output(layout={'border': '1px solid black'})\n",
    "df = pd.DataFrame()\n",
    "RSLTS = {}"
   ]
  },
  {
   "cell_type": "code",
   "execution_count": 3,
   "metadata": {
    "extensions": {
     "jupyter_dashboards": {
      "version": 1,
      "views": {
       "grid_default": {
        "col": 0,
        "height": 14,
        "hidden": true,
        "row": 40,
        "width": 4
       },
       "report_default": {}
      }
     }
    },
    "scrolled": true
   },
   "outputs": [],
   "source": [
    "def setParams(burnDur, calSA, calSP, calNA, calNP, calMort, calRRDx, calRRArt,calPXmn,calIncar,calARTcov,calTestFq):\n",
    "    params.burnDuration=burnDur\n",
    "    params.cal_SexualActScaling=calSA\n",
    "    params.cal_SexualPartScaling=calSP\n",
    "    params.cal_NeedleActScaling=calNA\n",
    "    params.cal_NeedlePartScaling=calNP\n",
    "    params.cal_Mortality=calMort\n",
    "    params.cal_RR_Dx=calRRDx\n",
    "    params.cal_RR_HAART=calRRArt\n",
    "    params.cal_pXmissionScaling=calPXmn\n",
    "    params.cal_IncarP=calIncar\n",
    "    params.cal_ART_cov=calARTcov\n",
    "    params.cal_TestFreq=calTestFq\n",
    "\n",
    "y=interactive(setParams,\n",
    "              burnDur=widgets.IntSlider(description='Burn',\n",
    "                                       continuous_update=False, \n",
    "                                       min=0, \n",
    "                                       value=params.burnDuration),\n",
    "              calSA=widgets.FloatSlider(description='Sex Acts',\n",
    "                                       continuous_update=False, \n",
    "                                       min=0., \n",
    "                                       max=3.0,\n",
    "                                       value=params.cal_SexualActScaling),\n",
    "              calSP=widgets.FloatSlider(description='Sex Ptns',\n",
    "                                       continuous_update=False, \n",
    "                                       min=0., \n",
    "                                       max=3.0,\n",
    "                                       value=params.cal_SexualPartScaling),\n",
    "              calNA=widgets.FloatSlider(description='Needle Acts',\n",
    "                                       continuous_update=False, \n",
    "                                       min=0., \n",
    "                                       max=3.0,\n",
    "                                       value=params.cal_NeedleActScaling),\n",
    "              calNP=widgets.FloatSlider(description='Needle Ptns',\n",
    "                                       continuous_update=False, \n",
    "                                       min=0., \n",
    "                                       max=3.0,\n",
    "                                       value=params.cal_NeedlePartScaling),\n",
    "              calMort=widgets.FloatSlider(description='Mortality',\n",
    "                                       continuous_update=False, \n",
    "                                       min=0., \n",
    "                                       max=3.0,\n",
    "                                       value=params.cal_Mortality),\n",
    "              calRRDx=widgets.FloatSlider(description='RR Dx',\n",
    "                                       continuous_update=False, \n",
    "                                       min=0., \n",
    "                                       max=3.0,\n",
    "                                       value=params.cal_RR_Dx),\n",
    "              calRRArt=widgets.FloatSlider(description='RR ART',\n",
    "                                       continuous_update=False, \n",
    "                                       min=0., \n",
    "                                       max=3.0,\n",
    "                                       value=params.cal_RR_HAART),\n",
    "              calPXmn=widgets.FloatSlider(description='P Xmission',\n",
    "                                       continuous_update=False, \n",
    "                                       min=0.,\n",
    "                                       max=3.0,\n",
    "                                       value=params.cal_pXmissionScaling),\n",
    "              calIncar=widgets.FloatSlider(description='P Incar',\n",
    "                                       continuous_update=False, \n",
    "                                       min=0., \n",
    "                                       max=3.0,\n",
    "                                       value=params.cal_IncarP),\n",
    "              calARTcov=widgets.FloatSlider(description='ART Cov',\n",
    "                                       continuous_update=False, \n",
    "                                       min=0.,\n",
    "                                       max=3.0,\n",
    "                                       value=params.cal_ART_cov),\n",
    "              calTestFq=widgets.FloatSlider(description='Test Freq',\n",
    "                                       continuous_update=False, \n",
    "                                       min=0.,\n",
    "                                       max=3.0,\n",
    "                                       value=params.cal_TestFreq),\n",
    "             )"
   ]
  },
  {
   "cell_type": "code",
   "execution_count": 4,
   "metadata": {
    "extensions": {
     "jupyter_dashboards": {
      "version": 1,
      "views": {
       "grid_default": {
        "hidden": true
       },
       "report_default": {}
      }
     }
    }
   },
   "outputs": [],
   "source": [
    "nMC = widgets.IntSlider(description='nMC',continuous_update=False, min=1, max=100, value=1)\n",
    "nPop = widgets.IntSlider(description='nPop',continuous_update=False, min=1, max=100000, value=100)\n",
    "tMax = widgets.IntSlider(description='tMax',continuous_update=False, min=0, max=156, value=12)\n",
    "seed = widgets.IntSlider(description='seed',continuous_update=False, min=-1,max=10, value=1)\n",
    "draw = widgets.Checkbox(description='Draw Network',value=True,disabled=False)\n",
    "uniqueseed = widgets.Checkbox(description='Unique Seed',value=False,disabled=False)\n",
    "ui_params = widgets.VBox([nMC, nPop, tMax, seed, draw,uniqueseed])\n",
    "\n",
    "\n",
    "\n",
    "prog = widgets.IntProgress(\n",
    "        value=0,\n",
    "        min=0,\n",
    "        max=tMax.value,\n",
    "        step=1,\n",
    "        description='Progress:',\n",
    "        bar_style='info'\n",
    "        )\n",
    "run = widgets.Button(\n",
    "    description='Run Model',\n",
    "    disabled=False,\n",
    "    button_style='success', # 'success', 'info', 'warning', 'danger' or ''\n",
    "    tooltip='Start model with given params',\n",
    "    icon='play'\n",
    ")\n",
    "reset = widgets.Button(\n",
    "    description='Reset',\n",
    "    disabled=False,\n",
    "    button_style='danger', # 'success', 'info', 'warning', 'danger' or ''\n",
    "    tooltip='Clear outputs',\n",
    "    icon='stop'\n",
    ")\n",
    "\n",
    "\n",
    "widgets.jslink((nMC, 'value'), (prog, 'max'))\n",
    "ui_buttons = widgets.HBox([run, reset])\n",
    "ui = widgets.VBox([ui_params, ui_buttons, prog])\n",
    "\n",
    "tab_nest = widgets.Tab()\n",
    "tab_nest.children = [ui,y]\n",
    "tab_nest.set_title(0, 'Main')\n",
    "tab_nest.set_title(1, 'Advanced Params')"
   ]
  },
  {
   "cell_type": "code",
   "execution_count": 5,
   "metadata": {
    "extensions": {
     "jupyter_dashboards": {
      "version": 1,
      "views": {
       "grid_default": {
        "col": 0,
        "height": 15,
        "hidden": true,
        "row": 14,
        "width": 8
       },
       "report_default": {
        "hidden": false
       }
      }
     }
    }
   },
   "outputs": [],
   "source": [
    "def on_run_clicked(b):\n",
    "    reset_outputs()\n",
    "    #tt.open_inputs()\n",
    "    global SIM\n",
    "    global df\n",
    "    with out:\n",
    "        if nMC.value <= 1:\n",
    "            SIM = makeModel(nMC.value, nPop.value, tMax.value, seed.value)\n",
    "            SIM.run()\n",
    "            #SIM = tt.simulation(nMC.value, tMax.value, nPop.value, \"\", seed.value)\n",
    "            RSLTS = SIM.return_results()\n",
    "            print RSLTS\n",
    "            df = df.append(pd.DataFrame(RSLTS))\n",
    "        else:\n",
    "            for i in range(nMC.value+1):\n",
    "                SIM = makeModel(nMC.value, nPop.value, tMax.value, seed.value)\n",
    "                prog.value = i\n",
    "                SIM.run()\n",
    "                RSLTS = SIM.return_results()\n",
    "                df = df.append(pd.DataFrame(RSLTS))\n",
    "        \n",
    "        df.index.name = 'Time'\n",
    "        df = df.reset_index()\n",
    "        #df = df.append(pd.DataFrame(RSLTS))\n",
    "        with out_distrib:\n",
    "            if draw.value:\n",
    "                for result_property in sorted(RSLTS):\n",
    "                    #print result_property, rslts[result_property]\n",
    "                    lists = sorted(RSLTS[result_property].items())\n",
    "                    if lists:\n",
    "                        x,y = zip(*lists)\n",
    "                        plt.title(\"%s vs Time\\nTime\"%(result_property))\n",
    "                        plt.xlabel(\"Time\")\n",
    "                        plt.plot(x,y)\n",
    "                        plt.xticks(np.arange(0, tMax.value+1, step=12))\n",
    "                        plt.show()\n",
    "\n",
    "                #draw_Histogram()\n",
    "        with out_network:\n",
    "            if draw.value:\n",
    "                #TMP.networkGraph.visualize_network(coloring='HIV',node_size=25)\n",
    "                #TMP.networkGraph.draw_histogram(t)\n",
    "                drawThePlots(tMax.value)\n",
    "\n",
    "        #df = df.append(pd.DataFrame(RSLTS))\n",
    "        with out_df:\n",
    "            #Create table for dataframe\n",
    "            #table = ff.create_table(df)\n",
    "            #iplot(table)\n",
    "            drawThese = ['Inc_c_Tot']\n",
    "            for col in drawThese:\n",
    "                data = []\n",
    "                data.append(  go.Box( y=(df[col][tMax.value]), name=col, showlegend=False ) )\n",
    "                iplot(data)\n",
    "            #data.append( go.Scatter( x = df.columns, y = df.mean(), mode='lines', name='mean' ) )\n",
    "            \n",
    "            #plt.figure()\n",
    "            #bp = df.boxplot()\n",
    "\n",
    "def on_reset_clicked(b):\n",
    "    global df\n",
    "    df=pd.DataFrame()\n",
    "    reset_outputs()\n",
    "    tmp = seed.value\n",
    "    seed.value=0\n",
    "    seed.value=tmp\n",
    "    prog.value=0\n",
    "\n",
    "def reset_outputs():\n",
    "    outs = [out, out_network, out_distrib, out_df]\n",
    "    for o in outs:\n",
    "        o.clear_output()\n",
    "\n",
    "def makeModel(MC, N, T, S):\n",
    "    #global SIM\n",
    "    #global G\n",
    "    #TMP = tc.HIVModel(N, T, S)\n",
    "#     if sysprint.value:\n",
    "#         tt.enablePrint()\n",
    "#     else:\n",
    "#         tt.blockPrint()\n",
    "    SIM = tt.HIVModel(N=nPop.value, tmax=tMax.value, rseed=seed.value, \n",
    "                      runtime_diffseed=uniqueseed.value, model='ASDF', network_type='ASDF')\n",
    "    #TMP.TimeStep = 0\n",
    "    #G = TMP.networkGraph.G\n",
    "    return SIM\n",
    "\n",
    "def drawThePlots(drawMaxT, drawThis='Inc_c_Tot'):\n",
    "    tdf = df\n",
    "    #tdf.index.name = 'Time'\n",
    "    #tdf = tdf.reset_index()\n",
    "\n",
    "    #drawThis = 'Inc_c_Tot'\n",
    "    data = []\n",
    "    superscat = []\n",
    "    end = drawMaxT\n",
    "    for t in range(end):\n",
    "        data.append(  go.Box(y=(tdf.loc[tdf['Time']==t][drawThis]), name=t, boxpoints = 'suspectedoutliers',\n",
    "        marker = dict(\n",
    "            color = 'rgb(107,174,214)',\n",
    "            outliercolor = 'rgba(219, 64, 82, 0.6)',\n",
    "            line = dict(\n",
    "                outliercolor = 'rgba(219, 64, 82, 0.6)',\n",
    "                outlierwidth = 2)),\n",
    "        line = dict(\n",
    "            color = 'rgb(107,174,214)'), showlegend=False ) )\n",
    "        superscat.append(tdf.loc[tdf['Time']==t][drawThis].mean())\n",
    "\n",
    "    data.append( go.Scatter(x = range(1,end), y = superscat, name='Mean', mode='lines',showlegend=False) )\n",
    "\n",
    "    iplot(data)\n",
    "\n",
    "\n",
    "run.on_click(on_run_clicked)\n",
    "reset.on_click(on_reset_clicked)\n",
    "#widgets.jslink((tMax, 'value'), (prog, 'max'))\n",
    "init = widgets.interactive_output(makeModel, {'MC': nMC, 'N': nPop, 'T': tMax, 'S': seed})\n",
    "main = widgets.HBox([tab_nest, init])"
   ]
  },
  {
   "cell_type": "code",
   "execution_count": 6,
   "metadata": {
    "extensions": {
     "jupyter_dashboards": {
      "version": 1,
      "views": {
       "grid_default": {
        "col": 0,
        "height": 14,
        "hidden": false,
        "row": 0,
        "width": 8
       },
       "report_default": {}
      }
     }
    },
    "scrolled": false
   },
   "outputs": [
    {
     "data": {
      "application/vnd.jupyter.widget-view+json": {
       "model_id": "11a7fb6526ae4f1b9a03e21c5deb4679",
       "version_major": 2,
       "version_minor": 0
      },
      "text/plain": [
       "SEJveChjaGlsZHJlbj0oVGFiKGNoaWxkcmVuPShWQm94KGNoaWxkcmVuPShWQm94KGNoaWxkcmVuPShJbnRTbGlkZXIodmFsdWU9MSwgY29udGludW91c191cGRhdGU9RmFsc2UsIGRlc2NyaXDigKY=\n"
      ]
     },
     "metadata": {},
     "output_type": "display_data"
    }
   ],
   "source": [
    "display(main)"
   ]
  },
  {
   "cell_type": "code",
   "execution_count": 7,
   "metadata": {
    "extensions": {
     "jupyter_dashboards": {
      "version": 1,
      "views": {
       "grid_default": {
        "col": 0,
        "height": 12,
        "hidden": false,
        "row": 14,
        "width": 8
       },
       "report_default": {}
      }
     }
    },
    "scrolled": false
   },
   "outputs": [
    {
     "data": {
      "application/vnd.jupyter.widget-view+json": {
       "model_id": "9514711eac8a42f684b40a8c51c27737",
       "version_major": 2,
       "version_minor": 0
      },
      "text/plain": [
       "Output(layout=Layout(border=u'1px solid black'))"
      ]
     },
     "metadata": {},
     "output_type": "display_data"
    }
   ],
   "source": [
    "out"
   ]
  },
  {
   "cell_type": "code",
   "execution_count": 8,
   "metadata": {
    "extensions": {
     "jupyter_dashboards": {
      "version": 1,
      "views": {
       "grid_default": {
        "col": 8,
        "height": 55,
        "hidden": false,
        "row": 0,
        "width": 4
       },
       "report_default": {
        "hidden": true
       }
      }
     }
    }
   },
   "outputs": [
    {
     "data": {
      "application/vnd.jupyter.widget-view+json": {
       "model_id": "d7888f9c466f41af9efa88b9b1c2edc7",
       "version_major": 2,
       "version_minor": 0
      },
      "text/plain": [
       "Output(layout=Layout(border=u'1px solid black'))"
      ]
     },
     "metadata": {},
     "output_type": "display_data"
    }
   ],
   "source": [
    "out_distrib"
   ]
  },
  {
   "cell_type": "code",
   "execution_count": null,
   "metadata": {
    "extensions": {
     "jupyter_dashboards": {
      "version": 1,
      "views": {
       "grid_default": {
        "col": 0,
        "height": 14,
        "hidden": false,
        "row": 26,
        "width": 8
       },
       "report_default": {}
      }
     }
    }
   },
   "outputs": [],
   "source": [
    "out_network"
   ]
  },
  {
   "cell_type": "code",
   "execution_count": 10,
   "metadata": {
    "scrolled": false
   },
   "outputs": [
    {
     "ename": "KeyError",
     "evalue": "'Time'",
     "output_type": "error",
     "traceback": [
      "\u001b[0;31m---------------------------------------------------------------------------\u001b[0m",
      "\u001b[0;31mKeyError\u001b[0m                                  Traceback (most recent call last)",
      "\u001b[0;32m<ipython-input-10-f33b960bbd3f>\u001b[0m in \u001b[0;36m<module>\u001b[0;34m()\u001b[0m\n\u001b[1;32m      1\u001b[0m \u001b[0mdrawList\u001b[0m \u001b[0;34m=\u001b[0m \u001b[0;34m[\u001b[0m\u001b[0;34m'Inc_c_Tot'\u001b[0m\u001b[0;34m,\u001b[0m \u001b[0;34m'Prv_Test'\u001b[0m\u001b[0;34m,\u001b[0m\u001b[0;34m'Prv_HIV'\u001b[0m\u001b[0;34m,\u001b[0m\u001b[0;34m'n_Relations'\u001b[0m\u001b[0;34m,\u001b[0m\u001b[0;34m'Inc_c_HF'\u001b[0m\u001b[0;34m,\u001b[0m\u001b[0;34m'Inc_c_HM'\u001b[0m\u001b[0;34m,\u001b[0m\u001b[0;34m'Prv_ART'\u001b[0m\u001b[0;34m]\u001b[0m\u001b[0;34m\u001b[0m\u001b[0m\n\u001b[1;32m      2\u001b[0m \u001b[0;32mfor\u001b[0m \u001b[0md\u001b[0m \u001b[0;32min\u001b[0m \u001b[0mdrawList\u001b[0m\u001b[0;34m:\u001b[0m\u001b[0;34m\u001b[0m\u001b[0m\n\u001b[0;32m----> 3\u001b[0;31m     \u001b[0mdrawThePlots\u001b[0m\u001b[0;34m(\u001b[0m\u001b[0mtMax\u001b[0m\u001b[0;34m.\u001b[0m\u001b[0mvalue\u001b[0m\u001b[0;34m,\u001b[0m \u001b[0mdrawThis\u001b[0m\u001b[0;34m=\u001b[0m\u001b[0md\u001b[0m\u001b[0;34m)\u001b[0m\u001b[0;34m\u001b[0m\u001b[0m\n\u001b[0m",
      "\u001b[0;32m<ipython-input-5-84416799d033>\u001b[0m in \u001b[0;36mdrawThePlots\u001b[0;34m(drawMaxT, drawThis)\u001b[0m\n\u001b[1;32m     96\u001b[0m     \u001b[0mend\u001b[0m \u001b[0;34m=\u001b[0m \u001b[0mdrawMaxT\u001b[0m\u001b[0;34m\u001b[0m\u001b[0m\n\u001b[1;32m     97\u001b[0m     \u001b[0;32mfor\u001b[0m \u001b[0mt\u001b[0m \u001b[0;32min\u001b[0m \u001b[0mrange\u001b[0m\u001b[0;34m(\u001b[0m\u001b[0mend\u001b[0m\u001b[0;34m)\u001b[0m\u001b[0;34m:\u001b[0m\u001b[0;34m\u001b[0m\u001b[0m\n\u001b[0;32m---> 98\u001b[0;31m         data.append(  go.Box(y=(tdf.loc[tdf['Time']==t][drawThis]), name=t, boxpoints = 'suspectedoutliers',\n\u001b[0m\u001b[1;32m     99\u001b[0m         marker = dict(\n\u001b[1;32m    100\u001b[0m             \u001b[0mcolor\u001b[0m \u001b[0;34m=\u001b[0m \u001b[0;34m'rgb(107,174,214)'\u001b[0m\u001b[0;34m,\u001b[0m\u001b[0;34m\u001b[0m\u001b[0m\n",
      "\u001b[0;32m/Users/MaximilianKing/anaconda/envs/TITAN/lib/python2.7/site-packages/pandas/core/frame.pyc\u001b[0m in \u001b[0;36m__getitem__\u001b[0;34m(self, key)\u001b[0m\n\u001b[1;32m   2686\u001b[0m             \u001b[0;32mreturn\u001b[0m \u001b[0mself\u001b[0m\u001b[0;34m.\u001b[0m\u001b[0m_getitem_multilevel\u001b[0m\u001b[0;34m(\u001b[0m\u001b[0mkey\u001b[0m\u001b[0;34m)\u001b[0m\u001b[0;34m\u001b[0m\u001b[0m\n\u001b[1;32m   2687\u001b[0m         \u001b[0;32melse\u001b[0m\u001b[0;34m:\u001b[0m\u001b[0;34m\u001b[0m\u001b[0m\n\u001b[0;32m-> 2688\u001b[0;31m             \u001b[0;32mreturn\u001b[0m \u001b[0mself\u001b[0m\u001b[0;34m.\u001b[0m\u001b[0m_getitem_column\u001b[0m\u001b[0;34m(\u001b[0m\u001b[0mkey\u001b[0m\u001b[0;34m)\u001b[0m\u001b[0;34m\u001b[0m\u001b[0m\n\u001b[0m\u001b[1;32m   2689\u001b[0m \u001b[0;34m\u001b[0m\u001b[0m\n\u001b[1;32m   2690\u001b[0m     \u001b[0;32mdef\u001b[0m \u001b[0m_getitem_column\u001b[0m\u001b[0;34m(\u001b[0m\u001b[0mself\u001b[0m\u001b[0;34m,\u001b[0m \u001b[0mkey\u001b[0m\u001b[0;34m)\u001b[0m\u001b[0;34m:\u001b[0m\u001b[0;34m\u001b[0m\u001b[0m\n",
      "\u001b[0;32m/Users/MaximilianKing/anaconda/envs/TITAN/lib/python2.7/site-packages/pandas/core/frame.pyc\u001b[0m in \u001b[0;36m_getitem_column\u001b[0;34m(self, key)\u001b[0m\n\u001b[1;32m   2693\u001b[0m         \u001b[0;31m# get column\u001b[0m\u001b[0;34m\u001b[0m\u001b[0;34m\u001b[0m\u001b[0m\n\u001b[1;32m   2694\u001b[0m         \u001b[0;32mif\u001b[0m \u001b[0mself\u001b[0m\u001b[0;34m.\u001b[0m\u001b[0mcolumns\u001b[0m\u001b[0;34m.\u001b[0m\u001b[0mis_unique\u001b[0m\u001b[0;34m:\u001b[0m\u001b[0;34m\u001b[0m\u001b[0m\n\u001b[0;32m-> 2695\u001b[0;31m             \u001b[0;32mreturn\u001b[0m \u001b[0mself\u001b[0m\u001b[0;34m.\u001b[0m\u001b[0m_get_item_cache\u001b[0m\u001b[0;34m(\u001b[0m\u001b[0mkey\u001b[0m\u001b[0;34m)\u001b[0m\u001b[0;34m\u001b[0m\u001b[0m\n\u001b[0m\u001b[1;32m   2696\u001b[0m \u001b[0;34m\u001b[0m\u001b[0m\n\u001b[1;32m   2697\u001b[0m         \u001b[0;31m# duplicate columns & possible reduce dimensionality\u001b[0m\u001b[0;34m\u001b[0m\u001b[0;34m\u001b[0m\u001b[0m\n",
      "\u001b[0;32m/Users/MaximilianKing/anaconda/envs/TITAN/lib/python2.7/site-packages/pandas/core/generic.pyc\u001b[0m in \u001b[0;36m_get_item_cache\u001b[0;34m(self, item)\u001b[0m\n\u001b[1;32m   2487\u001b[0m         \u001b[0mres\u001b[0m \u001b[0;34m=\u001b[0m \u001b[0mcache\u001b[0m\u001b[0;34m.\u001b[0m\u001b[0mget\u001b[0m\u001b[0;34m(\u001b[0m\u001b[0mitem\u001b[0m\u001b[0;34m)\u001b[0m\u001b[0;34m\u001b[0m\u001b[0m\n\u001b[1;32m   2488\u001b[0m         \u001b[0;32mif\u001b[0m \u001b[0mres\u001b[0m \u001b[0;32mis\u001b[0m \u001b[0mNone\u001b[0m\u001b[0;34m:\u001b[0m\u001b[0;34m\u001b[0m\u001b[0m\n\u001b[0;32m-> 2489\u001b[0;31m             \u001b[0mvalues\u001b[0m \u001b[0;34m=\u001b[0m \u001b[0mself\u001b[0m\u001b[0;34m.\u001b[0m\u001b[0m_data\u001b[0m\u001b[0;34m.\u001b[0m\u001b[0mget\u001b[0m\u001b[0;34m(\u001b[0m\u001b[0mitem\u001b[0m\u001b[0;34m)\u001b[0m\u001b[0;34m\u001b[0m\u001b[0m\n\u001b[0m\u001b[1;32m   2490\u001b[0m             \u001b[0mres\u001b[0m \u001b[0;34m=\u001b[0m \u001b[0mself\u001b[0m\u001b[0;34m.\u001b[0m\u001b[0m_box_item_values\u001b[0m\u001b[0;34m(\u001b[0m\u001b[0mitem\u001b[0m\u001b[0;34m,\u001b[0m \u001b[0mvalues\u001b[0m\u001b[0;34m)\u001b[0m\u001b[0;34m\u001b[0m\u001b[0m\n\u001b[1;32m   2491\u001b[0m             \u001b[0mcache\u001b[0m\u001b[0;34m[\u001b[0m\u001b[0mitem\u001b[0m\u001b[0;34m]\u001b[0m \u001b[0;34m=\u001b[0m \u001b[0mres\u001b[0m\u001b[0;34m\u001b[0m\u001b[0m\n",
      "\u001b[0;32m/Users/MaximilianKing/anaconda/envs/TITAN/lib/python2.7/site-packages/pandas/core/internals.pyc\u001b[0m in \u001b[0;36mget\u001b[0;34m(self, item, fastpath)\u001b[0m\n\u001b[1;32m   4113\u001b[0m \u001b[0;34m\u001b[0m\u001b[0m\n\u001b[1;32m   4114\u001b[0m             \u001b[0;32mif\u001b[0m \u001b[0;32mnot\u001b[0m \u001b[0misna\u001b[0m\u001b[0;34m(\u001b[0m\u001b[0mitem\u001b[0m\u001b[0;34m)\u001b[0m\u001b[0;34m:\u001b[0m\u001b[0;34m\u001b[0m\u001b[0m\n\u001b[0;32m-> 4115\u001b[0;31m                 \u001b[0mloc\u001b[0m \u001b[0;34m=\u001b[0m \u001b[0mself\u001b[0m\u001b[0;34m.\u001b[0m\u001b[0mitems\u001b[0m\u001b[0;34m.\u001b[0m\u001b[0mget_loc\u001b[0m\u001b[0;34m(\u001b[0m\u001b[0mitem\u001b[0m\u001b[0;34m)\u001b[0m\u001b[0;34m\u001b[0m\u001b[0m\n\u001b[0m\u001b[1;32m   4116\u001b[0m             \u001b[0;32melse\u001b[0m\u001b[0;34m:\u001b[0m\u001b[0;34m\u001b[0m\u001b[0m\n\u001b[1;32m   4117\u001b[0m                 \u001b[0mindexer\u001b[0m \u001b[0;34m=\u001b[0m \u001b[0mnp\u001b[0m\u001b[0;34m.\u001b[0m\u001b[0marange\u001b[0m\u001b[0;34m(\u001b[0m\u001b[0mlen\u001b[0m\u001b[0;34m(\u001b[0m\u001b[0mself\u001b[0m\u001b[0;34m.\u001b[0m\u001b[0mitems\u001b[0m\u001b[0;34m)\u001b[0m\u001b[0;34m)\u001b[0m\u001b[0;34m[\u001b[0m\u001b[0misna\u001b[0m\u001b[0;34m(\u001b[0m\u001b[0mself\u001b[0m\u001b[0;34m.\u001b[0m\u001b[0mitems\u001b[0m\u001b[0;34m)\u001b[0m\u001b[0;34m]\u001b[0m\u001b[0;34m\u001b[0m\u001b[0m\n",
      "\u001b[0;32m/Users/MaximilianKing/anaconda/envs/TITAN/lib/python2.7/site-packages/pandas/core/indexes/base.pyc\u001b[0m in \u001b[0;36mget_loc\u001b[0;34m(self, key, method, tolerance)\u001b[0m\n\u001b[1;32m   3078\u001b[0m                 \u001b[0;32mreturn\u001b[0m \u001b[0mself\u001b[0m\u001b[0;34m.\u001b[0m\u001b[0m_engine\u001b[0m\u001b[0;34m.\u001b[0m\u001b[0mget_loc\u001b[0m\u001b[0;34m(\u001b[0m\u001b[0mkey\u001b[0m\u001b[0;34m)\u001b[0m\u001b[0;34m\u001b[0m\u001b[0m\n\u001b[1;32m   3079\u001b[0m             \u001b[0;32mexcept\u001b[0m \u001b[0mKeyError\u001b[0m\u001b[0;34m:\u001b[0m\u001b[0;34m\u001b[0m\u001b[0m\n\u001b[0;32m-> 3080\u001b[0;31m                 \u001b[0;32mreturn\u001b[0m \u001b[0mself\u001b[0m\u001b[0;34m.\u001b[0m\u001b[0m_engine\u001b[0m\u001b[0;34m.\u001b[0m\u001b[0mget_loc\u001b[0m\u001b[0;34m(\u001b[0m\u001b[0mself\u001b[0m\u001b[0;34m.\u001b[0m\u001b[0m_maybe_cast_indexer\u001b[0m\u001b[0;34m(\u001b[0m\u001b[0mkey\u001b[0m\u001b[0;34m)\u001b[0m\u001b[0;34m)\u001b[0m\u001b[0;34m\u001b[0m\u001b[0m\n\u001b[0m\u001b[1;32m   3081\u001b[0m \u001b[0;34m\u001b[0m\u001b[0m\n\u001b[1;32m   3082\u001b[0m         \u001b[0mindexer\u001b[0m \u001b[0;34m=\u001b[0m \u001b[0mself\u001b[0m\u001b[0;34m.\u001b[0m\u001b[0mget_indexer\u001b[0m\u001b[0;34m(\u001b[0m\u001b[0;34m[\u001b[0m\u001b[0mkey\u001b[0m\u001b[0;34m]\u001b[0m\u001b[0;34m,\u001b[0m \u001b[0mmethod\u001b[0m\u001b[0;34m=\u001b[0m\u001b[0mmethod\u001b[0m\u001b[0;34m,\u001b[0m \u001b[0mtolerance\u001b[0m\u001b[0;34m=\u001b[0m\u001b[0mtolerance\u001b[0m\u001b[0;34m)\u001b[0m\u001b[0;34m\u001b[0m\u001b[0m\n",
      "\u001b[0;32mpandas/_libs/index.pyx\u001b[0m in \u001b[0;36mpandas._libs.index.IndexEngine.get_loc\u001b[0;34m()\u001b[0m\n",
      "\u001b[0;32mpandas/_libs/index.pyx\u001b[0m in \u001b[0;36mpandas._libs.index.IndexEngine.get_loc\u001b[0;34m()\u001b[0m\n",
      "\u001b[0;32mpandas/_libs/hashtable_class_helper.pxi\u001b[0m in \u001b[0;36mpandas._libs.hashtable.PyObjectHashTable.get_item\u001b[0;34m()\u001b[0m\n",
      "\u001b[0;32mpandas/_libs/hashtable_class_helper.pxi\u001b[0m in \u001b[0;36mpandas._libs.hashtable.PyObjectHashTable.get_item\u001b[0;34m()\u001b[0m\n",
      "\u001b[0;31mKeyError\u001b[0m: 'Time'"
     ]
    }
   ],
   "source": [
    "drawList = ['Inc_c_Tot', 'Prv_Test','Prv_HIV','n_Relations','Inc_c_HF','Inc_c_HM','Prv_ART']\n",
    "for d in drawList:\n",
    "    drawThePlots(tMax.value, drawThis=d)"
   ]
  },
  {
   "cell_type": "code",
   "execution_count": null,
   "metadata": {
    "scrolled": false
   },
   "outputs": [],
   "source": [
    "data = []\n",
    "for t in range(tMax.value):\n",
    "    xT=t\n",
    "    yT=(df.loc[df['Time']==t]['Inc_c_Tot'])\n",
    "    print \"t:{}\\tx:{}\\ty:{}\\t\".format(t,xT, yT)\n",
    "    data.append(go.Box(x=t, y=(df.loc[df['Time']==t]['Inc_c_Tot']), name=t, boxpoints = 'suspectedoutliers'))"
   ]
  },
  {
   "cell_type": "code",
   "execution_count": null,
   "metadata": {},
   "outputs": [],
   "source": [
    "def drawThePlots2(drawMaxT, drawThis='Inc_c_Tot'):\n",
    "    tdf = df\n",
    "    #tdf.index.name = 'Time'\n",
    "    #tdf = tdf.reset_index()\n",
    "\n",
    "    #drawThis = 'Inc_c_Tot'\n",
    "    data = []\n",
    "    superscat = []\n",
    "    end = drawMaxT\n",
    "    for t in range(end):\n",
    "        data.append(  go.Box(y=(tdf.loc[tdf['Time']==t][drawThis]), name=t, boxpoints = 'suspectedoutliers',\n",
    "        marker = dict(\n",
    "            color = 'rgb(107,174,214)',\n",
    "            outliercolor = 'rgba(219, 64, 82, 0.6)',\n",
    "            line = dict(\n",
    "                outliercolor = 'rgba(219, 64, 82, 0.6)',\n",
    "                outlierwidth = 2)),\n",
    "        line = dict(\n",
    "            color = 'rgb(107,174,214)'), showlegend=False ) )\n",
    "        superscat.append(tdf.loc[tdf['Time']==t][drawThis].mean())\n",
    "\n",
    "    data.append( go.Scatter(x = range(1,end), y = superscat, name='Mean', mode='lines',showlegend=False) )\n",
    "\n",
    "    iplot(data)\n",
    "    \n",
    "drawThePlots2(10)"
   ]
  },
  {
   "cell_type": "markdown",
   "metadata": {
    "extensions": {
     "jupyter_dashboards": {
      "version": 1,
      "views": {
       "grid_default": {
        "col": 0,
        "height": 4,
        "hidden": true,
        "row": 27,
        "width": 12
       },
       "report_default": {}
      }
     }
    }
   },
   "source": [
    "def draw_Histogram():\n",
    "    data = [go.Bar(\n",
    "                y=(nx.degree_histogram(G)),\n",
    "        marker=dict(\n",
    "            color='rgb(49,130,189)'\n",
    "        )\n",
    "        )]\n",
    "    layout = go.Layout(\n",
    "        title='Partner Degree Distribution',\n",
    "        autosize=False,\n",
    "        width=400,\n",
    "        height=300,\n",
    "        margin=go.Margin(\n",
    "        l=50,\n",
    "        r=50,\n",
    "        b=50,\n",
    "        t=50,\n",
    "        pad=4\n",
    "    ),\n",
    "        xaxis=dict(\n",
    "            range=[-1,10],\n",
    "            tickfont=dict(\n",
    "                size=14,\n",
    "                color='rgb(107, 107, 107)'\n",
    "            )\n",
    "        ),\n",
    "        yaxis=dict(\n",
    "            title='Number of Agents (N)',\n",
    "            titlefont=dict(\n",
    "                size=16,\n",
    "                color='rgb(107, 107, 107)'\n",
    "            ),\n",
    "            tickfont=dict(\n",
    "                size=14,\n",
    "                color='rgb(107, 107, 107)'\n",
    "            )\n",
    "        ),\n",
    "        legend=dict(\n",
    "            x=0,\n",
    "            y=1.0,\n",
    "            bgcolor='rgba(255, 255, 255, 0)',\n",
    "            bordercolor='rgba(255, 255, 255, 0)'\n",
    "        ),\n",
    "        barmode='group',\n",
    "        bargap=0.15,\n",
    "        bargroupgap=0.1\n",
    "    )\n",
    "    fig = go.Figure(data=data, layout=layout)\n",
    "    iplot(fig)\n"
   ]
  },
  {
   "cell_type": "markdown",
   "metadata": {
    "extensions": {
     "jupyter_dashboards": {
      "version": 1,
      "views": {
       "grid_default": {
        "col": 0,
        "height": 5,
        "hidden": true,
        "row": 18,
        "width": 4
       },
       "report_default": {}
      }
     }
    }
   },
   "source": [
    "nx.degree_mixing_dict(G)"
   ]
  },
  {
   "cell_type": "markdown",
   "metadata": {
    "extensions": {
     "jupyter_dashboards": {
      "version": 1,
      "views": {
       "grid_default": {
        "hidden": true
       },
       "report_default": {}
      }
     }
    }
   },
   "source": [
    "nx.number_connected_components(G)\n",
    "nx.is_attracting_component(G)"
   ]
  },
  {
   "cell_type": "markdown",
   "metadata": {
    "extensions": {
     "jupyter_dashboards": {
      "version": 1,
      "views": {
       "grid_default": {
        "col": 8,
        "height": 66,
        "hidden": true,
        "row": 16,
        "width": 4
       },
       "report_default": {}
      }
     }
    }
   },
   "source": [
    "for a in nx.connected_components(G):\n",
    "    print len(a)\n",
    "    for p in a:\n",
    "        print p"
   ]
  },
  {
   "cell_type": "markdown",
   "metadata": {
    "extensions": {
     "jupyter_dashboards": {
      "version": 1,
      "views": {
       "grid_default": {
        "hidden": true
       },
       "report_default": {}
      }
     }
    }
   },
   "source": [
    "df = pd.read_csv(\"https://raw.githubusercontent.com/plotly/datasets/master/school_earnings.csv\")\n",
    "\n",
    "table = ff.create_table(df)\n",
    "iplot(table, filename='jupyter-table1')"
   ]
  }
 ],
 "metadata": {
  "extensions": {
   "jupyter_dashboards": {
    "activeView": "grid_default",
    "version": 1,
    "views": {
     "grid_default": {
      "cellMargin": 10,
      "defaultCellHeight": 20,
      "maxColumns": 12,
      "name": "grid",
      "type": "grid"
     },
     "report_default": {
      "name": "report",
      "type": "report"
     }
    }
   }
  },
  "kernelspec": {
   "display_name": "Python 2",
   "language": "python",
   "name": "python2"
  },
  "language_info": {
   "codemirror_mode": {
    "name": "ipython",
    "version": 2
   },
   "file_extension": ".py",
   "mimetype": "text/x-python",
   "name": "python",
   "nbconvert_exporter": "python",
   "pygments_lexer": "ipython2",
   "version": "2.7.14"
  }
 },
 "nbformat": 4,
 "nbformat_minor": 2
}
