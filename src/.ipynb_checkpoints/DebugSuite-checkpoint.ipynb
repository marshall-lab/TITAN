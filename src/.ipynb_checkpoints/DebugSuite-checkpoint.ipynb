{
 "cells": [
  {
   "cell_type": "markdown",
   "metadata": {
    "extensions": {
     "jupyter_dashboards": {
      "version": 1,
      "views": {
       "grid_default": {
        "col": 0,
        "height": 4,
        "hidden": true,
        "row": 15,
        "width": 4
       },
       "report_default": {}
      }
     }
    }
   },
   "source": [
    "Import all of the required packages for this notebook"
   ]
  },
  {
   "cell_type": "code",
   "execution_count": 1,
   "metadata": {
    "extensions": {
     "jupyter_dashboards": {
      "version": 1,
      "views": {
       "grid_default": {
        "hidden": true
       },
       "report_default": {
        "hidden": true
       }
      }
     }
    }
   },
   "outputs": [
    {
     "data": {
      "text/html": [
       "<script>requirejs.config({paths: { 'plotly': ['https://cdn.plot.ly/plotly-latest.min']},});if(!window.Plotly) {{require(['plotly'],function(plotly) {window.Plotly=plotly;});}}</script>"
      ],
      "text/vnd.plotly.v1+html": [
       "<script>requirejs.config({paths: { 'plotly': ['https://cdn.plot.ly/plotly-latest.min']},});if(!window.Plotly) {{require(['plotly'],function(plotly) {window.Plotly=plotly;});}}</script>"
      ]
     },
     "metadata": {},
     "output_type": "display_data"
    }
   ],
   "source": [
    "import ABM_core as tc\n",
    "import networkx as nx\n",
    "import pandas as pd\n",
    "import plotly.plotly as py\n",
    "import plotly.graph_objs as go\n",
    "import plotly.figure_factory as ff\n",
    "from plotly.offline import download_plotlyjs, init_notebook_mode, plot, iplot\n",
    "from ipywidgets import widgets, interact, interactive\n",
    "init_notebook_mode(connected=True)"
   ]
  },
  {
   "cell_type": "code",
   "execution_count": 2,
   "metadata": {
    "extensions": {
     "jupyter_dashboards": {
      "version": 1,
      "views": {
       "grid_default": {
        "col": 0,
        "height": 25,
        "hidden": true,
        "row": 0,
        "width": 6
       },
       "report_default": {
        "hidden": false
       }
      }
     }
    },
    "scrolled": false
   },
   "outputs": [
    {
     "name": "stdout",
     "output_type": "stream",
     "text": [
      "=== Begin Initialization Protocol ===\n",
      "\n",
      "\tDictionary Read\n",
      "\tCreating population Class\n",
      "\tBuilding class sets\n",
      "\tOrganizing subsets and heirarchy\n",
      "\tCreating agents\n",
      "\t__________ TotalAgents __________\n",
      "\tID\t\tMembers\t%\n",
      "\t______________ END ______________\n",
      "\n",
      "\tCreating lists\n",
      "\tReseting death count\n",
      "\tCreating network graph\n",
      "\n",
      " === Initialization Protocol Finished === \n",
      "\n"
     ]
    }
   ],
   "source": [
    "TMP = tc.HIVModel(0, 0, {}, 1)"
   ]
  },
  {
   "cell_type": "code",
   "execution_count": 3,
   "metadata": {
    "extensions": {
     "jupyter_dashboards": {
      "version": 1,
      "views": {
       "grid_default": {
        "hidden": true
       },
       "report_default": {
        "hidden": true
       }
      }
     }
    },
    "scrolled": false
   },
   "outputs": [],
   "source": [
    "out = widgets.Output(layout={'border': '1px solid black'})\n",
    "out_network = widgets.Output(layout={'border': '1px solid black'})\n",
    "out_distrib = widgets.Output(layout={'border': '1px solid black'})"
   ]
  },
  {
   "cell_type": "code",
   "execution_count": null,
   "metadata": {
    "extensions": {
     "jupyter_dashboards": {
      "version": 1,
      "views": {
       "grid_default": {
        "col": 7,
        "height": 4,
        "hidden": false,
        "row": 11,
        "width": 5
       },
       "report_default": {}
      }
     }
    }
   },
   "outputs": [],
   "source": []
  },
  {
   "cell_type": "code",
   "execution_count": 4,
   "metadata": {
    "extensions": {
     "jupyter_dashboards": {
      "version": 1,
      "views": {
       "grid_default": {
        "col": 0,
        "height": 16,
        "hidden": false,
        "row": 15,
        "width": 10
       },
       "report_default": {
        "hidden": true
       }
      }
     }
    }
   },
   "outputs": [
    {
     "data": {
      "application/vnd.jupyter.widget-view+json": {
       "model_id": "0e5a8f96017f48f79768661517985ccc",
       "version_major": 2,
       "version_minor": 0
      },
      "text/html": [
       "<p>Failed to display Jupyter Widget of type <code>HBox</code>.</p>\n",
       "<p>\n",
       "  If you're reading this message in Jupyter Notebook or JupyterLab, it may mean\n",
       "  that the widgets JavaScript is still loading. If this message persists, it\n",
       "  likely means that the widgets JavaScript library is either not installed or\n",
       "  not enabled. See the <a href=\"https://ipywidgets.readthedocs.io/en/stable/user_install.html\">Jupyter\n",
       "  Widgets Documentation</a> for setup instructions.\n",
       "</p>\n",
       "<p>\n",
       "  If you're reading this message in another notebook frontend (for example, a static\n",
       "  rendering on GitHub or <a href=\"https://nbviewer.jupyter.org/\">NBViewer</a>),\n",
       "  it may mean that your frontend doesn't currently support widgets.\n",
       "</p>\n"
      ],
      "text/plain": [
       "HBox(children=(Output(layout=Layout(border=u'1px solid black')), Output(layout=Layout(border=u'1px solid black'))))"
      ]
     },
     "metadata": {},
     "output_type": "display_data"
    }
   ],
   "source": [
    "widgets.HBox([out_distrib, out_network])"
   ]
  },
  {
   "cell_type": "code",
   "execution_count": 8,
   "metadata": {
    "extensions": {
     "jupyter_dashboards": {
      "version": 1,
      "views": {
       "grid_default": {
        "col": 0,
        "height": 15,
        "hidden": false,
        "row": 0,
        "width": 7
       },
       "report_default": {
        "hidden": false
       }
      }
     }
    },
    "scrolled": false
   },
   "outputs": [
    {
     "data": {
      "application/vnd.jupyter.widget-view+json": {
       "model_id": "5a75cdd34fcd4d6a8614dddddeb822be",
       "version_major": 2,
       "version_minor": 0
      },
      "text/html": [
       "<p>Failed to display Jupyter Widget of type <code>HBox</code>.</p>\n",
       "<p>\n",
       "  If you're reading this message in Jupyter Notebook or JupyterLab, it may mean\n",
       "  that the widgets JavaScript is still loading. If this message persists, it\n",
       "  likely means that the widgets JavaScript library is either not installed or\n",
       "  not enabled. See the <a href=\"https://ipywidgets.readthedocs.io/en/stable/user_install.html\">Jupyter\n",
       "  Widgets Documentation</a> for setup instructions.\n",
       "</p>\n",
       "<p>\n",
       "  If you're reading this message in another notebook frontend (for example, a static\n",
       "  rendering on GitHub or <a href=\"https://nbviewer.jupyter.org/\">NBViewer</a>),\n",
       "  it may mean that your frontend doesn't currently support widgets.\n",
       "</p>\n"
      ],
      "text/plain": [
       "HBox(children=(VBox(children=(VBox(children=(IntSlider(value=100, continuous_update=False, description=u'nPop', max=10000), IntSlider(value=12, continuous_update=False, description=u'tMax', max=120), IntSlider(value=1, continuous_update=False, description=u'seed'), Checkbox(value=False, description=u'Draw Network'))), HBox(children=(Button(button_style=u'success', description=u'Run Model', icon=u'play', style=ButtonStyle(), tooltip=u'Start model with given params'), Button(button_style=u'danger', description=u'Reset', icon=u'stop', style=ButtonStyle(), tooltip=u'Clear outputs'))), IntProgress(value=0, bar_style=u'info', description=u'Progress:', max=12))), Output()))"
      ]
     },
     "metadata": {},
     "output_type": "display_data"
    }
   ],
   "source": [
    "nPop = widgets.IntSlider(description='nPop',continuous_update=False, min=0, max=10000, value=100)\n",
    "tMax = widgets.IntSlider(description='tMax',continuous_update=False, min=0, max=120, value=12)\n",
    "seed = widgets.IntSlider(description='seed',continuous_update=False, value=1)\n",
    "draw = widgets.Checkbox(description='Draw Network',value=False,disabled=False)\n",
    "ui_params = widgets.VBox([nPop, tMax, seed, draw])\n",
    "\n",
    "prog = widgets.IntProgress(\n",
    "        value=0,\n",
    "        min=0,\n",
    "        max=tMax.value,\n",
    "        step=1,\n",
    "        description='Progress:',\n",
    "        bar_style='info'\n",
    "        )\n",
    "run = widgets.Button(\n",
    "    description='Run Model',\n",
    "    disabled=False,\n",
    "    button_style='success', # 'success', 'info', 'warning', 'danger' or ''\n",
    "    tooltip='Start model with given params',\n",
    "    icon='play'\n",
    ")\n",
    "reset = widgets.Button(\n",
    "    description='Reset',\n",
    "    disabled=False,\n",
    "    button_style='danger', # 'success', 'info', 'warning', 'danger' or ''\n",
    "    tooltip='Clear outputs',\n",
    "    icon='stop'\n",
    ")\n",
    "\n",
    "ui_buttons = widgets.HBox([run, reset])\n",
    "ui = widgets.VBox([ui_params, ui_buttons, prog])\n",
    "\n",
    "def on_run_clicked(b):\n",
    "    reset_outputs()\n",
    "    with out:\n",
    "        for t in range(1, tMax.value+1):\n",
    "            TMP._update_AllAgents(t)\n",
    "            TMP.TimeStep = t\n",
    "            prog.value = t\n",
    "        TMP.totalAgentClass.print_subsets()\n",
    "        print TMP.NewInfections.num_members()\n",
    "        print TMP.NewDiagnosis.num_members()\n",
    "        \n",
    "    with out_distrib:\n",
    "        if draw.value:\n",
    "            TMP.networkGraph.visualize_network(coloring='HIV',node_size=25)\n",
    "            #draw_Histogram()\n",
    "    with out_network:\n",
    "        if draw.value:\n",
    "            #TMP.networkGraph.visualize_network(coloring='HIV',node_size=25)\n",
    "            TMP.networkGraph.draw_histogram(t)\n",
    "\n",
    "def on_reset_clicked(b):\n",
    "    reset_outputs()\n",
    "    \n",
    "    tmp = seed.value\n",
    "    seed.value=0\n",
    "    seed.value=tmp\n",
    "    prog.value=0\n",
    "\n",
    "def reset_outputs():\n",
    "    outs = [out, out_network, out_distrib]\n",
    "    for o in outs:\n",
    "        o.clear_output()\n",
    "\n",
    "def makeModel(N, T, S):\n",
    "    global TMP\n",
    "    global G\n",
    "    TMP = tc.HIVModel(N, T, {}, S)\n",
    "    TMP.TimeStep = 0\n",
    "    G = TMP.networkGraph.G\n",
    "\n",
    "\n",
    "run.on_click(on_run_clicked)\n",
    "reset.on_click(on_reset_clicked)\n",
    "widgets.jslink((tMax, 'value'), (prog, 'max'))\n",
    "init = widgets.interactive_output(makeModel, {'N': nPop, 'T': tMax, 'S': seed})\n",
    "widgets.HBox([ui, init])"
   ]
  },
  {
   "cell_type": "code",
   "execution_count": 6,
   "metadata": {
    "extensions": {
     "jupyter_dashboards": {
      "version": 1,
      "views": {
       "grid_default": {
        "col": 7,
        "height": 11,
        "hidden": false,
        "row": 0,
        "width": 5
       },
       "report_default": {}
      }
     }
    }
   },
   "outputs": [
    {
     "data": {
      "application/vnd.jupyter.widget-view+json": {
       "model_id": "210e94567b7347bbaa9fd3ebffcb62da",
       "version_major": 2,
       "version_minor": 0
      },
      "text/html": [
       "<p>Failed to display Jupyter Widget of type <code>Output</code>.</p>\n",
       "<p>\n",
       "  If you're reading this message in Jupyter Notebook or JupyterLab, it may mean\n",
       "  that the widgets JavaScript is still loading. If this message persists, it\n",
       "  likely means that the widgets JavaScript library is either not installed or\n",
       "  not enabled. See the <a href=\"https://ipywidgets.readthedocs.io/en/stable/user_install.html\">Jupyter\n",
       "  Widgets Documentation</a> for setup instructions.\n",
       "</p>\n",
       "<p>\n",
       "  If you're reading this message in another notebook frontend (for example, a static\n",
       "  rendering on GitHub or <a href=\"https://nbviewer.jupyter.org/\">NBViewer</a>),\n",
       "  it may mean that your frontend doesn't currently support widgets.\n",
       "</p>\n"
      ],
      "text/plain": [
       "Output(layout=Layout(border=u'1px solid black'))"
      ]
     },
     "metadata": {},
     "output_type": "display_data"
    }
   ],
   "source": [
    "out"
   ]
  },
  {
   "cell_type": "markdown",
   "metadata": {
    "extensions": {
     "jupyter_dashboards": {
      "version": 1,
      "views": {
       "grid_default": {
        "col": 0,
        "height": 4,
        "hidden": true,
        "row": 27,
        "width": 12
       },
       "report_default": {}
      }
     }
    }
   },
   "source": [
    "def draw_Histogram():\n",
    "    data = [go.Bar(\n",
    "                y=(nx.degree_histogram(G)),\n",
    "        marker=dict(\n",
    "            color='rgb(49,130,189)'\n",
    "        )\n",
    "        )]\n",
    "    layout = go.Layout(\n",
    "        title='Partner Degree Distribution',\n",
    "        autosize=False,\n",
    "        width=400,\n",
    "        height=300,\n",
    "        margin=go.Margin(\n",
    "        l=50,\n",
    "        r=50,\n",
    "        b=50,\n",
    "        t=50,\n",
    "        pad=4\n",
    "    ),\n",
    "        xaxis=dict(\n",
    "            range=[-1,10],\n",
    "            tickfont=dict(\n",
    "                size=14,\n",
    "                color='rgb(107, 107, 107)'\n",
    "            )\n",
    "        ),\n",
    "        yaxis=dict(\n",
    "            title='Number of Agents (N)',\n",
    "            titlefont=dict(\n",
    "                size=16,\n",
    "                color='rgb(107, 107, 107)'\n",
    "            ),\n",
    "            tickfont=dict(\n",
    "                size=14,\n",
    "                color='rgb(107, 107, 107)'\n",
    "            )\n",
    "        ),\n",
    "        legend=dict(\n",
    "            x=0,\n",
    "            y=1.0,\n",
    "            bgcolor='rgba(255, 255, 255, 0)',\n",
    "            bordercolor='rgba(255, 255, 255, 0)'\n",
    "        ),\n",
    "        barmode='group',\n",
    "        bargap=0.15,\n",
    "        bargroupgap=0.1\n",
    "    )\n",
    "    fig = go.Figure(data=data, layout=layout)\n",
    "    iplot(fig)\n"
   ]
  },
  {
   "cell_type": "markdown",
   "metadata": {
    "extensions": {
     "jupyter_dashboards": {
      "version": 1,
      "views": {
       "grid_default": {
        "col": 0,
        "height": 5,
        "hidden": false,
        "row": 31,
        "width": 4
       },
       "report_default": {}
      }
     }
    }
   },
   "source": [
    "nx.degree_mixing_dict(G)"
   ]
  },
  {
   "cell_type": "markdown",
   "metadata": {
    "extensions": {
     "jupyter_dashboards": {
      "version": 1,
      "views": {
       "grid_default": {
        "hidden": true
       },
       "report_default": {}
      }
     }
    }
   },
   "source": [
    "nx.number_connected_components(G)\n",
    "nx.is_attracting_component(G)"
   ]
  },
  {
   "cell_type": "markdown",
   "metadata": {
    "extensions": {
     "jupyter_dashboards": {
      "version": 1,
      "views": {
       "grid_default": {
        "col": 8,
        "height": 66,
        "hidden": true,
        "row": 16,
        "width": 4
       },
       "report_default": {}
      }
     }
    }
   },
   "source": [
    "for a in nx.connected_components(G):\n",
    "    print len(a)\n",
    "    for p in a:\n",
    "        print p"
   ]
  },
  {
   "cell_type": "markdown",
   "metadata": {
    "extensions": {
     "jupyter_dashboards": {
      "version": 1,
      "views": {
       "grid_default": {
        "hidden": true
       },
       "report_default": {}
      }
     }
    }
   },
   "source": [
    "df = pd.read_csv(\"https://raw.githubusercontent.com/plotly/datasets/master/school_earnings.csv\")\n",
    "\n",
    "table = ff.create_table(df)\n",
    "iplot(table, filename='jupyter-table1')"
   ]
  },
  {
   "cell_type": "code",
   "execution_count": null,
   "metadata": {
    "extensions": {
     "jupyter_dashboards": {
      "version": 1,
      "views": {
       "grid_default": {
        "hidden": true
       },
       "report_default": {}
      }
     }
    }
   },
   "outputs": [],
   "source": []
  },
  {
   "cell_type": "code",
   "execution_count": null,
   "metadata": {
    "extensions": {
     "jupyter_dashboards": {
      "version": 1,
      "views": {
       "grid_default": {
        "hidden": true
       },
       "report_default": {}
      }
     }
    }
   },
   "outputs": [],
   "source": []
  },
  {
   "cell_type": "code",
   "execution_count": null,
   "metadata": {
    "extensions": {
     "jupyter_dashboards": {
      "version": 1,
      "views": {
       "grid_default": {
        "hidden": true
       },
       "report_default": {}
      }
     }
    }
   },
   "outputs": [],
   "source": []
  }
 ],
 "metadata": {
  "extensions": {
   "jupyter_dashboards": {
    "activeView": "grid_default",
    "version": 1,
    "views": {
     "grid_default": {
      "cellMargin": 10,
      "defaultCellHeight": 20,
      "maxColumns": 12,
      "name": "grid",
      "type": "grid"
     },
     "report_default": {
      "name": "report",
      "type": "report"
     }
    }
   }
  },
  "kernelspec": {
   "display_name": "Python 2",
   "language": "python",
   "name": "python2"
  },
  "language_info": {
   "codemirror_mode": {
    "name": "ipython",
    "version": 2
   },
   "file_extension": ".py",
   "mimetype": "text/x-python",
   "name": "python",
   "nbconvert_exporter": "python",
   "pygments_lexer": "ipython2",
   "version": "2.7.12"
  }
 },
 "nbformat": 4,
 "nbformat_minor": 2
}
